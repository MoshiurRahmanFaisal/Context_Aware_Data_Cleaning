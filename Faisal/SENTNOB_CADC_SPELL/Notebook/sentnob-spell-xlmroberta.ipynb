{
 "cells": [
  {
   "cell_type": "code",
   "execution_count": 1,
   "id": "88556f2a",
   "metadata": {
    "execution": {
     "iopub.execute_input": "2024-02-17T08:37:06.329862Z",
     "iopub.status.busy": "2024-02-17T08:37:06.329579Z",
     "iopub.status.idle": "2024-02-17T08:37:07.903721Z",
     "shell.execute_reply": "2024-02-17T08:37:07.902886Z"
    },
    "id": "d32533c5",
    "papermill": {
     "duration": 1.586094,
     "end_time": "2024-02-17T08:37:07.905974",
     "exception": false,
     "start_time": "2024-02-17T08:37:06.319880",
     "status": "completed"
    },
    "scrolled": true,
    "tags": []
   },
   "outputs": [],
   "source": [
    "import pandas as pd\n",
    "import numpy as np\n",
    "import matplotlib.pyplot as plt\n",
    "from sklearn.feature_extraction.text import TfidfVectorizer"
   ]
  },
  {
   "cell_type": "code",
   "execution_count": 2,
   "id": "5c8e714a",
   "metadata": {
    "execution": {
     "iopub.execute_input": "2024-02-17T08:37:07.924329Z",
     "iopub.status.busy": "2024-02-17T08:37:07.923923Z",
     "iopub.status.idle": "2024-02-17T08:37:09.212249Z",
     "shell.execute_reply": "2024-02-17T08:37:09.211454Z"
    },
    "id": "bba016ba",
    "papermill": {
     "duration": 1.299679,
     "end_time": "2024-02-17T08:37:09.214481",
     "exception": false,
     "start_time": "2024-02-17T08:37:07.914802",
     "status": "completed"
    },
    "scrolled": true,
    "tags": []
   },
   "outputs": [],
   "source": [
    "df_train = pd.read_excel(\"/kaggle/input/sent-nob-clean/sentnob_train.xlsx\")"
   ]
  },
  {
   "cell_type": "code",
   "execution_count": 3,
   "id": "ac1b92b5",
   "metadata": {
    "execution": {
     "iopub.execute_input": "2024-02-17T08:37:09.232768Z",
     "iopub.status.busy": "2024-02-17T08:37:09.232345Z",
     "iopub.status.idle": "2024-02-17T08:37:09.246263Z",
     "shell.execute_reply": "2024-02-17T08:37:09.245411Z"
    },
    "id": "3c2ae414",
    "outputId": "e8ef9e85-dda0-4853-f1f3-64fd5ff173a1",
    "papermill": {
     "duration": 0.025116,
     "end_time": "2024-02-17T08:37:09.248224",
     "exception": false,
     "start_time": "2024-02-17T08:37:09.223108",
     "status": "completed"
    },
    "scrolled": true,
    "tags": []
   },
   "outputs": [
    {
     "data": {
      "text/html": [
       "<div>\n",
       "<style scoped>\n",
       "    .dataframe tbody tr th:only-of-type {\n",
       "        vertical-align: middle;\n",
       "    }\n",
       "\n",
       "    .dataframe tbody tr th {\n",
       "        vertical-align: top;\n",
       "    }\n",
       "\n",
       "    .dataframe thead th {\n",
       "        text-align: right;\n",
       "    }\n",
       "</style>\n",
       "<table border=\"1\" class=\"dataframe\">\n",
       "  <thead>\n",
       "    <tr style=\"text-align: right;\">\n",
       "      <th></th>\n",
       "      <th>Text</th>\n",
       "      <th>Label</th>\n",
       "    </tr>\n",
       "  </thead>\n",
       "  <tbody>\n",
       "    <tr>\n",
       "      <th>0</th>\n",
       "      <td>মুগ্ধ হয়ে গেলাম মামু. আর তোমায় কি কমু. বলো তোম...</td>\n",
       "      <td>1</td>\n",
       "    </tr>\n",
       "    <tr>\n",
       "      <th>1</th>\n",
       "      <td>এই কুত্তার বাচ্চাদের জন্য দেশটা আজ এমন অবস্তা...</td>\n",
       "      <td>2</td>\n",
       "    </tr>\n",
       "    <tr>\n",
       "      <th>2</th>\n",
       "      <td>ভাই আপনার কথাই যাদু রয়েছে</td>\n",
       "      <td>1</td>\n",
       "    </tr>\n",
       "    <tr>\n",
       "      <th>3</th>\n",
       "      <td>উওরটা আমার অনেক ভালো লেগেছে</td>\n",
       "      <td>1</td>\n",
       "    </tr>\n",
       "    <tr>\n",
       "      <th>4</th>\n",
       "      <td>আমার নিজের আমার নিয়ে কি সাজেক যেতে অনেক না? প...</td>\n",
       "      <td>0</td>\n",
       "    </tr>\n",
       "  </tbody>\n",
       "</table>\n",
       "</div>"
      ],
      "text/plain": [
       "                                                Text  Label\n",
       "0  মুগ্ধ হয়ে গেলাম মামু. আর তোমায় কি কমু. বলো তোম...      1\n",
       "1   এই কুত্তার বাচ্চাদের জন্য দেশটা আজ এমন অবস্তা...      2\n",
       "2                         ভাই আপনার কথাই যাদু রয়েছে       1\n",
       "3                       উওরটা আমার অনেক ভালো লেগেছে       1\n",
       "4   আমার নিজের আমার নিয়ে কি সাজেক যেতে অনেক না? প...      0"
      ]
     },
     "execution_count": 3,
     "metadata": {},
     "output_type": "execute_result"
    }
   ],
   "source": [
    "df_train.head()"
   ]
  },
  {
   "cell_type": "code",
   "execution_count": 4,
   "id": "7b644ce8",
   "metadata": {
    "execution": {
     "iopub.execute_input": "2024-02-17T08:37:09.267972Z",
     "iopub.status.busy": "2024-02-17T08:37:09.267288Z",
     "iopub.status.idle": "2024-02-17T08:37:09.273262Z",
     "shell.execute_reply": "2024-02-17T08:37:09.272545Z"
    },
    "id": "4d94877e",
    "papermill": {
     "duration": 0.018409,
     "end_time": "2024-02-17T08:37:09.275156",
     "exception": false,
     "start_time": "2024-02-17T08:37:09.256747",
     "status": "completed"
    },
    "tags": []
   },
   "outputs": [],
   "source": [
    "df_train.dropna(inplace=True)"
   ]
  },
  {
   "cell_type": "code",
   "execution_count": 5,
   "id": "c2ab9b63",
   "metadata": {
    "execution": {
     "iopub.execute_input": "2024-02-17T08:37:09.293210Z",
     "iopub.status.busy": "2024-02-17T08:37:09.292962Z",
     "iopub.status.idle": "2024-02-17T08:37:09.300299Z",
     "shell.execute_reply": "2024-02-17T08:37:09.299526Z"
    },
    "papermill": {
     "duration": 0.018903,
     "end_time": "2024-02-17T08:37:09.302635",
     "exception": false,
     "start_time": "2024-02-17T08:37:09.283732",
     "status": "completed"
    },
    "tags": []
   },
   "outputs": [
    {
     "name": "stdout",
     "output_type": "stream",
     "text": [
      "374\n"
     ]
    }
   ],
   "source": [
    "longest_string = max(df_train[\"Text\"], key=len)\n",
    "print(len(longest_string))"
   ]
  },
  {
   "cell_type": "code",
   "execution_count": 6,
   "id": "0d0f59b4",
   "metadata": {
    "execution": {
     "iopub.execute_input": "2024-02-17T08:37:09.320715Z",
     "iopub.status.busy": "2024-02-17T08:37:09.320443Z",
     "iopub.status.idle": "2024-02-17T08:37:09.330799Z",
     "shell.execute_reply": "2024-02-17T08:37:09.329965Z"
    },
    "papermill": {
     "duration": 0.021481,
     "end_time": "2024-02-17T08:37:09.332834",
     "exception": false,
     "start_time": "2024-02-17T08:37:09.311353",
     "status": "completed"
    },
    "tags": []
   },
   "outputs": [
    {
     "data": {
      "text/plain": [
       "Label\n",
       "1    5133\n",
       "2    4548\n",
       "0    2894\n",
       "Name: count, dtype: int64"
      ]
     },
     "execution_count": 6,
     "metadata": {},
     "output_type": "execute_result"
    }
   ],
   "source": [
    "df_train['Label'].value_counts()"
   ]
  },
  {
   "cell_type": "code",
   "execution_count": 7,
   "id": "7c0faf13",
   "metadata": {
    "execution": {
     "iopub.execute_input": "2024-02-17T08:37:09.352370Z",
     "iopub.status.busy": "2024-02-17T08:37:09.352111Z",
     "iopub.status.idle": "2024-02-17T08:37:09.359316Z",
     "shell.execute_reply": "2024-02-17T08:37:09.358611Z"
    },
    "papermill": {
     "duration": 0.018571,
     "end_time": "2024-02-17T08:37:09.361154",
     "exception": false,
     "start_time": "2024-02-17T08:37:09.342583",
     "status": "completed"
    },
    "tags": []
   },
   "outputs": [],
   "source": [
    "df_train['Label'] = df_train['Label'].replace({0: 'Neutral', 1: 'Positive', 2: 'Negative'})"
   ]
  },
  {
   "cell_type": "code",
   "execution_count": 8,
   "id": "52202c19",
   "metadata": {
    "execution": {
     "iopub.execute_input": "2024-02-17T08:37:09.379292Z",
     "iopub.status.busy": "2024-02-17T08:37:09.379025Z",
     "iopub.status.idle": "2024-02-17T08:37:09.578679Z",
     "shell.execute_reply": "2024-02-17T08:37:09.577906Z"
    },
    "papermill": {
     "duration": 0.211162,
     "end_time": "2024-02-17T08:37:09.580926",
     "exception": false,
     "start_time": "2024-02-17T08:37:09.369764",
     "status": "completed"
    },
    "tags": []
   },
   "outputs": [],
   "source": [
    "df_val = pd.read_excel(\"/kaggle/input/sent-nob-clean/sentnob_val.xlsx\")"
   ]
  },
  {
   "cell_type": "code",
   "execution_count": 9,
   "id": "df9f5421",
   "metadata": {
    "execution": {
     "iopub.execute_input": "2024-02-17T08:37:09.600191Z",
     "iopub.status.busy": "2024-02-17T08:37:09.599508Z",
     "iopub.status.idle": "2024-02-17T08:37:09.604201Z",
     "shell.execute_reply": "2024-02-17T08:37:09.603526Z"
    },
    "papermill": {
     "duration": 0.016339,
     "end_time": "2024-02-17T08:37:09.606244",
     "exception": false,
     "start_time": "2024-02-17T08:37:09.589905",
     "status": "completed"
    },
    "tags": []
   },
   "outputs": [],
   "source": [
    "df_val.dropna(inplace=True)"
   ]
  },
  {
   "cell_type": "code",
   "execution_count": 10,
   "id": "4b898b24",
   "metadata": {
    "execution": {
     "iopub.execute_input": "2024-02-17T08:37:09.624544Z",
     "iopub.status.busy": "2024-02-17T08:37:09.624266Z",
     "iopub.status.idle": "2024-02-17T08:37:09.630739Z",
     "shell.execute_reply": "2024-02-17T08:37:09.629930Z"
    },
    "papermill": {
     "duration": 0.017665,
     "end_time": "2024-02-17T08:37:09.632524",
     "exception": false,
     "start_time": "2024-02-17T08:37:09.614859",
     "status": "completed"
    },
    "tags": []
   },
   "outputs": [
    {
     "data": {
      "text/plain": [
       "Label\n",
       "1    623\n",
       "2    590\n",
       "0    354\n",
       "Name: count, dtype: int64"
      ]
     },
     "execution_count": 10,
     "metadata": {},
     "output_type": "execute_result"
    }
   ],
   "source": [
    "df_val['Label'].value_counts()"
   ]
  },
  {
   "cell_type": "code",
   "execution_count": 11,
   "id": "feda895c",
   "metadata": {
    "execution": {
     "iopub.execute_input": "2024-02-17T08:37:09.651186Z",
     "iopub.status.busy": "2024-02-17T08:37:09.650928Z",
     "iopub.status.idle": "2024-02-17T08:37:09.656214Z",
     "shell.execute_reply": "2024-02-17T08:37:09.655521Z"
    },
    "papermill": {
     "duration": 0.01667,
     "end_time": "2024-02-17T08:37:09.658023",
     "exception": false,
     "start_time": "2024-02-17T08:37:09.641353",
     "status": "completed"
    },
    "tags": []
   },
   "outputs": [],
   "source": [
    "df_val['Label'] = df_val['Label'].replace({0: 'Neutral', 1: 'Positive', 2: 'Negative'})"
   ]
  },
  {
   "cell_type": "code",
   "execution_count": 12,
   "id": "41535268",
   "metadata": {
    "execution": {
     "iopub.execute_input": "2024-02-17T08:37:09.676732Z",
     "iopub.status.busy": "2024-02-17T08:37:09.676447Z",
     "iopub.status.idle": "2024-02-17T08:37:09.683067Z",
     "shell.execute_reply": "2024-02-17T08:37:09.682257Z"
    },
    "papermill": {
     "duration": 0.018142,
     "end_time": "2024-02-17T08:37:09.684949",
     "exception": false,
     "start_time": "2024-02-17T08:37:09.666807",
     "status": "completed"
    },
    "tags": []
   },
   "outputs": [
    {
     "data": {
      "text/plain": [
       "Label\n",
       "Positive    623\n",
       "Negative    590\n",
       "Neutral     354\n",
       "Name: count, dtype: int64"
      ]
     },
     "execution_count": 12,
     "metadata": {},
     "output_type": "execute_result"
    }
   ],
   "source": [
    "df_val['Label'].value_counts()"
   ]
  },
  {
   "cell_type": "code",
   "execution_count": 13,
   "id": "04667860",
   "metadata": {
    "execution": {
     "iopub.execute_input": "2024-02-17T08:37:09.704028Z",
     "iopub.status.busy": "2024-02-17T08:37:09.703536Z",
     "iopub.status.idle": "2024-02-17T08:37:09.707105Z",
     "shell.execute_reply": "2024-02-17T08:37:09.706341Z"
    },
    "papermill": {
     "duration": 0.015,
     "end_time": "2024-02-17T08:37:09.708884",
     "exception": false,
     "start_time": "2024-02-17T08:37:09.693884",
     "status": "completed"
    },
    "tags": []
   },
   "outputs": [],
   "source": [
    "# from sklearn.model_selection import train_test_split\n",
    "\n",
    "# train_df, test_df = train_test_split(, test_size=0.2,stratify=df['classes'],random_state=42)\n"
   ]
  },
  {
   "cell_type": "code",
   "execution_count": 14,
   "id": "25090172",
   "metadata": {
    "execution": {
     "iopub.execute_input": "2024-02-17T08:37:09.727738Z",
     "iopub.status.busy": "2024-02-17T08:37:09.727458Z",
     "iopub.status.idle": "2024-02-17T08:37:09.731905Z",
     "shell.execute_reply": "2024-02-17T08:37:09.731144Z"
    },
    "id": "SkHget_6VKIl",
    "papermill": {
     "duration": 0.015993,
     "end_time": "2024-02-17T08:37:09.733787",
     "exception": false,
     "start_time": "2024-02-17T08:37:09.717794",
     "status": "completed"
    },
    "tags": []
   },
   "outputs": [],
   "source": [
    "X_train  =  df_train['Text'].values.tolist()\n",
    "y_train = df_train['Label'].tolist()"
   ]
  },
  {
   "cell_type": "code",
   "execution_count": 15,
   "id": "9102190d",
   "metadata": {
    "execution": {
     "iopub.execute_input": "2024-02-17T08:37:09.752635Z",
     "iopub.status.busy": "2024-02-17T08:37:09.752362Z",
     "iopub.status.idle": "2024-02-17T08:37:09.756424Z",
     "shell.execute_reply": "2024-02-17T08:37:09.755623Z"
    },
    "id": "oAFSbfrQVTDr",
    "papermill": {
     "duration": 0.01561,
     "end_time": "2024-02-17T08:37:09.758236",
     "exception": false,
     "start_time": "2024-02-17T08:37:09.742626",
     "status": "completed"
    },
    "tags": []
   },
   "outputs": [],
   "source": [
    "X_test =  df_val['Text'].values.tolist()\n",
    "y_test = df_val['Label'].tolist()"
   ]
  },
  {
   "cell_type": "code",
   "execution_count": 16,
   "id": "ec90e0df",
   "metadata": {
    "execution": {
     "iopub.execute_input": "2024-02-17T08:37:09.776935Z",
     "iopub.status.busy": "2024-02-17T08:37:09.776676Z",
     "iopub.status.idle": "2024-02-17T08:37:53.061097Z",
     "shell.execute_reply": "2024-02-17T08:37:53.059972Z"
    },
    "papermill": {
     "duration": 43.296101,
     "end_time": "2024-02-17T08:37:53.063271",
     "exception": false,
     "start_time": "2024-02-17T08:37:09.767170",
     "status": "completed"
    },
    "tags": []
   },
   "outputs": [
    {
     "name": "stdout",
     "output_type": "stream",
     "text": [
      "Collecting ktrain\r\n",
      "  Downloading ktrain-0.40.0.tar.gz (25.3 MB)\r\n",
      "\u001b[2K     \u001b[90m━━━━━━━━━━━━━━━━━━━━━━━━━━━━━━━━━━━━━━━━\u001b[0m \u001b[32m25.3/25.3 MB\u001b[0m \u001b[31m43.4 MB/s\u001b[0m eta \u001b[36m0:00:00\u001b[0m\r\n",
      "\u001b[?25h  Preparing metadata (setup.py) ... \u001b[?25l-\b \bdone\r\n",
      "\u001b[?25hRequirement already satisfied: scikit-learn in /opt/conda/lib/python3.10/site-packages (from ktrain) (1.2.2)\r\n",
      "Requirement already satisfied: matplotlib>=3.0.0 in /opt/conda/lib/python3.10/site-packages (from ktrain) (3.7.4)\r\n",
      "Requirement already satisfied: pandas>=1.0.1 in /opt/conda/lib/python3.10/site-packages (from ktrain) (2.1.4)\r\n",
      "Requirement already satisfied: fastprogress>=0.1.21 in /opt/conda/lib/python3.10/site-packages (from ktrain) (1.0.3)\r\n",
      "Requirement already satisfied: requests in /opt/conda/lib/python3.10/site-packages (from ktrain) (2.31.0)\r\n",
      "Requirement already satisfied: joblib in /opt/conda/lib/python3.10/site-packages (from ktrain) (1.3.2)\r\n",
      "Requirement already satisfied: packaging in /opt/conda/lib/python3.10/site-packages (from ktrain) (21.3)\r\n",
      "Collecting langdetect (from ktrain)\r\n",
      "  Downloading langdetect-1.0.9.tar.gz (981 kB)\r\n",
      "\u001b[2K     \u001b[90m━━━━━━━━━━━━━━━━━━━━━━━━━━━━━━━━━━━━━━\u001b[0m \u001b[32m981.5/981.5 kB\u001b[0m \u001b[31m46.2 MB/s\u001b[0m eta \u001b[36m0:00:00\u001b[0m\r\n",
      "\u001b[?25h  Preparing metadata (setup.py) ... \u001b[?25l-\b \bdone\r\n",
      "\u001b[?25hRequirement already satisfied: jieba in /opt/conda/lib/python3.10/site-packages (from ktrain) (0.42.1)\r\n",
      "Requirement already satisfied: charset-normalizer in /opt/conda/lib/python3.10/site-packages (from ktrain) (3.3.2)\r\n",
      "Collecting chardet (from ktrain)\r\n",
      "  Downloading chardet-5.2.0-py3-none-any.whl.metadata (3.4 kB)\r\n",
      "Collecting syntok>1.3.3 (from ktrain)\r\n",
      "  Downloading syntok-1.4.4-py3-none-any.whl (24 kB)\r\n",
      "Collecting tika (from ktrain)\r\n",
      "  Downloading tika-2.6.0.tar.gz (27 kB)\r\n",
      "  Preparing metadata (setup.py) ... \u001b[?25l-\b \bdone\r\n",
      "\u001b[?25hRequirement already satisfied: transformers>=4.17.0 in /opt/conda/lib/python3.10/site-packages (from ktrain) (4.37.0)\r\n",
      "Requirement already satisfied: sentencepiece in /opt/conda/lib/python3.10/site-packages (from ktrain) (0.1.99)\r\n",
      "Collecting keras_bert>=0.86.0 (from ktrain)\r\n",
      "  Downloading keras-bert-0.89.0.tar.gz (25 kB)\r\n",
      "  Preparing metadata (setup.py) ... \u001b[?25l-\b \bdone\r\n",
      "\u001b[?25hCollecting whoosh (from ktrain)\r\n",
      "  Downloading Whoosh-2.7.4-py2.py3-none-any.whl (468 kB)\r\n",
      "\u001b[2K     \u001b[90m━━━━━━━━━━━━━━━━━━━━━━━━━━━━━━━━━━━━━━\u001b[0m \u001b[32m468.8/468.8 kB\u001b[0m \u001b[31m28.2 MB/s\u001b[0m eta \u001b[36m0:00:00\u001b[0m\r\n",
      "\u001b[?25hRequirement already satisfied: numpy in /opt/conda/lib/python3.10/site-packages (from keras_bert>=0.86.0->ktrain) (1.24.4)\r\n",
      "Collecting keras-transformer==0.40.0 (from keras_bert>=0.86.0->ktrain)\r\n",
      "  Downloading keras-transformer-0.40.0.tar.gz (9.7 kB)\r\n",
      "  Preparing metadata (setup.py) ... \u001b[?25l-\b \bdone\r\n",
      "\u001b[?25hCollecting keras-pos-embd==0.13.0 (from keras-transformer==0.40.0->keras_bert>=0.86.0->ktrain)\r\n",
      "  Downloading keras-pos-embd-0.13.0.tar.gz (5.6 kB)\r\n",
      "  Preparing metadata (setup.py) ... \u001b[?25l-\b \bdone\r\n",
      "\u001b[?25hCollecting keras-multi-head==0.29.0 (from keras-transformer==0.40.0->keras_bert>=0.86.0->ktrain)\r\n",
      "  Downloading keras-multi-head-0.29.0.tar.gz (13 kB)\r\n",
      "  Preparing metadata (setup.py) ... \u001b[?25l-\b \bdone\r\n",
      "\u001b[?25hCollecting keras-layer-normalization==0.16.0 (from keras-transformer==0.40.0->keras_bert>=0.86.0->ktrain)\r\n",
      "  Downloading keras-layer-normalization-0.16.0.tar.gz (3.9 kB)\r\n",
      "  Preparing metadata (setup.py) ... \u001b[?25l-\b \bdone\r\n",
      "\u001b[?25hCollecting keras-position-wise-feed-forward==0.8.0 (from keras-transformer==0.40.0->keras_bert>=0.86.0->ktrain)\r\n",
      "  Downloading keras-position-wise-feed-forward-0.8.0.tar.gz (4.1 kB)\r\n",
      "  Preparing metadata (setup.py) ... \u001b[?25l-\b \bdone\r\n",
      "\u001b[?25hCollecting keras-embed-sim==0.10.0 (from keras-transformer==0.40.0->keras_bert>=0.86.0->ktrain)\r\n",
      "  Downloading keras-embed-sim-0.10.0.tar.gz (3.6 kB)\r\n",
      "  Preparing metadata (setup.py) ... \u001b[?25l-\b \bdone\r\n",
      "\u001b[?25hCollecting keras-self-attention==0.51.0 (from keras-multi-head==0.29.0->keras-transformer==0.40.0->keras_bert>=0.86.0->ktrain)\r\n",
      "  Downloading keras-self-attention-0.51.0.tar.gz (11 kB)\r\n",
      "  Preparing metadata (setup.py) ... \u001b[?25l-\b \bdone\r\n",
      "\u001b[?25hRequirement already satisfied: contourpy>=1.0.1 in /opt/conda/lib/python3.10/site-packages (from matplotlib>=3.0.0->ktrain) (1.2.0)\r\n",
      "Requirement already satisfied: cycler>=0.10 in /opt/conda/lib/python3.10/site-packages (from matplotlib>=3.0.0->ktrain) (0.12.1)\r\n",
      "Requirement already satisfied: fonttools>=4.22.0 in /opt/conda/lib/python3.10/site-packages (from matplotlib>=3.0.0->ktrain) (4.47.0)\r\n",
      "Requirement already satisfied: kiwisolver>=1.0.1 in /opt/conda/lib/python3.10/site-packages (from matplotlib>=3.0.0->ktrain) (1.4.5)\r\n",
      "Requirement already satisfied: pillow>=6.2.0 in /opt/conda/lib/python3.10/site-packages (from matplotlib>=3.0.0->ktrain) (9.5.0)\r\n",
      "Requirement already satisfied: pyparsing>=2.3.1 in /opt/conda/lib/python3.10/site-packages (from matplotlib>=3.0.0->ktrain) (3.1.1)\r\n",
      "Requirement already satisfied: python-dateutil>=2.7 in /opt/conda/lib/python3.10/site-packages (from matplotlib>=3.0.0->ktrain) (2.8.2)\r\n",
      "Requirement already satisfied: pytz>=2020.1 in /opt/conda/lib/python3.10/site-packages (from pandas>=1.0.1->ktrain) (2023.3.post1)\r\n",
      "Requirement already satisfied: tzdata>=2022.1 in /opt/conda/lib/python3.10/site-packages (from pandas>=1.0.1->ktrain) (2023.4)\r\n",
      "Requirement already satisfied: regex>2016 in /opt/conda/lib/python3.10/site-packages (from syntok>1.3.3->ktrain) (2023.12.25)\r\n",
      "Requirement already satisfied: filelock in /opt/conda/lib/python3.10/site-packages (from transformers>=4.17.0->ktrain) (3.13.1)\r\n",
      "Requirement already satisfied: huggingface-hub<1.0,>=0.19.3 in /opt/conda/lib/python3.10/site-packages (from transformers>=4.17.0->ktrain) (0.20.3)\r\n",
      "Requirement already satisfied: pyyaml>=5.1 in /opt/conda/lib/python3.10/site-packages (from transformers>=4.17.0->ktrain) (6.0.1)\r\n",
      "Requirement already satisfied: tokenizers<0.19,>=0.14 in /opt/conda/lib/python3.10/site-packages (from transformers>=4.17.0->ktrain) (0.15.1)\r\n",
      "Requirement already satisfied: safetensors>=0.3.1 in /opt/conda/lib/python3.10/site-packages (from transformers>=4.17.0->ktrain) (0.4.2)\r\n",
      "Requirement already satisfied: tqdm>=4.27 in /opt/conda/lib/python3.10/site-packages (from transformers>=4.17.0->ktrain) (4.66.1)\r\n",
      "Requirement already satisfied: six in /opt/conda/lib/python3.10/site-packages (from langdetect->ktrain) (1.16.0)\r\n",
      "Requirement already satisfied: idna<4,>=2.5 in /opt/conda/lib/python3.10/site-packages (from requests->ktrain) (3.6)\r\n",
      "Requirement already satisfied: urllib3<3,>=1.21.1 in /opt/conda/lib/python3.10/site-packages (from requests->ktrain) (1.26.18)\r\n",
      "Requirement already satisfied: certifi>=2017.4.17 in /opt/conda/lib/python3.10/site-packages (from requests->ktrain) (2023.11.17)\r\n",
      "Requirement already satisfied: scipy>=1.3.2 in /opt/conda/lib/python3.10/site-packages (from scikit-learn->ktrain) (1.11.4)\r\n",
      "Requirement already satisfied: threadpoolctl>=2.0.0 in /opt/conda/lib/python3.10/site-packages (from scikit-learn->ktrain) (3.2.0)\r\n",
      "Requirement already satisfied: setuptools in /opt/conda/lib/python3.10/site-packages (from tika->ktrain) (69.0.3)\r\n",
      "Requirement already satisfied: fsspec>=2023.5.0 in /opt/conda/lib/python3.10/site-packages (from huggingface-hub<1.0,>=0.19.3->transformers>=4.17.0->ktrain) (2023.12.2)\r\n",
      "Requirement already satisfied: typing-extensions>=3.7.4.3 in /opt/conda/lib/python3.10/site-packages (from huggingface-hub<1.0,>=0.19.3->transformers>=4.17.0->ktrain) (4.9.0)\r\n",
      "Downloading chardet-5.2.0-py3-none-any.whl (199 kB)\r\n",
      "\u001b[2K   \u001b[90m━━━━━━━━━━━━━━━━━━━━━━━━━━━━━━━━━━━━━━━━\u001b[0m \u001b[32m199.4/199.4 kB\u001b[0m \u001b[31m11.5 MB/s\u001b[0m eta \u001b[36m0:00:00\u001b[0m\r\n",
      "\u001b[?25hBuilding wheels for collected packages: ktrain, keras_bert, keras-transformer, keras-embed-sim, keras-layer-normalization, keras-multi-head, keras-pos-embd, keras-position-wise-feed-forward, keras-self-attention, langdetect, tika\r\n",
      "  Building wheel for ktrain (setup.py) ... \u001b[?25l-\b \b\\\b \bdone\r\n",
      "\u001b[?25h  Created wheel for ktrain: filename=ktrain-0.40.0-py3-none-any.whl size=25319454 sha256=ebf291e430d2da84d3bcd1a1754ed36fc0d6480af2f826c8a8bcc1db5e216ba7\r\n",
      "  Stored in directory: /root/.cache/pip/wheels/00/2d/0f/1fcda4d8c9a77b360dc1df7b43458ef5c95fcb85f556a8d211\r\n",
      "  Building wheel for keras_bert (setup.py) ... \u001b[?25l-\b \b\\\b \bdone\r\n",
      "\u001b[?25h  Created wheel for keras_bert: filename=keras_bert-0.89.0-py3-none-any.whl size=33499 sha256=4f2d51af2af2c646a3778c2468aeda72e417215c7ddf1ff2d50185810be547a1\r\n",
      "  Stored in directory: /root/.cache/pip/wheels/89/0c/04/646b6fdf6375911b42c8d540a8a3fda8d5d77634e5dcbe7b26\r\n",
      "  Building wheel for keras-transformer (setup.py) ... \u001b[?25l-\b \b\\\b \bdone\r\n",
      "\u001b[?25h  Created wheel for keras-transformer: filename=keras_transformer-0.40.0-py3-none-any.whl size=12286 sha256=0c05a0015ecfd13d9264d5d65c8d44cd669633445351830be281ed3a59aea914\r\n",
      "  Stored in directory: /root/.cache/pip/wheels/f2/cb/22/75a0ad376129177f7c95c0d91331a18f5368fd657f4035ba7c\r\n",
      "  Building wheel for keras-embed-sim (setup.py) ... \u001b[?25l-\b \b\\\b \bdone\r\n",
      "\u001b[?25h  Created wheel for keras-embed-sim: filename=keras_embed_sim-0.10.0-py3-none-any.whl size=3943 sha256=464a504c7341df1b4a64ff4a29a9ea857eeabbab482313496921ca4bb1aaf753\r\n",
      "  Stored in directory: /root/.cache/pip/wheels/82/32/c7/fd35d0d1b840a6c7cbd4343f808d10d0f7b87d271a4dbe796f\r\n",
      "  Building wheel for keras-layer-normalization (setup.py) ... \u001b[?25l-\b \b\\\b \bdone\r\n",
      "\u001b[?25h  Created wheel for keras-layer-normalization: filename=keras_layer_normalization-0.16.0-py3-none-any.whl size=4653 sha256=b9660042da7c5869c34d614258665950687537f52c708f78454cbb88649d3848\r\n",
      "  Stored in directory: /root/.cache/pip/wheels/ed/3a/4b/21db23c0cc56c4b219616e181f258eb7c57d36cc5d056fae9a\r\n",
      "  Building wheel for keras-multi-head (setup.py) ... \u001b[?25l-\b \b\\\b \bdone\r\n",
      "\u001b[?25h  Created wheel for keras-multi-head: filename=keras_multi_head-0.29.0-py3-none-any.whl size=14975 sha256=c3e5ad5d8c0e88439aee052e7a3d5d8819eda682e225c6c0c0dc7e56fa5b91b5\r\n",
      "  Stored in directory: /root/.cache/pip/wheels/cb/23/4b/06d7ae21714f70fcc25b48f972cc8e5e7f4b6b764a038b509d\r\n",
      "  Building wheel for keras-pos-embd (setup.py) ... \u001b[?25l-\b \b\\\b \bdone\r\n",
      "\u001b[?25h  Created wheel for keras-pos-embd: filename=keras_pos_embd-0.13.0-py3-none-any.whl size=6946 sha256=e41f7c0dd9208d9e803abf63acfbc2e26cba2b523af72bacc6eadb2c20f316ac\r\n",
      "  Stored in directory: /root/.cache/pip/wheels/78/07/1b/b1ca47b6ac338554b75c8f52c54e6a2bfbe1b07d79579979a4\r\n",
      "  Building wheel for keras-position-wise-feed-forward (setup.py) ... \u001b[?25l-\b \b\\\b \bdone\r\n",
      "\u001b[?25h  Created wheel for keras-position-wise-feed-forward: filename=keras_position_wise_feed_forward-0.8.0-py3-none-any.whl size=4968 sha256=777f90e659c41b12754b6b67fc185cfc94448e2040b4f8abd782dbb70ab71c02\r\n",
      "  Stored in directory: /root/.cache/pip/wheels/c1/6a/04/d1706a53b23b2cb5f9a0a76269bf87925daa1bca09eac01b21\r\n",
      "  Building wheel for keras-self-attention (setup.py) ... \u001b[?25l-\b \b\\\b \bdone\r\n",
      "\u001b[?25h  Created wheel for keras-self-attention: filename=keras_self_attention-0.51.0-py3-none-any.whl size=18895 sha256=ef55311e389f4d5353e0b3998f951561f3f1e1674876a4e5345aeb1e966ecf18\r\n",
      "  Stored in directory: /root/.cache/pip/wheels/b8/f7/24/607b483144fb9c47b4ba2c5fba6b68e54aeee2d5bf6c05302e\r\n",
      "  Building wheel for langdetect (setup.py) ... \u001b[?25l-\b \bdone\r\n",
      "\u001b[?25h  Created wheel for langdetect: filename=langdetect-1.0.9-py3-none-any.whl size=993225 sha256=e043172684ef4217c8cd8bfd9b16b515039ac60cc91913cfeeaa099d1e0bf703\r\n",
      "  Stored in directory: /root/.cache/pip/wheels/95/03/7d/59ea870c70ce4e5a370638b5462a7711ab78fba2f655d05106\r\n",
      "  Building wheel for tika (setup.py) ... \u001b[?25l-\b \bdone\r\n",
      "\u001b[?25h  Created wheel for tika: filename=tika-2.6.0-py3-none-any.whl size=32622 sha256=4bb52b04e72c999753a6f942aad3e4575f6d1bdc15e395d557a832fc0f7b6081\r\n",
      "  Stored in directory: /root/.cache/pip/wheels/5f/71/c7/b757709531121b1700cffda5b6b0d4aad095fb507ec84316d0\r\n",
      "Successfully built ktrain keras_bert keras-transformer keras-embed-sim keras-layer-normalization keras-multi-head keras-pos-embd keras-position-wise-feed-forward keras-self-attention langdetect tika\r\n",
      "Installing collected packages: whoosh, syntok, langdetect, keras-self-attention, keras-position-wise-feed-forward, keras-pos-embd, keras-layer-normalization, keras-embed-sim, chardet, tika, keras-multi-head, keras-transformer, keras_bert, ktrain\r\n",
      "Successfully installed chardet-5.2.0 keras-embed-sim-0.10.0 keras-layer-normalization-0.16.0 keras-multi-head-0.29.0 keras-pos-embd-0.13.0 keras-position-wise-feed-forward-0.8.0 keras-self-attention-0.51.0 keras-transformer-0.40.0 keras_bert-0.89.0 ktrain-0.40.0 langdetect-1.0.9 syntok-1.4.4 tika-2.6.0 whoosh-2.7.4\r\n",
      "Note: you may need to restart the kernel to use updated packages.\n"
     ]
    }
   ],
   "source": [
    "pip install ktrain"
   ]
  },
  {
   "cell_type": "code",
   "execution_count": 17,
   "id": "c6ff0614",
   "metadata": {
    "editable": true,
    "execution": {
     "iopub.execute_input": "2024-02-17T08:37:53.095944Z",
     "iopub.status.busy": "2024-02-17T08:37:53.095586Z",
     "iopub.status.idle": "2024-02-17T08:38:19.034060Z",
     "shell.execute_reply": "2024-02-17T08:38:19.032909Z"
    },
    "id": "fe9e61fb",
    "papermill": {
     "duration": 25.958518,
     "end_time": "2024-02-17T08:38:19.037472",
     "exception": false,
     "start_time": "2024-02-17T08:37:53.078954",
     "status": "completed"
    },
    "scrolled": true,
    "slideshow": {
     "slide_type": ""
    },
    "tags": []
   },
   "outputs": [
    {
     "data": {
      "application/vnd.jupyter.widget-view+json": {
       "model_id": "7c1368e65ad047db947b5b0e71b76cea",
       "version_major": 2,
       "version_minor": 0
      },
      "text/plain": [
       "config.json:   0%|          | 0.00/615 [00:00<?, ?B/s]"
      ]
     },
     "metadata": {},
     "output_type": "display_data"
    },
    {
     "data": {
      "application/vnd.jupyter.widget-view+json": {
       "model_id": "a026adfb4f3943f3829fb67a34f7a6d5",
       "version_major": 2,
       "version_minor": 0
      },
      "text/plain": [
       "model.safetensors:   0%|          | 0.00/1.12G [00:00<?, ?B/s]"
      ]
     },
     "metadata": {},
     "output_type": "display_data"
    }
   ],
   "source": [
    "import ktrain\n",
    "from ktrain import text\n",
    "MODEL_NAME = 'FacebookAI/xlm-roberta-base'\n",
    "t = text.Transformer(MODEL_NAME, maxlen=500)"
   ]
  },
  {
   "cell_type": "code",
   "execution_count": 18,
   "id": "745870e0",
   "metadata": {
    "execution": {
     "iopub.execute_input": "2024-02-17T08:38:19.090377Z",
     "iopub.status.busy": "2024-02-17T08:38:19.090040Z",
     "iopub.status.idle": "2024-02-17T08:38:28.812813Z",
     "shell.execute_reply": "2024-02-17T08:38:28.812046Z"
    },
    "id": "c269013f",
    "outputId": "cb456b25-48e5-4d5c-958b-2198c5418e05",
    "papermill": {
     "duration": 9.748664,
     "end_time": "2024-02-17T08:38:28.814759",
     "exception": false,
     "start_time": "2024-02-17T08:38:19.066095",
     "status": "completed"
    },
    "tags": []
   },
   "outputs": [
    {
     "name": "stdout",
     "output_type": "stream",
     "text": [
      "preprocessing train...\n",
      "language: bn\n",
      "train sequence lengths:\n",
      "\tmean : 15\n",
      "\t95percentile : 36\n",
      "\t99percentile : 46\n"
     ]
    },
    {
     "data": {
      "application/vnd.jupyter.widget-view+json": {
       "model_id": "cd2523d2869d4f97af8d06b906065c38",
       "version_major": 2,
       "version_minor": 0
      },
      "text/plain": [
       "sentencepiece.bpe.model:   0%|          | 0.00/5.07M [00:00<?, ?B/s]"
      ]
     },
     "metadata": {},
     "output_type": "display_data"
    },
    {
     "data": {
      "application/vnd.jupyter.widget-view+json": {
       "model_id": "5688f01cf2234d32b478f15ff02f5d48",
       "version_major": 2,
       "version_minor": 0
      },
      "text/plain": [
       "tokenizer.json:   0%|          | 0.00/9.10M [00:00<?, ?B/s]"
      ]
     },
     "metadata": {},
     "output_type": "display_data"
    },
    {
     "data": {
      "text/html": [
       "\n",
       "<style>\n",
       "    /* Turns off some styling */\n",
       "    progress {\n",
       "        /* gets rid of default border in Firefox and Opera. */\n",
       "        border: none;\n",
       "        /* Needs to be in here for Safari polyfill so background images work as expected. */\n",
       "        background-size: auto;\n",
       "    }\n",
       "    progress:not([value]), progress:not([value])::-webkit-progress-bar {\n",
       "        background: repeating-linear-gradient(45deg, #7e7e7e, #7e7e7e 10px, #5c5c5c 10px, #5c5c5c 20px);\n",
       "    }\n",
       "    .progress-bar-interrupted, .progress-bar-interrupted::-webkit-progress-bar {\n",
       "        background: #F44336;\n",
       "    }\n",
       "</style>\n"
      ],
      "text/plain": [
       "<IPython.core.display.HTML object>"
      ]
     },
     "metadata": {},
     "output_type": "display_data"
    },
    {
     "data": {
      "text/html": [],
      "text/plain": [
       "<IPython.core.display.HTML object>"
      ]
     },
     "metadata": {},
     "output_type": "display_data"
    },
    {
     "name": "stdout",
     "output_type": "stream",
     "text": [
      "Is Multi-Label? False\n",
      "preprocessing test...\n",
      "language: bn\n",
      "test sequence lengths:\n",
      "\tmean : 16\n",
      "\t95percentile : 36\n",
      "\t99percentile : 45\n"
     ]
    },
    {
     "data": {
      "text/html": [
       "\n",
       "<style>\n",
       "    /* Turns off some styling */\n",
       "    progress {\n",
       "        /* gets rid of default border in Firefox and Opera. */\n",
       "        border: none;\n",
       "        /* Needs to be in here for Safari polyfill so background images work as expected. */\n",
       "        background-size: auto;\n",
       "    }\n",
       "    progress:not([value]), progress:not([value])::-webkit-progress-bar {\n",
       "        background: repeating-linear-gradient(45deg, #7e7e7e, #7e7e7e 10px, #5c5c5c 10px, #5c5c5c 20px);\n",
       "    }\n",
       "    .progress-bar-interrupted, .progress-bar-interrupted::-webkit-progress-bar {\n",
       "        background: #F44336;\n",
       "    }\n",
       "</style>\n"
      ],
      "text/plain": [
       "<IPython.core.display.HTML object>"
      ]
     },
     "metadata": {},
     "output_type": "display_data"
    },
    {
     "data": {
      "text/html": [],
      "text/plain": [
       "<IPython.core.display.HTML object>"
      ]
     },
     "metadata": {},
     "output_type": "display_data"
    }
   ],
   "source": [
    "trn = t.preprocess_train(X_train, y_train)\n",
    "val = t.preprocess_test(X_test, y_test)"
   ]
  },
  {
   "cell_type": "code",
   "execution_count": 19,
   "id": "7f38bed2",
   "metadata": {
    "execution": {
     "iopub.execute_input": "2024-02-17T08:38:28.850546Z",
     "iopub.status.busy": "2024-02-17T08:38:28.849996Z",
     "iopub.status.idle": "2024-02-17T08:38:28.854974Z",
     "shell.execute_reply": "2024-02-17T08:38:28.853995Z"
    },
    "papermill": {
     "duration": 0.025132,
     "end_time": "2024-02-17T08:38:28.857084",
     "exception": false,
     "start_time": "2024-02-17T08:38:28.831952",
     "status": "completed"
    },
    "tags": []
   },
   "outputs": [
    {
     "name": "stdout",
     "output_type": "stream",
     "text": [
      "<ktrain.text.dataset.TransformerDataset object at 0x79344e246ef0>\n"
     ]
    }
   ],
   "source": [
    "print(trn)"
   ]
  },
  {
   "cell_type": "code",
   "execution_count": 20,
   "id": "56b43275",
   "metadata": {
    "execution": {
     "iopub.execute_input": "2024-02-17T08:38:28.892469Z",
     "iopub.status.busy": "2024-02-17T08:38:28.892219Z",
     "iopub.status.idle": "2024-02-17T08:38:29.381601Z",
     "shell.execute_reply": "2024-02-17T08:38:29.380663Z"
    },
    "papermill": {
     "duration": 0.509483,
     "end_time": "2024-02-17T08:38:29.384006",
     "exception": false,
     "start_time": "2024-02-17T08:38:28.874523",
     "status": "completed"
    },
    "tags": []
   },
   "outputs": [
    {
     "data": {
      "image/png": "[encoded data removed]",
      "text/plain": [
       "<Figure size 1000x600 with 1 Axes>"
      ]
     },
     "metadata": {},
     "output_type": "display_data"
    }
   ],
   "source": [
    "import matplotlib.pyplot as plt\n",
    "\n",
    "# Calculate token lengths for train and test datasets\n",
    "train_token_lengths = [len(t.split()) for t in X_train]\n",
    "test_token_lengths = [len(t.split()) for t in X_test]\n",
    "\n",
    "# Plot token length distribution\n",
    "plt.figure(figsize=(10, 6))\n",
    "plt.hist(train_token_lengths, bins=50, alpha=0.5, color='blue', label='Train')\n",
    "plt.hist(test_token_lengths, bins=50, alpha=0.5, color='orange', label='Test')\n",
    "plt.xlabel('Token Length')\n",
    "plt.ylabel('Frequency')\n",
    "plt.title('Token Length Distribution')\n",
    "plt.legend()\n",
    "plt.show()"
   ]
  },
  {
   "cell_type": "code",
   "execution_count": 21,
   "id": "3f605f09",
   "metadata": {
    "execution": {
     "iopub.execute_input": "2024-02-17T08:38:29.420175Z",
     "iopub.status.busy": "2024-02-17T08:38:29.419901Z",
     "iopub.status.idle": "2024-02-17T08:38:34.283290Z",
     "shell.execute_reply": "2024-02-17T08:38:34.282285Z"
    },
    "id": "69d54231",
    "papermill": {
     "duration": 4.883781,
     "end_time": "2024-02-17T08:38:34.285642",
     "exception": false,
     "start_time": "2024-02-17T08:38:29.401861",
     "status": "completed"
    },
    "scrolled": true,
    "tags": []
   },
   "outputs": [],
   "source": [
    "model = t.get_classifier()"
   ]
  },
  {
   "cell_type": "code",
   "execution_count": 22,
   "id": "915d6642",
   "metadata": {
    "execution": {
     "iopub.execute_input": "2024-02-17T08:38:34.322218Z",
     "iopub.status.busy": "2024-02-17T08:38:34.321910Z",
     "iopub.status.idle": "2024-02-17T08:38:36.527010Z",
     "shell.execute_reply": "2024-02-17T08:38:36.526223Z"
    },
    "id": "7070ffb4",
    "papermill": {
     "duration": 2.225701,
     "end_time": "2024-02-17T08:38:36.529237",
     "exception": false,
     "start_time": "2024-02-17T08:38:34.303536",
     "status": "completed"
    },
    "tags": []
   },
   "outputs": [],
   "source": [
    "learner = ktrain.get_learner(model, train_data=trn, val_data=val, batch_size=8)"
   ]
  },
  {
   "cell_type": "code",
   "execution_count": 23,
   "id": "a5380283",
   "metadata": {
    "execution": {
     "iopub.execute_input": "2024-02-17T08:38:36.565197Z",
     "iopub.status.busy": "2024-02-17T08:38:36.564906Z",
     "iopub.status.idle": "2024-02-17T08:38:36.572971Z",
     "shell.execute_reply": "2024-02-17T08:38:36.572258Z"
    },
    "papermill": {
     "duration": 0.028025,
     "end_time": "2024-02-17T08:38:36.574864",
     "exception": false,
     "start_time": "2024-02-17T08:38:36.546839",
     "status": "completed"
    },
    "tags": []
   },
   "outputs": [],
   "source": [
    "# Adding early stopping callback from TensorFlow\n",
    "from tensorflow.keras.callbacks import EarlyStopping\n",
    "early_stopping = EarlyStopping(monitor='accuracy', patience=5, mode='auto')"
   ]
  },
  {
   "cell_type": "code",
   "execution_count": 24,
   "id": "f6492323",
   "metadata": {
    "execution": {
     "iopub.execute_input": "2024-02-17T08:38:36.610392Z",
     "iopub.status.busy": "2024-02-17T08:38:36.610101Z",
     "iopub.status.idle": "2024-02-17T11:17:19.373781Z",
     "shell.execute_reply": "2024-02-17T11:17:19.372686Z"
    },
    "id": "e1e76e69",
    "outputId": "cec6ddcd-1ab2-4f18-a9ad-d4cd29195423",
    "papermill": {
     "duration": 9522.784283,
     "end_time": "2024-02-17T11:17:19.376218",
     "exception": false,
     "start_time": "2024-02-17T08:38:36.591935",
     "status": "completed"
    },
    "tags": []
   },
   "outputs": [
    {
     "name": "stdout",
     "output_type": "stream",
     "text": [
      "\n",
      "\n",
      "begin training using onecycle policy with max lr of 2e-05...\n",
      "Epoch 1/10\n",
      "1572/1572 [==============================] - 974s 603ms/step - loss: 0.9535 - accuracy: 0.5467 - val_loss: 0.8158 - val_accuracy: 0.6433\n",
      "Epoch 2/10\n",
      "1572/1572 [==============================] - 946s 602ms/step - loss: 0.9770 - accuracy: 0.5195 - val_loss: 0.9807 - val_accuracy: 0.5258\n",
      "Epoch 3/10\n",
      "1572/1572 [==============================] - 947s 603ms/step - loss: 0.8430 - accuracy: 0.6254 - val_loss: 0.7670 - val_accuracy: 0.6662\n",
      "Epoch 4/10\n",
      "1572/1572 [==============================] - 946s 602ms/step - loss: 0.7460 - accuracy: 0.6735 - val_loss: 0.7135 - val_accuracy: 0.6937\n",
      "Epoch 5/10\n",
      "1572/1572 [==============================] - 945s 601ms/step - loss: 0.7259 - accuracy: 0.6771 - val_loss: 1.0765 - val_accuracy: 0.3969\n",
      "Epoch 6/10\n",
      "1572/1572 [==============================] - 945s 601ms/step - loss: 1.0533 - accuracy: 0.4285 - val_loss: 1.0074 - val_accuracy: 0.4754\n",
      "Epoch 7/10\n",
      "1572/1572 [==============================] - 945s 601ms/step - loss: 0.8491 - accuracy: 0.5998 - val_loss: 0.8196 - val_accuracy: 0.6643\n",
      "Epoch 8/10\n",
      "1572/1572 [==============================] - 945s 601ms/step - loss: 0.5855 - accuracy: 0.7547 - val_loss: 0.7764 - val_accuracy: 0.6873\n",
      "Epoch 9/10\n",
      "1572/1572 [==============================] - 944s 601ms/step - loss: 0.4562 - accuracy: 0.8164 - val_loss: 0.7987 - val_accuracy: 0.7020\n",
      "Epoch 10/10\n",
      "1572/1572 [==============================] - 944s 601ms/step - loss: 0.3538 - accuracy: 0.8580 - val_loss: 0.9011 - val_accuracy: 0.6994\n"
     ]
    }
   ],
   "source": [
    "history = learner.fit_onecycle(2e-5, 10,callbacks=[early_stopping])"
   ]
  },
  {
   "cell_type": "code",
   "execution_count": 25,
   "id": "2d58168d",
   "metadata": {
    "execution": {
     "iopub.execute_input": "2024-02-17T11:17:21.969388Z",
     "iopub.status.busy": "2024-02-17T11:17:21.968691Z",
     "iopub.status.idle": "2024-02-17T11:17:25.150397Z",
     "shell.execute_reply": "2024-02-17T11:17:25.149308Z"
    },
    "papermill": {
     "duration": 4.444225,
     "end_time": "2024-02-17T11:17:25.152696",
     "exception": false,
     "start_time": "2024-02-17T11:17:20.708471",
     "status": "completed"
    },
    "tags": []
   },
   "outputs": [],
   "source": [
    "# Save the trained model\n",
    "learner.save_model('/kaggle/output/bemoc.zip')"
   ]
  },
  {
   "cell_type": "code",
   "execution_count": 26,
   "id": "f00e60fc",
   "metadata": {
    "execution": {
     "iopub.execute_input": "2024-02-17T11:17:27.741959Z",
     "iopub.status.busy": "2024-02-17T11:17:27.741588Z",
     "iopub.status.idle": "2024-02-17T11:17:27.745820Z",
     "shell.execute_reply": "2024-02-17T11:17:27.744984Z"
    },
    "papermill": {
     "duration": 1.263245,
     "end_time": "2024-02-17T11:17:27.747673",
     "exception": false,
     "start_time": "2024-02-17T11:17:26.484428",
     "status": "completed"
    },
    "tags": []
   },
   "outputs": [],
   "source": [
    "classes=t.get_classes()"
   ]
  },
  {
   "cell_type": "code",
   "execution_count": 27,
   "id": "dcc4e1c0",
   "metadata": {
    "execution": {
     "iopub.execute_input": "2024-02-17T11:17:30.447750Z",
     "iopub.status.busy": "2024-02-17T11:17:30.447210Z",
     "iopub.status.idle": "2024-02-17T11:17:41.217570Z",
     "shell.execute_reply": "2024-02-17T11:17:41.216261Z"
    },
    "id": "2088a523",
    "papermill": {
     "duration": 12.146249,
     "end_time": "2024-02-17T11:17:41.220120",
     "exception": false,
     "start_time": "2024-02-17T11:17:29.073871",
     "status": "completed"
    },
    "tags": []
   },
   "outputs": [
    {
     "name": "stdout",
     "output_type": "stream",
     "text": [
      "49/49 [==============================] - 11s 155ms/step\n",
      "              precision    recall  f1-score   support\n",
      "\n",
      "    Negative       0.77      0.74      0.75       590\n",
      "     Neutral       0.50      0.52      0.51       354\n",
      "    Positive       0.76      0.76      0.76       623\n",
      "\n",
      "    accuracy                           0.70      1567\n",
      "   macro avg       0.67      0.67      0.67      1567\n",
      "weighted avg       0.70      0.70      0.70      1567\n",
      "\n"
     ]
    }
   ],
   "source": [
    "cm = learner.validate(class_names=t.get_classes())"
   ]
  },
  {
   "cell_type": "code",
   "execution_count": 28,
   "id": "ad9f059e",
   "metadata": {
    "execution": {
     "iopub.execute_input": "2024-02-17T11:17:43.854814Z",
     "iopub.status.busy": "2024-02-17T11:17:43.854061Z",
     "iopub.status.idle": "2024-02-17T11:17:43.860614Z",
     "shell.execute_reply": "2024-02-17T11:17:43.859778Z"
    },
    "papermill": {
     "duration": 1.274702,
     "end_time": "2024-02-17T11:17:43.862460",
     "exception": false,
     "start_time": "2024-02-17T11:17:42.587758",
     "status": "completed"
    },
    "tags": []
   },
   "outputs": [],
   "source": [
    "import os\n",
    "import subprocess\n",
    "from IPython.display import FileLink, display\n",
    "\n",
    "def download_file(path, download_file_name):\n",
    "    os.chdir('/kaggle/working/')\n",
    "    zip_name = f\"/kaggle/working/{download_file_name}.zip\"\n",
    "    command = f\"zip {zip_name} {path} -r\"\n",
    "    result = subprocess.run(command, shell=True, capture_output=True, text=True)\n",
    "    if result.returncode != 0:\n",
    "        print(\"Unable to run zip command!\")\n",
    "        print(result.stderr)\n",
    "        return\n",
    "    display(FileLink(f'{download_file_name}.zip'))"
   ]
  },
  {
   "cell_type": "code",
   "execution_count": 29,
   "id": "e13d2233",
   "metadata": {
    "execution": {
     "iopub.execute_input": "2024-02-17T11:17:46.459995Z",
     "iopub.status.busy": "2024-02-17T11:17:46.459659Z",
     "iopub.status.idle": "2024-02-17T11:17:47.452508Z",
     "shell.execute_reply": "2024-02-17T11:17:47.451327Z"
    },
    "papermill": {
     "duration": 2.261377,
     "end_time": "2024-02-17T11:17:47.454804",
     "exception": false,
     "start_time": "2024-02-17T11:17:45.193427",
     "status": "completed"
    },
    "tags": []
   },
   "outputs": [
    {
     "name": "stderr",
     "output_type": "stream",
     "text": [
      "huggingface/tokenizers: The current process just got forked, after parallelism has already been used. Disabling parallelism to avoid deadlocks...\n",
      "To disable this warning, you can either:\n",
      "\t- Avoid using `tokenizers` before the fork if possible\n",
      "\t- Explicitly set the environment variable TOKENIZERS_PARALLELISM=(true | false)\n"
     ]
    },
    {
     "name": "stdout",
     "output_type": "stream",
     "text": [
      "\tzip warning: name not matched: /kaggle/output/mental-health-rand\r\n",
      "\r\n",
      "zip error: Nothing to do! (try: zip -r mental.zip . -i /kaggle/output/mental-health-rand)\r\n"
     ]
    }
   ],
   "source": [
    "!zip -r mental.zip /kaggle/output/mental-health-rand"
   ]
  },
  {
   "cell_type": "code",
   "execution_count": 30,
   "id": "f2ca7e39",
   "metadata": {
    "execution": {
     "iopub.execute_input": "2024-02-17T11:17:50.155301Z",
     "iopub.status.busy": "2024-02-17T11:17:50.154924Z",
     "iopub.status.idle": "2024-02-17T11:17:51.147224Z",
     "shell.execute_reply": "2024-02-17T11:17:51.146254Z"
    },
    "papermill": {
     "duration": 2.357924,
     "end_time": "2024-02-17T11:17:51.149339",
     "exception": false,
     "start_time": "2024-02-17T11:17:48.791415",
     "status": "completed"
    },
    "tags": []
   },
   "outputs": [
    {
     "name": "stderr",
     "output_type": "stream",
     "text": [
      "huggingface/tokenizers: The current process just got forked, after parallelism has already been used. Disabling parallelism to avoid deadlocks...\n",
      "To disable this warning, you can either:\n",
      "\t- Avoid using `tokenizers` before the fork if possible\n",
      "\t- Explicitly set the environment variable TOKENIZERS_PARALLELISM=(true | false)\n"
     ]
    },
    {
     "name": "stdout",
     "output_type": "stream",
     "text": [
      "__notebook__.ipynb\r\n"
     ]
    }
   ],
   "source": [
    "!ls"
   ]
  },
  {
   "cell_type": "code",
   "execution_count": 31,
   "id": "c0251ef9",
   "metadata": {
    "execution": {
     "iopub.execute_input": "2024-02-17T11:17:53.717571Z",
     "iopub.status.busy": "2024-02-17T11:17:53.717178Z",
     "iopub.status.idle": "2024-02-17T11:17:53.721629Z",
     "shell.execute_reply": "2024-02-17T11:17:53.720725Z"
    },
    "papermill": {
     "duration": 1.281849,
     "end_time": "2024-02-17T11:17:53.723577",
     "exception": false,
     "start_time": "2024-02-17T11:17:52.441728",
     "status": "completed"
    },
    "tags": []
   },
   "outputs": [],
   "source": [
    "# from IPython.display import FileLink\n",
    "# FileLink(r'/kaggle/working/mental-health-rand.zip')"
   ]
  },
  {
   "cell_type": "code",
   "execution_count": 32,
   "id": "455290bf",
   "metadata": {
    "execution": {
     "iopub.execute_input": "2024-02-17T11:17:56.322758Z",
     "iopub.status.busy": "2024-02-17T11:17:56.321984Z",
     "iopub.status.idle": "2024-02-17T11:17:56.326640Z",
     "shell.execute_reply": "2024-02-17T11:17:56.325743Z"
    },
    "id": "6R25zoclH47g",
    "papermill": {
     "duration": 1.27321,
     "end_time": "2024-02-17T11:17:56.328568",
     "exception": false,
     "start_time": "2024-02-17T11:17:55.055358",
     "status": "completed"
    },
    "tags": []
   },
   "outputs": [],
   "source": [
    "# df_cm = pd.DataFrame(cm, index=[\"Anxiety\",\"Bipolar\",\"Borderline Personality\", \"Depression \", \"Schizophernia\",\"Suidal Thought\",\"neutral\",\n",
    "#                                 \"Alcoholism\",\"Addiction\",\"Aspergers\",\"SelfHarm \"],\n",
    "#                      columns=[\"Anxiety\",\"Bipolar\",\"Borderline Personality\", \"Depression \", \"Schizophernia\",\"Suidal Thought\",\"neutral\",\n",
    "#                                 \"Alcoholism\",\"Addiction\",\"Aspergers\",\"SelfHarm \"])\n",
    "# plt.figure(figsize = (10,7))\n",
    "# sns.heatmap(df_cm,annot=True, fmt =\"d\")"
   ]
  },
  {
   "cell_type": "code",
   "execution_count": null,
   "id": "3adb5a8e",
   "metadata": {
    "id": "RjxJrO1JZfNt",
    "papermill": {
     "duration": 1.266088,
     "end_time": "2024-02-17T11:17:58.923624",
     "exception": false,
     "start_time": "2024-02-17T11:17:57.657536",
     "status": "completed"
    },
    "tags": []
   },
   "outputs": [],
   "source": []
  }
 ],
 "metadata": {
  "kaggle": {
   "accelerator": "gpu",
   "dataSources": [
    {
     "databundleVersionId": 7727315,
     "datasetId": 4446436,
     "isSourceIdPinned": true,
     "sourceId": 7631168,
     "sourceType": "datasetVersion"
    }
   ],
   "dockerImageVersionId": 30648,
   "isGpuEnabled": true,
   "isInternetEnabled": true,
   "language": "python",
   "sourceType": "notebook"
  },
  "kernelspec": {
   "display_name": "Python 3",
   "language": "python",
   "name": "python3"
  },
  "language_info": {
   "codemirror_mode": {
    "name": "ipython",
    "version": 3
   },
   "file_extension": ".py",
   "mimetype": "text/x-python",
   "name": "python",
   "nbconvert_exporter": "python",
   "pygments_lexer": "ipython3",
   "version": "3.10.13"
  },
  "papermill": {
   "default_parameters": {},
   "duration": 9659.262714,
   "end_time": "2024-02-17T11:18:03.009799",
   "environment_variables": {},
   "exception": null,
   "input_path": "__notebook__.ipynb",
   "output_path": "__notebook__.ipynb",
   "parameters": {},
   "start_time": "2024-02-17T08:37:03.747085",
   "version": "2.5.0"
  },
  "widgets": {
   "application/vnd.jupyter.widget-state+json": {
    "state": {
     "0370db7740b848ae95f49bda6ba750f0": {
      "model_module": "@jupyter-widgets/controls",
      "model_module_version": "1.5.0",
      "model_name": "ProgressStyleModel",
      "state": {
       "_model_module": "@jupyter-widgets/controls",
       "_model_module_version": "1.5.0",
       "_model_name": "ProgressStyleModel",
       "_view_count": null,
       "_view_module": "@jupyter-widgets/base",
       "_view_module_version": "1.2.0",
       "_view_name": "StyleView",
       "bar_color": null,
       "description_width": ""
      }
     },
     "09fe87058e114787b0c9062351472063": {
      "model_module": "@jupyter-widgets/controls",
      "model_module_version": "1.5.0",
      "model_name": "ProgressStyleModel",
      "state": {
       "_model_module": "@jupyter-widgets/controls",
       "_model_module_version": "1.5.0",
       "_model_name": "ProgressStyleModel",
       "_view_count": null,
       "_view_module": "@jupyter-widgets/base",
       "_view_module_version": "1.2.0",
       "_view_name": "StyleView",
       "bar_color": null,
       "description_width": ""
      }
     },
     "0ee916068b9f4c199661e4db3f3851f6": {
      "model_module": "@jupyter-widgets/controls",
      "model_module_version": "1.5.0",
      "model_name": "DescriptionStyleModel",
      "state": {
       "_model_module": "@jupyter-widgets/controls",
       "_model_module_version": "1.5.0",
       "_model_name": "DescriptionStyleModel",
       "_view_count": null,
       "_view_module": "@jupyter-widgets/base",
       "_view_module_version": "1.2.0",
       "_view_name": "StyleView",
       "description_width": ""
      }
     },
     "0f07eb192600414ab328fff5e4529d75": {
      "model_module": "@jupyter-widgets/base",
      "model_module_version": "1.2.0",
      "model_name": "LayoutModel",
      "state": {
       "_model_module": "@jupyter-widgets/base",
       "_model_module_version": "1.2.0",
       "_model_name": "LayoutModel",
       "_view_count": null,
       "_view_module": "@jupyter-widgets/base",
       "_view_module_version": "1.2.0",
       "_view_name": "LayoutView",
       "align_content": null,
       "align_items": null,
       "align_self": null,
       "border": null,
       "bottom": null,
       "display": null,
       "flex": null,
       "flex_flow": null,
       "grid_area": null,
       "grid_auto_columns": null,
       "grid_auto_flow": null,
       "grid_auto_rows": null,
       "grid_column": null,
       "grid_gap": null,
       "grid_row": null,
       "grid_template_areas": null,
       "grid_template_columns": null,
       "grid_template_rows": null,
       "height": null,
       "justify_content": null,
       "justify_items": null,
       "left": null,
       "margin": null,
       "max_height": null,
       "max_width": null,
       "min_height": null,
       "min_width": null,
       "object_fit": null,
       "object_position": null,
       "order": null,
       "overflow": null,
       "overflow_x": null,
       "overflow_y": null,
       "padding": null,
       "right": null,
       "top": null,
       "visibility": null,
       "width": null
      }
     },
     "16e23c69519443aa864a983d75aea3de": {
      "model_module": "@jupyter-widgets/base",
      "model_module_version": "1.2.0",
      "model_name": "LayoutModel",
      "state": {
       "_model_module": "@jupyter-widgets/base",
       "_model_module_version": "1.2.0",
       "_model_name": "LayoutModel",
       "_view_count": null,
       "_view_module": "@jupyter-widgets/base",
       "_view_module_version": "1.2.0",
       "_view_name": "LayoutView",
       "align_content": null,
       "align_items": null,
       "align_self": null,
       "border": null,
       "bottom": null,
       "display": null,
       "flex": null,
       "flex_flow": null,
       "grid_area": null,
       "grid_auto_columns": null,
       "grid_auto_flow": null,
       "grid_auto_rows": null,
       "grid_column": null,
       "grid_gap": null,
       "grid_row": null,
       "grid_template_areas": null,
       "grid_template_columns": null,
       "grid_template_rows": null,
       "height": null,
       "justify_content": null,
       "justify_items": null,
       "left": null,
       "margin": null,
       "max_height": null,
       "max_width": null,
       "min_height": null,
       "min_width": null,
       "object_fit": null,
       "object_position": null,
       "order": null,
       "overflow": null,
       "overflow_x": null,
       "overflow_y": null,
       "padding": null,
       "right": null,
       "top": null,
       "visibility": null,
       "width": null
      }
     },
     "282b1e2905a74c77a9f4262f16e4ee0b": {
      "model_module": "@jupyter-widgets/controls",
      "model_module_version": "1.5.0",
      "model_name": "HTMLModel",
      "state": {
       "_dom_classes": [],
       "_model_module": "@jupyter-widgets/controls",
       "_model_module_version": "1.5.0",
       "_model_name": "HTMLModel",
       "_view_count": null,
       "_view_module": "@jupyter-widgets/controls",
       "_view_module_version": "1.5.0",
       "_view_name": "HTMLView",
       "description": "",
       "description_tooltip": null,
       "layout": "IPY_MODEL_743bf4a7ec9f42f09657317bd944a0c1",
       "placeholder": "​",
       "style": "IPY_MODEL_e792c1fafbba408eb9cd0d06689af398",
       "value": "tokenizer.json: 100%"
      }
     },
     "28b0619a768c48e181adc746906eb49f": {
      "model_module": "@jupyter-widgets/base",
      "model_module_version": "1.2.0",
      "model_name": "LayoutModel",
      "state": {
       "_model_module": "@jupyter-widgets/base",
       "_model_module_version": "1.2.0",
       "_model_name": "LayoutModel",
       "_view_count": null,
       "_view_module": "@jupyter-widgets/base",
       "_view_module_version": "1.2.0",
       "_view_name": "LayoutView",
       "align_content": null,
       "align_items": null,
       "align_self": null,
       "border": null,
       "bottom": null,
       "display": null,
       "flex": null,
       "flex_flow": null,
       "grid_area": null,
       "grid_auto_columns": null,
       "grid_auto_flow": null,
       "grid_auto_rows": null,
       "grid_column": null,
       "grid_gap": null,
       "grid_row": null,
       "grid_template_areas": null,
       "grid_template_columns": null,
       "grid_template_rows": null,
       "height": null,
       "justify_content": null,
       "justify_items": null,
       "left": null,
       "margin": null,
       "max_height": null,
       "max_width": null,
       "min_height": null,
       "min_width": null,
       "object_fit": null,
       "object_position": null,
       "order": null,
       "overflow": null,
       "overflow_x": null,
       "overflow_y": null,
       "padding": null,
       "right": null,
       "top": null,
       "visibility": null,
       "width": null
      }
     },
     "2ee6392542c8402d92ea8629266a8f91": {
      "model_module": "@jupyter-widgets/controls",
      "model_module_version": "1.5.0",
      "model_name": "HTMLModel",
      "state": {
       "_dom_classes": [],
       "_model_module": "@jupyter-widgets/controls",
       "_model_module_version": "1.5.0",
       "_model_name": "HTMLModel",
       "_view_count": null,
       "_view_module": "@jupyter-widgets/controls",
       "_view_module_version": "1.5.0",
       "_view_name": "HTMLView",
       "description": "",
       "description_tooltip": null,
       "layout": "IPY_MODEL_9e2c1fb3e5d54207a48121de9963f6a0",
       "placeholder": "​",
       "style": "IPY_MODEL_5d9a7d8f7a1748e48c21c58677a61717",
       "value": " 9.10M/9.10M [00:01&lt;00:00, 8.82MB/s]"
      }
     },
     "478ec65b9f47404e8586e393f8b84ecc": {
      "model_module": "@jupyter-widgets/controls",
      "model_module_version": "1.5.0",
      "model_name": "DescriptionStyleModel",
      "state": {
       "_model_module": "@jupyter-widgets/controls",
       "_model_module_version": "1.5.0",
       "_model_name": "DescriptionStyleModel",
       "_view_count": null,
       "_view_module": "@jupyter-widgets/base",
       "_view_module_version": "1.2.0",
       "_view_name": "StyleView",
       "description_width": ""
      }
     },
     "4b60fb970de44463bd9b318dbe885aac": {
      "model_module": "@jupyter-widgets/controls",
      "model_module_version": "1.5.0",
      "model_name": "FloatProgressModel",
      "state": {
       "_dom_classes": [],
       "_model_module": "@jupyter-widgets/controls",
       "_model_module_version": "1.5.0",
       "_model_name": "FloatProgressModel",
       "_view_count": null,
       "_view_module": "@jupyter-widgets/controls",
       "_view_module_version": "1.5.0",
       "_view_name": "ProgressView",
       "bar_style": "success",
       "description": "",
       "description_tooltip": null,
       "layout": "IPY_MODEL_868e27ac42b448008c75d2393fcaf5de",
       "max": 9096718.0,
       "min": 0.0,
       "orientation": "horizontal",
       "style": "IPY_MODEL_0370db7740b848ae95f49bda6ba750f0",
       "value": 9096718.0
      }
     },
     "5568ffcd6bc343379b8083a199d5f1a3": {
      "model_module": "@jupyter-widgets/controls",
      "model_module_version": "1.5.0",
      "model_name": "DescriptionStyleModel",
      "state": {
       "_model_module": "@jupyter-widgets/controls",
       "_model_module_version": "1.5.0",
       "_model_name": "DescriptionStyleModel",
       "_view_count": null,
       "_view_module": "@jupyter-widgets/base",
       "_view_module_version": "1.2.0",
       "_view_name": "StyleView",
       "description_width": ""
      }
     },
     "5688f01cf2234d32b478f15ff02f5d48": {
      "model_module": "@jupyter-widgets/controls",
      "model_module_version": "1.5.0",
      "model_name": "HBoxModel",
      "state": {
       "_dom_classes": [],
       "_model_module": "@jupyter-widgets/controls",
       "_model_module_version": "1.5.0",
       "_model_name": "HBoxModel",
       "_view_count": null,
       "_view_module": "@jupyter-widgets/controls",
       "_view_module_version": "1.5.0",
       "_view_name": "HBoxView",
       "box_style": "",
       "children": [
        "IPY_MODEL_282b1e2905a74c77a9f4262f16e4ee0b",
        "IPY_MODEL_4b60fb970de44463bd9b318dbe885aac",
        "IPY_MODEL_2ee6392542c8402d92ea8629266a8f91"
       ],
       "layout": "IPY_MODEL_28b0619a768c48e181adc746906eb49f"
      }
     },
     "56fe8622731b41deb38e49b556930cd3": {
      "model_module": "@jupyter-widgets/base",
      "model_module_version": "1.2.0",
      "model_name": "LayoutModel",
      "state": {
       "_model_module": "@jupyter-widgets/base",
       "_model_module_version": "1.2.0",
       "_model_name": "LayoutModel",
       "_view_count": null,
       "_view_module": "@jupyter-widgets/base",
       "_view_module_version": "1.2.0",
       "_view_name": "LayoutView",
       "align_content": null,
       "align_items": null,
       "align_self": null,
       "border": null,
       "bottom": null,
       "display": null,
       "flex": null,
       "flex_flow": null,
       "grid_area": null,
       "grid_auto_columns": null,
       "grid_auto_flow": null,
       "grid_auto_rows": null,
       "grid_column": null,
       "grid_gap": null,
       "grid_row": null,
       "grid_template_areas": null,
       "grid_template_columns": null,
       "grid_template_rows": null,
       "height": null,
       "justify_content": null,
       "justify_items": null,
       "left": null,
       "margin": null,
       "max_height": null,
       "max_width": null,
       "min_height": null,
       "min_width": null,
       "object_fit": null,
       "object_position": null,
       "order": null,
       "overflow": null,
       "overflow_x": null,
       "overflow_y": null,
       "padding": null,
       "right": null,
       "top": null,
       "visibility": null,
       "width": null
      }
     },
     "5a3f75bd6b3a42969482a520cd82c43a": {
      "model_module": "@jupyter-widgets/base",
      "model_module_version": "1.2.0",
      "model_name": "LayoutModel",
      "state": {
       "_model_module": "@jupyter-widgets/base",
       "_model_module_version": "1.2.0",
       "_model_name": "LayoutModel",
       "_view_count": null,
       "_view_module": "@jupyter-widgets/base",
       "_view_module_version": "1.2.0",
       "_view_name": "LayoutView",
       "align_content": null,
       "align_items": null,
       "align_self": null,
       "border": null,
       "bottom": null,
       "display": null,
       "flex": null,
       "flex_flow": null,
       "grid_area": null,
       "grid_auto_columns": null,
       "grid_auto_flow": null,
       "grid_auto_rows": null,
       "grid_column": null,
       "grid_gap": null,
       "grid_row": null,
       "grid_template_areas": null,
       "grid_template_columns": null,
       "grid_template_rows": null,
       "height": null,
       "justify_content": null,
       "justify_items": null,
       "left": null,
       "margin": null,
       "max_height": null,
       "max_width": null,
       "min_height": null,
       "min_width": null,
       "object_fit": null,
       "object_position": null,
       "order": null,
       "overflow": null,
       "overflow_x": null,
       "overflow_y": null,
       "padding": null,
       "right": null,
       "top": null,
       "visibility": null,
       "width": null
      }
     },
     "5a51f21e57754477bc8d55955bba3dd0": {
      "model_module": "@jupyter-widgets/controls",
      "model_module_version": "1.5.0",
      "model_name": "FloatProgressModel",
      "state": {
       "_dom_classes": [],
       "_model_module": "@jupyter-widgets/controls",
       "_model_module_version": "1.5.0",
       "_model_name": "FloatProgressModel",
       "_view_count": null,
       "_view_module": "@jupyter-widgets/controls",
       "_view_module_version": "1.5.0",
       "_view_name": "ProgressView",
       "bar_style": "success",
       "description": "",
       "description_tooltip": null,
       "layout": "IPY_MODEL_56fe8622731b41deb38e49b556930cd3",
       "max": 5069051.0,
       "min": 0.0,
       "orientation": "horizontal",
       "style": "IPY_MODEL_895eb521551842deb9faedba0b8b88c6",
       "value": 5069051.0
      }
     },
     "5d9a7d8f7a1748e48c21c58677a61717": {
      "model_module": "@jupyter-widgets/controls",
      "model_module_version": "1.5.0",
      "model_name": "DescriptionStyleModel",
      "state": {
       "_model_module": "@jupyter-widgets/controls",
       "_model_module_version": "1.5.0",
       "_model_name": "DescriptionStyleModel",
       "_view_count": null,
       "_view_module": "@jupyter-widgets/base",
       "_view_module_version": "1.2.0",
       "_view_name": "StyleView",
       "description_width": ""
      }
     },
     "5e94bf7bcbe14c3a9a66449dabdb8b63": {
      "model_module": "@jupyter-widgets/base",
      "model_module_version": "1.2.0",
      "model_name": "LayoutModel",
      "state": {
       "_model_module": "@jupyter-widgets/base",
       "_model_module_version": "1.2.0",
       "_model_name": "LayoutModel",
       "_view_count": null,
       "_view_module": "@jupyter-widgets/base",
       "_view_module_version": "1.2.0",
       "_view_name": "LayoutView",
       "align_content": null,
       "align_items": null,
       "align_self": null,
       "border": null,
       "bottom": null,
       "display": null,
       "flex": null,
       "flex_flow": null,
       "grid_area": null,
       "grid_auto_columns": null,
       "grid_auto_flow": null,
       "grid_auto_rows": null,
       "grid_column": null,
       "grid_gap": null,
       "grid_row": null,
       "grid_template_areas": null,
       "grid_template_columns": null,
       "grid_template_rows": null,
       "height": null,
       "justify_content": null,
       "justify_items": null,
       "left": null,
       "margin": null,
       "max_height": null,
       "max_width": null,
       "min_height": null,
       "min_width": null,
       "object_fit": null,
       "object_position": null,
       "order": null,
       "overflow": null,
       "overflow_x": null,
       "overflow_y": null,
       "padding": null,
       "right": null,
       "top": null,
       "visibility": null,
       "width": null
      }
     },
     "622bb16fffe74a7b85f9774ce524880b": {
      "model_module": "@jupyter-widgets/controls",
      "model_module_version": "1.5.0",
      "model_name": "FloatProgressModel",
      "state": {
       "_dom_classes": [],
       "_model_module": "@jupyter-widgets/controls",
       "_model_module_version": "1.5.0",
       "_model_name": "FloatProgressModel",
       "_view_count": null,
       "_view_module": "@jupyter-widgets/controls",
       "_view_module_version": "1.5.0",
       "_view_name": "ProgressView",
       "bar_style": "success",
       "description": "",
       "description_tooltip": null,
       "layout": "IPY_MODEL_ced70b2e75bb43968828ac6708d8eeff",
       "max": 615.0,
       "min": 0.0,
       "orientation": "horizontal",
       "style": "IPY_MODEL_ae6a04463a6e48ca97a3c0f9e152ea10",
       "value": 615.0
      }
     },
     "66977a50c8094671bb0a44da971afaa5": {
      "model_module": "@jupyter-widgets/controls",
      "model_module_version": "1.5.0",
      "model_name": "HTMLModel",
      "state": {
       "_dom_classes": [],
       "_model_module": "@jupyter-widgets/controls",
       "_model_module_version": "1.5.0",
       "_model_name": "HTMLModel",
       "_view_count": null,
       "_view_module": "@jupyter-widgets/controls",
       "_view_module_version": "1.5.0",
       "_view_name": "HTMLView",
       "description": "",
       "description_tooltip": null,
       "layout": "IPY_MODEL_90046f9f0abb442e8d9c0bc6ae273779",
       "placeholder": "​",
       "style": "IPY_MODEL_c491f2e1590f44c98687c11cd1de488e",
       "value": " 5.07M/5.07M [00:00&lt;00:00, 10.2MB/s]"
      }
     },
     "6d9db547f4484a79a0d5397bc0ad2ca4": {
      "model_module": "@jupyter-widgets/controls",
      "model_module_version": "1.5.0",
      "model_name": "FloatProgressModel",
      "state": {
       "_dom_classes": [],
       "_model_module": "@jupyter-widgets/controls",
       "_model_module_version": "1.5.0",
       "_model_name": "FloatProgressModel",
       "_view_count": null,
       "_view_module": "@jupyter-widgets/controls",
       "_view_module_version": "1.5.0",
       "_view_name": "ProgressView",
       "bar_style": "success",
       "description": "",
       "description_tooltip": null,
       "layout": "IPY_MODEL_8850a714e3f6477ca6b08af7c07822b8",
       "max": 1115567652.0,
       "min": 0.0,
       "orientation": "horizontal",
       "style": "IPY_MODEL_09fe87058e114787b0c9062351472063",
       "value": 1115567652.0
      }
     },
     "70c9270bb210410a8a22b37c14877172": {
      "model_module": "@jupyter-widgets/controls",
      "model_module_version": "1.5.0",
      "model_name": "DescriptionStyleModel",
      "state": {
       "_model_module": "@jupyter-widgets/controls",
       "_model_module_version": "1.5.0",
       "_model_name": "DescriptionStyleModel",
       "_view_count": null,
       "_view_module": "@jupyter-widgets/base",
       "_view_module_version": "1.2.0",
       "_view_name": "StyleView",
       "description_width": ""
      }
     },
     "743bf4a7ec9f42f09657317bd944a0c1": {
      "model_module": "@jupyter-widgets/base",
      "model_module_version": "1.2.0",
      "model_name": "LayoutModel",
      "state": {
       "_model_module": "@jupyter-widgets/base",
       "_model_module_version": "1.2.0",
       "_model_name": "LayoutModel",
       "_view_count": null,
       "_view_module": "@jupyter-widgets/base",
       "_view_module_version": "1.2.0",
       "_view_name": "LayoutView",
       "align_content": null,
       "align_items": null,
       "align_self": null,
       "border": null,
       "bottom": null,
       "display": null,
       "flex": null,
       "flex_flow": null,
       "grid_area": null,
       "grid_auto_columns": null,
       "grid_auto_flow": null,
       "grid_auto_rows": null,
       "grid_column": null,
       "grid_gap": null,
       "grid_row": null,
       "grid_template_areas": null,
       "grid_template_columns": null,
       "grid_template_rows": null,
       "height": null,
       "justify_content": null,
       "justify_items": null,
       "left": null,
       "margin": null,
       "max_height": null,
       "max_width": null,
       "min_height": null,
       "min_width": null,
       "object_fit": null,
       "object_position": null,
       "order": null,
       "overflow": null,
       "overflow_x": null,
       "overflow_y": null,
       "padding": null,
       "right": null,
       "top": null,
       "visibility": null,
       "width": null
      }
     },
     "7a19296538cd417cb26e7168cb8759fe": {
      "model_module": "@jupyter-widgets/controls",
      "model_module_version": "1.5.0",
      "model_name": "HTMLModel",
      "state": {
       "_dom_classes": [],
       "_model_module": "@jupyter-widgets/controls",
       "_model_module_version": "1.5.0",
       "_model_name": "HTMLModel",
       "_view_count": null,
       "_view_module": "@jupyter-widgets/controls",
       "_view_module_version": "1.5.0",
       "_view_name": "HTMLView",
       "description": "",
       "description_tooltip": null,
       "layout": "IPY_MODEL_9a914d40e4a74e298a8e769f08b655bc",
       "placeholder": "​",
       "style": "IPY_MODEL_0ee916068b9f4c199661e4db3f3851f6",
       "value": " 615/615 [00:00&lt;00:00, 50.8kB/s]"
      }
     },
     "7c03fdc3782f409f8505057010106211": {
      "model_module": "@jupyter-widgets/controls",
      "model_module_version": "1.5.0",
      "model_name": "HTMLModel",
      "state": {
       "_dom_classes": [],
       "_model_module": "@jupyter-widgets/controls",
       "_model_module_version": "1.5.0",
       "_model_name": "HTMLModel",
       "_view_count": null,
       "_view_module": "@jupyter-widgets/controls",
       "_view_module_version": "1.5.0",
       "_view_name": "HTMLView",
       "description": "",
       "description_tooltip": null,
       "layout": "IPY_MODEL_82385da6cf334f2396eed58595333d08",
       "placeholder": "​",
       "style": "IPY_MODEL_a0cf621849a34d58b868b5f4ecceb4e5",
       "value": "model.safetensors: 100%"
      }
     },
     "7c1368e65ad047db947b5b0e71b76cea": {
      "model_module": "@jupyter-widgets/controls",
      "model_module_version": "1.5.0",
      "model_name": "HBoxModel",
      "state": {
       "_dom_classes": [],
       "_model_module": "@jupyter-widgets/controls",
       "_model_module_version": "1.5.0",
       "_model_name": "HBoxModel",
       "_view_count": null,
       "_view_module": "@jupyter-widgets/controls",
       "_view_module_version": "1.5.0",
       "_view_name": "HBoxView",
       "box_style": "",
       "children": [
        "IPY_MODEL_a06da60e00c7445db71b9f844e46cafd",
        "IPY_MODEL_622bb16fffe74a7b85f9774ce524880b",
        "IPY_MODEL_7a19296538cd417cb26e7168cb8759fe"
       ],
       "layout": "IPY_MODEL_991309adc5c44d6293d7fc1bfecb3cd3"
      }
     },
     "82385da6cf334f2396eed58595333d08": {
      "model_module": "@jupyter-widgets/base",
      "model_module_version": "1.2.0",
      "model_name": "LayoutModel",
      "state": {
       "_model_module": "@jupyter-widgets/base",
       "_model_module_version": "1.2.0",
       "_model_name": "LayoutModel",
       "_view_count": null,
       "_view_module": "@jupyter-widgets/base",
       "_view_module_version": "1.2.0",
       "_view_name": "LayoutView",
       "align_content": null,
       "align_items": null,
       "align_self": null,
       "border": null,
       "bottom": null,
       "display": null,
       "flex": null,
       "flex_flow": null,
       "grid_area": null,
       "grid_auto_columns": null,
       "grid_auto_flow": null,
       "grid_auto_rows": null,
       "grid_column": null,
       "grid_gap": null,
       "grid_row": null,
       "grid_template_areas": null,
       "grid_template_columns": null,
       "grid_template_rows": null,
       "height": null,
       "justify_content": null,
       "justify_items": null,
       "left": null,
       "margin": null,
       "max_height": null,
       "max_width": null,
       "min_height": null,
       "min_width": null,
       "object_fit": null,
       "object_position": null,
       "order": null,
       "overflow": null,
       "overflow_x": null,
       "overflow_y": null,
       "padding": null,
       "right": null,
       "top": null,
       "visibility": null,
       "width": null
      }
     },
     "868e27ac42b448008c75d2393fcaf5de": {
      "model_module": "@jupyter-widgets/base",
      "model_module_version": "1.2.0",
      "model_name": "LayoutModel",
      "state": {
       "_model_module": "@jupyter-widgets/base",
       "_model_module_version": "1.2.0",
       "_model_name": "LayoutModel",
       "_view_count": null,
       "_view_module": "@jupyter-widgets/base",
       "_view_module_version": "1.2.0",
       "_view_name": "LayoutView",
       "align_content": null,
       "align_items": null,
       "align_self": null,
       "border": null,
       "bottom": null,
       "display": null,
       "flex": null,
       "flex_flow": null,
       "grid_area": null,
       "grid_auto_columns": null,
       "grid_auto_flow": null,
       "grid_auto_rows": null,
       "grid_column": null,
       "grid_gap": null,
       "grid_row": null,
       "grid_template_areas": null,
       "grid_template_columns": null,
       "grid_template_rows": null,
       "height": null,
       "justify_content": null,
       "justify_items": null,
       "left": null,
       "margin": null,
       "max_height": null,
       "max_width": null,
       "min_height": null,
       "min_width": null,
       "object_fit": null,
       "object_position": null,
       "order": null,
       "overflow": null,
       "overflow_x": null,
       "overflow_y": null,
       "padding": null,
       "right": null,
       "top": null,
       "visibility": null,
       "width": null
      }
     },
     "8850a714e3f6477ca6b08af7c07822b8": {
      "model_module": "@jupyter-widgets/base",
      "model_module_version": "1.2.0",
      "model_name": "LayoutModel",
      "state": {
       "_model_module": "@jupyter-widgets/base",
       "_model_module_version": "1.2.0",
       "_model_name": "LayoutModel",
       "_view_count": null,
       "_view_module": "@jupyter-widgets/base",
       "_view_module_version": "1.2.0",
       "_view_name": "LayoutView",
       "align_content": null,
       "align_items": null,
       "align_self": null,
       "border": null,
       "bottom": null,
       "display": null,
       "flex": null,
       "flex_flow": null,
       "grid_area": null,
       "grid_auto_columns": null,
       "grid_auto_flow": null,
       "grid_auto_rows": null,
       "grid_column": null,
       "grid_gap": null,
       "grid_row": null,
       "grid_template_areas": null,
       "grid_template_columns": null,
       "grid_template_rows": null,
       "height": null,
       "justify_content": null,
       "justify_items": null,
       "left": null,
       "margin": null,
       "max_height": null,
       "max_width": null,
       "min_height": null,
       "min_width": null,
       "object_fit": null,
       "object_position": null,
       "order": null,
       "overflow": null,
       "overflow_x": null,
       "overflow_y": null,
       "padding": null,
       "right": null,
       "top": null,
       "visibility": null,
       "width": null
      }
     },
     "895eb521551842deb9faedba0b8b88c6": {
      "model_module": "@jupyter-widgets/controls",
      "model_module_version": "1.5.0",
      "model_name": "ProgressStyleModel",
      "state": {
       "_model_module": "@jupyter-widgets/controls",
       "_model_module_version": "1.5.0",
       "_model_name": "ProgressStyleModel",
       "_view_count": null,
       "_view_module": "@jupyter-widgets/base",
       "_view_module_version": "1.2.0",
       "_view_name": "StyleView",
       "bar_color": null,
       "description_width": ""
      }
     },
     "90046f9f0abb442e8d9c0bc6ae273779": {
      "model_module": "@jupyter-widgets/base",
      "model_module_version": "1.2.0",
      "model_name": "LayoutModel",
      "state": {
       "_model_module": "@jupyter-widgets/base",
       "_model_module_version": "1.2.0",
       "_model_name": "LayoutModel",
       "_view_count": null,
       "_view_module": "@jupyter-widgets/base",
       "_view_module_version": "1.2.0",
       "_view_name": "LayoutView",
       "align_content": null,
       "align_items": null,
       "align_self": null,
       "border": null,
       "bottom": null,
       "display": null,
       "flex": null,
       "flex_flow": null,
       "grid_area": null,
       "grid_auto_columns": null,
       "grid_auto_flow": null,
       "grid_auto_rows": null,
       "grid_column": null,
       "grid_gap": null,
       "grid_row": null,
       "grid_template_areas": null,
       "grid_template_columns": null,
       "grid_template_rows": null,
       "height": null,
       "justify_content": null,
       "justify_items": null,
       "left": null,
       "margin": null,
       "max_height": null,
       "max_width": null,
       "min_height": null,
       "min_width": null,
       "object_fit": null,
       "object_position": null,
       "order": null,
       "overflow": null,
       "overflow_x": null,
       "overflow_y": null,
       "padding": null,
       "right": null,
       "top": null,
       "visibility": null,
       "width": null
      }
     },
     "991309adc5c44d6293d7fc1bfecb3cd3": {
      "model_module": "@jupyter-widgets/base",
      "model_module_version": "1.2.0",
      "model_name": "LayoutModel",
      "state": {
       "_model_module": "@jupyter-widgets/base",
       "_model_module_version": "1.2.0",
       "_model_name": "LayoutModel",
       "_view_count": null,
       "_view_module": "@jupyter-widgets/base",
       "_view_module_version": "1.2.0",
       "_view_name": "LayoutView",
       "align_content": null,
       "align_items": null,
       "align_self": null,
       "border": null,
       "bottom": null,
       "display": null,
       "flex": null,
       "flex_flow": null,
       "grid_area": null,
       "grid_auto_columns": null,
       "grid_auto_flow": null,
       "grid_auto_rows": null,
       "grid_column": null,
       "grid_gap": null,
       "grid_row": null,
       "grid_template_areas": null,
       "grid_template_columns": null,
       "grid_template_rows": null,
       "height": null,
       "justify_content": null,
       "justify_items": null,
       "left": null,
       "margin": null,
       "max_height": null,
       "max_width": null,
       "min_height": null,
       "min_width": null,
       "object_fit": null,
       "object_position": null,
       "order": null,
       "overflow": null,
       "overflow_x": null,
       "overflow_y": null,
       "padding": null,
       "right": null,
       "top": null,
       "visibility": null,
       "width": null
      }
     },
     "9a914d40e4a74e298a8e769f08b655bc": {
      "model_module": "@jupyter-widgets/base",
      "model_module_version": "1.2.0",
      "model_name": "LayoutModel",
      "state": {
       "_model_module": "@jupyter-widgets/base",
       "_model_module_version": "1.2.0",
       "_model_name": "LayoutModel",
       "_view_count": null,
       "_view_module": "@jupyter-widgets/base",
       "_view_module_version": "1.2.0",
       "_view_name": "LayoutView",
       "align_content": null,
       "align_items": null,
       "align_self": null,
       "border": null,
       "bottom": null,
       "display": null,
       "flex": null,
       "flex_flow": null,
       "grid_area": null,
       "grid_auto_columns": null,
       "grid_auto_flow": null,
       "grid_auto_rows": null,
       "grid_column": null,
       "grid_gap": null,
       "grid_row": null,
       "grid_template_areas": null,
       "grid_template_columns": null,
       "grid_template_rows": null,
       "height": null,
       "justify_content": null,
       "justify_items": null,
       "left": null,
       "margin": null,
       "max_height": null,
       "max_width": null,
       "min_height": null,
       "min_width": null,
       "object_fit": null,
       "object_position": null,
       "order": null,
       "overflow": null,
       "overflow_x": null,
       "overflow_y": null,
       "padding": null,
       "right": null,
       "top": null,
       "visibility": null,
       "width": null
      }
     },
     "9e2c1fb3e5d54207a48121de9963f6a0": {
      "model_module": "@jupyter-widgets/base",
      "model_module_version": "1.2.0",
      "model_name": "LayoutModel",
      "state": {
       "_model_module": "@jupyter-widgets/base",
       "_model_module_version": "1.2.0",
       "_model_name": "LayoutModel",
       "_view_count": null,
       "_view_module": "@jupyter-widgets/base",
       "_view_module_version": "1.2.0",
       "_view_name": "LayoutView",
       "align_content": null,
       "align_items": null,
       "align_self": null,
       "border": null,
       "bottom": null,
       "display": null,
       "flex": null,
       "flex_flow": null,
       "grid_area": null,
       "grid_auto_columns": null,
       "grid_auto_flow": null,
       "grid_auto_rows": null,
       "grid_column": null,
       "grid_gap": null,
       "grid_row": null,
       "grid_template_areas": null,
       "grid_template_columns": null,
       "grid_template_rows": null,
       "height": null,
       "justify_content": null,
       "justify_items": null,
       "left": null,
       "margin": null,
       "max_height": null,
       "max_width": null,
       "min_height": null,
       "min_width": null,
       "object_fit": null,
       "object_position": null,
       "order": null,
       "overflow": null,
       "overflow_x": null,
       "overflow_y": null,
       "padding": null,
       "right": null,
       "top": null,
       "visibility": null,
       "width": null
      }
     },
     "a026adfb4f3943f3829fb67a34f7a6d5": {
      "model_module": "@jupyter-widgets/controls",
      "model_module_version": "1.5.0",
      "model_name": "HBoxModel",
      "state": {
       "_dom_classes": [],
       "_model_module": "@jupyter-widgets/controls",
       "_model_module_version": "1.5.0",
       "_model_name": "HBoxModel",
       "_view_count": null,
       "_view_module": "@jupyter-widgets/controls",
       "_view_module_version": "1.5.0",
       "_view_name": "HBoxView",
       "box_style": "",
       "children": [
        "IPY_MODEL_7c03fdc3782f409f8505057010106211",
        "IPY_MODEL_6d9db547f4484a79a0d5397bc0ad2ca4",
        "IPY_MODEL_cb6033ad85a448cc8faa3730fc24fa1a"
       ],
       "layout": "IPY_MODEL_16e23c69519443aa864a983d75aea3de"
      }
     },
     "a06da60e00c7445db71b9f844e46cafd": {
      "model_module": "@jupyter-widgets/controls",
      "model_module_version": "1.5.0",
      "model_name": "HTMLModel",
      "state": {
       "_dom_classes": [],
       "_model_module": "@jupyter-widgets/controls",
       "_model_module_version": "1.5.0",
       "_model_name": "HTMLModel",
       "_view_count": null,
       "_view_module": "@jupyter-widgets/controls",
       "_view_module_version": "1.5.0",
       "_view_name": "HTMLView",
       "description": "",
       "description_tooltip": null,
       "layout": "IPY_MODEL_0f07eb192600414ab328fff5e4529d75",
       "placeholder": "​",
       "style": "IPY_MODEL_70c9270bb210410a8a22b37c14877172",
       "value": "config.json: 100%"
      }
     },
     "a0cf621849a34d58b868b5f4ecceb4e5": {
      "model_module": "@jupyter-widgets/controls",
      "model_module_version": "1.5.0",
      "model_name": "DescriptionStyleModel",
      "state": {
       "_model_module": "@jupyter-widgets/controls",
       "_model_module_version": "1.5.0",
       "_model_name": "DescriptionStyleModel",
       "_view_count": null,
       "_view_module": "@jupyter-widgets/base",
       "_view_module_version": "1.2.0",
       "_view_name": "StyleView",
       "description_width": ""
      }
     },
     "ae6a04463a6e48ca97a3c0f9e152ea10": {
      "model_module": "@jupyter-widgets/controls",
      "model_module_version": "1.5.0",
      "model_name": "ProgressStyleModel",
      "state": {
       "_model_module": "@jupyter-widgets/controls",
       "_model_module_version": "1.5.0",
       "_model_name": "ProgressStyleModel",
       "_view_count": null,
       "_view_module": "@jupyter-widgets/base",
       "_view_module_version": "1.2.0",
       "_view_name": "StyleView",
       "bar_color": null,
       "description_width": ""
      }
     },
     "c491f2e1590f44c98687c11cd1de488e": {
      "model_module": "@jupyter-widgets/controls",
      "model_module_version": "1.5.0",
      "model_name": "DescriptionStyleModel",
      "state": {
       "_model_module": "@jupyter-widgets/controls",
       "_model_module_version": "1.5.0",
       "_model_name": "DescriptionStyleModel",
       "_view_count": null,
       "_view_module": "@jupyter-widgets/base",
       "_view_module_version": "1.2.0",
       "_view_name": "StyleView",
       "description_width": ""
      }
     },
     "cb6033ad85a448cc8faa3730fc24fa1a": {
      "model_module": "@jupyter-widgets/controls",
      "model_module_version": "1.5.0",
      "model_name": "HTMLModel",
      "state": {
       "_dom_classes": [],
       "_model_module": "@jupyter-widgets/controls",
       "_model_module_version": "1.5.0",
       "_model_name": "HTMLModel",
       "_view_count": null,
       "_view_module": "@jupyter-widgets/controls",
       "_view_module_version": "1.5.0",
       "_view_name": "HTMLView",
       "description": "",
       "description_tooltip": null,
       "layout": "IPY_MODEL_f5e0e4cbc6904aea84181e3a91ff804f",
       "placeholder": "​",
       "style": "IPY_MODEL_5568ffcd6bc343379b8083a199d5f1a3",
       "value": " 1.12G/1.12G [00:03&lt;00:00, 367MB/s]"
      }
     },
     "cd2523d2869d4f97af8d06b906065c38": {
      "model_module": "@jupyter-widgets/controls",
      "model_module_version": "1.5.0",
      "model_name": "HBoxModel",
      "state": {
       "_dom_classes": [],
       "_model_module": "@jupyter-widgets/controls",
       "_model_module_version": "1.5.0",
       "_model_name": "HBoxModel",
       "_view_count": null,
       "_view_module": "@jupyter-widgets/controls",
       "_view_module_version": "1.5.0",
       "_view_name": "HBoxView",
       "box_style": "",
       "children": [
        "IPY_MODEL_cd9c72b14f144d80840ceddfe6b9626c",
        "IPY_MODEL_5a51f21e57754477bc8d55955bba3dd0",
        "IPY_MODEL_66977a50c8094671bb0a44da971afaa5"
       ],
       "layout": "IPY_MODEL_5e94bf7bcbe14c3a9a66449dabdb8b63"
      }
     },
     "cd9c72b14f144d80840ceddfe6b9626c": {
      "model_module": "@jupyter-widgets/controls",
      "model_module_version": "1.5.0",
      "model_name": "HTMLModel",
      "state": {
       "_dom_classes": [],
       "_model_module": "@jupyter-widgets/controls",
       "_model_module_version": "1.5.0",
       "_model_name": "HTMLModel",
       "_view_count": null,
       "_view_module": "@jupyter-widgets/controls",
       "_view_module_version": "1.5.0",
       "_view_name": "HTMLView",
       "description": "",
       "description_tooltip": null,
       "layout": "IPY_MODEL_5a3f75bd6b3a42969482a520cd82c43a",
       "placeholder": "​",
       "style": "IPY_MODEL_478ec65b9f47404e8586e393f8b84ecc",
       "value": "sentencepiece.bpe.model: 100%"
      }
     },
     "ced70b2e75bb43968828ac6708d8eeff": {
      "model_module": "@jupyter-widgets/base",
      "model_module_version": "1.2.0",
      "model_name": "LayoutModel",
      "state": {
       "_model_module": "@jupyter-widgets/base",
       "_model_module_version": "1.2.0",
       "_model_name": "LayoutModel",
       "_view_count": null,
       "_view_module": "@jupyter-widgets/base",
       "_view_module_version": "1.2.0",
       "_view_name": "LayoutView",
       "align_content": null,
       "align_items": null,
       "align_self": null,
       "border": null,
       "bottom": null,
       "display": null,
       "flex": null,
       "flex_flow": null,
       "grid_area": null,
       "grid_auto_columns": null,
       "grid_auto_flow": null,
       "grid_auto_rows": null,
       "grid_column": null,
       "grid_gap": null,
       "grid_row": null,
       "grid_template_areas": null,
       "grid_template_columns": null,
       "grid_template_rows": null,
       "height": null,
       "justify_content": null,
       "justify_items": null,
       "left": null,
       "margin": null,
       "max_height": null,
       "max_width": null,
       "min_height": null,
       "min_width": null,
       "object_fit": null,
       "object_position": null,
       "order": null,
       "overflow": null,
       "overflow_x": null,
       "overflow_y": null,
       "padding": null,
       "right": null,
       "top": null,
       "visibility": null,
       "width": null
      }
     },
     "e792c1fafbba408eb9cd0d06689af398": {
      "model_module": "@jupyter-widgets/controls",
      "model_module_version": "1.5.0",
      "model_name": "DescriptionStyleModel",
      "state": {
       "_model_module": "@jupyter-widgets/controls",
       "_model_module_version": "1.5.0",
       "_model_name": "DescriptionStyleModel",
       "_view_count": null,
       "_view_module": "@jupyter-widgets/base",
       "_view_module_version": "1.2.0",
       "_view_name": "StyleView",
       "description_width": ""
      }
     },
     "f5e0e4cbc6904aea84181e3a91ff804f": {
      "model_module": "@jupyter-widgets/base",
      "model_module_version": "1.2.0",
      "model_name": "LayoutModel",
      "state": {
       "_model_module": "@jupyter-widgets/base",
       "_model_module_version": "1.2.0",
       "_model_name": "LayoutModel",
       "_view_count": null,
       "_view_module": "@jupyter-widgets/base",
       "_view_module_version": "1.2.0",
       "_view_name": "LayoutView",
       "align_content": null,
       "align_items": null,
       "align_self": null,
       "border": null,
       "bottom": null,
       "display": null,
       "flex": null,
       "flex_flow": null,
       "grid_area": null,
       "grid_auto_columns": null,
       "grid_auto_flow": null,
       "grid_auto_rows": null,
       "grid_column": null,
       "grid_gap": null,
       "grid_row": null,
       "grid_template_areas": null,
       "grid_template_columns": null,
       "grid_template_rows": null,
       "height": null,
       "justify_content": null,
       "justify_items": null,
       "left": null,
       "margin": null,
       "max_height": null,
       "max_width": null,
       "min_height": null,
       "min_width": null,
       "object_fit": null,
       "object_position": null,
       "order": null,
       "overflow": null,
       "overflow_x": null,
       "overflow_y": null,
       "padding": null,
       "right": null,
       "top": null,
       "visibility": null,
       "width": null
      }
     }
    },
    "version_major": 2,
    "version_minor": 0
   }
  }
 },
 "nbformat": 4,
 "nbformat_minor": 5
}
