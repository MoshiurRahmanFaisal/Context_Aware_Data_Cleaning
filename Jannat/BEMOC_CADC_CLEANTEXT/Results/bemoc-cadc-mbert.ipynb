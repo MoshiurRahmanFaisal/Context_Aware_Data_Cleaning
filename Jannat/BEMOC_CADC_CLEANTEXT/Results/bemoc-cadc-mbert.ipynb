{
 "cells": [
  {
   "cell_type": "code",
   "execution_count": 1,
   "id": "952ce15c",
   "metadata": {
    "execution": {
     "iopub.execute_input": "2024-02-15T14:15:10.761531Z",
     "iopub.status.busy": "2024-02-15T14:15:10.761185Z",
     "iopub.status.idle": "2024-02-15T14:15:27.919872Z",
     "shell.execute_reply": "2024-02-15T14:15:27.918582Z"
    },
    "papermill": {
     "duration": 17.180946,
     "end_time": "2024-02-15T14:15:27.922734",
     "exception": false,
     "start_time": "2024-02-15T14:15:10.741788",
     "status": "completed"
    },
    "tags": []
   },
   "outputs": [
    {
     "name": "stdout",
     "output_type": "stream",
     "text": [
      "Collecting bnlp_toolkit\r\n",
      "  Downloading bnlp_toolkit-4.0.0-py3-none-any.whl.metadata (3.3 kB)\r\n",
      "Requirement already satisfied: sentencepiece in /opt/conda/lib/python3.10/site-packages (from bnlp_toolkit) (0.1.99)\r\n",
      "Requirement already satisfied: gensim in /opt/conda/lib/python3.10/site-packages (from bnlp_toolkit) (4.3.2)\r\n",
      "Requirement already satisfied: nltk in /opt/conda/lib/python3.10/site-packages (from bnlp_toolkit) (3.2.4)\r\n",
      "Requirement already satisfied: numpy in /opt/conda/lib/python3.10/site-packages (from bnlp_toolkit) (1.24.4)\r\n",
      "Requirement already satisfied: scipy in /opt/conda/lib/python3.10/site-packages (from bnlp_toolkit) (1.11.4)\r\n",
      "Collecting sklearn-crfsuite (from bnlp_toolkit)\r\n",
      "  Downloading sklearn_crfsuite-0.3.6-py2.py3-none-any.whl (12 kB)\r\n",
      "Requirement already satisfied: tqdm in /opt/conda/lib/python3.10/site-packages (from bnlp_toolkit) (4.66.1)\r\n",
      "Collecting ftfy (from bnlp_toolkit)\r\n",
      "  Downloading ftfy-6.1.3-py3-none-any.whl.metadata (6.2 kB)\r\n",
      "Collecting emoji==1.7.0 (from bnlp_toolkit)\r\n",
      "  Downloading emoji-1.7.0.tar.gz (175 kB)\r\n",
      "\u001b[2K     \u001b[90m━━━━━━━━━━━━━━━━━━━━━━━━━━━━━━━━━━━━━━━\u001b[0m \u001b[32m175.4/175.4 kB\u001b[0m \u001b[31m3.3 MB/s\u001b[0m eta \u001b[36m0:00:00\u001b[0m\r\n",
      "\u001b[?25h  Preparing metadata (setup.py) ... \u001b[?25l-\b \bdone\r\n",
      "\u001b[?25hRequirement already satisfied: requests in /opt/conda/lib/python3.10/site-packages (from bnlp_toolkit) (2.31.0)\r\n",
      "Requirement already satisfied: wcwidth<0.3.0,>=0.2.12 in /opt/conda/lib/python3.10/site-packages (from ftfy->bnlp_toolkit) (0.2.13)\r\n",
      "Requirement already satisfied: smart-open>=1.8.1 in /opt/conda/lib/python3.10/site-packages (from gensim->bnlp_toolkit) (6.4.0)\r\n",
      "Requirement already satisfied: six in /opt/conda/lib/python3.10/site-packages (from nltk->bnlp_toolkit) (1.16.0)\r\n",
      "Requirement already satisfied: charset-normalizer<4,>=2 in /opt/conda/lib/python3.10/site-packages (from requests->bnlp_toolkit) (3.3.2)\r\n",
      "Requirement already satisfied: idna<4,>=2.5 in /opt/conda/lib/python3.10/site-packages (from requests->bnlp_toolkit) (3.6)\r\n",
      "Requirement already satisfied: urllib3<3,>=1.21.1 in /opt/conda/lib/python3.10/site-packages (from requests->bnlp_toolkit) (1.26.18)\r\n",
      "Requirement already satisfied: certifi>=2017.4.17 in /opt/conda/lib/python3.10/site-packages (from requests->bnlp_toolkit) (2023.11.17)\r\n",
      "Collecting python-crfsuite>=0.8.3 (from sklearn-crfsuite->bnlp_toolkit)\r\n",
      "  Downloading python_crfsuite-0.9.10-cp310-cp310-manylinux_2_17_x86_64.manylinux2014_x86_64.whl.metadata (4.2 kB)\r\n",
      "Requirement already satisfied: tabulate in /opt/conda/lib/python3.10/site-packages (from sklearn-crfsuite->bnlp_toolkit) (0.9.0)\r\n",
      "Downloading bnlp_toolkit-4.0.0-py3-none-any.whl (22 kB)\r\n",
      "Downloading ftfy-6.1.3-py3-none-any.whl (53 kB)\r\n",
      "\u001b[2K   \u001b[90m━━━━━━━━━━━━━━━━━━━━━━━━━━━━━━━━━━━━━━━━\u001b[0m \u001b[32m53.4/53.4 kB\u001b[0m \u001b[31m3.1 MB/s\u001b[0m eta \u001b[36m0:00:00\u001b[0m\r\n",
      "\u001b[?25hDownloading python_crfsuite-0.9.10-cp310-cp310-manylinux_2_17_x86_64.manylinux2014_x86_64.whl (1.1 MB)\r\n",
      "\u001b[2K   \u001b[90m━━━━━━━━━━━━━━━━━━━━━━━━━━━━━━━━━━━━━━━━\u001b[0m \u001b[32m1.1/1.1 MB\u001b[0m \u001b[31m23.8 MB/s\u001b[0m eta \u001b[36m0:00:00\u001b[0m\r\n",
      "\u001b[?25hBuilding wheels for collected packages: emoji\r\n",
      "  Building wheel for emoji (setup.py) ... \u001b[?25l-\b \bdone\r\n",
      "\u001b[?25h  Created wheel for emoji: filename=emoji-1.7.0-py3-none-any.whl size=171033 sha256=a49bf8b9a0675648e0f8a84e25c70a19a9d2d0792a9248cb44a2f693cda98d9c\r\n",
      "  Stored in directory: /root/.cache/pip/wheels/31/8a/8c/315c9e5d7773f74b33d5ed33f075b49c6eaeb7cedbb86e2cf8\r\n",
      "Successfully built emoji\r\n",
      "Installing collected packages: python-crfsuite, emoji, sklearn-crfsuite, ftfy, bnlp_toolkit\r\n",
      "  Attempting uninstall: emoji\r\n",
      "    Found existing installation: emoji 2.10.0\r\n",
      "    Uninstalling emoji-2.10.0:\r\n",
      "      Successfully uninstalled emoji-2.10.0\r\n",
      "Successfully installed bnlp_toolkit-4.0.0 emoji-1.7.0 ftfy-6.1.3 python-crfsuite-0.9.10 sklearn-crfsuite-0.3.6\r\n"
     ]
    }
   ],
   "source": [
    "!pip install bnlp_toolkit"
   ]
  },
  {
   "cell_type": "code",
   "execution_count": 2,
   "id": "dbc4fc73",
   "metadata": {
    "execution": {
     "iopub.execute_input": "2024-02-15T14:15:27.969439Z",
     "iopub.status.busy": "2024-02-15T14:15:27.969099Z",
     "iopub.status.idle": "2024-02-15T14:15:41.542978Z",
     "shell.execute_reply": "2024-02-15T14:15:41.541972Z"
    },
    "id": "d32533c5",
    "papermill": {
     "duration": 13.599958,
     "end_time": "2024-02-15T14:15:41.545465",
     "exception": false,
     "start_time": "2024-02-15T14:15:27.945507",
     "status": "completed"
    },
    "scrolled": true,
    "tags": []
   },
   "outputs": [],
   "source": [
    "import pandas as pd\n",
    "import numpy as np\n",
    "import matplotlib.pyplot as plt\n",
    "from sklearn.feature_extraction.text import TfidfVectorizer\n",
    "from bnlp import NLTKTokenizer"
   ]
  },
  {
   "cell_type": "code",
   "execution_count": 3,
   "id": "990c5149",
   "metadata": {
    "execution": {
     "iopub.execute_input": "2024-02-15T14:15:41.587048Z",
     "iopub.status.busy": "2024-02-15T14:15:41.586193Z",
     "iopub.status.idle": "2024-02-15T14:15:42.416297Z",
     "shell.execute_reply": "2024-02-15T14:15:42.415485Z"
    },
    "id": "bba016ba",
    "papermill": {
     "duration": 0.853146,
     "end_time": "2024-02-15T14:15:42.418661",
     "exception": false,
     "start_time": "2024-02-15T14:15:41.565515",
     "status": "completed"
    },
    "scrolled": true,
    "tags": []
   },
   "outputs": [],
   "source": [
    "df_train = pd.read_excel(\"/kaggle/input/cleantext/BEmoC7k.xlsx\")"
   ]
  },
  {
   "cell_type": "code",
   "execution_count": 4,
   "id": "c7761094",
   "metadata": {
    "execution": {
     "iopub.execute_input": "2024-02-15T14:15:42.460623Z",
     "iopub.status.busy": "2024-02-15T14:15:42.459542Z",
     "iopub.status.idle": "2024-02-15T14:15:42.474578Z",
     "shell.execute_reply": "2024-02-15T14:15:42.473626Z"
    },
    "id": "3c2ae414",
    "outputId": "e8ef9e85-dda0-4853-f1f3-64fd5ff173a1",
    "papermill": {
     "duration": 0.036889,
     "end_time": "2024-02-15T14:15:42.476461",
     "exception": false,
     "start_time": "2024-02-15T14:15:42.439572",
     "status": "completed"
    },
    "scrolled": true,
    "tags": []
   },
   "outputs": [
    {
     "data": {
      "text/html": [
       "<div>\n",
       "<style scoped>\n",
       "    .dataframe tbody tr th:only-of-type {\n",
       "        vertical-align: middle;\n",
       "    }\n",
       "\n",
       "    .dataframe tbody tr th {\n",
       "        vertical-align: top;\n",
       "    }\n",
       "\n",
       "    .dataframe thead th {\n",
       "        text-align: right;\n",
       "    }\n",
       "</style>\n",
       "<table border=\"1\" class=\"dataframe\">\n",
       "  <thead>\n",
       "    <tr style=\"text-align: right;\">\n",
       "      <th></th>\n",
       "      <th>TEXT</th>\n",
       "      <th>classes</th>\n",
       "    </tr>\n",
       "  </thead>\n",
       "  <tbody>\n",
       "    <tr>\n",
       "      <th>0</th>\n",
       "      <td>নাইমা কি করবেন আমরা জানি</td>\n",
       "      <td>sadness</td>\n",
       "    </tr>\n",
       "    <tr>\n",
       "      <th>1</th>\n",
       "      <td>ভাই সব আপনাদের খুব ভাল লাগছে</td>\n",
       "      <td>joy</td>\n",
       "    </tr>\n",
       "    <tr>\n",
       "      <th>2</th>\n",
       "      <td>গাঞ্জা খাইয়া নিউজ শেয়ার করছে দিগন্ত  বয়কটে ...</td>\n",
       "      <td>anger</td>\n",
       "    </tr>\n",
       "    <tr>\n",
       "      <th>3</th>\n",
       "      <td>অনেক ধন্যবাদ স্যার যশোরে ইত্যাদি অনুষ্ঠান করার...</td>\n",
       "      <td>joy</td>\n",
       "    </tr>\n",
       "    <tr>\n",
       "      <th>4</th>\n",
       "      <td>বর্তমানে মুসলমান মারে যে জন সে জন হয়েছে ঈশ্বর</td>\n",
       "      <td>disgust</td>\n",
       "    </tr>\n",
       "  </tbody>\n",
       "</table>\n",
       "</div>"
      ],
      "text/plain": [
       "                                                TEXT  classes\n",
       "0                           নাইমা কি করবেন আমরা জানি  sadness\n",
       "1                       ভাই সব আপনাদের খুব ভাল লাগছে      joy\n",
       "2  গাঞ্জা খাইয়া নিউজ শেয়ার করছে দিগন্ত  বয়কটে ...    anger\n",
       "3  অনেক ধন্যবাদ স্যার যশোরে ইত্যাদি অনুষ্ঠান করার...      joy\n",
       "4      বর্তমানে মুসলমান মারে যে জন সে জন হয়েছে ঈশ্বর  disgust"
      ]
     },
     "execution_count": 4,
     "metadata": {},
     "output_type": "execute_result"
    }
   ],
   "source": [
    "df_train.head()"
   ]
  },
  {
   "cell_type": "code",
   "execution_count": 5,
   "id": "e58d808c",
   "metadata": {
    "execution": {
     "iopub.execute_input": "2024-02-15T14:15:42.516230Z",
     "iopub.status.busy": "2024-02-15T14:15:42.515961Z",
     "iopub.status.idle": "2024-02-15T14:15:42.524336Z",
     "shell.execute_reply": "2024-02-15T14:15:42.523598Z"
    },
    "id": "4d94877e",
    "papermill": {
     "duration": 0.030444,
     "end_time": "2024-02-15T14:15:42.526316",
     "exception": false,
     "start_time": "2024-02-15T14:15:42.495872",
     "status": "completed"
    },
    "tags": []
   },
   "outputs": [],
   "source": [
    "df_train.dropna(inplace=True)"
   ]
  },
  {
   "cell_type": "code",
   "execution_count": 6,
   "id": "8570fe46",
   "metadata": {
    "execution": {
     "iopub.execute_input": "2024-02-15T14:15:42.566389Z",
     "iopub.status.busy": "2024-02-15T14:15:42.565863Z",
     "iopub.status.idle": "2024-02-15T14:15:42.572822Z",
     "shell.execute_reply": "2024-02-15T14:15:42.571921Z"
    },
    "papermill": {
     "duration": 0.029613,
     "end_time": "2024-02-15T14:15:42.575213",
     "exception": false,
     "start_time": "2024-02-15T14:15:42.545600",
     "status": "completed"
    },
    "tags": []
   },
   "outputs": [
    {
     "name": "stdout",
     "output_type": "stream",
     "text": [
      "1093\n"
     ]
    }
   ],
   "source": [
    "longest_string = max(df_train[\"TEXT\"], key=len)\n",
    "print(len(longest_string))"
   ]
  },
  {
   "cell_type": "code",
   "execution_count": 7,
   "id": "0e43d33d",
   "metadata": {
    "execution": {
     "iopub.execute_input": "2024-02-15T14:15:42.615785Z",
     "iopub.status.busy": "2024-02-15T14:15:42.615137Z",
     "iopub.status.idle": "2024-02-15T14:15:42.628455Z",
     "shell.execute_reply": "2024-02-15T14:15:42.627545Z"
    },
    "papermill": {
     "duration": 0.035581,
     "end_time": "2024-02-15T14:15:42.630435",
     "exception": false,
     "start_time": "2024-02-15T14:15:42.594854",
     "status": "completed"
    },
    "tags": []
   },
   "outputs": [
    {
     "data": {
      "text/plain": [
       "classes\n",
       "joy         1524\n",
       "disgust     1356\n",
       "sadness     1327\n",
       "anger       1052\n",
       "fear         962\n",
       "surprise     779\n",
       "Name: count, dtype: int64"
      ]
     },
     "execution_count": 7,
     "metadata": {},
     "output_type": "execute_result"
    }
   ],
   "source": [
    "df_train['classes'].value_counts()"
   ]
  },
  {
   "cell_type": "code",
   "execution_count": 8,
   "id": "3c934430",
   "metadata": {
    "execution": {
     "iopub.execute_input": "2024-02-15T14:15:42.671664Z",
     "iopub.status.busy": "2024-02-15T14:15:42.671024Z",
     "iopub.status.idle": "2024-02-15T14:15:42.676233Z",
     "shell.execute_reply": "2024-02-15T14:15:42.675432Z"
    },
    "papermill": {
     "duration": 0.028185,
     "end_time": "2024-02-15T14:15:42.678093",
     "exception": false,
     "start_time": "2024-02-15T14:15:42.649908",
     "status": "completed"
    },
    "tags": []
   },
   "outputs": [],
   "source": [
    "from bnlp import CleanText\n",
    "\n",
    "clean_text = CleanText(\n",
    "   fix_unicode=True,\n",
    "   unicode_norm=True,\n",
    "   unicode_norm_form=\"NFKC\",\n",
    "   remove_url=True,\n",
    "   remove_email=True,\n",
    "   remove_emoji=False,\n",
    "   remove_number=False,\n",
    "   remove_digits=False,\n",
    "   remove_punct=False,\n",
    "   replace_with_url=\"<URL>\",\n",
    "   replace_with_email=\"<EMAIL>\",\n",
    "   replace_with_number=\"<NUMBER>\",\n",
    "   replace_with_digit=\"<DIGIT>\",\n",
    "   replace_with_punct = \"<PUNC>\"\n",
    ")"
   ]
  },
  {
   "cell_type": "code",
   "execution_count": 9,
   "id": "f27ab136",
   "metadata": {
    "execution": {
     "iopub.execute_input": "2024-02-15T14:15:42.721155Z",
     "iopub.status.busy": "2024-02-15T14:15:42.720367Z",
     "iopub.status.idle": "2024-02-15T14:15:45.494984Z",
     "shell.execute_reply": "2024-02-15T14:15:45.494097Z"
    },
    "papermill": {
     "duration": 2.79942,
     "end_time": "2024-02-15T14:15:45.497257",
     "exception": false,
     "start_time": "2024-02-15T14:15:42.697837",
     "status": "completed"
    },
    "tags": []
   },
   "outputs": [],
   "source": [
    "df_train['TEXT'] = df_train['TEXT'].apply(clean_text)"
   ]
  },
  {
   "cell_type": "code",
   "execution_count": 10,
   "id": "2756418c",
   "metadata": {
    "execution": {
     "iopub.execute_input": "2024-02-15T14:15:45.538553Z",
     "iopub.status.busy": "2024-02-15T14:15:45.538019Z",
     "iopub.status.idle": "2024-02-15T14:15:45.556443Z",
     "shell.execute_reply": "2024-02-15T14:15:45.555712Z"
    },
    "papermill": {
     "duration": 0.040742,
     "end_time": "2024-02-15T14:15:45.558392",
     "exception": false,
     "start_time": "2024-02-15T14:15:45.517650",
     "status": "completed"
    },
    "tags": []
   },
   "outputs": [],
   "source": [
    "from sklearn.model_selection import train_test_split\n",
    "\n",
    "train_df, test_df = train_test_split(df_train, test_size=0.2,stratify=df_train['classes'],random_state=42)"
   ]
  },
  {
   "cell_type": "code",
   "execution_count": 11,
   "id": "fe475a51",
   "metadata": {
    "execution": {
     "iopub.execute_input": "2024-02-15T14:15:45.600012Z",
     "iopub.status.busy": "2024-02-15T14:15:45.599301Z",
     "iopub.status.idle": "2024-02-15T14:15:45.604002Z",
     "shell.execute_reply": "2024-02-15T14:15:45.603186Z"
    },
    "id": "SkHget_6VKIl",
    "papermill": {
     "duration": 0.027843,
     "end_time": "2024-02-15T14:15:45.606222",
     "exception": false,
     "start_time": "2024-02-15T14:15:45.578379",
     "status": "completed"
    },
    "tags": []
   },
   "outputs": [],
   "source": [
    "X_train  =  train_df['TEXT'].values.tolist()\n",
    "y_train = train_df['classes'].tolist()"
   ]
  },
  {
   "cell_type": "code",
   "execution_count": 12,
   "id": "e007eb7c",
   "metadata": {
    "execution": {
     "iopub.execute_input": "2024-02-15T14:15:45.646828Z",
     "iopub.status.busy": "2024-02-15T14:15:45.646533Z",
     "iopub.status.idle": "2024-02-15T14:15:45.651016Z",
     "shell.execute_reply": "2024-02-15T14:15:45.650226Z"
    },
    "id": "oAFSbfrQVTDr",
    "papermill": {
     "duration": 0.026762,
     "end_time": "2024-02-15T14:15:45.652786",
     "exception": false,
     "start_time": "2024-02-15T14:15:45.626024",
     "status": "completed"
    },
    "tags": []
   },
   "outputs": [],
   "source": [
    "X_test =  test_df['TEXT'].values.tolist()\n",
    "y_test = test_df['classes'].tolist()"
   ]
  },
  {
   "cell_type": "code",
   "execution_count": 13,
   "id": "90ca9b4c",
   "metadata": {
    "execution": {
     "iopub.execute_input": "2024-02-15T14:15:45.693731Z",
     "iopub.status.busy": "2024-02-15T14:15:45.693131Z",
     "iopub.status.idle": "2024-02-15T14:16:28.935080Z",
     "shell.execute_reply": "2024-02-15T14:16:28.933970Z"
    },
    "papermill": {
     "duration": 43.265111,
     "end_time": "2024-02-15T14:16:28.937495",
     "exception": false,
     "start_time": "2024-02-15T14:15:45.672384",
     "status": "completed"
    },
    "tags": []
   },
   "outputs": [
    {
     "name": "stdout",
     "output_type": "stream",
     "text": [
      "Collecting ktrain\r\n",
      "  Downloading ktrain-0.40.0.tar.gz (25.3 MB)\r\n",
      "\u001b[2K     \u001b[90m━━━━━━━━━━━━━━━━━━━━━━━━━━━━━━━━━━━━━━━━\u001b[0m \u001b[32m25.3/25.3 MB\u001b[0m \u001b[31m41.4 MB/s\u001b[0m eta \u001b[36m0:00:00\u001b[0m\r\n",
      "\u001b[?25h  Preparing metadata (setup.py) ... \u001b[?25l-\b \bdone\r\n",
      "\u001b[?25hRequirement already satisfied: scikit-learn in /opt/conda/lib/python3.10/site-packages (from ktrain) (1.2.2)\r\n",
      "Requirement already satisfied: matplotlib>=3.0.0 in /opt/conda/lib/python3.10/site-packages (from ktrain) (3.7.4)\r\n",
      "Requirement already satisfied: pandas>=1.0.1 in /opt/conda/lib/python3.10/site-packages (from ktrain) (2.1.4)\r\n",
      "Requirement already satisfied: fastprogress>=0.1.21 in /opt/conda/lib/python3.10/site-packages (from ktrain) (1.0.3)\r\n",
      "Requirement already satisfied: requests in /opt/conda/lib/python3.10/site-packages (from ktrain) (2.31.0)\r\n",
      "Requirement already satisfied: joblib in /opt/conda/lib/python3.10/site-packages (from ktrain) (1.3.2)\r\n",
      "Requirement already satisfied: packaging in /opt/conda/lib/python3.10/site-packages (from ktrain) (21.3)\r\n",
      "Collecting langdetect (from ktrain)\r\n",
      "  Downloading langdetect-1.0.9.tar.gz (981 kB)\r\n",
      "\u001b[2K     \u001b[90m━━━━━━━━━━━━━━━━━━━━━━━━━━━━━━━━━━━━━━\u001b[0m \u001b[32m981.5/981.5 kB\u001b[0m \u001b[31m43.8 MB/s\u001b[0m eta \u001b[36m0:00:00\u001b[0m\r\n",
      "\u001b[?25h  Preparing metadata (setup.py) ... \u001b[?25l-\b \bdone\r\n",
      "\u001b[?25hRequirement already satisfied: jieba in /opt/conda/lib/python3.10/site-packages (from ktrain) (0.42.1)\r\n",
      "Requirement already satisfied: charset-normalizer in /opt/conda/lib/python3.10/site-packages (from ktrain) (3.3.2)\r\n",
      "Collecting chardet (from ktrain)\r\n",
      "  Downloading chardet-5.2.0-py3-none-any.whl.metadata (3.4 kB)\r\n",
      "Collecting syntok>1.3.3 (from ktrain)\r\n",
      "  Downloading syntok-1.4.4-py3-none-any.whl (24 kB)\r\n",
      "Collecting tika (from ktrain)\r\n",
      "  Downloading tika-2.6.0.tar.gz (27 kB)\r\n",
      "  Preparing metadata (setup.py) ... \u001b[?25l-\b \bdone\r\n",
      "\u001b[?25hRequirement already satisfied: transformers>=4.17.0 in /opt/conda/lib/python3.10/site-packages (from ktrain) (4.37.0)\r\n",
      "Requirement already satisfied: sentencepiece in /opt/conda/lib/python3.10/site-packages (from ktrain) (0.1.99)\r\n",
      "Collecting keras_bert>=0.86.0 (from ktrain)\r\n",
      "  Downloading keras-bert-0.89.0.tar.gz (25 kB)\r\n",
      "  Preparing metadata (setup.py) ... \u001b[?25l-\b \bdone\r\n",
      "\u001b[?25hCollecting whoosh (from ktrain)\r\n",
      "  Downloading Whoosh-2.7.4-py2.py3-none-any.whl (468 kB)\r\n",
      "\u001b[2K     \u001b[90m━━━━━━━━━━━━━━━━━━━━━━━━━━━━━━━━━━━━━━\u001b[0m \u001b[32m468.8/468.8 kB\u001b[0m \u001b[31m26.5 MB/s\u001b[0m eta \u001b[36m0:00:00\u001b[0m\r\n",
      "\u001b[?25hRequirement already satisfied: numpy in /opt/conda/lib/python3.10/site-packages (from keras_bert>=0.86.0->ktrain) (1.24.4)\r\n",
      "Collecting keras-transformer==0.40.0 (from keras_bert>=0.86.0->ktrain)\r\n",
      "  Downloading keras-transformer-0.40.0.tar.gz (9.7 kB)\r\n",
      "  Preparing metadata (setup.py) ... \u001b[?25l-\b \bdone\r\n",
      "\u001b[?25hCollecting keras-pos-embd==0.13.0 (from keras-transformer==0.40.0->keras_bert>=0.86.0->ktrain)\r\n",
      "  Downloading keras-pos-embd-0.13.0.tar.gz (5.6 kB)\r\n",
      "  Preparing metadata (setup.py) ... \u001b[?25l-\b \bdone\r\n",
      "\u001b[?25hCollecting keras-multi-head==0.29.0 (from keras-transformer==0.40.0->keras_bert>=0.86.0->ktrain)\r\n",
      "  Downloading keras-multi-head-0.29.0.tar.gz (13 kB)\r\n",
      "  Preparing metadata (setup.py) ... \u001b[?25l-\b \bdone\r\n",
      "\u001b[?25hCollecting keras-layer-normalization==0.16.0 (from keras-transformer==0.40.0->keras_bert>=0.86.0->ktrain)\r\n",
      "  Downloading keras-layer-normalization-0.16.0.tar.gz (3.9 kB)\r\n",
      "  Preparing metadata (setup.py) ... \u001b[?25l-\b \bdone\r\n",
      "\u001b[?25hCollecting keras-position-wise-feed-forward==0.8.0 (from keras-transformer==0.40.0->keras_bert>=0.86.0->ktrain)\r\n",
      "  Downloading keras-position-wise-feed-forward-0.8.0.tar.gz (4.1 kB)\r\n",
      "  Preparing metadata (setup.py) ... \u001b[?25l-\b \bdone\r\n",
      "\u001b[?25hCollecting keras-embed-sim==0.10.0 (from keras-transformer==0.40.0->keras_bert>=0.86.0->ktrain)\r\n",
      "  Downloading keras-embed-sim-0.10.0.tar.gz (3.6 kB)\r\n",
      "  Preparing metadata (setup.py) ... \u001b[?25l-\b \bdone\r\n",
      "\u001b[?25hCollecting keras-self-attention==0.51.0 (from keras-multi-head==0.29.0->keras-transformer==0.40.0->keras_bert>=0.86.0->ktrain)\r\n",
      "  Downloading keras-self-attention-0.51.0.tar.gz (11 kB)\r\n",
      "  Preparing metadata (setup.py) ... \u001b[?25l-\b \bdone\r\n",
      "\u001b[?25hRequirement already satisfied: contourpy>=1.0.1 in /opt/conda/lib/python3.10/site-packages (from matplotlib>=3.0.0->ktrain) (1.2.0)\r\n",
      "Requirement already satisfied: cycler>=0.10 in /opt/conda/lib/python3.10/site-packages (from matplotlib>=3.0.0->ktrain) (0.12.1)\r\n",
      "Requirement already satisfied: fonttools>=4.22.0 in /opt/conda/lib/python3.10/site-packages (from matplotlib>=3.0.0->ktrain) (4.47.0)\r\n",
      "Requirement already satisfied: kiwisolver>=1.0.1 in /opt/conda/lib/python3.10/site-packages (from matplotlib>=3.0.0->ktrain) (1.4.5)\r\n",
      "Requirement already satisfied: pillow>=6.2.0 in /opt/conda/lib/python3.10/site-packages (from matplotlib>=3.0.0->ktrain) (9.5.0)\r\n",
      "Requirement already satisfied: pyparsing>=2.3.1 in /opt/conda/lib/python3.10/site-packages (from matplotlib>=3.0.0->ktrain) (3.1.1)\r\n",
      "Requirement already satisfied: python-dateutil>=2.7 in /opt/conda/lib/python3.10/site-packages (from matplotlib>=3.0.0->ktrain) (2.8.2)\r\n",
      "Requirement already satisfied: pytz>=2020.1 in /opt/conda/lib/python3.10/site-packages (from pandas>=1.0.1->ktrain) (2023.3.post1)\r\n",
      "Requirement already satisfied: tzdata>=2022.1 in /opt/conda/lib/python3.10/site-packages (from pandas>=1.0.1->ktrain) (2023.4)\r\n",
      "Requirement already satisfied: regex>2016 in /opt/conda/lib/python3.10/site-packages (from syntok>1.3.3->ktrain) (2023.12.25)\r\n",
      "Requirement already satisfied: filelock in /opt/conda/lib/python3.10/site-packages (from transformers>=4.17.0->ktrain) (3.13.1)\r\n",
      "Requirement already satisfied: huggingface-hub<1.0,>=0.19.3 in /opt/conda/lib/python3.10/site-packages (from transformers>=4.17.0->ktrain) (0.20.3)\r\n",
      "Requirement already satisfied: pyyaml>=5.1 in /opt/conda/lib/python3.10/site-packages (from transformers>=4.17.0->ktrain) (6.0.1)\r\n",
      "Requirement already satisfied: tokenizers<0.19,>=0.14 in /opt/conda/lib/python3.10/site-packages (from transformers>=4.17.0->ktrain) (0.15.1)\r\n",
      "Requirement already satisfied: safetensors>=0.3.1 in /opt/conda/lib/python3.10/site-packages (from transformers>=4.17.0->ktrain) (0.4.2)\r\n",
      "Requirement already satisfied: tqdm>=4.27 in /opt/conda/lib/python3.10/site-packages (from transformers>=4.17.0->ktrain) (4.66.1)\r\n",
      "Requirement already satisfied: six in /opt/conda/lib/python3.10/site-packages (from langdetect->ktrain) (1.16.0)\r\n",
      "Requirement already satisfied: idna<4,>=2.5 in /opt/conda/lib/python3.10/site-packages (from requests->ktrain) (3.6)\r\n",
      "Requirement already satisfied: urllib3<3,>=1.21.1 in /opt/conda/lib/python3.10/site-packages (from requests->ktrain) (1.26.18)\r\n",
      "Requirement already satisfied: certifi>=2017.4.17 in /opt/conda/lib/python3.10/site-packages (from requests->ktrain) (2023.11.17)\r\n",
      "Requirement already satisfied: scipy>=1.3.2 in /opt/conda/lib/python3.10/site-packages (from scikit-learn->ktrain) (1.11.4)\r\n",
      "Requirement already satisfied: threadpoolctl>=2.0.0 in /opt/conda/lib/python3.10/site-packages (from scikit-learn->ktrain) (3.2.0)\r\n",
      "Requirement already satisfied: setuptools in /opt/conda/lib/python3.10/site-packages (from tika->ktrain) (69.0.3)\r\n",
      "Requirement already satisfied: fsspec>=2023.5.0 in /opt/conda/lib/python3.10/site-packages (from huggingface-hub<1.0,>=0.19.3->transformers>=4.17.0->ktrain) (2023.12.2)\r\n",
      "Requirement already satisfied: typing-extensions>=3.7.4.3 in /opt/conda/lib/python3.10/site-packages (from huggingface-hub<1.0,>=0.19.3->transformers>=4.17.0->ktrain) (4.9.0)\r\n",
      "Downloading chardet-5.2.0-py3-none-any.whl (199 kB)\r\n",
      "\u001b[2K   \u001b[90m━━━━━━━━━━━━━━━━━━━━━━━━━━━━━━━━━━━━━━━━\u001b[0m \u001b[32m199.4/199.4 kB\u001b[0m \u001b[31m11.1 MB/s\u001b[0m eta \u001b[36m0:00:00\u001b[0m\r\n",
      "\u001b[?25hBuilding wheels for collected packages: ktrain, keras_bert, keras-transformer, keras-embed-sim, keras-layer-normalization, keras-multi-head, keras-pos-embd, keras-position-wise-feed-forward, keras-self-attention, langdetect, tika\r\n",
      "  Building wheel for ktrain (setup.py) ... \u001b[?25l-\b \b\\\b \bdone\r\n",
      "\u001b[?25h  Created wheel for ktrain: filename=ktrain-0.40.0-py3-none-any.whl size=25319454 sha256=27fc106e5d646f55fa99844434970841bd9c344db245686d64abbb1c41def1c6\r\n",
      "  Stored in directory: /root/.cache/pip/wheels/00/2d/0f/1fcda4d8c9a77b360dc1df7b43458ef5c95fcb85f556a8d211\r\n",
      "  Building wheel for keras_bert (setup.py) ... \u001b[?25l-\b \b\\\b \bdone\r\n",
      "\u001b[?25h  Created wheel for keras_bert: filename=keras_bert-0.89.0-py3-none-any.whl size=33499 sha256=d8915c7d247f54a3b0e2cf6bba728577436743b8fc59e7fdd57a44f511bb2ca8\r\n",
      "  Stored in directory: /root/.cache/pip/wheels/89/0c/04/646b6fdf6375911b42c8d540a8a3fda8d5d77634e5dcbe7b26\r\n",
      "  Building wheel for keras-transformer (setup.py) ... \u001b[?25l-\b \b\\\b \bdone\r\n",
      "\u001b[?25h  Created wheel for keras-transformer: filename=keras_transformer-0.40.0-py3-none-any.whl size=12286 sha256=0e2914e7abaf33d433a66b87a56d48b90fd07ec601225902923f81e429b3b17d\r\n",
      "  Stored in directory: /root/.cache/pip/wheels/f2/cb/22/75a0ad376129177f7c95c0d91331a18f5368fd657f4035ba7c\r\n",
      "  Building wheel for keras-embed-sim (setup.py) ... \u001b[?25l-\b \b\\\b \bdone\r\n",
      "\u001b[?25h  Created wheel for keras-embed-sim: filename=keras_embed_sim-0.10.0-py3-none-any.whl size=3943 sha256=04b4d21fe00676fc051594dfea43473afdaebd20dcd71679c96a1573d2b567e1\r\n",
      "  Stored in directory: /root/.cache/pip/wheels/82/32/c7/fd35d0d1b840a6c7cbd4343f808d10d0f7b87d271a4dbe796f\r\n",
      "  Building wheel for keras-layer-normalization (setup.py) ... \u001b[?25l-\b \b\\\b \bdone\r\n",
      "\u001b[?25h  Created wheel for keras-layer-normalization: filename=keras_layer_normalization-0.16.0-py3-none-any.whl size=4653 sha256=af17206d236191680144b7f30fd0d893fcbb33dd7a7c377fbd300774da4a3c3d\r\n",
      "  Stored in directory: /root/.cache/pip/wheels/ed/3a/4b/21db23c0cc56c4b219616e181f258eb7c57d36cc5d056fae9a\r\n",
      "  Building wheel for keras-multi-head (setup.py) ... \u001b[?25l-\b \b\\\b \bdone\r\n",
      "\u001b[?25h  Created wheel for keras-multi-head: filename=keras_multi_head-0.29.0-py3-none-any.whl size=14975 sha256=c0037ee25c29c23a6b7c4d0432c565848d192e6e5418ff06369b26e7e774efc5\r\n",
      "  Stored in directory: /root/.cache/pip/wheels/cb/23/4b/06d7ae21714f70fcc25b48f972cc8e5e7f4b6b764a038b509d\r\n",
      "  Building wheel for keras-pos-embd (setup.py) ... \u001b[?25l-\b \b\\\b \bdone\r\n",
      "\u001b[?25h  Created wheel for keras-pos-embd: filename=keras_pos_embd-0.13.0-py3-none-any.whl size=6946 sha256=06e54ea53b8575e585b6f1700f499ef3991682301cbc3ba4cb1159fa9f70a47a\r\n",
      "  Stored in directory: /root/.cache/pip/wheels/78/07/1b/b1ca47b6ac338554b75c8f52c54e6a2bfbe1b07d79579979a4\r\n",
      "  Building wheel for keras-position-wise-feed-forward (setup.py) ... \u001b[?25l-\b \b\\\b \bdone\r\n",
      "\u001b[?25h  Created wheel for keras-position-wise-feed-forward: filename=keras_position_wise_feed_forward-0.8.0-py3-none-any.whl size=4968 sha256=c4bb93a3c734a0f3df69c01cccef89830793fd9245a7a8c209226542b10ca4e2\r\n",
      "  Stored in directory: /root/.cache/pip/wheels/c1/6a/04/d1706a53b23b2cb5f9a0a76269bf87925daa1bca09eac01b21\r\n",
      "  Building wheel for keras-self-attention (setup.py) ... \u001b[?25l-\b \b\\\b \bdone\r\n",
      "\u001b[?25h  Created wheel for keras-self-attention: filename=keras_self_attention-0.51.0-py3-none-any.whl size=18895 sha256=ff140d369e42ee2bb0b5dd6d643715e612c6b20de5870de49d16a7011102ac98\r\n",
      "  Stored in directory: /root/.cache/pip/wheels/b8/f7/24/607b483144fb9c47b4ba2c5fba6b68e54aeee2d5bf6c05302e\r\n",
      "  Building wheel for langdetect (setup.py) ... \u001b[?25l-\b \bdone\r\n",
      "\u001b[?25h  Created wheel for langdetect: filename=langdetect-1.0.9-py3-none-any.whl size=993225 sha256=6523103ef77f126858c5b99ef83b80ee82571c04e5c029cd9ed8f867453f1627\r\n",
      "  Stored in directory: /root/.cache/pip/wheels/95/03/7d/59ea870c70ce4e5a370638b5462a7711ab78fba2f655d05106\r\n",
      "  Building wheel for tika (setup.py) ... \u001b[?25l-\b \bdone\r\n",
      "\u001b[?25h  Created wheel for tika: filename=tika-2.6.0-py3-none-any.whl size=32622 sha256=c89865c20eea18d318bfac673c7a4ef0508d94df6c34ce053d4c86df237ca380\r\n",
      "  Stored in directory: /root/.cache/pip/wheels/5f/71/c7/b757709531121b1700cffda5b6b0d4aad095fb507ec84316d0\r\n",
      "Successfully built ktrain keras_bert keras-transformer keras-embed-sim keras-layer-normalization keras-multi-head keras-pos-embd keras-position-wise-feed-forward keras-self-attention langdetect tika\r\n",
      "Installing collected packages: whoosh, syntok, langdetect, keras-self-attention, keras-position-wise-feed-forward, keras-pos-embd, keras-layer-normalization, keras-embed-sim, chardet, tika, keras-multi-head, keras-transformer, keras_bert, ktrain\r\n",
      "Successfully installed chardet-5.2.0 keras-embed-sim-0.10.0 keras-layer-normalization-0.16.0 keras-multi-head-0.29.0 keras-pos-embd-0.13.0 keras-position-wise-feed-forward-0.8.0 keras-self-attention-0.51.0 keras-transformer-0.40.0 keras_bert-0.89.0 ktrain-0.40.0 langdetect-1.0.9 syntok-1.4.4 tika-2.6.0 whoosh-2.7.4\r\n"
     ]
    }
   ],
   "source": [
    "!pip install ktrain"
   ]
  },
  {
   "cell_type": "code",
   "execution_count": 14,
   "id": "88e80ea4",
   "metadata": {
    "editable": true,
    "execution": {
     "iopub.execute_input": "2024-02-15T14:16:28.998581Z",
     "iopub.status.busy": "2024-02-15T14:16:28.998201Z",
     "iopub.status.idle": "2024-02-15T14:17:43.367254Z",
     "shell.execute_reply": "2024-02-15T14:17:43.366372Z"
    },
    "id": "fe9e61fb",
    "papermill": {
     "duration": 74.401034,
     "end_time": "2024-02-15T14:17:43.369537",
     "exception": false,
     "start_time": "2024-02-15T14:16:28.968503",
     "status": "completed"
    },
    "scrolled": true,
    "slideshow": {
     "slide_type": ""
    },
    "tags": []
   },
   "outputs": [
    {
     "data": {
      "application/vnd.jupyter.widget-view+json": {
       "model_id": "6c90bcd6448047efbe641227adf303ee",
       "version_major": 2,
       "version_minor": 0
      },
      "text/plain": [
       "config.json:   0%|          | 0.00/625 [00:00<?, ?B/s]"
      ]
     },
     "metadata": {},
     "output_type": "display_data"
    },
    {
     "data": {
      "application/vnd.jupyter.widget-view+json": {
       "model_id": "da44ad80aeba407d986423d4b969d2b4",
       "version_major": 2,
       "version_minor": 0
      },
      "text/plain": [
       "model.safetensors:   0%|          | 0.00/672M [00:00<?, ?B/s]"
      ]
     },
     "metadata": {},
     "output_type": "display_data"
    }
   ],
   "source": [
    "import ktrain\n",
    "from ktrain import text\n",
    "MODEL_NAME = 'bert-base-multilingual-uncased'\n",
    "t = text.Transformer(MODEL_NAME, maxlen=500)"
   ]
  },
  {
   "cell_type": "code",
   "execution_count": 15,
   "id": "b58c4ea2",
   "metadata": {
    "execution": {
     "iopub.execute_input": "2024-02-15T14:17:43.427900Z",
     "iopub.status.busy": "2024-02-15T14:17:43.427009Z",
     "iopub.status.idle": "2024-02-15T14:17:51.324035Z",
     "shell.execute_reply": "2024-02-15T14:17:51.323208Z"
    },
    "id": "c269013f",
    "outputId": "cb456b25-48e5-4d5c-958b-2198c5418e05",
    "papermill": {
     "duration": 7.928078,
     "end_time": "2024-02-15T14:17:51.326175",
     "exception": false,
     "start_time": "2024-02-15T14:17:43.398097",
     "status": "completed"
    },
    "tags": []
   },
   "outputs": [
    {
     "name": "stdout",
     "output_type": "stream",
     "text": [
      "preprocessing train...\n",
      "language: bn\n",
      "train sequence lengths:\n",
      "\tmean : 21\n",
      "\t95percentile : 41\n",
      "\t99percentile : 57\n"
     ]
    },
    {
     "data": {
      "application/vnd.jupyter.widget-view+json": {
       "model_id": "46a71627ca0a405884424cb53618e00d",
       "version_major": 2,
       "version_minor": 0
      },
      "text/plain": [
       "tokenizer_config.json:   0%|          | 0.00/28.0 [00:00<?, ?B/s]"
      ]
     },
     "metadata": {},
     "output_type": "display_data"
    },
    {
     "data": {
      "application/vnd.jupyter.widget-view+json": {
       "model_id": "2740b7c7a0f94913a846283820c222fa",
       "version_major": 2,
       "version_minor": 0
      },
      "text/plain": [
       "vocab.txt:   0%|          | 0.00/872k [00:00<?, ?B/s]"
      ]
     },
     "metadata": {},
     "output_type": "display_data"
    },
    {
     "data": {
      "application/vnd.jupyter.widget-view+json": {
       "model_id": "ecfb45274aef4719af7e544baaa035f8",
       "version_major": 2,
       "version_minor": 0
      },
      "text/plain": [
       "tokenizer.json:   0%|          | 0.00/1.72M [00:00<?, ?B/s]"
      ]
     },
     "metadata": {},
     "output_type": "display_data"
    },
    {
     "data": {
      "text/html": [
       "\n",
       "<style>\n",
       "    /* Turns off some styling */\n",
       "    progress {\n",
       "        /* gets rid of default border in Firefox and Opera. */\n",
       "        border: none;\n",
       "        /* Needs to be in here for Safari polyfill so background images work as expected. */\n",
       "        background-size: auto;\n",
       "    }\n",
       "    progress:not([value]), progress:not([value])::-webkit-progress-bar {\n",
       "        background: repeating-linear-gradient(45deg, #7e7e7e, #7e7e7e 10px, #5c5c5c 10px, #5c5c5c 20px);\n",
       "    }\n",
       "    .progress-bar-interrupted, .progress-bar-interrupted::-webkit-progress-bar {\n",
       "        background: #F44336;\n",
       "    }\n",
       "</style>\n"
      ],
      "text/plain": [
       "<IPython.core.display.HTML object>"
      ]
     },
     "metadata": {},
     "output_type": "display_data"
    },
    {
     "data": {
      "text/html": [],
      "text/plain": [
       "<IPython.core.display.HTML object>"
      ]
     },
     "metadata": {},
     "output_type": "display_data"
    },
    {
     "name": "stdout",
     "output_type": "stream",
     "text": [
      "Is Multi-Label? False\n",
      "preprocessing test...\n",
      "language: bn\n",
      "test sequence lengths:\n",
      "\tmean : 21\n",
      "\t95percentile : 41\n",
      "\t99percentile : 61\n"
     ]
    },
    {
     "data": {
      "text/html": [
       "\n",
       "<style>\n",
       "    /* Turns off some styling */\n",
       "    progress {\n",
       "        /* gets rid of default border in Firefox and Opera. */\n",
       "        border: none;\n",
       "        /* Needs to be in here for Safari polyfill so background images work as expected. */\n",
       "        background-size: auto;\n",
       "    }\n",
       "    progress:not([value]), progress:not([value])::-webkit-progress-bar {\n",
       "        background: repeating-linear-gradient(45deg, #7e7e7e, #7e7e7e 10px, #5c5c5c 10px, #5c5c5c 20px);\n",
       "    }\n",
       "    .progress-bar-interrupted, .progress-bar-interrupted::-webkit-progress-bar {\n",
       "        background: #F44336;\n",
       "    }\n",
       "</style>\n"
      ],
      "text/plain": [
       "<IPython.core.display.HTML object>"
      ]
     },
     "metadata": {},
     "output_type": "display_data"
    },
    {
     "data": {
      "text/html": [],
      "text/plain": [
       "<IPython.core.display.HTML object>"
      ]
     },
     "metadata": {},
     "output_type": "display_data"
    }
   ],
   "source": [
    "trn = t.preprocess_train(X_train, y_train)\n",
    "val = t.preprocess_test(X_test, y_test)"
   ]
  },
  {
   "cell_type": "code",
   "execution_count": 16,
   "id": "615f770c",
   "metadata": {
    "execution": {
     "iopub.execute_input": "2024-02-15T14:17:51.385550Z",
     "iopub.status.busy": "2024-02-15T14:17:51.384824Z",
     "iopub.status.idle": "2024-02-15T14:17:51.389342Z",
     "shell.execute_reply": "2024-02-15T14:17:51.388526Z"
    },
    "papermill": {
     "duration": 0.036416,
     "end_time": "2024-02-15T14:17:51.391510",
     "exception": false,
     "start_time": "2024-02-15T14:17:51.355094",
     "status": "completed"
    },
    "tags": []
   },
   "outputs": [
    {
     "name": "stdout",
     "output_type": "stream",
     "text": [
      "<ktrain.text.dataset.TransformerDataset object at 0x7b3af4c5e710>\n"
     ]
    }
   ],
   "source": [
    "print(trn)"
   ]
  },
  {
   "cell_type": "code",
   "execution_count": 17,
   "id": "b606ce03",
   "metadata": {
    "execution": {
     "iopub.execute_input": "2024-02-15T14:17:51.450911Z",
     "iopub.status.busy": "2024-02-15T14:17:51.450085Z",
     "iopub.status.idle": "2024-02-15T14:17:51.916217Z",
     "shell.execute_reply": "2024-02-15T14:17:51.915262Z"
    },
    "papermill": {
     "duration": 0.498403,
     "end_time": "2024-02-15T14:17:51.918240",
     "exception": false,
     "start_time": "2024-02-15T14:17:51.419837",
     "status": "completed"
    },
    "tags": []
   },
   "outputs": [
    {
     "data": {
      "image/png": "[encoded data removed]",
      "text/plain": [
       "<Figure size 1000x600 with 1 Axes>"
      ]
     },
     "metadata": {},
     "output_type": "display_data"
    }
   ],
   "source": [
    "import matplotlib.pyplot as plt\n",
    "\n",
    "# Calculate token lengths for train and test datasets\n",
    "train_token_lengths = [len(t.split()) for t in X_train]\n",
    "test_token_lengths = [len(t.split()) for t in X_test]\n",
    "\n",
    "# Plot token length distribution\n",
    "plt.figure(figsize=(10, 6))\n",
    "plt.hist(train_token_lengths, bins=50, alpha=0.5, color='blue', label='Train')\n",
    "plt.hist(test_token_lengths, bins=50, alpha=0.5, color='orange', label='Test')\n",
    "plt.xlabel('Token Length')\n",
    "plt.ylabel('Frequency')\n",
    "plt.title('Token Length Distribution')\n",
    "plt.legend()\n",
    "plt.show()"
   ]
  },
  {
   "cell_type": "code",
   "execution_count": 18,
   "id": "290427fb",
   "metadata": {
    "execution": {
     "iopub.execute_input": "2024-02-15T14:17:51.978966Z",
     "iopub.status.busy": "2024-02-15T14:17:51.978270Z",
     "iopub.status.idle": "2024-02-15T14:17:55.073954Z",
     "shell.execute_reply": "2024-02-15T14:17:55.073140Z"
    },
    "id": "69d54231",
    "papermill": {
     "duration": 3.128303,
     "end_time": "2024-02-15T14:17:55.076216",
     "exception": false,
     "start_time": "2024-02-15T14:17:51.947913",
     "status": "completed"
    },
    "scrolled": true,
    "tags": []
   },
   "outputs": [],
   "source": [
    "model = t.get_classifier()"
   ]
  },
  {
   "cell_type": "code",
   "execution_count": 19,
   "id": "6c954bff",
   "metadata": {
    "execution": {
     "iopub.execute_input": "2024-02-15T14:17:55.136448Z",
     "iopub.status.busy": "2024-02-15T14:17:55.135849Z",
     "iopub.status.idle": "2024-02-15T14:17:56.640936Z",
     "shell.execute_reply": "2024-02-15T14:17:56.639883Z"
    },
    "id": "7070ffb4",
    "papermill": {
     "duration": 1.537659,
     "end_time": "2024-02-15T14:17:56.643418",
     "exception": false,
     "start_time": "2024-02-15T14:17:55.105759",
     "status": "completed"
    },
    "tags": []
   },
   "outputs": [],
   "source": [
    "learner = ktrain.get_learner(model, train_data=trn, val_data=val, batch_size=8)"
   ]
  },
  {
   "cell_type": "code",
   "execution_count": 20,
   "id": "951ba745",
   "metadata": {
    "execution": {
     "iopub.execute_input": "2024-02-15T14:17:56.776017Z",
     "iopub.status.busy": "2024-02-15T14:17:56.775317Z",
     "iopub.status.idle": "2024-02-15T14:17:56.781430Z",
     "shell.execute_reply": "2024-02-15T14:17:56.780381Z"
    },
    "papermill": {
     "duration": 0.039892,
     "end_time": "2024-02-15T14:17:56.783507",
     "exception": false,
     "start_time": "2024-02-15T14:17:56.743615",
     "status": "completed"
    },
    "tags": []
   },
   "outputs": [],
   "source": [
    "# Adding early stopping callback from TensorFlow\n",
    "from tensorflow.keras.callbacks import EarlyStopping\n",
    "early_stopping = EarlyStopping(monitor='accuracy', patience=5, mode='auto')"
   ]
  },
  {
   "cell_type": "code",
   "execution_count": 21,
   "id": "bb4d9f8e",
   "metadata": {
    "execution": {
     "iopub.execute_input": "2024-02-15T14:17:56.845343Z",
     "iopub.status.busy": "2024-02-15T14:17:56.844607Z",
     "iopub.status.idle": "2024-02-15T15:27:40.113462Z",
     "shell.execute_reply": "2024-02-15T15:27:40.112462Z"
    },
    "id": "e1e76e69",
    "outputId": "cec6ddcd-1ab2-4f18-a9ad-d4cd29195423",
    "papermill": {
     "duration": 4183.888841,
     "end_time": "2024-02-15T15:27:40.702484",
     "exception": false,
     "start_time": "2024-02-15T14:17:56.813643",
     "status": "completed"
    },
    "tags": []
   },
   "outputs": [
    {
     "name": "stdout",
     "output_type": "stream",
     "text": [
      "\n",
      "\n",
      "begin training using onecycle policy with max lr of 2e-05...\n",
      "Epoch 1/10\n",
      "700/700 [==============================] - 445s 600ms/step - loss: 1.5995 - accuracy: 0.3495 - val_loss: 1.3581 - val_accuracy: 0.4586\n",
      "Epoch 2/10\n",
      "700/700 [==============================] - 416s 594ms/step - loss: 1.2663 - accuracy: 0.5105 - val_loss: 1.1889 - val_accuracy: 0.5386\n",
      "Epoch 3/10\n",
      "700/700 [==============================] - 415s 593ms/step - loss: 1.0285 - accuracy: 0.6116 - val_loss: 1.1047 - val_accuracy: 0.5707\n",
      "Epoch 4/10\n",
      "700/700 [==============================] - 415s 593ms/step - loss: 0.8603 - accuracy: 0.6804 - val_loss: 1.0927 - val_accuracy: 0.5879\n",
      "Epoch 5/10\n",
      "700/700 [==============================] - 415s 593ms/step - loss: 0.7106 - accuracy: 0.7443 - val_loss: 1.2250 - val_accuracy: 0.5643\n",
      "Epoch 6/10\n",
      "700/700 [==============================] - 415s 593ms/step - loss: 0.5698 - accuracy: 0.7996 - val_loss: 1.3122 - val_accuracy: 0.5679\n",
      "Epoch 7/10\n",
      "700/700 [==============================] - 415s 593ms/step - loss: 0.3654 - accuracy: 0.8775 - val_loss: 1.3486 - val_accuracy: 0.5957\n",
      "Epoch 8/10\n",
      "700/700 [==============================] - 415s 593ms/step - loss: 0.2200 - accuracy: 0.9264 - val_loss: 1.4572 - val_accuracy: 0.6043\n",
      "Epoch 9/10\n",
      "700/700 [==============================] - 415s 593ms/step - loss: 0.1263 - accuracy: 0.9609 - val_loss: 1.5912 - val_accuracy: 0.6057\n",
      "Epoch 10/10\n",
      "700/700 [==============================] - 415s 593ms/step - loss: 0.0643 - accuracy: 0.9852 - val_loss: 1.6176 - val_accuracy: 0.6057\n"
     ]
    }
   ],
   "source": [
    "history = learner.fit_onecycle(2e-5, 10,callbacks=[early_stopping])"
   ]
  },
  {
   "cell_type": "code",
   "execution_count": 22,
   "id": "68e0266d",
   "metadata": {
    "execution": {
     "iopub.execute_input": "2024-02-15T15:27:41.899379Z",
     "iopub.status.busy": "2024-02-15T15:27:41.898995Z",
     "iopub.status.idle": "2024-02-15T15:27:43.767889Z",
     "shell.execute_reply": "2024-02-15T15:27:43.766842Z"
    },
    "papermill": {
     "duration": 2.485263,
     "end_time": "2024-02-15T15:27:43.770314",
     "exception": false,
     "start_time": "2024-02-15T15:27:41.285051",
     "status": "completed"
    },
    "tags": []
   },
   "outputs": [],
   "source": [
    "# Save the trained model\n",
    "learner.save_model('/kaggle/output/bemoc.zip')"
   ]
  },
  {
   "cell_type": "code",
   "execution_count": 23,
   "id": "0f62d44a",
   "metadata": {
    "execution": {
     "iopub.execute_input": "2024-02-15T15:27:44.985220Z",
     "iopub.status.busy": "2024-02-15T15:27:44.984861Z",
     "iopub.status.idle": "2024-02-15T15:27:44.989279Z",
     "shell.execute_reply": "2024-02-15T15:27:44.988455Z"
    },
    "papermill": {
     "duration": 0.644525,
     "end_time": "2024-02-15T15:27:44.991288",
     "exception": false,
     "start_time": "2024-02-15T15:27:44.346763",
     "status": "completed"
    },
    "tags": []
   },
   "outputs": [],
   "source": [
    "classes=t.get_classes()"
   ]
  },
  {
   "cell_type": "code",
   "execution_count": 24,
   "id": "bbcf61f7",
   "metadata": {
    "execution": {
     "iopub.execute_input": "2024-02-15T15:27:46.155738Z",
     "iopub.status.busy": "2024-02-15T15:27:46.154754Z",
     "iopub.status.idle": "2024-02-15T15:28:04.794184Z",
     "shell.execute_reply": "2024-02-15T15:28:04.792638Z"
    },
    "id": "2088a523",
    "papermill": {
     "duration": 19.226752,
     "end_time": "2024-02-15T15:28:04.796270",
     "exception": false,
     "start_time": "2024-02-15T15:27:45.569518",
     "status": "completed"
    },
    "tags": []
   },
   "outputs": [
    {
     "name": "stdout",
     "output_type": "stream",
     "text": [
      "44/44 [==============================] - 19s 355ms/step\n",
      "              precision    recall  f1-score   support\n",
      "\n",
      "       anger       0.48      0.45      0.46       211\n",
      "     disgust       0.49      0.49      0.49       271\n",
      "        fear       0.73      0.77      0.75       192\n",
      "         joy       0.74      0.74      0.74       305\n",
      "     sadness       0.57      0.62      0.60       265\n",
      "    surprise       0.61      0.54      0.57       156\n",
      "\n",
      "    accuracy                           0.61      1400\n",
      "   macro avg       0.60      0.60      0.60      1400\n",
      "weighted avg       0.60      0.61      0.60      1400\n",
      "\n"
     ]
    }
   ],
   "source": [
    "cm = learner.validate(class_names=t.get_classes())"
   ]
  },
  {
   "cell_type": "code",
   "execution_count": null,
   "id": "181fc81a",
   "metadata": {
    "id": "RjxJrO1JZfNt",
    "papermill": {
     "duration": 0.638455,
     "end_time": "2024-02-15T15:28:06.029738",
     "exception": false,
     "start_time": "2024-02-15T15:28:05.391283",
     "status": "completed"
    },
    "tags": []
   },
   "outputs": [],
   "source": []
  }
 ],
 "metadata": {
  "kaggle": {
   "accelerator": "gpu",
   "dataSources": [
    {
     "datasetId": 4446444,
     "sourceId": 7631176,
     "sourceType": "datasetVersion"
    }
   ],
   "isGpuEnabled": true,
   "isInternetEnabled": true,
   "language": "python",
   "sourceType": "notebook"
  },
  "kernelspec": {
   "display_name": "Python 3",
   "language": "python",
   "name": "python3"
  },
  "language_info": {
   "codemirror_mode": {
    "name": "ipython",
    "version": 3
   },
   "file_extension": ".py",
   "mimetype": "text/x-python",
   "name": "python",
   "nbconvert_exporter": "python",
   "pygments_lexer": "ipython3",
   "version": "3.10.13"
  },
  "papermill": {
   "default_parameters": {},
   "duration": 4381.333848,
   "end_time": "2024-02-15T15:28:09.356454",
   "environment_variables": {},
   "exception": null,
   "input_path": "__notebook__.ipynb",
   "output_path": "__notebook__.ipynb",
   "parameters": {},
   "start_time": "2024-02-15T14:15:08.022606",
   "version": "2.5.0"
  },
  "widgets": {
   "application/vnd.jupyter.widget-state+json": {
    "state": {
     "00484c5aca5a495fb5cc1a9a07a9ef48": {
      "model_module": "@jupyter-widgets/base",
      "model_module_version": "1.2.0",
      "model_name": "LayoutModel",
      "state": {
       "_model_module": "@jupyter-widgets/base",
       "_model_module_version": "1.2.0",
       "_model_name": "LayoutModel",
       "_view_count": null,
       "_view_module": "@jupyter-widgets/base",
       "_view_module_version": "1.2.0",
       "_view_name": "LayoutView",
       "align_content": null,
       "align_items": null,
       "align_self": null,
       "border": null,
       "bottom": null,
       "display": null,
       "flex": null,
       "flex_flow": null,
       "grid_area": null,
       "grid_auto_columns": null,
       "grid_auto_flow": null,
       "grid_auto_rows": null,
       "grid_column": null,
       "grid_gap": null,
       "grid_row": null,
       "grid_template_areas": null,
       "grid_template_columns": null,
       "grid_template_rows": null,
       "height": null,
       "justify_content": null,
       "justify_items": null,
       "left": null,
       "margin": null,
       "max_height": null,
       "max_width": null,
       "min_height": null,
       "min_width": null,
       "object_fit": null,
       "object_position": null,
       "order": null,
       "overflow": null,
       "overflow_x": null,
       "overflow_y": null,
       "padding": null,
       "right": null,
       "top": null,
       "visibility": null,
       "width": null
      }
     },
     "0560287cbbe244d7ad3336a01562725c": {
      "model_module": "@jupyter-widgets/controls",
      "model_module_version": "1.5.0",
      "model_name": "DescriptionStyleModel",
      "state": {
       "_model_module": "@jupyter-widgets/controls",
       "_model_module_version": "1.5.0",
       "_model_name": "DescriptionStyleModel",
       "_view_count": null,
       "_view_module": "@jupyter-widgets/base",
       "_view_module_version": "1.2.0",
       "_view_name": "StyleView",
       "description_width": ""
      }
     },
     "0585de53da87423e9f461f403aded0ae": {
      "model_module": "@jupyter-widgets/controls",
      "model_module_version": "1.5.0",
      "model_name": "FloatProgressModel",
      "state": {
       "_dom_classes": [],
       "_model_module": "@jupyter-widgets/controls",
       "_model_module_version": "1.5.0",
       "_model_name": "FloatProgressModel",
       "_view_count": null,
       "_view_module": "@jupyter-widgets/controls",
       "_view_module_version": "1.5.0",
       "_view_name": "ProgressView",
       "bar_style": "success",
       "description": "",
       "description_tooltip": null,
       "layout": "IPY_MODEL_0bd90ac0a2674e33a49412bd633fbfb1",
       "max": 28.0,
       "min": 0.0,
       "orientation": "horizontal",
       "style": "IPY_MODEL_1b3e2464797d4e3689e2b4ff3b0f4b1a",
       "value": 28.0
      }
     },
     "07f2d27ac2884d6ab2031fb1315659f5": {
      "model_module": "@jupyter-widgets/controls",
      "model_module_version": "1.5.0",
      "model_name": "HTMLModel",
      "state": {
       "_dom_classes": [],
       "_model_module": "@jupyter-widgets/controls",
       "_model_module_version": "1.5.0",
       "_model_name": "HTMLModel",
       "_view_count": null,
       "_view_module": "@jupyter-widgets/controls",
       "_view_module_version": "1.5.0",
       "_view_name": "HTMLView",
       "description": "",
       "description_tooltip": null,
       "layout": "IPY_MODEL_ad05f646a48440ff970cf32e4d4d338a",
       "placeholder": "​",
       "style": "IPY_MODEL_26a912a933c6422eaae0a6c36cf75524",
       "value": "model.safetensors: 100%"
      }
     },
     "0bd90ac0a2674e33a49412bd633fbfb1": {
      "model_module": "@jupyter-widgets/base",
      "model_module_version": "1.2.0",
      "model_name": "LayoutModel",
      "state": {
       "_model_module": "@jupyter-widgets/base",
       "_model_module_version": "1.2.0",
       "_model_name": "LayoutModel",
       "_view_count": null,
       "_view_module": "@jupyter-widgets/base",
       "_view_module_version": "1.2.0",
       "_view_name": "LayoutView",
       "align_content": null,
       "align_items": null,
       "align_self": null,
       "border": null,
       "bottom": null,
       "display": null,
       "flex": null,
       "flex_flow": null,
       "grid_area": null,
       "grid_auto_columns": null,
       "grid_auto_flow": null,
       "grid_auto_rows": null,
       "grid_column": null,
       "grid_gap": null,
       "grid_row": null,
       "grid_template_areas": null,
       "grid_template_columns": null,
       "grid_template_rows": null,
       "height": null,
       "justify_content": null,
       "justify_items": null,
       "left": null,
       "margin": null,
       "max_height": null,
       "max_width": null,
       "min_height": null,
       "min_width": null,
       "object_fit": null,
       "object_position": null,
       "order": null,
       "overflow": null,
       "overflow_x": null,
       "overflow_y": null,
       "padding": null,
       "right": null,
       "top": null,
       "visibility": null,
       "width": null
      }
     },
     "103d0fd822cb4ef193da4138a003d1c0": {
      "model_module": "@jupyter-widgets/base",
      "model_module_version": "1.2.0",
      "model_name": "LayoutModel",
      "state": {
       "_model_module": "@jupyter-widgets/base",
       "_model_module_version": "1.2.0",
       "_model_name": "LayoutModel",
       "_view_count": null,
       "_view_module": "@jupyter-widgets/base",
       "_view_module_version": "1.2.0",
       "_view_name": "LayoutView",
       "align_content": null,
       "align_items": null,
       "align_self": null,
       "border": null,
       "bottom": null,
       "display": null,
       "flex": null,
       "flex_flow": null,
       "grid_area": null,
       "grid_auto_columns": null,
       "grid_auto_flow": null,
       "grid_auto_rows": null,
       "grid_column": null,
       "grid_gap": null,
       "grid_row": null,
       "grid_template_areas": null,
       "grid_template_columns": null,
       "grid_template_rows": null,
       "height": null,
       "justify_content": null,
       "justify_items": null,
       "left": null,
       "margin": null,
       "max_height": null,
       "max_width": null,
       "min_height": null,
       "min_width": null,
       "object_fit": null,
       "object_position": null,
       "order": null,
       "overflow": null,
       "overflow_x": null,
       "overflow_y": null,
       "padding": null,
       "right": null,
       "top": null,
       "visibility": null,
       "width": null
      }
     },
     "1b3e2464797d4e3689e2b4ff3b0f4b1a": {
      "model_module": "@jupyter-widgets/controls",
      "model_module_version": "1.5.0",
      "model_name": "ProgressStyleModel",
      "state": {
       "_model_module": "@jupyter-widgets/controls",
       "_model_module_version": "1.5.0",
       "_model_name": "ProgressStyleModel",
       "_view_count": null,
       "_view_module": "@jupyter-widgets/base",
       "_view_module_version": "1.2.0",
       "_view_name": "StyleView",
       "bar_color": null,
       "description_width": ""
      }
     },
     "26a912a933c6422eaae0a6c36cf75524": {
      "model_module": "@jupyter-widgets/controls",
      "model_module_version": "1.5.0",
      "model_name": "DescriptionStyleModel",
      "state": {
       "_model_module": "@jupyter-widgets/controls",
       "_model_module_version": "1.5.0",
       "_model_name": "DescriptionStyleModel",
       "_view_count": null,
       "_view_module": "@jupyter-widgets/base",
       "_view_module_version": "1.2.0",
       "_view_name": "StyleView",
       "description_width": ""
      }
     },
     "2740b7c7a0f94913a846283820c222fa": {
      "model_module": "@jupyter-widgets/controls",
      "model_module_version": "1.5.0",
      "model_name": "HBoxModel",
      "state": {
       "_dom_classes": [],
       "_model_module": "@jupyter-widgets/controls",
       "_model_module_version": "1.5.0",
       "_model_name": "HBoxModel",
       "_view_count": null,
       "_view_module": "@jupyter-widgets/controls",
       "_view_module_version": "1.5.0",
       "_view_name": "HBoxView",
       "box_style": "",
       "children": [
        "IPY_MODEL_ac021802466942ad88f6408f4ae65bdd",
        "IPY_MODEL_5da7d76d21a847f2b77debe40ed501f3",
        "IPY_MODEL_87dcc37b9c1e4d69aab420941caf69d9"
       ],
       "layout": "IPY_MODEL_103d0fd822cb4ef193da4138a003d1c0"
      }
     },
     "3452f9d6dac04b8fa2449189c1e2c901": {
      "model_module": "@jupyter-widgets/controls",
      "model_module_version": "1.5.0",
      "model_name": "ProgressStyleModel",
      "state": {
       "_model_module": "@jupyter-widgets/controls",
       "_model_module_version": "1.5.0",
       "_model_name": "ProgressStyleModel",
       "_view_count": null,
       "_view_module": "@jupyter-widgets/base",
       "_view_module_version": "1.2.0",
       "_view_name": "StyleView",
       "bar_color": null,
       "description_width": ""
      }
     },
     "36c03f535140428c8c576b5d47c14455": {
      "model_module": "@jupyter-widgets/controls",
      "model_module_version": "1.5.0",
      "model_name": "HTMLModel",
      "state": {
       "_dom_classes": [],
       "_model_module": "@jupyter-widgets/controls",
       "_model_module_version": "1.5.0",
       "_model_name": "HTMLModel",
       "_view_count": null,
       "_view_module": "@jupyter-widgets/controls",
       "_view_module_version": "1.5.0",
       "_view_name": "HTMLView",
       "description": "",
       "description_tooltip": null,
       "layout": "IPY_MODEL_a9c5407f2a9f4b6bb8f2388835c59a95",
       "placeholder": "​",
       "style": "IPY_MODEL_6aa2739e534b438cb1b15fbfbb616ad2",
       "value": " 625/625 [00:00&lt;00:00, 50.8kB/s]"
      }
     },
     "413b4be1df8c42dd96774ad86c7a2f7f": {
      "model_module": "@jupyter-widgets/base",
      "model_module_version": "1.2.0",
      "model_name": "LayoutModel",
      "state": {
       "_model_module": "@jupyter-widgets/base",
       "_model_module_version": "1.2.0",
       "_model_name": "LayoutModel",
       "_view_count": null,
       "_view_module": "@jupyter-widgets/base",
       "_view_module_version": "1.2.0",
       "_view_name": "LayoutView",
       "align_content": null,
       "align_items": null,
       "align_self": null,
       "border": null,
       "bottom": null,
       "display": null,
       "flex": null,
       "flex_flow": null,
       "grid_area": null,
       "grid_auto_columns": null,
       "grid_auto_flow": null,
       "grid_auto_rows": null,
       "grid_column": null,
       "grid_gap": null,
       "grid_row": null,
       "grid_template_areas": null,
       "grid_template_columns": null,
       "grid_template_rows": null,
       "height": null,
       "justify_content": null,
       "justify_items": null,
       "left": null,
       "margin": null,
       "max_height": null,
       "max_width": null,
       "min_height": null,
       "min_width": null,
       "object_fit": null,
       "object_position": null,
       "order": null,
       "overflow": null,
       "overflow_x": null,
       "overflow_y": null,
       "padding": null,
       "right": null,
       "top": null,
       "visibility": null,
       "width": null
      }
     },
     "41810c3411814778adf1c0666148195f": {
      "model_module": "@jupyter-widgets/base",
      "model_module_version": "1.2.0",
      "model_name": "LayoutModel",
      "state": {
       "_model_module": "@jupyter-widgets/base",
       "_model_module_version": "1.2.0",
       "_model_name": "LayoutModel",
       "_view_count": null,
       "_view_module": "@jupyter-widgets/base",
       "_view_module_version": "1.2.0",
       "_view_name": "LayoutView",
       "align_content": null,
       "align_items": null,
       "align_self": null,
       "border": null,
       "bottom": null,
       "display": null,
       "flex": null,
       "flex_flow": null,
       "grid_area": null,
       "grid_auto_columns": null,
       "grid_auto_flow": null,
       "grid_auto_rows": null,
       "grid_column": null,
       "grid_gap": null,
       "grid_row": null,
       "grid_template_areas": null,
       "grid_template_columns": null,
       "grid_template_rows": null,
       "height": null,
       "justify_content": null,
       "justify_items": null,
       "left": null,
       "margin": null,
       "max_height": null,
       "max_width": null,
       "min_height": null,
       "min_width": null,
       "object_fit": null,
       "object_position": null,
       "order": null,
       "overflow": null,
       "overflow_x": null,
       "overflow_y": null,
       "padding": null,
       "right": null,
       "top": null,
       "visibility": null,
       "width": null
      }
     },
     "46a71627ca0a405884424cb53618e00d": {
      "model_module": "@jupyter-widgets/controls",
      "model_module_version": "1.5.0",
      "model_name": "HBoxModel",
      "state": {
       "_dom_classes": [],
       "_model_module": "@jupyter-widgets/controls",
       "_model_module_version": "1.5.0",
       "_model_name": "HBoxModel",
       "_view_count": null,
       "_view_module": "@jupyter-widgets/controls",
       "_view_module_version": "1.5.0",
       "_view_name": "HBoxView",
       "box_style": "",
       "children": [
        "IPY_MODEL_e8b43e9f861e4c1e9e102b9c9577e5ba",
        "IPY_MODEL_0585de53da87423e9f461f403aded0ae",
        "IPY_MODEL_ad1257334be9441c9f27ce66ea475f6a"
       ],
       "layout": "IPY_MODEL_a5d60ee9e5454b229d5356cf12b2bc67"
      }
     },
     "4a3383fc285048f59af17b9ed980db6b": {
      "model_module": "@jupyter-widgets/base",
      "model_module_version": "1.2.0",
      "model_name": "LayoutModel",
      "state": {
       "_model_module": "@jupyter-widgets/base",
       "_model_module_version": "1.2.0",
       "_model_name": "LayoutModel",
       "_view_count": null,
       "_view_module": "@jupyter-widgets/base",
       "_view_module_version": "1.2.0",
       "_view_name": "LayoutView",
       "align_content": null,
       "align_items": null,
       "align_self": null,
       "border": null,
       "bottom": null,
       "display": null,
       "flex": null,
       "flex_flow": null,
       "grid_area": null,
       "grid_auto_columns": null,
       "grid_auto_flow": null,
       "grid_auto_rows": null,
       "grid_column": null,
       "grid_gap": null,
       "grid_row": null,
       "grid_template_areas": null,
       "grid_template_columns": null,
       "grid_template_rows": null,
       "height": null,
       "justify_content": null,
       "justify_items": null,
       "left": null,
       "margin": null,
       "max_height": null,
       "max_width": null,
       "min_height": null,
       "min_width": null,
       "object_fit": null,
       "object_position": null,
       "order": null,
       "overflow": null,
       "overflow_x": null,
       "overflow_y": null,
       "padding": null,
       "right": null,
       "top": null,
       "visibility": null,
       "width": null
      }
     },
     "4bfd9380bd214c70bc7069dd70d46ef0": {
      "model_module": "@jupyter-widgets/controls",
      "model_module_version": "1.5.0",
      "model_name": "HTMLModel",
      "state": {
       "_dom_classes": [],
       "_model_module": "@jupyter-widgets/controls",
       "_model_module_version": "1.5.0",
       "_model_name": "HTMLModel",
       "_view_count": null,
       "_view_module": "@jupyter-widgets/controls",
       "_view_module_version": "1.5.0",
       "_view_name": "HTMLView",
       "description": "",
       "description_tooltip": null,
       "layout": "IPY_MODEL_9cef84ef23ad47f8868b0899e05c65bd",
       "placeholder": "​",
       "style": "IPY_MODEL_5f5a10fb7723417bbea4f2266b63cd8b",
       "value": "config.json: 100%"
      }
     },
     "5da7d76d21a847f2b77debe40ed501f3": {
      "model_module": "@jupyter-widgets/controls",
      "model_module_version": "1.5.0",
      "model_name": "FloatProgressModel",
      "state": {
       "_dom_classes": [],
       "_model_module": "@jupyter-widgets/controls",
       "_model_module_version": "1.5.0",
       "_model_name": "FloatProgressModel",
       "_view_count": null,
       "_view_module": "@jupyter-widgets/controls",
       "_view_module_version": "1.5.0",
       "_view_name": "ProgressView",
       "bar_style": "success",
       "description": "",
       "description_tooltip": null,
       "layout": "IPY_MODEL_413b4be1df8c42dd96774ad86c7a2f7f",
       "max": 871891.0,
       "min": 0.0,
       "orientation": "horizontal",
       "style": "IPY_MODEL_7a50263cc19e4411999a056e247c27c8",
       "value": 871891.0
      }
     },
     "5ef2ad6fa4d14187a1afd01d9017af76": {
      "model_module": "@jupyter-widgets/controls",
      "model_module_version": "1.5.0",
      "model_name": "DescriptionStyleModel",
      "state": {
       "_model_module": "@jupyter-widgets/controls",
       "_model_module_version": "1.5.0",
       "_model_name": "DescriptionStyleModel",
       "_view_count": null,
       "_view_module": "@jupyter-widgets/base",
       "_view_module_version": "1.2.0",
       "_view_name": "StyleView",
       "description_width": ""
      }
     },
     "5f5a10fb7723417bbea4f2266b63cd8b": {
      "model_module": "@jupyter-widgets/controls",
      "model_module_version": "1.5.0",
      "model_name": "DescriptionStyleModel",
      "state": {
       "_model_module": "@jupyter-widgets/controls",
       "_model_module_version": "1.5.0",
       "_model_name": "DescriptionStyleModel",
       "_view_count": null,
       "_view_module": "@jupyter-widgets/base",
       "_view_module_version": "1.2.0",
       "_view_name": "StyleView",
       "description_width": ""
      }
     },
     "60bf45df52b044d08de656231c368b06": {
      "model_module": "@jupyter-widgets/controls",
      "model_module_version": "1.5.0",
      "model_name": "DescriptionStyleModel",
      "state": {
       "_model_module": "@jupyter-widgets/controls",
       "_model_module_version": "1.5.0",
       "_model_name": "DescriptionStyleModel",
       "_view_count": null,
       "_view_module": "@jupyter-widgets/base",
       "_view_module_version": "1.2.0",
       "_view_name": "StyleView",
       "description_width": ""
      }
     },
     "627cc9fc41fb45d69adaa1485928a568": {
      "model_module": "@jupyter-widgets/base",
      "model_module_version": "1.2.0",
      "model_name": "LayoutModel",
      "state": {
       "_model_module": "@jupyter-widgets/base",
       "_model_module_version": "1.2.0",
       "_model_name": "LayoutModel",
       "_view_count": null,
       "_view_module": "@jupyter-widgets/base",
       "_view_module_version": "1.2.0",
       "_view_name": "LayoutView",
       "align_content": null,
       "align_items": null,
       "align_self": null,
       "border": null,
       "bottom": null,
       "display": null,
       "flex": null,
       "flex_flow": null,
       "grid_area": null,
       "grid_auto_columns": null,
       "grid_auto_flow": null,
       "grid_auto_rows": null,
       "grid_column": null,
       "grid_gap": null,
       "grid_row": null,
       "grid_template_areas": null,
       "grid_template_columns": null,
       "grid_template_rows": null,
       "height": null,
       "justify_content": null,
       "justify_items": null,
       "left": null,
       "margin": null,
       "max_height": null,
       "max_width": null,
       "min_height": null,
       "min_width": null,
       "object_fit": null,
       "object_position": null,
       "order": null,
       "overflow": null,
       "overflow_x": null,
       "overflow_y": null,
       "padding": null,
       "right": null,
       "top": null,
       "visibility": null,
       "width": null
      }
     },
     "6aa2739e534b438cb1b15fbfbb616ad2": {
      "model_module": "@jupyter-widgets/controls",
      "model_module_version": "1.5.0",
      "model_name": "DescriptionStyleModel",
      "state": {
       "_model_module": "@jupyter-widgets/controls",
       "_model_module_version": "1.5.0",
       "_model_name": "DescriptionStyleModel",
       "_view_count": null,
       "_view_module": "@jupyter-widgets/base",
       "_view_module_version": "1.2.0",
       "_view_name": "StyleView",
       "description_width": ""
      }
     },
     "6c90bcd6448047efbe641227adf303ee": {
      "model_module": "@jupyter-widgets/controls",
      "model_module_version": "1.5.0",
      "model_name": "HBoxModel",
      "state": {
       "_dom_classes": [],
       "_model_module": "@jupyter-widgets/controls",
       "_model_module_version": "1.5.0",
       "_model_name": "HBoxModel",
       "_view_count": null,
       "_view_module": "@jupyter-widgets/controls",
       "_view_module_version": "1.5.0",
       "_view_name": "HBoxView",
       "box_style": "",
       "children": [
        "IPY_MODEL_4bfd9380bd214c70bc7069dd70d46ef0",
        "IPY_MODEL_dcd2e6870c394d74b64bcab5952baefd",
        "IPY_MODEL_36c03f535140428c8c576b5d47c14455"
       ],
       "layout": "IPY_MODEL_4a3383fc285048f59af17b9ed980db6b"
      }
     },
     "6e569a9aa5e84cbabafd11699b7ddf3b": {
      "model_module": "@jupyter-widgets/base",
      "model_module_version": "1.2.0",
      "model_name": "LayoutModel",
      "state": {
       "_model_module": "@jupyter-widgets/base",
       "_model_module_version": "1.2.0",
       "_model_name": "LayoutModel",
       "_view_count": null,
       "_view_module": "@jupyter-widgets/base",
       "_view_module_version": "1.2.0",
       "_view_name": "LayoutView",
       "align_content": null,
       "align_items": null,
       "align_self": null,
       "border": null,
       "bottom": null,
       "display": null,
       "flex": null,
       "flex_flow": null,
       "grid_area": null,
       "grid_auto_columns": null,
       "grid_auto_flow": null,
       "grid_auto_rows": null,
       "grid_column": null,
       "grid_gap": null,
       "grid_row": null,
       "grid_template_areas": null,
       "grid_template_columns": null,
       "grid_template_rows": null,
       "height": null,
       "justify_content": null,
       "justify_items": null,
       "left": null,
       "margin": null,
       "max_height": null,
       "max_width": null,
       "min_height": null,
       "min_width": null,
       "object_fit": null,
       "object_position": null,
       "order": null,
       "overflow": null,
       "overflow_x": null,
       "overflow_y": null,
       "padding": null,
       "right": null,
       "top": null,
       "visibility": null,
       "width": null
      }
     },
     "7a50263cc19e4411999a056e247c27c8": {
      "model_module": "@jupyter-widgets/controls",
      "model_module_version": "1.5.0",
      "model_name": "ProgressStyleModel",
      "state": {
       "_model_module": "@jupyter-widgets/controls",
       "_model_module_version": "1.5.0",
       "_model_name": "ProgressStyleModel",
       "_view_count": null,
       "_view_module": "@jupyter-widgets/base",
       "_view_module_version": "1.2.0",
       "_view_name": "StyleView",
       "bar_color": null,
       "description_width": ""
      }
     },
     "7a56763022ff4017b533eedb0da612d0": {
      "model_module": "@jupyter-widgets/base",
      "model_module_version": "1.2.0",
      "model_name": "LayoutModel",
      "state": {
       "_model_module": "@jupyter-widgets/base",
       "_model_module_version": "1.2.0",
       "_model_name": "LayoutModel",
       "_view_count": null,
       "_view_module": "@jupyter-widgets/base",
       "_view_module_version": "1.2.0",
       "_view_name": "LayoutView",
       "align_content": null,
       "align_items": null,
       "align_self": null,
       "border": null,
       "bottom": null,
       "display": null,
       "flex": null,
       "flex_flow": null,
       "grid_area": null,
       "grid_auto_columns": null,
       "grid_auto_flow": null,
       "grid_auto_rows": null,
       "grid_column": null,
       "grid_gap": null,
       "grid_row": null,
       "grid_template_areas": null,
       "grid_template_columns": null,
       "grid_template_rows": null,
       "height": null,
       "justify_content": null,
       "justify_items": null,
       "left": null,
       "margin": null,
       "max_height": null,
       "max_width": null,
       "min_height": null,
       "min_width": null,
       "object_fit": null,
       "object_position": null,
       "order": null,
       "overflow": null,
       "overflow_x": null,
       "overflow_y": null,
       "padding": null,
       "right": null,
       "top": null,
       "visibility": null,
       "width": null
      }
     },
     "7c846581b8564441b4851251ee7ba68c": {
      "model_module": "@jupyter-widgets/base",
      "model_module_version": "1.2.0",
      "model_name": "LayoutModel",
      "state": {
       "_model_module": "@jupyter-widgets/base",
       "_model_module_version": "1.2.0",
       "_model_name": "LayoutModel",
       "_view_count": null,
       "_view_module": "@jupyter-widgets/base",
       "_view_module_version": "1.2.0",
       "_view_name": "LayoutView",
       "align_content": null,
       "align_items": null,
       "align_self": null,
       "border": null,
       "bottom": null,
       "display": null,
       "flex": null,
       "flex_flow": null,
       "grid_area": null,
       "grid_auto_columns": null,
       "grid_auto_flow": null,
       "grid_auto_rows": null,
       "grid_column": null,
       "grid_gap": null,
       "grid_row": null,
       "grid_template_areas": null,
       "grid_template_columns": null,
       "grid_template_rows": null,
       "height": null,
       "justify_content": null,
       "justify_items": null,
       "left": null,
       "margin": null,
       "max_height": null,
       "max_width": null,
       "min_height": null,
       "min_width": null,
       "object_fit": null,
       "object_position": null,
       "order": null,
       "overflow": null,
       "overflow_x": null,
       "overflow_y": null,
       "padding": null,
       "right": null,
       "top": null,
       "visibility": null,
       "width": null
      }
     },
     "87d4801258b447f4acade0afb9fd6dae": {
      "model_module": "@jupyter-widgets/controls",
      "model_module_version": "1.5.0",
      "model_name": "HTMLModel",
      "state": {
       "_dom_classes": [],
       "_model_module": "@jupyter-widgets/controls",
       "_model_module_version": "1.5.0",
       "_model_name": "HTMLModel",
       "_view_count": null,
       "_view_module": "@jupyter-widgets/controls",
       "_view_module_version": "1.5.0",
       "_view_name": "HTMLView",
       "description": "",
       "description_tooltip": null,
       "layout": "IPY_MODEL_bcda31d9bb7849708e07b29ed6cdc8f5",
       "placeholder": "​",
       "style": "IPY_MODEL_5ef2ad6fa4d14187a1afd01d9017af76",
       "value": "tokenizer.json: 100%"
      }
     },
     "87dcc37b9c1e4d69aab420941caf69d9": {
      "model_module": "@jupyter-widgets/controls",
      "model_module_version": "1.5.0",
      "model_name": "HTMLModel",
      "state": {
       "_dom_classes": [],
       "_model_module": "@jupyter-widgets/controls",
       "_model_module_version": "1.5.0",
       "_model_name": "HTMLModel",
       "_view_count": null,
       "_view_module": "@jupyter-widgets/controls",
       "_view_module_version": "1.5.0",
       "_view_name": "HTMLView",
       "description": "",
       "description_tooltip": null,
       "layout": "IPY_MODEL_d64064a3336c4592b06e07ce4c9636a2",
       "placeholder": "​",
       "style": "IPY_MODEL_b0f2d5d36ab2446e8b8db814240005c2",
       "value": " 872k/872k [00:00&lt;00:00, 1.09MB/s]"
      }
     },
     "88750eebd8f94332aa394af03d3b0804": {
      "model_module": "@jupyter-widgets/controls",
      "model_module_version": "1.5.0",
      "model_name": "ProgressStyleModel",
      "state": {
       "_model_module": "@jupyter-widgets/controls",
       "_model_module_version": "1.5.0",
       "_model_name": "ProgressStyleModel",
       "_view_count": null,
       "_view_module": "@jupyter-widgets/base",
       "_view_module_version": "1.2.0",
       "_view_name": "StyleView",
       "bar_color": null,
       "description_width": ""
      }
     },
     "938f3ad5e1554a01b92d2a1d07cc4146": {
      "model_module": "@jupyter-widgets/controls",
      "model_module_version": "1.5.0",
      "model_name": "DescriptionStyleModel",
      "state": {
       "_model_module": "@jupyter-widgets/controls",
       "_model_module_version": "1.5.0",
       "_model_name": "DescriptionStyleModel",
       "_view_count": null,
       "_view_module": "@jupyter-widgets/base",
       "_view_module_version": "1.2.0",
       "_view_name": "StyleView",
       "description_width": ""
      }
     },
     "9cef84ef23ad47f8868b0899e05c65bd": {
      "model_module": "@jupyter-widgets/base",
      "model_module_version": "1.2.0",
      "model_name": "LayoutModel",
      "state": {
       "_model_module": "@jupyter-widgets/base",
       "_model_module_version": "1.2.0",
       "_model_name": "LayoutModel",
       "_view_count": null,
       "_view_module": "@jupyter-widgets/base",
       "_view_module_version": "1.2.0",
       "_view_name": "LayoutView",
       "align_content": null,
       "align_items": null,
       "align_self": null,
       "border": null,
       "bottom": null,
       "display": null,
       "flex": null,
       "flex_flow": null,
       "grid_area": null,
       "grid_auto_columns": null,
       "grid_auto_flow": null,
       "grid_auto_rows": null,
       "grid_column": null,
       "grid_gap": null,
       "grid_row": null,
       "grid_template_areas": null,
       "grid_template_columns": null,
       "grid_template_rows": null,
       "height": null,
       "justify_content": null,
       "justify_items": null,
       "left": null,
       "margin": null,
       "max_height": null,
       "max_width": null,
       "min_height": null,
       "min_width": null,
       "object_fit": null,
       "object_position": null,
       "order": null,
       "overflow": null,
       "overflow_x": null,
       "overflow_y": null,
       "padding": null,
       "right": null,
       "top": null,
       "visibility": null,
       "width": null
      }
     },
     "a5d60ee9e5454b229d5356cf12b2bc67": {
      "model_module": "@jupyter-widgets/base",
      "model_module_version": "1.2.0",
      "model_name": "LayoutModel",
      "state": {
       "_model_module": "@jupyter-widgets/base",
       "_model_module_version": "1.2.0",
       "_model_name": "LayoutModel",
       "_view_count": null,
       "_view_module": "@jupyter-widgets/base",
       "_view_module_version": "1.2.0",
       "_view_name": "LayoutView",
       "align_content": null,
       "align_items": null,
       "align_self": null,
       "border": null,
       "bottom": null,
       "display": null,
       "flex": null,
       "flex_flow": null,
       "grid_area": null,
       "grid_auto_columns": null,
       "grid_auto_flow": null,
       "grid_auto_rows": null,
       "grid_column": null,
       "grid_gap": null,
       "grid_row": null,
       "grid_template_areas": null,
       "grid_template_columns": null,
       "grid_template_rows": null,
       "height": null,
       "justify_content": null,
       "justify_items": null,
       "left": null,
       "margin": null,
       "max_height": null,
       "max_width": null,
       "min_height": null,
       "min_width": null,
       "object_fit": null,
       "object_position": null,
       "order": null,
       "overflow": null,
       "overflow_x": null,
       "overflow_y": null,
       "padding": null,
       "right": null,
       "top": null,
       "visibility": null,
       "width": null
      }
     },
     "a93882e74e5e47f09921ed99893b3372": {
      "model_module": "@jupyter-widgets/controls",
      "model_module_version": "1.5.0",
      "model_name": "DescriptionStyleModel",
      "state": {
       "_model_module": "@jupyter-widgets/controls",
       "_model_module_version": "1.5.0",
       "_model_name": "DescriptionStyleModel",
       "_view_count": null,
       "_view_module": "@jupyter-widgets/base",
       "_view_module_version": "1.2.0",
       "_view_name": "StyleView",
       "description_width": ""
      }
     },
     "a9c5407f2a9f4b6bb8f2388835c59a95": {
      "model_module": "@jupyter-widgets/base",
      "model_module_version": "1.2.0",
      "model_name": "LayoutModel",
      "state": {
       "_model_module": "@jupyter-widgets/base",
       "_model_module_version": "1.2.0",
       "_model_name": "LayoutModel",
       "_view_count": null,
       "_view_module": "@jupyter-widgets/base",
       "_view_module_version": "1.2.0",
       "_view_name": "LayoutView",
       "align_content": null,
       "align_items": null,
       "align_self": null,
       "border": null,
       "bottom": null,
       "display": null,
       "flex": null,
       "flex_flow": null,
       "grid_area": null,
       "grid_auto_columns": null,
       "grid_auto_flow": null,
       "grid_auto_rows": null,
       "grid_column": null,
       "grid_gap": null,
       "grid_row": null,
       "grid_template_areas": null,
       "grid_template_columns": null,
       "grid_template_rows": null,
       "height": null,
       "justify_content": null,
       "justify_items": null,
       "left": null,
       "margin": null,
       "max_height": null,
       "max_width": null,
       "min_height": null,
       "min_width": null,
       "object_fit": null,
       "object_position": null,
       "order": null,
       "overflow": null,
       "overflow_x": null,
       "overflow_y": null,
       "padding": null,
       "right": null,
       "top": null,
       "visibility": null,
       "width": null
      }
     },
     "ac021802466942ad88f6408f4ae65bdd": {
      "model_module": "@jupyter-widgets/controls",
      "model_module_version": "1.5.0",
      "model_name": "HTMLModel",
      "state": {
       "_dom_classes": [],
       "_model_module": "@jupyter-widgets/controls",
       "_model_module_version": "1.5.0",
       "_model_name": "HTMLModel",
       "_view_count": null,
       "_view_module": "@jupyter-widgets/controls",
       "_view_module_version": "1.5.0",
       "_view_name": "HTMLView",
       "description": "",
       "description_tooltip": null,
       "layout": "IPY_MODEL_7a56763022ff4017b533eedb0da612d0",
       "placeholder": "​",
       "style": "IPY_MODEL_938f3ad5e1554a01b92d2a1d07cc4146",
       "value": "vocab.txt: 100%"
      }
     },
     "ad05f646a48440ff970cf32e4d4d338a": {
      "model_module": "@jupyter-widgets/base",
      "model_module_version": "1.2.0",
      "model_name": "LayoutModel",
      "state": {
       "_model_module": "@jupyter-widgets/base",
       "_model_module_version": "1.2.0",
       "_model_name": "LayoutModel",
       "_view_count": null,
       "_view_module": "@jupyter-widgets/base",
       "_view_module_version": "1.2.0",
       "_view_name": "LayoutView",
       "align_content": null,
       "align_items": null,
       "align_self": null,
       "border": null,
       "bottom": null,
       "display": null,
       "flex": null,
       "flex_flow": null,
       "grid_area": null,
       "grid_auto_columns": null,
       "grid_auto_flow": null,
       "grid_auto_rows": null,
       "grid_column": null,
       "grid_gap": null,
       "grid_row": null,
       "grid_template_areas": null,
       "grid_template_columns": null,
       "grid_template_rows": null,
       "height": null,
       "justify_content": null,
       "justify_items": null,
       "left": null,
       "margin": null,
       "max_height": null,
       "max_width": null,
       "min_height": null,
       "min_width": null,
       "object_fit": null,
       "object_position": null,
       "order": null,
       "overflow": null,
       "overflow_x": null,
       "overflow_y": null,
       "padding": null,
       "right": null,
       "top": null,
       "visibility": null,
       "width": null
      }
     },
     "ad1257334be9441c9f27ce66ea475f6a": {
      "model_module": "@jupyter-widgets/controls",
      "model_module_version": "1.5.0",
      "model_name": "HTMLModel",
      "state": {
       "_dom_classes": [],
       "_model_module": "@jupyter-widgets/controls",
       "_model_module_version": "1.5.0",
       "_model_name": "HTMLModel",
       "_view_count": null,
       "_view_module": "@jupyter-widgets/controls",
       "_view_module_version": "1.5.0",
       "_view_name": "HTMLView",
       "description": "",
       "description_tooltip": null,
       "layout": "IPY_MODEL_fac97044450143e6995ab783ab1da2aa",
       "placeholder": "​",
       "style": "IPY_MODEL_a93882e74e5e47f09921ed99893b3372",
       "value": " 28.0/28.0 [00:00&lt;00:00, 2.45kB/s]"
      }
     },
     "aff2ddaba89b44ca8a52a4351d264d46": {
      "model_module": "@jupyter-widgets/base",
      "model_module_version": "1.2.0",
      "model_name": "LayoutModel",
      "state": {
       "_model_module": "@jupyter-widgets/base",
       "_model_module_version": "1.2.0",
       "_model_name": "LayoutModel",
       "_view_count": null,
       "_view_module": "@jupyter-widgets/base",
       "_view_module_version": "1.2.0",
       "_view_name": "LayoutView",
       "align_content": null,
       "align_items": null,
       "align_self": null,
       "border": null,
       "bottom": null,
       "display": null,
       "flex": null,
       "flex_flow": null,
       "grid_area": null,
       "grid_auto_columns": null,
       "grid_auto_flow": null,
       "grid_auto_rows": null,
       "grid_column": null,
       "grid_gap": null,
       "grid_row": null,
       "grid_template_areas": null,
       "grid_template_columns": null,
       "grid_template_rows": null,
       "height": null,
       "justify_content": null,
       "justify_items": null,
       "left": null,
       "margin": null,
       "max_height": null,
       "max_width": null,
       "min_height": null,
       "min_width": null,
       "object_fit": null,
       "object_position": null,
       "order": null,
       "overflow": null,
       "overflow_x": null,
       "overflow_y": null,
       "padding": null,
       "right": null,
       "top": null,
       "visibility": null,
       "width": null
      }
     },
     "b0f2d5d36ab2446e8b8db814240005c2": {
      "model_module": "@jupyter-widgets/controls",
      "model_module_version": "1.5.0",
      "model_name": "DescriptionStyleModel",
      "state": {
       "_model_module": "@jupyter-widgets/controls",
       "_model_module_version": "1.5.0",
       "_model_name": "DescriptionStyleModel",
       "_view_count": null,
       "_view_module": "@jupyter-widgets/base",
       "_view_module_version": "1.2.0",
       "_view_name": "StyleView",
       "description_width": ""
      }
     },
     "bcda31d9bb7849708e07b29ed6cdc8f5": {
      "model_module": "@jupyter-widgets/base",
      "model_module_version": "1.2.0",
      "model_name": "LayoutModel",
      "state": {
       "_model_module": "@jupyter-widgets/base",
       "_model_module_version": "1.2.0",
       "_model_name": "LayoutModel",
       "_view_count": null,
       "_view_module": "@jupyter-widgets/base",
       "_view_module_version": "1.2.0",
       "_view_name": "LayoutView",
       "align_content": null,
       "align_items": null,
       "align_self": null,
       "border": null,
       "bottom": null,
       "display": null,
       "flex": null,
       "flex_flow": null,
       "grid_area": null,
       "grid_auto_columns": null,
       "grid_auto_flow": null,
       "grid_auto_rows": null,
       "grid_column": null,
       "grid_gap": null,
       "grid_row": null,
       "grid_template_areas": null,
       "grid_template_columns": null,
       "grid_template_rows": null,
       "height": null,
       "justify_content": null,
       "justify_items": null,
       "left": null,
       "margin": null,
       "max_height": null,
       "max_width": null,
       "min_height": null,
       "min_width": null,
       "object_fit": null,
       "object_position": null,
       "order": null,
       "overflow": null,
       "overflow_x": null,
       "overflow_y": null,
       "padding": null,
       "right": null,
       "top": null,
       "visibility": null,
       "width": null
      }
     },
     "cbd5798c14d94ace840564564488e164": {
      "model_module": "@jupyter-widgets/base",
      "model_module_version": "1.2.0",
      "model_name": "LayoutModel",
      "state": {
       "_model_module": "@jupyter-widgets/base",
       "_model_module_version": "1.2.0",
       "_model_name": "LayoutModel",
       "_view_count": null,
       "_view_module": "@jupyter-widgets/base",
       "_view_module_version": "1.2.0",
       "_view_name": "LayoutView",
       "align_content": null,
       "align_items": null,
       "align_self": null,
       "border": null,
       "bottom": null,
       "display": null,
       "flex": null,
       "flex_flow": null,
       "grid_area": null,
       "grid_auto_columns": null,
       "grid_auto_flow": null,
       "grid_auto_rows": null,
       "grid_column": null,
       "grid_gap": null,
       "grid_row": null,
       "grid_template_areas": null,
       "grid_template_columns": null,
       "grid_template_rows": null,
       "height": null,
       "justify_content": null,
       "justify_items": null,
       "left": null,
       "margin": null,
       "max_height": null,
       "max_width": null,
       "min_height": null,
       "min_width": null,
       "object_fit": null,
       "object_position": null,
       "order": null,
       "overflow": null,
       "overflow_x": null,
       "overflow_y": null,
       "padding": null,
       "right": null,
       "top": null,
       "visibility": null,
       "width": null
      }
     },
     "d16f39eff6394c7b9981cea252038018": {
      "model_module": "@jupyter-widgets/base",
      "model_module_version": "1.2.0",
      "model_name": "LayoutModel",
      "state": {
       "_model_module": "@jupyter-widgets/base",
       "_model_module_version": "1.2.0",
       "_model_name": "LayoutModel",
       "_view_count": null,
       "_view_module": "@jupyter-widgets/base",
       "_view_module_version": "1.2.0",
       "_view_name": "LayoutView",
       "align_content": null,
       "align_items": null,
       "align_self": null,
       "border": null,
       "bottom": null,
       "display": null,
       "flex": null,
       "flex_flow": null,
       "grid_area": null,
       "grid_auto_columns": null,
       "grid_auto_flow": null,
       "grid_auto_rows": null,
       "grid_column": null,
       "grid_gap": null,
       "grid_row": null,
       "grid_template_areas": null,
       "grid_template_columns": null,
       "grid_template_rows": null,
       "height": null,
       "justify_content": null,
       "justify_items": null,
       "left": null,
       "margin": null,
       "max_height": null,
       "max_width": null,
       "min_height": null,
       "min_width": null,
       "object_fit": null,
       "object_position": null,
       "order": null,
       "overflow": null,
       "overflow_x": null,
       "overflow_y": null,
       "padding": null,
       "right": null,
       "top": null,
       "visibility": null,
       "width": null
      }
     },
     "d40947cc04a74bd5a4f1bf35e84bc35b": {
      "model_module": "@jupyter-widgets/controls",
      "model_module_version": "1.5.0",
      "model_name": "DescriptionStyleModel",
      "state": {
       "_model_module": "@jupyter-widgets/controls",
       "_model_module_version": "1.5.0",
       "_model_name": "DescriptionStyleModel",
       "_view_count": null,
       "_view_module": "@jupyter-widgets/base",
       "_view_module_version": "1.2.0",
       "_view_name": "StyleView",
       "description_width": ""
      }
     },
     "d64064a3336c4592b06e07ce4c9636a2": {
      "model_module": "@jupyter-widgets/base",
      "model_module_version": "1.2.0",
      "model_name": "LayoutModel",
      "state": {
       "_model_module": "@jupyter-widgets/base",
       "_model_module_version": "1.2.0",
       "_model_name": "LayoutModel",
       "_view_count": null,
       "_view_module": "@jupyter-widgets/base",
       "_view_module_version": "1.2.0",
       "_view_name": "LayoutView",
       "align_content": null,
       "align_items": null,
       "align_self": null,
       "border": null,
       "bottom": null,
       "display": null,
       "flex": null,
       "flex_flow": null,
       "grid_area": null,
       "grid_auto_columns": null,
       "grid_auto_flow": null,
       "grid_auto_rows": null,
       "grid_column": null,
       "grid_gap": null,
       "grid_row": null,
       "grid_template_areas": null,
       "grid_template_columns": null,
       "grid_template_rows": null,
       "height": null,
       "justify_content": null,
       "justify_items": null,
       "left": null,
       "margin": null,
       "max_height": null,
       "max_width": null,
       "min_height": null,
       "min_width": null,
       "object_fit": null,
       "object_position": null,
       "order": null,
       "overflow": null,
       "overflow_x": null,
       "overflow_y": null,
       "padding": null,
       "right": null,
       "top": null,
       "visibility": null,
       "width": null
      }
     },
     "da44ad80aeba407d986423d4b969d2b4": {
      "model_module": "@jupyter-widgets/controls",
      "model_module_version": "1.5.0",
      "model_name": "HBoxModel",
      "state": {
       "_dom_classes": [],
       "_model_module": "@jupyter-widgets/controls",
       "_model_module_version": "1.5.0",
       "_model_name": "HBoxModel",
       "_view_count": null,
       "_view_module": "@jupyter-widgets/controls",
       "_view_module_version": "1.5.0",
       "_view_name": "HBoxView",
       "box_style": "",
       "children": [
        "IPY_MODEL_07f2d27ac2884d6ab2031fb1315659f5",
        "IPY_MODEL_f789413aea9f47efb92001c90625888b",
        "IPY_MODEL_ec29817a163641e69c66ebd1b4c77366"
       ],
       "layout": "IPY_MODEL_627cc9fc41fb45d69adaa1485928a568"
      }
     },
     "dcd2e6870c394d74b64bcab5952baefd": {
      "model_module": "@jupyter-widgets/controls",
      "model_module_version": "1.5.0",
      "model_name": "FloatProgressModel",
      "state": {
       "_dom_classes": [],
       "_model_module": "@jupyter-widgets/controls",
       "_model_module_version": "1.5.0",
       "_model_name": "FloatProgressModel",
       "_view_count": null,
       "_view_module": "@jupyter-widgets/controls",
       "_view_module_version": "1.5.0",
       "_view_name": "ProgressView",
       "bar_style": "success",
       "description": "",
       "description_tooltip": null,
       "layout": "IPY_MODEL_41810c3411814778adf1c0666148195f",
       "max": 625.0,
       "min": 0.0,
       "orientation": "horizontal",
       "style": "IPY_MODEL_88750eebd8f94332aa394af03d3b0804",
       "value": 625.0
      }
     },
     "df8844c7b32b4c2c80ec6b00f9f4764c": {
      "model_module": "@jupyter-widgets/controls",
      "model_module_version": "1.5.0",
      "model_name": "FloatProgressModel",
      "state": {
       "_dom_classes": [],
       "_model_module": "@jupyter-widgets/controls",
       "_model_module_version": "1.5.0",
       "_model_name": "FloatProgressModel",
       "_view_count": null,
       "_view_module": "@jupyter-widgets/controls",
       "_view_module_version": "1.5.0",
       "_view_name": "ProgressView",
       "bar_style": "success",
       "description": "",
       "description_tooltip": null,
       "layout": "IPY_MODEL_6e569a9aa5e84cbabafd11699b7ddf3b",
       "max": 1715180.0,
       "min": 0.0,
       "orientation": "horizontal",
       "style": "IPY_MODEL_3452f9d6dac04b8fa2449189c1e2c901",
       "value": 1715180.0
      }
     },
     "dfa65b2674914348bc063b4738d3cbc0": {
      "model_module": "@jupyter-widgets/controls",
      "model_module_version": "1.5.0",
      "model_name": "ProgressStyleModel",
      "state": {
       "_model_module": "@jupyter-widgets/controls",
       "_model_module_version": "1.5.0",
       "_model_name": "ProgressStyleModel",
       "_view_count": null,
       "_view_module": "@jupyter-widgets/base",
       "_view_module_version": "1.2.0",
       "_view_name": "StyleView",
       "bar_color": null,
       "description_width": ""
      }
     },
     "e8b43e9f861e4c1e9e102b9c9577e5ba": {
      "model_module": "@jupyter-widgets/controls",
      "model_module_version": "1.5.0",
      "model_name": "HTMLModel",
      "state": {
       "_dom_classes": [],
       "_model_module": "@jupyter-widgets/controls",
       "_model_module_version": "1.5.0",
       "_model_name": "HTMLModel",
       "_view_count": null,
       "_view_module": "@jupyter-widgets/controls",
       "_view_module_version": "1.5.0",
       "_view_name": "HTMLView",
       "description": "",
       "description_tooltip": null,
       "layout": "IPY_MODEL_cbd5798c14d94ace840564564488e164",
       "placeholder": "​",
       "style": "IPY_MODEL_0560287cbbe244d7ad3336a01562725c",
       "value": "tokenizer_config.json: 100%"
      }
     },
     "ec29817a163641e69c66ebd1b4c77366": {
      "model_module": "@jupyter-widgets/controls",
      "model_module_version": "1.5.0",
      "model_name": "HTMLModel",
      "state": {
       "_dom_classes": [],
       "_model_module": "@jupyter-widgets/controls",
       "_model_module_version": "1.5.0",
       "_model_name": "HTMLModel",
       "_view_count": null,
       "_view_module": "@jupyter-widgets/controls",
       "_view_module_version": "1.5.0",
       "_view_name": "HTMLView",
       "description": "",
       "description_tooltip": null,
       "layout": "IPY_MODEL_00484c5aca5a495fb5cc1a9a07a9ef48",
       "placeholder": "​",
       "style": "IPY_MODEL_d40947cc04a74bd5a4f1bf35e84bc35b",
       "value": " 672M/672M [00:51&lt;00:00, 13.3MB/s]"
      }
     },
     "ecbfaf0a065b424dbd19e0be7376bae3": {
      "model_module": "@jupyter-widgets/controls",
      "model_module_version": "1.5.0",
      "model_name": "HTMLModel",
      "state": {
       "_dom_classes": [],
       "_model_module": "@jupyter-widgets/controls",
       "_model_module_version": "1.5.0",
       "_model_name": "HTMLModel",
       "_view_count": null,
       "_view_module": "@jupyter-widgets/controls",
       "_view_module_version": "1.5.0",
       "_view_name": "HTMLView",
       "description": "",
       "description_tooltip": null,
       "layout": "IPY_MODEL_7c846581b8564441b4851251ee7ba68c",
       "placeholder": "​",
       "style": "IPY_MODEL_60bf45df52b044d08de656231c368b06",
       "value": " 1.72M/1.72M [00:00&lt;00:00, 1.72MB/s]"
      }
     },
     "ecfb45274aef4719af7e544baaa035f8": {
      "model_module": "@jupyter-widgets/controls",
      "model_module_version": "1.5.0",
      "model_name": "HBoxModel",
      "state": {
       "_dom_classes": [],
       "_model_module": "@jupyter-widgets/controls",
       "_model_module_version": "1.5.0",
       "_model_name": "HBoxModel",
       "_view_count": null,
       "_view_module": "@jupyter-widgets/controls",
       "_view_module_version": "1.5.0",
       "_view_name": "HBoxView",
       "box_style": "",
       "children": [
        "IPY_MODEL_87d4801258b447f4acade0afb9fd6dae",
        "IPY_MODEL_df8844c7b32b4c2c80ec6b00f9f4764c",
        "IPY_MODEL_ecbfaf0a065b424dbd19e0be7376bae3"
       ],
       "layout": "IPY_MODEL_d16f39eff6394c7b9981cea252038018"
      }
     },
     "f789413aea9f47efb92001c90625888b": {
      "model_module": "@jupyter-widgets/controls",
      "model_module_version": "1.5.0",
      "model_name": "FloatProgressModel",
      "state": {
       "_dom_classes": [],
       "_model_module": "@jupyter-widgets/controls",
       "_model_module_version": "1.5.0",
       "_model_name": "FloatProgressModel",
       "_view_count": null,
       "_view_module": "@jupyter-widgets/controls",
       "_view_module_version": "1.5.0",
       "_view_name": "ProgressView",
       "bar_style": "success",
       "description": "",
       "description_tooltip": null,
       "layout": "IPY_MODEL_aff2ddaba89b44ca8a52a4351d264d46",
       "max": 672247920.0,
       "min": 0.0,
       "orientation": "horizontal",
       "style": "IPY_MODEL_dfa65b2674914348bc063b4738d3cbc0",
       "value": 672247920.0
      }
     },
     "fac97044450143e6995ab783ab1da2aa": {
      "model_module": "@jupyter-widgets/base",
      "model_module_version": "1.2.0",
      "model_name": "LayoutModel",
      "state": {
       "_model_module": "@jupyter-widgets/base",
       "_model_module_version": "1.2.0",
       "_model_name": "LayoutModel",
       "_view_count": null,
       "_view_module": "@jupyter-widgets/base",
       "_view_module_version": "1.2.0",
       "_view_name": "LayoutView",
       "align_content": null,
       "align_items": null,
       "align_self": null,
       "border": null,
       "bottom": null,
       "display": null,
       "flex": null,
       "flex_flow": null,
       "grid_area": null,
       "grid_auto_columns": null,
       "grid_auto_flow": null,
       "grid_auto_rows": null,
       "grid_column": null,
       "grid_gap": null,
       "grid_row": null,
       "grid_template_areas": null,
       "grid_template_columns": null,
       "grid_template_rows": null,
       "height": null,
       "justify_content": null,
       "justify_items": null,
       "left": null,
       "margin": null,
       "max_height": null,
       "max_width": null,
       "min_height": null,
       "min_width": null,
       "object_fit": null,
       "object_position": null,
       "order": null,
       "overflow": null,
       "overflow_x": null,
       "overflow_y": null,
       "padding": null,
       "right": null,
       "top": null,
       "visibility": null,
       "width": null
      }
     }
    },
    "version_major": 2,
    "version_minor": 0
   }
  }
 },
 "nbformat": 4,
 "nbformat_minor": 5
}
