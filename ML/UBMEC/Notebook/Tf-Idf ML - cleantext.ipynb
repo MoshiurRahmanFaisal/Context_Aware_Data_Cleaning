{
 "cells": [
  {
   "cell_type": "code",
   "execution_count": 1,
   "id": "0356e1cf",
   "metadata": {},
   "outputs": [],
   "source": [
    "import pandas as pd\n",
    "import numpy as np\n",
    "from matplotlib import pyplot as plt\n",
    "import seaborn as sns\n",
    "import math\n",
    "from bnlp import NLTKTokenizer\n",
    "from sklearn.feature_extraction.text import TfidfVectorizer"
   ]
  },
  {
   "cell_type": "code",
   "execution_count": 2,
   "id": "7b6a9335",
   "metadata": {},
   "outputs": [],
   "source": [
    "df = pd.read_excel('F:/Context_Aware_Data_Cleaning_Deep/UBMEC/Dataset/UBMEC.xlsx')"
   ]
  },
  {
   "cell_type": "code",
   "execution_count": 3,
   "id": "136eda95",
   "metadata": {},
   "outputs": [
    {
     "data": {
      "text/plain": [
       "<bound method NDFrame.head of                                                     text   classes\n",
       "0      এই নাটকটি হচ্ছে ১৯৯৩ সালের। কিন্তু তখন ইউটিউব ...       joy\n",
       "1      ২০২১ সালে যারা “ কোথাও কেউ নেই ” দেখতে আসে - ত...  surprise\n",
       "2      বাংলাদেশের ইতিহাসে সর্বশ্রেষ্ঠ নাটক \"কোথাও কেউ...       joy\n",
       "3      এতো সুন্দর নাটক আগে কখনো দেখা হয় নাই,2021 সালে...       joy\n",
       "4      কখনো চিন্তাও করিনি জন্মের ৭-৮ বছর আগের নাটক দে...  surprise\n",
       "...                                                  ...       ...\n",
       "13431  Bravo বললে ছোট করা হবে ৷ সুতরাং হাজারো সালাম আ...       joy\n",
       "13432  কি যে করেন না ম্যাজিস্ট্রেট স্যার? প্রথমটুক পড়...       joy\n",
       "13433  আপনারা এই সত্যের পথে অবিচল থাকুন দেশবাসী আপনাদ...       joy\n",
       "13434          এগিয়ে যান। আপনাদের দিকেই তাকিয়ে বাংলাদেশ।       joy\n",
       "13435  দুর্নীতি মুক্ত হলে নিশ্চয় চোরও মুক্ত হবে, বিশ্...       joy\n",
       "\n",
       "[13436 rows x 2 columns]>"
      ]
     },
     "execution_count": 3,
     "metadata": {},
     "output_type": "execute_result"
    }
   ],
   "source": [
    "df.head"
   ]
  },
  {
   "cell_type": "code",
   "execution_count": 4,
   "id": "caecabfd",
   "metadata": {},
   "outputs": [
    {
     "data": {
      "text/html": [
       "<div>\n",
       "<style scoped>\n",
       "    .dataframe tbody tr th:only-of-type {\n",
       "        vertical-align: middle;\n",
       "    }\n",
       "\n",
       "    .dataframe tbody tr th {\n",
       "        vertical-align: top;\n",
       "    }\n",
       "\n",
       "    .dataframe thead tr th {\n",
       "        text-align: left;\n",
       "    }\n",
       "\n",
       "    .dataframe thead tr:last-of-type th {\n",
       "        text-align: right;\n",
       "    }\n",
       "</style>\n",
       "<table border=\"1\" class=\"dataframe\">\n",
       "  <thead>\n",
       "    <tr>\n",
       "      <th></th>\n",
       "      <th colspan=\"4\" halign=\"left\">text</th>\n",
       "    </tr>\n",
       "    <tr>\n",
       "      <th></th>\n",
       "      <th>count</th>\n",
       "      <th>unique</th>\n",
       "      <th>top</th>\n",
       "      <th>freq</th>\n",
       "    </tr>\n",
       "    <tr>\n",
       "      <th>classes</th>\n",
       "      <th></th>\n",
       "      <th></th>\n",
       "      <th></th>\n",
       "      <th></th>\n",
       "    </tr>\n",
       "  </thead>\n",
       "  <tbody>\n",
       "    <tr>\n",
       "      <th>anger</th>\n",
       "      <td>2480</td>\n",
       "      <td>2422</td>\n",
       "      <td>নাস্তিকদের দালাল একাওর টিভি বন্ধ করা হোক,https...</td>\n",
       "      <td>6</td>\n",
       "    </tr>\n",
       "    <tr>\n",
       "      <th>disgust</th>\n",
       "      <td>2079</td>\n",
       "      <td>2049</td>\n",
       "      <td>অপরাধ কারী এবং অপরাধী কে প্রশ্রয় দানকারী দুজন...</td>\n",
       "      <td>6</td>\n",
       "    </tr>\n",
       "    <tr>\n",
       "      <th>fear</th>\n",
       "      <td>1361</td>\n",
       "      <td>1348</td>\n",
       "      <td>হট্রগোল আর পরিস্থিতি ঘোলাটে করে নির্বাহী মেজিস...</td>\n",
       "      <td>2</td>\n",
       "    </tr>\n",
       "    <tr>\n",
       "      <th>joy</th>\n",
       "      <td>3467</td>\n",
       "      <td>3290</td>\n",
       "      <td>ধন্যবাদ</td>\n",
       "      <td>27</td>\n",
       "    </tr>\n",
       "    <tr>\n",
       "      <th>sadness</th>\n",
       "      <td>2683</td>\n",
       "      <td>2622</td>\n",
       "      <td>অপরাধ কারী এবং অপরাধী কে প্রশ্রয় দানকারী দুজন...</td>\n",
       "      <td>12</td>\n",
       "    </tr>\n",
       "    <tr>\n",
       "      <th>surprise</th>\n",
       "      <td>1366</td>\n",
       "      <td>1341</td>\n",
       "      <td>আমরা কি স্ট্যাটাসের বাকি লাইনগুলো অস্বীকার করব...</td>\n",
       "      <td>4</td>\n",
       "    </tr>\n",
       "  </tbody>\n",
       "</table>\n",
       "</div>"
      ],
      "text/plain": [
       "          text                                                               \n",
       "         count unique                                                top freq\n",
       "classes                                                                      \n",
       "anger     2480   2422  নাস্তিকদের দালাল একাওর টিভি বন্ধ করা হোক,https...    6\n",
       "disgust   2079   2049  অপরাধ কারী এবং অপরাধী কে প্রশ্রয় দানকারী দুজন...    6\n",
       "fear      1361   1348  হট্রগোল আর পরিস্থিতি ঘোলাটে করে নির্বাহী মেজিস...    2\n",
       "joy       3467   3290                                            ধন্যবাদ   27\n",
       "sadness   2683   2622  অপরাধ কারী এবং অপরাধী কে প্রশ্রয় দানকারী দুজন...   12\n",
       "surprise  1366   1341  আমরা কি স্ট্যাটাসের বাকি লাইনগুলো অস্বীকার করব...    4"
      ]
     },
     "execution_count": 4,
     "metadata": {},
     "output_type": "execute_result"
    }
   ],
   "source": [
    "df.groupby(\"classes\").describe()"
   ]
  },
  {
   "cell_type": "code",
   "execution_count": 5,
   "id": "35c61365",
   "metadata": {},
   "outputs": [],
   "source": [
    "df['text'] = df['text'].astype(str)"
   ]
  },
  {
   "cell_type": "code",
   "execution_count": 6,
   "id": "6ca6a7fe",
   "metadata": {},
   "outputs": [],
   "source": [
    "from sklearn.feature_extraction.text import CountVectorizer\n",
    "from sklearn.feature_extraction.text import TfidfTransformer\n",
    "from sklearn.preprocessing import LabelBinarizer"
   ]
  },
  {
   "cell_type": "code",
   "execution_count": 7,
   "id": "80dc5abe",
   "metadata": {
    "scrolled": true
   },
   "outputs": [],
   "source": [
    "count_vect = CountVectorizer() # for converting text into count-based vectors\n",
    "tfidf_transformer = TfidfTransformer() # for converting text into tf-idf-based vectors\n",
    "lb = LabelBinarizer() # object for making class-labels into binary numbers"
   ]
  },
  {
   "cell_type": "code",
   "execution_count": 8,
   "id": "9bc17df6",
   "metadata": {},
   "outputs": [
    {
     "data": {
      "text/plain": [
       "Index(['text', 'classes'], dtype='object')"
      ]
     },
     "execution_count": 8,
     "metadata": {},
     "output_type": "execute_result"
    }
   ],
   "source": [
    "df.columns"
   ]
  },
  {
   "cell_type": "code",
   "execution_count": 9,
   "id": "a710a6cb",
   "metadata": {
    "scrolled": true
   },
   "outputs": [
    {
     "data": {
      "text/plain": [
       "<bound method NDFrame.head of                                                     text   classes\n",
       "0      এই নাটকটি হচ্ছে ১৯৯৩ সালের। কিন্তু তখন ইউটিউব ...       joy\n",
       "1      ২০২১ সালে যারা “ কোথাও কেউ নেই ” দেখতে আসে - ত...  surprise\n",
       "2      বাংলাদেশের ইতিহাসে সর্বশ্রেষ্ঠ নাটক \"কোথাও কেউ...       joy\n",
       "3      এতো সুন্দর নাটক আগে কখনো দেখা হয় নাই,2021 সালে...       joy\n",
       "4      কখনো চিন্তাও করিনি জন্মের ৭-৮ বছর আগের নাটক দে...  surprise\n",
       "...                                                  ...       ...\n",
       "13431  Bravo বললে ছোট করা হবে ৷ সুতরাং হাজারো সালাম আ...       joy\n",
       "13432  কি যে করেন না ম্যাজিস্ট্রেট স্যার? প্রথমটুক পড়...       joy\n",
       "13433  আপনারা এই সত্যের পথে অবিচল থাকুন দেশবাসী আপনাদ...       joy\n",
       "13434          এগিয়ে যান। আপনাদের দিকেই তাকিয়ে বাংলাদেশ।       joy\n",
       "13435  দুর্নীতি মুক্ত হলে নিশ্চয় চোরও মুক্ত হবে, বিশ্...       joy\n",
       "\n",
       "[13436 rows x 2 columns]>"
      ]
     },
     "execution_count": 9,
     "metadata": {},
     "output_type": "execute_result"
    }
   ],
   "source": [
    "df.head"
   ]
  },
  {
   "cell_type": "code",
   "execution_count": 10,
   "id": "87cc91ca",
   "metadata": {},
   "outputs": [],
   "source": [
    "from bnlp import CleanText\n",
    "\n",
    "clean_text = CleanText(\n",
    "   fix_unicode=True,\n",
    "   unicode_norm=True,\n",
    "   unicode_norm_form=\"NFKC\",\n",
    "   remove_url=True,\n",
    "   remove_email=True,\n",
    "   remove_emoji=False,\n",
    "   remove_number=False,\n",
    "   remove_digits=False,\n",
    "   remove_punct=False,\n",
    "   replace_with_url=\"<URL>\",\n",
    "   replace_with_email=\"<EMAIL>\",\n",
    "   replace_with_number=\"<NUMBER>\",\n",
    "   replace_with_digit=\"<DIGIT>\",\n",
    "   replace_with_punct = \"<PUNC>\"\n",
    ")"
   ]
  },
  {
   "cell_type": "code",
   "execution_count": 11,
   "id": "469c8d59",
   "metadata": {},
   "outputs": [],
   "source": [
    "df['text'] = df['text'].apply(clean_text)"
   ]
  },
  {
   "cell_type": "code",
   "execution_count": 12,
   "id": "c5a2b583",
   "metadata": {},
   "outputs": [
    {
     "data": {
      "text/html": [
       "<div>\n",
       "<style scoped>\n",
       "    .dataframe tbody tr th:only-of-type {\n",
       "        vertical-align: middle;\n",
       "    }\n",
       "\n",
       "    .dataframe tbody tr th {\n",
       "        vertical-align: top;\n",
       "    }\n",
       "\n",
       "    .dataframe thead th {\n",
       "        text-align: right;\n",
       "    }\n",
       "</style>\n",
       "<table border=\"1\" class=\"dataframe\">\n",
       "  <thead>\n",
       "    <tr style=\"text-align: right;\">\n",
       "      <th></th>\n",
       "      <th>classes_bin</th>\n",
       "      <th>classes</th>\n",
       "    </tr>\n",
       "  </thead>\n",
       "  <tbody>\n",
       "    <tr>\n",
       "      <th>0</th>\n",
       "      <td>3</td>\n",
       "      <td>joy</td>\n",
       "    </tr>\n",
       "    <tr>\n",
       "      <th>1</th>\n",
       "      <td>5</td>\n",
       "      <td>surprise</td>\n",
       "    </tr>\n",
       "    <tr>\n",
       "      <th>2</th>\n",
       "      <td>3</td>\n",
       "      <td>joy</td>\n",
       "    </tr>\n",
       "    <tr>\n",
       "      <th>3</th>\n",
       "      <td>3</td>\n",
       "      <td>joy</td>\n",
       "    </tr>\n",
       "    <tr>\n",
       "      <th>4</th>\n",
       "      <td>5</td>\n",
       "      <td>surprise</td>\n",
       "    </tr>\n",
       "    <tr>\n",
       "      <th>5</th>\n",
       "      <td>3</td>\n",
       "      <td>joy</td>\n",
       "    </tr>\n",
       "    <tr>\n",
       "      <th>6</th>\n",
       "      <td>3</td>\n",
       "      <td>joy</td>\n",
       "    </tr>\n",
       "    <tr>\n",
       "      <th>7</th>\n",
       "      <td>4</td>\n",
       "      <td>sadness</td>\n",
       "    </tr>\n",
       "    <tr>\n",
       "      <th>8</th>\n",
       "      <td>3</td>\n",
       "      <td>joy</td>\n",
       "    </tr>\n",
       "    <tr>\n",
       "      <th>9</th>\n",
       "      <td>3</td>\n",
       "      <td>joy</td>\n",
       "    </tr>\n",
       "    <tr>\n",
       "      <th>10</th>\n",
       "      <td>4</td>\n",
       "      <td>sadness</td>\n",
       "    </tr>\n",
       "  </tbody>\n",
       "</table>\n",
       "</div>"
      ],
      "text/plain": [
       "    classes_bin   classes\n",
       "0             3       joy\n",
       "1             5  surprise\n",
       "2             3       joy\n",
       "3             3       joy\n",
       "4             5  surprise\n",
       "5             3       joy\n",
       "6             3       joy\n",
       "7             4   sadness\n",
       "8             3       joy\n",
       "9             3       joy\n",
       "10            4   sadness"
      ]
     },
     "execution_count": 12,
     "metadata": {},
     "output_type": "execute_result"
    }
   ],
   "source": [
    "from sklearn.preprocessing import LabelEncoder\n",
    "\n",
    "lb_make = LabelEncoder()\n",
    "df[\"classes_bin\"] = lb_make.fit_transform(df[\"classes\"])\n",
    "df[[\"classes_bin\", \"classes\"]].head(11)"
   ]
  },
  {
   "cell_type": "code",
   "execution_count": 13,
   "id": "fffdfff2",
   "metadata": {},
   "outputs": [
    {
     "data": {
      "text/html": [
       "<div>\n",
       "<style scoped>\n",
       "    .dataframe tbody tr th:only-of-type {\n",
       "        vertical-align: middle;\n",
       "    }\n",
       "\n",
       "    .dataframe tbody tr th {\n",
       "        vertical-align: top;\n",
       "    }\n",
       "\n",
       "    .dataframe thead th {\n",
       "        text-align: right;\n",
       "    }\n",
       "</style>\n",
       "<table border=\"1\" class=\"dataframe\">\n",
       "  <thead>\n",
       "    <tr style=\"text-align: right;\">\n",
       "      <th></th>\n",
       "      <th>text</th>\n",
       "      <th>classes</th>\n",
       "      <th>classes_bin</th>\n",
       "    </tr>\n",
       "  </thead>\n",
       "  <tbody>\n",
       "    <tr>\n",
       "      <th>0</th>\n",
       "      <td>এই নাটকটি হচ্ছে ১৯৯৩ সালের। কিন্তু তখন ইউটিউব ...</td>\n",
       "      <td>joy</td>\n",
       "      <td>3</td>\n",
       "    </tr>\n",
       "    <tr>\n",
       "      <th>1</th>\n",
       "      <td>২০২১ সালে যারা \" কোথাও কেউ নেই \" দেখতে আসে - ত...</td>\n",
       "      <td>surprise</td>\n",
       "      <td>5</td>\n",
       "    </tr>\n",
       "    <tr>\n",
       "      <th>2</th>\n",
       "      <td>বাংলাদেশের ইতিহাসে সর্বশ্রেষ্ঠ নাটক \"কোথাও কেউ...</td>\n",
       "      <td>joy</td>\n",
       "      <td>3</td>\n",
       "    </tr>\n",
       "    <tr>\n",
       "      <th>3</th>\n",
       "      <td>এতো সুন্দর নাটক আগে কখনো দেখা হয় নাই,2021 সাল...</td>\n",
       "      <td>joy</td>\n",
       "      <td>3</td>\n",
       "    </tr>\n",
       "    <tr>\n",
       "      <th>4</th>\n",
       "      <td>কখনো চিন্তাও করিনি জন্মের ৭-৮ বছর আগের নাটক দে...</td>\n",
       "      <td>surprise</td>\n",
       "      <td>5</td>\n",
       "    </tr>\n",
       "    <tr>\n",
       "      <th>...</th>\n",
       "      <td>...</td>\n",
       "      <td>...</td>\n",
       "      <td>...</td>\n",
       "    </tr>\n",
       "    <tr>\n",
       "      <th>13431</th>\n",
       "      <td>Bravo বললে ছোট করা হবে ৷ সুতরাং হাজারো সালাম আ...</td>\n",
       "      <td>joy</td>\n",
       "      <td>3</td>\n",
       "    </tr>\n",
       "    <tr>\n",
       "      <th>13432</th>\n",
       "      <td>কি যে করেন না ম্যাজিস্ট্রেট স্যার? প্রথমটুক পড...</td>\n",
       "      <td>joy</td>\n",
       "      <td>3</td>\n",
       "    </tr>\n",
       "    <tr>\n",
       "      <th>13433</th>\n",
       "      <td>আপনারা এই সত্যের পথে অবিচল থাকুন দেশবাসী আপনাদ...</td>\n",
       "      <td>joy</td>\n",
       "      <td>3</td>\n",
       "    </tr>\n",
       "    <tr>\n",
       "      <th>13434</th>\n",
       "      <td>এগিয়ে যান। আপনাদের দিকেই তাকিয়ে বাংলাদেশ।</td>\n",
       "      <td>joy</td>\n",
       "      <td>3</td>\n",
       "    </tr>\n",
       "    <tr>\n",
       "      <th>13435</th>\n",
       "      <td>দুর্নীতি মুক্ত হলে নিশ্চয় চোরও মুক্ত হবে, বিশ...</td>\n",
       "      <td>joy</td>\n",
       "      <td>3</td>\n",
       "    </tr>\n",
       "  </tbody>\n",
       "</table>\n",
       "<p>13436 rows × 3 columns</p>\n",
       "</div>"
      ],
      "text/plain": [
       "                                                    text   classes  \\\n",
       "0      এই নাটকটি হচ্ছে ১৯৯৩ সালের। কিন্তু তখন ইউটিউব ...       joy   \n",
       "1      ২০২১ সালে যারা \" কোথাও কেউ নেই \" দেখতে আসে - ত...  surprise   \n",
       "2      বাংলাদেশের ইতিহাসে সর্বশ্রেষ্ঠ নাটক \"কোথাও কেউ...       joy   \n",
       "3      এতো সুন্দর নাটক আগে কখনো দেখা হয় নাই,2021 সাল...       joy   \n",
       "4      কখনো চিন্তাও করিনি জন্মের ৭-৮ বছর আগের নাটক দে...  surprise   \n",
       "...                                                  ...       ...   \n",
       "13431  Bravo বললে ছোট করা হবে ৷ সুতরাং হাজারো সালাম আ...       joy   \n",
       "13432  কি যে করেন না ম্যাজিস্ট্রেট স্যার? প্রথমটুক পড...       joy   \n",
       "13433  আপনারা এই সত্যের পথে অবিচল থাকুন দেশবাসী আপনাদ...       joy   \n",
       "13434        এগিয়ে যান। আপনাদের দিকেই তাকিয়ে বাংলাদেশ।       joy   \n",
       "13435  দুর্নীতি মুক্ত হলে নিশ্চয় চোরও মুক্ত হবে, বিশ...       joy   \n",
       "\n",
       "       classes_bin  \n",
       "0                3  \n",
       "1                5  \n",
       "2                3  \n",
       "3                3  \n",
       "4                5  \n",
       "...            ...  \n",
       "13431            3  \n",
       "13432            3  \n",
       "13433            3  \n",
       "13434            3  \n",
       "13435            3  \n",
       "\n",
       "[13436 rows x 3 columns]"
      ]
     },
     "execution_count": 13,
     "metadata": {},
     "output_type": "execute_result"
    }
   ],
   "source": [
    "df"
   ]
  },
  {
   "cell_type": "code",
   "execution_count": 14,
   "id": "12f3da68",
   "metadata": {
    "scrolled": true
   },
   "outputs": [
    {
     "data": {
      "text/html": [
       "<div>\n",
       "<style scoped>\n",
       "    .dataframe tbody tr th:only-of-type {\n",
       "        vertical-align: middle;\n",
       "    }\n",
       "\n",
       "    .dataframe tbody tr th {\n",
       "        vertical-align: top;\n",
       "    }\n",
       "\n",
       "    .dataframe thead th {\n",
       "        text-align: right;\n",
       "    }\n",
       "</style>\n",
       "<table border=\"1\" class=\"dataframe\">\n",
       "  <thead>\n",
       "    <tr style=\"text-align: right;\">\n",
       "      <th></th>\n",
       "      <th>text</th>\n",
       "      <th>classes</th>\n",
       "      <th>classes_bin</th>\n",
       "    </tr>\n",
       "  </thead>\n",
       "  <tbody>\n",
       "    <tr>\n",
       "      <th>0</th>\n",
       "      <td>False</td>\n",
       "      <td>False</td>\n",
       "      <td>False</td>\n",
       "    </tr>\n",
       "    <tr>\n",
       "      <th>1</th>\n",
       "      <td>False</td>\n",
       "      <td>False</td>\n",
       "      <td>False</td>\n",
       "    </tr>\n",
       "    <tr>\n",
       "      <th>2</th>\n",
       "      <td>False</td>\n",
       "      <td>False</td>\n",
       "      <td>False</td>\n",
       "    </tr>\n",
       "    <tr>\n",
       "      <th>3</th>\n",
       "      <td>False</td>\n",
       "      <td>False</td>\n",
       "      <td>False</td>\n",
       "    </tr>\n",
       "    <tr>\n",
       "      <th>4</th>\n",
       "      <td>False</td>\n",
       "      <td>False</td>\n",
       "      <td>False</td>\n",
       "    </tr>\n",
       "    <tr>\n",
       "      <th>...</th>\n",
       "      <td>...</td>\n",
       "      <td>...</td>\n",
       "      <td>...</td>\n",
       "    </tr>\n",
       "    <tr>\n",
       "      <th>13431</th>\n",
       "      <td>False</td>\n",
       "      <td>False</td>\n",
       "      <td>False</td>\n",
       "    </tr>\n",
       "    <tr>\n",
       "      <th>13432</th>\n",
       "      <td>False</td>\n",
       "      <td>False</td>\n",
       "      <td>False</td>\n",
       "    </tr>\n",
       "    <tr>\n",
       "      <th>13433</th>\n",
       "      <td>False</td>\n",
       "      <td>False</td>\n",
       "      <td>False</td>\n",
       "    </tr>\n",
       "    <tr>\n",
       "      <th>13434</th>\n",
       "      <td>False</td>\n",
       "      <td>False</td>\n",
       "      <td>False</td>\n",
       "    </tr>\n",
       "    <tr>\n",
       "      <th>13435</th>\n",
       "      <td>False</td>\n",
       "      <td>False</td>\n",
       "      <td>False</td>\n",
       "    </tr>\n",
       "  </tbody>\n",
       "</table>\n",
       "<p>13436 rows × 3 columns</p>\n",
       "</div>"
      ],
      "text/plain": [
       "        text  classes  classes_bin\n",
       "0      False    False        False\n",
       "1      False    False        False\n",
       "2      False    False        False\n",
       "3      False    False        False\n",
       "4      False    False        False\n",
       "...      ...      ...          ...\n",
       "13431  False    False        False\n",
       "13432  False    False        False\n",
       "13433  False    False        False\n",
       "13434  False    False        False\n",
       "13435  False    False        False\n",
       "\n",
       "[13436 rows x 3 columns]"
      ]
     },
     "execution_count": 14,
     "metadata": {},
     "output_type": "execute_result"
    }
   ],
   "source": [
    "df.isnull()"
   ]
  },
  {
   "cell_type": "code",
   "execution_count": 15,
   "id": "6416bc9d",
   "metadata": {},
   "outputs": [],
   "source": [
    "df.dropna(inplace=True)"
   ]
  },
  {
   "cell_type": "code",
   "execution_count": 16,
   "id": "9fc7e0ac",
   "metadata": {},
   "outputs": [
    {
     "data": {
      "text/html": [
       "<div>\n",
       "<style scoped>\n",
       "    .dataframe tbody tr th:only-of-type {\n",
       "        vertical-align: middle;\n",
       "    }\n",
       "\n",
       "    .dataframe tbody tr th {\n",
       "        vertical-align: top;\n",
       "    }\n",
       "\n",
       "    .dataframe thead th {\n",
       "        text-align: right;\n",
       "    }\n",
       "</style>\n",
       "<table border=\"1\" class=\"dataframe\">\n",
       "  <thead>\n",
       "    <tr style=\"text-align: right;\">\n",
       "      <th></th>\n",
       "      <th>text</th>\n",
       "      <th>classes</th>\n",
       "      <th>classes_bin</th>\n",
       "    </tr>\n",
       "  </thead>\n",
       "  <tbody>\n",
       "    <tr>\n",
       "      <th>0</th>\n",
       "      <td>এই নাটকটি হচ্ছে ১৯৯৩ সালের। কিন্তু তখন ইউটিউব ...</td>\n",
       "      <td>joy</td>\n",
       "      <td>3</td>\n",
       "    </tr>\n",
       "    <tr>\n",
       "      <th>1</th>\n",
       "      <td>২০২১ সালে যারা \" কোথাও কেউ নেই \" দেখতে আসে - ত...</td>\n",
       "      <td>surprise</td>\n",
       "      <td>5</td>\n",
       "    </tr>\n",
       "    <tr>\n",
       "      <th>2</th>\n",
       "      <td>বাংলাদেশের ইতিহাসে সর্বশ্রেষ্ঠ নাটক \"কোথাও কেউ...</td>\n",
       "      <td>joy</td>\n",
       "      <td>3</td>\n",
       "    </tr>\n",
       "    <tr>\n",
       "      <th>3</th>\n",
       "      <td>এতো সুন্দর নাটক আগে কখনো দেখা হয় নাই,2021 সাল...</td>\n",
       "      <td>joy</td>\n",
       "      <td>3</td>\n",
       "    </tr>\n",
       "    <tr>\n",
       "      <th>4</th>\n",
       "      <td>কখনো চিন্তাও করিনি জন্মের ৭-৮ বছর আগের নাটক দে...</td>\n",
       "      <td>surprise</td>\n",
       "      <td>5</td>\n",
       "    </tr>\n",
       "    <tr>\n",
       "      <th>...</th>\n",
       "      <td>...</td>\n",
       "      <td>...</td>\n",
       "      <td>...</td>\n",
       "    </tr>\n",
       "    <tr>\n",
       "      <th>13431</th>\n",
       "      <td>Bravo বললে ছোট করা হবে ৷ সুতরাং হাজারো সালাম আ...</td>\n",
       "      <td>joy</td>\n",
       "      <td>3</td>\n",
       "    </tr>\n",
       "    <tr>\n",
       "      <th>13432</th>\n",
       "      <td>কি যে করেন না ম্যাজিস্ট্রেট স্যার? প্রথমটুক পড...</td>\n",
       "      <td>joy</td>\n",
       "      <td>3</td>\n",
       "    </tr>\n",
       "    <tr>\n",
       "      <th>13433</th>\n",
       "      <td>আপনারা এই সত্যের পথে অবিচল থাকুন দেশবাসী আপনাদ...</td>\n",
       "      <td>joy</td>\n",
       "      <td>3</td>\n",
       "    </tr>\n",
       "    <tr>\n",
       "      <th>13434</th>\n",
       "      <td>এগিয়ে যান। আপনাদের দিকেই তাকিয়ে বাংলাদেশ।</td>\n",
       "      <td>joy</td>\n",
       "      <td>3</td>\n",
       "    </tr>\n",
       "    <tr>\n",
       "      <th>13435</th>\n",
       "      <td>দুর্নীতি মুক্ত হলে নিশ্চয় চোরও মুক্ত হবে, বিশ...</td>\n",
       "      <td>joy</td>\n",
       "      <td>3</td>\n",
       "    </tr>\n",
       "  </tbody>\n",
       "</table>\n",
       "<p>13436 rows × 3 columns</p>\n",
       "</div>"
      ],
      "text/plain": [
       "                                                    text   classes  \\\n",
       "0      এই নাটকটি হচ্ছে ১৯৯৩ সালের। কিন্তু তখন ইউটিউব ...       joy   \n",
       "1      ২০২১ সালে যারা \" কোথাও কেউ নেই \" দেখতে আসে - ত...  surprise   \n",
       "2      বাংলাদেশের ইতিহাসে সর্বশ্রেষ্ঠ নাটক \"কোথাও কেউ...       joy   \n",
       "3      এতো সুন্দর নাটক আগে কখনো দেখা হয় নাই,2021 সাল...       joy   \n",
       "4      কখনো চিন্তাও করিনি জন্মের ৭-৮ বছর আগের নাটক দে...  surprise   \n",
       "...                                                  ...       ...   \n",
       "13431  Bravo বললে ছোট করা হবে ৷ সুতরাং হাজারো সালাম আ...       joy   \n",
       "13432  কি যে করেন না ম্যাজিস্ট্রেট স্যার? প্রথমটুক পড...       joy   \n",
       "13433  আপনারা এই সত্যের পথে অবিচল থাকুন দেশবাসী আপনাদ...       joy   \n",
       "13434        এগিয়ে যান। আপনাদের দিকেই তাকিয়ে বাংলাদেশ।       joy   \n",
       "13435  দুর্নীতি মুক্ত হলে নিশ্চয় চোরও মুক্ত হবে, বিশ...       joy   \n",
       "\n",
       "       classes_bin  \n",
       "0                3  \n",
       "1                5  \n",
       "2                3  \n",
       "3                3  \n",
       "4                5  \n",
       "...            ...  \n",
       "13431            3  \n",
       "13432            3  \n",
       "13433            3  \n",
       "13434            3  \n",
       "13435            3  \n",
       "\n",
       "[13436 rows x 3 columns]"
      ]
     },
     "execution_count": 16,
     "metadata": {},
     "output_type": "execute_result"
    }
   ],
   "source": [
    "df"
   ]
  },
  {
   "cell_type": "code",
   "execution_count": 17,
   "id": "23fbb740",
   "metadata": {},
   "outputs": [],
   "source": [
    "text = df['text'].values.tolist()"
   ]
  },
  {
   "cell_type": "code",
   "execution_count": 18,
   "id": "73914a34",
   "metadata": {},
   "outputs": [
    {
     "data": {
      "text/html": [
       "<div>\n",
       "<style scoped>\n",
       "    .dataframe tbody tr th:only-of-type {\n",
       "        vertical-align: middle;\n",
       "    }\n",
       "\n",
       "    .dataframe tbody tr th {\n",
       "        vertical-align: top;\n",
       "    }\n",
       "\n",
       "    .dataframe thead tr th {\n",
       "        text-align: left;\n",
       "    }\n",
       "\n",
       "    .dataframe thead tr:last-of-type th {\n",
       "        text-align: right;\n",
       "    }\n",
       "</style>\n",
       "<table border=\"1\" class=\"dataframe\">\n",
       "  <thead>\n",
       "    <tr>\n",
       "      <th></th>\n",
       "      <th colspan=\"8\" halign=\"left\">classes_bin</th>\n",
       "    </tr>\n",
       "    <tr>\n",
       "      <th></th>\n",
       "      <th>count</th>\n",
       "      <th>mean</th>\n",
       "      <th>std</th>\n",
       "      <th>min</th>\n",
       "      <th>25%</th>\n",
       "      <th>50%</th>\n",
       "      <th>75%</th>\n",
       "      <th>max</th>\n",
       "    </tr>\n",
       "    <tr>\n",
       "      <th>classes</th>\n",
       "      <th></th>\n",
       "      <th></th>\n",
       "      <th></th>\n",
       "      <th></th>\n",
       "      <th></th>\n",
       "      <th></th>\n",
       "      <th></th>\n",
       "      <th></th>\n",
       "    </tr>\n",
       "  </thead>\n",
       "  <tbody>\n",
       "    <tr>\n",
       "      <th>anger</th>\n",
       "      <td>2480.0</td>\n",
       "      <td>0.0</td>\n",
       "      <td>0.0</td>\n",
       "      <td>0.0</td>\n",
       "      <td>0.0</td>\n",
       "      <td>0.0</td>\n",
       "      <td>0.0</td>\n",
       "      <td>0.0</td>\n",
       "    </tr>\n",
       "    <tr>\n",
       "      <th>disgust</th>\n",
       "      <td>2079.0</td>\n",
       "      <td>1.0</td>\n",
       "      <td>0.0</td>\n",
       "      <td>1.0</td>\n",
       "      <td>1.0</td>\n",
       "      <td>1.0</td>\n",
       "      <td>1.0</td>\n",
       "      <td>1.0</td>\n",
       "    </tr>\n",
       "    <tr>\n",
       "      <th>fear</th>\n",
       "      <td>1361.0</td>\n",
       "      <td>2.0</td>\n",
       "      <td>0.0</td>\n",
       "      <td>2.0</td>\n",
       "      <td>2.0</td>\n",
       "      <td>2.0</td>\n",
       "      <td>2.0</td>\n",
       "      <td>2.0</td>\n",
       "    </tr>\n",
       "    <tr>\n",
       "      <th>joy</th>\n",
       "      <td>3467.0</td>\n",
       "      <td>3.0</td>\n",
       "      <td>0.0</td>\n",
       "      <td>3.0</td>\n",
       "      <td>3.0</td>\n",
       "      <td>3.0</td>\n",
       "      <td>3.0</td>\n",
       "      <td>3.0</td>\n",
       "    </tr>\n",
       "    <tr>\n",
       "      <th>sadness</th>\n",
       "      <td>2683.0</td>\n",
       "      <td>4.0</td>\n",
       "      <td>0.0</td>\n",
       "      <td>4.0</td>\n",
       "      <td>4.0</td>\n",
       "      <td>4.0</td>\n",
       "      <td>4.0</td>\n",
       "      <td>4.0</td>\n",
       "    </tr>\n",
       "    <tr>\n",
       "      <th>surprise</th>\n",
       "      <td>1366.0</td>\n",
       "      <td>5.0</td>\n",
       "      <td>0.0</td>\n",
       "      <td>5.0</td>\n",
       "      <td>5.0</td>\n",
       "      <td>5.0</td>\n",
       "      <td>5.0</td>\n",
       "      <td>5.0</td>\n",
       "    </tr>\n",
       "  </tbody>\n",
       "</table>\n",
       "</div>"
      ],
      "text/plain": [
       "         classes_bin                                   \n",
       "               count mean  std  min  25%  50%  75%  max\n",
       "classes                                                \n",
       "anger         2480.0  0.0  0.0  0.0  0.0  0.0  0.0  0.0\n",
       "disgust       2079.0  1.0  0.0  1.0  1.0  1.0  1.0  1.0\n",
       "fear          1361.0  2.0  0.0  2.0  2.0  2.0  2.0  2.0\n",
       "joy           3467.0  3.0  0.0  3.0  3.0  3.0  3.0  3.0\n",
       "sadness       2683.0  4.0  0.0  4.0  4.0  4.0  4.0  4.0\n",
       "surprise      1366.0  5.0  0.0  5.0  5.0  5.0  5.0  5.0"
      ]
     },
     "execution_count": 18,
     "metadata": {},
     "output_type": "execute_result"
    }
   ],
   "source": [
    "df.groupby(\"classes\").describe()"
   ]
  },
  {
   "cell_type": "code",
   "execution_count": 19,
   "id": "9367651b",
   "metadata": {},
   "outputs": [
    {
     "data": {
      "text/plain": [
       "joy         3467\n",
       "sadness     2683\n",
       "anger       2480\n",
       "disgust     2079\n",
       "surprise    1366\n",
       "fear        1361\n",
       "Name: classes, dtype: int64"
      ]
     },
     "execution_count": 19,
     "metadata": {},
     "output_type": "execute_result"
    }
   ],
   "source": [
    "df[\"classes\"].value_counts()"
   ]
  },
  {
   "cell_type": "code",
   "execution_count": 21,
   "id": "86985733",
   "metadata": {
    "scrolled": true
   },
   "outputs": [
    {
     "name": "stdout",
     "output_type": "stream",
     "text": [
      "3539\n"
     ]
    }
   ],
   "source": [
    "longest_string = max(df[\"text\"], key=len)\n",
    "print(len(longest_string))"
   ]
  },
  {
   "cell_type": "code",
   "execution_count": 22,
   "id": "b7ffc464",
   "metadata": {},
   "outputs": [],
   "source": [
    "text = df[\"text\"]"
   ]
  },
  {
   "cell_type": "code",
   "execution_count": 23,
   "id": "ec320938",
   "metadata": {
    "scrolled": true
   },
   "outputs": [
    {
     "data": {
      "text/plain": [
       "(13436, 4703)"
      ]
     },
     "execution_count": 23,
     "metadata": {},
     "output_type": "execute_result"
    }
   ],
   "source": [
    "train_counts = count_vect.fit_transform(text) # converting docs into vectors\n",
    "train_tfidf  = train_counts \n",
    "train_tfidf = tfidf_transformer.fit_transform(train_counts) # converting transformed vectors into tf-idf vectors\n",
    "train_tfidf.shape"
   ]
  },
  {
   "cell_type": "code",
   "execution_count": 24,
   "id": "b5ca4e4c",
   "metadata": {},
   "outputs": [],
   "source": [
    "from sklearn.model_selection import train_test_split"
   ]
  },
  {
   "cell_type": "code",
   "execution_count": 25,
   "id": "18282b5d",
   "metadata": {},
   "outputs": [],
   "source": [
    "X_train, X_test, y_train, y_test = train_test_split(train_tfidf, df['classes_bin'], test_size=0.2, random_state=42)\n",
    "\n",
    "Y_pre = df['classes']\n",
    "target_names = list(set(Y_pre))"
   ]
  },
  {
   "cell_type": "code",
   "execution_count": 26,
   "id": "8683a063",
   "metadata": {
    "scrolled": true
   },
   "outputs": [
    {
     "data": {
      "text/plain": [
       "['anger', 'joy', 'fear', 'surprise', 'sadness', 'disgust']"
      ]
     },
     "execution_count": 26,
     "metadata": {},
     "output_type": "execute_result"
    }
   ],
   "source": [
    "target_names"
   ]
  },
  {
   "cell_type": "code",
   "execution_count": 27,
   "id": "81f576ca",
   "metadata": {},
   "outputs": [
    {
     "data": {
      "text/plain": [
       "<10748x4703 sparse matrix of type '<class 'numpy.float64'>'\n",
       "\twith 104477 stored elements in Compressed Sparse Row format>"
      ]
     },
     "execution_count": 27,
     "metadata": {},
     "output_type": "execute_result"
    }
   ],
   "source": [
    "X_train"
   ]
  },
  {
   "cell_type": "code",
   "execution_count": 28,
   "id": "7317b086",
   "metadata": {},
   "outputs": [
    {
     "data": {
      "text/plain": [
       "1501     3\n",
       "11407    5\n",
       "2777     4\n",
       "10943    0\n",
       "8387     2\n",
       "        ..\n",
       "5191     2\n",
       "13418    3\n",
       "5390     4\n",
       "860      2\n",
       "7270     4\n",
       "Name: classes_bin, Length: 10748, dtype: int32"
      ]
     },
     "execution_count": 28,
     "metadata": {},
     "output_type": "execute_result"
    }
   ],
   "source": [
    "y_train"
   ]
  },
  {
   "cell_type": "code",
   "execution_count": 29,
   "id": "8d6fa472",
   "metadata": {},
   "outputs": [],
   "source": [
    "from sklearn.metrics import classification_report\n",
    "from sklearn.metrics import confusion_matrix, accuracy_score\n",
    "from sklearn.model_selection import RandomizedSearchCV "
   ]
  },
  {
   "cell_type": "code",
   "execution_count": 30,
   "id": "3bae7e2d",
   "metadata": {},
   "outputs": [],
   "source": [
    "import seaborn as sn"
   ]
  },
  {
   "cell_type": "markdown",
   "id": "7b679e21",
   "metadata": {},
   "source": [
    "# Naive Bayes"
   ]
  },
  {
   "cell_type": "code",
   "execution_count": 31,
   "id": "98e17d16",
   "metadata": {},
   "outputs": [],
   "source": [
    "from sklearn.naive_bayes import MultinomialNB"
   ]
  },
  {
   "cell_type": "code",
   "execution_count": 32,
   "id": "24f8b525",
   "metadata": {},
   "outputs": [
    {
     "name": "stdout",
     "output_type": "stream",
     "text": [
      "Test set accuracy 0.3820684523809524\n",
      "              precision    recall  f1-score   support\n",
      "\n",
      "       anger       0.41      0.29      0.34       491\n",
      "         joy       0.34      0.06      0.10       416\n",
      "        fear       0.77      0.20      0.32       275\n",
      "    surprise       0.38      0.84      0.53       674\n",
      "     sadness       0.32      0.43      0.37       541\n",
      "     disgust       0.83      0.03      0.07       291\n",
      "\n",
      "    accuracy                           0.38      2688\n",
      "   macro avg       0.51      0.31      0.29      2688\n",
      "weighted avg       0.46      0.38      0.32      2688\n",
      "\n"
     ]
    },
    {
     "data": {
      "image/png": "[encoded data removed]",
      "text/plain": [
       "<Figure size 2200x1200 with 2 Axes>"
      ]
     },
     "metadata": {},
     "output_type": "display_data"
    }
   ],
   "source": [
    "NBclassifer = MultinomialNB()\n",
    "NBclassifer.fit(X_train, y_train)\n",
    "y_pred = NBclassifer.predict(X_test)\n",
    "print('Test set accuracy %s' % accuracy_score(y_test, y_pred))\n",
    "cr = classification_report(y_test, y_pred, target_names=target_names)\n",
    "print(cr)\n",
    "\n",
    "\n",
    "# ------------------------------------------------------------------------------ #\n",
    "\n",
    "cm = confusion_matrix(y_test, y_pred)\n",
    "cm = (cm.T / cm.astype(float).sum(axis=1)).T\n",
    "\n",
    "df_cm = pd.DataFrame(cm, range(len(target_names)), range(len(target_names)))\n",
    "with sn.axes_style(\"white\"):\n",
    "    plt.figure(figsize = (22,12))\n",
    "    ax = sn.heatmap(df_cm, annot=True, xticklabels=target_names, yticklabels=target_names, vmax=1,  cmap=sn.cubehelix_palette(10))\n",
    "    ax.set_xticklabels(ax.get_xticklabels(), rotation=0)\n",
    "    fig = ax.get_figure()\n",
    "  "
   ]
  },
  {
   "cell_type": "code",
   "execution_count": 33,
   "id": "120c7e82",
   "metadata": {},
   "outputs": [
    {
     "data": {
      "text/plain": [
       "{'alpha': 1.0, 'class_prior': None, 'fit_prior': True, 'force_alpha': 'warn'}"
      ]
     },
     "execution_count": 33,
     "metadata": {},
     "output_type": "execute_result"
    }
   ],
   "source": [
    "NBclassifer.get_params()"
   ]
  },
  {
   "cell_type": "markdown",
   "id": "1592de01",
   "metadata": {},
   "source": [
    "# Support Vector Machine"
   ]
  },
  {
   "cell_type": "code",
   "execution_count": 34,
   "id": "6a026e16",
   "metadata": {},
   "outputs": [],
   "source": [
    "from sklearn.svm import SVC\n"
   ]
  },
  {
   "cell_type": "code",
   "execution_count": 35,
   "id": "8f2f823e",
   "metadata": {},
   "outputs": [
    {
     "name": "stdout",
     "output_type": "stream",
     "text": [
      "Test set accuracy 0.44568452380952384\n",
      "              precision    recall  f1-score   support\n",
      "\n",
      "       anger       0.35      0.41      0.38       491\n",
      "         joy       0.32      0.21      0.25       416\n",
      "        fear       0.74      0.43      0.54       275\n",
      "    surprise       0.53      0.72      0.61       674\n",
      "     sadness       0.36      0.47      0.41       541\n",
      "     disgust       0.63      0.20      0.30       291\n",
      "\n",
      "    accuracy                           0.45      2688\n",
      "   macro avg       0.49      0.40      0.42      2688\n",
      "weighted avg       0.47      0.45      0.43      2688\n",
      "\n"
     ]
    },
    {
     "data": {
      "image/png": "[encoded data removed]",
      "text/plain": [
       "<Figure size 2200x1200 with 2 Axes>"
      ]
     },
     "metadata": {},
     "output_type": "display_data"
    }
   ],
   "source": [
    "SVMclassifer = SVC()\n",
    "SVMclassifer.fit(X_train, y_train)\n",
    "y_pred = SVMclassifer.predict(X_test)\n",
    "print('Test set accuracy %s' % accuracy_score(y_test, y_pred))\n",
    "cr = classification_report(y_test, y_pred, target_names=target_names)\n",
    "print(cr)\n",
    "\n",
    "# ------------------------------------------------------------------------------ #\n",
    "\n",
    "cm = confusion_matrix(y_test, y_pred)\n",
    "cm = (cm.T / cm.astype(float).sum(axis=1)).T\n",
    "\n",
    "df_cm = pd.DataFrame(cm, range(len(target_names)), range(len(target_names)))\n",
    "with sn.axes_style(\"white\"):\n",
    "    plt.figure(figsize = (22,12))\n",
    "    ax = sn.heatmap(df_cm, annot=True, xticklabels=target_names, yticklabels=target_names, vmax=1,  cmap=sn.cubehelix_palette(10))\n",
    "    ax.set_xticklabels(ax.get_xticklabels(), rotation=0)\n",
    "    fig = ax.get_figure()"
   ]
  },
  {
   "cell_type": "markdown",
   "id": "d7b24d1f",
   "metadata": {},
   "source": [
    "# XGBoost"
   ]
  },
  {
   "cell_type": "code",
   "execution_count": 36,
   "id": "59d93989",
   "metadata": {
    "scrolled": true
   },
   "outputs": [],
   "source": [
    "from xgboost import XGBClassifier"
   ]
  },
  {
   "cell_type": "code",
   "execution_count": 37,
   "id": "d24f497a",
   "metadata": {},
   "outputs": [
    {
     "name": "stdout",
     "output_type": "stream",
     "text": [
      "Test set accuracy 0.41555059523809523\n",
      "              precision    recall  f1-score   support\n",
      "\n",
      "       anger       0.35      0.39      0.37       491\n",
      "         joy       0.28      0.17      0.21       416\n",
      "        fear       0.63      0.46      0.53       275\n",
      "    surprise       0.48      0.70      0.57       674\n",
      "     sadness       0.34      0.35      0.35       541\n",
      "     disgust       0.55      0.22      0.32       291\n",
      "\n",
      "    accuracy                           0.42      2688\n",
      "   macro avg       0.44      0.38      0.39      2688\n",
      "weighted avg       0.42      0.42      0.40      2688\n",
      "\n"
     ]
    },
    {
     "data": {
      "image/png": "[encoded data removed]",
      "text/plain": [
       "<Figure size 2200x1200 with 2 Axes>"
      ]
     },
     "metadata": {},
     "output_type": "display_data"
    }
   ],
   "source": [
    "XGBclassifer = XGBClassifier()\n",
    "XGBclassifer.fit(X_train, y_train)\n",
    "y_pred = XGBclassifer.predict(X_test)\n",
    "print('Test set accuracy %s' % accuracy_score(y_test, y_pred))\n",
    "cr = classification_report(y_test, y_pred, target_names=target_names)\n",
    "print(cr)\n",
    "\n",
    "# ------------------------------------------------------------------------------ #\n",
    "\n",
    "cm = confusion_matrix(y_test, y_pred)\n",
    "cm = (cm.T / cm.astype(float).sum(axis=1)).T\n",
    "\n",
    "df_cm = pd.DataFrame(cm, range(len(target_names)), range(len(target_names)))\n",
    "with sn.axes_style(\"white\"):\n",
    "    plt.figure(figsize = (22,12))\n",
    "    ax = sn.heatmap(df_cm, annot=True, xticklabels=target_names, yticklabels=target_names, vmax=1,  cmap=sn.cubehelix_palette(10))\n",
    "    ax.set_xticklabels(ax.get_xticklabels(), rotation=0)\n",
    "    fig = ax.get_figure()\n"
   ]
  },
  {
   "cell_type": "markdown",
   "id": "a70e68cd",
   "metadata": {},
   "source": [
    "# Random Forest"
   ]
  },
  {
   "cell_type": "code",
   "execution_count": 38,
   "id": "c1d9399d",
   "metadata": {},
   "outputs": [],
   "source": [
    "from sklearn.ensemble import RandomForestClassifier"
   ]
  },
  {
   "cell_type": "code",
   "execution_count": 39,
   "id": "91d06868",
   "metadata": {},
   "outputs": [
    {
     "name": "stdout",
     "output_type": "stream",
     "text": [
      "Test set accuracy 0.42745535714285715\n",
      "              precision    recall  f1-score   support\n",
      "\n",
      "       anger       0.35      0.38      0.36       491\n",
      "         joy       0.30      0.16      0.21       416\n",
      "        fear       0.68      0.44      0.53       275\n",
      "    surprise       0.47      0.72      0.57       674\n",
      "     sadness       0.37      0.42      0.40       541\n",
      "     disgust       0.57      0.21      0.31       291\n",
      "\n",
      "    accuracy                           0.43      2688\n",
      "   macro avg       0.46      0.39      0.40      2688\n",
      "weighted avg       0.43      0.43      0.41      2688\n",
      "\n"
     ]
    },
    {
     "data": {
      "image/png": "[encoded data removed]",
      "text/plain": [
       "<Figure size 2200x1200 with 2 Axes>"
      ]
     },
     "metadata": {},
     "output_type": "display_data"
    }
   ],
   "source": [
    "RFclassifer = RandomForestClassifier()\n",
    "shapas = RFclassifer.fit(X_train, y_train)\n",
    "y_pred = RFclassifer.predict(X_test)\n",
    "print('Test set accuracy %s' % accuracy_score(y_test, y_pred))\n",
    "cr = classification_report(y_test, y_pred, target_names=target_names)\n",
    "print(cr)\n",
    "\n",
    "# ------------------------------------------------------------------------------ #\n",
    "\n",
    "cm = confusion_matrix(y_test, y_pred)\n",
    "cm = (cm.T / cm.astype(float).sum(axis=1)).T\n",
    "\n",
    "df_cm = pd.DataFrame(cm, range(len(target_names)), range(len(target_names)))\n",
    "with sn.axes_style(\"white\"):\n",
    "    plt.figure(figsize = (22,12))\n",
    "    ax = sn.heatmap(df_cm, annot=True, xticklabels=target_names, yticklabels=target_names, vmax=1,  cmap=sn.cubehelix_palette(10))\n",
    "    ax.set_xticklabels(ax.get_xticklabels(), rotation=0)\n",
    "    fig = ax.get_figure()\n",
    "  "
   ]
  },
  {
   "cell_type": "code",
   "execution_count": null,
   "id": "68d54c11",
   "metadata": {},
   "outputs": [],
   "source": []
  }
 ],
 "metadata": {
  "kernelspec": {
   "display_name": "Python 3 (ipykernel)",
   "language": "python",
   "name": "python3"
  },
  "language_info": {
   "codemirror_mode": {
    "name": "ipython",
    "version": 3
   },
   "file_extension": ".py",
   "mimetype": "text/x-python",
   "name": "python",
   "nbconvert_exporter": "python",
   "pygments_lexer": "ipython3",
   "version": "3.9.17"
  }
 },
 "nbformat": 4,
 "nbformat_minor": 5
}
