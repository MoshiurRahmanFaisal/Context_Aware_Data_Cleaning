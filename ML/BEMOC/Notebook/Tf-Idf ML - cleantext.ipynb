{
 "cells": [
  {
   "cell_type": "code",
   "execution_count": 1,
   "id": "0356e1cf",
   "metadata": {},
   "outputs": [],
   "source": [
    "import pandas as pd\n",
    "import numpy as np\n",
    "from matplotlib import pyplot as plt\n",
    "import seaborn as sns\n",
    "import math\n",
    "from bnlp import NLTKTokenizer\n",
    "from sklearn.feature_extraction.text import TfidfVectorizer"
   ]
  },
  {
   "cell_type": "code",
   "execution_count": 2,
   "id": "7b6a9335",
   "metadata": {},
   "outputs": [],
   "source": [
    "df = pd.read_excel('F:/Context_Aware_Data_Cleaning_Deep/BEMOC/Dataset/BEmoC7k.xlsx')"
   ]
  },
  {
   "cell_type": "code",
   "execution_count": 3,
   "id": "136eda95",
   "metadata": {},
   "outputs": [
    {
     "data": {
      "text/plain": [
       "<bound method NDFrame.head of                                                    TEXT  classes\n",
       "0                              নাইমা কি করবেন আমরা জানি  sadness\n",
       "1                          ভাই সব আপনাদের খুব ভাল লাগছে      joy\n",
       "2     গাঞ্জা খাইয়া নিউজ শেয়ার করছে দিগন্ত  বয়কটে ...    anger\n",
       "3     অনেক ধন্যবাদ স্যার যশোরে ইত্যাদি অনুষ্ঠান করার...      joy\n",
       "4         বর্তমানে মুসলমান মারে যে জন সে জন হয়েছে ঈশ্বর  disgust\n",
       "...                                                 ...      ...\n",
       "6995  হে আল্লাহ আপনি আমাদের দেশের প্রতি সহায়ক হন   ...  sadness\n",
       "6996  ঈদ ছারাও যুদি বাংলাদেশ ঈদের খুশির অামেজ পান তব...      joy\n",
       "6997  বছরের সবচেয়ে সেরা ভিডিও দেখেছি  আমাদের দেশের স...      joy\n",
       "6998   কিরে মিথ্যা কথা কস কেন গতদিন আমি আর আসিফ আসছি...    anger\n",
       "6999  \\nভাইরেভাই বেস্ট এইটা বেস্ট\\nএইরকম পারফেক্ট গল...      joy\n",
       "\n",
       "[7000 rows x 2 columns]>"
      ]
     },
     "execution_count": 3,
     "metadata": {},
     "output_type": "execute_result"
    }
   ],
   "source": [
    "df.head"
   ]
  },
  {
   "cell_type": "code",
   "execution_count": 4,
   "id": "caecabfd",
   "metadata": {},
   "outputs": [
    {
     "data": {
      "text/html": [
       "<div>\n",
       "<style scoped>\n",
       "    .dataframe tbody tr th:only-of-type {\n",
       "        vertical-align: middle;\n",
       "    }\n",
       "\n",
       "    .dataframe tbody tr th {\n",
       "        vertical-align: top;\n",
       "    }\n",
       "\n",
       "    .dataframe thead tr th {\n",
       "        text-align: left;\n",
       "    }\n",
       "\n",
       "    .dataframe thead tr:last-of-type th {\n",
       "        text-align: right;\n",
       "    }\n",
       "</style>\n",
       "<table border=\"1\" class=\"dataframe\">\n",
       "  <thead>\n",
       "    <tr>\n",
       "      <th></th>\n",
       "      <th colspan=\"4\" halign=\"left\">TEXT</th>\n",
       "    </tr>\n",
       "    <tr>\n",
       "      <th></th>\n",
       "      <th>count</th>\n",
       "      <th>unique</th>\n",
       "      <th>top</th>\n",
       "      <th>freq</th>\n",
       "    </tr>\n",
       "    <tr>\n",
       "      <th>classes</th>\n",
       "      <th></th>\n",
       "      <th></th>\n",
       "      <th></th>\n",
       "      <th></th>\n",
       "    </tr>\n",
       "  </thead>\n",
       "  <tbody>\n",
       "    <tr>\n",
       "      <th>anger</th>\n",
       "      <td>1052</td>\n",
       "      <td>1037</td>\n",
       "      <td>একদিন এই বেইলি রোডে কতো ভিজেছি রিক্সায়  আজ তু...</td>\n",
       "      <td>2</td>\n",
       "    </tr>\n",
       "    <tr>\n",
       "      <th>disgust</th>\n",
       "      <td>1356</td>\n",
       "      <td>1334</td>\n",
       "      <td>মানুষ অন্যকে উপদেশ দেয়  টা কারণে \\n   সে ওই মা...</td>\n",
       "      <td>2</td>\n",
       "    </tr>\n",
       "    <tr>\n",
       "      <th>fear</th>\n",
       "      <td>962</td>\n",
       "      <td>951</td>\n",
       "      <td>বাইরে কেমন যেন একটা খসখস শব্দ হচ্ছে  তার মনে হ...</td>\n",
       "      <td>2</td>\n",
       "    </tr>\n",
       "    <tr>\n",
       "      <th>joy</th>\n",
       "      <td>1524</td>\n",
       "      <td>1453</td>\n",
       "      <td>বেসামরিক বিমান পরিবহন ও পর্যটন প্রতিমন্ত্রী মা...</td>\n",
       "      <td>4</td>\n",
       "    </tr>\n",
       "    <tr>\n",
       "      <th>sadness</th>\n",
       "      <td>1327</td>\n",
       "      <td>1303</td>\n",
       "      <td>সবাই তোমাকে কষ্ট দিবে  তোমাকে শুধু এমন একজন কে...</td>\n",
       "      <td>2</td>\n",
       "    </tr>\n",
       "    <tr>\n",
       "      <th>surprise</th>\n",
       "      <td>779</td>\n",
       "      <td>759</td>\n",
       "      <td>কিছুক্ষণ আগে লক্ষ্য করলাম  কিছু মানুষ বাঙলাদেশ...</td>\n",
       "      <td>4</td>\n",
       "    </tr>\n",
       "  </tbody>\n",
       "</table>\n",
       "</div>"
      ],
      "text/plain": [
       "          TEXT                                                               \n",
       "         count unique                                                top freq\n",
       "classes                                                                      \n",
       "anger     1052   1037  একদিন এই বেইলি রোডে কতো ভিজেছি রিক্সায়  আজ তু...    2\n",
       "disgust   1356   1334  মানুষ অন্যকে উপদেশ দেয়  টা কারণে \\n   সে ওই মা...    2\n",
       "fear       962    951  বাইরে কেমন যেন একটা খসখস শব্দ হচ্ছে  তার মনে হ...    2\n",
       "joy       1524   1453  বেসামরিক বিমান পরিবহন ও পর্যটন প্রতিমন্ত্রী মা...    4\n",
       "sadness   1327   1303  সবাই তোমাকে কষ্ট দিবে  তোমাকে শুধু এমন একজন কে...    2\n",
       "surprise   779    759  কিছুক্ষণ আগে লক্ষ্য করলাম  কিছু মানুষ বাঙলাদেশ...    4"
      ]
     },
     "execution_count": 4,
     "metadata": {},
     "output_type": "execute_result"
    }
   ],
   "source": [
    "df.groupby(\"classes\").describe()"
   ]
  },
  {
   "cell_type": "code",
   "execution_count": 5,
   "id": "6ca6a7fe",
   "metadata": {},
   "outputs": [],
   "source": [
    "from sklearn.feature_extraction.text import CountVectorizer\n",
    "from sklearn.feature_extraction.text import TfidfTransformer\n",
    "from sklearn.preprocessing import LabelBinarizer"
   ]
  },
  {
   "cell_type": "code",
   "execution_count": 6,
   "id": "80dc5abe",
   "metadata": {
    "scrolled": true
   },
   "outputs": [],
   "source": [
    "count_vect = CountVectorizer() # for converting text into count-based vectors\n",
    "tfidf_transformer = TfidfTransformer() # for converting text into tf-idf-based vectors\n",
    "lb = LabelBinarizer() # object for making class-labels into binary numbers"
   ]
  },
  {
   "cell_type": "code",
   "execution_count": 7,
   "id": "9bc17df6",
   "metadata": {},
   "outputs": [
    {
     "data": {
      "text/plain": [
       "Index(['TEXT', 'classes'], dtype='object')"
      ]
     },
     "execution_count": 7,
     "metadata": {},
     "output_type": "execute_result"
    }
   ],
   "source": [
    "df.columns"
   ]
  },
  {
   "cell_type": "code",
   "execution_count": 8,
   "id": "a710a6cb",
   "metadata": {
    "scrolled": true
   },
   "outputs": [
    {
     "data": {
      "text/plain": [
       "<bound method NDFrame.head of                                                    TEXT  classes\n",
       "0                              নাইমা কি করবেন আমরা জানি  sadness\n",
       "1                          ভাই সব আপনাদের খুব ভাল লাগছে      joy\n",
       "2     গাঞ্জা খাইয়া নিউজ শেয়ার করছে দিগন্ত  বয়কটে ...    anger\n",
       "3     অনেক ধন্যবাদ স্যার যশোরে ইত্যাদি অনুষ্ঠান করার...      joy\n",
       "4         বর্তমানে মুসলমান মারে যে জন সে জন হয়েছে ঈশ্বর  disgust\n",
       "...                                                 ...      ...\n",
       "6995  হে আল্লাহ আপনি আমাদের দেশের প্রতি সহায়ক হন   ...  sadness\n",
       "6996  ঈদ ছারাও যুদি বাংলাদেশ ঈদের খুশির অামেজ পান তব...      joy\n",
       "6997  বছরের সবচেয়ে সেরা ভিডিও দেখেছি  আমাদের দেশের স...      joy\n",
       "6998   কিরে মিথ্যা কথা কস কেন গতদিন আমি আর আসিফ আসছি...    anger\n",
       "6999  \\nভাইরেভাই বেস্ট এইটা বেস্ট\\nএইরকম পারফেক্ট গল...      joy\n",
       "\n",
       "[7000 rows x 2 columns]>"
      ]
     },
     "execution_count": 8,
     "metadata": {},
     "output_type": "execute_result"
    }
   ],
   "source": [
    "df.head"
   ]
  },
  {
   "cell_type": "code",
   "execution_count": 9,
   "id": "87cc91ca",
   "metadata": {},
   "outputs": [],
   "source": [
    "from bnlp import CleanText\n",
    "\n",
    "clean_text = CleanText(\n",
    "   fix_unicode=True,\n",
    "   unicode_norm=True,\n",
    "   unicode_norm_form=\"NFKC\",\n",
    "   remove_url=True,\n",
    "   remove_email=True,\n",
    "   remove_emoji=False,\n",
    "   remove_number=False,\n",
    "   remove_digits=False,\n",
    "   remove_punct=False,\n",
    "   replace_with_url=\"<URL>\",\n",
    "   replace_with_email=\"<EMAIL>\",\n",
    "   replace_with_number=\"<NUMBER>\",\n",
    "   replace_with_digit=\"<DIGIT>\",\n",
    "   replace_with_punct = \"<PUNC>\"\n",
    ")"
   ]
  },
  {
   "cell_type": "code",
   "execution_count": 10,
   "id": "469c8d59",
   "metadata": {},
   "outputs": [],
   "source": [
    "df['TEXT'] = df['TEXT'].apply(clean_text)"
   ]
  },
  {
   "cell_type": "code",
   "execution_count": 11,
   "id": "c5a2b583",
   "metadata": {},
   "outputs": [
    {
     "data": {
      "text/html": [
       "<div>\n",
       "<style scoped>\n",
       "    .dataframe tbody tr th:only-of-type {\n",
       "        vertical-align: middle;\n",
       "    }\n",
       "\n",
       "    .dataframe tbody tr th {\n",
       "        vertical-align: top;\n",
       "    }\n",
       "\n",
       "    .dataframe thead th {\n",
       "        text-align: right;\n",
       "    }\n",
       "</style>\n",
       "<table border=\"1\" class=\"dataframe\">\n",
       "  <thead>\n",
       "    <tr style=\"text-align: right;\">\n",
       "      <th></th>\n",
       "      <th>classes_bin</th>\n",
       "      <th>classes</th>\n",
       "    </tr>\n",
       "  </thead>\n",
       "  <tbody>\n",
       "    <tr>\n",
       "      <th>0</th>\n",
       "      <td>4</td>\n",
       "      <td>sadness</td>\n",
       "    </tr>\n",
       "    <tr>\n",
       "      <th>1</th>\n",
       "      <td>3</td>\n",
       "      <td>joy</td>\n",
       "    </tr>\n",
       "    <tr>\n",
       "      <th>2</th>\n",
       "      <td>0</td>\n",
       "      <td>anger</td>\n",
       "    </tr>\n",
       "    <tr>\n",
       "      <th>3</th>\n",
       "      <td>3</td>\n",
       "      <td>joy</td>\n",
       "    </tr>\n",
       "    <tr>\n",
       "      <th>4</th>\n",
       "      <td>1</td>\n",
       "      <td>disgust</td>\n",
       "    </tr>\n",
       "    <tr>\n",
       "      <th>5</th>\n",
       "      <td>0</td>\n",
       "      <td>anger</td>\n",
       "    </tr>\n",
       "    <tr>\n",
       "      <th>6</th>\n",
       "      <td>3</td>\n",
       "      <td>joy</td>\n",
       "    </tr>\n",
       "    <tr>\n",
       "      <th>7</th>\n",
       "      <td>1</td>\n",
       "      <td>disgust</td>\n",
       "    </tr>\n",
       "    <tr>\n",
       "      <th>8</th>\n",
       "      <td>1</td>\n",
       "      <td>disgust</td>\n",
       "    </tr>\n",
       "    <tr>\n",
       "      <th>9</th>\n",
       "      <td>3</td>\n",
       "      <td>joy</td>\n",
       "    </tr>\n",
       "    <tr>\n",
       "      <th>10</th>\n",
       "      <td>1</td>\n",
       "      <td>disgust</td>\n",
       "    </tr>\n",
       "  </tbody>\n",
       "</table>\n",
       "</div>"
      ],
      "text/plain": [
       "    classes_bin  classes\n",
       "0             4  sadness\n",
       "1             3      joy\n",
       "2             0    anger\n",
       "3             3      joy\n",
       "4             1  disgust\n",
       "5             0    anger\n",
       "6             3      joy\n",
       "7             1  disgust\n",
       "8             1  disgust\n",
       "9             3      joy\n",
       "10            1  disgust"
      ]
     },
     "execution_count": 11,
     "metadata": {},
     "output_type": "execute_result"
    }
   ],
   "source": [
    "from sklearn.preprocessing import LabelEncoder\n",
    "\n",
    "lb_make = LabelEncoder()\n",
    "df[\"classes_bin\"] = lb_make.fit_transform(df[\"classes\"])\n",
    "df[[\"classes_bin\", \"classes\"]].head(11)"
   ]
  },
  {
   "cell_type": "code",
   "execution_count": 12,
   "id": "fffdfff2",
   "metadata": {},
   "outputs": [
    {
     "data": {
      "text/html": [
       "<div>\n",
       "<style scoped>\n",
       "    .dataframe tbody tr th:only-of-type {\n",
       "        vertical-align: middle;\n",
       "    }\n",
       "\n",
       "    .dataframe tbody tr th {\n",
       "        vertical-align: top;\n",
       "    }\n",
       "\n",
       "    .dataframe thead th {\n",
       "        text-align: right;\n",
       "    }\n",
       "</style>\n",
       "<table border=\"1\" class=\"dataframe\">\n",
       "  <thead>\n",
       "    <tr style=\"text-align: right;\">\n",
       "      <th></th>\n",
       "      <th>TEXT</th>\n",
       "      <th>classes</th>\n",
       "      <th>classes_bin</th>\n",
       "    </tr>\n",
       "  </thead>\n",
       "  <tbody>\n",
       "    <tr>\n",
       "      <th>0</th>\n",
       "      <td>নাইমা কি করবেন আমরা জানি</td>\n",
       "      <td>sadness</td>\n",
       "      <td>4</td>\n",
       "    </tr>\n",
       "    <tr>\n",
       "      <th>1</th>\n",
       "      <td>ভাই সব আপনাদের খুব ভাল লাগছে</td>\n",
       "      <td>joy</td>\n",
       "      <td>3</td>\n",
       "    </tr>\n",
       "    <tr>\n",
       "      <th>2</th>\n",
       "      <td>গাঞ্জা খাইয়া নিউজ শেয়ার করছে দিগন্ত  বয়কটে ...</td>\n",
       "      <td>anger</td>\n",
       "      <td>0</td>\n",
       "    </tr>\n",
       "    <tr>\n",
       "      <th>3</th>\n",
       "      <td>অনেক ধন্যবাদ স্যার যশোরে ইত্যাদি অনুষ্ঠান করার...</td>\n",
       "      <td>joy</td>\n",
       "      <td>3</td>\n",
       "    </tr>\n",
       "    <tr>\n",
       "      <th>4</th>\n",
       "      <td>বর্তমানে মুসলমান মারে যে জন সে জন হয়েছে ঈশ্বর</td>\n",
       "      <td>disgust</td>\n",
       "      <td>1</td>\n",
       "    </tr>\n",
       "    <tr>\n",
       "      <th>...</th>\n",
       "      <td>...</td>\n",
       "      <td>...</td>\n",
       "      <td>...</td>\n",
       "    </tr>\n",
       "    <tr>\n",
       "      <th>6995</th>\n",
       "      <td>হে আল্লাহ আপনি আমাদের দেশের প্রতি সহায়ক হন   ...</td>\n",
       "      <td>sadness</td>\n",
       "      <td>4</td>\n",
       "    </tr>\n",
       "    <tr>\n",
       "      <th>6996</th>\n",
       "      <td>ঈদ ছারাও যুদি বাংলাদেশ ঈদের খুশির অামেজ পান তব...</td>\n",
       "      <td>joy</td>\n",
       "      <td>3</td>\n",
       "    </tr>\n",
       "    <tr>\n",
       "      <th>6997</th>\n",
       "      <td>বছরের সবচেয়ে সেরা ভিডিও দেখেছি  আমাদের দেশের ...</td>\n",
       "      <td>joy</td>\n",
       "      <td>3</td>\n",
       "    </tr>\n",
       "    <tr>\n",
       "      <th>6998</th>\n",
       "      <td>কিরে মিথ্যা কথা কস কেন গতদিন আমি আর আসিফ আসছি...</td>\n",
       "      <td>anger</td>\n",
       "      <td>0</td>\n",
       "    </tr>\n",
       "    <tr>\n",
       "      <th>6999</th>\n",
       "      <td>\\nভাইরেভাই বেস্ট এইটা বেস্ট\\nএইরকম পারফেক্ট গল...</td>\n",
       "      <td>joy</td>\n",
       "      <td>3</td>\n",
       "    </tr>\n",
       "  </tbody>\n",
       "</table>\n",
       "<p>7000 rows × 3 columns</p>\n",
       "</div>"
      ],
      "text/plain": [
       "                                                   TEXT  classes  classes_bin\n",
       "0                              নাইমা কি করবেন আমরা জানি  sadness            4\n",
       "1                          ভাই সব আপনাদের খুব ভাল লাগছে      joy            3\n",
       "2     গাঞ্জা খাইয়া নিউজ শেয়ার করছে দিগন্ত  বয়কটে ...    anger            0\n",
       "3     অনেক ধন্যবাদ স্যার যশোরে ইত্যাদি অনুষ্ঠান করার...      joy            3\n",
       "4        বর্তমানে মুসলমান মারে যে জন সে জন হয়েছে ঈশ্বর  disgust            1\n",
       "...                                                 ...      ...          ...\n",
       "6995  হে আল্লাহ আপনি আমাদের দেশের প্রতি সহায়ক হন   ...  sadness            4\n",
       "6996  ঈদ ছারাও যুদি বাংলাদেশ ঈদের খুশির অামেজ পান তব...      joy            3\n",
       "6997  বছরের সবচেয়ে সেরা ভিডিও দেখেছি  আমাদের দেশের ...      joy            3\n",
       "6998   কিরে মিথ্যা কথা কস কেন গতদিন আমি আর আসিফ আসছি...    anger            0\n",
       "6999  \\nভাইরেভাই বেস্ট এইটা বেস্ট\\nএইরকম পারফেক্ট গল...      joy            3\n",
       "\n",
       "[7000 rows x 3 columns]"
      ]
     },
     "execution_count": 12,
     "metadata": {},
     "output_type": "execute_result"
    }
   ],
   "source": [
    "df"
   ]
  },
  {
   "cell_type": "code",
   "execution_count": 13,
   "id": "12f3da68",
   "metadata": {
    "scrolled": true
   },
   "outputs": [
    {
     "data": {
      "text/html": [
       "<div>\n",
       "<style scoped>\n",
       "    .dataframe tbody tr th:only-of-type {\n",
       "        vertical-align: middle;\n",
       "    }\n",
       "\n",
       "    .dataframe tbody tr th {\n",
       "        vertical-align: top;\n",
       "    }\n",
       "\n",
       "    .dataframe thead th {\n",
       "        text-align: right;\n",
       "    }\n",
       "</style>\n",
       "<table border=\"1\" class=\"dataframe\">\n",
       "  <thead>\n",
       "    <tr style=\"text-align: right;\">\n",
       "      <th></th>\n",
       "      <th>TEXT</th>\n",
       "      <th>classes</th>\n",
       "      <th>classes_bin</th>\n",
       "    </tr>\n",
       "  </thead>\n",
       "  <tbody>\n",
       "    <tr>\n",
       "      <th>0</th>\n",
       "      <td>False</td>\n",
       "      <td>False</td>\n",
       "      <td>False</td>\n",
       "    </tr>\n",
       "    <tr>\n",
       "      <th>1</th>\n",
       "      <td>False</td>\n",
       "      <td>False</td>\n",
       "      <td>False</td>\n",
       "    </tr>\n",
       "    <tr>\n",
       "      <th>2</th>\n",
       "      <td>False</td>\n",
       "      <td>False</td>\n",
       "      <td>False</td>\n",
       "    </tr>\n",
       "    <tr>\n",
       "      <th>3</th>\n",
       "      <td>False</td>\n",
       "      <td>False</td>\n",
       "      <td>False</td>\n",
       "    </tr>\n",
       "    <tr>\n",
       "      <th>4</th>\n",
       "      <td>False</td>\n",
       "      <td>False</td>\n",
       "      <td>False</td>\n",
       "    </tr>\n",
       "    <tr>\n",
       "      <th>...</th>\n",
       "      <td>...</td>\n",
       "      <td>...</td>\n",
       "      <td>...</td>\n",
       "    </tr>\n",
       "    <tr>\n",
       "      <th>6995</th>\n",
       "      <td>False</td>\n",
       "      <td>False</td>\n",
       "      <td>False</td>\n",
       "    </tr>\n",
       "    <tr>\n",
       "      <th>6996</th>\n",
       "      <td>False</td>\n",
       "      <td>False</td>\n",
       "      <td>False</td>\n",
       "    </tr>\n",
       "    <tr>\n",
       "      <th>6997</th>\n",
       "      <td>False</td>\n",
       "      <td>False</td>\n",
       "      <td>False</td>\n",
       "    </tr>\n",
       "    <tr>\n",
       "      <th>6998</th>\n",
       "      <td>False</td>\n",
       "      <td>False</td>\n",
       "      <td>False</td>\n",
       "    </tr>\n",
       "    <tr>\n",
       "      <th>6999</th>\n",
       "      <td>False</td>\n",
       "      <td>False</td>\n",
       "      <td>False</td>\n",
       "    </tr>\n",
       "  </tbody>\n",
       "</table>\n",
       "<p>7000 rows × 3 columns</p>\n",
       "</div>"
      ],
      "text/plain": [
       "       TEXT  classes  classes_bin\n",
       "0     False    False        False\n",
       "1     False    False        False\n",
       "2     False    False        False\n",
       "3     False    False        False\n",
       "4     False    False        False\n",
       "...     ...      ...          ...\n",
       "6995  False    False        False\n",
       "6996  False    False        False\n",
       "6997  False    False        False\n",
       "6998  False    False        False\n",
       "6999  False    False        False\n",
       "\n",
       "[7000 rows x 3 columns]"
      ]
     },
     "execution_count": 13,
     "metadata": {},
     "output_type": "execute_result"
    }
   ],
   "source": [
    "df.isnull()"
   ]
  },
  {
   "cell_type": "code",
   "execution_count": 14,
   "id": "6416bc9d",
   "metadata": {},
   "outputs": [],
   "source": [
    "df.dropna(inplace=True)"
   ]
  },
  {
   "cell_type": "code",
   "execution_count": 15,
   "id": "9fc7e0ac",
   "metadata": {},
   "outputs": [
    {
     "data": {
      "text/html": [
       "<div>\n",
       "<style scoped>\n",
       "    .dataframe tbody tr th:only-of-type {\n",
       "        vertical-align: middle;\n",
       "    }\n",
       "\n",
       "    .dataframe tbody tr th {\n",
       "        vertical-align: top;\n",
       "    }\n",
       "\n",
       "    .dataframe thead th {\n",
       "        text-align: right;\n",
       "    }\n",
       "</style>\n",
       "<table border=\"1\" class=\"dataframe\">\n",
       "  <thead>\n",
       "    <tr style=\"text-align: right;\">\n",
       "      <th></th>\n",
       "      <th>TEXT</th>\n",
       "      <th>classes</th>\n",
       "      <th>classes_bin</th>\n",
       "    </tr>\n",
       "  </thead>\n",
       "  <tbody>\n",
       "    <tr>\n",
       "      <th>0</th>\n",
       "      <td>নাইমা কি করবেন আমরা জানি</td>\n",
       "      <td>sadness</td>\n",
       "      <td>4</td>\n",
       "    </tr>\n",
       "    <tr>\n",
       "      <th>1</th>\n",
       "      <td>ভাই সব আপনাদের খুব ভাল লাগছে</td>\n",
       "      <td>joy</td>\n",
       "      <td>3</td>\n",
       "    </tr>\n",
       "    <tr>\n",
       "      <th>2</th>\n",
       "      <td>গাঞ্জা খাইয়া নিউজ শেয়ার করছে দিগন্ত  বয়কটে ...</td>\n",
       "      <td>anger</td>\n",
       "      <td>0</td>\n",
       "    </tr>\n",
       "    <tr>\n",
       "      <th>3</th>\n",
       "      <td>অনেক ধন্যবাদ স্যার যশোরে ইত্যাদি অনুষ্ঠান করার...</td>\n",
       "      <td>joy</td>\n",
       "      <td>3</td>\n",
       "    </tr>\n",
       "    <tr>\n",
       "      <th>4</th>\n",
       "      <td>বর্তমানে মুসলমান মারে যে জন সে জন হয়েছে ঈশ্বর</td>\n",
       "      <td>disgust</td>\n",
       "      <td>1</td>\n",
       "    </tr>\n",
       "    <tr>\n",
       "      <th>...</th>\n",
       "      <td>...</td>\n",
       "      <td>...</td>\n",
       "      <td>...</td>\n",
       "    </tr>\n",
       "    <tr>\n",
       "      <th>6995</th>\n",
       "      <td>হে আল্লাহ আপনি আমাদের দেশের প্রতি সহায়ক হন   ...</td>\n",
       "      <td>sadness</td>\n",
       "      <td>4</td>\n",
       "    </tr>\n",
       "    <tr>\n",
       "      <th>6996</th>\n",
       "      <td>ঈদ ছারাও যুদি বাংলাদেশ ঈদের খুশির অামেজ পান তব...</td>\n",
       "      <td>joy</td>\n",
       "      <td>3</td>\n",
       "    </tr>\n",
       "    <tr>\n",
       "      <th>6997</th>\n",
       "      <td>বছরের সবচেয়ে সেরা ভিডিও দেখেছি  আমাদের দেশের ...</td>\n",
       "      <td>joy</td>\n",
       "      <td>3</td>\n",
       "    </tr>\n",
       "    <tr>\n",
       "      <th>6998</th>\n",
       "      <td>কিরে মিথ্যা কথা কস কেন গতদিন আমি আর আসিফ আসছি...</td>\n",
       "      <td>anger</td>\n",
       "      <td>0</td>\n",
       "    </tr>\n",
       "    <tr>\n",
       "      <th>6999</th>\n",
       "      <td>\\nভাইরেভাই বেস্ট এইটা বেস্ট\\nএইরকম পারফেক্ট গল...</td>\n",
       "      <td>joy</td>\n",
       "      <td>3</td>\n",
       "    </tr>\n",
       "  </tbody>\n",
       "</table>\n",
       "<p>7000 rows × 3 columns</p>\n",
       "</div>"
      ],
      "text/plain": [
       "                                                   TEXT  classes  classes_bin\n",
       "0                              নাইমা কি করবেন আমরা জানি  sadness            4\n",
       "1                          ভাই সব আপনাদের খুব ভাল লাগছে      joy            3\n",
       "2     গাঞ্জা খাইয়া নিউজ শেয়ার করছে দিগন্ত  বয়কটে ...    anger            0\n",
       "3     অনেক ধন্যবাদ স্যার যশোরে ইত্যাদি অনুষ্ঠান করার...      joy            3\n",
       "4        বর্তমানে মুসলমান মারে যে জন সে জন হয়েছে ঈশ্বর  disgust            1\n",
       "...                                                 ...      ...          ...\n",
       "6995  হে আল্লাহ আপনি আমাদের দেশের প্রতি সহায়ক হন   ...  sadness            4\n",
       "6996  ঈদ ছারাও যুদি বাংলাদেশ ঈদের খুশির অামেজ পান তব...      joy            3\n",
       "6997  বছরের সবচেয়ে সেরা ভিডিও দেখেছি  আমাদের দেশের ...      joy            3\n",
       "6998   কিরে মিথ্যা কথা কস কেন গতদিন আমি আর আসিফ আসছি...    anger            0\n",
       "6999  \\nভাইরেভাই বেস্ট এইটা বেস্ট\\nএইরকম পারফেক্ট গল...      joy            3\n",
       "\n",
       "[7000 rows x 3 columns]"
      ]
     },
     "execution_count": 15,
     "metadata": {},
     "output_type": "execute_result"
    }
   ],
   "source": [
    "df"
   ]
  },
  {
   "cell_type": "code",
   "execution_count": 16,
   "id": "23fbb740",
   "metadata": {},
   "outputs": [],
   "source": [
    "text = df['TEXT'].values.tolist()"
   ]
  },
  {
   "cell_type": "code",
   "execution_count": 17,
   "id": "73914a34",
   "metadata": {},
   "outputs": [
    {
     "data": {
      "text/html": [
       "<div>\n",
       "<style scoped>\n",
       "    .dataframe tbody tr th:only-of-type {\n",
       "        vertical-align: middle;\n",
       "    }\n",
       "\n",
       "    .dataframe tbody tr th {\n",
       "        vertical-align: top;\n",
       "    }\n",
       "\n",
       "    .dataframe thead tr th {\n",
       "        text-align: left;\n",
       "    }\n",
       "\n",
       "    .dataframe thead tr:last-of-type th {\n",
       "        text-align: right;\n",
       "    }\n",
       "</style>\n",
       "<table border=\"1\" class=\"dataframe\">\n",
       "  <thead>\n",
       "    <tr>\n",
       "      <th></th>\n",
       "      <th colspan=\"8\" halign=\"left\">classes_bin</th>\n",
       "    </tr>\n",
       "    <tr>\n",
       "      <th></th>\n",
       "      <th>count</th>\n",
       "      <th>mean</th>\n",
       "      <th>std</th>\n",
       "      <th>min</th>\n",
       "      <th>25%</th>\n",
       "      <th>50%</th>\n",
       "      <th>75%</th>\n",
       "      <th>max</th>\n",
       "    </tr>\n",
       "    <tr>\n",
       "      <th>classes</th>\n",
       "      <th></th>\n",
       "      <th></th>\n",
       "      <th></th>\n",
       "      <th></th>\n",
       "      <th></th>\n",
       "      <th></th>\n",
       "      <th></th>\n",
       "      <th></th>\n",
       "    </tr>\n",
       "  </thead>\n",
       "  <tbody>\n",
       "    <tr>\n",
       "      <th>anger</th>\n",
       "      <td>1052.0</td>\n",
       "      <td>0.0</td>\n",
       "      <td>0.0</td>\n",
       "      <td>0.0</td>\n",
       "      <td>0.0</td>\n",
       "      <td>0.0</td>\n",
       "      <td>0.0</td>\n",
       "      <td>0.0</td>\n",
       "    </tr>\n",
       "    <tr>\n",
       "      <th>disgust</th>\n",
       "      <td>1356.0</td>\n",
       "      <td>1.0</td>\n",
       "      <td>0.0</td>\n",
       "      <td>1.0</td>\n",
       "      <td>1.0</td>\n",
       "      <td>1.0</td>\n",
       "      <td>1.0</td>\n",
       "      <td>1.0</td>\n",
       "    </tr>\n",
       "    <tr>\n",
       "      <th>fear</th>\n",
       "      <td>962.0</td>\n",
       "      <td>2.0</td>\n",
       "      <td>0.0</td>\n",
       "      <td>2.0</td>\n",
       "      <td>2.0</td>\n",
       "      <td>2.0</td>\n",
       "      <td>2.0</td>\n",
       "      <td>2.0</td>\n",
       "    </tr>\n",
       "    <tr>\n",
       "      <th>joy</th>\n",
       "      <td>1524.0</td>\n",
       "      <td>3.0</td>\n",
       "      <td>0.0</td>\n",
       "      <td>3.0</td>\n",
       "      <td>3.0</td>\n",
       "      <td>3.0</td>\n",
       "      <td>3.0</td>\n",
       "      <td>3.0</td>\n",
       "    </tr>\n",
       "    <tr>\n",
       "      <th>sadness</th>\n",
       "      <td>1327.0</td>\n",
       "      <td>4.0</td>\n",
       "      <td>0.0</td>\n",
       "      <td>4.0</td>\n",
       "      <td>4.0</td>\n",
       "      <td>4.0</td>\n",
       "      <td>4.0</td>\n",
       "      <td>4.0</td>\n",
       "    </tr>\n",
       "    <tr>\n",
       "      <th>surprise</th>\n",
       "      <td>779.0</td>\n",
       "      <td>5.0</td>\n",
       "      <td>0.0</td>\n",
       "      <td>5.0</td>\n",
       "      <td>5.0</td>\n",
       "      <td>5.0</td>\n",
       "      <td>5.0</td>\n",
       "      <td>5.0</td>\n",
       "    </tr>\n",
       "  </tbody>\n",
       "</table>\n",
       "</div>"
      ],
      "text/plain": [
       "         classes_bin                                   \n",
       "               count mean  std  min  25%  50%  75%  max\n",
       "classes                                                \n",
       "anger         1052.0  0.0  0.0  0.0  0.0  0.0  0.0  0.0\n",
       "disgust       1356.0  1.0  0.0  1.0  1.0  1.0  1.0  1.0\n",
       "fear           962.0  2.0  0.0  2.0  2.0  2.0  2.0  2.0\n",
       "joy           1524.0  3.0  0.0  3.0  3.0  3.0  3.0  3.0\n",
       "sadness       1327.0  4.0  0.0  4.0  4.0  4.0  4.0  4.0\n",
       "surprise       779.0  5.0  0.0  5.0  5.0  5.0  5.0  5.0"
      ]
     },
     "execution_count": 17,
     "metadata": {},
     "output_type": "execute_result"
    }
   ],
   "source": [
    "df.groupby(\"classes\").describe()"
   ]
  },
  {
   "cell_type": "code",
   "execution_count": 18,
   "id": "9367651b",
   "metadata": {},
   "outputs": [
    {
     "data": {
      "text/plain": [
       "joy         1524\n",
       "disgust     1356\n",
       "sadness     1327\n",
       "anger       1052\n",
       "fear         962\n",
       "surprise     779\n",
       "Name: classes, dtype: int64"
      ]
     },
     "execution_count": 18,
     "metadata": {},
     "output_type": "execute_result"
    }
   ],
   "source": [
    "df[\"classes\"].value_counts()"
   ]
  },
  {
   "cell_type": "code",
   "execution_count": 19,
   "id": "86985733",
   "metadata": {
    "scrolled": true
   },
   "outputs": [
    {
     "name": "stdout",
     "output_type": "stream",
     "text": [
      "1120\n"
     ]
    }
   ],
   "source": [
    "longest_string = max(df[\"TEXT\"], key=len)\n",
    "print(len(longest_string))"
   ]
  },
  {
   "cell_type": "code",
   "execution_count": 20,
   "id": "b7ffc464",
   "metadata": {},
   "outputs": [],
   "source": [
    "text = df[\"TEXT\"]"
   ]
  },
  {
   "cell_type": "code",
   "execution_count": 21,
   "id": "ec320938",
   "metadata": {
    "scrolled": true
   },
   "outputs": [
    {
     "data": {
      "text/plain": [
       "(7000, 3004)"
      ]
     },
     "execution_count": 21,
     "metadata": {},
     "output_type": "execute_result"
    }
   ],
   "source": [
    "train_counts = count_vect.fit_transform(text) # converting docs into vectors\n",
    "train_tfidf  = train_counts \n",
    "train_tfidf = tfidf_transformer.fit_transform(train_counts) # converting transformed vectors into tf-idf vectors\n",
    "train_tfidf.shape"
   ]
  },
  {
   "cell_type": "code",
   "execution_count": 22,
   "id": "b5ca4e4c",
   "metadata": {},
   "outputs": [],
   "source": [
    "from sklearn.model_selection import train_test_split"
   ]
  },
  {
   "cell_type": "code",
   "execution_count": 23,
   "id": "18282b5d",
   "metadata": {},
   "outputs": [],
   "source": [
    "X_train, X_test, y_train, y_test = train_test_split(train_tfidf, df['classes_bin'], test_size=0.2, random_state=42)\n",
    "\n",
    "Y_pre = df['classes']\n",
    "target_names = list(set(Y_pre))"
   ]
  },
  {
   "cell_type": "code",
   "execution_count": 24,
   "id": "8683a063",
   "metadata": {
    "scrolled": true
   },
   "outputs": [
    {
     "data": {
      "text/plain": [
       "['surprise', 'joy', 'anger', 'fear', 'disgust', 'sadness']"
      ]
     },
     "execution_count": 24,
     "metadata": {},
     "output_type": "execute_result"
    }
   ],
   "source": [
    "target_names"
   ]
  },
  {
   "cell_type": "code",
   "execution_count": 25,
   "id": "81f576ca",
   "metadata": {},
   "outputs": [
    {
     "data": {
      "text/plain": [
       "<5600x3004 sparse matrix of type '<class 'numpy.float64'>'\n",
       "\twith 61757 stored elements in Compressed Sparse Row format>"
      ]
     },
     "execution_count": 25,
     "metadata": {},
     "output_type": "execute_result"
    }
   ],
   "source": [
    "X_train"
   ]
  },
  {
   "cell_type": "code",
   "execution_count": 26,
   "id": "7317b086",
   "metadata": {},
   "outputs": [
    {
     "data": {
      "text/plain": [
       "1032    4\n",
       "6339    1\n",
       "3886    0\n",
       "2653    2\n",
       "6914    3\n",
       "       ..\n",
       "3772    3\n",
       "5191    2\n",
       "5226    3\n",
       "5390    5\n",
       "860     3\n",
       "Name: classes_bin, Length: 5600, dtype: int32"
      ]
     },
     "execution_count": 26,
     "metadata": {},
     "output_type": "execute_result"
    }
   ],
   "source": [
    "y_train"
   ]
  },
  {
   "cell_type": "code",
   "execution_count": 27,
   "id": "8d6fa472",
   "metadata": {},
   "outputs": [],
   "source": [
    "from sklearn.metrics import classification_report\n",
    "from sklearn.metrics import confusion_matrix, accuracy_score\n",
    "from sklearn.model_selection import RandomizedSearchCV "
   ]
  },
  {
   "cell_type": "code",
   "execution_count": 28,
   "id": "3bae7e2d",
   "metadata": {},
   "outputs": [],
   "source": [
    "import seaborn as sn"
   ]
  },
  {
   "cell_type": "markdown",
   "id": "7b679e21",
   "metadata": {},
   "source": [
    "# Naive Bayes"
   ]
  },
  {
   "cell_type": "code",
   "execution_count": 29,
   "id": "98e17d16",
   "metadata": {},
   "outputs": [],
   "source": [
    "from sklearn.naive_bayes import MultinomialNB"
   ]
  },
  {
   "cell_type": "code",
   "execution_count": 30,
   "id": "24f8b525",
   "metadata": {},
   "outputs": [
    {
     "name": "stdout",
     "output_type": "stream",
     "text": [
      "Test set accuracy 0.47214285714285714\n",
      "              precision    recall  f1-score   support\n",
      "\n",
      "    surprise       0.39      0.11      0.18       192\n",
      "         joy       0.42      0.45      0.44       286\n",
      "       anger       0.77      0.58      0.66       189\n",
      "        fear       0.45      0.77      0.57       312\n",
      "     disgust       0.42      0.56      0.48       261\n",
      "     sadness       0.80      0.10      0.18       160\n",
      "\n",
      "    accuracy                           0.47      1400\n",
      "   macro avg       0.54      0.43      0.42      1400\n",
      "weighted avg       0.51      0.47      0.44      1400\n",
      "\n"
     ]
    },
    {
     "data": {
      "image/png": "[encoded data removed]",
      "text/plain": [
       "<Figure size 2200x1200 with 2 Axes>"
      ]
     },
     "metadata": {},
     "output_type": "display_data"
    }
   ],
   "source": [
    "NBclassifer = MultinomialNB()\n",
    "NBclassifer.fit(X_train, y_train)\n",
    "y_pred = NBclassifer.predict(X_test)\n",
    "print('Test set accuracy %s' % accuracy_score(y_test, y_pred))\n",
    "cr = classification_report(y_test, y_pred, target_names=target_names)\n",
    "print(cr)\n",
    "\n",
    "\n",
    "# ------------------------------------------------------------------------------ #\n",
    "\n",
    "cm = confusion_matrix(y_test, y_pred)\n",
    "cm = (cm.T / cm.astype(float).sum(axis=1)).T\n",
    "\n",
    "df_cm = pd.DataFrame(cm, range(len(target_names)), range(len(target_names)))\n",
    "with sn.axes_style(\"white\"):\n",
    "    plt.figure(figsize = (22,12))\n",
    "    ax = sn.heatmap(df_cm, annot=True, xticklabels=target_names, yticklabels=target_names, vmax=1,  cmap=sn.cubehelix_palette(10))\n",
    "    ax.set_xticklabels(ax.get_xticklabels(), rotation=0)\n",
    "    fig = ax.get_figure()\n",
    "  "
   ]
  },
  {
   "cell_type": "code",
   "execution_count": 31,
   "id": "120c7e82",
   "metadata": {},
   "outputs": [
    {
     "data": {
      "text/plain": [
       "{'alpha': 1.0, 'class_prior': None, 'fit_prior': True, 'force_alpha': 'warn'}"
      ]
     },
     "execution_count": 31,
     "metadata": {},
     "output_type": "execute_result"
    }
   ],
   "source": [
    "NBclassifer.get_params()"
   ]
  },
  {
   "cell_type": "markdown",
   "id": "1592de01",
   "metadata": {},
   "source": [
    "# Support Vector Machine"
   ]
  },
  {
   "cell_type": "code",
   "execution_count": 32,
   "id": "6a026e16",
   "metadata": {},
   "outputs": [],
   "source": [
    "from sklearn.svm import SVC\n"
   ]
  },
  {
   "cell_type": "code",
   "execution_count": 33,
   "id": "8f2f823e",
   "metadata": {},
   "outputs": [
    {
     "name": "stdout",
     "output_type": "stream",
     "text": [
      "Test set accuracy 0.5135714285714286\n",
      "              precision    recall  f1-score   support\n",
      "\n",
      "    surprise       0.43      0.26      0.32       192\n",
      "         joy       0.40      0.53      0.46       286\n",
      "       anger       0.86      0.60      0.71       189\n",
      "        fear       0.54      0.63      0.58       312\n",
      "     disgust       0.46      0.54      0.50       261\n",
      "     sadness       0.66      0.40      0.50       160\n",
      "\n",
      "    accuracy                           0.51      1400\n",
      "   macro avg       0.56      0.49      0.51      1400\n",
      "weighted avg       0.54      0.51      0.51      1400\n",
      "\n"
     ]
    },
    {
     "data": {
      "image/png": "[encoded data removed]",
      "text/plain": [
       "<Figure size 2200x1200 with 2 Axes>"
      ]
     },
     "metadata": {},
     "output_type": "display_data"
    }
   ],
   "source": [
    "SVMclassifer = SVC()\n",
    "SVMclassifer.fit(X_train, y_train)\n",
    "y_pred = SVMclassifer.predict(X_test)\n",
    "print('Test set accuracy %s' % accuracy_score(y_test, y_pred))\n",
    "cr = classification_report(y_test, y_pred, target_names=target_names)\n",
    "print(cr)\n",
    "\n",
    "# ------------------------------------------------------------------------------ #\n",
    "\n",
    "cm = confusion_matrix(y_test, y_pred)\n",
    "cm = (cm.T / cm.astype(float).sum(axis=1)).T\n",
    "\n",
    "df_cm = pd.DataFrame(cm, range(len(target_names)), range(len(target_names)))\n",
    "with sn.axes_style(\"white\"):\n",
    "    plt.figure(figsize = (22,12))\n",
    "    ax = sn.heatmap(df_cm, annot=True, xticklabels=target_names, yticklabels=target_names, vmax=1,  cmap=sn.cubehelix_palette(10))\n",
    "    ax.set_xticklabels(ax.get_xticklabels(), rotation=0)\n",
    "    fig = ax.get_figure()"
   ]
  },
  {
   "cell_type": "markdown",
   "id": "d7b24d1f",
   "metadata": {},
   "source": [
    "# XGBoost"
   ]
  },
  {
   "cell_type": "code",
   "execution_count": 34,
   "id": "59d93989",
   "metadata": {
    "scrolled": true
   },
   "outputs": [],
   "source": [
    "from xgboost import XGBClassifier"
   ]
  },
  {
   "cell_type": "code",
   "execution_count": 35,
   "id": "d24f497a",
   "metadata": {},
   "outputs": [
    {
     "name": "stdout",
     "output_type": "stream",
     "text": [
      "Test set accuracy 0.46785714285714286\n",
      "              precision    recall  f1-score   support\n",
      "\n",
      "    surprise       0.29      0.24      0.26       192\n",
      "         joy       0.35      0.45      0.39       286\n",
      "       anger       0.80      0.65      0.72       189\n",
      "        fear       0.52      0.57      0.55       312\n",
      "     disgust       0.43      0.43      0.43       261\n",
      "     sadness       0.57      0.43      0.49       160\n",
      "\n",
      "    accuracy                           0.47      1400\n",
      "   macro avg       0.49      0.46      0.47      1400\n",
      "weighted avg       0.48      0.47      0.47      1400\n",
      "\n"
     ]
    },
    {
     "data": {
      "image/png": "[encoded data removed]",
      "text/plain": [
       "<Figure size 2200x1200 with 2 Axes>"
      ]
     },
     "metadata": {},
     "output_type": "display_data"
    }
   ],
   "source": [
    "XGBclassifer = XGBClassifier()\n",
    "XGBclassifer.fit(X_train, y_train)\n",
    "y_pred = XGBclassifer.predict(X_test)\n",
    "print('Test set accuracy %s' % accuracy_score(y_test, y_pred))\n",
    "cr = classification_report(y_test, y_pred, target_names=target_names)\n",
    "print(cr)\n",
    "\n",
    "# ------------------------------------------------------------------------------ #\n",
    "\n",
    "cm = confusion_matrix(y_test, y_pred)\n",
    "cm = (cm.T / cm.astype(float).sum(axis=1)).T\n",
    "\n",
    "df_cm = pd.DataFrame(cm, range(len(target_names)), range(len(target_names)))\n",
    "with sn.axes_style(\"white\"):\n",
    "    plt.figure(figsize = (22,12))\n",
    "    ax = sn.heatmap(df_cm, annot=True, xticklabels=target_names, yticklabels=target_names, vmax=1,  cmap=sn.cubehelix_palette(10))\n",
    "    ax.set_xticklabels(ax.get_xticklabels(), rotation=0)\n",
    "    fig = ax.get_figure()\n"
   ]
  },
  {
   "cell_type": "markdown",
   "id": "a70e68cd",
   "metadata": {},
   "source": [
    "# Random Forest"
   ]
  },
  {
   "cell_type": "code",
   "execution_count": 36,
   "id": "c1d9399d",
   "metadata": {},
   "outputs": [],
   "source": [
    "from sklearn.ensemble import RandomForestClassifier"
   ]
  },
  {
   "cell_type": "code",
   "execution_count": 37,
   "id": "91d06868",
   "metadata": {},
   "outputs": [
    {
     "name": "stdout",
     "output_type": "stream",
     "text": [
      "Test set accuracy 0.49357142857142855\n",
      "              precision    recall  f1-score   support\n",
      "\n",
      "    surprise       0.37      0.31      0.34       192\n",
      "         joy       0.37      0.43      0.40       286\n",
      "       anger       0.82      0.66      0.73       189\n",
      "        fear       0.51      0.61      0.56       312\n",
      "     disgust       0.45      0.48      0.47       261\n",
      "     sadness       0.68      0.41      0.51       160\n",
      "\n",
      "    accuracy                           0.49      1400\n",
      "   macro avg       0.53      0.48      0.50      1400\n",
      "weighted avg       0.51      0.49      0.50      1400\n",
      "\n"
     ]
    },
    {
     "data": {
      "image/png": "[encoded data removed]",
      "text/plain": [
       "<Figure size 2200x1200 with 2 Axes>"
      ]
     },
     "metadata": {},
     "output_type": "display_data"
    }
   ],
   "source": [
    "RFclassifer = RandomForestClassifier()\n",
    "shapas = RFclassifer.fit(X_train, y_train)\n",
    "y_pred = RFclassifer.predict(X_test)\n",
    "print('Test set accuracy %s' % accuracy_score(y_test, y_pred))\n",
    "cr = classification_report(y_test, y_pred, target_names=target_names)\n",
    "print(cr)\n",
    "\n",
    "# ------------------------------------------------------------------------------ #\n",
    "\n",
    "cm = confusion_matrix(y_test, y_pred)\n",
    "cm = (cm.T / cm.astype(float).sum(axis=1)).T\n",
    "\n",
    "df_cm = pd.DataFrame(cm, range(len(target_names)), range(len(target_names)))\n",
    "with sn.axes_style(\"white\"):\n",
    "    plt.figure(figsize = (22,12))\n",
    "    ax = sn.heatmap(df_cm, annot=True, xticklabels=target_names, yticklabels=target_names, vmax=1,  cmap=sn.cubehelix_palette(10))\n",
    "    ax.set_xticklabels(ax.get_xticklabels(), rotation=0)\n",
    "    fig = ax.get_figure()\n",
    "  "
   ]
  },
  {
   "cell_type": "code",
   "execution_count": null,
   "id": "68d54c11",
   "metadata": {},
   "outputs": [],
   "source": []
  }
 ],
 "metadata": {
  "kernelspec": {
   "display_name": "Python 3 (ipykernel)",
   "language": "python",
   "name": "python3"
  },
  "language_info": {
   "codemirror_mode": {
    "name": "ipython",
    "version": 3
   },
   "file_extension": ".py",
   "mimetype": "text/x-python",
   "name": "python",
   "nbconvert_exporter": "python",
   "pygments_lexer": "ipython3",
   "version": "3.9.17"
  }
 },
 "nbformat": 4,
 "nbformat_minor": 5
}
