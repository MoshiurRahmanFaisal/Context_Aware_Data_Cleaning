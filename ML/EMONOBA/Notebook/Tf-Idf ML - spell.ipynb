{
 "cells": [
  {
   "cell_type": "code",
   "execution_count": 17,
   "id": "0356e1cf",
   "metadata": {},
   "outputs": [],
   "source": [
    "import pandas as pd\n",
    "import numpy as np\n",
    "from matplotlib import pyplot as plt\n",
    "import seaborn as sns\n",
    "import math\n",
    "from bnlp import NLTKTokenizer\n",
    "from sklearn.feature_extraction.text import TfidfVectorizer"
   ]
  },
  {
   "cell_type": "code",
   "execution_count": 18,
   "id": "7b6a9335",
   "metadata": {},
   "outputs": [],
   "source": [
    "df_train = pd.read_excel('F:/Context_Aware_Data_Cleaning_Deep/EMONOBA/Dataset/emonoba_train_clean.xlsx')\n",
    "df_val = pd.read_excel('F:/Context_Aware_Data_Cleaning_Deep/EMONOBA/Dataset/emonoba_val_clean.xlsx')"
   ]
  },
  {
   "cell_type": "code",
   "execution_count": 19,
   "id": "136eda95",
   "metadata": {},
   "outputs": [
    {
     "data": {
      "text/html": [
       "<div>\n",
       "<style scoped>\n",
       "    .dataframe tbody tr th:only-of-type {\n",
       "        vertical-align: middle;\n",
       "    }\n",
       "\n",
       "    .dataframe tbody tr th {\n",
       "        vertical-align: top;\n",
       "    }\n",
       "\n",
       "    .dataframe thead th {\n",
       "        text-align: right;\n",
       "    }\n",
       "</style>\n",
       "<table border=\"1\" class=\"dataframe\">\n",
       "  <thead>\n",
       "    <tr style=\"text-align: right;\">\n",
       "      <th></th>\n",
       "      <th>Data</th>\n",
       "      <th>Love</th>\n",
       "      <th>Joy</th>\n",
       "      <th>Surprise</th>\n",
       "      <th>Anger</th>\n",
       "      <th>Sadness</th>\n",
       "      <th>Fear</th>\n",
       "    </tr>\n",
       "  </thead>\n",
       "  <tbody>\n",
       "    <tr>\n",
       "      <th>0</th>\n",
       "      <td>লকাল বাস ভালো এটা থেকে</td>\n",
       "      <td>0</td>\n",
       "      <td>0</td>\n",
       "      <td>0</td>\n",
       "      <td>0</td>\n",
       "      <td>1</td>\n",
       "      <td>0</td>\n",
       "    </tr>\n",
       "    <tr>\n",
       "      <th>1</th>\n",
       "      <td>কত অভিজানই তো চলে কিন্তু ওয়াসার পানির অভিজান ...</td>\n",
       "      <td>0</td>\n",
       "      <td>0</td>\n",
       "      <td>0</td>\n",
       "      <td>0</td>\n",
       "      <td>1</td>\n",
       "      <td>0</td>\n",
       "    </tr>\n",
       "    <tr>\n",
       "      <th>2</th>\n",
       "      <td>বিয়ের মহল ছেড়ে তিনি বিস্রাম নিতে চলে যান (৬...</td>\n",
       "      <td>0</td>\n",
       "      <td>0</td>\n",
       "      <td>0</td>\n",
       "      <td>1</td>\n",
       "      <td>0</td>\n",
       "      <td>0</td>\n",
       "    </tr>\n",
       "    <tr>\n",
       "      <th>3</th>\n",
       "      <td>চাচাজি তো কেবল মাকে ধর্ষণ করেছেন</td>\n",
       "      <td>0</td>\n",
       "      <td>0</td>\n",
       "      <td>0</td>\n",
       "      <td>0</td>\n",
       "      <td>1</td>\n",
       "      <td>0</td>\n",
       "    </tr>\n",
       "    <tr>\n",
       "      <th>4</th>\n",
       "      <td>সত্যিকার মানুষ তারাই ভাই</td>\n",
       "      <td>0</td>\n",
       "      <td>1</td>\n",
       "      <td>0</td>\n",
       "      <td>0</td>\n",
       "      <td>0</td>\n",
       "      <td>0</td>\n",
       "    </tr>\n",
       "    <tr>\n",
       "      <th>...</th>\n",
       "      <td>...</td>\n",
       "      <td>...</td>\n",
       "      <td>...</td>\n",
       "      <td>...</td>\n",
       "      <td>...</td>\n",
       "      <td>...</td>\n",
       "      <td>...</td>\n",
       "    </tr>\n",
       "    <tr>\n",
       "      <th>18415</th>\n",
       "      <td>সমস্যা নাই কি আমরা একদিন ক্রিকেট কে শাসন করবে...</td>\n",
       "      <td>0</td>\n",
       "      <td>1</td>\n",
       "      <td>0</td>\n",
       "      <td>0</td>\n",
       "      <td>0</td>\n",
       "      <td>0</td>\n",
       "    </tr>\n",
       "    <tr>\n",
       "      <th>18416</th>\n",
       "      <td>খানকিরপুলা তার মাকে গিয়ে বলে তর মাকে মনটা গিয়ে।</td>\n",
       "      <td>0</td>\n",
       "      <td>0</td>\n",
       "      <td>0</td>\n",
       "      <td>0</td>\n",
       "      <td>1</td>\n",
       "      <td>0</td>\n",
       "    </tr>\n",
       "    <tr>\n",
       "      <th>18417</th>\n",
       "      <td>ভাই চেয়ার কই🙄</td>\n",
       "      <td>0</td>\n",
       "      <td>0</td>\n",
       "      <td>1</td>\n",
       "      <td>0</td>\n",
       "      <td>0</td>\n",
       "      <td>0</td>\n",
       "    </tr>\n",
       "    <tr>\n",
       "      <th>18418</th>\n",
       "      <td>সবকয়টা তো একই গোয়ালের গাই</td>\n",
       "      <td>0</td>\n",
       "      <td>0</td>\n",
       "      <td>0</td>\n",
       "      <td>0</td>\n",
       "      <td>1</td>\n",
       "      <td>0</td>\n",
       "    </tr>\n",
       "    <tr>\n",
       "      <th>18419</th>\n",
       "      <td>বসন্তের ফুলেল উপহার তো পেলাম না' রওশন: আছে আছ...</td>\n",
       "      <td>0</td>\n",
       "      <td>0</td>\n",
       "      <td>0</td>\n",
       "      <td>1</td>\n",
       "      <td>0</td>\n",
       "      <td>0</td>\n",
       "    </tr>\n",
       "  </tbody>\n",
       "</table>\n",
       "<p>18420 rows × 7 columns</p>\n",
       "</div>"
      ],
      "text/plain": [
       "                                                    Data  Love  Joy  Surprise  \\\n",
       "0                                লকাল বাস ভালো এটা থেকে      0    0         0   \n",
       "1       কত অভিজানই তো চলে কিন্তু ওয়াসার পানির অভিজান ...     0    0         0   \n",
       "2       বিয়ের মহল ছেড়ে তিনি বিস্রাম নিতে চলে যান (৬...     0    0         0   \n",
       "3                      চাচাজি তো কেবল মাকে ধর্ষণ করেছেন      0    0         0   \n",
       "4                              সত্যিকার মানুষ তারাই ভাই      0    1         0   \n",
       "...                                                  ...   ...  ...       ...   \n",
       "18415   সমস্যা নাই কি আমরা একদিন ক্রিকেট কে শাসন করবে...     0    1         0   \n",
       "18416   খানকিরপুলা তার মাকে গিয়ে বলে তর মাকে মনটা গিয়ে।      0    0         0   \n",
       "18417                                     ভাই চেয়ার কই🙄      0    0         1   \n",
       "18418                         সবকয়টা তো একই গোয়ালের গাই      0    0         0   \n",
       "18419   বসন্তের ফুলেল উপহার তো পেলাম না' রওশন: আছে আছ...     0    0         0   \n",
       "\n",
       "       Anger  Sadness  Fear  \n",
       "0          0        1     0  \n",
       "1          0        1     0  \n",
       "2          1        0     0  \n",
       "3          0        1     0  \n",
       "4          0        0     0  \n",
       "...      ...      ...   ...  \n",
       "18415      0        0     0  \n",
       "18416      0        1     0  \n",
       "18417      0        0     0  \n",
       "18418      0        1     0  \n",
       "18419      1        0     0  \n",
       "\n",
       "[18420 rows x 7 columns]"
      ]
     },
     "execution_count": 19,
     "metadata": {},
     "output_type": "execute_result"
    }
   ],
   "source": [
    "df_train"
   ]
  },
  {
   "cell_type": "code",
   "execution_count": 20,
   "id": "726f7b41",
   "metadata": {},
   "outputs": [],
   "source": [
    "# Function to get the emotion with value 1 or NaN if all values are 0\n",
    "def get_emotion(row):\n",
    "    emotions = ['Love', 'Joy', 'Surprise', 'Anger', 'Sadness', 'Fear']\n",
    "    nonzero_emotions = [emotion for emotion in emotions if row[emotion] == 1]\n",
    "    return nonzero_emotions[0] if nonzero_emotions else np.nan\n",
    "\n",
    "# Create a new column 'Emotion' based on the custom function\n",
    "df_train['Label'] = df_train.apply(get_emotion, axis=1)\n",
    "\n",
    "# Keep only 'Data' and 'Emotion' columns\n",
    "df_train = df_train[['Data', 'Label']]"
   ]
  },
  {
   "cell_type": "code",
   "execution_count": 21,
   "id": "da40ebc4",
   "metadata": {},
   "outputs": [],
   "source": [
    "# Create a new column 'Emotion' based on the custom function\n",
    "df_val['Label'] = df_val.apply(get_emotion, axis=1)\n",
    "\n",
    "# Keep only 'Data' and 'Emotion' columns\n",
    "df_test = df_val[['Data', 'Label']]"
   ]
  },
  {
   "cell_type": "code",
   "execution_count": 22,
   "id": "caecabfd",
   "metadata": {},
   "outputs": [
    {
     "data": {
      "text/html": [
       "<div>\n",
       "<style scoped>\n",
       "    .dataframe tbody tr th:only-of-type {\n",
       "        vertical-align: middle;\n",
       "    }\n",
       "\n",
       "    .dataframe tbody tr th {\n",
       "        vertical-align: top;\n",
       "    }\n",
       "\n",
       "    .dataframe thead tr th {\n",
       "        text-align: left;\n",
       "    }\n",
       "\n",
       "    .dataframe thead tr:last-of-type th {\n",
       "        text-align: right;\n",
       "    }\n",
       "</style>\n",
       "<table border=\"1\" class=\"dataframe\">\n",
       "  <thead>\n",
       "    <tr>\n",
       "      <th></th>\n",
       "      <th colspan=\"4\" halign=\"left\">Data</th>\n",
       "    </tr>\n",
       "    <tr>\n",
       "      <th></th>\n",
       "      <th>count</th>\n",
       "      <th>unique</th>\n",
       "      <th>top</th>\n",
       "      <th>freq</th>\n",
       "    </tr>\n",
       "    <tr>\n",
       "      <th>Label</th>\n",
       "      <th></th>\n",
       "      <th></th>\n",
       "      <th></th>\n",
       "      <th></th>\n",
       "    </tr>\n",
       "  </thead>\n",
       "  <tbody>\n",
       "    <tr>\n",
       "      <th>Anger</th>\n",
       "      <td>3295</td>\n",
       "      <td>3293</td>\n",
       "      <td>এই অফিসে প্রয়োজনের তুলনায় কর্মী বেশি। কর্মী ছ...</td>\n",
       "      <td>2</td>\n",
       "    </tr>\n",
       "    <tr>\n",
       "      <th>Fear</th>\n",
       "      <td>162</td>\n",
       "      <td>162</td>\n",
       "      <td>যদি গড় গ্রেড সি চলে আসে</td>\n",
       "      <td>1</td>\n",
       "    </tr>\n",
       "    <tr>\n",
       "      <th>Joy</th>\n",
       "      <td>6478</td>\n",
       "      <td>6449</td>\n",
       "      <td>খুব ভালো লাগল</td>\n",
       "      <td>5</td>\n",
       "    </tr>\n",
       "    <tr>\n",
       "      <th>Love</th>\n",
       "      <td>3786</td>\n",
       "      <td>3776</td>\n",
       "      <td>ছুঁয়ে দিলে মন</td>\n",
       "      <td>2</td>\n",
       "    </tr>\n",
       "    <tr>\n",
       "      <th>Sadness</th>\n",
       "      <td>3975</td>\n",
       "      <td>3974</td>\n",
       "      <td>কে সে? নিশ্চয়ই শয়তান জামাল! : না : তা হলে নিশ...</td>\n",
       "      <td>2</td>\n",
       "    </tr>\n",
       "    <tr>\n",
       "      <th>Surprise</th>\n",
       "      <td>724</td>\n",
       "      <td>724</td>\n",
       "      <td>তাদের প্রায় ইডিট কোটি ব্যবহারকারী অ্যাকাউন্ট ...</td>\n",
       "      <td>1</td>\n",
       "    </tr>\n",
       "  </tbody>\n",
       "</table>\n",
       "</div>"
      ],
      "text/plain": [
       "          Data                                                               \n",
       "         count unique                                                top freq\n",
       "Label                                                                        \n",
       "Anger     3295   3293   এই অফিসে প্রয়োজনের তুলনায় কর্মী বেশি। কর্মী ছ...    2\n",
       "Fear       162    162                          যদি গড় গ্রেড সি চলে আসে     1\n",
       "Joy       6478   6449                                     খুব ভালো লাগল     5\n",
       "Love      3786   3776                                    ছুঁয়ে দিলে মন     2\n",
       "Sadness   3975   3974   কে সে? নিশ্চয়ই শয়তান জামাল! : না : তা হলে নিশ...    2\n",
       "Surprise   724    724   তাদের প্রায় ইডিট কোটি ব্যবহারকারী অ্যাকাউন্ট ...    1"
      ]
     },
     "execution_count": 22,
     "metadata": {},
     "output_type": "execute_result"
    }
   ],
   "source": [
    "df_train.groupby(\"Label\").describe()"
   ]
  },
  {
   "cell_type": "code",
   "execution_count": 23,
   "id": "6ca6a7fe",
   "metadata": {},
   "outputs": [],
   "source": [
    "from sklearn.feature_extraction.text import CountVectorizer\n",
    "from sklearn.feature_extraction.text import TfidfTransformer\n",
    "from sklearn.preprocessing import LabelBinarizer"
   ]
  },
  {
   "cell_type": "code",
   "execution_count": 24,
   "id": "9ebb030d",
   "metadata": {},
   "outputs": [],
   "source": [
    "df_train['Label'] = df_train['Label'].replace({0: 'Neutral', 1: 'Positive', 2: 'Negative'})\n",
    "df_val['Label'] = df_val['Label'].replace({0: 'Neutral', 1: 'Positive', 2: 'Negative'})"
   ]
  },
  {
   "cell_type": "code",
   "execution_count": 25,
   "id": "80dc5abe",
   "metadata": {
    "scrolled": true
   },
   "outputs": [],
   "source": [
    "count_vect = CountVectorizer() # for converting text into count-based vectors\n",
    "tfidf_transformer = TfidfTransformer() # for converting text into tf-idf-based vectors\n",
    "lb = LabelBinarizer() # object for making class-labels into binary numbers"
   ]
  },
  {
   "cell_type": "code",
   "execution_count": 26,
   "id": "9bc17df6",
   "metadata": {},
   "outputs": [
    {
     "data": {
      "text/plain": [
       "Index(['Data', 'Label'], dtype='object')"
      ]
     },
     "execution_count": 26,
     "metadata": {},
     "output_type": "execute_result"
    }
   ],
   "source": [
    "df_train.columns"
   ]
  },
  {
   "cell_type": "code",
   "execution_count": 27,
   "id": "35498f56",
   "metadata": {},
   "outputs": [
    {
     "data": {
      "text/html": [
       "<div>\n",
       "<style scoped>\n",
       "    .dataframe tbody tr th:only-of-type {\n",
       "        vertical-align: middle;\n",
       "    }\n",
       "\n",
       "    .dataframe tbody tr th {\n",
       "        vertical-align: top;\n",
       "    }\n",
       "\n",
       "    .dataframe thead th {\n",
       "        text-align: right;\n",
       "    }\n",
       "</style>\n",
       "<table border=\"1\" class=\"dataframe\">\n",
       "  <thead>\n",
       "    <tr style=\"text-align: right;\">\n",
       "      <th></th>\n",
       "      <th>classes_bin</th>\n",
       "      <th>Label</th>\n",
       "    </tr>\n",
       "  </thead>\n",
       "  <tbody>\n",
       "    <tr>\n",
       "      <th>0</th>\n",
       "      <td>4</td>\n",
       "      <td>Sadness</td>\n",
       "    </tr>\n",
       "    <tr>\n",
       "      <th>1</th>\n",
       "      <td>4</td>\n",
       "      <td>Sadness</td>\n",
       "    </tr>\n",
       "    <tr>\n",
       "      <th>2</th>\n",
       "      <td>0</td>\n",
       "      <td>Anger</td>\n",
       "    </tr>\n",
       "    <tr>\n",
       "      <th>3</th>\n",
       "      <td>4</td>\n",
       "      <td>Sadness</td>\n",
       "    </tr>\n",
       "    <tr>\n",
       "      <th>4</th>\n",
       "      <td>2</td>\n",
       "      <td>Joy</td>\n",
       "    </tr>\n",
       "    <tr>\n",
       "      <th>5</th>\n",
       "      <td>3</td>\n",
       "      <td>Love</td>\n",
       "    </tr>\n",
       "    <tr>\n",
       "      <th>6</th>\n",
       "      <td>2</td>\n",
       "      <td>Joy</td>\n",
       "    </tr>\n",
       "    <tr>\n",
       "      <th>7</th>\n",
       "      <td>0</td>\n",
       "      <td>Anger</td>\n",
       "    </tr>\n",
       "    <tr>\n",
       "      <th>8</th>\n",
       "      <td>0</td>\n",
       "      <td>Anger</td>\n",
       "    </tr>\n",
       "    <tr>\n",
       "      <th>9</th>\n",
       "      <td>2</td>\n",
       "      <td>Joy</td>\n",
       "    </tr>\n",
       "    <tr>\n",
       "      <th>10</th>\n",
       "      <td>2</td>\n",
       "      <td>Joy</td>\n",
       "    </tr>\n",
       "  </tbody>\n",
       "</table>\n",
       "</div>"
      ],
      "text/plain": [
       "    classes_bin    Label\n",
       "0             4  Sadness\n",
       "1             4  Sadness\n",
       "2             0    Anger\n",
       "3             4  Sadness\n",
       "4             2      Joy\n",
       "5             3     Love\n",
       "6             2      Joy\n",
       "7             0    Anger\n",
       "8             0    Anger\n",
       "9             2      Joy\n",
       "10            2      Joy"
      ]
     },
     "execution_count": 27,
     "metadata": {},
     "output_type": "execute_result"
    }
   ],
   "source": [
    "from sklearn.preprocessing import LabelEncoder\n",
    "\n",
    "lb_make = LabelEncoder()\n",
    "df_train[\"classes_bin\"] = lb_make.fit_transform(df_train[\"Label\"])\n",
    "df_val[\"classes_bin\"] = lb_make.fit_transform(df_val[\"Label\"])\n",
    "df_train[[\"classes_bin\", \"Label\"]].head(11)"
   ]
  },
  {
   "cell_type": "code",
   "execution_count": 28,
   "id": "e80e1060",
   "metadata": {},
   "outputs": [
    {
     "data": {
      "text/html": [
       "<div>\n",
       "<style scoped>\n",
       "    .dataframe tbody tr th:only-of-type {\n",
       "        vertical-align: middle;\n",
       "    }\n",
       "\n",
       "    .dataframe tbody tr th {\n",
       "        vertical-align: top;\n",
       "    }\n",
       "\n",
       "    .dataframe thead th {\n",
       "        text-align: right;\n",
       "    }\n",
       "</style>\n",
       "<table border=\"1\" class=\"dataframe\">\n",
       "  <thead>\n",
       "    <tr style=\"text-align: right;\">\n",
       "      <th></th>\n",
       "      <th>Data</th>\n",
       "      <th>Label</th>\n",
       "      <th>classes_bin</th>\n",
       "    </tr>\n",
       "  </thead>\n",
       "  <tbody>\n",
       "    <tr>\n",
       "      <th>0</th>\n",
       "      <td>লকাল বাস ভালো এটা থেকে</td>\n",
       "      <td>Sadness</td>\n",
       "      <td>4</td>\n",
       "    </tr>\n",
       "    <tr>\n",
       "      <th>1</th>\n",
       "      <td>কত অভিজানই তো চলে কিন্তু ওয়াসার পানির অভিজান ...</td>\n",
       "      <td>Sadness</td>\n",
       "      <td>4</td>\n",
       "    </tr>\n",
       "    <tr>\n",
       "      <th>2</th>\n",
       "      <td>বিয়ের মহল ছেড়ে তিনি বিস্রাম নিতে চলে যান (৬...</td>\n",
       "      <td>Anger</td>\n",
       "      <td>0</td>\n",
       "    </tr>\n",
       "    <tr>\n",
       "      <th>3</th>\n",
       "      <td>চাচাজি তো কেবল মাকে ধর্ষণ করেছেন</td>\n",
       "      <td>Sadness</td>\n",
       "      <td>4</td>\n",
       "    </tr>\n",
       "    <tr>\n",
       "      <th>4</th>\n",
       "      <td>সত্যিকার মানুষ তারাই ভাই</td>\n",
       "      <td>Joy</td>\n",
       "      <td>2</td>\n",
       "    </tr>\n",
       "    <tr>\n",
       "      <th>...</th>\n",
       "      <td>...</td>\n",
       "      <td>...</td>\n",
       "      <td>...</td>\n",
       "    </tr>\n",
       "    <tr>\n",
       "      <th>18415</th>\n",
       "      <td>সমস্যা নাই কি আমরা একদিন ক্রিকেট কে শাসন করবে...</td>\n",
       "      <td>Joy</td>\n",
       "      <td>2</td>\n",
       "    </tr>\n",
       "    <tr>\n",
       "      <th>18416</th>\n",
       "      <td>খানকিরপুলা তার মাকে গিয়ে বলে তর মাকে মনটা গিয়ে।</td>\n",
       "      <td>Sadness</td>\n",
       "      <td>4</td>\n",
       "    </tr>\n",
       "    <tr>\n",
       "      <th>18417</th>\n",
       "      <td>ভাই চেয়ার কই🙄</td>\n",
       "      <td>Surprise</td>\n",
       "      <td>5</td>\n",
       "    </tr>\n",
       "    <tr>\n",
       "      <th>18418</th>\n",
       "      <td>সবকয়টা তো একই গোয়ালের গাই</td>\n",
       "      <td>Sadness</td>\n",
       "      <td>4</td>\n",
       "    </tr>\n",
       "    <tr>\n",
       "      <th>18419</th>\n",
       "      <td>বসন্তের ফুলেল উপহার তো পেলাম না' রওশন: আছে আছ...</td>\n",
       "      <td>Anger</td>\n",
       "      <td>0</td>\n",
       "    </tr>\n",
       "  </tbody>\n",
       "</table>\n",
       "<p>18420 rows × 3 columns</p>\n",
       "</div>"
      ],
      "text/plain": [
       "                                                    Data     Label  \\\n",
       "0                                লকাল বাস ভালো এটা থেকে    Sadness   \n",
       "1       কত অভিজানই তো চলে কিন্তু ওয়াসার পানির অভিজান ...   Sadness   \n",
       "2       বিয়ের মহল ছেড়ে তিনি বিস্রাম নিতে চলে যান (৬...     Anger   \n",
       "3                      চাচাজি তো কেবল মাকে ধর্ষণ করেছেন    Sadness   \n",
       "4                              সত্যিকার মানুষ তারাই ভাই        Joy   \n",
       "...                                                  ...       ...   \n",
       "18415   সমস্যা নাই কি আমরা একদিন ক্রিকেট কে শাসন করবে...       Joy   \n",
       "18416   খানকিরপুলা তার মাকে গিয়ে বলে তর মাকে মনটা গিয়ে।    Sadness   \n",
       "18417                                     ভাই চেয়ার কই🙄   Surprise   \n",
       "18418                         সবকয়টা তো একই গোয়ালের গাই    Sadness   \n",
       "18419   বসন্তের ফুলেল উপহার তো পেলাম না' রওশন: আছে আছ...     Anger   \n",
       "\n",
       "       classes_bin  \n",
       "0                4  \n",
       "1                4  \n",
       "2                0  \n",
       "3                4  \n",
       "4                2  \n",
       "...            ...  \n",
       "18415            2  \n",
       "18416            4  \n",
       "18417            5  \n",
       "18418            4  \n",
       "18419            0  \n",
       "\n",
       "[18420 rows x 3 columns]"
      ]
     },
     "execution_count": 28,
     "metadata": {},
     "output_type": "execute_result"
    }
   ],
   "source": [
    "df_train"
   ]
  },
  {
   "cell_type": "code",
   "execution_count": 29,
   "id": "bc843778",
   "metadata": {},
   "outputs": [
    {
     "data": {
      "text/html": [
       "<div>\n",
       "<style scoped>\n",
       "    .dataframe tbody tr th:only-of-type {\n",
       "        vertical-align: middle;\n",
       "    }\n",
       "\n",
       "    .dataframe tbody tr th {\n",
       "        vertical-align: top;\n",
       "    }\n",
       "\n",
       "    .dataframe thead tr th {\n",
       "        text-align: left;\n",
       "    }\n",
       "\n",
       "    .dataframe thead tr:last-of-type th {\n",
       "        text-align: right;\n",
       "    }\n",
       "</style>\n",
       "<table border=\"1\" class=\"dataframe\">\n",
       "  <thead>\n",
       "    <tr>\n",
       "      <th></th>\n",
       "      <th colspan=\"8\" halign=\"left\">classes_bin</th>\n",
       "    </tr>\n",
       "    <tr>\n",
       "      <th></th>\n",
       "      <th>count</th>\n",
       "      <th>mean</th>\n",
       "      <th>std</th>\n",
       "      <th>min</th>\n",
       "      <th>25%</th>\n",
       "      <th>50%</th>\n",
       "      <th>75%</th>\n",
       "      <th>max</th>\n",
       "    </tr>\n",
       "    <tr>\n",
       "      <th>Label</th>\n",
       "      <th></th>\n",
       "      <th></th>\n",
       "      <th></th>\n",
       "      <th></th>\n",
       "      <th></th>\n",
       "      <th></th>\n",
       "      <th></th>\n",
       "      <th></th>\n",
       "    </tr>\n",
       "  </thead>\n",
       "  <tbody>\n",
       "    <tr>\n",
       "      <th>Anger</th>\n",
       "      <td>3295.0</td>\n",
       "      <td>0.0</td>\n",
       "      <td>0.0</td>\n",
       "      <td>0.0</td>\n",
       "      <td>0.0</td>\n",
       "      <td>0.0</td>\n",
       "      <td>0.0</td>\n",
       "      <td>0.0</td>\n",
       "    </tr>\n",
       "    <tr>\n",
       "      <th>Fear</th>\n",
       "      <td>162.0</td>\n",
       "      <td>1.0</td>\n",
       "      <td>0.0</td>\n",
       "      <td>1.0</td>\n",
       "      <td>1.0</td>\n",
       "      <td>1.0</td>\n",
       "      <td>1.0</td>\n",
       "      <td>1.0</td>\n",
       "    </tr>\n",
       "    <tr>\n",
       "      <th>Joy</th>\n",
       "      <td>6478.0</td>\n",
       "      <td>2.0</td>\n",
       "      <td>0.0</td>\n",
       "      <td>2.0</td>\n",
       "      <td>2.0</td>\n",
       "      <td>2.0</td>\n",
       "      <td>2.0</td>\n",
       "      <td>2.0</td>\n",
       "    </tr>\n",
       "    <tr>\n",
       "      <th>Love</th>\n",
       "      <td>3786.0</td>\n",
       "      <td>3.0</td>\n",
       "      <td>0.0</td>\n",
       "      <td>3.0</td>\n",
       "      <td>3.0</td>\n",
       "      <td>3.0</td>\n",
       "      <td>3.0</td>\n",
       "      <td>3.0</td>\n",
       "    </tr>\n",
       "    <tr>\n",
       "      <th>Sadness</th>\n",
       "      <td>3975.0</td>\n",
       "      <td>4.0</td>\n",
       "      <td>0.0</td>\n",
       "      <td>4.0</td>\n",
       "      <td>4.0</td>\n",
       "      <td>4.0</td>\n",
       "      <td>4.0</td>\n",
       "      <td>4.0</td>\n",
       "    </tr>\n",
       "    <tr>\n",
       "      <th>Surprise</th>\n",
       "      <td>724.0</td>\n",
       "      <td>5.0</td>\n",
       "      <td>0.0</td>\n",
       "      <td>5.0</td>\n",
       "      <td>5.0</td>\n",
       "      <td>5.0</td>\n",
       "      <td>5.0</td>\n",
       "      <td>5.0</td>\n",
       "    </tr>\n",
       "  </tbody>\n",
       "</table>\n",
       "</div>"
      ],
      "text/plain": [
       "         classes_bin                                   \n",
       "               count mean  std  min  25%  50%  75%  max\n",
       "Label                                                  \n",
       "Anger         3295.0  0.0  0.0  0.0  0.0  0.0  0.0  0.0\n",
       "Fear           162.0  1.0  0.0  1.0  1.0  1.0  1.0  1.0\n",
       "Joy           6478.0  2.0  0.0  2.0  2.0  2.0  2.0  2.0\n",
       "Love          3786.0  3.0  0.0  3.0  3.0  3.0  3.0  3.0\n",
       "Sadness       3975.0  4.0  0.0  4.0  4.0  4.0  4.0  4.0\n",
       "Surprise       724.0  5.0  0.0  5.0  5.0  5.0  5.0  5.0"
      ]
     },
     "execution_count": 29,
     "metadata": {},
     "output_type": "execute_result"
    }
   ],
   "source": [
    "df_train.groupby(\"Label\").describe()"
   ]
  },
  {
   "cell_type": "code",
   "execution_count": 30,
   "id": "18e15101",
   "metadata": {},
   "outputs": [],
   "source": [
    "df_train['Data'] = df_train['Data'].astype(str)\n",
    "df_val['Data'] = df_val['Data'].astype(str)"
   ]
  },
  {
   "cell_type": "code",
   "execution_count": 31,
   "id": "6416bc9d",
   "metadata": {},
   "outputs": [],
   "source": [
    "df_train.dropna(inplace=True)"
   ]
  },
  {
   "cell_type": "code",
   "execution_count": 32,
   "id": "9fc7e0ac",
   "metadata": {},
   "outputs": [
    {
     "data": {
      "text/html": [
       "<div>\n",
       "<style scoped>\n",
       "    .dataframe tbody tr th:only-of-type {\n",
       "        vertical-align: middle;\n",
       "    }\n",
       "\n",
       "    .dataframe tbody tr th {\n",
       "        vertical-align: top;\n",
       "    }\n",
       "\n",
       "    .dataframe thead th {\n",
       "        text-align: right;\n",
       "    }\n",
       "</style>\n",
       "<table border=\"1\" class=\"dataframe\">\n",
       "  <thead>\n",
       "    <tr style=\"text-align: right;\">\n",
       "      <th></th>\n",
       "      <th>Data</th>\n",
       "      <th>Label</th>\n",
       "      <th>classes_bin</th>\n",
       "    </tr>\n",
       "  </thead>\n",
       "  <tbody>\n",
       "    <tr>\n",
       "      <th>0</th>\n",
       "      <td>লকাল বাস ভালো এটা থেকে</td>\n",
       "      <td>Sadness</td>\n",
       "      <td>4</td>\n",
       "    </tr>\n",
       "    <tr>\n",
       "      <th>1</th>\n",
       "      <td>কত অভিজানই তো চলে কিন্তু ওয়াসার পানির অভিজান ...</td>\n",
       "      <td>Sadness</td>\n",
       "      <td>4</td>\n",
       "    </tr>\n",
       "    <tr>\n",
       "      <th>2</th>\n",
       "      <td>বিয়ের মহল ছেড়ে তিনি বিস্রাম নিতে চলে যান (৬...</td>\n",
       "      <td>Anger</td>\n",
       "      <td>0</td>\n",
       "    </tr>\n",
       "    <tr>\n",
       "      <th>3</th>\n",
       "      <td>চাচাজি তো কেবল মাকে ধর্ষণ করেছেন</td>\n",
       "      <td>Sadness</td>\n",
       "      <td>4</td>\n",
       "    </tr>\n",
       "    <tr>\n",
       "      <th>4</th>\n",
       "      <td>সত্যিকার মানুষ তারাই ভাই</td>\n",
       "      <td>Joy</td>\n",
       "      <td>2</td>\n",
       "    </tr>\n",
       "    <tr>\n",
       "      <th>...</th>\n",
       "      <td>...</td>\n",
       "      <td>...</td>\n",
       "      <td>...</td>\n",
       "    </tr>\n",
       "    <tr>\n",
       "      <th>18415</th>\n",
       "      <td>সমস্যা নাই কি আমরা একদিন ক্রিকেট কে শাসন করবে...</td>\n",
       "      <td>Joy</td>\n",
       "      <td>2</td>\n",
       "    </tr>\n",
       "    <tr>\n",
       "      <th>18416</th>\n",
       "      <td>খানকিরপুলা তার মাকে গিয়ে বলে তর মাকে মনটা গিয়ে।</td>\n",
       "      <td>Sadness</td>\n",
       "      <td>4</td>\n",
       "    </tr>\n",
       "    <tr>\n",
       "      <th>18417</th>\n",
       "      <td>ভাই চেয়ার কই🙄</td>\n",
       "      <td>Surprise</td>\n",
       "      <td>5</td>\n",
       "    </tr>\n",
       "    <tr>\n",
       "      <th>18418</th>\n",
       "      <td>সবকয়টা তো একই গোয়ালের গাই</td>\n",
       "      <td>Sadness</td>\n",
       "      <td>4</td>\n",
       "    </tr>\n",
       "    <tr>\n",
       "      <th>18419</th>\n",
       "      <td>বসন্তের ফুলেল উপহার তো পেলাম না' রওশন: আছে আছ...</td>\n",
       "      <td>Anger</td>\n",
       "      <td>0</td>\n",
       "    </tr>\n",
       "  </tbody>\n",
       "</table>\n",
       "<p>18420 rows × 3 columns</p>\n",
       "</div>"
      ],
      "text/plain": [
       "                                                    Data     Label  \\\n",
       "0                                লকাল বাস ভালো এটা থেকে    Sadness   \n",
       "1       কত অভিজানই তো চলে কিন্তু ওয়াসার পানির অভিজান ...   Sadness   \n",
       "2       বিয়ের মহল ছেড়ে তিনি বিস্রাম নিতে চলে যান (৬...     Anger   \n",
       "3                      চাচাজি তো কেবল মাকে ধর্ষণ করেছেন    Sadness   \n",
       "4                              সত্যিকার মানুষ তারাই ভাই        Joy   \n",
       "...                                                  ...       ...   \n",
       "18415   সমস্যা নাই কি আমরা একদিন ক্রিকেট কে শাসন করবে...       Joy   \n",
       "18416   খানকিরপুলা তার মাকে গিয়ে বলে তর মাকে মনটা গিয়ে।    Sadness   \n",
       "18417                                     ভাই চেয়ার কই🙄   Surprise   \n",
       "18418                         সবকয়টা তো একই গোয়ালের গাই    Sadness   \n",
       "18419   বসন্তের ফুলেল উপহার তো পেলাম না' রওশন: আছে আছ...     Anger   \n",
       "\n",
       "       classes_bin  \n",
       "0                4  \n",
       "1                4  \n",
       "2                0  \n",
       "3                4  \n",
       "4                2  \n",
       "...            ...  \n",
       "18415            2  \n",
       "18416            4  \n",
       "18417            5  \n",
       "18418            4  \n",
       "18419            0  \n",
       "\n",
       "[18420 rows x 3 columns]"
      ]
     },
     "execution_count": 32,
     "metadata": {},
     "output_type": "execute_result"
    }
   ],
   "source": [
    "df_train"
   ]
  },
  {
   "cell_type": "code",
   "execution_count": 33,
   "id": "23fbb740",
   "metadata": {},
   "outputs": [],
   "source": [
    "train_text = df_train[\"Data\"]\n",
    "test_text= df_val[\"Data\"]"
   ]
  },
  {
   "cell_type": "code",
   "execution_count": 34,
   "id": "fb79c423",
   "metadata": {},
   "outputs": [
    {
     "data": {
      "text/plain": [
       "(18420, 2947)"
      ]
     },
     "execution_count": 34,
     "metadata": {},
     "output_type": "execute_result"
    }
   ],
   "source": [
    "train_counts = count_vect.fit_transform(train_text) # converting docs into vectors\n",
    "train_tfidf  = train_counts \n",
    "train_tfidf = tfidf_transformer.fit_transform(train_counts) # converting transformed vectors into tf-idf vectors\n",
    "train_tfidf.shape"
   ]
  },
  {
   "cell_type": "code",
   "execution_count": 35,
   "id": "b0533b9b",
   "metadata": {},
   "outputs": [
    {
     "data": {
      "text/plain": [
       "(2047, 2947)"
      ]
     },
     "execution_count": 35,
     "metadata": {},
     "output_type": "execute_result"
    }
   ],
   "source": [
    "test_counts = count_vect.transform(test_text) # converting docs into vectors\n",
    "test_tfidf  = test_counts \n",
    "test_tfidf = tfidf_transformer.transform(test_counts) # converting transformed vectors into tf-idf vectors\n",
    "test_tfidf.shape"
   ]
  },
  {
   "cell_type": "code",
   "execution_count": 36,
   "id": "18282b5d",
   "metadata": {},
   "outputs": [],
   "source": [
    "X_train = train_tfidf\n",
    "X_test = test_tfidf\n",
    "\n",
    "y_train = df_train['classes_bin']\n",
    "y_test = df_val[\"classes_bin\"]"
   ]
  },
  {
   "cell_type": "code",
   "execution_count": 37,
   "id": "b55af83f",
   "metadata": {},
   "outputs": [],
   "source": [
    "Y_pre = df_train['Label']\n",
    "target_names = list(set(Y_pre))"
   ]
  },
  {
   "cell_type": "code",
   "execution_count": 38,
   "id": "8683a063",
   "metadata": {
    "scrolled": true
   },
   "outputs": [
    {
     "data": {
      "text/plain": [
       "['Surprise', 'Love', 'Anger', 'Joy', 'Sadness', 'Fear']"
      ]
     },
     "execution_count": 38,
     "metadata": {},
     "output_type": "execute_result"
    }
   ],
   "source": [
    "target_names"
   ]
  },
  {
   "cell_type": "code",
   "execution_count": 39,
   "id": "81f576ca",
   "metadata": {},
   "outputs": [
    {
     "data": {
      "text/plain": [
       "<18420x2947 sparse matrix of type '<class 'numpy.float64'>'\n",
       "\twith 94293 stored elements in Compressed Sparse Row format>"
      ]
     },
     "execution_count": 39,
     "metadata": {},
     "output_type": "execute_result"
    }
   ],
   "source": [
    "X_train"
   ]
  },
  {
   "cell_type": "code",
   "execution_count": 40,
   "id": "7317b086",
   "metadata": {},
   "outputs": [
    {
     "data": {
      "text/plain": [
       "0        4\n",
       "1        4\n",
       "2        0\n",
       "3        4\n",
       "4        2\n",
       "        ..\n",
       "18415    2\n",
       "18416    4\n",
       "18417    5\n",
       "18418    4\n",
       "18419    0\n",
       "Name: classes_bin, Length: 18420, dtype: int32"
      ]
     },
     "execution_count": 40,
     "metadata": {},
     "output_type": "execute_result"
    }
   ],
   "source": [
    "y_train"
   ]
  },
  {
   "cell_type": "code",
   "execution_count": 41,
   "id": "8d6fa472",
   "metadata": {},
   "outputs": [],
   "source": [
    "from sklearn.metrics import classification_report\n",
    "from sklearn.metrics import confusion_matrix, accuracy_score\n",
    "from sklearn.model_selection import RandomizedSearchCV "
   ]
  },
  {
   "cell_type": "code",
   "execution_count": 42,
   "id": "3bae7e2d",
   "metadata": {},
   "outputs": [],
   "source": [
    "import seaborn as sn"
   ]
  },
  {
   "cell_type": "markdown",
   "id": "7b679e21",
   "metadata": {},
   "source": [
    "# Naive Bayes"
   ]
  },
  {
   "cell_type": "code",
   "execution_count": 43,
   "id": "98e17d16",
   "metadata": {},
   "outputs": [],
   "source": [
    "from sklearn.naive_bayes import MultinomialNB"
   ]
  },
  {
   "cell_type": "code",
   "execution_count": 44,
   "id": "24f8b525",
   "metadata": {},
   "outputs": [
    {
     "name": "stdout",
     "output_type": "stream",
     "text": [
      "Test set accuracy 0.4504152418172936\n",
      "              precision    recall  f1-score   support\n",
      "\n",
      "    Surprise       0.47      0.16      0.24       362\n",
      "        Love       0.00      0.00      0.00        20\n",
      "       Anger       0.43      0.85      0.57       743\n",
      "         Joy       0.55      0.16      0.24       414\n",
      "     Sadness       0.49      0.40      0.44       429\n",
      "        Fear       0.00      0.00      0.00        79\n",
      "\n",
      "    accuracy                           0.45      2047\n",
      "   macro avg       0.32      0.26      0.25      2047\n",
      "weighted avg       0.45      0.45      0.39      2047\n",
      "\n"
     ]
    },
    {
     "data": {
      "image/png": "[encoded data removed]",
      "text/plain": [
       "<Figure size 2200x1200 with 2 Axes>"
      ]
     },
     "metadata": {},
     "output_type": "display_data"
    }
   ],
   "source": [
    "NBclassifer = MultinomialNB()\n",
    "NBclassifer.fit(X_train, y_train)\n",
    "y_pred = NBclassifer.predict(X_test)\n",
    "print('Test set accuracy %s' % accuracy_score(y_test, y_pred))\n",
    "cr = classification_report(y_test, y_pred, target_names=target_names)\n",
    "print(cr)\n",
    "\n",
    "\n",
    "# ------------------------------------------------------------------------------ #\n",
    "\n",
    "cm = confusion_matrix(y_test, y_pred)\n",
    "cm = (cm.T / cm.astype(float).sum(axis=1)).T\n",
    "\n",
    "df_cm = pd.DataFrame(cm, range(len(target_names)), range(len(target_names)))\n",
    "with sn.axes_style(\"white\"):\n",
    "    plt.figure(figsize = (22,12))\n",
    "    ax = sn.heatmap(df_cm, annot=True, xticklabels=target_names, yticklabels=target_names, vmax=1,  cmap=sn.cubehelix_palette(10))\n",
    "    ax.set_xticklabels(ax.get_xticklabels(), rotation=0)\n",
    "    fig = ax.get_figure()\n",
    "  "
   ]
  },
  {
   "cell_type": "code",
   "execution_count": 45,
   "id": "120c7e82",
   "metadata": {},
   "outputs": [
    {
     "data": {
      "text/plain": [
       "{'alpha': 1.0, 'class_prior': None, 'fit_prior': True, 'force_alpha': 'warn'}"
      ]
     },
     "execution_count": 45,
     "metadata": {},
     "output_type": "execute_result"
    }
   ],
   "source": [
    "NBclassifer.get_params()"
   ]
  },
  {
   "cell_type": "markdown",
   "id": "1592de01",
   "metadata": {},
   "source": [
    "# Support Vector Machine"
   ]
  },
  {
   "cell_type": "code",
   "execution_count": 46,
   "id": "6a026e16",
   "metadata": {},
   "outputs": [],
   "source": [
    "from sklearn.svm import SVC\n"
   ]
  },
  {
   "cell_type": "code",
   "execution_count": 47,
   "id": "8f2f823e",
   "metadata": {},
   "outputs": [
    {
     "name": "stdout",
     "output_type": "stream",
     "text": [
      "Test set accuracy 0.4738641914997557\n",
      "              precision    recall  f1-score   support\n",
      "\n",
      "    Surprise       0.46      0.32      0.38       362\n",
      "        Love       0.00      0.00      0.00        20\n",
      "       Anger       0.46      0.70      0.56       743\n",
      "         Joy       0.49      0.27      0.35       414\n",
      "     Sadness       0.49      0.52      0.50       429\n",
      "        Fear       0.67      0.03      0.05        79\n",
      "\n",
      "    accuracy                           0.47      2047\n",
      "   macro avg       0.43      0.30      0.31      2047\n",
      "weighted avg       0.48      0.47      0.45      2047\n",
      "\n"
     ]
    },
    {
     "data": {
      "image/png": "[encoded data removed]",
      "text/plain": [
       "<Figure size 2200x1200 with 2 Axes>"
      ]
     },
     "metadata": {},
     "output_type": "display_data"
    }
   ],
   "source": [
    "SVMclassifer = SVC()\n",
    "SVMclassifer.fit(X_train, y_train)\n",
    "y_pred = SVMclassifer.predict(X_test)\n",
    "print('Test set accuracy %s' % accuracy_score(y_test, y_pred))\n",
    "cr = classification_report(y_test, y_pred, target_names=target_names)\n",
    "print(cr)\n",
    "\n",
    "# ------------------------------------------------------------------------------ #\n",
    "\n",
    "cm = confusion_matrix(y_test, y_pred)\n",
    "cm = (cm.T / cm.astype(float).sum(axis=1)).T\n",
    "\n",
    "df_cm = pd.DataFrame(cm, range(len(target_names)), range(len(target_names)))\n",
    "with sn.axes_style(\"white\"):\n",
    "    plt.figure(figsize = (22,12))\n",
    "    ax = sn.heatmap(df_cm, annot=True, xticklabels=target_names, yticklabels=target_names, vmax=1,  cmap=sn.cubehelix_palette(10))\n",
    "    ax.set_xticklabels(ax.get_xticklabels(), rotation=0)\n",
    "    fig = ax.get_figure()"
   ]
  },
  {
   "cell_type": "markdown",
   "id": "d7b24d1f",
   "metadata": {},
   "source": [
    "# XGBoost"
   ]
  },
  {
   "cell_type": "code",
   "execution_count": 48,
   "id": "59d93989",
   "metadata": {
    "scrolled": true
   },
   "outputs": [],
   "source": [
    "from xgboost import XGBClassifier"
   ]
  },
  {
   "cell_type": "code",
   "execution_count": 49,
   "id": "d24f497a",
   "metadata": {},
   "outputs": [
    {
     "name": "stdout",
     "output_type": "stream",
     "text": [
      "Test set accuracy 0.45530043966780653\n",
      "              precision    recall  f1-score   support\n",
      "\n",
      "    Surprise       0.43      0.27      0.33       362\n",
      "        Love       0.00      0.00      0.00        20\n",
      "       Anger       0.45      0.71      0.55       743\n",
      "         Joy       0.46      0.28      0.34       414\n",
      "     Sadness       0.50      0.43      0.46       429\n",
      "        Fear       0.40      0.05      0.09        79\n",
      "\n",
      "    accuracy                           0.46      2047\n",
      "   macro avg       0.37      0.29      0.30      2047\n",
      "weighted avg       0.45      0.46      0.43      2047\n",
      "\n"
     ]
    },
    {
     "data": {
      "image/png": "[encoded data removed]",
      "text/plain": [
       "<Figure size 2200x1200 with 2 Axes>"
      ]
     },
     "metadata": {},
     "output_type": "display_data"
    }
   ],
   "source": [
    "XGBclassifer = XGBClassifier()\n",
    "XGBclassifer.fit(X_train, y_train)\n",
    "y_pred = XGBclassifer.predict(X_test)\n",
    "print('Test set accuracy %s' % accuracy_score(y_test, y_pred))\n",
    "cr = classification_report(y_test, y_pred, target_names=target_names)\n",
    "print(cr)\n",
    "\n",
    "# ------------------------------------------------------------------------------ #\n",
    "\n",
    "cm = confusion_matrix(y_test, y_pred)\n",
    "cm = (cm.T / cm.astype(float).sum(axis=1)).T\n",
    "\n",
    "df_cm = pd.DataFrame(cm, range(len(target_names)), range(len(target_names)))\n",
    "with sn.axes_style(\"white\"):\n",
    "    plt.figure(figsize = (22,12))\n",
    "    ax = sn.heatmap(df_cm, annot=True, xticklabels=target_names, yticklabels=target_names, vmax=1,  cmap=sn.cubehelix_palette(10))\n",
    "    ax.set_xticklabels(ax.get_xticklabels(), rotation=0)\n",
    "    fig = ax.get_figure()\n"
   ]
  },
  {
   "cell_type": "markdown",
   "id": "a70e68cd",
   "metadata": {},
   "source": [
    "# Random Forest"
   ]
  },
  {
   "cell_type": "code",
   "execution_count": 50,
   "id": "c1d9399d",
   "metadata": {},
   "outputs": [],
   "source": [
    "from sklearn.ensemble import RandomForestClassifier"
   ]
  },
  {
   "cell_type": "code",
   "execution_count": 51,
   "id": "91d06868",
   "metadata": {},
   "outputs": [
    {
     "name": "stdout",
     "output_type": "stream",
     "text": [
      "Test set accuracy 0.44357596482657546\n",
      "              precision    recall  f1-score   support\n",
      "\n",
      "    Surprise       0.41      0.29      0.34       362\n",
      "        Love       0.00      0.00      0.00        20\n",
      "       Anger       0.45      0.68      0.54       743\n",
      "         Joy       0.40      0.22      0.29       414\n",
      "     Sadness       0.47      0.48      0.48       429\n",
      "        Fear       0.27      0.04      0.07        79\n",
      "\n",
      "    accuracy                           0.44      2047\n",
      "   macro avg       0.33      0.28      0.28      2047\n",
      "weighted avg       0.43      0.44      0.42      2047\n",
      "\n"
     ]
    },
    {
     "data": {
      "image/png": "[encoded data removed]",
      "text/plain": [
       "<Figure size 2200x1200 with 2 Axes>"
      ]
     },
     "metadata": {},
     "output_type": "display_data"
    }
   ],
   "source": [
    "RFclassifer = RandomForestClassifier()\n",
    "shapas = RFclassifer.fit(X_train, y_train)\n",
    "y_pred = RFclassifer.predict(X_test)\n",
    "print('Test set accuracy %s' % accuracy_score(y_test, y_pred))\n",
    "cr = classification_report(y_test, y_pred, target_names=target_names)\n",
    "print(cr)\n",
    "\n",
    "# ------------------------------------------------------------------------------ #\n",
    "\n",
    "cm = confusion_matrix(y_test, y_pred)\n",
    "cm = (cm.T / cm.astype(float).sum(axis=1)).T\n",
    "\n",
    "df_cm = pd.DataFrame(cm, range(len(target_names)), range(len(target_names)))\n",
    "with sn.axes_style(\"white\"):\n",
    "    plt.figure(figsize = (22,12))\n",
    "    ax = sn.heatmap(df_cm, annot=True, xticklabels=target_names, yticklabels=target_names, vmax=1,  cmap=sn.cubehelix_palette(10))\n",
    "    ax.set_xticklabels(ax.get_xticklabels(), rotation=0)\n",
    "    fig = ax.get_figure()\n",
    "  "
   ]
  },
  {
   "cell_type": "code",
   "execution_count": null,
   "id": "cfd4a0a3",
   "metadata": {},
   "outputs": [],
   "source": []
  }
 ],
 "metadata": {
  "kernelspec": {
   "display_name": "Python 3 (ipykernel)",
   "language": "python",
   "name": "python3"
  },
  "language_info": {
   "codemirror_mode": {
    "name": "ipython",
    "version": 3
   },
   "file_extension": ".py",
   "mimetype": "text/x-python",
   "name": "python",
   "nbconvert_exporter": "python",
   "pygments_lexer": "ipython3",
   "version": "3.9.17"
  }
 },
 "nbformat": 4,
 "nbformat_minor": 5
}
