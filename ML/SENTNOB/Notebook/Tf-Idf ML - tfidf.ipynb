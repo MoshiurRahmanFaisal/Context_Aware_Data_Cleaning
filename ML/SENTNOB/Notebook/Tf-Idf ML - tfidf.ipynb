{
 "cells": [
  {
   "cell_type": "code",
   "execution_count": 1,
   "id": "0356e1cf",
   "metadata": {},
   "outputs": [],
   "source": [
    "import pandas as pd\n",
    "import numpy as np\n",
    "from matplotlib import pyplot as plt\n",
    "import seaborn as sns\n",
    "import math\n",
    "from bnlp import NLTKTokenizer\n",
    "from sklearn.feature_extraction.text import TfidfVectorizer"
   ]
  },
  {
   "cell_type": "code",
   "execution_count": 2,
   "id": "7b6a9335",
   "metadata": {},
   "outputs": [],
   "source": [
    "df_train = pd.read_csv('F:/Context_Aware_Data_Cleaning_Deep/SENTNOB/Dataset/sentnob_train.csv')\n",
    "df_val = pd.read_csv('F:/Context_Aware_Data_Cleaning_Deep/SENTNOB/Dataset/sentnob_val.csv')"
   ]
  },
  {
   "cell_type": "code",
   "execution_count": 3,
   "id": "136eda95",
   "metadata": {},
   "outputs": [
    {
     "data": {
      "text/html": [
       "<div>\n",
       "<style scoped>\n",
       "    .dataframe tbody tr th:only-of-type {\n",
       "        vertical-align: middle;\n",
       "    }\n",
       "\n",
       "    .dataframe tbody tr th {\n",
       "        vertical-align: top;\n",
       "    }\n",
       "\n",
       "    .dataframe thead th {\n",
       "        text-align: right;\n",
       "    }\n",
       "</style>\n",
       "<table border=\"1\" class=\"dataframe\">\n",
       "  <thead>\n",
       "    <tr style=\"text-align: right;\">\n",
       "      <th></th>\n",
       "      <th>Data</th>\n",
       "      <th>Label</th>\n",
       "    </tr>\n",
       "  </thead>\n",
       "  <tbody>\n",
       "    <tr>\n",
       "      <th>0</th>\n",
       "      <td>মুগ্ধ হয়ে গেলাম মামু. আর তোমায় কি কমু. বলো তোম...</td>\n",
       "      <td>1</td>\n",
       "    </tr>\n",
       "    <tr>\n",
       "      <th>1</th>\n",
       "      <td>এই কুত্তার বাচ্চাদের জন্য দেশটা আজ এমন অবস্তায়...</td>\n",
       "      <td>2</td>\n",
       "    </tr>\n",
       "    <tr>\n",
       "      <th>2</th>\n",
       "      <td>ভাই আপনার কথাই যাদু রয়েছে</td>\n",
       "      <td>1</td>\n",
       "    </tr>\n",
       "    <tr>\n",
       "      <th>3</th>\n",
       "      <td>উওরটা আমার অনেক ভাল লেগেছে</td>\n",
       "      <td>1</td>\n",
       "    </tr>\n",
       "    <tr>\n",
       "      <th>4</th>\n",
       "      <td>আমার নিজের গাড়ী নিয়ে কি সাজেক যেতে পারবো না ?...</td>\n",
       "      <td>0</td>\n",
       "    </tr>\n",
       "    <tr>\n",
       "      <th>...</th>\n",
       "      <td>...</td>\n",
       "      <td>...</td>\n",
       "    </tr>\n",
       "    <tr>\n",
       "      <th>12570</th>\n",
       "      <td>বর্ডারে অনেক লেট হয়ে যাওয়াতে আমরা জিপে করে চলে...</td>\n",
       "      <td>1</td>\n",
       "    </tr>\n",
       "    <tr>\n",
       "      <th>12571</th>\n",
       "      <td>আমার সোনার বাংলাতে এমন রক্ষক নামের ভক্ষকের কোন...</td>\n",
       "      <td>2</td>\n",
       "    </tr>\n",
       "    <tr>\n",
       "      <th>12572</th>\n",
       "      <td>ওনারা এত হাইজিনিক ও এত সুন্দর পরিবেশে রান্না ক...</td>\n",
       "      <td>1</td>\n",
       "    </tr>\n",
       "    <tr>\n",
       "      <th>12573</th>\n",
       "      <td>বাংলাদেশ আমরা পুলিশ চাই না এই ধরনে পুলিশ দরকার...</td>\n",
       "      <td>2</td>\n",
       "    </tr>\n",
       "    <tr>\n",
       "      <th>12574</th>\n",
       "      <td>বসুন্ধরা শাখার হাজি বিরিয়ানি একবারেই ফালতু</td>\n",
       "      <td>2</td>\n",
       "    </tr>\n",
       "  </tbody>\n",
       "</table>\n",
       "<p>12575 rows × 2 columns</p>\n",
       "</div>"
      ],
      "text/plain": [
       "                                                    Data  Label\n",
       "0      মুগ্ধ হয়ে গেলাম মামু. আর তোমায় কি কমু. বলো তোম...      1\n",
       "1      এই কুত্তার বাচ্চাদের জন্য দেশটা আজ এমন অবস্তায়...      2\n",
       "2                              ভাই আপনার কথাই যাদু রয়েছে      1\n",
       "3                            উওরটা আমার অনেক ভাল লেগেছে       1\n",
       "4      আমার নিজের গাড়ী নিয়ে কি সাজেক যেতে পারবো না ?...      0\n",
       "...                                                  ...    ...\n",
       "12570  বর্ডারে অনেক লেট হয়ে যাওয়াতে আমরা জিপে করে চলে...      1\n",
       "12571  আমার সোনার বাংলাতে এমন রক্ষক নামের ভক্ষকের কোন...      2\n",
       "12572  ওনারা এত হাইজিনিক ও এত সুন্দর পরিবেশে রান্না ক...      1\n",
       "12573  বাংলাদেশ আমরা পুলিশ চাই না এই ধরনে পুলিশ দরকার...      2\n",
       "12574         বসুন্ধরা শাখার হাজি বিরিয়ানি একবারেই ফালতু      2\n",
       "\n",
       "[12575 rows x 2 columns]"
      ]
     },
     "execution_count": 3,
     "metadata": {},
     "output_type": "execute_result"
    }
   ],
   "source": [
    "df_train"
   ]
  },
  {
   "cell_type": "code",
   "execution_count": 4,
   "id": "caecabfd",
   "metadata": {},
   "outputs": [
    {
     "data": {
      "text/html": [
       "<div>\n",
       "<style scoped>\n",
       "    .dataframe tbody tr th:only-of-type {\n",
       "        vertical-align: middle;\n",
       "    }\n",
       "\n",
       "    .dataframe tbody tr th {\n",
       "        vertical-align: top;\n",
       "    }\n",
       "\n",
       "    .dataframe thead tr th {\n",
       "        text-align: left;\n",
       "    }\n",
       "\n",
       "    .dataframe thead tr:last-of-type th {\n",
       "        text-align: right;\n",
       "    }\n",
       "</style>\n",
       "<table border=\"1\" class=\"dataframe\">\n",
       "  <thead>\n",
       "    <tr>\n",
       "      <th></th>\n",
       "      <th colspan=\"4\" halign=\"left\">Data</th>\n",
       "    </tr>\n",
       "    <tr>\n",
       "      <th></th>\n",
       "      <th>count</th>\n",
       "      <th>unique</th>\n",
       "      <th>top</th>\n",
       "      <th>freq</th>\n",
       "    </tr>\n",
       "    <tr>\n",
       "      <th>Label</th>\n",
       "      <th></th>\n",
       "      <th></th>\n",
       "      <th></th>\n",
       "      <th></th>\n",
       "    </tr>\n",
       "  </thead>\n",
       "  <tbody>\n",
       "    <tr>\n",
       "      <th>0</th>\n",
       "      <td>2894</td>\n",
       "      <td>2809</td>\n",
       "      <td>প্রেমেণ্ট ভিসা নিশ্চিত হওয়ার পরে , অগ্রীম কোনো...</td>\n",
       "      <td>3</td>\n",
       "    </tr>\n",
       "    <tr>\n",
       "      <th>1</th>\n",
       "      <td>5133</td>\n",
       "      <td>4986</td>\n",
       "      <td>আমি কাউকে শুধু ধন্যবাদ দিতে চাই না , এতটুকু বল...</td>\n",
       "      <td>3</td>\n",
       "    </tr>\n",
       "    <tr>\n",
       "      <th>2</th>\n",
       "      <td>4548</td>\n",
       "      <td>4350</td>\n",
       "      <td>কুত্তারবাচ্ছা , তোর জন্মই ত পতিতালয়ে । তা না হ...</td>\n",
       "      <td>3</td>\n",
       "    </tr>\n",
       "  </tbody>\n",
       "</table>\n",
       "</div>"
      ],
      "text/plain": [
       "       Data                                                               \n",
       "      count unique                                                top freq\n",
       "Label                                                                     \n",
       "0      2894   2809  প্রেমেণ্ট ভিসা নিশ্চিত হওয়ার পরে , অগ্রীম কোনো...    3\n",
       "1      5133   4986  আমি কাউকে শুধু ধন্যবাদ দিতে চাই না , এতটুকু বল...    3\n",
       "2      4548   4350  কুত্তারবাচ্ছা , তোর জন্মই ত পতিতালয়ে । তা না হ...    3"
      ]
     },
     "execution_count": 4,
     "metadata": {},
     "output_type": "execute_result"
    }
   ],
   "source": [
    "df_train.groupby(\"Label\").describe()"
   ]
  },
  {
   "cell_type": "code",
   "execution_count": 5,
   "id": "6ca6a7fe",
   "metadata": {},
   "outputs": [],
   "source": [
    "from sklearn.feature_extraction.text import CountVectorizer\n",
    "from sklearn.feature_extraction.text import TfidfTransformer\n",
    "from sklearn.preprocessing import LabelBinarizer"
   ]
  },
  {
   "cell_type": "code",
   "execution_count": 6,
   "id": "9ebb030d",
   "metadata": {},
   "outputs": [],
   "source": [
    "df_train['Label'] = df_train['Label'].replace({0: 'Neutral', 1: 'Positive', 2: 'Negative'})\n",
    "df_val['Label'] = df_val['Label'].replace({0: 'Neutral', 1: 'Positive', 2: 'Negative'})"
   ]
  },
  {
   "cell_type": "code",
   "execution_count": 7,
   "id": "80dc5abe",
   "metadata": {
    "scrolled": true
   },
   "outputs": [],
   "source": [
    "count_vect = CountVectorizer() # for converting text into count-based vectors\n",
    "tfidf_transformer = TfidfTransformer() # for converting text into tf-idf-based vectors\n",
    "lb = LabelBinarizer() # object for making class-labels into binary numbers"
   ]
  },
  {
   "cell_type": "code",
   "execution_count": 8,
   "id": "9bc17df6",
   "metadata": {},
   "outputs": [
    {
     "data": {
      "text/plain": [
       "Index(['Data', 'Label'], dtype='object')"
      ]
     },
     "execution_count": 8,
     "metadata": {},
     "output_type": "execute_result"
    }
   ],
   "source": [
    "df_train.columns"
   ]
  },
  {
   "cell_type": "code",
   "execution_count": 9,
   "id": "35498f56",
   "metadata": {},
   "outputs": [
    {
     "data": {
      "text/html": [
       "<div>\n",
       "<style scoped>\n",
       "    .dataframe tbody tr th:only-of-type {\n",
       "        vertical-align: middle;\n",
       "    }\n",
       "\n",
       "    .dataframe tbody tr th {\n",
       "        vertical-align: top;\n",
       "    }\n",
       "\n",
       "    .dataframe thead th {\n",
       "        text-align: right;\n",
       "    }\n",
       "</style>\n",
       "<table border=\"1\" class=\"dataframe\">\n",
       "  <thead>\n",
       "    <tr style=\"text-align: right;\">\n",
       "      <th></th>\n",
       "      <th>classes_bin</th>\n",
       "      <th>Label</th>\n",
       "    </tr>\n",
       "  </thead>\n",
       "  <tbody>\n",
       "    <tr>\n",
       "      <th>0</th>\n",
       "      <td>2</td>\n",
       "      <td>Positive</td>\n",
       "    </tr>\n",
       "    <tr>\n",
       "      <th>1</th>\n",
       "      <td>0</td>\n",
       "      <td>Negative</td>\n",
       "    </tr>\n",
       "    <tr>\n",
       "      <th>2</th>\n",
       "      <td>2</td>\n",
       "      <td>Positive</td>\n",
       "    </tr>\n",
       "    <tr>\n",
       "      <th>3</th>\n",
       "      <td>2</td>\n",
       "      <td>Positive</td>\n",
       "    </tr>\n",
       "    <tr>\n",
       "      <th>4</th>\n",
       "      <td>1</td>\n",
       "      <td>Neutral</td>\n",
       "    </tr>\n",
       "    <tr>\n",
       "      <th>5</th>\n",
       "      <td>1</td>\n",
       "      <td>Neutral</td>\n",
       "    </tr>\n",
       "    <tr>\n",
       "      <th>6</th>\n",
       "      <td>0</td>\n",
       "      <td>Negative</td>\n",
       "    </tr>\n",
       "    <tr>\n",
       "      <th>7</th>\n",
       "      <td>2</td>\n",
       "      <td>Positive</td>\n",
       "    </tr>\n",
       "    <tr>\n",
       "      <th>8</th>\n",
       "      <td>1</td>\n",
       "      <td>Neutral</td>\n",
       "    </tr>\n",
       "    <tr>\n",
       "      <th>9</th>\n",
       "      <td>1</td>\n",
       "      <td>Neutral</td>\n",
       "    </tr>\n",
       "    <tr>\n",
       "      <th>10</th>\n",
       "      <td>0</td>\n",
       "      <td>Negative</td>\n",
       "    </tr>\n",
       "  </tbody>\n",
       "</table>\n",
       "</div>"
      ],
      "text/plain": [
       "    classes_bin     Label\n",
       "0             2  Positive\n",
       "1             0  Negative\n",
       "2             2  Positive\n",
       "3             2  Positive\n",
       "4             1   Neutral\n",
       "5             1   Neutral\n",
       "6             0  Negative\n",
       "7             2  Positive\n",
       "8             1   Neutral\n",
       "9             1   Neutral\n",
       "10            0  Negative"
      ]
     },
     "execution_count": 9,
     "metadata": {},
     "output_type": "execute_result"
    }
   ],
   "source": [
    "from sklearn.preprocessing import LabelEncoder\n",
    "\n",
    "lb_make = LabelEncoder()\n",
    "df_train[\"classes_bin\"] = lb_make.fit_transform(df_train[\"Label\"])\n",
    "df_val[\"classes_bin\"] = lb_make.fit_transform(df_val[\"Label\"])\n",
    "df_train[[\"classes_bin\", \"Label\"]].head(11)"
   ]
  },
  {
   "cell_type": "code",
   "execution_count": 10,
   "id": "e80e1060",
   "metadata": {},
   "outputs": [
    {
     "data": {
      "text/html": [
       "<div>\n",
       "<style scoped>\n",
       "    .dataframe tbody tr th:only-of-type {\n",
       "        vertical-align: middle;\n",
       "    }\n",
       "\n",
       "    .dataframe tbody tr th {\n",
       "        vertical-align: top;\n",
       "    }\n",
       "\n",
       "    .dataframe thead th {\n",
       "        text-align: right;\n",
       "    }\n",
       "</style>\n",
       "<table border=\"1\" class=\"dataframe\">\n",
       "  <thead>\n",
       "    <tr style=\"text-align: right;\">\n",
       "      <th></th>\n",
       "      <th>Data</th>\n",
       "      <th>Label</th>\n",
       "      <th>classes_bin</th>\n",
       "    </tr>\n",
       "  </thead>\n",
       "  <tbody>\n",
       "    <tr>\n",
       "      <th>0</th>\n",
       "      <td>মুগ্ধ হয়ে গেলাম মামু. আর তোমায় কি কমু. বলো তোম...</td>\n",
       "      <td>Positive</td>\n",
       "      <td>2</td>\n",
       "    </tr>\n",
       "    <tr>\n",
       "      <th>1</th>\n",
       "      <td>এই কুত্তার বাচ্চাদের জন্য দেশটা আজ এমন অবস্তায়...</td>\n",
       "      <td>Negative</td>\n",
       "      <td>0</td>\n",
       "    </tr>\n",
       "    <tr>\n",
       "      <th>2</th>\n",
       "      <td>ভাই আপনার কথাই যাদু রয়েছে</td>\n",
       "      <td>Positive</td>\n",
       "      <td>2</td>\n",
       "    </tr>\n",
       "    <tr>\n",
       "      <th>3</th>\n",
       "      <td>উওরটা আমার অনেক ভাল লেগেছে</td>\n",
       "      <td>Positive</td>\n",
       "      <td>2</td>\n",
       "    </tr>\n",
       "    <tr>\n",
       "      <th>4</th>\n",
       "      <td>আমার নিজের গাড়ী নিয়ে কি সাজেক যেতে পারবো না ?...</td>\n",
       "      <td>Neutral</td>\n",
       "      <td>1</td>\n",
       "    </tr>\n",
       "    <tr>\n",
       "      <th>...</th>\n",
       "      <td>...</td>\n",
       "      <td>...</td>\n",
       "      <td>...</td>\n",
       "    </tr>\n",
       "    <tr>\n",
       "      <th>12570</th>\n",
       "      <td>বর্ডারে অনেক লেট হয়ে যাওয়াতে আমরা জিপে করে চলে...</td>\n",
       "      <td>Positive</td>\n",
       "      <td>2</td>\n",
       "    </tr>\n",
       "    <tr>\n",
       "      <th>12571</th>\n",
       "      <td>আমার সোনার বাংলাতে এমন রক্ষক নামের ভক্ষকের কোন...</td>\n",
       "      <td>Negative</td>\n",
       "      <td>0</td>\n",
       "    </tr>\n",
       "    <tr>\n",
       "      <th>12572</th>\n",
       "      <td>ওনারা এত হাইজিনিক ও এত সুন্দর পরিবেশে রান্না ক...</td>\n",
       "      <td>Positive</td>\n",
       "      <td>2</td>\n",
       "    </tr>\n",
       "    <tr>\n",
       "      <th>12573</th>\n",
       "      <td>বাংলাদেশ আমরা পুলিশ চাই না এই ধরনে পুলিশ দরকার...</td>\n",
       "      <td>Negative</td>\n",
       "      <td>0</td>\n",
       "    </tr>\n",
       "    <tr>\n",
       "      <th>12574</th>\n",
       "      <td>বসুন্ধরা শাখার হাজি বিরিয়ানি একবারেই ফালতু</td>\n",
       "      <td>Negative</td>\n",
       "      <td>0</td>\n",
       "    </tr>\n",
       "  </tbody>\n",
       "</table>\n",
       "<p>12575 rows × 3 columns</p>\n",
       "</div>"
      ],
      "text/plain": [
       "                                                    Data     Label  \\\n",
       "0      মুগ্ধ হয়ে গেলাম মামু. আর তোমায় কি কমু. বলো তোম...  Positive   \n",
       "1      এই কুত্তার বাচ্চাদের জন্য দেশটা আজ এমন অবস্তায়...  Negative   \n",
       "2                              ভাই আপনার কথাই যাদু রয়েছে  Positive   \n",
       "3                            উওরটা আমার অনেক ভাল লেগেছে   Positive   \n",
       "4      আমার নিজের গাড়ী নিয়ে কি সাজেক যেতে পারবো না ?...   Neutral   \n",
       "...                                                  ...       ...   \n",
       "12570  বর্ডারে অনেক লেট হয়ে যাওয়াতে আমরা জিপে করে চলে...  Positive   \n",
       "12571  আমার সোনার বাংলাতে এমন রক্ষক নামের ভক্ষকের কোন...  Negative   \n",
       "12572  ওনারা এত হাইজিনিক ও এত সুন্দর পরিবেশে রান্না ক...  Positive   \n",
       "12573  বাংলাদেশ আমরা পুলিশ চাই না এই ধরনে পুলিশ দরকার...  Negative   \n",
       "12574         বসুন্ধরা শাখার হাজি বিরিয়ানি একবারেই ফালতু  Negative   \n",
       "\n",
       "       classes_bin  \n",
       "0                2  \n",
       "1                0  \n",
       "2                2  \n",
       "3                2  \n",
       "4                1  \n",
       "...            ...  \n",
       "12570            2  \n",
       "12571            0  \n",
       "12572            2  \n",
       "12573            0  \n",
       "12574            0  \n",
       "\n",
       "[12575 rows x 3 columns]"
      ]
     },
     "execution_count": 10,
     "metadata": {},
     "output_type": "execute_result"
    }
   ],
   "source": [
    "df_train"
   ]
  },
  {
   "cell_type": "code",
   "execution_count": 11,
   "id": "bc843778",
   "metadata": {},
   "outputs": [
    {
     "data": {
      "text/html": [
       "<div>\n",
       "<style scoped>\n",
       "    .dataframe tbody tr th:only-of-type {\n",
       "        vertical-align: middle;\n",
       "    }\n",
       "\n",
       "    .dataframe tbody tr th {\n",
       "        vertical-align: top;\n",
       "    }\n",
       "\n",
       "    .dataframe thead tr th {\n",
       "        text-align: left;\n",
       "    }\n",
       "\n",
       "    .dataframe thead tr:last-of-type th {\n",
       "        text-align: right;\n",
       "    }\n",
       "</style>\n",
       "<table border=\"1\" class=\"dataframe\">\n",
       "  <thead>\n",
       "    <tr>\n",
       "      <th></th>\n",
       "      <th colspan=\"8\" halign=\"left\">classes_bin</th>\n",
       "    </tr>\n",
       "    <tr>\n",
       "      <th></th>\n",
       "      <th>count</th>\n",
       "      <th>mean</th>\n",
       "      <th>std</th>\n",
       "      <th>min</th>\n",
       "      <th>25%</th>\n",
       "      <th>50%</th>\n",
       "      <th>75%</th>\n",
       "      <th>max</th>\n",
       "    </tr>\n",
       "    <tr>\n",
       "      <th>Label</th>\n",
       "      <th></th>\n",
       "      <th></th>\n",
       "      <th></th>\n",
       "      <th></th>\n",
       "      <th></th>\n",
       "      <th></th>\n",
       "      <th></th>\n",
       "      <th></th>\n",
       "    </tr>\n",
       "  </thead>\n",
       "  <tbody>\n",
       "    <tr>\n",
       "      <th>Negative</th>\n",
       "      <td>4548.0</td>\n",
       "      <td>0.0</td>\n",
       "      <td>0.0</td>\n",
       "      <td>0.0</td>\n",
       "      <td>0.0</td>\n",
       "      <td>0.0</td>\n",
       "      <td>0.0</td>\n",
       "      <td>0.0</td>\n",
       "    </tr>\n",
       "    <tr>\n",
       "      <th>Neutral</th>\n",
       "      <td>2894.0</td>\n",
       "      <td>1.0</td>\n",
       "      <td>0.0</td>\n",
       "      <td>1.0</td>\n",
       "      <td>1.0</td>\n",
       "      <td>1.0</td>\n",
       "      <td>1.0</td>\n",
       "      <td>1.0</td>\n",
       "    </tr>\n",
       "    <tr>\n",
       "      <th>Positive</th>\n",
       "      <td>5133.0</td>\n",
       "      <td>2.0</td>\n",
       "      <td>0.0</td>\n",
       "      <td>2.0</td>\n",
       "      <td>2.0</td>\n",
       "      <td>2.0</td>\n",
       "      <td>2.0</td>\n",
       "      <td>2.0</td>\n",
       "    </tr>\n",
       "  </tbody>\n",
       "</table>\n",
       "</div>"
      ],
      "text/plain": [
       "         classes_bin                                   \n",
       "               count mean  std  min  25%  50%  75%  max\n",
       "Label                                                  \n",
       "Negative      4548.0  0.0  0.0  0.0  0.0  0.0  0.0  0.0\n",
       "Neutral       2894.0  1.0  0.0  1.0  1.0  1.0  1.0  1.0\n",
       "Positive      5133.0  2.0  0.0  2.0  2.0  2.0  2.0  2.0"
      ]
     },
     "execution_count": 11,
     "metadata": {},
     "output_type": "execute_result"
    }
   ],
   "source": [
    "df_train.groupby(\"Label\").describe()"
   ]
  },
  {
   "cell_type": "code",
   "execution_count": 12,
   "id": "18e15101",
   "metadata": {},
   "outputs": [],
   "source": [
    "df_train['Data'] = df_train['Data'].astype(str)\n",
    "df_val['Data'] = df_val['Data'].astype(str)"
   ]
  },
  {
   "cell_type": "code",
   "execution_count": 13,
   "id": "a4e1de14",
   "metadata": {},
   "outputs": [
    {
     "name": "stdout",
     "output_type": "stream",
     "text": [
      "Less important words:\n",
      "100000    0.000027\n",
      "116       0.000017\n",
      "117       0.000017\n",
      "140       0.000029\n",
      "188       0.000017\n",
      "            ...   \n",
      "৫২        0.000013\n",
      "৭৮        0.000030\n",
      "৭৯২১      0.000028\n",
      "৮৫        0.000028\n",
      "৮৯        0.000030\n",
      "Length: 239, dtype: float64\n"
     ]
    }
   ],
   "source": [
    "# Initialize TF-IDF Vectorizer\n",
    "tfidf = TfidfVectorizer()\n",
    "\n",
    "# Fit and transform the text data\n",
    "tfidf_matrix = tfidf.fit_transform(df_train['Data'])\n",
    "\n",
    "# Get feature names (words)\n",
    "feature_names = tfidf.get_feature_names_out()\n",
    "\n",
    "# Create a DataFrame of TF-IDF scores\n",
    "tfidf_df = pd.DataFrame(tfidf_matrix.toarray(), columns=feature_names)\n",
    "\n",
    "# Find mean TF-IDF score for each word across all documents\n",
    "word_scores = tfidf_df.mean(axis=0)\n",
    "\n",
    "# Set a threshold to identify less important words (adjust threshold as needed)\n",
    "threshold = 0.00003 # For example, you can set a threshold value\n",
    "\n",
    "# Get less important words based on threshold\n",
    "less_important_words = word_scores[word_scores < threshold]\n",
    "\n",
    "# Display words that will be removed\n",
    "print(\"Less important words:\")\n",
    "print(less_important_words)"
   ]
  },
  {
   "cell_type": "code",
   "execution_count": 14,
   "id": "2ccc5186",
   "metadata": {},
   "outputs": [],
   "source": [
    "# Function to remove less important words\n",
    "def remove_less_important_words(text):\n",
    "    words = text.split()\n",
    "    filtered_words = [word for word in words if word not in less_important_words]\n",
    "    return ' '.join(filtered_words)"
   ]
  },
  {
   "cell_type": "code",
   "execution_count": 15,
   "id": "cfa7ba42",
   "metadata": {},
   "outputs": [],
   "source": [
    "df_train['Data'] = df_train['Data'].apply(remove_less_important_words)\n",
    "df_val['Data'] = df_val['Data'].apply(remove_less_important_words)"
   ]
  },
  {
   "cell_type": "code",
   "execution_count": 16,
   "id": "6416bc9d",
   "metadata": {},
   "outputs": [],
   "source": [
    "df_train.dropna(inplace=True)"
   ]
  },
  {
   "cell_type": "code",
   "execution_count": 17,
   "id": "9fc7e0ac",
   "metadata": {},
   "outputs": [
    {
     "data": {
      "text/html": [
       "<div>\n",
       "<style scoped>\n",
       "    .dataframe tbody tr th:only-of-type {\n",
       "        vertical-align: middle;\n",
       "    }\n",
       "\n",
       "    .dataframe tbody tr th {\n",
       "        vertical-align: top;\n",
       "    }\n",
       "\n",
       "    .dataframe thead th {\n",
       "        text-align: right;\n",
       "    }\n",
       "</style>\n",
       "<table border=\"1\" class=\"dataframe\">\n",
       "  <thead>\n",
       "    <tr style=\"text-align: right;\">\n",
       "      <th></th>\n",
       "      <th>Data</th>\n",
       "      <th>Label</th>\n",
       "      <th>classes_bin</th>\n",
       "    </tr>\n",
       "  </thead>\n",
       "  <tbody>\n",
       "    <tr>\n",
       "      <th>0</th>\n",
       "      <td>মুগ্ধ হয়ে গেলাম মামু. আর তোমায় কি কমু. বলো তোম...</td>\n",
       "      <td>Positive</td>\n",
       "      <td>2</td>\n",
       "    </tr>\n",
       "    <tr>\n",
       "      <th>1</th>\n",
       "      <td>এই কুত্তার বাচ্চাদের জন্য দেশটা আজ এমন অবস্তায়...</td>\n",
       "      <td>Negative</td>\n",
       "      <td>0</td>\n",
       "    </tr>\n",
       "    <tr>\n",
       "      <th>2</th>\n",
       "      <td>ভাই আপনার কথাই যাদু রয়েছে</td>\n",
       "      <td>Positive</td>\n",
       "      <td>2</td>\n",
       "    </tr>\n",
       "    <tr>\n",
       "      <th>3</th>\n",
       "      <td>উওরটা আমার অনেক ভাল লেগেছে</td>\n",
       "      <td>Positive</td>\n",
       "      <td>2</td>\n",
       "    </tr>\n",
       "    <tr>\n",
       "      <th>4</th>\n",
       "      <td>আমার নিজের গাড়ী নিয়ে কি সাজেক যেতে পারবো না ?...</td>\n",
       "      <td>Neutral</td>\n",
       "      <td>1</td>\n",
       "    </tr>\n",
       "    <tr>\n",
       "      <th>...</th>\n",
       "      <td>...</td>\n",
       "      <td>...</td>\n",
       "      <td>...</td>\n",
       "    </tr>\n",
       "    <tr>\n",
       "      <th>12570</th>\n",
       "      <td>বর্ডারে অনেক লেট হয়ে যাওয়াতে আমরা জিপে করে চলে...</td>\n",
       "      <td>Positive</td>\n",
       "      <td>2</td>\n",
       "    </tr>\n",
       "    <tr>\n",
       "      <th>12571</th>\n",
       "      <td>আমার সোনার বাংলাতে এমন রক্ষক নামের ভক্ষকের কোন...</td>\n",
       "      <td>Negative</td>\n",
       "      <td>0</td>\n",
       "    </tr>\n",
       "    <tr>\n",
       "      <th>12572</th>\n",
       "      <td>ওনারা এত হাইজিনিক ও এত সুন্দর পরিবেশে রান্না ক...</td>\n",
       "      <td>Positive</td>\n",
       "      <td>2</td>\n",
       "    </tr>\n",
       "    <tr>\n",
       "      <th>12573</th>\n",
       "      <td>বাংলাদেশ আমরা পুলিশ চাই না এই ধরনে পুলিশ দরকার...</td>\n",
       "      <td>Negative</td>\n",
       "      <td>0</td>\n",
       "    </tr>\n",
       "    <tr>\n",
       "      <th>12574</th>\n",
       "      <td>বসুন্ধরা শাখার হাজি বিরিয়ানি একবারেই ফালতু</td>\n",
       "      <td>Negative</td>\n",
       "      <td>0</td>\n",
       "    </tr>\n",
       "  </tbody>\n",
       "</table>\n",
       "<p>12575 rows × 3 columns</p>\n",
       "</div>"
      ],
      "text/plain": [
       "                                                    Data     Label  \\\n",
       "0      মুগ্ধ হয়ে গেলাম মামু. আর তোমায় কি কমু. বলো তোম...  Positive   \n",
       "1      এই কুত্তার বাচ্চাদের জন্য দেশটা আজ এমন অবস্তায়...  Negative   \n",
       "2                              ভাই আপনার কথাই যাদু রয়েছে  Positive   \n",
       "3                             উওরটা আমার অনেক ভাল লেগেছে  Positive   \n",
       "4      আমার নিজের গাড়ী নিয়ে কি সাজেক যেতে পারবো না ?...   Neutral   \n",
       "...                                                  ...       ...   \n",
       "12570  বর্ডারে অনেক লেট হয়ে যাওয়াতে আমরা জিপে করে চলে...  Positive   \n",
       "12571  আমার সোনার বাংলাতে এমন রক্ষক নামের ভক্ষকের কোন...  Negative   \n",
       "12572  ওনারা এত হাইজিনিক ও এত সুন্দর পরিবেশে রান্না ক...  Positive   \n",
       "12573  বাংলাদেশ আমরা পুলিশ চাই না এই ধরনে পুলিশ দরকার...  Negative   \n",
       "12574         বসুন্ধরা শাখার হাজি বিরিয়ানি একবারেই ফালতু  Negative   \n",
       "\n",
       "       classes_bin  \n",
       "0                2  \n",
       "1                0  \n",
       "2                2  \n",
       "3                2  \n",
       "4                1  \n",
       "...            ...  \n",
       "12570            2  \n",
       "12571            0  \n",
       "12572            2  \n",
       "12573            0  \n",
       "12574            0  \n",
       "\n",
       "[12575 rows x 3 columns]"
      ]
     },
     "execution_count": 17,
     "metadata": {},
     "output_type": "execute_result"
    }
   ],
   "source": [
    "df_train"
   ]
  },
  {
   "cell_type": "code",
   "execution_count": 18,
   "id": "23fbb740",
   "metadata": {},
   "outputs": [],
   "source": [
    "train_text = df_train[\"Data\"]\n",
    "test_text= df_val[\"Data\"]"
   ]
  },
  {
   "cell_type": "code",
   "execution_count": 19,
   "id": "fb79c423",
   "metadata": {},
   "outputs": [
    {
     "data": {
      "text/plain": [
       "(12575, 3260)"
      ]
     },
     "execution_count": 19,
     "metadata": {},
     "output_type": "execute_result"
    }
   ],
   "source": [
    "train_counts = count_vect.fit_transform(train_text) # converting docs into vectors\n",
    "train_tfidf  = train_counts \n",
    "train_tfidf = tfidf_transformer.fit_transform(train_counts) # converting transformed vectors into tf-idf vectors\n",
    "train_tfidf.shape"
   ]
  },
  {
   "cell_type": "code",
   "execution_count": 20,
   "id": "b0533b9b",
   "metadata": {},
   "outputs": [
    {
     "data": {
      "text/plain": [
       "(1567, 3260)"
      ]
     },
     "execution_count": 20,
     "metadata": {},
     "output_type": "execute_result"
    }
   ],
   "source": [
    "test_counts = count_vect.transform(test_text) # converting docs into vectors\n",
    "test_tfidf  = test_counts \n",
    "test_tfidf = tfidf_transformer.transform(test_counts) # converting transformed vectors into tf-idf vectors\n",
    "test_tfidf.shape"
   ]
  },
  {
   "cell_type": "code",
   "execution_count": 21,
   "id": "18282b5d",
   "metadata": {},
   "outputs": [],
   "source": [
    "X_train = train_tfidf\n",
    "X_test = test_tfidf\n",
    "\n",
    "y_train = df_train['classes_bin']\n",
    "y_test = df_val[\"classes_bin\"]"
   ]
  },
  {
   "cell_type": "code",
   "execution_count": 22,
   "id": "b55af83f",
   "metadata": {},
   "outputs": [],
   "source": [
    "Y_pre = df_train['Label']\n",
    "target_names = list(set(Y_pre))"
   ]
  },
  {
   "cell_type": "code",
   "execution_count": 23,
   "id": "8683a063",
   "metadata": {
    "scrolled": true
   },
   "outputs": [
    {
     "data": {
      "text/plain": [
       "['Positive', 'Neutral', 'Negative']"
      ]
     },
     "execution_count": 23,
     "metadata": {},
     "output_type": "execute_result"
    }
   ],
   "source": [
    "target_names"
   ]
  },
  {
   "cell_type": "code",
   "execution_count": 24,
   "id": "81f576ca",
   "metadata": {},
   "outputs": [
    {
     "data": {
      "text/plain": [
       "<12575x3260 sparse matrix of type '<class 'numpy.float64'>'\n",
       "\twith 88677 stored elements in Compressed Sparse Row format>"
      ]
     },
     "execution_count": 24,
     "metadata": {},
     "output_type": "execute_result"
    }
   ],
   "source": [
    "X_train"
   ]
  },
  {
   "cell_type": "code",
   "execution_count": 25,
   "id": "7317b086",
   "metadata": {},
   "outputs": [
    {
     "data": {
      "text/plain": [
       "0        2\n",
       "1        0\n",
       "2        2\n",
       "3        2\n",
       "4        1\n",
       "        ..\n",
       "12570    2\n",
       "12571    0\n",
       "12572    2\n",
       "12573    0\n",
       "12574    0\n",
       "Name: classes_bin, Length: 12575, dtype: int32"
      ]
     },
     "execution_count": 25,
     "metadata": {},
     "output_type": "execute_result"
    }
   ],
   "source": [
    "y_train"
   ]
  },
  {
   "cell_type": "code",
   "execution_count": 26,
   "id": "8d6fa472",
   "metadata": {},
   "outputs": [],
   "source": [
    "from sklearn.metrics import classification_report\n",
    "from sklearn.metrics import confusion_matrix, accuracy_score\n",
    "from sklearn.model_selection import RandomizedSearchCV "
   ]
  },
  {
   "cell_type": "code",
   "execution_count": 27,
   "id": "3bae7e2d",
   "metadata": {},
   "outputs": [],
   "source": [
    "import seaborn as sn"
   ]
  },
  {
   "cell_type": "markdown",
   "id": "7b679e21",
   "metadata": {},
   "source": [
    "# Naive Bayes"
   ]
  },
  {
   "cell_type": "code",
   "execution_count": 28,
   "id": "98e17d16",
   "metadata": {},
   "outputs": [],
   "source": [
    "from sklearn.naive_bayes import MultinomialNB"
   ]
  },
  {
   "cell_type": "code",
   "execution_count": 29,
   "id": "24f8b525",
   "metadata": {},
   "outputs": [
    {
     "name": "stdout",
     "output_type": "stream",
     "text": [
      "Test set accuracy 0.5768985322271857\n",
      "              precision    recall  f1-score   support\n",
      "\n",
      "    Positive       0.61      0.66      0.64       590\n",
      "     Neutral       0.48      0.06      0.11       354\n",
      "    Negative       0.56      0.79      0.65       623\n",
      "\n",
      "    accuracy                           0.58      1567\n",
      "   macro avg       0.55      0.50      0.47      1567\n",
      "weighted avg       0.56      0.58      0.52      1567\n",
      "\n"
     ]
    },
    {
     "data": {
      "image/png": "[encoded data removed]",
      "text/plain": [
       "<Figure size 2200x1200 with 2 Axes>"
      ]
     },
     "metadata": {},
     "output_type": "display_data"
    }
   ],
   "source": [
    "NBclassifer = MultinomialNB()\n",
    "NBclassifer.fit(X_train, y_train)\n",
    "y_pred = NBclassifer.predict(X_test)\n",
    "print('Test set accuracy %s' % accuracy_score(y_test, y_pred))\n",
    "cr = classification_report(y_test, y_pred, target_names=target_names)\n",
    "print(cr)\n",
    "\n",
    "\n",
    "# ------------------------------------------------------------------------------ #\n",
    "\n",
    "cm = confusion_matrix(y_test, y_pred)\n",
    "cm = (cm.T / cm.astype(float).sum(axis=1)).T\n",
    "\n",
    "df_cm = pd.DataFrame(cm, range(len(target_names)), range(len(target_names)))\n",
    "with sn.axes_style(\"white\"):\n",
    "    plt.figure(figsize = (22,12))\n",
    "    ax = sn.heatmap(df_cm, annot=True, xticklabels=target_names, yticklabels=target_names, vmax=1,  cmap=sn.cubehelix_palette(10))\n",
    "    ax.set_xticklabels(ax.get_xticklabels(), rotation=0)\n",
    "    fig = ax.get_figure()\n",
    "  "
   ]
  },
  {
   "cell_type": "code",
   "execution_count": 30,
   "id": "120c7e82",
   "metadata": {},
   "outputs": [
    {
     "data": {
      "text/plain": [
       "{'alpha': 1.0, 'class_prior': None, 'fit_prior': True, 'force_alpha': 'warn'}"
      ]
     },
     "execution_count": 30,
     "metadata": {},
     "output_type": "execute_result"
    }
   ],
   "source": [
    "NBclassifer.get_params()"
   ]
  },
  {
   "cell_type": "markdown",
   "id": "1592de01",
   "metadata": {},
   "source": [
    "# Support Vector Machine"
   ]
  },
  {
   "cell_type": "code",
   "execution_count": 31,
   "id": "6a026e16",
   "metadata": {},
   "outputs": [],
   "source": [
    "from sklearn.svm import SVC\n"
   ]
  },
  {
   "cell_type": "code",
   "execution_count": 32,
   "id": "8f2f823e",
   "metadata": {},
   "outputs": [
    {
     "name": "stdout",
     "output_type": "stream",
     "text": [
      "Test set accuracy 0.6279514996809189\n",
      "              precision    recall  f1-score   support\n",
      "\n",
      "    Positive       0.64      0.71      0.67       590\n",
      "     Neutral       0.54      0.26      0.35       354\n",
      "    Negative       0.64      0.76      0.69       623\n",
      "\n",
      "    accuracy                           0.63      1567\n",
      "   macro avg       0.61      0.58      0.57      1567\n",
      "weighted avg       0.62      0.63      0.61      1567\n",
      "\n"
     ]
    },
    {
     "data": {
      "image/png": "[encoded data removed]",
      "text/plain": [
       "<Figure size 2200x1200 with 2 Axes>"
      ]
     },
     "metadata": {},
     "output_type": "display_data"
    }
   ],
   "source": [
    "SVMclassifer = SVC()\n",
    "SVMclassifer.fit(X_train, y_train)\n",
    "y_pred = SVMclassifer.predict(X_test)\n",
    "print('Test set accuracy %s' % accuracy_score(y_test, y_pred))\n",
    "cr = classification_report(y_test, y_pred, target_names=target_names)\n",
    "print(cr)\n",
    "\n",
    "# ------------------------------------------------------------------------------ #\n",
    "\n",
    "cm = confusion_matrix(y_test, y_pred)\n",
    "cm = (cm.T / cm.astype(float).sum(axis=1)).T\n",
    "\n",
    "df_cm = pd.DataFrame(cm, range(len(target_names)), range(len(target_names)))\n",
    "with sn.axes_style(\"white\"):\n",
    "    plt.figure(figsize = (22,12))\n",
    "    ax = sn.heatmap(df_cm, annot=True, xticklabels=target_names, yticklabels=target_names, vmax=1,  cmap=sn.cubehelix_palette(10))\n",
    "    ax.set_xticklabels(ax.get_xticklabels(), rotation=0)\n",
    "    fig = ax.get_figure()"
   ]
  },
  {
   "cell_type": "markdown",
   "id": "d7b24d1f",
   "metadata": {},
   "source": [
    "# XGBoost"
   ]
  },
  {
   "cell_type": "code",
   "execution_count": 33,
   "id": "59d93989",
   "metadata": {
    "scrolled": true
   },
   "outputs": [],
   "source": [
    "from xgboost import XGBClassifier"
   ]
  },
  {
   "cell_type": "code",
   "execution_count": 34,
   "id": "d24f497a",
   "metadata": {},
   "outputs": [
    {
     "name": "stdout",
     "output_type": "stream",
     "text": [
      "Test set accuracy 0.589661774090619\n",
      "              precision    recall  f1-score   support\n",
      "\n",
      "    Positive       0.59      0.73      0.65       590\n",
      "     Neutral       0.43      0.16      0.24       354\n",
      "    Negative       0.62      0.70      0.66       623\n",
      "\n",
      "    accuracy                           0.59      1567\n",
      "   macro avg       0.55      0.53      0.52      1567\n",
      "weighted avg       0.57      0.59      0.56      1567\n",
      "\n"
     ]
    },
    {
     "data": {
      "image/png": "[encoded data removed]",
      "text/plain": [
       "<Figure size 2200x1200 with 2 Axes>"
      ]
     },
     "metadata": {},
     "output_type": "display_data"
    }
   ],
   "source": [
    "XGBclassifer = XGBClassifier()\n",
    "XGBclassifer.fit(X_train, y_train)\n",
    "y_pred = XGBclassifer.predict(X_test)\n",
    "print('Test set accuracy %s' % accuracy_score(y_test, y_pred))\n",
    "cr = classification_report(y_test, y_pred, target_names=target_names)\n",
    "print(cr)\n",
    "\n",
    "# ------------------------------------------------------------------------------ #\n",
    "\n",
    "cm = confusion_matrix(y_test, y_pred)\n",
    "cm = (cm.T / cm.astype(float).sum(axis=1)).T\n",
    "\n",
    "df_cm = pd.DataFrame(cm, range(len(target_names)), range(len(target_names)))\n",
    "with sn.axes_style(\"white\"):\n",
    "    plt.figure(figsize = (22,12))\n",
    "    ax = sn.heatmap(df_cm, annot=True, xticklabels=target_names, yticklabels=target_names, vmax=1,  cmap=sn.cubehelix_palette(10))\n",
    "    ax.set_xticklabels(ax.get_xticklabels(), rotation=0)\n",
    "    fig = ax.get_figure()\n"
   ]
  },
  {
   "cell_type": "markdown",
   "id": "a70e68cd",
   "metadata": {},
   "source": [
    "# Random Forest"
   ]
  },
  {
   "cell_type": "code",
   "execution_count": 35,
   "id": "c1d9399d",
   "metadata": {},
   "outputs": [],
   "source": [
    "from sklearn.ensemble import RandomForestClassifier"
   ]
  },
  {
   "cell_type": "code",
   "execution_count": 36,
   "id": "91d06868",
   "metadata": {},
   "outputs": [
    {
     "name": "stdout",
     "output_type": "stream",
     "text": [
      "Test set accuracy 0.641352903637524\n",
      "              precision    recall  f1-score   support\n",
      "\n",
      "    Positive       0.67      0.72      0.69       590\n",
      "     Neutral       0.54      0.30      0.39       354\n",
      "    Negative       0.65      0.76      0.70       623\n",
      "\n",
      "    accuracy                           0.64      1567\n",
      "   macro avg       0.62      0.59      0.59      1567\n",
      "weighted avg       0.63      0.64      0.63      1567\n",
      "\n"
     ]
    },
    {
     "data": {
      "image/png": "[encoded data removed]",
      "text/plain": [
       "<Figure size 2200x1200 with 2 Axes>"
      ]
     },
     "metadata": {},
     "output_type": "display_data"
    }
   ],
   "source": [
    "RFclassifer = RandomForestClassifier()\n",
    "shapas = RFclassifer.fit(X_train, y_train)\n",
    "y_pred = RFclassifer.predict(X_test)\n",
    "print('Test set accuracy %s' % accuracy_score(y_test, y_pred))\n",
    "cr = classification_report(y_test, y_pred, target_names=target_names)\n",
    "print(cr)\n",
    "\n",
    "# ------------------------------------------------------------------------------ #\n",
    "\n",
    "cm = confusion_matrix(y_test, y_pred)\n",
    "cm = (cm.T / cm.astype(float).sum(axis=1)).T\n",
    "\n",
    "df_cm = pd.DataFrame(cm, range(len(target_names)), range(len(target_names)))\n",
    "with sn.axes_style(\"white\"):\n",
    "    plt.figure(figsize = (22,12))\n",
    "    ax = sn.heatmap(df_cm, annot=True, xticklabels=target_names, yticklabels=target_names, vmax=1,  cmap=sn.cubehelix_palette(10))\n",
    "    ax.set_xticklabels(ax.get_xticklabels(), rotation=0)\n",
    "    fig = ax.get_figure()\n",
    "  "
   ]
  },
  {
   "cell_type": "code",
   "execution_count": null,
   "id": "b2632a94",
   "metadata": {},
   "outputs": [],
   "source": []
  }
 ],
 "metadata": {
  "kernelspec": {
   "display_name": "Python 3 (ipykernel)",
   "language": "python",
   "name": "python3"
  },
  "language_info": {
   "codemirror_mode": {
    "name": "ipython",
    "version": 3
   },
   "file_extension": ".py",
   "mimetype": "text/x-python",
   "name": "python",
   "nbconvert_exporter": "python",
   "pygments_lexer": "ipython3",
   "version": "3.9.17"
  }
 },
 "nbformat": 4,
 "nbformat_minor": 5
}
