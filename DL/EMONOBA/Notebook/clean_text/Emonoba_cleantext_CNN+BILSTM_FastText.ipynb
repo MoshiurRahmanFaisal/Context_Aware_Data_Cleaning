{
 "cells": [
  {
   "cell_type": "code",
   "execution_count": 1,
   "metadata": {
    "execution": {
     "iopub.execute_input": "2024-02-23T17:38:34.641712Z",
     "iopub.status.busy": "2024-02-23T17:38:34.641212Z",
     "iopub.status.idle": "2024-02-23T17:38:34.653975Z",
     "shell.execute_reply": "2024-02-23T17:38:34.653474Z"
    },
    "id": "-6hmel6sKNSP"
   },
   "outputs": [],
   "source": [
    "def reproduceResult():\n",
    "  seed_value= 0\n",
    "\n",
    "  \n",
    "  with tf.device(\"/gpu:0\"):\n",
    "    ...\n",
    "\n",
    "\n",
    "  os.environ['PYTHONHASHSEED']=str(seed_value)\n",
    "  np.random.seed(0)\n",
    "  rn.seed(0)\n",
    "\n",
    "\n",
    "  session_conf = tf.compat.v1.ConfigProto(intra_op_parallelism_threads=1, \n",
    "                                          inter_op_parallelism_threads=1)\n",
    "\n",
    "\n",
    "  tf.compat.v1.set_random_seed(seed_value)\n",
    "  sess = tf.compat.v1.Session(graph=tf.compat.v1.get_default_graph(), config=session_conf)\n",
    "  tf.compat.v1.keras.backend.set_session(sess)\n",
    "  tf.compat.v1.keras.backend.clear_session()\n",
    "\n",
    "  \n"
   ]
  },
  {
   "cell_type": "code",
   "execution_count": 2,
   "metadata": {
    "execution": {
     "iopub.execute_input": "2024-02-23T17:38:34.655975Z",
     "iopub.status.busy": "2024-02-23T17:38:34.655975Z",
     "iopub.status.idle": "2024-02-23T17:38:39.304244Z",
     "shell.execute_reply": "2024-02-23T17:38:39.303744Z"
    },
    "id": "vURLkAC5_Jp0"
   },
   "outputs": [
    {
     "name": "stdout",
     "output_type": "stream",
     "text": [
      "WARNING:tensorflow:From C:\\Users\\moshi\\AppData\\Local\\Temp\\ipykernel_23504\\1320675762.py:20: The name tf.keras.backend.set_session is deprecated. Please use tf.compat.v1.keras.backend.set_session instead.\n",
      "\n"
     ]
    },
    {
     "name": "stderr",
     "output_type": "stream",
     "text": [
      "C:\\Users\\moshi\\AppData\\Local\\Temp\\ipykernel_23504\\2832172220.py:43: DeprecationWarning: `import kerastuner` is deprecated, please use `import keras_tuner`.\n",
      "  from kerastuner.tuners import RandomSearch\n"
     ]
    }
   ],
   "source": [
    "try:\n",
    "  %tensorflow_version 2.x\n",
    "except Exception:\n",
    "  pass\n",
    "  \n",
    "import os \n",
    "import numpy as np\n",
    "import tensorflow as tf\n",
    "import random as rn\n",
    "from tensorflow import keras\n",
    "\n",
    "reproduceResult()\n",
    "# %tensorflow_version 2.x\n",
    "# import tensorflow as tf\n",
    "# tf.test.gpu_device_name()\n",
    "# from scipy import integrate\n",
    "# import os\n",
    "# import numpy as np\n",
    "# from tensorflow import keras\n",
    "import tempfile\n",
    "import zipfile\n",
    "import pandas as pd\n",
    "import matplotlib.pyplot as plt\n",
    "from sklearn.metrics import accuracy_score, f1_score, confusion_matrix\n",
    "# import tensorflow as tf\n",
    "\n",
    "from sklearn.model_selection import train_test_split\n",
    "from tensorflow.keras.preprocessing.text import Tokenizer\n",
    "from tensorflow.keras.preprocessing.sequence import pad_sequences\n",
    "from tensorflow.keras import backend as K\n",
    "\n",
    "\n",
    "from tensorflow.keras import callbacks\n",
    "\n",
    "from keras_lr_finder import LRFinder\n",
    "from clr.clr_callback import CyclicLR\n",
    "\n",
    "import tensorflow_model_optimization as tfmot\n",
    "\n",
    "import tqdm\n",
    "\n",
    "import keras_tuner\n",
    "from kerastuner.tuners import RandomSearch\n",
    "from kerastuner.engine.hyperparameters import HyperParameters\n",
    "from attention import Attention\n",
    "\n",
    "import pandas as pd\n",
    "import numpy as np\n",
    "from matplotlib import pyplot as plt\n",
    "import seaborn as sns\n",
    "import math\n",
    "\n",
    "\n",
    "from keras.preprocessing.text import Tokenizer\n",
    "\n",
    "\n",
    "import re\n",
    "import nltk\n",
    "from nltk.corpus import stopwords\n",
    "from nltk.stem.snowball import PorterStemmer\n",
    "from sklearn import preprocessing\n",
    "\n",
    "from bnlp import SentencepieceTokenizer\n",
    "import gensim\n",
    "import fasttext "
   ]
  },
  {
   "cell_type": "code",
   "execution_count": 3,
   "metadata": {
    "execution": {
     "iopub.execute_input": "2024-02-23T17:38:39.306747Z",
     "iopub.status.busy": "2024-02-23T17:38:39.306246Z",
     "iopub.status.idle": "2024-02-23T17:38:39.381774Z",
     "shell.execute_reply": "2024-02-23T17:38:39.381276Z"
    }
   },
   "outputs": [],
   "source": [
    "df_train = pd.read_csv('F:/Context_Aware_Data_Cleaning_Deep/EMONOBA/Dataset/emonoba_train.csv')\n",
    "df_test = pd.read_csv('F:/Context_Aware_Data_Cleaning_Deep/EMONOBA/Dataset/emonoba_val.csv')"
   ]
  },
  {
   "cell_type": "code",
   "execution_count": 4,
   "metadata": {
    "execution": {
     "iopub.execute_input": "2024-02-23T17:38:39.384275Z",
     "iopub.status.busy": "2024-02-23T17:38:39.384275Z",
     "iopub.status.idle": "2024-02-23T17:38:39.397223Z",
     "shell.execute_reply": "2024-02-23T17:38:39.396722Z"
    }
   },
   "outputs": [
    {
     "data": {
      "text/plain": [
       "<bound method NDFrame.head of           ID                                               Data  Love  Joy  \\\n",
       "0       5454                            লকাল বাস ভালো এটা থেকে      0    0   \n",
       "1      22549  কত অভিজানই তো চলে কিন্তু ওয়াসার পানির অভিজান ক...     0    0   \n",
       "2       7033  বিয়ের মহল ছেড়ে তিনি বিস্রাম নিতে চলে যান (৬ ...     0    0   \n",
       "3      21114                  চাচাজি তো কেবল মাকে ধর্ষণ করেছেন      0    0   \n",
       "4      23683                          সত্যিকার মানুষ তারাই ভাই      0    1   \n",
       "...      ...                                                ...   ...  ...   \n",
       "18415  25861  সমস্যা নাই ইনশাআল্লাহ আমরা একদিন ক্রিকেট কে শা...     0    1   \n",
       "18416  27263  খানকিরপুলা তর মাকে গিয়ে বল দেহো দিলা মনটা দিলা...     0    0   \n",
       "18417  13900                                     ভাই চেয়ার কই🙄      0    0   \n",
       "18418   1208                         সবকয়টা তো একই গোয়ালের গাই      0    0   \n",
       "18419  18471  বসন্তের ফুলেল উপহার তো পেলাম না' রওশন: আছে আছে...     0    0   \n",
       "\n",
       "       Surprise  Anger  Sadness  Fear      Topic    Domain  is_admin  \n",
       "0             0      0        1     0     Travel   Youtube     False  \n",
       "1             0      0        1     0   Politics   Youtube     False  \n",
       "2             0      1        0     0   Personal  Facebook     False  \n",
       "3             0      0        1     0  Education  Facebook     False  \n",
       "4             0      0        0     0   Personal   Youtube     False  \n",
       "...         ...    ...      ...   ...        ...       ...       ...  \n",
       "18415         0      0        0     0     Sports   Youtube     False  \n",
       "18416         0      0        1     0      Music   Youtube     False  \n",
       "18417         1      0        0     0  Education   Youtube     False  \n",
       "18418         0      0        1     0  Education   Youtube     False  \n",
       "18419         0      1        0     0  Education  Facebook     False  \n",
       "\n",
       "[18420 rows x 11 columns]>"
      ]
     },
     "execution_count": 4,
     "metadata": {},
     "output_type": "execute_result"
    }
   ],
   "source": [
    "df_train.head"
   ]
  },
  {
   "cell_type": "code",
   "execution_count": 5,
   "metadata": {
    "execution": {
     "iopub.execute_input": "2024-02-23T17:38:39.399224Z",
     "iopub.status.busy": "2024-02-23T17:38:39.399224Z",
     "iopub.status.idle": "2024-02-23T17:38:39.691930Z",
     "shell.execute_reply": "2024-02-23T17:38:39.691413Z"
    }
   },
   "outputs": [],
   "source": [
    "# Function to get the emotion with value 1 or NaN if all values are 0\n",
    "def get_emotion(row):\n",
    "    emotions = ['Love', 'Joy', 'Surprise', 'Anger', 'Sadness', 'Fear']\n",
    "    nonzero_emotions = [emotion for emotion in emotions if row[emotion] == 1]\n",
    "    return nonzero_emotions[0] if nonzero_emotions else np.nan\n",
    "\n",
    "# Create a new column 'Emotion' based on the custom function\n",
    "df_train['Label'] = df_train.apply(get_emotion, axis=1)\n",
    "\n",
    "# Keep only 'Data' and 'Emotion' columns\n",
    "df_train = df_train[['Data', 'Label']]"
   ]
  },
  {
   "cell_type": "code",
   "execution_count": 6,
   "metadata": {
    "execution": {
     "iopub.execute_input": "2024-02-23T17:38:39.693928Z",
     "iopub.status.busy": "2024-02-23T17:38:39.693928Z",
     "iopub.status.idle": "2024-02-23T17:38:39.738298Z",
     "shell.execute_reply": "2024-02-23T17:38:39.737793Z"
    }
   },
   "outputs": [],
   "source": [
    "# Create a new column 'Emotion' based on the custom function\n",
    "df_test['Label'] = df_test.apply(get_emotion, axis=1)\n",
    "\n",
    "# Keep only 'Data' and 'Emotion' columns\n",
    "df_test = df_test[['Data', 'Label']]"
   ]
  },
  {
   "cell_type": "code",
   "execution_count": 7,
   "metadata": {
    "execution": {
     "iopub.execute_input": "2024-02-23T17:38:39.740798Z",
     "iopub.status.busy": "2024-02-23T17:38:39.740798Z",
     "iopub.status.idle": "2024-02-23T17:38:39.753317Z",
     "shell.execute_reply": "2024-02-23T17:38:39.752816Z"
    }
   },
   "outputs": [
    {
     "data": {
      "text/html": [
       "<div>\n",
       "<style scoped>\n",
       "    .dataframe tbody tr th:only-of-type {\n",
       "        vertical-align: middle;\n",
       "    }\n",
       "\n",
       "    .dataframe tbody tr th {\n",
       "        vertical-align: top;\n",
       "    }\n",
       "\n",
       "    .dataframe thead th {\n",
       "        text-align: right;\n",
       "    }\n",
       "</style>\n",
       "<table border=\"1\" class=\"dataframe\">\n",
       "  <thead>\n",
       "    <tr style=\"text-align: right;\">\n",
       "      <th></th>\n",
       "      <th>Data</th>\n",
       "      <th>Label</th>\n",
       "    </tr>\n",
       "  </thead>\n",
       "  <tbody>\n",
       "    <tr>\n",
       "      <th>0</th>\n",
       "      <td>False</td>\n",
       "      <td>False</td>\n",
       "    </tr>\n",
       "    <tr>\n",
       "      <th>1</th>\n",
       "      <td>False</td>\n",
       "      <td>False</td>\n",
       "    </tr>\n",
       "    <tr>\n",
       "      <th>2</th>\n",
       "      <td>False</td>\n",
       "      <td>False</td>\n",
       "    </tr>\n",
       "    <tr>\n",
       "      <th>3</th>\n",
       "      <td>False</td>\n",
       "      <td>False</td>\n",
       "    </tr>\n",
       "    <tr>\n",
       "      <th>4</th>\n",
       "      <td>False</td>\n",
       "      <td>False</td>\n",
       "    </tr>\n",
       "    <tr>\n",
       "      <th>...</th>\n",
       "      <td>...</td>\n",
       "      <td>...</td>\n",
       "    </tr>\n",
       "    <tr>\n",
       "      <th>18415</th>\n",
       "      <td>False</td>\n",
       "      <td>False</td>\n",
       "    </tr>\n",
       "    <tr>\n",
       "      <th>18416</th>\n",
       "      <td>False</td>\n",
       "      <td>False</td>\n",
       "    </tr>\n",
       "    <tr>\n",
       "      <th>18417</th>\n",
       "      <td>False</td>\n",
       "      <td>False</td>\n",
       "    </tr>\n",
       "    <tr>\n",
       "      <th>18418</th>\n",
       "      <td>False</td>\n",
       "      <td>False</td>\n",
       "    </tr>\n",
       "    <tr>\n",
       "      <th>18419</th>\n",
       "      <td>False</td>\n",
       "      <td>False</td>\n",
       "    </tr>\n",
       "  </tbody>\n",
       "</table>\n",
       "<p>18420 rows × 2 columns</p>\n",
       "</div>"
      ],
      "text/plain": [
       "        Data  Label\n",
       "0      False  False\n",
       "1      False  False\n",
       "2      False  False\n",
       "3      False  False\n",
       "4      False  False\n",
       "...      ...    ...\n",
       "18415  False  False\n",
       "18416  False  False\n",
       "18417  False  False\n",
       "18418  False  False\n",
       "18419  False  False\n",
       "\n",
       "[18420 rows x 2 columns]"
      ]
     },
     "execution_count": 7,
     "metadata": {},
     "output_type": "execute_result"
    }
   ],
   "source": [
    "df_train.isnull()"
   ]
  },
  {
   "cell_type": "code",
   "execution_count": 8,
   "metadata": {
    "execution": {
     "iopub.execute_input": "2024-02-23T17:38:39.755320Z",
     "iopub.status.busy": "2024-02-23T17:38:39.754817Z",
     "iopub.status.idle": "2024-02-23T17:38:39.768575Z",
     "shell.execute_reply": "2024-02-23T17:38:39.768059Z"
    }
   },
   "outputs": [],
   "source": [
    "df_train.dropna(inplace=True)"
   ]
  },
  {
   "cell_type": "code",
   "execution_count": 9,
   "metadata": {
    "execution": {
     "iopub.execute_input": "2024-02-23T17:38:39.771076Z",
     "iopub.status.busy": "2024-02-23T17:38:39.770576Z",
     "iopub.status.idle": "2024-02-23T17:38:39.799318Z",
     "shell.execute_reply": "2024-02-23T17:38:39.798817Z"
    }
   },
   "outputs": [
    {
     "data": {
      "text/html": [
       "<div>\n",
       "<style scoped>\n",
       "    .dataframe tbody tr th:only-of-type {\n",
       "        vertical-align: middle;\n",
       "    }\n",
       "\n",
       "    .dataframe tbody tr th {\n",
       "        vertical-align: top;\n",
       "    }\n",
       "\n",
       "    .dataframe thead tr th {\n",
       "        text-align: left;\n",
       "    }\n",
       "\n",
       "    .dataframe thead tr:last-of-type th {\n",
       "        text-align: right;\n",
       "    }\n",
       "</style>\n",
       "<table border=\"1\" class=\"dataframe\">\n",
       "  <thead>\n",
       "    <tr>\n",
       "      <th></th>\n",
       "      <th colspan=\"4\" halign=\"left\">Data</th>\n",
       "    </tr>\n",
       "    <tr>\n",
       "      <th></th>\n",
       "      <th>count</th>\n",
       "      <th>unique</th>\n",
       "      <th>top</th>\n",
       "      <th>freq</th>\n",
       "    </tr>\n",
       "    <tr>\n",
       "      <th>Label</th>\n",
       "      <th></th>\n",
       "      <th></th>\n",
       "      <th></th>\n",
       "      <th></th>\n",
       "    </tr>\n",
       "  </thead>\n",
       "  <tbody>\n",
       "    <tr>\n",
       "      <th>Anger</th>\n",
       "      <td>3295</td>\n",
       "      <td>3289</td>\n",
       "      <td>সপ্তাহের চার দিনই নানা মিটিংয়ে হাজিরা দিতে হয়।...</td>\n",
       "      <td>2</td>\n",
       "    </tr>\n",
       "    <tr>\n",
       "      <th>Fear</th>\n",
       "      <td>162</td>\n",
       "      <td>162</td>\n",
       "      <td>যদি গড় গ্রেড সি চলে আসে</td>\n",
       "      <td>1</td>\n",
       "    </tr>\n",
       "    <tr>\n",
       "      <th>Joy</th>\n",
       "      <td>6478</td>\n",
       "      <td>6450</td>\n",
       "      <td>অনেক ভালো লাগলো</td>\n",
       "      <td>5</td>\n",
       "    </tr>\n",
       "    <tr>\n",
       "      <th>Love</th>\n",
       "      <td>3786</td>\n",
       "      <td>3773</td>\n",
       "      <td>মানুষ মানুষের জন্য</td>\n",
       "      <td>2</td>\n",
       "    </tr>\n",
       "    <tr>\n",
       "      <th>Sadness</th>\n",
       "      <td>3975</td>\n",
       "      <td>3974</td>\n",
       "      <td>কে সে? নিশ্চয়ই শয়তান জামাল! : না : তা হলে নিশ্...</td>\n",
       "      <td>2</td>\n",
       "    </tr>\n",
       "    <tr>\n",
       "      <th>Surprise</th>\n",
       "      <td>724</td>\n",
       "      <td>723</td>\n",
       "      <td>তাও বলছিস ভালোনা !!! কিন্তু তোরে তো ৪টা প্রশ্ন...</td>\n",
       "      <td>2</td>\n",
       "    </tr>\n",
       "  </tbody>\n",
       "</table>\n",
       "</div>"
      ],
      "text/plain": [
       "          Data                                                               \n",
       "         count unique                                                top freq\n",
       "Label                                                                        \n",
       "Anger     3295   3289  সপ্তাহের চার দিনই নানা মিটিংয়ে হাজিরা দিতে হয়।...    2\n",
       "Fear       162    162                          যদি গড় গ্রেড সি চলে আসে     1\n",
       "Joy       6478   6450                                   অনেক ভালো লাগলো     5\n",
       "Love      3786   3773                                মানুষ মানুষের জন্য     2\n",
       "Sadness   3975   3974  কে সে? নিশ্চয়ই শয়তান জামাল! : না : তা হলে নিশ্...    2\n",
       "Surprise   724    723  তাও বলছিস ভালোনা !!! কিন্তু তোরে তো ৪টা প্রশ্ন...    2"
      ]
     },
     "execution_count": 9,
     "metadata": {},
     "output_type": "execute_result"
    }
   ],
   "source": [
    "df_train.groupby(\"Label\").describe()"
   ]
  },
  {
   "cell_type": "code",
   "execution_count": 10,
   "metadata": {
    "execution": {
     "iopub.execute_input": "2024-02-23T17:38:39.801317Z",
     "iopub.status.busy": "2024-02-23T17:38:39.801317Z",
     "iopub.status.idle": "2024-02-23T17:38:39.814831Z",
     "shell.execute_reply": "2024-02-23T17:38:39.814318Z"
    }
   },
   "outputs": [
    {
     "data": {
      "text/plain": [
       "Joy         6478\n",
       "Sadness     3975\n",
       "Love        3786\n",
       "Anger       3295\n",
       "Surprise     724\n",
       "Fear         162\n",
       "Name: Label, dtype: int64"
      ]
     },
     "execution_count": 10,
     "metadata": {},
     "output_type": "execute_result"
    }
   ],
   "source": [
    "df_train[\"Label\"].value_counts()"
   ]
  },
  {
   "cell_type": "code",
   "execution_count": 11,
   "metadata": {
    "execution": {
     "iopub.execute_input": "2024-02-23T17:38:39.816832Z",
     "iopub.status.busy": "2024-02-23T17:38:39.816832Z",
     "iopub.status.idle": "2024-02-23T17:38:39.830132Z",
     "shell.execute_reply": "2024-02-23T17:38:39.829624Z"
    }
   },
   "outputs": [],
   "source": [
    "from sklearn.feature_extraction.text import TfidfVectorizer\n",
    "from bnlp import NLTKTokenizer"
   ]
  },
  {
   "cell_type": "code",
   "execution_count": 12,
   "metadata": {
    "execution": {
     "iopub.execute_input": "2024-02-23T17:38:39.832134Z",
     "iopub.status.busy": "2024-02-23T17:38:39.832134Z",
     "iopub.status.idle": "2024-02-23T17:38:39.845361Z",
     "shell.execute_reply": "2024-02-23T17:38:39.844845Z"
    }
   },
   "outputs": [],
   "source": [
    "from bnlp import CleanText\n",
    "\n",
    "clean_text = CleanText(\n",
    "   fix_unicode=True,\n",
    "   unicode_norm=True,\n",
    "   unicode_norm_form=\"NFKC\",\n",
    "   remove_url=True,\n",
    "   remove_email=True,\n",
    "   remove_emoji=False,\n",
    "   remove_number=False,\n",
    "   remove_digits=False,\n",
    "   remove_punct=False,\n",
    "   replace_with_url=\"<URL>\",\n",
    "   replace_with_email=\"<EMAIL>\",\n",
    "   replace_with_number=\"<NUMBER>\",\n",
    "   replace_with_digit=\"<DIGIT>\",\n",
    "   replace_with_punct = \"<PUNC>\"\n",
    ")"
   ]
  },
  {
   "cell_type": "code",
   "execution_count": 13,
   "metadata": {
    "execution": {
     "iopub.execute_input": "2024-02-23T17:38:39.847358Z",
     "iopub.status.busy": "2024-02-23T17:38:39.846858Z",
     "iopub.status.idle": "2024-02-23T17:38:41.519654Z",
     "shell.execute_reply": "2024-02-23T17:38:41.519151Z"
    }
   },
   "outputs": [],
   "source": [
    "df_train['Data'] = df_train['Data'].apply(clean_text)\n",
    "df_test['Data'] = df_test['Data'].apply(clean_text)"
   ]
  },
  {
   "cell_type": "code",
   "execution_count": 14,
   "metadata": {
    "colab": {
     "base_uri": "https://localhost:8080/"
    },
    "execution": {
     "iopub.execute_input": "2024-02-23T17:38:41.522154Z",
     "iopub.status.busy": "2024-02-23T17:38:41.521653Z",
     "iopub.status.idle": "2024-02-23T17:38:42.139769Z",
     "shell.execute_reply": "2024-02-23T17:38:42.139252Z"
    },
    "id": "DFgD7Seo_Xlq",
    "outputId": "9be2fe5a-b7b5-4488-9cd4-8a48ce6123e8"
   },
   "outputs": [
    {
     "name": "stdout",
     "output_type": "stream",
     "text": [
      "Number of unique words: 30929\n",
      "[[    0     0     0 ...     4    60    17]\n",
      " [    0     0     0 ...     9     1    57]\n",
      " [    0     0     0 ...     7  5516 11128]\n",
      " ...\n",
      " [    0     0     0 ...     2  1820 30927]\n",
      " [    0     0     0 ...   611 30929  3301]\n",
      " [    0     0     0 ...    41    16    41]]\n"
     ]
    }
   ],
   "source": [
    "# train, test = train_test_split(df, test_size=0.2, stratify = df[\"classes\"], random_state = 42)\n",
    "num_classes = 6\n",
    "embed_num_dims = 300\n",
    "max_seq_len = 50\n",
    "\n",
    "x_train = df_train['Data']\n",
    "x_test = df_test['Data']\n",
    "\n",
    "y_train = df_train['Label']\n",
    "y_test = df_test['Label']\n",
    "\n",
    "texts_train = x_train\n",
    "texts_test = x_test\n",
    "\n",
    "tokenizer = Tokenizer()\n",
    "tokenizer.fit_on_texts(df_train['Data'])\n",
    "\n",
    "sequence_train = tokenizer.texts_to_sequences(texts_train)\n",
    "sequence_test = tokenizer.texts_to_sequences(texts_test)\n",
    "\n",
    "index_of_words = tokenizer.word_index\n",
    "\n",
    "vocab_size = len(index_of_words) + 1\n",
    "\n",
    "print('Number of unique words: {}'.format(len(index_of_words)))\n",
    "\n",
    "X_train_pad = pad_sequences(sequence_train, maxlen = max_seq_len, padding='pre' )\n",
    "X_test_pad = pad_sequences(sequence_test, maxlen = max_seq_len,  padding='pre')\n",
    "\n",
    "print(X_train_pad)\n",
    "\n",
    "encoding = {\n",
    "    \"Love\":0,\n",
    "    \"Joy\":1,\n",
    "    \"Sadness\":2,\n",
    "    \"Anger\":3,\n",
    "    \"Fear\":4,\n",
    "    \"Surprise\":5\n",
    "}\n",
    "\n",
    "y_train = [encoding[x] for x in df_train['Label']]\n",
    "y_test = [encoding[x] for x in df_test['Label']]\n",
    "\n",
    "\n",
    "\n",
    "y_train = tf.keras.utils.to_categorical(y_train)\n",
    "y_test = tf.keras.utils.to_categorical(y_test)\n"
   ]
  },
  {
   "cell_type": "code",
   "execution_count": 15,
   "metadata": {
    "execution": {
     "iopub.execute_input": "2024-02-23T17:38:42.141769Z",
     "iopub.status.busy": "2024-02-23T17:38:42.141769Z",
     "iopub.status.idle": "2024-02-23T17:38:42.155306Z",
     "shell.execute_reply": "2024-02-23T17:38:42.154775Z"
    }
   },
   "outputs": [],
   "source": [
    "# META EMBADDING"
   ]
  },
  {
   "cell_type": "code",
   "execution_count": 16,
   "metadata": {
    "execution": {
     "iopub.execute_input": "2024-02-23T17:38:42.157306Z",
     "iopub.status.busy": "2024-02-23T17:38:42.156804Z",
     "iopub.status.idle": "2024-02-23T17:39:09.179213Z",
     "shell.execute_reply": "2024-02-23T17:39:09.178694Z"
    }
   },
   "outputs": [
    {
     "name": "stdout",
     "output_type": "stream",
     "text": [
      "(30930, 300)\n"
     ]
    }
   ],
   "source": [
    "def create_embedding_matrix(word_index, embedding_dim):\n",
    "    vocab_size = len(word_index) + 1  # Adding again 1 because of reserved 0 index\n",
    "    embedding_matrix = np.zeros((vocab_size, embedding_dim))\n",
    "    with open('F:/Python_code/embedding/cc.bn.300.vec',encoding=\"utf8\") as f:\n",
    "        for line in f:\n",
    "            word, *vector = line.split()\n",
    "            if word in word_index:\n",
    "                idx = word_index[word] \n",
    "                embedding_matrix[idx] = np.array(\n",
    "                    vector, dtype=np.float32)[:embedding_dim]\n",
    "    return embedding_matrix\n",
    "\n",
    "\n",
    "embedd_matrix_fasttext = create_embedding_matrix(index_of_words, embed_num_dims)\n",
    "print(embedd_matrix_fasttext.shape)"
   ]
  },
  {
   "cell_type": "markdown",
   "metadata": {
    "id": "gGgsd5mMZPKn"
   },
   "source": [
    "# Random Search"
   ]
  },
  {
   "cell_type": "code",
   "execution_count": 17,
   "metadata": {
    "colab": {
     "base_uri": "https://localhost:8080/"
    },
    "execution": {
     "iopub.execute_input": "2024-02-23T17:39:09.181209Z",
     "iopub.status.busy": "2024-02-23T17:39:09.181209Z",
     "iopub.status.idle": "2024-02-23T18:10:50.487723Z",
     "shell.execute_reply": "2024-02-23T18:10:50.487207Z"
    },
    "id": "3IvOZoK8YGDI",
    "outputId": "fe861031-a89e-45d3-8f7a-42f1e7b6b256"
   },
   "outputs": [
    {
     "name": "stdout",
     "output_type": "stream",
     "text": [
      "Trial 30 Complete [00h 00m 49s]\n",
      "val_accuracy: 0.5764533281326294\n",
      "\n",
      "Best val_accuracy So Far: 0.6067415475845337\n",
      "Total elapsed time: 00h 31m 40s\n",
      "INFO:tensorflow:Oracle triggered exit\n",
      "Results summary\n",
      "Results in 1708709949\\untitled_project\n",
      "Showing 10 best trials\n",
      "Objective(name=\"val_accuracy\", direction=\"max\")\n",
      "\n",
      "Trial 13 summary\n",
      "Hyperparameters:\n",
      "cnn_1_unit: 16\n",
      "cnn_1_dropout: 0.2\n",
      "lstm_unit: 224\n",
      "lstm_dropout: 0.2\n",
      "Score: 0.6067415475845337\n",
      "\n",
      "Trial 11 summary\n",
      "Hyperparameters:\n",
      "cnn_1_unit: 48\n",
      "cnn_1_dropout: 0.1\n",
      "lstm_unit: 256\n",
      "lstm_dropout: 0.5\n",
      "Score: 0.5955055952072144\n",
      "\n",
      "Trial 12 summary\n",
      "Hyperparameters:\n",
      "cnn_1_unit: 32\n",
      "cnn_1_dropout: 0.2\n",
      "lstm_unit: 256\n",
      "lstm_dropout: 0.5\n",
      "Score: 0.5930629968643188\n",
      "\n",
      "Trial 23 summary\n",
      "Hyperparameters:\n",
      "cnn_1_unit: 80\n",
      "cnn_1_dropout: 0.1\n",
      "lstm_unit: 192\n",
      "lstm_dropout: 0.4\n",
      "Score: 0.5930629968643188\n",
      "\n",
      "Trial 01 summary\n",
      "Hyperparameters:\n",
      "cnn_1_unit: 16\n",
      "cnn_1_dropout: 0.2\n",
      "lstm_unit: 256\n",
      "lstm_dropout: 0.30000000000000004\n",
      "Score: 0.5915974378585815\n",
      "\n",
      "Trial 28 summary\n",
      "Hyperparameters:\n",
      "cnn_1_unit: 64\n",
      "cnn_1_dropout: 0.1\n",
      "lstm_unit: 128\n",
      "lstm_dropout: 0.5\n",
      "Score: 0.5886663198471069\n",
      "\n",
      "Trial 05 summary\n",
      "Hyperparameters:\n",
      "cnn_1_unit: 32\n",
      "cnn_1_dropout: 0.2\n",
      "lstm_unit: 96\n",
      "lstm_dropout: 0.30000000000000004\n",
      "Score: 0.5876892805099487\n",
      "\n",
      "Trial 17 summary\n",
      "Hyperparameters:\n",
      "cnn_1_unit: 96\n",
      "cnn_1_dropout: 0.2\n",
      "lstm_unit: 192\n",
      "lstm_dropout: 0.5\n",
      "Score: 0.5857352018356323\n",
      "\n",
      "Trial 24 summary\n",
      "Hyperparameters:\n",
      "cnn_1_unit: 48\n",
      "cnn_1_dropout: 0.1\n",
      "lstm_unit: 192\n",
      "lstm_dropout: 0.30000000000000004\n",
      "Score: 0.5818270444869995\n",
      "\n",
      "Trial 20 summary\n",
      "Hyperparameters:\n",
      "cnn_1_unit: 32\n",
      "cnn_1_dropout: 0.2\n",
      "lstm_unit: 64\n",
      "lstm_dropout: 0.5\n",
      "Score: 0.579384446144104\n"
     ]
    }
   ],
   "source": [
    "from tensorflow.keras import regularizers\n",
    "import time\n",
    "LOG_DIR = f\"{int(time.time())}\"\n",
    "seed_value= 0\n",
    "\n",
    "\n",
    "\n",
    "def build_model(hp):\n",
    "  \n",
    "  reproduceResult()\n",
    "\n",
    "  print('Ya it comes here')\n",
    "  fake_val = hp.Int(\"cnn_1_unit\",min_value =16, max_value = 96, step = 16)\n",
    "  cnn_1_unit = hp.Int(\"cnn_1_unit\",min_value =16, max_value = 96, step = 16)\n",
    "  cnn_1_dropout = hp.Float(\"cnn_1_dropout\",min_value = 0.1,max_value = 0.3,step = 0.1)\n",
    "\n",
    "  lstm_unit = hp.Int(\"lstm_unit\",min_value =64, max_value = 256, step = 32)\n",
    "  lstm_dropout = hp.Float(\"lstm_dropout\",min_value = 0.1,max_value = 0.5,step = 0.1)\n",
    "\n",
    "\n",
    "\n",
    "\n",
    "  seq_input = keras.layers.Input(shape=(max_seq_len,))\n",
    "\n",
    "  embedded = keras.layers.Embedding(vocab_size,\n",
    "                          embed_num_dims,\n",
    "                          input_length = max_seq_len,\n",
    "                          weights = [embedd_matrix_fasttext])(seq_input)\n",
    "\n",
    "  cnn = keras.layers.Conv1D(cnn_1_unit,3,kernel_regularizer=regularizers.l2(1e-4),\n",
    "                            bias_regularizer=regularizers.l2(1e-2),\n",
    "                            activity_regularizer=regularizers.l2(1e-4))(embedded)\n",
    "  cnn = keras.layers.Activation(activation='relu')(cnn)\n",
    "  cnn = keras.layers.BatchNormalization()(cnn)\n",
    "  cnn = keras.layers.Dropout(cnn_1_dropout,seed=seed_value)(cnn)\n",
    "\n",
    "  lstm = keras.layers.Bidirectional(keras.layers.LSTM(lstm_unit, recurrent_regularizer=regularizers.l2(1e-4),\n",
    "                                                      return_sequences=True,kernel_regularizer=regularizers.l2(1e-4),\n",
    "                                                      bias_regularizer=regularizers.l2(1e-2),\n",
    "                                                      activity_regularizer=regularizers.l2(1e-4),input_shape =(48,)))(cnn)\n",
    "  lstm = keras.layers.Activation(activation='relu')(lstm)\n",
    "  lstm = keras.layers.BatchNormalization()(lstm)\n",
    "  lstm = keras.layers.Dropout(lstm_dropout,seed=seed_value)(lstm)\n",
    "  \n",
    "  \n",
    "  max_pooling = keras.layers.GlobalMaxPooling1D()(lstm)\n",
    "  output = keras.layers.Dense(num_classes, activation='softmax')(max_pooling)\n",
    "\n",
    "  model = keras.Model(inputs = [seq_input], outputs = output)\n",
    "  model.compile(loss = 'categorical_crossentropy', optimizer = 'adam', metrics = ['accuracy'])\n",
    "\n",
    "  return model\n",
    "\n",
    "\n",
    "stop = tf.keras.callbacks.EarlyStopping(monitor='val_accuracy',\n",
    "                              patience=5,\n",
    "                              restore_best_weights=True,\n",
    "                              verbose=0, mode='max')\n",
    "\n",
    "\n",
    "clr_step_size = int((len(X_train_pad)/64))\n",
    "base_lr = 1e-3\n",
    "max_lr = 6e-3\n",
    "mode = 'exp_range'\n",
    "\n",
    "\n",
    "clr = CyclicLR(base_lr = base_lr, max_lr = max_lr, step_size = clr_step_size, mode = mode)\n",
    "\n",
    "\n",
    "\n",
    "tuner = RandomSearch(\n",
    "    build_model,\n",
    "    objective = keras_tuner.Objective('val_accuracy', direction=\"max\"),\n",
    "    max_trials = 30,\n",
    "    executions_per_trial = 1,\n",
    "    directory = LOG_DIR\n",
    "    )\n",
    "  \n",
    "tuner.search(x=X_train_pad,y = y_train,epochs = 30, batch_size = 64,callbacks = [stop,clr], \n",
    "             validation_data = (X_test_pad,y_test))\n",
    "\n",
    "\n",
    "tuner.results_summary()"
   ]
  },
  {
   "cell_type": "code",
   "execution_count": 18,
   "metadata": {
    "execution": {
     "iopub.execute_input": "2024-02-23T18:10:50.489720Z",
     "iopub.status.busy": "2024-02-23T18:10:50.489720Z",
     "iopub.status.idle": "2024-02-23T18:10:50.503226Z",
     "shell.execute_reply": "2024-02-23T18:10:50.502726Z"
    }
   },
   "outputs": [
    {
     "name": "stdout",
     "output_type": "stream",
     "text": [
      "Search space summary\n",
      "Default search space size: 4\n",
      "cnn_1_unit (Int)\n",
      "{'default': None, 'conditions': [], 'min_value': 16, 'max_value': 96, 'step': 16, 'sampling': 'linear'}\n",
      "cnn_1_dropout (Float)\n",
      "{'default': 0.1, 'conditions': [], 'min_value': 0.1, 'max_value': 0.3, 'step': 0.1, 'sampling': 'linear'}\n",
      "lstm_unit (Int)\n",
      "{'default': None, 'conditions': [], 'min_value': 64, 'max_value': 256, 'step': 32, 'sampling': 'linear'}\n",
      "lstm_dropout (Float)\n",
      "{'default': 0.1, 'conditions': [], 'min_value': 0.1, 'max_value': 0.5, 'step': 0.1, 'sampling': 'linear'}\n"
     ]
    }
   ],
   "source": [
    "tuner.search_space_summary()"
   ]
  },
  {
   "cell_type": "code",
   "execution_count": 19,
   "metadata": {
    "execution": {
     "iopub.execute_input": "2024-02-23T18:10:50.505226Z",
     "iopub.status.busy": "2024-02-23T18:10:50.505226Z",
     "iopub.status.idle": "2024-02-23T18:10:50.953357Z",
     "shell.execute_reply": "2024-02-23T18:10:50.952841Z"
    }
   },
   "outputs": [
    {
     "name": "stdout",
     "output_type": "stream",
     "text": [
      "Ya it comes here\n"
     ]
    }
   ],
   "source": [
    "#get best hypoerparamter\n",
    "best_hps = tuner.get_best_hyperparameters()[0]\n",
    "model = build_model(best_hps)"
   ]
  },
  {
   "cell_type": "code",
   "execution_count": 20,
   "metadata": {
    "execution": {
     "iopub.execute_input": "2024-02-23T18:10:50.955860Z",
     "iopub.status.busy": "2024-02-23T18:10:50.955860Z",
     "iopub.status.idle": "2024-02-23T18:11:36.541988Z",
     "shell.execute_reply": "2024-02-23T18:11:36.541487Z"
    }
   },
   "outputs": [
    {
     "name": "stdout",
     "output_type": "stream",
     "text": [
      "Epoch 1/30\n",
      "288/288 [==============================] - 9s 24ms/step - loss: 3.9402 - accuracy: 0.4574 - val_loss: 2.2325 - val_accuracy: 0.1358\n",
      "Epoch 2/30\n",
      "288/288 [==============================] - 6s 21ms/step - loss: 0.9972 - accuracy: 0.6881 - val_loss: 1.1755 - val_accuracy: 0.5857\n",
      "Epoch 3/30\n",
      "288/288 [==============================] - 6s 21ms/step - loss: 0.5370 - accuracy: 0.8330 - val_loss: 1.4789 - val_accuracy: 0.5144\n",
      "Epoch 4/30\n",
      "288/288 [==============================] - 6s 21ms/step - loss: 0.4659 - accuracy: 0.8549 - val_loss: 1.4111 - val_accuracy: 0.5501\n",
      "Epoch 5/30\n",
      "288/288 [==============================] - 6s 21ms/step - loss: 0.2807 - accuracy: 0.9192 - val_loss: 1.9316 - val_accuracy: 0.5467\n",
      "Epoch 6/30\n",
      "288/288 [==============================] - 6s 21ms/step - loss: 0.3287 - accuracy: 0.9039 - val_loss: 1.5733 - val_accuracy: 0.5642\n",
      "Epoch 7/30\n",
      "288/288 [==============================] - 6s 21ms/step - loss: 0.2153 - accuracy: 0.9407 - val_loss: 2.0741 - val_accuracy: 0.5296\n"
     ]
    }
   ],
   "source": [
    "history = model.fit(x=X_train_pad,y = y_train,epochs = 30, batch_size = 64,callbacks = [stop,clr], \n",
    "             validation_data = (X_test_pad,y_test))"
   ]
  },
  {
   "cell_type": "code",
   "execution_count": 21,
   "metadata": {
    "execution": {
     "iopub.execute_input": "2024-02-23T18:11:36.543987Z",
     "iopub.status.busy": "2024-02-23T18:11:36.543987Z",
     "iopub.status.idle": "2024-02-23T18:11:36.557504Z",
     "shell.execute_reply": "2024-02-23T18:11:36.556990Z"
    }
   },
   "outputs": [],
   "source": [
    "def PlotGraph(history):\n",
    "    acc = history.history['accuracy']\n",
    "    val_acc = history.history['val_accuracy']\n",
    "    loss = history.history['loss']\n",
    "    val_loss = history.history['val_loss']\n",
    "    x = range(1, len(acc) + 1)\n",
    "\n",
    "    plt.figure(figsize=(12, 5))\n",
    "    plt.subplot(1, 2, 1)\n",
    "    plt.plot(x, acc, 'g', label='Training acc')\n",
    "    plt.plot(x, val_acc, 'b', label='Validation acc')\n",
    "    plt.title('Training and validation accuracy')\n",
    "    plt.legend()\n",
    "    plt.subplot(1, 2, 2)\n",
    "    plt.plot(x, loss, 'g', label='Training loss')\n",
    "    plt.plot(x, val_loss, 'b', label='Validation loss')\n",
    "    plt.title('Training and validation loss')\n",
    "    plt.legend()"
   ]
  },
  {
   "cell_type": "code",
   "execution_count": 22,
   "metadata": {
    "execution": {
     "iopub.execute_input": "2024-02-23T18:11:36.559503Z",
     "iopub.status.busy": "2024-02-23T18:11:36.559003Z",
     "iopub.status.idle": "2024-02-23T18:11:36.913116Z",
     "shell.execute_reply": "2024-02-23T18:11:36.912613Z"
    }
   },
   "outputs": [
    {
     "data": {
      "image/png": "[encoded data removed]",
      "text/plain": [
       "<Figure size 1200x500 with 2 Axes>"
      ]
     },
     "metadata": {},
     "output_type": "display_data"
    }
   ],
   "source": [
    "PlotGraph(history)"
   ]
  },
  {
   "cell_type": "code",
   "execution_count": 23,
   "metadata": {
    "execution": {
     "iopub.execute_input": "2024-02-23T18:11:36.915114Z",
     "iopub.status.busy": "2024-02-23T18:11:36.915114Z",
     "iopub.status.idle": "2024-02-23T18:11:37.843301Z",
     "shell.execute_reply": "2024-02-23T18:11:37.842800Z"
    }
   },
   "outputs": [
    {
     "name": "stdout",
     "output_type": "stream",
     "text": [
      "64/64 [==============================] - 1s 5ms/step\n"
     ]
    },
    {
     "data": {
      "text/plain": [
       "array([1, 3, 0, ..., 1, 2, 3], dtype=int64)"
      ]
     },
     "execution_count": 23,
     "metadata": {},
     "output_type": "execute_result"
    }
   ],
   "source": [
    "predict = model.predict(X_test_pad)\n",
    "predict_class = np.argmax(predict, axis=1)\n",
    "predict_class = np.array(predict_class)\n",
    "predict_class"
   ]
  },
  {
   "cell_type": "code",
   "execution_count": 24,
   "metadata": {
    "execution": {
     "iopub.execute_input": "2024-02-23T18:11:37.845302Z",
     "iopub.status.busy": "2024-02-23T18:11:37.845302Z",
     "iopub.status.idle": "2024-02-23T18:11:37.858552Z",
     "shell.execute_reply": "2024-02-23T18:11:37.858034Z"
    }
   },
   "outputs": [
    {
     "data": {
      "text/plain": [
       "array([1, 3, 1, ..., 1, 2, 3], dtype=int64)"
      ]
     },
     "execution_count": 24,
     "metadata": {},
     "output_type": "execute_result"
    }
   ],
   "source": [
    "predict_lables=np.argmax(y_test, axis=1)\n",
    "predict_lables"
   ]
  },
  {
   "cell_type": "code",
   "execution_count": 25,
   "metadata": {
    "execution": {
     "iopub.execute_input": "2024-02-23T18:11:37.861051Z",
     "iopub.status.busy": "2024-02-23T18:11:37.860550Z",
     "iopub.status.idle": "2024-02-23T18:11:37.873819Z",
     "shell.execute_reply": "2024-02-23T18:11:37.873317Z"
    },
    "scrolled": true
   },
   "outputs": [
    {
     "data": {
      "text/plain": [
       "array([[228, 118,  19,  46,   0,   3],\n",
       "       [177, 403,  79,  72,   1,  11],\n",
       "       [  8,  26, 349,  43,   0,   3],\n",
       "       [ 27,  31,  95, 201,   2,   6],\n",
       "       [  2,   2,   5,  10,   0,   1],\n",
       "       [  2,  10,  32,  17,   0,  18]], dtype=int64)"
      ]
     },
     "execution_count": 25,
     "metadata": {},
     "output_type": "execute_result"
    }
   ],
   "source": [
    "from sklearn.metrics import confusion_matrix\n",
    "cm = confusion_matrix(predict_lables, predict_class)\n",
    "cm"
   ]
  },
  {
   "cell_type": "code",
   "execution_count": 26,
   "metadata": {
    "execution": {
     "iopub.execute_input": "2024-02-23T18:11:37.875819Z",
     "iopub.status.busy": "2024-02-23T18:11:37.875819Z",
     "iopub.status.idle": "2024-02-23T18:11:37.889000Z",
     "shell.execute_reply": "2024-02-23T18:11:37.888483Z"
    }
   },
   "outputs": [],
   "source": [
    "class_names = list(encoding.keys())"
   ]
  },
  {
   "cell_type": "code",
   "execution_count": 27,
   "metadata": {
    "execution": {
     "iopub.execute_input": "2024-02-23T18:11:37.891498Z",
     "iopub.status.busy": "2024-02-23T18:11:37.890998Z",
     "iopub.status.idle": "2024-02-23T18:11:37.904242Z",
     "shell.execute_reply": "2024-02-23T18:11:37.903727Z"
    }
   },
   "outputs": [
    {
     "name": "stdout",
     "output_type": "stream",
     "text": [
      "['Love', 'Joy', 'Sadness', 'Anger', 'Fear', 'Surprise']\n"
     ]
    }
   ],
   "source": [
    "print(class_names)"
   ]
  },
  {
   "cell_type": "code",
   "execution_count": 28,
   "metadata": {
    "execution": {
     "iopub.execute_input": "2024-02-23T18:11:37.906244Z",
     "iopub.status.busy": "2024-02-23T18:11:37.905744Z",
     "iopub.status.idle": "2024-02-23T18:11:38.120926Z",
     "shell.execute_reply": "2024-02-23T18:11:38.120422Z"
    }
   },
   "outputs": [
    {
     "data": {
      "text/plain": [
       "<Axes: >"
      ]
     },
     "execution_count": 28,
     "metadata": {},
     "output_type": "execute_result"
    },
    {
     "data": {
      "image/png": "[encoded data removed]",
      "text/plain": [
       "<Figure size 1000x700 with 2 Axes>"
      ]
     },
     "metadata": {},
     "output_type": "display_data"
    }
   ],
   "source": [
    "df_cm = pd.DataFrame(cm, index=class_names,columns=class_names)\n",
    "plt.figure(figsize = (10,7))\n",
    "sns.heatmap(df_cm,annot=True, fmt =\"d\")"
   ]
  },
  {
   "cell_type": "code",
   "execution_count": 29,
   "metadata": {
    "execution": {
     "iopub.execute_input": "2024-02-23T18:11:38.122927Z",
     "iopub.status.busy": "2024-02-23T18:11:38.122927Z",
     "iopub.status.idle": "2024-02-23T18:11:38.136188Z",
     "shell.execute_reply": "2024-02-23T18:11:38.135670Z"
    }
   },
   "outputs": [
    {
     "name": "stdout",
     "output_type": "stream",
     "text": [
      "              precision    recall  f1-score   support\n",
      "\n",
      "        Love       0.51      0.55      0.53       414\n",
      "         Joy       0.68      0.54      0.60       743\n",
      "     Sadness       0.60      0.81      0.69       429\n",
      "       Anger       0.52      0.56      0.54       362\n",
      "        Fear       0.00      0.00      0.00        20\n",
      "    Surprise       0.43      0.23      0.30        79\n",
      "\n",
      "    accuracy                           0.59      2047\n",
      "   macro avg       0.46      0.45      0.44      2047\n",
      "weighted avg       0.59      0.59      0.58      2047\n",
      "\n"
     ]
    }
   ],
   "source": [
    "from sklearn.metrics import classification_report\n",
    "print(classification_report(predict_lables, predict_class, target_names =class_names))"
   ]
  },
  {
   "cell_type": "code",
   "execution_count": null,
   "metadata": {},
   "outputs": [],
   "source": []
  },
  {
   "cell_type": "code",
   "execution_count": null,
   "metadata": {},
   "outputs": [],
   "source": []
  },
  {
   "cell_type": "code",
   "execution_count": null,
   "metadata": {},
   "outputs": [],
   "source": []
  }
 ],
 "metadata": {
  "colab": {
   "collapsed_sections": [],
   "name": "100_percent_test_BiLSTM_best_model_git.ipynb",
   "provenance": []
  },
  "kernelspec": {
   "display_name": "Python 3 (ipykernel)",
   "language": "python",
   "name": "python3"
  },
  "language_info": {
   "codemirror_mode": {
    "name": "ipython",
    "version": 3
   },
   "file_extension": ".py",
   "mimetype": "text/x-python",
   "name": "python",
   "nbconvert_exporter": "python",
   "pygments_lexer": "ipython3",
   "version": "3.9.17"
  }
 },
 "nbformat": 4,
 "nbformat_minor": 4
}
