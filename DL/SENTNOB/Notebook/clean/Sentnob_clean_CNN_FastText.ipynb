{
 "cells": [
  {
   "cell_type": "code",
   "execution_count": 1,
   "metadata": {
    "execution": {
     "iopub.execute_input": "2024-02-22T23:00:53.321866Z",
     "iopub.status.busy": "2024-02-22T23:00:53.321866Z",
     "iopub.status.idle": "2024-02-22T23:00:53.329347Z",
     "shell.execute_reply": "2024-02-22T23:00:53.329347Z"
    },
    "id": "-6hmel6sKNSP"
   },
   "outputs": [],
   "source": [
    "def reproduceResult():\n",
    "  seed_value= 0\n",
    "\n",
    "  \n",
    "  with tf.device(\"/gpu:0\"):\n",
    "    ...\n",
    "\n",
    "\n",
    "  os.environ['PYTHONHASHSEED']=str(seed_value)\n",
    "  np.random.seed(0)\n",
    "  rn.seed(0)\n",
    "\n",
    "\n",
    "  session_conf = tf.compat.v1.ConfigProto(intra_op_parallelism_threads=1, \n",
    "                                          inter_op_parallelism_threads=1)\n",
    "\n",
    "\n",
    "  tf.compat.v1.set_random_seed(seed_value)\n",
    "  sess = tf.compat.v1.Session(graph=tf.compat.v1.get_default_graph(), config=session_conf)\n",
    "  tf.compat.v1.keras.backend.set_session(sess)\n",
    "  tf.compat.v1.keras.backend.clear_session()\n",
    "\n",
    "  \n"
   ]
  },
  {
   "cell_type": "code",
   "execution_count": 2,
   "metadata": {
    "execution": {
     "iopub.execute_input": "2024-02-22T23:00:53.331849Z",
     "iopub.status.busy": "2024-02-22T23:00:53.331348Z",
     "iopub.status.idle": "2024-02-22T23:00:58.640210Z",
     "shell.execute_reply": "2024-02-22T23:00:58.639709Z"
    },
    "id": "vURLkAC5_Jp0"
   },
   "outputs": [
    {
     "name": "stdout",
     "output_type": "stream",
     "text": [
      "WARNING:tensorflow:From C:\\Users\\moshi\\AppData\\Local\\Temp\\ipykernel_17652\\1320675762.py:20: The name tf.keras.backend.set_session is deprecated. Please use tf.compat.v1.keras.backend.set_session instead.\n",
      "\n"
     ]
    },
    {
     "name": "stderr",
     "output_type": "stream",
     "text": [
      "C:\\Users\\moshi\\AppData\\Local\\Temp\\ipykernel_17652\\2832172220.py:43: DeprecationWarning: `import kerastuner` is deprecated, please use `import keras_tuner`.\n",
      "  from kerastuner.tuners import RandomSearch\n"
     ]
    }
   ],
   "source": [
    "try:\n",
    "  %tensorflow_version 2.x\n",
    "except Exception:\n",
    "  pass\n",
    "  \n",
    "import os \n",
    "import numpy as np\n",
    "import tensorflow as tf\n",
    "import random as rn\n",
    "from tensorflow import keras\n",
    "\n",
    "reproduceResult()\n",
    "# %tensorflow_version 2.x\n",
    "# import tensorflow as tf\n",
    "# tf.test.gpu_device_name()\n",
    "# from scipy import integrate\n",
    "# import os\n",
    "# import numpy as np\n",
    "# from tensorflow import keras\n",
    "import tempfile\n",
    "import zipfile\n",
    "import pandas as pd\n",
    "import matplotlib.pyplot as plt\n",
    "from sklearn.metrics import accuracy_score, f1_score, confusion_matrix\n",
    "# import tensorflow as tf\n",
    "\n",
    "from sklearn.model_selection import train_test_split\n",
    "from tensorflow.keras.preprocessing.text import Tokenizer\n",
    "from tensorflow.keras.preprocessing.sequence import pad_sequences\n",
    "from tensorflow.keras import backend as K\n",
    "\n",
    "\n",
    "from tensorflow.keras import callbacks\n",
    "\n",
    "from keras_lr_finder import LRFinder\n",
    "from clr.clr_callback import CyclicLR\n",
    "\n",
    "import tensorflow_model_optimization as tfmot\n",
    "\n",
    "import tqdm\n",
    "\n",
    "import keras_tuner\n",
    "from kerastuner.tuners import RandomSearch\n",
    "from kerastuner.engine.hyperparameters import HyperParameters\n",
    "from attention import Attention\n",
    "\n",
    "import pandas as pd\n",
    "import numpy as np\n",
    "from matplotlib import pyplot as plt\n",
    "import seaborn as sns\n",
    "import math\n",
    "\n",
    "\n",
    "from keras.preprocessing.text import Tokenizer\n",
    "\n",
    "\n",
    "import re\n",
    "import nltk\n",
    "from nltk.corpus import stopwords\n",
    "from nltk.stem.snowball import PorterStemmer\n",
    "from sklearn import preprocessing\n",
    "\n",
    "from bnlp import SentencepieceTokenizer\n",
    "import gensim\n",
    "import fasttext "
   ]
  },
  {
   "cell_type": "code",
   "execution_count": 3,
   "metadata": {
    "execution": {
     "iopub.execute_input": "2024-02-22T23:00:58.642710Z",
     "iopub.status.busy": "2024-02-22T23:00:58.642209Z",
     "iopub.status.idle": "2024-02-22T23:00:58.740457Z",
     "shell.execute_reply": "2024-02-22T23:00:58.740457Z"
    }
   },
   "outputs": [],
   "source": [
    "df_train = pd.read_csv('F:/Context_Aware_Data_Cleaning_Deep/SENTNOB/Dataset/sentnob_train.csv')\n",
    "df_test = pd.read_csv('F:/Context_Aware_Data_Cleaning_Deep/SENTNOB/Dataset/sentnob_val.csv')"
   ]
  },
  {
   "cell_type": "code",
   "execution_count": 4,
   "metadata": {
    "execution": {
     "iopub.execute_input": "2024-02-22T23:00:58.742969Z",
     "iopub.status.busy": "2024-02-22T23:00:58.742467Z",
     "iopub.status.idle": "2024-02-22T23:00:58.751468Z",
     "shell.execute_reply": "2024-02-22T23:00:58.750967Z"
    }
   },
   "outputs": [
    {
     "data": {
      "text/plain": [
       "<bound method NDFrame.head of                                                     Data  Label\n",
       "0      মুগ্ধ হয়ে গেলাম মামু. আর তোমায় কি কমু. বলো তোম...      1\n",
       "1      এই কুত্তার বাচ্চাদের জন্য দেশটা আজ এমন অবস্তায়...      2\n",
       "2                              ভাই আপনার কথাই যাদু রয়েছে      1\n",
       "3                            উওরটা আমার অনেক ভাল লেগেছে       1\n",
       "4      আমার নিজের গাড়ী নিয়ে কি সাজেক যেতে পারবো না ?...      0\n",
       "...                                                  ...    ...\n",
       "12570  বর্ডারে অনেক লেট হয়ে যাওয়াতে আমরা জিপে করে চলে...      1\n",
       "12571  আমার সোনার বাংলাতে এমন রক্ষক নামের ভক্ষকের কোন...      2\n",
       "12572  ওনারা এত হাইজিনিক ও এত সুন্দর পরিবেশে রান্না ক...      1\n",
       "12573  বাংলাদেশ আমরা পুলিশ চাই না এই ধরনে পুলিশ দরকার...      2\n",
       "12574         বসুন্ধরা শাখার হাজি বিরিয়ানি একবারেই ফালতু      2\n",
       "\n",
       "[12575 rows x 2 columns]>"
      ]
     },
     "execution_count": 4,
     "metadata": {},
     "output_type": "execute_result"
    }
   ],
   "source": [
    "df_train.head"
   ]
  },
  {
   "cell_type": "code",
   "execution_count": 5,
   "metadata": {
    "execution": {
     "iopub.execute_input": "2024-02-22T23:00:58.753468Z",
     "iopub.status.busy": "2024-02-22T23:00:58.752968Z",
     "iopub.status.idle": "2024-02-22T23:00:58.761946Z",
     "shell.execute_reply": "2024-02-22T23:00:58.761946Z"
    }
   },
   "outputs": [
    {
     "data": {
      "text/html": [
       "<div>\n",
       "<style scoped>\n",
       "    .dataframe tbody tr th:only-of-type {\n",
       "        vertical-align: middle;\n",
       "    }\n",
       "\n",
       "    .dataframe tbody tr th {\n",
       "        vertical-align: top;\n",
       "    }\n",
       "\n",
       "    .dataframe thead th {\n",
       "        text-align: right;\n",
       "    }\n",
       "</style>\n",
       "<table border=\"1\" class=\"dataframe\">\n",
       "  <thead>\n",
       "    <tr style=\"text-align: right;\">\n",
       "      <th></th>\n",
       "      <th>Data</th>\n",
       "      <th>Label</th>\n",
       "    </tr>\n",
       "  </thead>\n",
       "  <tbody>\n",
       "    <tr>\n",
       "      <th>0</th>\n",
       "      <td>False</td>\n",
       "      <td>False</td>\n",
       "    </tr>\n",
       "    <tr>\n",
       "      <th>1</th>\n",
       "      <td>False</td>\n",
       "      <td>False</td>\n",
       "    </tr>\n",
       "    <tr>\n",
       "      <th>2</th>\n",
       "      <td>False</td>\n",
       "      <td>False</td>\n",
       "    </tr>\n",
       "    <tr>\n",
       "      <th>3</th>\n",
       "      <td>False</td>\n",
       "      <td>False</td>\n",
       "    </tr>\n",
       "    <tr>\n",
       "      <th>4</th>\n",
       "      <td>False</td>\n",
       "      <td>False</td>\n",
       "    </tr>\n",
       "    <tr>\n",
       "      <th>...</th>\n",
       "      <td>...</td>\n",
       "      <td>...</td>\n",
       "    </tr>\n",
       "    <tr>\n",
       "      <th>12570</th>\n",
       "      <td>False</td>\n",
       "      <td>False</td>\n",
       "    </tr>\n",
       "    <tr>\n",
       "      <th>12571</th>\n",
       "      <td>False</td>\n",
       "      <td>False</td>\n",
       "    </tr>\n",
       "    <tr>\n",
       "      <th>12572</th>\n",
       "      <td>False</td>\n",
       "      <td>False</td>\n",
       "    </tr>\n",
       "    <tr>\n",
       "      <th>12573</th>\n",
       "      <td>False</td>\n",
       "      <td>False</td>\n",
       "    </tr>\n",
       "    <tr>\n",
       "      <th>12574</th>\n",
       "      <td>False</td>\n",
       "      <td>False</td>\n",
       "    </tr>\n",
       "  </tbody>\n",
       "</table>\n",
       "<p>12575 rows × 2 columns</p>\n",
       "</div>"
      ],
      "text/plain": [
       "        Data  Label\n",
       "0      False  False\n",
       "1      False  False\n",
       "2      False  False\n",
       "3      False  False\n",
       "4      False  False\n",
       "...      ...    ...\n",
       "12570  False  False\n",
       "12571  False  False\n",
       "12572  False  False\n",
       "12573  False  False\n",
       "12574  False  False\n",
       "\n",
       "[12575 rows x 2 columns]"
      ]
     },
     "execution_count": 5,
     "metadata": {},
     "output_type": "execute_result"
    }
   ],
   "source": [
    "df_train.isnull()"
   ]
  },
  {
   "cell_type": "code",
   "execution_count": 6,
   "metadata": {
    "execution": {
     "iopub.execute_input": "2024-02-22T23:00:58.763947Z",
     "iopub.status.busy": "2024-02-22T23:00:58.763947Z",
     "iopub.status.idle": "2024-02-22T23:00:58.768946Z",
     "shell.execute_reply": "2024-02-22T23:00:58.768946Z"
    }
   },
   "outputs": [],
   "source": [
    "df_train.dropna(inplace=True)"
   ]
  },
  {
   "cell_type": "code",
   "execution_count": 7,
   "metadata": {
    "execution": {
     "iopub.execute_input": "2024-02-22T23:00:58.770952Z",
     "iopub.status.busy": "2024-02-22T23:00:58.770952Z",
     "iopub.status.idle": "2024-02-22T23:00:58.787858Z",
     "shell.execute_reply": "2024-02-22T23:00:58.787360Z"
    }
   },
   "outputs": [
    {
     "data": {
      "text/html": [
       "<div>\n",
       "<style scoped>\n",
       "    .dataframe tbody tr th:only-of-type {\n",
       "        vertical-align: middle;\n",
       "    }\n",
       "\n",
       "    .dataframe tbody tr th {\n",
       "        vertical-align: top;\n",
       "    }\n",
       "\n",
       "    .dataframe thead tr th {\n",
       "        text-align: left;\n",
       "    }\n",
       "\n",
       "    .dataframe thead tr:last-of-type th {\n",
       "        text-align: right;\n",
       "    }\n",
       "</style>\n",
       "<table border=\"1\" class=\"dataframe\">\n",
       "  <thead>\n",
       "    <tr>\n",
       "      <th></th>\n",
       "      <th colspan=\"4\" halign=\"left\">Data</th>\n",
       "    </tr>\n",
       "    <tr>\n",
       "      <th></th>\n",
       "      <th>count</th>\n",
       "      <th>unique</th>\n",
       "      <th>top</th>\n",
       "      <th>freq</th>\n",
       "    </tr>\n",
       "    <tr>\n",
       "      <th>Label</th>\n",
       "      <th></th>\n",
       "      <th></th>\n",
       "      <th></th>\n",
       "      <th></th>\n",
       "    </tr>\n",
       "  </thead>\n",
       "  <tbody>\n",
       "    <tr>\n",
       "      <th>0</th>\n",
       "      <td>2894</td>\n",
       "      <td>2809</td>\n",
       "      <td>প্রেমেণ্ট ভিসা নিশ্চিত হওয়ার পরে , অগ্রীম কোনো...</td>\n",
       "      <td>3</td>\n",
       "    </tr>\n",
       "    <tr>\n",
       "      <th>1</th>\n",
       "      <td>5133</td>\n",
       "      <td>4986</td>\n",
       "      <td>আমি কাউকে শুধু ধন্যবাদ দিতে চাই না , এতটুকু বল...</td>\n",
       "      <td>3</td>\n",
       "    </tr>\n",
       "    <tr>\n",
       "      <th>2</th>\n",
       "      <td>4548</td>\n",
       "      <td>4350</td>\n",
       "      <td>কুত্তারবাচ্ছা , তোর জন্মই ত পতিতালয়ে । তা না হ...</td>\n",
       "      <td>3</td>\n",
       "    </tr>\n",
       "  </tbody>\n",
       "</table>\n",
       "</div>"
      ],
      "text/plain": [
       "       Data                                                               \n",
       "      count unique                                                top freq\n",
       "Label                                                                     \n",
       "0      2894   2809  প্রেমেণ্ট ভিসা নিশ্চিত হওয়ার পরে , অগ্রীম কোনো...    3\n",
       "1      5133   4986  আমি কাউকে শুধু ধন্যবাদ দিতে চাই না , এতটুকু বল...    3\n",
       "2      4548   4350  কুত্তারবাচ্ছা , তোর জন্মই ত পতিতালয়ে । তা না হ...    3"
      ]
     },
     "execution_count": 7,
     "metadata": {},
     "output_type": "execute_result"
    }
   ],
   "source": [
    "df_train.groupby(\"Label\").describe()"
   ]
  },
  {
   "cell_type": "code",
   "execution_count": 8,
   "metadata": {
    "execution": {
     "iopub.execute_input": "2024-02-22T23:00:58.789858Z",
     "iopub.status.busy": "2024-02-22T23:00:58.789357Z",
     "iopub.status.idle": "2024-02-22T23:00:58.794357Z",
     "shell.execute_reply": "2024-02-22T23:00:58.794357Z"
    }
   },
   "outputs": [
    {
     "data": {
      "text/plain": [
       "1    5133\n",
       "2    4548\n",
       "0    2894\n",
       "Name: Label, dtype: int64"
      ]
     },
     "execution_count": 8,
     "metadata": {},
     "output_type": "execute_result"
    }
   ],
   "source": [
    "df_train[\"Label\"].value_counts()"
   ]
  },
  {
   "cell_type": "code",
   "execution_count": 9,
   "metadata": {
    "execution": {
     "iopub.execute_input": "2024-02-22T23:00:58.796358Z",
     "iopub.status.busy": "2024-02-22T23:00:58.796358Z",
     "iopub.status.idle": "2024-02-22T23:00:58.856357Z",
     "shell.execute_reply": "2024-02-22T23:00:58.856357Z"
    }
   },
   "outputs": [],
   "source": [
    "from bnlp import NLTKTokenizer\n",
    "from bs4 import BeautifulSoup\n",
    "from bnlp import BengaliCorpus as corpus\n",
    "import re\n",
    "from bangla_stemmer.stemmer import stemmer"
   ]
  },
  {
   "cell_type": "code",
   "execution_count": 10,
   "metadata": {
    "execution": {
     "iopub.execute_input": "2024-02-22T23:00:58.858857Z",
     "iopub.status.busy": "2024-02-22T23:00:58.858357Z",
     "iopub.status.idle": "2024-02-22T23:00:58.861859Z",
     "shell.execute_reply": "2024-02-22T23:00:58.861859Z"
    }
   },
   "outputs": [],
   "source": [
    "df_train['Data'] = df_train['Data'].astype(str)"
   ]
  },
  {
   "cell_type": "code",
   "execution_count": 11,
   "metadata": {
    "execution": {
     "iopub.execute_input": "2024-02-22T23:00:58.864374Z",
     "iopub.status.busy": "2024-02-22T23:00:58.863874Z",
     "iopub.status.idle": "2024-02-22T23:00:58.869373Z",
     "shell.execute_reply": "2024-02-22T23:00:58.869373Z"
    }
   },
   "outputs": [],
   "source": [
    "def rem_symbol_punct(text):\n",
    "    pattern = re.compile('[!@#$%^&*()_+-={}\\[\\];:\\'\\\"\\|<>,.///?`~।]', flags=re.I)\n",
    "    return pattern.sub(r'', text)\n",
    "\n",
    "\n",
    "def remove_html_and_urls(text):\n",
    "    # Remove HTML tags\n",
    "    soup = BeautifulSoup(text, \"html.parser\")\n",
    "    text_without_html = soup.get_text()\n",
    "\n",
    "    # Remove URLs\n",
    "    text_without_urls = re.sub(r'http[s]?://(?:[a-zA-Z]|[0-9]|[$-_@.&+]|[!*\\\\(\\\\),]|(?:%[0-9a-fA-F][0-9a-fA-F]))+', '', text_without_html)\n",
    "\n",
    "    return text_without_urls\n",
    "\n",
    "\n",
    "def remove_emojis(text):\n",
    "    # Emoji patterns for different Unicode ranges\n",
    "    emoji_pattern = re.compile(\n",
    "        \"[\"\n",
    "        \"\\U0001F600-\\U0001F64F\"  # Emoticons\n",
    "        \"\\U0001F300-\\U0001F5FF\"  # Symbols & Pictographs\n",
    "        \"\\U0001F680-\\U0001F6FF\"  # Transport & Map Symbols\n",
    "        \"\\U0001F700-\\U0001F77F\"  # Alphanumeric Supplement\n",
    "        \"\\U0001F780-\\U0001F7FF\"  # Geometric Shapes Extended\n",
    "        \"\\U0001F800-\\U0001F8FF\"  # Supplemental Arrows-C\n",
    "        \"\\U0001F900-\\U0001F9FF\"  # Supplemental Symbols and Pictographs\n",
    "        \"\\U0001FA00-\\U0001FA6F\"  # Chess Symbols\n",
    "        \"\\U0001FA70-\\U0001FAFF\"  # Symbols and Pictographs Extended-A\n",
    "        \"\\U00002702-\\U000027B0\"  # Dingbat symbols\n",
    "        \"\\U000024C2-\\U0001F251\" \n",
    "        \"]+\",\n",
    "        flags=re.UNICODE,\n",
    "    )\n",
    "    return emoji_pattern.sub(r'', text)\n",
    "\n",
    "\n",
    "#remove noise\n",
    "def Remove_text(text):\n",
    "    text = rem_symbol_punct(text)\n",
    "    text = remove_html_and_urls(text)\n",
    "    text = remove_emojis(text)\n",
    "    return text"
   ]
  },
  {
   "cell_type": "code",
   "execution_count": 12,
   "metadata": {
    "execution": {
     "iopub.execute_input": "2024-02-22T23:00:58.871877Z",
     "iopub.status.busy": "2024-02-22T23:00:58.871377Z",
     "iopub.status.idle": "2024-02-22T23:00:59.400462Z",
     "shell.execute_reply": "2024-02-22T23:00:59.399961Z"
    }
   },
   "outputs": [],
   "source": [
    "df_train['Data'] = df_train['Data'].apply(Remove_text)\n",
    "df_test['Data'] = df_test['Data'].apply(Remove_text)"
   ]
  },
  {
   "cell_type": "code",
   "execution_count": 13,
   "metadata": {
    "execution": {
     "iopub.execute_input": "2024-02-22T23:00:59.402463Z",
     "iopub.status.busy": "2024-02-22T23:00:59.402463Z",
     "iopub.status.idle": "2024-02-22T23:00:59.406961Z",
     "shell.execute_reply": "2024-02-22T23:00:59.406961Z"
    }
   },
   "outputs": [
    {
     "name": "stdout",
     "output_type": "stream",
     "text": [
      "370\n"
     ]
    }
   ],
   "source": [
    "longest_string = max(df_train[\"Data\"], key=len)\n",
    "print(len(longest_string))"
   ]
  },
  {
   "cell_type": "code",
   "execution_count": 14,
   "metadata": {
    "colab": {
     "base_uri": "https://localhost:8080/"
    },
    "execution": {
     "iopub.execute_input": "2024-02-22T23:00:59.408962Z",
     "iopub.status.busy": "2024-02-22T23:00:59.408962Z",
     "iopub.status.idle": "2024-02-22T23:00:59.900520Z",
     "shell.execute_reply": "2024-02-22T23:00:59.900520Z"
    },
    "id": "DFgD7Seo_Xlq",
    "outputId": "9be2fe5a-b7b5-4488-9cd4-8a48ce6123e8"
   },
   "outputs": [
    {
     "name": "stdout",
     "output_type": "stream",
     "text": [
      "Number of unique words: 24266\n",
      "[[    0     0     0 ...   132  1667  6930]\n",
      " [    0     0     0 ...   454  6932   117]\n",
      " [    0     0     0 ...  1389 11512  1479]\n",
      " ...\n",
      " [    0     0     0 ...  2141   790    12]\n",
      " [    0     0     0 ...    29   117    45]\n",
      " [    0     0     0 ...   213 10014   442]]\n"
     ]
    }
   ],
   "source": [
    "# train, test = train_test_split(df, test_size=0.2, stratify = df[\"classes\"], random_state = 42)\n",
    "num_classes = 3\n",
    "embed_num_dims = 300\n",
    "max_seq_len = 50\n",
    "\n",
    "x_train = df_train['Data']\n",
    "x_test = df_test['Data']\n",
    "\n",
    "y_train = df_train['Label']\n",
    "y_test = df_test['Label']\n",
    "\n",
    "texts_train = x_train\n",
    "texts_test = x_test\n",
    "\n",
    "tokenizer = Tokenizer()\n",
    "tokenizer.fit_on_texts(df_train['Data'])\n",
    "\n",
    "sequence_train = tokenizer.texts_to_sequences(texts_train)\n",
    "sequence_test = tokenizer.texts_to_sequences(texts_test)\n",
    "\n",
    "index_of_words = tokenizer.word_index\n",
    "\n",
    "vocab_size = len(index_of_words) + 1\n",
    "\n",
    "print('Number of unique words: {}'.format(len(index_of_words)))\n",
    "\n",
    "X_train_pad = pad_sequences(sequence_train, maxlen = max_seq_len, padding='pre' )\n",
    "X_test_pad = pad_sequences(sequence_test, maxlen = max_seq_len,  padding='pre')\n",
    "\n",
    "print(X_train_pad)\n",
    "\n",
    "y_train = tf.keras.utils.to_categorical(y_train)\n",
    "y_test = tf.keras.utils.to_categorical(y_test)\n"
   ]
  },
  {
   "cell_type": "code",
   "execution_count": 15,
   "metadata": {
    "execution": {
     "iopub.execute_input": "2024-02-22T23:00:59.902521Z",
     "iopub.status.busy": "2024-02-22T23:00:59.902521Z",
     "iopub.status.idle": "2024-02-22T23:00:59.905520Z",
     "shell.execute_reply": "2024-02-22T23:00:59.905520Z"
    }
   },
   "outputs": [],
   "source": [
    "# META EMBADDING"
   ]
  },
  {
   "cell_type": "code",
   "execution_count": 16,
   "metadata": {
    "execution": {
     "iopub.execute_input": "2024-02-22T23:00:59.907522Z",
     "iopub.status.busy": "2024-02-22T23:00:59.907522Z",
     "iopub.status.idle": "2024-02-22T23:01:27.214592Z",
     "shell.execute_reply": "2024-02-22T23:01:27.214081Z"
    }
   },
   "outputs": [
    {
     "name": "stdout",
     "output_type": "stream",
     "text": [
      "(24267, 300)\n"
     ]
    }
   ],
   "source": [
    "def create_embedding_matrix(word_index, embedding_dim):\n",
    "    vocab_size = len(word_index) + 1  # Adding again 1 because of reserved 0 index\n",
    "    embedding_matrix = np.zeros((vocab_size, embedding_dim))\n",
    "    with open('F:/Python_code/embedding/cc.bn.300.vec',encoding=\"utf8\") as f:\n",
    "        for line in f:\n",
    "            word, *vector = line.split()\n",
    "            if word in word_index:\n",
    "                idx = word_index[word] \n",
    "                embedding_matrix[idx] = np.array(\n",
    "                    vector, dtype=np.float32)[:embedding_dim]\n",
    "    return embedding_matrix\n",
    "\n",
    "\n",
    "embedd_matrix_fasttext = create_embedding_matrix(index_of_words, embed_num_dims)\n",
    "print(embedd_matrix_fasttext.shape)"
   ]
  },
  {
   "cell_type": "markdown",
   "metadata": {
    "id": "gGgsd5mMZPKn"
   },
   "source": [
    "# Random Search"
   ]
  },
  {
   "cell_type": "code",
   "execution_count": 17,
   "metadata": {
    "colab": {
     "base_uri": "https://localhost:8080/"
    },
    "execution": {
     "iopub.execute_input": "2024-02-22T23:01:27.216599Z",
     "iopub.status.busy": "2024-02-22T23:01:27.216599Z",
     "iopub.status.idle": "2024-02-22T23:13:24.539489Z",
     "shell.execute_reply": "2024-02-22T23:13:24.539489Z"
    },
    "id": "3IvOZoK8YGDI",
    "outputId": "fe861031-a89e-45d3-8f7a-42f1e7b6b256"
   },
   "outputs": [
    {
     "name": "stdout",
     "output_type": "stream",
     "text": [
      "Trial 30 Complete [00h 00m 34s]\n",
      "val_accuracy: 0.7147415280342102\n",
      "\n",
      "Best val_accuracy So Far: 0.7243139743804932\n",
      "Total elapsed time: 00h 11m 57s\n",
      "INFO:tensorflow:Oracle triggered exit\n",
      "Results summary\n",
      "Results in 1708642887\\untitled_project\n",
      "Showing 10 best trials\n",
      "Objective(name=\"val_accuracy\", direction=\"max\")\n",
      "\n",
      "Trial 22 summary\n",
      "Hyperparameters:\n",
      "cnn_1_unit: 32\n",
      "cnn_1_dropout: 0.1\n",
      "lstm_unit: 128\n",
      "lstm_dropout: 0.5\n",
      "Score: 0.7243139743804932\n",
      "\n",
      "Trial 00 summary\n",
      "Hyperparameters:\n",
      "cnn_1_unit: 32\n",
      "cnn_1_dropout: 0.1\n",
      "lstm_unit: 128\n",
      "lstm_dropout: 0.30000000000000004\n",
      "Score: 0.7236757874488831\n",
      "\n",
      "Trial 27 summary\n",
      "Hyperparameters:\n",
      "cnn_1_unit: 96\n",
      "cnn_1_dropout: 0.2\n",
      "lstm_unit: 224\n",
      "lstm_dropout: 0.2\n",
      "Score: 0.7198468446731567\n",
      "\n",
      "Trial 28 summary\n",
      "Hyperparameters:\n",
      "cnn_1_unit: 64\n",
      "cnn_1_dropout: 0.1\n",
      "lstm_unit: 128\n",
      "lstm_dropout: 0.5\n",
      "Score: 0.7185705304145813\n",
      "\n",
      "Trial 04 summary\n",
      "Hyperparameters:\n",
      "cnn_1_unit: 32\n",
      "cnn_1_dropout: 0.2\n",
      "lstm_unit: 64\n",
      "lstm_dropout: 0.1\n",
      "Score: 0.7172942161560059\n",
      "\n",
      "Trial 05 summary\n",
      "Hyperparameters:\n",
      "cnn_1_unit: 32\n",
      "cnn_1_dropout: 0.2\n",
      "lstm_unit: 96\n",
      "lstm_dropout: 0.30000000000000004\n",
      "Score: 0.7172942161560059\n",
      "\n",
      "Trial 07 summary\n",
      "Hyperparameters:\n",
      "cnn_1_unit: 32\n",
      "cnn_1_dropout: 0.2\n",
      "lstm_unit: 160\n",
      "lstm_dropout: 0.5\n",
      "Score: 0.7172942161560059\n",
      "\n",
      "Trial 20 summary\n",
      "Hyperparameters:\n",
      "cnn_1_unit: 32\n",
      "cnn_1_dropout: 0.2\n",
      "lstm_unit: 64\n",
      "lstm_dropout: 0.5\n",
      "Score: 0.7172942161560059\n",
      "\n",
      "Trial 02 summary\n",
      "Hyperparameters:\n",
      "cnn_1_unit: 96\n",
      "cnn_1_dropout: 0.2\n",
      "lstm_unit: 128\n",
      "lstm_dropout: 0.2\n",
      "Score: 0.7153797149658203\n",
      "\n",
      "Trial 29 summary\n",
      "Hyperparameters:\n",
      "cnn_1_unit: 48\n",
      "cnn_1_dropout: 0.1\n",
      "lstm_unit: 128\n",
      "lstm_dropout: 0.5\n",
      "Score: 0.7147415280342102\n"
     ]
    }
   ],
   "source": [
    "from tensorflow.keras import regularizers\n",
    "import time\n",
    "LOG_DIR = f\"{int(time.time())}\"\n",
    "seed_value= 0\n",
    "\n",
    "\n",
    "\n",
    "def build_model(hp):\n",
    "  \n",
    "  reproduceResult()\n",
    "\n",
    "  print('Ya it comes here')\n",
    "  fake_val = hp.Int(\"cnn_1_unit\",min_value =16, max_value = 96, step = 16)\n",
    "  cnn_1_unit = hp.Int(\"cnn_1_unit\",min_value =16, max_value = 96, step = 16)\n",
    "  cnn_1_dropout = hp.Float(\"cnn_1_dropout\",min_value = 0.1,max_value = 0.3,step = 0.1)\n",
    "\n",
    "  lstm_unit = hp.Int(\"lstm_unit\",min_value =64, max_value = 256, step = 32)\n",
    "  lstm_dropout = hp.Float(\"lstm_dropout\",min_value = 0.1,max_value = 0.5,step = 0.1)\n",
    "\n",
    "\n",
    "\n",
    "\n",
    "  seq_input = keras.layers.Input(shape=(max_seq_len,))\n",
    "\n",
    "  embedded = keras.layers.Embedding(vocab_size,\n",
    "                          embed_num_dims,\n",
    "                          input_length = max_seq_len,\n",
    "                          weights = [embedd_matrix_fasttext])(seq_input)\n",
    "\n",
    "  cnn = keras.layers.Conv1D(cnn_1_unit,3,kernel_regularizer=regularizers.l2(1e-4),\n",
    "                            bias_regularizer=regularizers.l2(1e-2),\n",
    "                            activity_regularizer=regularizers.l2(1e-4))(embedded)\n",
    "  cnn = keras.layers.Activation(activation='relu')(cnn)\n",
    "  cnn = keras.layers.BatchNormalization()(cnn)\n",
    "  cnn = keras.layers.Dropout(cnn_1_dropout,seed=seed_value)(cnn)\n",
    "  \n",
    "  \n",
    "  max_pooling = keras.layers.GlobalMaxPooling1D()(cnn)\n",
    "  output = keras.layers.Dense(num_classes, activation='softmax')(max_pooling)\n",
    "\n",
    "  model = keras.Model(inputs = [seq_input], outputs = output)\n",
    "  model.compile(loss = 'categorical_crossentropy', optimizer = 'adam', metrics = ['accuracy'])\n",
    "\n",
    "  return model\n",
    "\n",
    "\n",
    "stop = tf.keras.callbacks.EarlyStopping(monitor='val_accuracy',\n",
    "                              patience=5,\n",
    "                              restore_best_weights=True,\n",
    "                              verbose=0, mode='max')\n",
    "\n",
    "\n",
    "clr_step_size = int((len(X_train_pad)/64))\n",
    "base_lr = 1e-3\n",
    "max_lr = 6e-3\n",
    "mode = 'exp_range'\n",
    "\n",
    "\n",
    "clr = CyclicLR(base_lr = base_lr, max_lr = max_lr, step_size = clr_step_size, mode = mode)\n",
    "\n",
    "\n",
    "\n",
    "tuner = RandomSearch(\n",
    "    build_model,\n",
    "    objective = keras_tuner.Objective('val_accuracy', direction=\"max\"),\n",
    "    max_trials = 30,\n",
    "    executions_per_trial = 1,\n",
    "    directory = LOG_DIR\n",
    "    )\n",
    "  \n",
    "tuner.search(x=X_train_pad,y = y_train,epochs = 30, batch_size = 64,callbacks = [stop,clr], \n",
    "             validation_data = (X_test_pad,y_test))\n",
    "\n",
    "\n",
    "tuner.results_summary()"
   ]
  },
  {
   "cell_type": "code",
   "execution_count": 18,
   "metadata": {
    "execution": {
     "iopub.execute_input": "2024-02-22T23:13:24.542000Z",
     "iopub.status.busy": "2024-02-22T23:13:24.541501Z",
     "iopub.status.idle": "2024-02-22T23:13:24.545499Z",
     "shell.execute_reply": "2024-02-22T23:13:24.545499Z"
    }
   },
   "outputs": [
    {
     "name": "stdout",
     "output_type": "stream",
     "text": [
      "Search space summary\n",
      "Default search space size: 4\n",
      "cnn_1_unit (Int)\n",
      "{'default': None, 'conditions': [], 'min_value': 16, 'max_value': 96, 'step': 16, 'sampling': 'linear'}\n",
      "cnn_1_dropout (Float)\n",
      "{'default': 0.1, 'conditions': [], 'min_value': 0.1, 'max_value': 0.3, 'step': 0.1, 'sampling': 'linear'}\n",
      "lstm_unit (Int)\n",
      "{'default': None, 'conditions': [], 'min_value': 64, 'max_value': 256, 'step': 32, 'sampling': 'linear'}\n",
      "lstm_dropout (Float)\n",
      "{'default': 0.1, 'conditions': [], 'min_value': 0.1, 'max_value': 0.5, 'step': 0.1, 'sampling': 'linear'}\n"
     ]
    }
   ],
   "source": [
    "tuner.search_space_summary()"
   ]
  },
  {
   "cell_type": "code",
   "execution_count": 19,
   "metadata": {
    "execution": {
     "iopub.execute_input": "2024-02-22T23:13:24.547501Z",
     "iopub.status.busy": "2024-02-22T23:13:24.547501Z",
     "iopub.status.idle": "2024-02-22T23:13:24.627533Z",
     "shell.execute_reply": "2024-02-22T23:13:24.627020Z"
    }
   },
   "outputs": [
    {
     "name": "stdout",
     "output_type": "stream",
     "text": [
      "Ya it comes here\n"
     ]
    }
   ],
   "source": [
    "#get best hypoerparamter\n",
    "best_hps = tuner.get_best_hyperparameters()[0]\n",
    "model = build_model(best_hps)"
   ]
  },
  {
   "cell_type": "code",
   "execution_count": 20,
   "metadata": {
    "execution": {
     "iopub.execute_input": "2024-02-22T23:13:24.630034Z",
     "iopub.status.busy": "2024-02-22T23:13:24.629535Z",
     "iopub.status.idle": "2024-02-22T23:13:43.040776Z",
     "shell.execute_reply": "2024-02-22T23:13:43.040274Z"
    }
   },
   "outputs": [
    {
     "name": "stdout",
     "output_type": "stream",
     "text": [
      "Epoch 1/30\n",
      "197/197 [==============================] - 2s 8ms/step - loss: 1.0716 - accuracy: 0.5908 - val_loss: 0.9402 - val_accuracy: 0.5826\n",
      "Epoch 2/30\n",
      "197/197 [==============================] - 1s 8ms/step - loss: 0.3841 - accuracy: 0.8671 - val_loss: 0.7758 - val_accuracy: 0.6662\n",
      "Epoch 3/30\n",
      "197/197 [==============================] - 1s 8ms/step - loss: 0.1582 - accuracy: 0.9641 - val_loss: 0.9687 - val_accuracy: 0.6675\n",
      "Epoch 4/30\n",
      "197/197 [==============================] - 1s 8ms/step - loss: 0.2068 - accuracy: 0.9625 - val_loss: 0.8840 - val_accuracy: 0.7001\n",
      "Epoch 5/30\n",
      "197/197 [==============================] - 1s 7ms/step - loss: 0.1283 - accuracy: 0.9784 - val_loss: 0.9371 - val_accuracy: 0.6975\n",
      "Epoch 6/30\n",
      "197/197 [==============================] - 1s 7ms/step - loss: 0.1639 - accuracy: 0.9751 - val_loss: 0.9085 - val_accuracy: 0.6911\n",
      "Epoch 7/30\n",
      "197/197 [==============================] - 1s 8ms/step - loss: 0.1162 - accuracy: 0.9797 - val_loss: 0.9067 - val_accuracy: 0.7116\n",
      "Epoch 8/30\n",
      "197/197 [==============================] - 1s 7ms/step - loss: 0.1400 - accuracy: 0.9783 - val_loss: 0.9018 - val_accuracy: 0.7090\n",
      "Epoch 9/30\n",
      "197/197 [==============================] - 1s 7ms/step - loss: 0.1111 - accuracy: 0.9796 - val_loss: 0.9770 - val_accuracy: 0.6975\n",
      "Epoch 10/30\n",
      "197/197 [==============================] - 1s 7ms/step - loss: 0.1371 - accuracy: 0.9801 - val_loss: 0.9132 - val_accuracy: 0.7045\n",
      "Epoch 11/30\n",
      "197/197 [==============================] - 1s 7ms/step - loss: 0.0998 - accuracy: 0.9818 - val_loss: 0.9533 - val_accuracy: 0.6988\n",
      "Epoch 12/30\n",
      "197/197 [==============================] - 1s 8ms/step - loss: 0.1257 - accuracy: 0.9815 - val_loss: 0.9027 - val_accuracy: 0.7103\n"
     ]
    }
   ],
   "source": [
    "history = model.fit(x=X_train_pad,y = y_train,epochs = 30, batch_size = 64,callbacks = [stop,clr], \n",
    "             validation_data = (X_test_pad,y_test))"
   ]
  },
  {
   "cell_type": "code",
   "execution_count": 21,
   "metadata": {
    "execution": {
     "iopub.execute_input": "2024-02-22T23:13:43.043275Z",
     "iopub.status.busy": "2024-02-22T23:13:43.042776Z",
     "iopub.status.idle": "2024-02-22T23:13:43.047298Z",
     "shell.execute_reply": "2024-02-22T23:13:43.047298Z"
    }
   },
   "outputs": [],
   "source": [
    "def PlotGraph(history):\n",
    "    acc = history.history['accuracy']\n",
    "    val_acc = history.history['val_accuracy']\n",
    "    loss = history.history['loss']\n",
    "    val_loss = history.history['val_loss']\n",
    "    x = range(1, len(acc) + 1)\n",
    "\n",
    "    plt.figure(figsize=(12, 5))\n",
    "    plt.subplot(1, 2, 1)\n",
    "    plt.plot(x, acc, 'g', label='Training acc')\n",
    "    plt.plot(x, val_acc, 'b', label='Validation acc')\n",
    "    plt.title('Training and validation accuracy')\n",
    "    plt.legend()\n",
    "    plt.subplot(1, 2, 2)\n",
    "    plt.plot(x, loss, 'g', label='Training loss')\n",
    "    plt.plot(x, val_loss, 'b', label='Validation loss')\n",
    "    plt.title('Training and validation loss')\n",
    "    plt.legend()"
   ]
  },
  {
   "cell_type": "code",
   "execution_count": 22,
   "metadata": {
    "execution": {
     "iopub.execute_input": "2024-02-22T23:13:43.049309Z",
     "iopub.status.busy": "2024-02-22T23:13:43.049309Z",
     "iopub.status.idle": "2024-02-22T23:13:43.361363Z",
     "shell.execute_reply": "2024-02-22T23:13:43.360862Z"
    }
   },
   "outputs": [
    {
     "data": {
      "image/png": "[encoded data removed]",
      "text/plain": [
       "<Figure size 1200x500 with 2 Axes>"
      ]
     },
     "metadata": {},
     "output_type": "display_data"
    }
   ],
   "source": [
    "PlotGraph(history)"
   ]
  },
  {
   "cell_type": "code",
   "execution_count": 23,
   "metadata": {
    "execution": {
     "iopub.execute_input": "2024-02-22T23:13:43.363364Z",
     "iopub.status.busy": "2024-02-22T23:13:43.363364Z",
     "iopub.status.idle": "2024-02-22T23:13:43.569810Z",
     "shell.execute_reply": "2024-02-22T23:13:43.569306Z"
    }
   },
   "outputs": [
    {
     "name": "stdout",
     "output_type": "stream",
     "text": [
      "49/49 [==============================] - 0s 979us/step\n"
     ]
    },
    {
     "data": {
      "text/plain": [
       "array([1, 1, 1, ..., 1, 2, 0], dtype=int64)"
      ]
     },
     "execution_count": 23,
     "metadata": {},
     "output_type": "execute_result"
    }
   ],
   "source": [
    "predict = model.predict(X_test_pad)\n",
    "predict_class = np.argmax(predict, axis=1)\n",
    "predict_class = np.array(predict_class)\n",
    "predict_class"
   ]
  },
  {
   "cell_type": "code",
   "execution_count": 24,
   "metadata": {
    "execution": {
     "iopub.execute_input": "2024-02-22T23:13:43.571307Z",
     "iopub.status.busy": "2024-02-22T23:13:43.571307Z",
     "iopub.status.idle": "2024-02-22T23:13:43.575306Z",
     "shell.execute_reply": "2024-02-22T23:13:43.575306Z"
    }
   },
   "outputs": [
    {
     "data": {
      "text/plain": [
       "array([1, 2, 1, ..., 1, 2, 0], dtype=int64)"
      ]
     },
     "execution_count": 24,
     "metadata": {},
     "output_type": "execute_result"
    }
   ],
   "source": [
    "predict_lables=np.argmax(y_test, axis=1)\n",
    "predict_lables"
   ]
  },
  {
   "cell_type": "code",
   "execution_count": 25,
   "metadata": {
    "execution": {
     "iopub.execute_input": "2024-02-22T23:13:43.577307Z",
     "iopub.status.busy": "2024-02-22T23:13:43.577307Z",
     "iopub.status.idle": "2024-02-22T23:13:43.581812Z",
     "shell.execute_reply": "2024-02-22T23:13:43.581812Z"
    },
    "scrolled": true
   },
   "outputs": [
    {
     "data": {
      "text/plain": [
       "array([[171, 102,  81],\n",
       "       [ 84, 491,  48],\n",
       "       [ 83,  54, 453]], dtype=int64)"
      ]
     },
     "execution_count": 25,
     "metadata": {},
     "output_type": "execute_result"
    }
   ],
   "source": [
    "from sklearn.metrics import confusion_matrix\n",
    "cm = confusion_matrix(predict_lables, predict_class)\n",
    "cm"
   ]
  },
  {
   "cell_type": "code",
   "execution_count": 26,
   "metadata": {
    "execution": {
     "iopub.execute_input": "2024-02-22T23:13:43.584319Z",
     "iopub.status.busy": "2024-02-22T23:13:43.583818Z",
     "iopub.status.idle": "2024-02-22T23:13:43.586816Z",
     "shell.execute_reply": "2024-02-22T23:13:43.586816Z"
    }
   },
   "outputs": [],
   "source": [
    "encoding = {\n",
    "    0: \"Neutral\",\n",
    "    1: \"Positive\",\n",
    "    2: \"Negative\"\n",
    "}"
   ]
  },
  {
   "cell_type": "code",
   "execution_count": 27,
   "metadata": {
    "execution": {
     "iopub.execute_input": "2024-02-22T23:13:43.588817Z",
     "iopub.status.busy": "2024-02-22T23:13:43.588817Z",
     "iopub.status.idle": "2024-02-22T23:13:43.591816Z",
     "shell.execute_reply": "2024-02-22T23:13:43.591816Z"
    }
   },
   "outputs": [],
   "source": [
    "class_names = list(encoding.values())"
   ]
  },
  {
   "cell_type": "code",
   "execution_count": 28,
   "metadata": {
    "execution": {
     "iopub.execute_input": "2024-02-22T23:13:43.593817Z",
     "iopub.status.busy": "2024-02-22T23:13:43.593817Z",
     "iopub.status.idle": "2024-02-22T23:13:43.596818Z",
     "shell.execute_reply": "2024-02-22T23:13:43.596818Z"
    }
   },
   "outputs": [
    {
     "name": "stdout",
     "output_type": "stream",
     "text": [
      "['Neutral', 'Positive', 'Negative']\n"
     ]
    }
   ],
   "source": [
    "print(class_names)"
   ]
  },
  {
   "cell_type": "code",
   "execution_count": 29,
   "metadata": {
    "execution": {
     "iopub.execute_input": "2024-02-22T23:13:43.598821Z",
     "iopub.status.busy": "2024-02-22T23:13:43.598821Z",
     "iopub.status.idle": "2024-02-22T23:13:43.752335Z",
     "shell.execute_reply": "2024-02-22T23:13:43.752335Z"
    }
   },
   "outputs": [
    {
     "data": {
      "text/plain": [
       "<Axes: >"
      ]
     },
     "execution_count": 29,
     "metadata": {},
     "output_type": "execute_result"
    },
    {
     "data": {
      "image/png": "[encoded data removed]",
      "text/plain": [
       "<Figure size 1000x700 with 2 Axes>"
      ]
     },
     "metadata": {},
     "output_type": "display_data"
    }
   ],
   "source": [
    "df_cm = pd.DataFrame(cm, index=class_names,columns=class_names)\n",
    "plt.figure(figsize = (10,7))\n",
    "sns.heatmap(df_cm,annot=True, fmt =\"d\")"
   ]
  },
  {
   "cell_type": "code",
   "execution_count": 30,
   "metadata": {
    "execution": {
     "iopub.execute_input": "2024-02-22T23:13:43.754848Z",
     "iopub.status.busy": "2024-02-22T23:13:43.754848Z",
     "iopub.status.idle": "2024-02-22T23:13:43.762846Z",
     "shell.execute_reply": "2024-02-22T23:13:43.762846Z"
    }
   },
   "outputs": [
    {
     "name": "stdout",
     "output_type": "stream",
     "text": [
      "              precision    recall  f1-score   support\n",
      "\n",
      "     Neutral       0.51      0.48      0.49       354\n",
      "    Positive       0.76      0.79      0.77       623\n",
      "    Negative       0.78      0.77      0.77       590\n",
      "\n",
      "    accuracy                           0.71      1567\n",
      "   macro avg       0.68      0.68      0.68      1567\n",
      "weighted avg       0.71      0.71      0.71      1567\n",
      "\n"
     ]
    }
   ],
   "source": [
    "from sklearn.metrics import classification_report\n",
    "print(classification_report(predict_lables, predict_class, target_names =class_names))"
   ]
  },
  {
   "cell_type": "code",
   "execution_count": null,
   "metadata": {},
   "outputs": [],
   "source": []
  },
  {
   "cell_type": "code",
   "execution_count": null,
   "metadata": {},
   "outputs": [],
   "source": []
  },
  {
   "cell_type": "code",
   "execution_count": null,
   "metadata": {},
   "outputs": [],
   "source": []
  }
 ],
 "metadata": {
  "colab": {
   "collapsed_sections": [],
   "name": "100_percent_test_BiLSTM_best_model_git.ipynb",
   "provenance": []
  },
  "kernelspec": {
   "display_name": "Python 3 (ipykernel)",
   "language": "python",
   "name": "python3"
  },
  "language_info": {
   "codemirror_mode": {
    "name": "ipython",
    "version": 3
   },
   "file_extension": ".py",
   "mimetype": "text/x-python",
   "name": "python",
   "nbconvert_exporter": "python",
   "pygments_lexer": "ipython3",
   "version": "3.9.17"
  }
 },
 "nbformat": 4,
 "nbformat_minor": 4
}
