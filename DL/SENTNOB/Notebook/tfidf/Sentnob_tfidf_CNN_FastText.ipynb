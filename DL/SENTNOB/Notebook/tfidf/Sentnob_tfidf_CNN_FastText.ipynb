{
 "cells": [
  {
   "cell_type": "code",
   "execution_count": 1,
   "metadata": {
    "execution": {
     "iopub.execute_input": "2024-02-22T18:10:34.501858Z",
     "iopub.status.busy": "2024-02-22T18:10:34.501358Z",
     "iopub.status.idle": "2024-02-22T18:10:34.514455Z",
     "shell.execute_reply": "2024-02-22T18:10:34.513952Z"
    },
    "id": "-6hmel6sKNSP"
   },
   "outputs": [],
   "source": [
    "def reproduceResult():\n",
    "  seed_value= 0\n",
    "\n",
    "  \n",
    "  with tf.device(\"/gpu:0\"):\n",
    "    ...\n",
    "\n",
    "\n",
    "  os.environ['PYTHONHASHSEED']=str(seed_value)\n",
    "  np.random.seed(0)\n",
    "  rn.seed(0)\n",
    "\n",
    "\n",
    "  session_conf = tf.compat.v1.ConfigProto(intra_op_parallelism_threads=1, \n",
    "                                          inter_op_parallelism_threads=1)\n",
    "\n",
    "\n",
    "  tf.compat.v1.set_random_seed(seed_value)\n",
    "  sess = tf.compat.v1.Session(graph=tf.compat.v1.get_default_graph(), config=session_conf)\n",
    "  tf.compat.v1.keras.backend.set_session(sess)\n",
    "  tf.compat.v1.keras.backend.clear_session()\n",
    "\n",
    "  \n"
   ]
  },
  {
   "cell_type": "code",
   "execution_count": 2,
   "metadata": {
    "execution": {
     "iopub.execute_input": "2024-02-22T18:10:34.516457Z",
     "iopub.status.busy": "2024-02-22T18:10:34.515957Z",
     "iopub.status.idle": "2024-02-22T18:10:39.775138Z",
     "shell.execute_reply": "2024-02-22T18:10:39.774623Z"
    },
    "id": "vURLkAC5_Jp0"
   },
   "outputs": [
    {
     "name": "stdout",
     "output_type": "stream",
     "text": [
      "WARNING:tensorflow:From C:\\Users\\moshi\\AppData\\Local\\Temp\\ipykernel_4072\\1320675762.py:20: The name tf.keras.backend.set_session is deprecated. Please use tf.compat.v1.keras.backend.set_session instead.\n",
      "\n"
     ]
    },
    {
     "name": "stderr",
     "output_type": "stream",
     "text": [
      "C:\\Users\\moshi\\AppData\\Local\\Temp\\ipykernel_4072\\2832172220.py:43: DeprecationWarning: `import kerastuner` is deprecated, please use `import keras_tuner`.\n",
      "  from kerastuner.tuners import RandomSearch\n"
     ]
    }
   ],
   "source": [
    "try:\n",
    "  %tensorflow_version 2.x\n",
    "except Exception:\n",
    "  pass\n",
    "  \n",
    "import os \n",
    "import numpy as np\n",
    "import tensorflow as tf\n",
    "import random as rn\n",
    "from tensorflow import keras\n",
    "\n",
    "reproduceResult()\n",
    "# %tensorflow_version 2.x\n",
    "# import tensorflow as tf\n",
    "# tf.test.gpu_device_name()\n",
    "# from scipy import integrate\n",
    "# import os\n",
    "# import numpy as np\n",
    "# from tensorflow import keras\n",
    "import tempfile\n",
    "import zipfile\n",
    "import pandas as pd\n",
    "import matplotlib.pyplot as plt\n",
    "from sklearn.metrics import accuracy_score, f1_score, confusion_matrix\n",
    "# import tensorflow as tf\n",
    "\n",
    "from sklearn.model_selection import train_test_split\n",
    "from tensorflow.keras.preprocessing.text import Tokenizer\n",
    "from tensorflow.keras.preprocessing.sequence import pad_sequences\n",
    "from tensorflow.keras import backend as K\n",
    "\n",
    "\n",
    "from tensorflow.keras import callbacks\n",
    "\n",
    "from keras_lr_finder import LRFinder\n",
    "from clr.clr_callback import CyclicLR\n",
    "\n",
    "import tensorflow_model_optimization as tfmot\n",
    "\n",
    "import tqdm\n",
    "\n",
    "import keras_tuner\n",
    "from kerastuner.tuners import RandomSearch\n",
    "from kerastuner.engine.hyperparameters import HyperParameters\n",
    "from attention import Attention\n",
    "\n",
    "import pandas as pd\n",
    "import numpy as np\n",
    "from matplotlib import pyplot as plt\n",
    "import seaborn as sns\n",
    "import math\n",
    "\n",
    "\n",
    "from keras.preprocessing.text import Tokenizer\n",
    "\n",
    "\n",
    "import re\n",
    "import nltk\n",
    "from nltk.corpus import stopwords\n",
    "from nltk.stem.snowball import PorterStemmer\n",
    "from sklearn import preprocessing\n",
    "\n",
    "from bnlp import SentencepieceTokenizer\n",
    "import gensim\n",
    "import fasttext "
   ]
  },
  {
   "cell_type": "code",
   "execution_count": 3,
   "metadata": {
    "execution": {
     "iopub.execute_input": "2024-02-22T18:10:39.777637Z",
     "iopub.status.busy": "2024-02-22T18:10:39.777137Z",
     "iopub.status.idle": "2024-02-22T18:10:39.867505Z",
     "shell.execute_reply": "2024-02-22T18:10:39.867004Z"
    }
   },
   "outputs": [],
   "source": [
    "df_train = pd.read_csv('F:/Context_Aware_Data_Cleaning_Deep/SENTNOB/Dataset/sentnob_train.csv')\n",
    "df_test = pd.read_csv('F:/Context_Aware_Data_Cleaning_Deep/SENTNOB/Dataset/sentnob_val.csv')"
   ]
  },
  {
   "cell_type": "code",
   "execution_count": 4,
   "metadata": {
    "execution": {
     "iopub.execute_input": "2024-02-22T18:10:39.870009Z",
     "iopub.status.busy": "2024-02-22T18:10:39.870009Z",
     "iopub.status.idle": "2024-02-22T18:10:39.883101Z",
     "shell.execute_reply": "2024-02-22T18:10:39.882598Z"
    }
   },
   "outputs": [
    {
     "data": {
      "text/plain": [
       "<bound method NDFrame.head of                                                     Data  Label\n",
       "0      মুগ্ধ হয়ে গেলাম মামু. আর তোমায় কি কমু. বলো তোম...      1\n",
       "1      এই কুত্তার বাচ্চাদের জন্য দেশটা আজ এমন অবস্তায়...      2\n",
       "2                              ভাই আপনার কথাই যাদু রয়েছে      1\n",
       "3                            উওরটা আমার অনেক ভাল লেগেছে       1\n",
       "4      আমার নিজের গাড়ী নিয়ে কি সাজেক যেতে পারবো না ?...      0\n",
       "...                                                  ...    ...\n",
       "12570  বর্ডারে অনেক লেট হয়ে যাওয়াতে আমরা জিপে করে চলে...      1\n",
       "12571  আমার সোনার বাংলাতে এমন রক্ষক নামের ভক্ষকের কোন...      2\n",
       "12572  ওনারা এত হাইজিনিক ও এত সুন্দর পরিবেশে রান্না ক...      1\n",
       "12573  বাংলাদেশ আমরা পুলিশ চাই না এই ধরনে পুলিশ দরকার...      2\n",
       "12574         বসুন্ধরা শাখার হাজি বিরিয়ানি একবারেই ফালতু      2\n",
       "\n",
       "[12575 rows x 2 columns]>"
      ]
     },
     "execution_count": 4,
     "metadata": {},
     "output_type": "execute_result"
    }
   ],
   "source": [
    "df_train.head"
   ]
  },
  {
   "cell_type": "code",
   "execution_count": 5,
   "metadata": {
    "execution": {
     "iopub.execute_input": "2024-02-22T18:10:39.885098Z",
     "iopub.status.busy": "2024-02-22T18:10:39.884600Z",
     "iopub.status.idle": "2024-02-22T18:10:39.898107Z",
     "shell.execute_reply": "2024-02-22T18:10:39.897775Z"
    }
   },
   "outputs": [
    {
     "data": {
      "text/html": [
       "<div>\n",
       "<style scoped>\n",
       "    .dataframe tbody tr th:only-of-type {\n",
       "        vertical-align: middle;\n",
       "    }\n",
       "\n",
       "    .dataframe tbody tr th {\n",
       "        vertical-align: top;\n",
       "    }\n",
       "\n",
       "    .dataframe thead th {\n",
       "        text-align: right;\n",
       "    }\n",
       "</style>\n",
       "<table border=\"1\" class=\"dataframe\">\n",
       "  <thead>\n",
       "    <tr style=\"text-align: right;\">\n",
       "      <th></th>\n",
       "      <th>Data</th>\n",
       "      <th>Label</th>\n",
       "    </tr>\n",
       "  </thead>\n",
       "  <tbody>\n",
       "    <tr>\n",
       "      <th>0</th>\n",
       "      <td>False</td>\n",
       "      <td>False</td>\n",
       "    </tr>\n",
       "    <tr>\n",
       "      <th>1</th>\n",
       "      <td>False</td>\n",
       "      <td>False</td>\n",
       "    </tr>\n",
       "    <tr>\n",
       "      <th>2</th>\n",
       "      <td>False</td>\n",
       "      <td>False</td>\n",
       "    </tr>\n",
       "    <tr>\n",
       "      <th>3</th>\n",
       "      <td>False</td>\n",
       "      <td>False</td>\n",
       "    </tr>\n",
       "    <tr>\n",
       "      <th>4</th>\n",
       "      <td>False</td>\n",
       "      <td>False</td>\n",
       "    </tr>\n",
       "    <tr>\n",
       "      <th>...</th>\n",
       "      <td>...</td>\n",
       "      <td>...</td>\n",
       "    </tr>\n",
       "    <tr>\n",
       "      <th>12570</th>\n",
       "      <td>False</td>\n",
       "      <td>False</td>\n",
       "    </tr>\n",
       "    <tr>\n",
       "      <th>12571</th>\n",
       "      <td>False</td>\n",
       "      <td>False</td>\n",
       "    </tr>\n",
       "    <tr>\n",
       "      <th>12572</th>\n",
       "      <td>False</td>\n",
       "      <td>False</td>\n",
       "    </tr>\n",
       "    <tr>\n",
       "      <th>12573</th>\n",
       "      <td>False</td>\n",
       "      <td>False</td>\n",
       "    </tr>\n",
       "    <tr>\n",
       "      <th>12574</th>\n",
       "      <td>False</td>\n",
       "      <td>False</td>\n",
       "    </tr>\n",
       "  </tbody>\n",
       "</table>\n",
       "<p>12575 rows × 2 columns</p>\n",
       "</div>"
      ],
      "text/plain": [
       "        Data  Label\n",
       "0      False  False\n",
       "1      False  False\n",
       "2      False  False\n",
       "3      False  False\n",
       "4      False  False\n",
       "...      ...    ...\n",
       "12570  False  False\n",
       "12571  False  False\n",
       "12572  False  False\n",
       "12573  False  False\n",
       "12574  False  False\n",
       "\n",
       "[12575 rows x 2 columns]"
      ]
     },
     "execution_count": 5,
     "metadata": {},
     "output_type": "execute_result"
    }
   ],
   "source": [
    "df_train.isnull()"
   ]
  },
  {
   "cell_type": "code",
   "execution_count": 6,
   "metadata": {
    "execution": {
     "iopub.execute_input": "2024-02-22T18:10:39.900114Z",
     "iopub.status.busy": "2024-02-22T18:10:39.900114Z",
     "iopub.status.idle": "2024-02-22T18:10:39.913632Z",
     "shell.execute_reply": "2024-02-22T18:10:39.913118Z"
    }
   },
   "outputs": [],
   "source": [
    "df_train.dropna(inplace=True)"
   ]
  },
  {
   "cell_type": "code",
   "execution_count": 7,
   "metadata": {
    "execution": {
     "iopub.execute_input": "2024-02-22T18:10:39.915630Z",
     "iopub.status.busy": "2024-02-22T18:10:39.915630Z",
     "iopub.status.idle": "2024-02-22T18:10:39.944333Z",
     "shell.execute_reply": "2024-02-22T18:10:39.943818Z"
    }
   },
   "outputs": [
    {
     "data": {
      "text/html": [
       "<div>\n",
       "<style scoped>\n",
       "    .dataframe tbody tr th:only-of-type {\n",
       "        vertical-align: middle;\n",
       "    }\n",
       "\n",
       "    .dataframe tbody tr th {\n",
       "        vertical-align: top;\n",
       "    }\n",
       "\n",
       "    .dataframe thead tr th {\n",
       "        text-align: left;\n",
       "    }\n",
       "\n",
       "    .dataframe thead tr:last-of-type th {\n",
       "        text-align: right;\n",
       "    }\n",
       "</style>\n",
       "<table border=\"1\" class=\"dataframe\">\n",
       "  <thead>\n",
       "    <tr>\n",
       "      <th></th>\n",
       "      <th colspan=\"4\" halign=\"left\">Data</th>\n",
       "    </tr>\n",
       "    <tr>\n",
       "      <th></th>\n",
       "      <th>count</th>\n",
       "      <th>unique</th>\n",
       "      <th>top</th>\n",
       "      <th>freq</th>\n",
       "    </tr>\n",
       "    <tr>\n",
       "      <th>Label</th>\n",
       "      <th></th>\n",
       "      <th></th>\n",
       "      <th></th>\n",
       "      <th></th>\n",
       "    </tr>\n",
       "  </thead>\n",
       "  <tbody>\n",
       "    <tr>\n",
       "      <th>0</th>\n",
       "      <td>2894</td>\n",
       "      <td>2809</td>\n",
       "      <td>প্রেমেণ্ট ভিসা নিশ্চিত হওয়ার পরে , অগ্রীম কোনো...</td>\n",
       "      <td>3</td>\n",
       "    </tr>\n",
       "    <tr>\n",
       "      <th>1</th>\n",
       "      <td>5133</td>\n",
       "      <td>4986</td>\n",
       "      <td>আমি কাউকে শুধু ধন্যবাদ দিতে চাই না , এতটুকু বল...</td>\n",
       "      <td>3</td>\n",
       "    </tr>\n",
       "    <tr>\n",
       "      <th>2</th>\n",
       "      <td>4548</td>\n",
       "      <td>4350</td>\n",
       "      <td>কুত্তারবাচ্ছা , তোর জন্মই ত পতিতালয়ে । তা না হ...</td>\n",
       "      <td>3</td>\n",
       "    </tr>\n",
       "  </tbody>\n",
       "</table>\n",
       "</div>"
      ],
      "text/plain": [
       "       Data                                                               \n",
       "      count unique                                                top freq\n",
       "Label                                                                     \n",
       "0      2894   2809  প্রেমেণ্ট ভিসা নিশ্চিত হওয়ার পরে , অগ্রীম কোনো...    3\n",
       "1      5133   4986  আমি কাউকে শুধু ধন্যবাদ দিতে চাই না , এতটুকু বল...    3\n",
       "2      4548   4350  কুত্তারবাচ্ছা , তোর জন্মই ত পতিতালয়ে । তা না হ...    3"
      ]
     },
     "execution_count": 7,
     "metadata": {},
     "output_type": "execute_result"
    }
   ],
   "source": [
    "df_train.groupby(\"Label\").describe()"
   ]
  },
  {
   "cell_type": "code",
   "execution_count": 8,
   "metadata": {
    "execution": {
     "iopub.execute_input": "2024-02-22T18:10:39.946329Z",
     "iopub.status.busy": "2024-02-22T18:10:39.945829Z",
     "iopub.status.idle": "2024-02-22T18:10:39.959698Z",
     "shell.execute_reply": "2024-02-22T18:10:39.959196Z"
    }
   },
   "outputs": [
    {
     "data": {
      "text/plain": [
       "1    5133\n",
       "2    4548\n",
       "0    2894\n",
       "Name: Label, dtype: int64"
      ]
     },
     "execution_count": 8,
     "metadata": {},
     "output_type": "execute_result"
    }
   ],
   "source": [
    "df_train[\"Label\"].value_counts()"
   ]
  },
  {
   "cell_type": "code",
   "execution_count": 9,
   "metadata": {
    "execution": {
     "iopub.execute_input": "2024-02-22T18:10:39.961696Z",
     "iopub.status.busy": "2024-02-22T18:10:39.961197Z",
     "iopub.status.idle": "2024-02-22T18:10:39.975200Z",
     "shell.execute_reply": "2024-02-22T18:10:39.974695Z"
    }
   },
   "outputs": [],
   "source": [
    "from sklearn.feature_extraction.text import TfidfVectorizer\n",
    "from bnlp import NLTKTokenizer"
   ]
  },
  {
   "cell_type": "code",
   "execution_count": 10,
   "metadata": {
    "execution": {
     "iopub.execute_input": "2024-02-22T18:10:39.977195Z",
     "iopub.status.busy": "2024-02-22T18:10:39.976695Z",
     "iopub.status.idle": "2024-02-22T18:10:40.253977Z",
     "shell.execute_reply": "2024-02-22T18:10:40.253461Z"
    }
   },
   "outputs": [
    {
     "name": "stdout",
     "output_type": "stream",
     "text": [
      "Less important words:\n",
      "100000    0.000027\n",
      "116       0.000017\n",
      "117       0.000017\n",
      "140       0.000029\n",
      "188       0.000017\n",
      "            ...   \n",
      "৫২        0.000013\n",
      "৭৮        0.000030\n",
      "৭৯২১      0.000028\n",
      "৮৫        0.000028\n",
      "৮৯        0.000030\n",
      "Length: 239, dtype: float64\n"
     ]
    }
   ],
   "source": [
    "# Initialize TF-IDF Vectorizer\n",
    "tfidf = TfidfVectorizer()\n",
    "\n",
    "# Fit and transform the text data\n",
    "tfidf_matrix = tfidf.fit_transform(df_train['Data'])\n",
    "\n",
    "# Get feature names (words)\n",
    "feature_names = tfidf.get_feature_names_out()\n",
    "\n",
    "# Create a DataFrame of TF-IDF scores\n",
    "tfidf_df = pd.DataFrame(tfidf_matrix.toarray(), columns=feature_names)\n",
    "\n",
    "# Find mean TF-IDF score for each word across all documents\n",
    "word_scores = tfidf_df.mean(axis=0)\n",
    "\n",
    "# Set a threshold to identify less important words (adjust threshold as needed)\n",
    "threshold = 0.00003 # For example, you can set a threshold value\n",
    "\n",
    "# Get less important words based on threshold\n",
    "less_important_words = word_scores[word_scores < threshold]\n",
    "\n",
    "# Display words that will be removed\n",
    "print(\"Less important words:\")\n",
    "print(less_important_words)"
   ]
  },
  {
   "cell_type": "code",
   "execution_count": 11,
   "metadata": {
    "execution": {
     "iopub.execute_input": "2024-02-22T18:10:40.255976Z",
     "iopub.status.busy": "2024-02-22T18:10:40.255976Z",
     "iopub.status.idle": "2024-02-22T18:10:40.269503Z",
     "shell.execute_reply": "2024-02-22T18:10:40.268984Z"
    }
   },
   "outputs": [],
   "source": [
    "# Function to remove less important words\n",
    "def remove_less_important_words(text):\n",
    "    words = text.split()\n",
    "    filtered_words = [word for word in words if word not in less_important_words]\n",
    "    return ' '.join(filtered_words)"
   ]
  },
  {
   "cell_type": "code",
   "execution_count": 12,
   "metadata": {
    "execution": {
     "iopub.execute_input": "2024-02-22T18:10:40.271502Z",
     "iopub.status.busy": "2024-02-22T18:10:40.271502Z",
     "iopub.status.idle": "2024-02-22T18:10:40.563876Z",
     "shell.execute_reply": "2024-02-22T18:10:40.563358Z"
    }
   },
   "outputs": [],
   "source": [
    "df_train['Data'] = df_train['Data'].apply(remove_less_important_words)\n",
    "df_test['Data'] = df_test['Data'].apply(remove_less_important_words)"
   ]
  },
  {
   "cell_type": "code",
   "execution_count": 13,
   "metadata": {
    "colab": {
     "base_uri": "https://localhost:8080/"
    },
    "execution": {
     "iopub.execute_input": "2024-02-22T18:10:40.565878Z",
     "iopub.status.busy": "2024-02-22T18:10:40.565878Z",
     "iopub.status.idle": "2024-02-22T18:10:41.075197Z",
     "shell.execute_reply": "2024-02-22T18:10:41.074678Z"
    },
    "id": "DFgD7Seo_Xlq",
    "outputId": "9be2fe5a-b7b5-4488-9cd4-8a48ce6123e8"
   },
   "outputs": [
    {
     "name": "stdout",
     "output_type": "stream",
     "text": [
      "Number of unique words: 24442\n",
      "[[    0     0     0 ...   134  1686  7004]\n",
      " [    0     0     0 ...   463  7006   119]\n",
      " [    0     0     0 ...  1406 11638  1496]\n",
      " ...\n",
      " [    0     0     0 ...  2162   801    13]\n",
      " [    0     0     0 ...    30   119    46]\n",
      " [    0     0     0 ...   216 10129   448]]\n"
     ]
    }
   ],
   "source": [
    "# train, test = train_test_split(df, test_size=0.2, stratify = df[\"classes\"], random_state = 42)\n",
    "num_classes = 3\n",
    "embed_num_dims = 300\n",
    "max_seq_len = 50\n",
    "\n",
    "x_train = df_train['Data']\n",
    "x_test = df_test['Data']\n",
    "\n",
    "y_train = df_train['Label']\n",
    "y_test = df_test['Label']\n",
    "\n",
    "texts_train = x_train\n",
    "texts_test = x_test\n",
    "\n",
    "tokenizer = Tokenizer()\n",
    "tokenizer.fit_on_texts(df_train['Data'])\n",
    "\n",
    "sequence_train = tokenizer.texts_to_sequences(texts_train)\n",
    "sequence_test = tokenizer.texts_to_sequences(texts_test)\n",
    "\n",
    "index_of_words = tokenizer.word_index\n",
    "\n",
    "vocab_size = len(index_of_words) + 1\n",
    "\n",
    "print('Number of unique words: {}'.format(len(index_of_words)))\n",
    "\n",
    "X_train_pad = pad_sequences(sequence_train, maxlen = max_seq_len, padding='pre' )\n",
    "X_test_pad = pad_sequences(sequence_test, maxlen = max_seq_len,  padding='pre')\n",
    "\n",
    "print(X_train_pad)\n",
    "\n",
    "y_train = tf.keras.utils.to_categorical(y_train)\n",
    "y_test = tf.keras.utils.to_categorical(y_test)\n"
   ]
  },
  {
   "cell_type": "code",
   "execution_count": 14,
   "metadata": {
    "execution": {
     "iopub.execute_input": "2024-02-22T18:10:41.077195Z",
     "iopub.status.busy": "2024-02-22T18:10:41.077195Z",
     "iopub.status.idle": "2024-02-22T18:10:41.090471Z",
     "shell.execute_reply": "2024-02-22T18:10:41.089968Z"
    }
   },
   "outputs": [],
   "source": [
    "# META EMBADDING"
   ]
  },
  {
   "cell_type": "code",
   "execution_count": 15,
   "metadata": {
    "execution": {
     "iopub.execute_input": "2024-02-22T18:10:41.092469Z",
     "iopub.status.busy": "2024-02-22T18:10:41.091974Z",
     "iopub.status.idle": "2024-02-22T18:11:08.377554Z",
     "shell.execute_reply": "2024-02-22T18:11:08.377051Z"
    }
   },
   "outputs": [
    {
     "name": "stdout",
     "output_type": "stream",
     "text": [
      "(24443, 300)\n"
     ]
    }
   ],
   "source": [
    "def create_embedding_matrix(word_index, embedding_dim):\n",
    "    vocab_size = len(word_index) + 1  # Adding again 1 because of reserved 0 index\n",
    "    embedding_matrix = np.zeros((vocab_size, embedding_dim))\n",
    "    with open('F:/Python_code/embedding/cc.bn.300.vec',encoding=\"utf8\") as f:\n",
    "        for line in f:\n",
    "            word, *vector = line.split()\n",
    "            if word in word_index:\n",
    "                idx = word_index[word] \n",
    "                embedding_matrix[idx] = np.array(\n",
    "                    vector, dtype=np.float32)[:embedding_dim]\n",
    "    return embedding_matrix\n",
    "\n",
    "\n",
    "embedd_matrix_fasttext = create_embedding_matrix(index_of_words, embed_num_dims)\n",
    "print(embedd_matrix_fasttext.shape)"
   ]
  },
  {
   "cell_type": "markdown",
   "metadata": {
    "id": "gGgsd5mMZPKn"
   },
   "source": [
    "# Random Search"
   ]
  },
  {
   "cell_type": "code",
   "execution_count": 16,
   "metadata": {
    "colab": {
     "base_uri": "https://localhost:8080/"
    },
    "execution": {
     "iopub.execute_input": "2024-02-22T18:11:08.379556Z",
     "iopub.status.busy": "2024-02-22T18:11:08.379556Z",
     "iopub.status.idle": "2024-02-22T18:23:10.778626Z",
     "shell.execute_reply": "2024-02-22T18:23:10.778085Z"
    },
    "id": "3IvOZoK8YGDI",
    "outputId": "fe861031-a89e-45d3-8f7a-42f1e7b6b256"
   },
   "outputs": [
    {
     "name": "stdout",
     "output_type": "stream",
     "text": [
      "Trial 30 Complete [00h 00m 27s]\n",
      "val_accuracy: 0.7064454555511475\n",
      "\n",
      "Best val_accuracy So Far: 0.7249521613121033\n",
      "Total elapsed time: 00h 12m 02s\n",
      "INFO:tensorflow:Oracle triggered exit\n",
      "Results summary\n",
      "Results in 1708625468\\untitled_project\n",
      "Showing 10 best trials\n",
      "Objective(name=\"val_accuracy\", direction=\"max\")\n",
      "\n",
      "Trial 14 summary\n",
      "Hyperparameters:\n",
      "cnn_1_unit: 96\n",
      "cnn_1_dropout: 0.2\n",
      "lstm_unit: 96\n",
      "lstm_dropout: 0.5\n",
      "Score: 0.7249521613121033\n",
      "\n",
      "Trial 15 summary\n",
      "Hyperparameters:\n",
      "cnn_1_unit: 96\n",
      "cnn_1_dropout: 0.2\n",
      "lstm_unit: 160\n",
      "lstm_dropout: 0.30000000000000004\n",
      "Score: 0.7179323434829712\n",
      "\n",
      "Trial 00 summary\n",
      "Hyperparameters:\n",
      "cnn_1_unit: 32\n",
      "cnn_1_dropout: 0.1\n",
      "lstm_unit: 128\n",
      "lstm_dropout: 0.30000000000000004\n",
      "Score: 0.7147415280342102\n",
      "\n",
      "Trial 23 summary\n",
      "Hyperparameters:\n",
      "cnn_1_unit: 80\n",
      "cnn_1_dropout: 0.1\n",
      "lstm_unit: 192\n",
      "lstm_dropout: 0.4\n",
      "Score: 0.7134652137756348\n",
      "\n",
      "Trial 22 summary\n",
      "Hyperparameters:\n",
      "cnn_1_unit: 32\n",
      "cnn_1_dropout: 0.1\n",
      "lstm_unit: 128\n",
      "lstm_dropout: 0.5\n",
      "Score: 0.7128270864486694\n",
      "\n",
      "Trial 11 summary\n",
      "Hyperparameters:\n",
      "cnn_1_unit: 48\n",
      "cnn_1_dropout: 0.1\n",
      "lstm_unit: 256\n",
      "lstm_dropout: 0.5\n",
      "Score: 0.7121888995170593\n",
      "\n",
      "Trial 18 summary\n",
      "Hyperparameters:\n",
      "cnn_1_unit: 96\n",
      "cnn_1_dropout: 0.2\n",
      "lstm_unit: 96\n",
      "lstm_dropout: 0.2\n",
      "Score: 0.7121888995170593\n",
      "\n",
      "Trial 19 summary\n",
      "Hyperparameters:\n",
      "cnn_1_unit: 80\n",
      "cnn_1_dropout: 0.1\n",
      "lstm_unit: 64\n",
      "lstm_dropout: 0.30000000000000004\n",
      "Score: 0.7115507125854492\n",
      "\n",
      "Trial 27 summary\n",
      "Hyperparameters:\n",
      "cnn_1_unit: 96\n",
      "cnn_1_dropout: 0.2\n",
      "lstm_unit: 224\n",
      "lstm_dropout: 0.2\n",
      "Score: 0.7109125852584839\n",
      "\n",
      "Trial 02 summary\n",
      "Hyperparameters:\n",
      "cnn_1_unit: 96\n",
      "cnn_1_dropout: 0.2\n",
      "lstm_unit: 128\n",
      "lstm_dropout: 0.2\n",
      "Score: 0.7102743983268738\n"
     ]
    }
   ],
   "source": [
    "from tensorflow.keras import regularizers\n",
    "import time\n",
    "LOG_DIR = f\"{int(time.time())}\"\n",
    "seed_value= 0\n",
    "\n",
    "\n",
    "\n",
    "def build_model(hp):\n",
    "  \n",
    "  reproduceResult()\n",
    "\n",
    "  print('Ya it comes here')\n",
    "  fake_val = hp.Int(\"cnn_1_unit\",min_value =16, max_value = 96, step = 16)\n",
    "  cnn_1_unit = hp.Int(\"cnn_1_unit\",min_value =16, max_value = 96, step = 16)\n",
    "  cnn_1_dropout = hp.Float(\"cnn_1_dropout\",min_value = 0.1,max_value = 0.3,step = 0.1)\n",
    "\n",
    "  lstm_unit = hp.Int(\"lstm_unit\",min_value =64, max_value = 256, step = 32)\n",
    "  lstm_dropout = hp.Float(\"lstm_dropout\",min_value = 0.1,max_value = 0.5,step = 0.1)\n",
    "\n",
    "\n",
    "\n",
    "\n",
    "  seq_input = keras.layers.Input(shape=(max_seq_len,))\n",
    "\n",
    "  embedded = keras.layers.Embedding(vocab_size,\n",
    "                          embed_num_dims,\n",
    "                          input_length = max_seq_len,\n",
    "                          weights = [embedd_matrix_fasttext])(seq_input)\n",
    "\n",
    "  cnn = keras.layers.Conv1D(cnn_1_unit,3,kernel_regularizer=regularizers.l2(1e-4),\n",
    "                            bias_regularizer=regularizers.l2(1e-2),\n",
    "                            activity_regularizer=regularizers.l2(1e-4))(embedded)\n",
    "  cnn = keras.layers.Activation(activation='relu')(cnn)\n",
    "  cnn = keras.layers.BatchNormalization()(cnn)\n",
    "  cnn = keras.layers.Dropout(cnn_1_dropout,seed=seed_value)(cnn)\n",
    "  \n",
    "  \n",
    "  max_pooling = keras.layers.GlobalMaxPooling1D()(cnn)\n",
    "  output = keras.layers.Dense(num_classes, activation='softmax')(max_pooling)\n",
    "\n",
    "  model = keras.Model(inputs = [seq_input], outputs = output)\n",
    "  model.compile(loss = 'categorical_crossentropy', optimizer = 'adam', metrics = ['accuracy'])\n",
    "\n",
    "  return model\n",
    "\n",
    "\n",
    "stop = tf.keras.callbacks.EarlyStopping(monitor='val_accuracy',\n",
    "                              patience=5,\n",
    "                              restore_best_weights=True,\n",
    "                              verbose=0, mode='max')\n",
    "\n",
    "\n",
    "clr_step_size = int((len(X_train_pad)/64))\n",
    "base_lr = 1e-3\n",
    "max_lr = 6e-3\n",
    "mode = 'exp_range'\n",
    "\n",
    "\n",
    "clr = CyclicLR(base_lr = base_lr, max_lr = max_lr, step_size = clr_step_size, mode = mode)\n",
    "\n",
    "\n",
    "\n",
    "tuner = RandomSearch(\n",
    "    build_model,\n",
    "    objective = keras_tuner.Objective('val_accuracy', direction=\"max\"),\n",
    "    max_trials = 30,\n",
    "    executions_per_trial = 1,\n",
    "    directory = LOG_DIR\n",
    "    )\n",
    "  \n",
    "tuner.search(x=X_train_pad,y = y_train,epochs = 30, batch_size = 64,callbacks = [stop,clr], \n",
    "             validation_data = (X_test_pad,y_test))\n",
    "\n",
    "\n",
    "tuner.results_summary()"
   ]
  },
  {
   "cell_type": "code",
   "execution_count": 17,
   "metadata": {
    "execution": {
     "iopub.execute_input": "2024-02-22T18:23:10.780627Z",
     "iopub.status.busy": "2024-02-22T18:23:10.780627Z",
     "iopub.status.idle": "2024-02-22T18:23:10.794172Z",
     "shell.execute_reply": "2024-02-22T18:23:10.793670Z"
    }
   },
   "outputs": [
    {
     "name": "stdout",
     "output_type": "stream",
     "text": [
      "Search space summary\n",
      "Default search space size: 4\n",
      "cnn_1_unit (Int)\n",
      "{'default': None, 'conditions': [], 'min_value': 16, 'max_value': 96, 'step': 16, 'sampling': 'linear'}\n",
      "cnn_1_dropout (Float)\n",
      "{'default': 0.1, 'conditions': [], 'min_value': 0.1, 'max_value': 0.3, 'step': 0.1, 'sampling': 'linear'}\n",
      "lstm_unit (Int)\n",
      "{'default': None, 'conditions': [], 'min_value': 64, 'max_value': 256, 'step': 32, 'sampling': 'linear'}\n",
      "lstm_dropout (Float)\n",
      "{'default': 0.1, 'conditions': [], 'min_value': 0.1, 'max_value': 0.5, 'step': 0.1, 'sampling': 'linear'}\n"
     ]
    }
   ],
   "source": [
    "tuner.search_space_summary()"
   ]
  },
  {
   "cell_type": "code",
   "execution_count": 18,
   "metadata": {
    "execution": {
     "iopub.execute_input": "2024-02-22T18:23:10.796171Z",
     "iopub.status.busy": "2024-02-22T18:23:10.796171Z",
     "iopub.status.idle": "2024-02-22T18:23:10.887007Z",
     "shell.execute_reply": "2024-02-22T18:23:10.886478Z"
    }
   },
   "outputs": [
    {
     "name": "stdout",
     "output_type": "stream",
     "text": [
      "Ya it comes here\n"
     ]
    }
   ],
   "source": [
    "#get best hypoerparamter\n",
    "best_hps = tuner.get_best_hyperparameters()[0]\n",
    "model = build_model(best_hps)"
   ]
  },
  {
   "cell_type": "code",
   "execution_count": 19,
   "metadata": {
    "execution": {
     "iopub.execute_input": "2024-02-22T18:23:10.889510Z",
     "iopub.status.busy": "2024-02-22T18:23:10.889010Z",
     "iopub.status.idle": "2024-02-22T18:23:28.997875Z",
     "shell.execute_reply": "2024-02-22T18:23:28.997357Z"
    }
   },
   "outputs": [
    {
     "name": "stdout",
     "output_type": "stream",
     "text": [
      "Epoch 1/30\n",
      "197/197 [==============================] - 2s 9ms/step - loss: 1.1948 - accuracy: 0.5894 - val_loss: 0.9377 - val_accuracy: 0.5980\n",
      "Epoch 2/30\n",
      "197/197 [==============================] - 2s 8ms/step - loss: 0.3958 - accuracy: 0.8696 - val_loss: 0.7752 - val_accuracy: 0.6937\n",
      "Epoch 3/30\n",
      "197/197 [==============================] - 2s 8ms/step - loss: 0.1775 - accuracy: 0.9621 - val_loss: 0.9595 - val_accuracy: 0.6682\n",
      "Epoch 4/30\n",
      "197/197 [==============================] - 2s 8ms/step - loss: 0.2408 - accuracy: 0.9556 - val_loss: 0.8840 - val_accuracy: 0.7103\n",
      "Epoch 5/30\n",
      "197/197 [==============================] - 2s 8ms/step - loss: 0.1474 - accuracy: 0.9751 - val_loss: 0.9814 - val_accuracy: 0.7026\n",
      "Epoch 6/30\n",
      "197/197 [==============================] - 2s 8ms/step - loss: 0.2047 - accuracy: 0.9698 - val_loss: 0.9095 - val_accuracy: 0.7205\n",
      "Epoch 7/30\n",
      "197/197 [==============================] - 2s 8ms/step - loss: 0.1626 - accuracy: 0.9735 - val_loss: 1.0906 - val_accuracy: 0.6841\n",
      "Epoch 8/30\n",
      "197/197 [==============================] - 2s 8ms/step - loss: 0.1945 - accuracy: 0.9684 - val_loss: 0.9801 - val_accuracy: 0.6943\n",
      "Epoch 9/30\n",
      "197/197 [==============================] - 2s 8ms/step - loss: 0.1535 - accuracy: 0.9751 - val_loss: 1.1307 - val_accuracy: 0.6847\n",
      "Epoch 10/30\n",
      "197/197 [==============================] - 2s 8ms/step - loss: 0.1997 - accuracy: 0.9685 - val_loss: 1.0231 - val_accuracy: 0.6899\n",
      "Epoch 11/30\n",
      "197/197 [==============================] - 2s 8ms/step - loss: 0.1305 - accuracy: 0.9794 - val_loss: 1.0508 - val_accuracy: 0.6994\n"
     ]
    }
   ],
   "source": [
    "history = model.fit(x=X_train_pad,y = y_train,epochs = 30, batch_size = 64,callbacks = [stop,clr], \n",
    "             validation_data = (X_test_pad,y_test))"
   ]
  },
  {
   "cell_type": "code",
   "execution_count": 20,
   "metadata": {
    "execution": {
     "iopub.execute_input": "2024-02-22T18:23:29.000371Z",
     "iopub.status.busy": "2024-02-22T18:23:28.999871Z",
     "iopub.status.idle": "2024-02-22T18:23:29.013048Z",
     "shell.execute_reply": "2024-02-22T18:23:29.012546Z"
    }
   },
   "outputs": [],
   "source": [
    "def PlotGraph(history):\n",
    "    acc = history.history['accuracy']\n",
    "    val_acc = history.history['val_accuracy']\n",
    "    loss = history.history['loss']\n",
    "    val_loss = history.history['val_loss']\n",
    "    x = range(1, len(acc) + 1)\n",
    "\n",
    "    plt.figure(figsize=(12, 5))\n",
    "    plt.subplot(1, 2, 1)\n",
    "    plt.plot(x, acc, 'g', label='Training acc')\n",
    "    plt.plot(x, val_acc, 'b', label='Validation acc')\n",
    "    plt.title('Training and validation accuracy')\n",
    "    plt.legend()\n",
    "    plt.subplot(1, 2, 2)\n",
    "    plt.plot(x, loss, 'g', label='Training loss')\n",
    "    plt.plot(x, val_loss, 'b', label='Validation loss')\n",
    "    plt.title('Training and validation loss')\n",
    "    plt.legend()"
   ]
  },
  {
   "cell_type": "code",
   "execution_count": 21,
   "metadata": {
    "execution": {
     "iopub.execute_input": "2024-02-22T18:23:29.015047Z",
     "iopub.status.busy": "2024-02-22T18:23:29.015047Z",
     "iopub.status.idle": "2024-02-22T18:23:29.338105Z",
     "shell.execute_reply": "2024-02-22T18:23:29.337604Z"
    }
   },
   "outputs": [
    {
     "data": {
      "image/png": "[encoded data removed]",
      "text/plain": [
       "<Figure size 1200x500 with 2 Axes>"
      ]
     },
     "metadata": {},
     "output_type": "display_data"
    }
   ],
   "source": [
    "PlotGraph(history)"
   ]
  },
  {
   "cell_type": "code",
   "execution_count": 22,
   "metadata": {
    "execution": {
     "iopub.execute_input": "2024-02-22T18:23:29.340605Z",
     "iopub.status.busy": "2024-02-22T18:23:29.340105Z",
     "iopub.status.idle": "2024-02-22T18:23:29.570436Z",
     "shell.execute_reply": "2024-02-22T18:23:29.569920Z"
    }
   },
   "outputs": [
    {
     "name": "stdout",
     "output_type": "stream",
     "text": [
      "49/49 [==============================] - 0s 969us/step\n"
     ]
    },
    {
     "data": {
      "text/plain": [
       "array([1, 0, 1, ..., 1, 2, 0], dtype=int64)"
      ]
     },
     "execution_count": 22,
     "metadata": {},
     "output_type": "execute_result"
    }
   ],
   "source": [
    "predict = model.predict(X_test_pad)\n",
    "predict_class = np.argmax(predict, axis=1)\n",
    "predict_class = np.array(predict_class)\n",
    "predict_class"
   ]
  },
  {
   "cell_type": "code",
   "execution_count": 23,
   "metadata": {
    "execution": {
     "iopub.execute_input": "2024-02-22T18:23:29.572434Z",
     "iopub.status.busy": "2024-02-22T18:23:29.572434Z",
     "iopub.status.idle": "2024-02-22T18:23:29.585688Z",
     "shell.execute_reply": "2024-02-22T18:23:29.585174Z"
    }
   },
   "outputs": [
    {
     "data": {
      "text/plain": [
       "array([1, 2, 1, ..., 1, 2, 0], dtype=int64)"
      ]
     },
     "execution_count": 23,
     "metadata": {},
     "output_type": "execute_result"
    }
   ],
   "source": [
    "predict_lables=np.argmax(y_test, axis=1)\n",
    "predict_lables"
   ]
  },
  {
   "cell_type": "code",
   "execution_count": 24,
   "metadata": {
    "execution": {
     "iopub.execute_input": "2024-02-22T18:23:29.587689Z",
     "iopub.status.busy": "2024-02-22T18:23:29.587188Z",
     "iopub.status.idle": "2024-02-22T18:23:29.601223Z",
     "shell.execute_reply": "2024-02-22T18:23:29.600703Z"
    },
    "scrolled": true
   },
   "outputs": [
    {
     "data": {
      "text/plain": [
       "array([[169, 108,  77],\n",
       "       [ 68, 502,  53],\n",
       "       [ 68,  64, 458]], dtype=int64)"
      ]
     },
     "execution_count": 24,
     "metadata": {},
     "output_type": "execute_result"
    }
   ],
   "source": [
    "from sklearn.metrics import confusion_matrix\n",
    "cm = confusion_matrix(predict_lables, predict_class)\n",
    "cm"
   ]
  },
  {
   "cell_type": "code",
   "execution_count": 25,
   "metadata": {
    "execution": {
     "iopub.execute_input": "2024-02-22T18:23:29.603217Z",
     "iopub.status.busy": "2024-02-22T18:23:29.603217Z",
     "iopub.status.idle": "2024-02-22T18:23:29.616519Z",
     "shell.execute_reply": "2024-02-22T18:23:29.616018Z"
    }
   },
   "outputs": [],
   "source": [
    "encoding = {\n",
    "    0: \"Neutral\",\n",
    "    1: \"Positive\",\n",
    "    2: \"Negative\"\n",
    "}"
   ]
  },
  {
   "cell_type": "code",
   "execution_count": 26,
   "metadata": {
    "execution": {
     "iopub.execute_input": "2024-02-22T18:23:29.618519Z",
     "iopub.status.busy": "2024-02-22T18:23:29.618020Z",
     "iopub.status.idle": "2024-02-22T18:23:29.632036Z",
     "shell.execute_reply": "2024-02-22T18:23:29.631520Z"
    }
   },
   "outputs": [],
   "source": [
    "class_names = list(encoding.values())"
   ]
  },
  {
   "cell_type": "code",
   "execution_count": 27,
   "metadata": {
    "execution": {
     "iopub.execute_input": "2024-02-22T18:23:29.634036Z",
     "iopub.status.busy": "2024-02-22T18:23:29.633534Z",
     "iopub.status.idle": "2024-02-22T18:23:29.647553Z",
     "shell.execute_reply": "2024-02-22T18:23:29.647037Z"
    }
   },
   "outputs": [
    {
     "name": "stdout",
     "output_type": "stream",
     "text": [
      "['Neutral', 'Positive', 'Negative']\n"
     ]
    }
   ],
   "source": [
    "print(class_names)"
   ]
  },
  {
   "cell_type": "code",
   "execution_count": 28,
   "metadata": {
    "execution": {
     "iopub.execute_input": "2024-02-22T18:23:29.649554Z",
     "iopub.status.busy": "2024-02-22T18:23:29.649051Z",
     "iopub.status.idle": "2024-02-22T18:23:29.818134Z",
     "shell.execute_reply": "2024-02-22T18:23:29.817631Z"
    }
   },
   "outputs": [
    {
     "data": {
      "text/plain": [
       "<Axes: >"
      ]
     },
     "execution_count": 28,
     "metadata": {},
     "output_type": "execute_result"
    },
    {
     "data": {
      "image/png": "[encoded data removed]",
      "text/plain": [
       "<Figure size 1000x700 with 2 Axes>"
      ]
     },
     "metadata": {},
     "output_type": "display_data"
    }
   ],
   "source": [
    "df_cm = pd.DataFrame(cm, index=class_names,columns=class_names)\n",
    "plt.figure(figsize = (10,7))\n",
    "sns.heatmap(df_cm,annot=True, fmt =\"d\")"
   ]
  },
  {
   "cell_type": "code",
   "execution_count": 29,
   "metadata": {
    "execution": {
     "iopub.execute_input": "2024-02-22T18:23:29.820131Z",
     "iopub.status.busy": "2024-02-22T18:23:29.820131Z",
     "iopub.status.idle": "2024-02-22T18:23:29.833649Z",
     "shell.execute_reply": "2024-02-22T18:23:29.833133Z"
    }
   },
   "outputs": [
    {
     "name": "stdout",
     "output_type": "stream",
     "text": [
      "              precision    recall  f1-score   support\n",
      "\n",
      "     Neutral       0.55      0.48      0.51       354\n",
      "    Positive       0.74      0.81      0.77       623\n",
      "    Negative       0.78      0.78      0.78       590\n",
      "\n",
      "    accuracy                           0.72      1567\n",
      "   macro avg       0.69      0.69      0.69      1567\n",
      "weighted avg       0.71      0.72      0.72      1567\n",
      "\n"
     ]
    }
   ],
   "source": [
    "from sklearn.metrics import classification_report\n",
    "print(classification_report(predict_lables, predict_class, target_names =class_names))"
   ]
  },
  {
   "cell_type": "code",
   "execution_count": null,
   "metadata": {},
   "outputs": [],
   "source": []
  },
  {
   "cell_type": "code",
   "execution_count": null,
   "metadata": {},
   "outputs": [],
   "source": []
  },
  {
   "cell_type": "code",
   "execution_count": null,
   "metadata": {},
   "outputs": [],
   "source": []
  }
 ],
 "metadata": {
  "colab": {
   "collapsed_sections": [],
   "name": "100_percent_test_BiLSTM_best_model_git.ipynb",
   "provenance": []
  },
  "kernelspec": {
   "display_name": "Python 3 (ipykernel)",
   "language": "python",
   "name": "python3"
  },
  "language_info": {
   "codemirror_mode": {
    "name": "ipython",
    "version": 3
   },
   "file_extension": ".py",
   "mimetype": "text/x-python",
   "name": "python",
   "nbconvert_exporter": "python",
   "pygments_lexer": "ipython3",
   "version": "3.9.17"
  }
 },
 "nbformat": 4,
 "nbformat_minor": 4
}
