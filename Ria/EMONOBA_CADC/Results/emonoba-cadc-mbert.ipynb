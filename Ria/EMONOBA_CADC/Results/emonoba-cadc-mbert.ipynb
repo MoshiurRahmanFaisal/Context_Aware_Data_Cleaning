{
 "cells": [
  {
   "cell_type": "code",
   "execution_count": 1,
   "id": "66b9ce18",
   "metadata": {
    "execution": {
     "iopub.execute_input": "2024-02-11T04:17:29.097573Z",
     "iopub.status.busy": "2024-02-11T04:17:29.096723Z",
     "iopub.status.idle": "2024-02-11T04:17:45.986790Z",
     "shell.execute_reply": "2024-02-11T04:17:45.985819Z"
    },
    "papermill": {
     "duration": 16.92106,
     "end_time": "2024-02-11T04:17:45.989093",
     "exception": false,
     "start_time": "2024-02-11T04:17:29.068033",
     "status": "completed"
    },
    "tags": []
   },
   "outputs": [
    {
     "name": "stdout",
     "output_type": "stream",
     "text": [
      "Collecting bnlp_toolkit\r\n",
      "  Downloading bnlp_toolkit-4.0.0-py3-none-any.whl.metadata (3.3 kB)\r\n",
      "Requirement already satisfied: sentencepiece in /opt/conda/lib/python3.10/site-packages (from bnlp_toolkit) (0.1.99)\r\n",
      "Requirement already satisfied: gensim in /opt/conda/lib/python3.10/site-packages (from bnlp_toolkit) (4.3.2)\r\n",
      "Requirement already satisfied: nltk in /opt/conda/lib/python3.10/site-packages (from bnlp_toolkit) (3.2.4)\r\n",
      "Requirement already satisfied: numpy in /opt/conda/lib/python3.10/site-packages (from bnlp_toolkit) (1.24.4)\r\n",
      "Requirement already satisfied: scipy in /opt/conda/lib/python3.10/site-packages (from bnlp_toolkit) (1.11.4)\r\n",
      "Collecting sklearn-crfsuite (from bnlp_toolkit)\r\n",
      "  Downloading sklearn_crfsuite-0.3.6-py2.py3-none-any.whl (12 kB)\r\n",
      "Requirement already satisfied: tqdm in /opt/conda/lib/python3.10/site-packages (from bnlp_toolkit) (4.66.1)\r\n",
      "Collecting ftfy (from bnlp_toolkit)\r\n",
      "  Downloading ftfy-6.1.3-py3-none-any.whl.metadata (6.2 kB)\r\n",
      "Collecting emoji==1.7.0 (from bnlp_toolkit)\r\n",
      "  Downloading emoji-1.7.0.tar.gz (175 kB)\r\n",
      "\u001b[2K     \u001b[90m━━━━━━━━━━━━━━━━━━━━━━━━━━━━━━━━━━━━━━━\u001b[0m \u001b[32m175.4/175.4 kB\u001b[0m \u001b[31m4.6 MB/s\u001b[0m eta \u001b[36m0:00:00\u001b[0m\r\n",
      "\u001b[?25h  Preparing metadata (setup.py) ... \u001b[?25l-\b \bdone\r\n",
      "\u001b[?25hRequirement already satisfied: requests in /opt/conda/lib/python3.10/site-packages (from bnlp_toolkit) (2.31.0)\r\n",
      "Requirement already satisfied: wcwidth<0.3.0,>=0.2.12 in /opt/conda/lib/python3.10/site-packages (from ftfy->bnlp_toolkit) (0.2.13)\r\n",
      "Requirement already satisfied: smart-open>=1.8.1 in /opt/conda/lib/python3.10/site-packages (from gensim->bnlp_toolkit) (6.4.0)\r\n",
      "Requirement already satisfied: six in /opt/conda/lib/python3.10/site-packages (from nltk->bnlp_toolkit) (1.16.0)\r\n",
      "Requirement already satisfied: charset-normalizer<4,>=2 in /opt/conda/lib/python3.10/site-packages (from requests->bnlp_toolkit) (3.3.2)\r\n",
      "Requirement already satisfied: idna<4,>=2.5 in /opt/conda/lib/python3.10/site-packages (from requests->bnlp_toolkit) (3.6)\r\n",
      "Requirement already satisfied: urllib3<3,>=1.21.1 in /opt/conda/lib/python3.10/site-packages (from requests->bnlp_toolkit) (1.26.18)\r\n",
      "Requirement already satisfied: certifi>=2017.4.17 in /opt/conda/lib/python3.10/site-packages (from requests->bnlp_toolkit) (2023.11.17)\r\n",
      "Collecting python-crfsuite>=0.8.3 (from sklearn-crfsuite->bnlp_toolkit)\r\n",
      "  Downloading python_crfsuite-0.9.10-cp310-cp310-manylinux_2_17_x86_64.manylinux2014_x86_64.whl.metadata (4.2 kB)\r\n",
      "Requirement already satisfied: tabulate in /opt/conda/lib/python3.10/site-packages (from sklearn-crfsuite->bnlp_toolkit) (0.9.0)\r\n",
      "Downloading bnlp_toolkit-4.0.0-py3-none-any.whl (22 kB)\r\n",
      "Downloading ftfy-6.1.3-py3-none-any.whl (53 kB)\r\n",
      "\u001b[2K   \u001b[90m━━━━━━━━━━━━━━━━━━━━━━━━━━━━━━━━━━━━━━━━\u001b[0m \u001b[32m53.4/53.4 kB\u001b[0m \u001b[31m3.5 MB/s\u001b[0m eta \u001b[36m0:00:00\u001b[0m\r\n",
      "\u001b[?25hDownloading python_crfsuite-0.9.10-cp310-cp310-manylinux_2_17_x86_64.manylinux2014_x86_64.whl (1.1 MB)\r\n",
      "\u001b[2K   \u001b[90m━━━━━━━━━━━━━━━━━━━━━━━━━━━━━━━━━━━━━━━━\u001b[0m \u001b[32m1.1/1.1 MB\u001b[0m \u001b[31m33.8 MB/s\u001b[0m eta \u001b[36m0:00:00\u001b[0m\r\n",
      "\u001b[?25hBuilding wheels for collected packages: emoji\r\n",
      "  Building wheel for emoji (setup.py) ... \u001b[?25l-\b \bdone\r\n",
      "\u001b[?25h  Created wheel for emoji: filename=emoji-1.7.0-py3-none-any.whl size=171033 sha256=83ea7a36754cb7a20a8d7664afb545818edb232a4436cabe5fe5b793099fc369\r\n",
      "  Stored in directory: /root/.cache/pip/wheels/31/8a/8c/315c9e5d7773f74b33d5ed33f075b49c6eaeb7cedbb86e2cf8\r\n",
      "Successfully built emoji\r\n",
      "Installing collected packages: python-crfsuite, emoji, sklearn-crfsuite, ftfy, bnlp_toolkit\r\n",
      "  Attempting uninstall: emoji\r\n",
      "    Found existing installation: emoji 2.10.0\r\n",
      "    Uninstalling emoji-2.10.0:\r\n",
      "      Successfully uninstalled emoji-2.10.0\r\n",
      "Successfully installed bnlp_toolkit-4.0.0 emoji-1.7.0 ftfy-6.1.3 python-crfsuite-0.9.10 sklearn-crfsuite-0.3.6\r\n"
     ]
    }
   ],
   "source": [
    "!pip install bnlp_toolkit"
   ]
  },
  {
   "cell_type": "code",
   "execution_count": 2,
   "id": "6e3502a1",
   "metadata": {
    "execution": {
     "iopub.execute_input": "2024-02-11T04:17:46.036918Z",
     "iopub.status.busy": "2024-02-11T04:17:46.036180Z",
     "iopub.status.idle": "2024-02-11T04:17:59.696383Z",
     "shell.execute_reply": "2024-02-11T04:17:59.695502Z"
    },
    "id": "d32533c5",
    "papermill": {
     "duration": 13.68646,
     "end_time": "2024-02-11T04:17:59.698761",
     "exception": false,
     "start_time": "2024-02-11T04:17:46.012301",
     "status": "completed"
    },
    "scrolled": true,
    "tags": []
   },
   "outputs": [],
   "source": [
    "import pandas as pd\n",
    "import numpy as np\n",
    "import matplotlib.pyplot as plt\n",
    "from sklearn.feature_extraction.text import TfidfVectorizer\n",
    "from bnlp import NLTKTokenizer"
   ]
  },
  {
   "cell_type": "code",
   "execution_count": 3,
   "id": "571a65e1",
   "metadata": {
    "execution": {
     "iopub.execute_input": "2024-02-11T04:17:59.748270Z",
     "iopub.status.busy": "2024-02-11T04:17:59.747453Z",
     "iopub.status.idle": "2024-02-11T04:18:03.100199Z",
     "shell.execute_reply": "2024-02-11T04:18:03.099179Z"
    },
    "id": "bba016ba",
    "papermill": {
     "duration": 3.379262,
     "end_time": "2024-02-11T04:18:03.102539",
     "exception": false,
     "start_time": "2024-02-11T04:17:59.723277",
     "status": "completed"
    },
    "scrolled": true,
    "tags": []
   },
   "outputs": [],
   "source": [
    "df_train = pd.read_excel(\"//kaggle/input/emonoba-cadc/emonoba_train_clean.xlsx\")"
   ]
  },
  {
   "cell_type": "code",
   "execution_count": 4,
   "id": "4c5531df",
   "metadata": {
    "execution": {
     "iopub.execute_input": "2024-02-11T04:18:03.149368Z",
     "iopub.status.busy": "2024-02-11T04:18:03.148869Z",
     "iopub.status.idle": "2024-02-11T04:18:03.167053Z",
     "shell.execute_reply": "2024-02-11T04:18:03.166129Z"
    },
    "id": "3c2ae414",
    "outputId": "e8ef9e85-dda0-4853-f1f3-64fd5ff173a1",
    "papermill": {
     "duration": 0.043395,
     "end_time": "2024-02-11T04:18:03.168975",
     "exception": false,
     "start_time": "2024-02-11T04:18:03.125580",
     "status": "completed"
    },
    "scrolled": true,
    "tags": []
   },
   "outputs": [
    {
     "data": {
      "text/html": [
       "<div>\n",
       "<style scoped>\n",
       "    .dataframe tbody tr th:only-of-type {\n",
       "        vertical-align: middle;\n",
       "    }\n",
       "\n",
       "    .dataframe tbody tr th {\n",
       "        vertical-align: top;\n",
       "    }\n",
       "\n",
       "    .dataframe thead th {\n",
       "        text-align: right;\n",
       "    }\n",
       "</style>\n",
       "<table border=\"1\" class=\"dataframe\">\n",
       "  <thead>\n",
       "    <tr style=\"text-align: right;\">\n",
       "      <th></th>\n",
       "      <th>Data</th>\n",
       "      <th>Love</th>\n",
       "      <th>Joy</th>\n",
       "      <th>Surprise</th>\n",
       "      <th>Anger</th>\n",
       "      <th>Sadness</th>\n",
       "      <th>Fear</th>\n",
       "    </tr>\n",
       "  </thead>\n",
       "  <tbody>\n",
       "    <tr>\n",
       "      <th>0</th>\n",
       "      <td>লকাল বাস ভালো এটা থেকে</td>\n",
       "      <td>0</td>\n",
       "      <td>0</td>\n",
       "      <td>0</td>\n",
       "      <td>0</td>\n",
       "      <td>1</td>\n",
       "      <td>0</td>\n",
       "    </tr>\n",
       "    <tr>\n",
       "      <th>1</th>\n",
       "      <td>কত অভিজানই তো চলে কিন্তু ওয়াসার পানির অভিজান ...</td>\n",
       "      <td>0</td>\n",
       "      <td>0</td>\n",
       "      <td>0</td>\n",
       "      <td>0</td>\n",
       "      <td>1</td>\n",
       "      <td>0</td>\n",
       "    </tr>\n",
       "    <tr>\n",
       "      <th>2</th>\n",
       "      <td>বিয়ের মহল ছেড়ে তিনি বিস্রাম নিতে চলে যান (৬...</td>\n",
       "      <td>0</td>\n",
       "      <td>0</td>\n",
       "      <td>0</td>\n",
       "      <td>1</td>\n",
       "      <td>0</td>\n",
       "      <td>0</td>\n",
       "    </tr>\n",
       "    <tr>\n",
       "      <th>3</th>\n",
       "      <td>চাচাজি তো কেবল মাকে ধর্ষণ করেছেন</td>\n",
       "      <td>0</td>\n",
       "      <td>0</td>\n",
       "      <td>0</td>\n",
       "      <td>0</td>\n",
       "      <td>1</td>\n",
       "      <td>0</td>\n",
       "    </tr>\n",
       "    <tr>\n",
       "      <th>4</th>\n",
       "      <td>সত্যিকার মানুষ তারাই ভাই</td>\n",
       "      <td>0</td>\n",
       "      <td>1</td>\n",
       "      <td>0</td>\n",
       "      <td>0</td>\n",
       "      <td>0</td>\n",
       "      <td>0</td>\n",
       "    </tr>\n",
       "  </tbody>\n",
       "</table>\n",
       "</div>"
      ],
      "text/plain": [
       "                                                Data  Love  Joy  Surprise  \\\n",
       "0                            লকাল বাস ভালো এটা থেকে      0    0         0   \n",
       "1   কত অভিজানই তো চলে কিন্তু ওয়াসার পানির অভিজান ...     0    0         0   \n",
       "2   বিয়ের মহল ছেড়ে তিনি বিস্রাম নিতে চলে যান (৬...     0    0         0   \n",
       "3                  চাচাজি তো কেবল মাকে ধর্ষণ করেছেন      0    0         0   \n",
       "4                          সত্যিকার মানুষ তারাই ভাই      0    1         0   \n",
       "\n",
       "   Anger  Sadness  Fear  \n",
       "0      0        1     0  \n",
       "1      0        1     0  \n",
       "2      1        0     0  \n",
       "3      0        1     0  \n",
       "4      0        0     0  "
      ]
     },
     "execution_count": 4,
     "metadata": {},
     "output_type": "execute_result"
    }
   ],
   "source": [
    "df_train.head()"
   ]
  },
  {
   "cell_type": "code",
   "execution_count": 5,
   "id": "f3f7dd6f",
   "metadata": {
    "execution": {
     "iopub.execute_input": "2024-02-11T04:18:03.215805Z",
     "iopub.status.busy": "2024-02-11T04:18:03.215546Z",
     "iopub.status.idle": "2024-02-11T04:18:03.817987Z",
     "shell.execute_reply": "2024-02-11T04:18:03.817063Z"
    },
    "papermill": {
     "duration": 0.628178,
     "end_time": "2024-02-11T04:18:03.820370",
     "exception": false,
     "start_time": "2024-02-11T04:18:03.192192",
     "status": "completed"
    },
    "tags": []
   },
   "outputs": [],
   "source": [
    "# Function to get the emotion with value 1 or NaN if all values are 0\n",
    "def get_emotion(row):\n",
    "    emotions = ['Love', 'Joy', 'Surprise', 'Anger', 'Sadness', 'Fear']\n",
    "    nonzero_emotions = [emotion for emotion in emotions if row[emotion] == 1]\n",
    "    return nonzero_emotions[0] if nonzero_emotions else np.nan\n",
    "\n",
    "# Create a new column 'Emotion' based on the custom function\n",
    "df_train['Label'] = df_train.apply(get_emotion, axis=1)\n",
    "\n",
    "# Keep only 'Data' and 'Emotion' columns\n",
    "df_train = df_train[['Data', 'Label']]"
   ]
  },
  {
   "cell_type": "code",
   "execution_count": 6,
   "id": "51f4ea9f",
   "metadata": {
    "execution": {
     "iopub.execute_input": "2024-02-11T04:18:03.867459Z",
     "iopub.status.busy": "2024-02-11T04:18:03.867166Z",
     "iopub.status.idle": "2024-02-11T04:18:03.878169Z",
     "shell.execute_reply": "2024-02-11T04:18:03.877339Z"
    },
    "papermill": {
     "duration": 0.03679,
     "end_time": "2024-02-11T04:18:03.880330",
     "exception": false,
     "start_time": "2024-02-11T04:18:03.843540",
     "status": "completed"
    },
    "tags": []
   },
   "outputs": [
    {
     "data": {
      "text/html": [
       "<div>\n",
       "<style scoped>\n",
       "    .dataframe tbody tr th:only-of-type {\n",
       "        vertical-align: middle;\n",
       "    }\n",
       "\n",
       "    .dataframe tbody tr th {\n",
       "        vertical-align: top;\n",
       "    }\n",
       "\n",
       "    .dataframe thead th {\n",
       "        text-align: right;\n",
       "    }\n",
       "</style>\n",
       "<table border=\"1\" class=\"dataframe\">\n",
       "  <thead>\n",
       "    <tr style=\"text-align: right;\">\n",
       "      <th></th>\n",
       "      <th>Data</th>\n",
       "      <th>Label</th>\n",
       "    </tr>\n",
       "  </thead>\n",
       "  <tbody>\n",
       "    <tr>\n",
       "      <th>0</th>\n",
       "      <td>লকাল বাস ভালো এটা থেকে</td>\n",
       "      <td>Sadness</td>\n",
       "    </tr>\n",
       "    <tr>\n",
       "      <th>1</th>\n",
       "      <td>কত অভিজানই তো চলে কিন্তু ওয়াসার পানির অভিজান ...</td>\n",
       "      <td>Sadness</td>\n",
       "    </tr>\n",
       "    <tr>\n",
       "      <th>2</th>\n",
       "      <td>বিয়ের মহল ছেড়ে তিনি বিস্রাম নিতে চলে যান (৬...</td>\n",
       "      <td>Anger</td>\n",
       "    </tr>\n",
       "    <tr>\n",
       "      <th>3</th>\n",
       "      <td>চাচাজি তো কেবল মাকে ধর্ষণ করেছেন</td>\n",
       "      <td>Sadness</td>\n",
       "    </tr>\n",
       "    <tr>\n",
       "      <th>4</th>\n",
       "      <td>সত্যিকার মানুষ তারাই ভাই</td>\n",
       "      <td>Joy</td>\n",
       "    </tr>\n",
       "    <tr>\n",
       "      <th>...</th>\n",
       "      <td>...</td>\n",
       "      <td>...</td>\n",
       "    </tr>\n",
       "    <tr>\n",
       "      <th>18415</th>\n",
       "      <td>সমস্যা নাই কি আমরা একদিন ক্রিকেট কে শাসন করবে...</td>\n",
       "      <td>Joy</td>\n",
       "    </tr>\n",
       "    <tr>\n",
       "      <th>18416</th>\n",
       "      <td>খানকিরপুলা তার মাকে গিয়ে বলে তর মাকে মনটা গিয়ে।</td>\n",
       "      <td>Sadness</td>\n",
       "    </tr>\n",
       "    <tr>\n",
       "      <th>18417</th>\n",
       "      <td>ভাই চেয়ার কই🙄</td>\n",
       "      <td>Surprise</td>\n",
       "    </tr>\n",
       "    <tr>\n",
       "      <th>18418</th>\n",
       "      <td>সবকয়টা তো একই গোয়ালের গাই</td>\n",
       "      <td>Sadness</td>\n",
       "    </tr>\n",
       "    <tr>\n",
       "      <th>18419</th>\n",
       "      <td>বসন্তের ফুলেল উপহার তো পেলাম না' রওশন: আছে আছ...</td>\n",
       "      <td>Anger</td>\n",
       "    </tr>\n",
       "  </tbody>\n",
       "</table>\n",
       "<p>18420 rows × 2 columns</p>\n",
       "</div>"
      ],
      "text/plain": [
       "                                                    Data     Label\n",
       "0                                লকাল বাস ভালো এটা থেকে    Sadness\n",
       "1       কত অভিজানই তো চলে কিন্তু ওয়াসার পানির অভিজান ...   Sadness\n",
       "2       বিয়ের মহল ছেড়ে তিনি বিস্রাম নিতে চলে যান (৬...     Anger\n",
       "3                      চাচাজি তো কেবল মাকে ধর্ষণ করেছেন    Sadness\n",
       "4                              সত্যিকার মানুষ তারাই ভাই        Joy\n",
       "...                                                  ...       ...\n",
       "18415   সমস্যা নাই কি আমরা একদিন ক্রিকেট কে শাসন করবে...       Joy\n",
       "18416   খানকিরপুলা তার মাকে গিয়ে বলে তর মাকে মনটা গিয়ে।    Sadness\n",
       "18417                                     ভাই চেয়ার কই🙄   Surprise\n",
       "18418                         সবকয়টা তো একই গোয়ালের গাই    Sadness\n",
       "18419   বসন্তের ফুলেল উপহার তো পেলাম না' রওশন: আছে আছ...     Anger\n",
       "\n",
       "[18420 rows x 2 columns]"
      ]
     },
     "execution_count": 6,
     "metadata": {},
     "output_type": "execute_result"
    }
   ],
   "source": [
    "df_train"
   ]
  },
  {
   "cell_type": "code",
   "execution_count": 7,
   "id": "459da2a0",
   "metadata": {
    "execution": {
     "iopub.execute_input": "2024-02-11T04:18:03.930331Z",
     "iopub.status.busy": "2024-02-11T04:18:03.930071Z",
     "iopub.status.idle": "2024-02-11T04:18:03.941764Z",
     "shell.execute_reply": "2024-02-11T04:18:03.940974Z"
    },
    "papermill": {
     "duration": 0.039241,
     "end_time": "2024-02-11T04:18:03.943773",
     "exception": false,
     "start_time": "2024-02-11T04:18:03.904532",
     "status": "completed"
    },
    "tags": []
   },
   "outputs": [],
   "source": [
    "df_train.dropna(inplace=True)"
   ]
  },
  {
   "cell_type": "code",
   "execution_count": 8,
   "id": "6fead110",
   "metadata": {
    "execution": {
     "iopub.execute_input": "2024-02-11T04:18:03.991441Z",
     "iopub.status.busy": "2024-02-11T04:18:03.991167Z",
     "iopub.status.idle": "2024-02-11T04:18:03.998647Z",
     "shell.execute_reply": "2024-02-11T04:18:03.997860Z"
    },
    "papermill": {
     "duration": 0.033769,
     "end_time": "2024-02-11T04:18:04.000899",
     "exception": false,
     "start_time": "2024-02-11T04:18:03.967130",
     "status": "completed"
    },
    "tags": []
   },
   "outputs": [
    {
     "name": "stdout",
     "output_type": "stream",
     "text": [
      "1254\n"
     ]
    }
   ],
   "source": [
    "longest_string = max(df_train[\"Data\"], key=len)\n",
    "print(len(longest_string))"
   ]
  },
  {
   "cell_type": "code",
   "execution_count": 9,
   "id": "3a912557",
   "metadata": {
    "execution": {
     "iopub.execute_input": "2024-02-11T04:18:04.048556Z",
     "iopub.status.busy": "2024-02-11T04:18:04.048309Z",
     "iopub.status.idle": "2024-02-11T04:18:04.060554Z",
     "shell.execute_reply": "2024-02-11T04:18:04.059696Z"
    },
    "papermill": {
     "duration": 0.038434,
     "end_time": "2024-02-11T04:18:04.062518",
     "exception": false,
     "start_time": "2024-02-11T04:18:04.024084",
     "status": "completed"
    },
    "tags": []
   },
   "outputs": [
    {
     "data": {
      "text/plain": [
       "Label\n",
       "Joy         6478\n",
       "Sadness     3975\n",
       "Love        3786\n",
       "Anger       3295\n",
       "Surprise     724\n",
       "Fear         162\n",
       "Name: count, dtype: int64"
      ]
     },
     "execution_count": 9,
     "metadata": {},
     "output_type": "execute_result"
    }
   ],
   "source": [
    "df_train['Label'].value_counts()"
   ]
  },
  {
   "cell_type": "code",
   "execution_count": 10,
   "id": "39dfeecb",
   "metadata": {
    "execution": {
     "iopub.execute_input": "2024-02-11T04:18:04.110602Z",
     "iopub.status.busy": "2024-02-11T04:18:04.110357Z",
     "iopub.status.idle": "2024-02-11T04:18:04.447973Z",
     "shell.execute_reply": "2024-02-11T04:18:04.447081Z"
    },
    "papermill": {
     "duration": 0.364181,
     "end_time": "2024-02-11T04:18:04.450375",
     "exception": false,
     "start_time": "2024-02-11T04:18:04.086194",
     "status": "completed"
    },
    "tags": []
   },
   "outputs": [],
   "source": [
    "df_val = pd.read_excel(\"/kaggle/input/emonoba-cadc/emonoba_val_clean.xlsx\")"
   ]
  },
  {
   "cell_type": "code",
   "execution_count": 11,
   "id": "d36638f7",
   "metadata": {
    "execution": {
     "iopub.execute_input": "2024-02-11T04:18:04.500162Z",
     "iopub.status.busy": "2024-02-11T04:18:04.499791Z",
     "iopub.status.idle": "2024-02-11T04:18:04.512658Z",
     "shell.execute_reply": "2024-02-11T04:18:04.511852Z"
    },
    "papermill": {
     "duration": 0.039507,
     "end_time": "2024-02-11T04:18:04.514580",
     "exception": false,
     "start_time": "2024-02-11T04:18:04.475073",
     "status": "completed"
    },
    "tags": []
   },
   "outputs": [
    {
     "data": {
      "text/html": [
       "<div>\n",
       "<style scoped>\n",
       "    .dataframe tbody tr th:only-of-type {\n",
       "        vertical-align: middle;\n",
       "    }\n",
       "\n",
       "    .dataframe tbody tr th {\n",
       "        vertical-align: top;\n",
       "    }\n",
       "\n",
       "    .dataframe thead th {\n",
       "        text-align: right;\n",
       "    }\n",
       "</style>\n",
       "<table border=\"1\" class=\"dataframe\">\n",
       "  <thead>\n",
       "    <tr style=\"text-align: right;\">\n",
       "      <th></th>\n",
       "      <th>Data</th>\n",
       "      <th>Love</th>\n",
       "      <th>Joy</th>\n",
       "      <th>Surprise</th>\n",
       "      <th>Anger</th>\n",
       "      <th>Sadness</th>\n",
       "      <th>Fear</th>\n",
       "    </tr>\n",
       "  </thead>\n",
       "  <tbody>\n",
       "    <tr>\n",
       "      <th>0</th>\n",
       "      <td>চট্টগ্রাম এবং কক্সবাজার বন্যা কবলিত চট্রগ্রাম ...</td>\n",
       "      <td>0</td>\n",
       "      <td>1</td>\n",
       "      <td>0</td>\n",
       "      <td>0</td>\n",
       "      <td>0</td>\n",
       "      <td>0</td>\n",
       "    </tr>\n",
       "    <tr>\n",
       "      <th>1</th>\n",
       "      <td>আমার কাছে ছিল শুধু ত্রান ফটো সামগ্রী। বছর দুয়...</td>\n",
       "      <td>0</td>\n",
       "      <td>0</td>\n",
       "      <td>0</td>\n",
       "      <td>1</td>\n",
       "      <td>0</td>\n",
       "      <td>0</td>\n",
       "    </tr>\n",
       "    <tr>\n",
       "      <th>2</th>\n",
       "      <td>হারিয়ে দেখিয়ে দিল মাদ্রাসা ছাত্র</td>\n",
       "      <td>0</td>\n",
       "      <td>1</td>\n",
       "      <td>0</td>\n",
       "      <td>0</td>\n",
       "      <td>0</td>\n",
       "      <td>0</td>\n",
       "    </tr>\n",
       "    <tr>\n",
       "      <th>3</th>\n",
       "      <td>তোরা না সাবিহা দল হারিয়ে দেখিয়ে দেশ। 😡😡😡</td>\n",
       "      <td>0</td>\n",
       "      <td>0</td>\n",
       "      <td>0</td>\n",
       "      <td>0</td>\n",
       "      <td>1</td>\n",
       "      <td>0</td>\n",
       "    </tr>\n",
       "    <tr>\n",
       "      <th>4</th>\n",
       "      <td>বিপ্লবী সাহসী মেয়ে ...</td>\n",
       "      <td>0</td>\n",
       "      <td>1</td>\n",
       "      <td>0</td>\n",
       "      <td>0</td>\n",
       "      <td>0</td>\n",
       "      <td>0</td>\n",
       "    </tr>\n",
       "    <tr>\n",
       "      <th>...</th>\n",
       "      <td>...</td>\n",
       "      <td>...</td>\n",
       "      <td>...</td>\n",
       "      <td>...</td>\n",
       "      <td>...</td>\n",
       "      <td>...</td>\n",
       "      <td>...</td>\n",
       "    </tr>\n",
       "    <tr>\n",
       "      <th>2042</th>\n",
       "      <td>অনেক অনেক ভাল লাগলো</td>\n",
       "      <td>0</td>\n",
       "      <td>1</td>\n",
       "      <td>0</td>\n",
       "      <td>0</td>\n",
       "      <td>0</td>\n",
       "      <td>0</td>\n",
       "    </tr>\n",
       "    <tr>\n",
       "      <th>2043</th>\n",
       "      <td>একটু সাউন্ড এর সমস্যা</td>\n",
       "      <td>0</td>\n",
       "      <td>0</td>\n",
       "      <td>0</td>\n",
       "      <td>1</td>\n",
       "      <td>0</td>\n",
       "      <td>0</td>\n",
       "    </tr>\n",
       "    <tr>\n",
       "      <th>2044</th>\n",
       "      <td>খেলা হব্বে 💕</td>\n",
       "      <td>0</td>\n",
       "      <td>1</td>\n",
       "      <td>0</td>\n",
       "      <td>0</td>\n",
       "      <td>0</td>\n",
       "      <td>0</td>\n",
       "    </tr>\n",
       "    <tr>\n",
       "      <th>2045</th>\n",
       "      <td>মুখে আর বয়ান শুনতে চায় না এর বিচার ফাঁসি চায়</td>\n",
       "      <td>0</td>\n",
       "      <td>0</td>\n",
       "      <td>0</td>\n",
       "      <td>0</td>\n",
       "      <td>1</td>\n",
       "      <td>0</td>\n",
       "    </tr>\n",
       "    <tr>\n",
       "      <th>2046</th>\n",
       "      <td>তো ঐ পথে বয়ান যাবেন না। লোকের পিছে কুকুর ঘোরা...</td>\n",
       "      <td>0</td>\n",
       "      <td>0</td>\n",
       "      <td>0</td>\n",
       "      <td>1</td>\n",
       "      <td>0</td>\n",
       "      <td>1</td>\n",
       "    </tr>\n",
       "  </tbody>\n",
       "</table>\n",
       "<p>2047 rows × 7 columns</p>\n",
       "</div>"
      ],
      "text/plain": [
       "                                                   Data  Love  Joy  Surprise  \\\n",
       "0     চট্টগ্রাম এবং কক্সবাজার বন্যা কবলিত চট্রগ্রাম ...     0    1         0   \n",
       "1      আমার কাছে ছিল শুধু ত্রান ফটো সামগ্রী। বছর দুয়...     0    0         0   \n",
       "2                     হারিয়ে দেখিয়ে দিল মাদ্রাসা ছাত্র      0    1         0   \n",
       "3             তোরা না সাবিহা দল হারিয়ে দেখিয়ে দেশ। 😡😡😡      0    0         0   \n",
       "4                               বিপ্লবী সাহসী মেয়ে ...      0    1         0   \n",
       "...                                                 ...   ...  ...       ...   \n",
       "2042                               অনেক অনেক ভাল লাগলো      0    1         0   \n",
       "2043                             একটু সাউন্ড এর সমস্যা      0    0         0   \n",
       "2044                                      খেলা হব্বে 💕      0    1         0   \n",
       "2045      মুখে আর বয়ান শুনতে চায় না এর বিচার ফাঁসি চায়      0    0         0   \n",
       "2046   তো ঐ পথে বয়ান যাবেন না। লোকের পিছে কুকুর ঘোরা...     0    0         0   \n",
       "\n",
       "      Anger  Sadness  Fear  \n",
       "0         0        0     0  \n",
       "1         1        0     0  \n",
       "2         0        0     0  \n",
       "3         0        1     0  \n",
       "4         0        0     0  \n",
       "...     ...      ...   ...  \n",
       "2042      0        0     0  \n",
       "2043      1        0     0  \n",
       "2044      0        0     0  \n",
       "2045      0        1     0  \n",
       "2046      1        0     1  \n",
       "\n",
       "[2047 rows x 7 columns]"
      ]
     },
     "execution_count": 11,
     "metadata": {},
     "output_type": "execute_result"
    }
   ],
   "source": [
    "df_val"
   ]
  },
  {
   "cell_type": "code",
   "execution_count": 12,
   "id": "65ee69da",
   "metadata": {
    "execution": {
     "iopub.execute_input": "2024-02-11T04:18:04.562792Z",
     "iopub.status.busy": "2024-02-11T04:18:04.562542Z",
     "iopub.status.idle": "2024-02-11T04:18:04.634514Z",
     "shell.execute_reply": "2024-02-11T04:18:04.633853Z"
    },
    "papermill": {
     "duration": 0.098317,
     "end_time": "2024-02-11T04:18:04.636439",
     "exception": false,
     "start_time": "2024-02-11T04:18:04.538122",
     "status": "completed"
    },
    "tags": []
   },
   "outputs": [],
   "source": [
    "# Create a new column 'Emotion' based on the custom function\n",
    "df_val['Label'] = df_val.apply(get_emotion, axis=1)\n",
    "\n",
    "# Keep only 'Data' and 'Emotion' columns\n",
    "df_val = df_val[['Data', 'Label']]"
   ]
  },
  {
   "cell_type": "code",
   "execution_count": 13,
   "id": "07ae2cac",
   "metadata": {
    "execution": {
     "iopub.execute_input": "2024-02-11T04:18:04.685905Z",
     "iopub.status.busy": "2024-02-11T04:18:04.685562Z",
     "iopub.status.idle": "2024-02-11T04:18:04.695711Z",
     "shell.execute_reply": "2024-02-11T04:18:04.694769Z"
    },
    "papermill": {
     "duration": 0.037283,
     "end_time": "2024-02-11T04:18:04.697986",
     "exception": false,
     "start_time": "2024-02-11T04:18:04.660703",
     "status": "completed"
    },
    "tags": []
   },
   "outputs": [
    {
     "data": {
      "text/html": [
       "<div>\n",
       "<style scoped>\n",
       "    .dataframe tbody tr th:only-of-type {\n",
       "        vertical-align: middle;\n",
       "    }\n",
       "\n",
       "    .dataframe tbody tr th {\n",
       "        vertical-align: top;\n",
       "    }\n",
       "\n",
       "    .dataframe thead th {\n",
       "        text-align: right;\n",
       "    }\n",
       "</style>\n",
       "<table border=\"1\" class=\"dataframe\">\n",
       "  <thead>\n",
       "    <tr style=\"text-align: right;\">\n",
       "      <th></th>\n",
       "      <th>Data</th>\n",
       "      <th>Label</th>\n",
       "    </tr>\n",
       "  </thead>\n",
       "  <tbody>\n",
       "    <tr>\n",
       "      <th>0</th>\n",
       "      <td>চট্টগ্রাম এবং কক্সবাজার বন্যা কবলিত চট্রগ্রাম ...</td>\n",
       "      <td>Joy</td>\n",
       "    </tr>\n",
       "    <tr>\n",
       "      <th>1</th>\n",
       "      <td>আমার কাছে ছিল শুধু ত্রান ফটো সামগ্রী। বছর দুয়...</td>\n",
       "      <td>Anger</td>\n",
       "    </tr>\n",
       "    <tr>\n",
       "      <th>2</th>\n",
       "      <td>হারিয়ে দেখিয়ে দিল মাদ্রাসা ছাত্র</td>\n",
       "      <td>Joy</td>\n",
       "    </tr>\n",
       "    <tr>\n",
       "      <th>3</th>\n",
       "      <td>তোরা না সাবিহা দল হারিয়ে দেখিয়ে দেশ। 😡😡😡</td>\n",
       "      <td>Sadness</td>\n",
       "    </tr>\n",
       "    <tr>\n",
       "      <th>4</th>\n",
       "      <td>বিপ্লবী সাহসী মেয়ে ...</td>\n",
       "      <td>Joy</td>\n",
       "    </tr>\n",
       "    <tr>\n",
       "      <th>...</th>\n",
       "      <td>...</td>\n",
       "      <td>...</td>\n",
       "    </tr>\n",
       "    <tr>\n",
       "      <th>2042</th>\n",
       "      <td>অনেক অনেক ভাল লাগলো</td>\n",
       "      <td>Joy</td>\n",
       "    </tr>\n",
       "    <tr>\n",
       "      <th>2043</th>\n",
       "      <td>একটু সাউন্ড এর সমস্যা</td>\n",
       "      <td>Anger</td>\n",
       "    </tr>\n",
       "    <tr>\n",
       "      <th>2044</th>\n",
       "      <td>খেলা হব্বে 💕</td>\n",
       "      <td>Joy</td>\n",
       "    </tr>\n",
       "    <tr>\n",
       "      <th>2045</th>\n",
       "      <td>মুখে আর বয়ান শুনতে চায় না এর বিচার ফাঁসি চায়</td>\n",
       "      <td>Sadness</td>\n",
       "    </tr>\n",
       "    <tr>\n",
       "      <th>2046</th>\n",
       "      <td>তো ঐ পথে বয়ান যাবেন না। লোকের পিছে কুকুর ঘোরা...</td>\n",
       "      <td>Anger</td>\n",
       "    </tr>\n",
       "  </tbody>\n",
       "</table>\n",
       "<p>2047 rows × 2 columns</p>\n",
       "</div>"
      ],
      "text/plain": [
       "                                                   Data    Label\n",
       "0     চট্টগ্রাম এবং কক্সবাজার বন্যা কবলিত চট্রগ্রাম ...      Joy\n",
       "1      আমার কাছে ছিল শুধু ত্রান ফটো সামগ্রী। বছর দুয়...    Anger\n",
       "2                     হারিয়ে দেখিয়ে দিল মাদ্রাসা ছাত্র       Joy\n",
       "3             তোরা না সাবিহা দল হারিয়ে দেখিয়ে দেশ। 😡😡😡   Sadness\n",
       "4                               বিপ্লবী সাহসী মেয়ে ...       Joy\n",
       "...                                                 ...      ...\n",
       "2042                               অনেক অনেক ভাল লাগলো       Joy\n",
       "2043                             একটু সাউন্ড এর সমস্যা     Anger\n",
       "2044                                      খেলা হব্বে 💕       Joy\n",
       "2045      মুখে আর বয়ান শুনতে চায় না এর বিচার ফাঁসি চায়   Sadness\n",
       "2046   তো ঐ পথে বয়ান যাবেন না। লোকের পিছে কুকুর ঘোরা...    Anger\n",
       "\n",
       "[2047 rows x 2 columns]"
      ]
     },
     "execution_count": 13,
     "metadata": {},
     "output_type": "execute_result"
    }
   ],
   "source": [
    "df_val"
   ]
  },
  {
   "cell_type": "code",
   "execution_count": 14,
   "id": "2520510b",
   "metadata": {
    "execution": {
     "iopub.execute_input": "2024-02-11T04:18:04.750432Z",
     "iopub.status.busy": "2024-02-11T04:18:04.749670Z",
     "iopub.status.idle": "2024-02-11T04:18:04.755685Z",
     "shell.execute_reply": "2024-02-11T04:18:04.754938Z"
    },
    "papermill": {
     "duration": 0.034615,
     "end_time": "2024-02-11T04:18:04.757768",
     "exception": false,
     "start_time": "2024-02-11T04:18:04.723153",
     "status": "completed"
    },
    "tags": []
   },
   "outputs": [],
   "source": [
    "df_val.dropna(inplace=True)"
   ]
  },
  {
   "cell_type": "code",
   "execution_count": 15,
   "id": "c0abb3fa",
   "metadata": {
    "execution": {
     "iopub.execute_input": "2024-02-11T04:18:04.808875Z",
     "iopub.status.busy": "2024-02-11T04:18:04.808108Z",
     "iopub.status.idle": "2024-02-11T04:18:04.816194Z",
     "shell.execute_reply": "2024-02-11T04:18:04.815222Z"
    },
    "papermill": {
     "duration": 0.035565,
     "end_time": "2024-02-11T04:18:04.818177",
     "exception": false,
     "start_time": "2024-02-11T04:18:04.782612",
     "status": "completed"
    },
    "tags": []
   },
   "outputs": [
    {
     "data": {
      "text/plain": [
       "Label\n",
       "Joy         743\n",
       "Sadness     429\n",
       "Love        414\n",
       "Anger       362\n",
       "Surprise     79\n",
       "Fear         20\n",
       "Name: count, dtype: int64"
      ]
     },
     "execution_count": 15,
     "metadata": {},
     "output_type": "execute_result"
    }
   ],
   "source": [
    "df_val['Label'].value_counts()"
   ]
  },
  {
   "cell_type": "code",
   "execution_count": 16,
   "id": "f4b28432",
   "metadata": {
    "execution": {
     "iopub.execute_input": "2024-02-11T04:18:04.869148Z",
     "iopub.status.busy": "2024-02-11T04:18:04.868328Z",
     "iopub.status.idle": "2024-02-11T04:18:04.873893Z",
     "shell.execute_reply": "2024-02-11T04:18:04.872981Z"
    },
    "papermill": {
     "duration": 0.033034,
     "end_time": "2024-02-11T04:18:04.875810",
     "exception": false,
     "start_time": "2024-02-11T04:18:04.842776",
     "status": "completed"
    },
    "tags": []
   },
   "outputs": [],
   "source": [
    "from bnlp import CleanText\n",
    "\n",
    "clean_text = CleanText(\n",
    "   fix_unicode=True,\n",
    "   unicode_norm=True,\n",
    "   unicode_norm_form=\"NFKC\",\n",
    "   remove_url=True,\n",
    "   remove_email=True,\n",
    "   remove_emoji=True,\n",
    "   remove_number=True,\n",
    "   remove_digits=True,\n",
    "   remove_punct=False,\n",
    "   replace_with_url=\"<URL>\",\n",
    "   replace_with_email=\"<EMAIL>\",\n",
    "   replace_with_number=\"<NUMBER>\",\n",
    "   replace_with_digit=\"<DIGIT>\",\n",
    "   replace_with_punct = \"<PUNC>\"\n",
    ")\n"
   ]
  },
  {
   "cell_type": "code",
   "execution_count": 17,
   "id": "66409d8e",
   "metadata": {
    "execution": {
     "iopub.execute_input": "2024-02-11T04:18:04.926517Z",
     "iopub.status.busy": "2024-02-11T04:18:04.925796Z",
     "iopub.status.idle": "2024-02-11T04:18:23.050383Z",
     "shell.execute_reply": "2024-02-11T04:18:23.049588Z"
    },
    "papermill": {
     "duration": 18.152703,
     "end_time": "2024-02-11T04:18:23.052609",
     "exception": false,
     "start_time": "2024-02-11T04:18:04.899906",
     "status": "completed"
    },
    "tags": []
   },
   "outputs": [],
   "source": [
    "df_train['Data'] = df_train['Data'].apply(clean_text)\n",
    "df_val['Data'] = df_val['Data'].apply(clean_text)"
   ]
  },
  {
   "cell_type": "code",
   "execution_count": 18,
   "id": "e6ef19e9",
   "metadata": {
    "execution": {
     "iopub.execute_input": "2024-02-11T04:18:23.102107Z",
     "iopub.status.busy": "2024-02-11T04:18:23.101808Z",
     "iopub.status.idle": "2024-02-11T04:18:23.111355Z",
     "shell.execute_reply": "2024-02-11T04:18:23.110516Z"
    },
    "id": "7bcb0ed6",
    "outputId": "cc9ebe1c-d813-4163-a681-d038dc3a3f09",
    "papermill": {
     "duration": 0.036114,
     "end_time": "2024-02-11T04:18:23.113272",
     "exception": false,
     "start_time": "2024-02-11T04:18:23.077158",
     "status": "completed"
    },
    "tags": []
   },
   "outputs": [
    {
     "data": {
      "text/plain": [
       "Label\n",
       "Joy         6478\n",
       "Sadness     3975\n",
       "Love        3786\n",
       "Anger       3295\n",
       "Surprise     724\n",
       "Fear         162\n",
       "Name: count, dtype: int64"
      ]
     },
     "execution_count": 18,
     "metadata": {},
     "output_type": "execute_result"
    }
   ],
   "source": [
    "df_train[\"Label\"].value_counts()"
   ]
  },
  {
   "cell_type": "code",
   "execution_count": 19,
   "id": "2daecde4",
   "metadata": {
    "execution": {
     "iopub.execute_input": "2024-02-11T04:18:23.162989Z",
     "iopub.status.busy": "2024-02-11T04:18:23.162425Z",
     "iopub.status.idle": "2024-02-11T04:18:23.857647Z",
     "shell.execute_reply": "2024-02-11T04:18:23.856479Z"
    },
    "papermill": {
     "duration": 0.722768,
     "end_time": "2024-02-11T04:18:23.859890",
     "exception": false,
     "start_time": "2024-02-11T04:18:23.137122",
     "status": "completed"
    },
    "tags": []
   },
   "outputs": [
    {
     "name": "stdout",
     "output_type": "stream",
     "text": [
      "Less important words:\n",
      "____                                         0.000021\n",
      "_________________________________________    0.000028\n",
      "____স                                        0.000022\n",
      "___জ                                         0.000031\n",
      "___ত                                         0.000030\n",
      "                                               ...   \n",
      "ৎসব                                          0.000031\n",
      "ৱণ                                           0.000032\n",
      "৷অ                                           0.000022\n",
      "৷স                                           0.000020\n",
      "৷৷৷ভ                                         0.000020\n",
      "Length: 827, dtype: float64\n"
     ]
    }
   ],
   "source": [
    "# Initialize TF-IDF Vectorizer\n",
    "tfidf = TfidfVectorizer()\n",
    "\n",
    "# Fit and transform the text data\n",
    "tfidf_matrix = tfidf.fit_transform(df_train['Data'])\n",
    "\n",
    "# Get feature names (words)\n",
    "feature_names = tfidf.get_feature_names_out()\n",
    "\n",
    "# Create a DataFrame of TF-IDF scores\n",
    "tfidf_df = pd.DataFrame(tfidf_matrix.toarray(), columns=feature_names)\n",
    "\n",
    "# Find mean TF-IDF score for each word across all documents\n",
    "word_scores = tfidf_df.mean(axis=0)\n",
    "\n",
    "# Set a threshold to identify less important words (adjust threshold as needed)\n",
    "threshold = 0.00004 # For example, you can set a threshold value\n",
    "\n",
    "# Get less important words based on threshold\n",
    "less_important_words = word_scores[word_scores < threshold]\n",
    "\n",
    "# Display words that will be removed\n",
    "print(\"Less important words:\")\n",
    "print(less_important_words)"
   ]
  },
  {
   "cell_type": "code",
   "execution_count": 20,
   "id": "302ee68e",
   "metadata": {
    "execution": {
     "iopub.execute_input": "2024-02-11T04:18:23.910173Z",
     "iopub.status.busy": "2024-02-11T04:18:23.909867Z",
     "iopub.status.idle": "2024-02-11T04:18:23.914467Z",
     "shell.execute_reply": "2024-02-11T04:18:23.913615Z"
    },
    "papermill": {
     "duration": 0.031675,
     "end_time": "2024-02-11T04:18:23.916273",
     "exception": false,
     "start_time": "2024-02-11T04:18:23.884598",
     "status": "completed"
    },
    "tags": []
   },
   "outputs": [],
   "source": [
    "# Function to remove less important words\n",
    "def remove_less_important_words(text):\n",
    "    words = text.split()\n",
    "    filtered_words = [word for word in words if word not in less_important_words]\n",
    "    return ' '.join(filtered_words)\n",
    "\n"
   ]
  },
  {
   "cell_type": "code",
   "execution_count": 21,
   "id": "0267eb32",
   "metadata": {
    "execution": {
     "iopub.execute_input": "2024-02-11T04:18:24.013551Z",
     "iopub.status.busy": "2024-02-11T04:18:24.012664Z",
     "iopub.status.idle": "2024-02-11T04:18:24.655059Z",
     "shell.execute_reply": "2024-02-11T04:18:24.654214Z"
    },
    "papermill": {
     "duration": 0.716591,
     "end_time": "2024-02-11T04:18:24.657253",
     "exception": false,
     "start_time": "2024-02-11T04:18:23.940662",
     "status": "completed"
    },
    "tags": []
   },
   "outputs": [],
   "source": [
    "df_train['Data'] = df_train['Data'].apply(remove_less_important_words)\n",
    "df_val['Data'] = df_val['Data'].apply(remove_less_important_words)"
   ]
  },
  {
   "cell_type": "code",
   "execution_count": 22,
   "id": "48b16277",
   "metadata": {
    "execution": {
     "iopub.execute_input": "2024-02-11T04:18:24.708118Z",
     "iopub.status.busy": "2024-02-11T04:18:24.707765Z",
     "iopub.status.idle": "2024-02-11T04:18:24.711648Z",
     "shell.execute_reply": "2024-02-11T04:18:24.710921Z"
    },
    "papermill": {
     "duration": 0.031384,
     "end_time": "2024-02-11T04:18:24.713610",
     "exception": false,
     "start_time": "2024-02-11T04:18:24.682226",
     "status": "completed"
    },
    "tags": []
   },
   "outputs": [],
   "source": [
    "# from sklearn.model_selection import train_test_split\n",
    "\n",
    "# train_df, test_df = train_test_split(, test_size=0.2,stratify=df['classes'],random_state=42)\n"
   ]
  },
  {
   "cell_type": "code",
   "execution_count": 23,
   "id": "bb1a9acc",
   "metadata": {
    "execution": {
     "iopub.execute_input": "2024-02-11T04:18:24.764496Z",
     "iopub.status.busy": "2024-02-11T04:18:24.763633Z",
     "iopub.status.idle": "2024-02-11T04:18:24.769514Z",
     "shell.execute_reply": "2024-02-11T04:18:24.768557Z"
    },
    "id": "SkHget_6VKIl",
    "papermill": {
     "duration": 0.033494,
     "end_time": "2024-02-11T04:18:24.771432",
     "exception": false,
     "start_time": "2024-02-11T04:18:24.737938",
     "status": "completed"
    },
    "tags": []
   },
   "outputs": [],
   "source": [
    "X_train  =  df_train['Data'].values.tolist()\n",
    "y_train = df_train['Label'].tolist()"
   ]
  },
  {
   "cell_type": "code",
   "execution_count": 24,
   "id": "2a9a1347",
   "metadata": {
    "execution": {
     "iopub.execute_input": "2024-02-11T04:18:24.824196Z",
     "iopub.status.busy": "2024-02-11T04:18:24.823172Z",
     "iopub.status.idle": "2024-02-11T04:18:24.828826Z",
     "shell.execute_reply": "2024-02-11T04:18:24.827825Z"
    },
    "id": "oAFSbfrQVTDr",
    "papermill": {
     "duration": 0.034717,
     "end_time": "2024-02-11T04:18:24.831058",
     "exception": false,
     "start_time": "2024-02-11T04:18:24.796341",
     "status": "completed"
    },
    "tags": []
   },
   "outputs": [],
   "source": [
    "X_test =  df_val['Data'].values.tolist()\n",
    "y_test = df_val['Label'].tolist()"
   ]
  },
  {
   "cell_type": "code",
   "execution_count": 25,
   "id": "b050a96d",
   "metadata": {
    "execution": {
     "iopub.execute_input": "2024-02-11T04:18:24.890314Z",
     "iopub.status.busy": "2024-02-11T04:18:24.889994Z",
     "iopub.status.idle": "2024-02-11T04:19:07.143567Z",
     "shell.execute_reply": "2024-02-11T04:19:07.142524Z"
    },
    "papermill": {
     "duration": 42.286196,
     "end_time": "2024-02-11T04:19:07.146078",
     "exception": false,
     "start_time": "2024-02-11T04:18:24.859882",
     "status": "completed"
    },
    "tags": []
   },
   "outputs": [
    {
     "name": "stdout",
     "output_type": "stream",
     "text": [
      "Collecting ktrain\r\n",
      "  Downloading ktrain-0.40.0.tar.gz (25.3 MB)\r\n",
      "\u001b[2K     \u001b[90m━━━━━━━━━━━━━━━━━━━━━━━━━━━━━━━━━━━━━━━━\u001b[0m \u001b[32m25.3/25.3 MB\u001b[0m \u001b[31m59.3 MB/s\u001b[0m eta \u001b[36m0:00:00\u001b[0m\r\n",
      "\u001b[?25h  Preparing metadata (setup.py) ... \u001b[?25l-\b \bdone\r\n",
      "\u001b[?25hRequirement already satisfied: scikit-learn in /opt/conda/lib/python3.10/site-packages (from ktrain) (1.2.2)\r\n",
      "Requirement already satisfied: matplotlib>=3.0.0 in /opt/conda/lib/python3.10/site-packages (from ktrain) (3.7.4)\r\n",
      "Requirement already satisfied: pandas>=1.0.1 in /opt/conda/lib/python3.10/site-packages (from ktrain) (2.1.4)\r\n",
      "Requirement already satisfied: fastprogress>=0.1.21 in /opt/conda/lib/python3.10/site-packages (from ktrain) (1.0.3)\r\n",
      "Requirement already satisfied: requests in /opt/conda/lib/python3.10/site-packages (from ktrain) (2.31.0)\r\n",
      "Requirement already satisfied: joblib in /opt/conda/lib/python3.10/site-packages (from ktrain) (1.3.2)\r\n",
      "Requirement already satisfied: packaging in /opt/conda/lib/python3.10/site-packages (from ktrain) (21.3)\r\n",
      "Collecting langdetect (from ktrain)\r\n",
      "  Downloading langdetect-1.0.9.tar.gz (981 kB)\r\n",
      "\u001b[2K     \u001b[90m━━━━━━━━━━━━━━━━━━━━━━━━━━━━━━━━━━━━━━\u001b[0m \u001b[32m981.5/981.5 kB\u001b[0m \u001b[31m49.2 MB/s\u001b[0m eta \u001b[36m0:00:00\u001b[0m\r\n",
      "\u001b[?25h  Preparing metadata (setup.py) ... \u001b[?25l-\b \bdone\r\n",
      "\u001b[?25hRequirement already satisfied: jieba in /opt/conda/lib/python3.10/site-packages (from ktrain) (0.42.1)\r\n",
      "Requirement already satisfied: charset-normalizer in /opt/conda/lib/python3.10/site-packages (from ktrain) (3.3.2)\r\n",
      "Collecting chardet (from ktrain)\r\n",
      "  Downloading chardet-5.2.0-py3-none-any.whl.metadata (3.4 kB)\r\n",
      "Collecting syntok>1.3.3 (from ktrain)\r\n",
      "  Downloading syntok-1.4.4-py3-none-any.whl (24 kB)\r\n",
      "Collecting tika (from ktrain)\r\n",
      "  Downloading tika-2.6.0.tar.gz (27 kB)\r\n",
      "  Preparing metadata (setup.py) ... \u001b[?25l-\b \bdone\r\n",
      "\u001b[?25hRequirement already satisfied: transformers>=4.17.0 in /opt/conda/lib/python3.10/site-packages (from ktrain) (4.37.0)\r\n",
      "Requirement already satisfied: sentencepiece in /opt/conda/lib/python3.10/site-packages (from ktrain) (0.1.99)\r\n",
      "Collecting keras_bert>=0.86.0 (from ktrain)\r\n",
      "  Downloading keras-bert-0.89.0.tar.gz (25 kB)\r\n",
      "  Preparing metadata (setup.py) ... \u001b[?25l-\b \bdone\r\n",
      "\u001b[?25hCollecting whoosh (from ktrain)\r\n",
      "  Downloading Whoosh-2.7.4-py2.py3-none-any.whl (468 kB)\r\n",
      "\u001b[2K     \u001b[90m━━━━━━━━━━━━━━━━━━━━━━━━━━━━━━━━━━━━━━\u001b[0m \u001b[32m468.8/468.8 kB\u001b[0m \u001b[31m26.1 MB/s\u001b[0m eta \u001b[36m0:00:00\u001b[0m\r\n",
      "\u001b[?25hRequirement already satisfied: numpy in /opt/conda/lib/python3.10/site-packages (from keras_bert>=0.86.0->ktrain) (1.24.4)\r\n",
      "Collecting keras-transformer==0.40.0 (from keras_bert>=0.86.0->ktrain)\r\n",
      "  Downloading keras-transformer-0.40.0.tar.gz (9.7 kB)\r\n",
      "  Preparing metadata (setup.py) ... \u001b[?25l-\b \bdone\r\n",
      "\u001b[?25hCollecting keras-pos-embd==0.13.0 (from keras-transformer==0.40.0->keras_bert>=0.86.0->ktrain)\r\n",
      "  Downloading keras-pos-embd-0.13.0.tar.gz (5.6 kB)\r\n",
      "  Preparing metadata (setup.py) ... \u001b[?25l-\b \bdone\r\n",
      "\u001b[?25hCollecting keras-multi-head==0.29.0 (from keras-transformer==0.40.0->keras_bert>=0.86.0->ktrain)\r\n",
      "  Downloading keras-multi-head-0.29.0.tar.gz (13 kB)\r\n",
      "  Preparing metadata (setup.py) ... \u001b[?25l-\b \bdone\r\n",
      "\u001b[?25hCollecting keras-layer-normalization==0.16.0 (from keras-transformer==0.40.0->keras_bert>=0.86.0->ktrain)\r\n",
      "  Downloading keras-layer-normalization-0.16.0.tar.gz (3.9 kB)\r\n",
      "  Preparing metadata (setup.py) ... \u001b[?25l-\b \bdone\r\n",
      "\u001b[?25hCollecting keras-position-wise-feed-forward==0.8.0 (from keras-transformer==0.40.0->keras_bert>=0.86.0->ktrain)\r\n",
      "  Downloading keras-position-wise-feed-forward-0.8.0.tar.gz (4.1 kB)\r\n",
      "  Preparing metadata (setup.py) ... \u001b[?25l-\b \bdone\r\n",
      "\u001b[?25hCollecting keras-embed-sim==0.10.0 (from keras-transformer==0.40.0->keras_bert>=0.86.0->ktrain)\r\n",
      "  Downloading keras-embed-sim-0.10.0.tar.gz (3.6 kB)\r\n",
      "  Preparing metadata (setup.py) ... \u001b[?25l-\b \bdone\r\n",
      "\u001b[?25hCollecting keras-self-attention==0.51.0 (from keras-multi-head==0.29.0->keras-transformer==0.40.0->keras_bert>=0.86.0->ktrain)\r\n",
      "  Downloading keras-self-attention-0.51.0.tar.gz (11 kB)\r\n",
      "  Preparing metadata (setup.py) ... \u001b[?25l-\b \bdone\r\n",
      "\u001b[?25hRequirement already satisfied: contourpy>=1.0.1 in /opt/conda/lib/python3.10/site-packages (from matplotlib>=3.0.0->ktrain) (1.2.0)\r\n",
      "Requirement already satisfied: cycler>=0.10 in /opt/conda/lib/python3.10/site-packages (from matplotlib>=3.0.0->ktrain) (0.12.1)\r\n",
      "Requirement already satisfied: fonttools>=4.22.0 in /opt/conda/lib/python3.10/site-packages (from matplotlib>=3.0.0->ktrain) (4.47.0)\r\n",
      "Requirement already satisfied: kiwisolver>=1.0.1 in /opt/conda/lib/python3.10/site-packages (from matplotlib>=3.0.0->ktrain) (1.4.5)\r\n",
      "Requirement already satisfied: pillow>=6.2.0 in /opt/conda/lib/python3.10/site-packages (from matplotlib>=3.0.0->ktrain) (9.5.0)\r\n",
      "Requirement already satisfied: pyparsing>=2.3.1 in /opt/conda/lib/python3.10/site-packages (from matplotlib>=3.0.0->ktrain) (3.1.1)\r\n",
      "Requirement already satisfied: python-dateutil>=2.7 in /opt/conda/lib/python3.10/site-packages (from matplotlib>=3.0.0->ktrain) (2.8.2)\r\n",
      "Requirement already satisfied: pytz>=2020.1 in /opt/conda/lib/python3.10/site-packages (from pandas>=1.0.1->ktrain) (2023.3.post1)\r\n",
      "Requirement already satisfied: tzdata>=2022.1 in /opt/conda/lib/python3.10/site-packages (from pandas>=1.0.1->ktrain) (2023.4)\r\n",
      "Requirement already satisfied: regex>2016 in /opt/conda/lib/python3.10/site-packages (from syntok>1.3.3->ktrain) (2023.12.25)\r\n",
      "Requirement already satisfied: filelock in /opt/conda/lib/python3.10/site-packages (from transformers>=4.17.0->ktrain) (3.13.1)\r\n",
      "Requirement already satisfied: huggingface-hub<1.0,>=0.19.3 in /opt/conda/lib/python3.10/site-packages (from transformers>=4.17.0->ktrain) (0.20.3)\r\n",
      "Requirement already satisfied: pyyaml>=5.1 in /opt/conda/lib/python3.10/site-packages (from transformers>=4.17.0->ktrain) (6.0.1)\r\n",
      "Requirement already satisfied: tokenizers<0.19,>=0.14 in /opt/conda/lib/python3.10/site-packages (from transformers>=4.17.0->ktrain) (0.15.1)\r\n",
      "Requirement already satisfied: safetensors>=0.3.1 in /opt/conda/lib/python3.10/site-packages (from transformers>=4.17.0->ktrain) (0.4.2)\r\n",
      "Requirement already satisfied: tqdm>=4.27 in /opt/conda/lib/python3.10/site-packages (from transformers>=4.17.0->ktrain) (4.66.1)\r\n",
      "Requirement already satisfied: six in /opt/conda/lib/python3.10/site-packages (from langdetect->ktrain) (1.16.0)\r\n",
      "Requirement already satisfied: idna<4,>=2.5 in /opt/conda/lib/python3.10/site-packages (from requests->ktrain) (3.6)\r\n",
      "Requirement already satisfied: urllib3<3,>=1.21.1 in /opt/conda/lib/python3.10/site-packages (from requests->ktrain) (1.26.18)\r\n",
      "Requirement already satisfied: certifi>=2017.4.17 in /opt/conda/lib/python3.10/site-packages (from requests->ktrain) (2023.11.17)\r\n",
      "Requirement already satisfied: scipy>=1.3.2 in /opt/conda/lib/python3.10/site-packages (from scikit-learn->ktrain) (1.11.4)\r\n",
      "Requirement already satisfied: threadpoolctl>=2.0.0 in /opt/conda/lib/python3.10/site-packages (from scikit-learn->ktrain) (3.2.0)\r\n",
      "Requirement already satisfied: setuptools in /opt/conda/lib/python3.10/site-packages (from tika->ktrain) (69.0.3)\r\n",
      "Requirement already satisfied: fsspec>=2023.5.0 in /opt/conda/lib/python3.10/site-packages (from huggingface-hub<1.0,>=0.19.3->transformers>=4.17.0->ktrain) (2023.12.2)\r\n",
      "Requirement already satisfied: typing-extensions>=3.7.4.3 in /opt/conda/lib/python3.10/site-packages (from huggingface-hub<1.0,>=0.19.3->transformers>=4.17.0->ktrain) (4.9.0)\r\n",
      "Downloading chardet-5.2.0-py3-none-any.whl (199 kB)\r\n",
      "\u001b[2K   \u001b[90m━━━━━━━━━━━━━━━━━━━━━━━━━━━━━━━━━━━━━━━━\u001b[0m \u001b[32m199.4/199.4 kB\u001b[0m \u001b[31m11.5 MB/s\u001b[0m eta \u001b[36m0:00:00\u001b[0m\r\n",
      "\u001b[?25hBuilding wheels for collected packages: ktrain, keras_bert, keras-transformer, keras-embed-sim, keras-layer-normalization, keras-multi-head, keras-pos-embd, keras-position-wise-feed-forward, keras-self-attention, langdetect, tika\r\n",
      "  Building wheel for ktrain (setup.py) ... \u001b[?25l-\b \b\\\b \bdone\r\n",
      "\u001b[?25h  Created wheel for ktrain: filename=ktrain-0.40.0-py3-none-any.whl size=25319454 sha256=f9b49056284fd4ea8333fa1aa90b6a6c88d3b815abca3058e8dbd870d1a37f6b\r\n",
      "  Stored in directory: /root/.cache/pip/wheels/00/2d/0f/1fcda4d8c9a77b360dc1df7b43458ef5c95fcb85f556a8d211\r\n",
      "  Building wheel for keras_bert (setup.py) ... \u001b[?25l-\b \b\\\b \bdone\r\n",
      "\u001b[?25h  Created wheel for keras_bert: filename=keras_bert-0.89.0-py3-none-any.whl size=33499 sha256=2561920d86e24b319fc2487a54776cbaf96d6d080dcf0bbdabb7faf70e50a88d\r\n",
      "  Stored in directory: /root/.cache/pip/wheels/89/0c/04/646b6fdf6375911b42c8d540a8a3fda8d5d77634e5dcbe7b26\r\n",
      "  Building wheel for keras-transformer (setup.py) ... \u001b[?25l-\b \b\\\b \bdone\r\n",
      "\u001b[?25h  Created wheel for keras-transformer: filename=keras_transformer-0.40.0-py3-none-any.whl size=12286 sha256=24c07ff757d8a1aa0d0e020bc0e1f9e14cf100ff131d96884c92863e7730239c\r\n",
      "  Stored in directory: /root/.cache/pip/wheels/f2/cb/22/75a0ad376129177f7c95c0d91331a18f5368fd657f4035ba7c\r\n",
      "  Building wheel for keras-embed-sim (setup.py) ... \u001b[?25l-\b \b\\\b \bdone\r\n",
      "\u001b[?25h  Created wheel for keras-embed-sim: filename=keras_embed_sim-0.10.0-py3-none-any.whl size=3943 sha256=22c691f68ee9f7b58b8303660467d06ebc85220406d3b125f5b7d8ded0853e06\r\n",
      "  Stored in directory: /root/.cache/pip/wheels/82/32/c7/fd35d0d1b840a6c7cbd4343f808d10d0f7b87d271a4dbe796f\r\n",
      "  Building wheel for keras-layer-normalization (setup.py) ... \u001b[?25l-\b \b\\\b \bdone\r\n",
      "\u001b[?25h  Created wheel for keras-layer-normalization: filename=keras_layer_normalization-0.16.0-py3-none-any.whl size=4653 sha256=59647d72da9a9c4d5a29900811463dc65f3d0c542d79b165d565299b036794ea\r\n",
      "  Stored in directory: /root/.cache/pip/wheels/ed/3a/4b/21db23c0cc56c4b219616e181f258eb7c57d36cc5d056fae9a\r\n",
      "  Building wheel for keras-multi-head (setup.py) ... \u001b[?25l-\b \b\\\b \bdone\r\n",
      "\u001b[?25h  Created wheel for keras-multi-head: filename=keras_multi_head-0.29.0-py3-none-any.whl size=14975 sha256=23d71697eeae8c36e9b3d3e97adf1ffe4f18e32c308d654049825bcf8da8926f\r\n",
      "  Stored in directory: /root/.cache/pip/wheels/cb/23/4b/06d7ae21714f70fcc25b48f972cc8e5e7f4b6b764a038b509d\r\n",
      "  Building wheel for keras-pos-embd (setup.py) ... \u001b[?25l-\b \b\\\b \bdone\r\n",
      "\u001b[?25h  Created wheel for keras-pos-embd: filename=keras_pos_embd-0.13.0-py3-none-any.whl size=6946 sha256=0e3dd8d4c70e126d4d7cd74bbb68a6e2bbdf456bd376e75290bd43082c5bd05b\r\n",
      "  Stored in directory: /root/.cache/pip/wheels/78/07/1b/b1ca47b6ac338554b75c8f52c54e6a2bfbe1b07d79579979a4\r\n",
      "  Building wheel for keras-position-wise-feed-forward (setup.py) ... \u001b[?25l-\b \b\\\b \bdone\r\n",
      "\u001b[?25h  Created wheel for keras-position-wise-feed-forward: filename=keras_position_wise_feed_forward-0.8.0-py3-none-any.whl size=4968 sha256=835337d8108765c69b212b50fc8a1a289ab7d86bdfaceacf25d731441241e780\r\n",
      "  Stored in directory: /root/.cache/pip/wheels/c1/6a/04/d1706a53b23b2cb5f9a0a76269bf87925daa1bca09eac01b21\r\n",
      "  Building wheel for keras-self-attention (setup.py) ... \u001b[?25l-\b \b\\\b \bdone\r\n",
      "\u001b[?25h  Created wheel for keras-self-attention: filename=keras_self_attention-0.51.0-py3-none-any.whl size=18895 sha256=76cc1e4e70d911b97808709b2e8a3f63117aef8254c668fc68e47c5af9fc824b\r\n",
      "  Stored in directory: /root/.cache/pip/wheels/b8/f7/24/607b483144fb9c47b4ba2c5fba6b68e54aeee2d5bf6c05302e\r\n",
      "  Building wheel for langdetect (setup.py) ... \u001b[?25l-\b \bdone\r\n",
      "\u001b[?25h  Created wheel for langdetect: filename=langdetect-1.0.9-py3-none-any.whl size=993225 sha256=c25591df8f5bfe0c315f57bc7adc0055a1a52ab08e992e22bd57c59f7ffe6eff\r\n",
      "  Stored in directory: /root/.cache/pip/wheels/95/03/7d/59ea870c70ce4e5a370638b5462a7711ab78fba2f655d05106\r\n",
      "  Building wheel for tika (setup.py) ... \u001b[?25l-\b \bdone\r\n",
      "\u001b[?25h  Created wheel for tika: filename=tika-2.6.0-py3-none-any.whl size=32622 sha256=34ce2ea987b021a0b76cf4142f6c9d4bbd63491ef9c0c4794b40a6407311a156\r\n",
      "  Stored in directory: /root/.cache/pip/wheels/5f/71/c7/b757709531121b1700cffda5b6b0d4aad095fb507ec84316d0\r\n",
      "Successfully built ktrain keras_bert keras-transformer keras-embed-sim keras-layer-normalization keras-multi-head keras-pos-embd keras-position-wise-feed-forward keras-self-attention langdetect tika\r\n",
      "Installing collected packages: whoosh, syntok, langdetect, keras-self-attention, keras-position-wise-feed-forward, keras-pos-embd, keras-layer-normalization, keras-embed-sim, chardet, tika, keras-multi-head, keras-transformer, keras_bert, ktrain\r\n",
      "Successfully installed chardet-5.2.0 keras-embed-sim-0.10.0 keras-layer-normalization-0.16.0 keras-multi-head-0.29.0 keras-pos-embd-0.13.0 keras-position-wise-feed-forward-0.8.0 keras-self-attention-0.51.0 keras-transformer-0.40.0 keras_bert-0.89.0 ktrain-0.40.0 langdetect-1.0.9 syntok-1.4.4 tika-2.6.0 whoosh-2.7.4\r\n"
     ]
    }
   ],
   "source": [
    "!pip install ktrain"
   ]
  },
  {
   "cell_type": "code",
   "execution_count": 26,
   "id": "1886fcea",
   "metadata": {
    "editable": true,
    "execution": {
     "iopub.execute_input": "2024-02-11T04:19:07.211867Z",
     "iopub.status.busy": "2024-02-11T04:19:07.211458Z",
     "iopub.status.idle": "2024-02-11T04:19:30.654039Z",
     "shell.execute_reply": "2024-02-11T04:19:30.653176Z"
    },
    "id": "fe9e61fb",
    "papermill": {
     "duration": 23.478018,
     "end_time": "2024-02-11T04:19:30.656478",
     "exception": false,
     "start_time": "2024-02-11T04:19:07.178460",
     "status": "completed"
    },
    "scrolled": true,
    "slideshow": {
     "slide_type": ""
    },
    "tags": []
   },
   "outputs": [
    {
     "data": {
      "application/vnd.jupyter.widget-view+json": {
       "model_id": "66379f3f539b4c73a0c6e4f6c8b386f4",
       "version_major": 2,
       "version_minor": 0
      },
      "text/plain": [
       "config.json:   0%|          | 0.00/625 [00:00<?, ?B/s]"
      ]
     },
     "metadata": {},
     "output_type": "display_data"
    },
    {
     "data": {
      "application/vnd.jupyter.widget-view+json": {
       "model_id": "ad81e0cf499c43d0b133055b5e7a1710",
       "version_major": 2,
       "version_minor": 0
      },
      "text/plain": [
       "model.safetensors:   0%|          | 0.00/672M [00:00<?, ?B/s]"
      ]
     },
     "metadata": {},
     "output_type": "display_data"
    }
   ],
   "source": [
    "import ktrain\n",
    "from ktrain import text\n",
    "MODEL_NAME = 'bert-base-multilingual-uncased'\n",
    "t = text.Transformer(MODEL_NAME, maxlen=500)"
   ]
  },
  {
   "cell_type": "code",
   "execution_count": 27,
   "id": "63b97b82",
   "metadata": {
    "execution": {
     "iopub.execute_input": "2024-02-11T04:19:30.722977Z",
     "iopub.status.busy": "2024-02-11T04:19:30.722566Z",
     "iopub.status.idle": "2024-02-11T04:19:39.946783Z",
     "shell.execute_reply": "2024-02-11T04:19:39.945865Z"
    },
    "id": "c269013f",
    "outputId": "cb456b25-48e5-4d5c-958b-2198c5418e05",
    "papermill": {
     "duration": 9.259664,
     "end_time": "2024-02-11T04:19:39.948961",
     "exception": false,
     "start_time": "2024-02-11T04:19:30.689297",
     "status": "completed"
    },
    "tags": []
   },
   "outputs": [
    {
     "name": "stdout",
     "output_type": "stream",
     "text": [
      "preprocessing train...\n",
      "language: bn\n",
      "train sequence lengths:\n",
      "\tmean : 11\n",
      "\t95percentile : 26\n",
      "\t99percentile : 47\n"
     ]
    },
    {
     "data": {
      "application/vnd.jupyter.widget-view+json": {
       "model_id": "3846006844974b26af787dbaf86925cd",
       "version_major": 2,
       "version_minor": 0
      },
      "text/plain": [
       "tokenizer_config.json:   0%|          | 0.00/28.0 [00:00<?, ?B/s]"
      ]
     },
     "metadata": {},
     "output_type": "display_data"
    },
    {
     "data": {
      "application/vnd.jupyter.widget-view+json": {
       "model_id": "7078a904269f46a4bd9bb80bdb426553",
       "version_major": 2,
       "version_minor": 0
      },
      "text/plain": [
       "vocab.txt:   0%|          | 0.00/872k [00:00<?, ?B/s]"
      ]
     },
     "metadata": {},
     "output_type": "display_data"
    },
    {
     "data": {
      "application/vnd.jupyter.widget-view+json": {
       "model_id": "cc40baef42c648a5996c2dd062558c02",
       "version_major": 2,
       "version_minor": 0
      },
      "text/plain": [
       "tokenizer.json:   0%|          | 0.00/1.72M [00:00<?, ?B/s]"
      ]
     },
     "metadata": {},
     "output_type": "display_data"
    },
    {
     "data": {
      "text/html": [
       "\n",
       "<style>\n",
       "    /* Turns off some styling */\n",
       "    progress {\n",
       "        /* gets rid of default border in Firefox and Opera. */\n",
       "        border: none;\n",
       "        /* Needs to be in here for Safari polyfill so background images work as expected. */\n",
       "        background-size: auto;\n",
       "    }\n",
       "    progress:not([value]), progress:not([value])::-webkit-progress-bar {\n",
       "        background: repeating-linear-gradient(45deg, #7e7e7e, #7e7e7e 10px, #5c5c5c 10px, #5c5c5c 20px);\n",
       "    }\n",
       "    .progress-bar-interrupted, .progress-bar-interrupted::-webkit-progress-bar {\n",
       "        background: #F44336;\n",
       "    }\n",
       "</style>\n"
      ],
      "text/plain": [
       "<IPython.core.display.HTML object>"
      ]
     },
     "metadata": {},
     "output_type": "display_data"
    },
    {
     "data": {
      "text/html": [],
      "text/plain": [
       "<IPython.core.display.HTML object>"
      ]
     },
     "metadata": {},
     "output_type": "display_data"
    },
    {
     "name": "stdout",
     "output_type": "stream",
     "text": [
      "Is Multi-Label? False\n",
      "preprocessing test...\n",
      "language: bn\n",
      "test sequence lengths:\n",
      "\tmean : 11\n",
      "\t95percentile : 29\n",
      "\t99percentile : 53\n"
     ]
    },
    {
     "data": {
      "text/html": [
       "\n",
       "<style>\n",
       "    /* Turns off some styling */\n",
       "    progress {\n",
       "        /* gets rid of default border in Firefox and Opera. */\n",
       "        border: none;\n",
       "        /* Needs to be in here for Safari polyfill so background images work as expected. */\n",
       "        background-size: auto;\n",
       "    }\n",
       "    progress:not([value]), progress:not([value])::-webkit-progress-bar {\n",
       "        background: repeating-linear-gradient(45deg, #7e7e7e, #7e7e7e 10px, #5c5c5c 10px, #5c5c5c 20px);\n",
       "    }\n",
       "    .progress-bar-interrupted, .progress-bar-interrupted::-webkit-progress-bar {\n",
       "        background: #F44336;\n",
       "    }\n",
       "</style>\n"
      ],
      "text/plain": [
       "<IPython.core.display.HTML object>"
      ]
     },
     "metadata": {},
     "output_type": "display_data"
    },
    {
     "data": {
      "text/html": [],
      "text/plain": [
       "<IPython.core.display.HTML object>"
      ]
     },
     "metadata": {},
     "output_type": "display_data"
    }
   ],
   "source": [
    "trn = t.preprocess_train(X_train, y_train)\n",
    "val = t.preprocess_test(X_test, y_test)"
   ]
  },
  {
   "cell_type": "code",
   "execution_count": 28,
   "id": "2d293869",
   "metadata": {
    "execution": {
     "iopub.execute_input": "2024-02-11T04:19:40.018697Z",
     "iopub.status.busy": "2024-02-11T04:19:40.018381Z",
     "iopub.status.idle": "2024-02-11T04:19:40.023173Z",
     "shell.execute_reply": "2024-02-11T04:19:40.022205Z"
    },
    "papermill": {
     "duration": 0.040908,
     "end_time": "2024-02-11T04:19:40.025236",
     "exception": false,
     "start_time": "2024-02-11T04:19:39.984328",
     "status": "completed"
    },
    "tags": []
   },
   "outputs": [
    {
     "name": "stdout",
     "output_type": "stream",
     "text": [
      "<ktrain.text.dataset.TransformerDataset object at 0x7b9f279bece0>\n"
     ]
    }
   ],
   "source": [
    "print(trn)"
   ]
  },
  {
   "cell_type": "code",
   "execution_count": 29,
   "id": "6a4d9068",
   "metadata": {
    "execution": {
     "iopub.execute_input": "2024-02-11T04:19:40.093529Z",
     "iopub.status.busy": "2024-02-11T04:19:40.092692Z",
     "iopub.status.idle": "2024-02-11T04:19:40.632688Z",
     "shell.execute_reply": "2024-02-11T04:19:40.631797Z"
    },
    "papermill": {
     "duration": 0.576319,
     "end_time": "2024-02-11T04:19:40.634809",
     "exception": false,
     "start_time": "2024-02-11T04:19:40.058490",
     "status": "completed"
    },
    "tags": []
   },
   "outputs": [
    {
     "data": {
      "image/png": "[encoded data removed]",
      "text/plain": [
       "<Figure size 1000x600 with 1 Axes>"
      ]
     },
     "metadata": {},
     "output_type": "display_data"
    }
   ],
   "source": [
    "import matplotlib.pyplot as plt\n",
    "\n",
    "# Calculate token lengths for train and test datasets\n",
    "train_token_lengths = [len(t.split()) for t in X_train]\n",
    "test_token_lengths = [len(t.split()) for t in X_test]\n",
    "\n",
    "# Plot token length distribution\n",
    "plt.figure(figsize=(10, 6))\n",
    "plt.hist(train_token_lengths, bins=50, alpha=0.5, color='blue', label='Train')\n",
    "plt.hist(test_token_lengths, bins=50, alpha=0.5, color='orange', label='Test')\n",
    "plt.xlabel('Token Length')\n",
    "plt.ylabel('Frequency')\n",
    "plt.title('Token Length Distribution')\n",
    "plt.legend()\n",
    "plt.show()"
   ]
  },
  {
   "cell_type": "code",
   "execution_count": 30,
   "id": "10038415",
   "metadata": {
    "execution": {
     "iopub.execute_input": "2024-02-11T04:19:40.704545Z",
     "iopub.status.busy": "2024-02-11T04:19:40.703835Z",
     "iopub.status.idle": "2024-02-11T04:19:43.624152Z",
     "shell.execute_reply": "2024-02-11T04:19:43.623311Z"
    },
    "id": "69d54231",
    "papermill": {
     "duration": 2.957712,
     "end_time": "2024-02-11T04:19:43.626753",
     "exception": false,
     "start_time": "2024-02-11T04:19:40.669041",
     "status": "completed"
    },
    "scrolled": true,
    "tags": []
   },
   "outputs": [],
   "source": [
    "model = t.get_classifier()"
   ]
  },
  {
   "cell_type": "code",
   "execution_count": 31,
   "id": "5000a0a2",
   "metadata": {
    "execution": {
     "iopub.execute_input": "2024-02-11T04:19:43.696634Z",
     "iopub.status.busy": "2024-02-11T04:19:43.696034Z",
     "iopub.status.idle": "2024-02-11T04:19:45.153429Z",
     "shell.execute_reply": "2024-02-11T04:19:45.152632Z"
    },
    "id": "7070ffb4",
    "papermill": {
     "duration": 1.494526,
     "end_time": "2024-02-11T04:19:45.155743",
     "exception": false,
     "start_time": "2024-02-11T04:19:43.661217",
     "status": "completed"
    },
    "tags": []
   },
   "outputs": [],
   "source": [
    "learner = ktrain.get_learner(model, train_data=trn, val_data=val, batch_size=8)"
   ]
  },
  {
   "cell_type": "code",
   "execution_count": 32,
   "id": "d082ad90",
   "metadata": {
    "execution": {
     "iopub.execute_input": "2024-02-11T04:19:45.227616Z",
     "iopub.status.busy": "2024-02-11T04:19:45.227229Z",
     "iopub.status.idle": "2024-02-11T04:19:45.232677Z",
     "shell.execute_reply": "2024-02-11T04:19:45.231919Z"
    },
    "papermill": {
     "duration": 0.043771,
     "end_time": "2024-02-11T04:19:45.234548",
     "exception": false,
     "start_time": "2024-02-11T04:19:45.190777",
     "status": "completed"
    },
    "tags": []
   },
   "outputs": [],
   "source": [
    "# Adding early stopping callback from TensorFlow\n",
    "from tensorflow.keras.callbacks import EarlyStopping\n",
    "early_stopping = EarlyStopping(monitor='accuracy', patience=5, mode='auto')"
   ]
  },
  {
   "cell_type": "code",
   "execution_count": 33,
   "id": "1e4d3ec8",
   "metadata": {
    "execution": {
     "iopub.execute_input": "2024-02-11T04:19:45.306643Z",
     "iopub.status.busy": "2024-02-11T04:19:45.306280Z",
     "iopub.status.idle": "2024-02-11T08:03:28.183376Z",
     "shell.execute_reply": "2024-02-11T08:03:28.182354Z"
    },
    "id": "e1e76e69",
    "outputId": "cec6ddcd-1ab2-4f18-a9ad-d4cd29195423",
    "papermill": {
     "duration": 13424.930439,
     "end_time": "2024-02-11T08:03:30.199928",
     "exception": false,
     "start_time": "2024-02-11T04:19:45.269489",
     "status": "completed"
    },
    "tags": []
   },
   "outputs": [
    {
     "name": "stdout",
     "output_type": "stream",
     "text": [
      "\n",
      "\n",
      "begin training using onecycle policy with max lr of 2e-05...\n",
      "Epoch 1/10\n",
      "2303/2303 [==============================] - 1370s 583ms/step - loss: 1.3028 - accuracy: 0.4639 - val_loss: 1.1050 - val_accuracy: 0.5584\n",
      "Epoch 2/10\n",
      "2303/2303 [==============================] - 1338s 581ms/step - loss: 1.0665 - accuracy: 0.5726 - val_loss: 1.0337 - val_accuracy: 0.5862\n",
      "Epoch 3/10\n",
      "2303/2303 [==============================] - 1340s 582ms/step - loss: 0.9499 - accuracy: 0.6271 - val_loss: 1.0675 - val_accuracy: 0.5686\n",
      "Epoch 4/10\n",
      "2303/2303 [==============================] - 1340s 582ms/step - loss: 0.8537 - accuracy: 0.6613 - val_loss: 1.0465 - val_accuracy: 0.5999\n",
      "Epoch 5/10\n",
      "2303/2303 [==============================] - 1340s 582ms/step - loss: 0.7574 - accuracy: 0.7018 - val_loss: 1.0334 - val_accuracy: 0.6072\n",
      "Epoch 6/10\n",
      "2303/2303 [==============================] - 1340s 582ms/step - loss: 0.6306 - accuracy: 0.7536 - val_loss: 1.1124 - val_accuracy: 0.6019\n",
      "Epoch 7/10\n",
      "2303/2303 [==============================] - 1340s 582ms/step - loss: 0.4516 - accuracy: 0.8271 - val_loss: 1.2828 - val_accuracy: 0.5999\n",
      "Epoch 8/10\n",
      "2303/2303 [==============================] - 1340s 582ms/step - loss: 0.3070 - accuracy: 0.8844 - val_loss: 1.4513 - val_accuracy: 0.5882\n",
      "Epoch 9/10\n",
      "2303/2303 [==============================] - 1338s 581ms/step - loss: 0.1883 - accuracy: 0.9309 - val_loss: 1.7018 - val_accuracy: 0.5828\n",
      "Epoch 10/10\n",
      "2303/2303 [==============================] - 1335s 580ms/step - loss: 0.1189 - accuracy: 0.9576 - val_loss: 1.8059 - val_accuracy: 0.5916\n"
     ]
    }
   ],
   "source": [
    "history = learner.fit_onecycle(2e-5, 10,callbacks=[early_stopping])"
   ]
  },
  {
   "cell_type": "code",
   "execution_count": 34,
   "id": "a823ba37",
   "metadata": {
    "execution": {
     "iopub.execute_input": "2024-02-11T08:03:34.111973Z",
     "iopub.status.busy": "2024-02-11T08:03:34.110911Z",
     "iopub.status.idle": "2024-02-11T08:03:35.906630Z",
     "shell.execute_reply": "2024-02-11T08:03:35.905705Z"
    },
    "papermill": {
     "duration": 3.715457,
     "end_time": "2024-02-11T08:03:35.908920",
     "exception": false,
     "start_time": "2024-02-11T08:03:32.193463",
     "status": "completed"
    },
    "tags": []
   },
   "outputs": [],
   "source": [
    "# Save the trained model\n",
    "learner.save_model('/kaggle/output/emonoba.zip')"
   ]
  },
  {
   "cell_type": "code",
   "execution_count": 35,
   "id": "8fadb1ef",
   "metadata": {
    "execution": {
     "iopub.execute_input": "2024-02-11T08:03:39.866684Z",
     "iopub.status.busy": "2024-02-11T08:03:39.865702Z",
     "iopub.status.idle": "2024-02-11T08:03:39.870250Z",
     "shell.execute_reply": "2024-02-11T08:03:39.869363Z"
    },
    "papermill": {
     "duration": 1.986132,
     "end_time": "2024-02-11T08:03:39.872116",
     "exception": false,
     "start_time": "2024-02-11T08:03:37.885984",
     "status": "completed"
    },
    "tags": []
   },
   "outputs": [],
   "source": [
    "classes=t.get_classes()"
   ]
  },
  {
   "cell_type": "code",
   "execution_count": 36,
   "id": "ca1bf062",
   "metadata": {
    "execution": {
     "iopub.execute_input": "2024-02-11T08:03:43.904576Z",
     "iopub.status.busy": "2024-02-11T08:03:43.903715Z",
     "iopub.status.idle": "2024-02-11T08:04:10.025290Z",
     "shell.execute_reply": "2024-02-11T08:04:10.024027Z"
    },
    "id": "2088a523",
    "papermill": {
     "duration": 28.13526,
     "end_time": "2024-02-11T08:04:10.027303",
     "exception": false,
     "start_time": "2024-02-11T08:03:41.892043",
     "status": "completed"
    },
    "tags": []
   },
   "outputs": [
    {
     "name": "stdout",
     "output_type": "stream",
     "text": [
      "64/64 [==============================] - 26s 361ms/step\n",
      "              precision    recall  f1-score   support\n",
      "\n",
      "       Anger       0.53      0.56      0.54       362\n",
      "        Fear       0.25      0.15      0.19        20\n",
      "         Joy       0.64      0.64      0.64       743\n",
      "        Love       0.51      0.50      0.51       414\n",
      "     Sadness       0.70      0.68      0.69       429\n",
      "    Surprise       0.36      0.41      0.38        79\n",
      "\n",
      "    accuracy                           0.59      2047\n",
      "   macro avg       0.50      0.49      0.49      2047\n",
      "weighted avg       0.59      0.59      0.59      2047\n",
      "\n"
     ]
    }
   ],
   "source": [
    "cm = learner.validate(class_names=t.get_classes())"
   ]
  },
  {
   "cell_type": "code",
   "execution_count": 37,
   "id": "69f88c54",
   "metadata": {
    "execution": {
     "iopub.execute_input": "2024-02-11T08:04:13.925900Z",
     "iopub.status.busy": "2024-02-11T08:04:13.925034Z",
     "iopub.status.idle": "2024-02-11T08:04:13.931641Z",
     "shell.execute_reply": "2024-02-11T08:04:13.930761Z"
    },
    "papermill": {
     "duration": 1.998152,
     "end_time": "2024-02-11T08:04:13.933614",
     "exception": false,
     "start_time": "2024-02-11T08:04:11.935462",
     "status": "completed"
    },
    "tags": []
   },
   "outputs": [],
   "source": [
    "import os\n",
    "import subprocess\n",
    "from IPython.display import FileLink, display\n",
    "\n",
    "def download_file(path, download_file_name):\n",
    "    os.chdir('/kaggle/working/')\n",
    "    zip_name = f\"/kaggle/working/{download_file_name}.zip\"\n",
    "    command = f\"zip {zip_name} {path} -r\"\n",
    "    result = subprocess.run(command, shell=True, capture_output=True, text=True)\n",
    "    if result.returncode != 0:\n",
    "        print(\"Unable to run zip command!\")\n",
    "        print(result.stderr)\n",
    "        return\n",
    "    display(FileLink(f'{download_file_name}.zip'))"
   ]
  },
  {
   "cell_type": "code",
   "execution_count": 38,
   "id": "8389402a",
   "metadata": {
    "execution": {
     "iopub.execute_input": "2024-02-11T08:04:17.912980Z",
     "iopub.status.busy": "2024-02-11T08:04:17.912189Z",
     "iopub.status.idle": "2024-02-11T08:04:18.912800Z",
     "shell.execute_reply": "2024-02-11T08:04:18.911577Z"
    },
    "papermill": {
     "duration": 3.004098,
     "end_time": "2024-02-11T08:04:18.915101",
     "exception": false,
     "start_time": "2024-02-11T08:04:15.911003",
     "status": "completed"
    },
    "tags": []
   },
   "outputs": [
    {
     "name": "stderr",
     "output_type": "stream",
     "text": [
      "huggingface/tokenizers: The current process just got forked, after parallelism has already been used. Disabling parallelism to avoid deadlocks...\n",
      "To disable this warning, you can either:\n",
      "\t- Avoid using `tokenizers` before the fork if possible\n",
      "\t- Explicitly set the environment variable TOKENIZERS_PARALLELISM=(true | false)\n"
     ]
    },
    {
     "name": "stdout",
     "output_type": "stream",
     "text": [
      "\tzip warning: name not matched: /kaggle/output/mental-health-rand\r\n",
      "\r\n",
      "zip error: Nothing to do! (try: zip -r mental.zip . -i /kaggle/output/mental-health-rand)\r\n"
     ]
    }
   ],
   "source": [
    "!zip -r mental.zip /kaggle/output/mental-health-rand"
   ]
  },
  {
   "cell_type": "code",
   "execution_count": 39,
   "id": "bc83f276",
   "metadata": {
    "execution": {
     "iopub.execute_input": "2024-02-11T08:04:22.814897Z",
     "iopub.status.busy": "2024-02-11T08:04:22.813767Z",
     "iopub.status.idle": "2024-02-11T08:04:23.818667Z",
     "shell.execute_reply": "2024-02-11T08:04:23.817688Z"
    },
    "papermill": {
     "duration": 3.013136,
     "end_time": "2024-02-11T08:04:23.820774",
     "exception": false,
     "start_time": "2024-02-11T08:04:20.807638",
     "status": "completed"
    },
    "tags": []
   },
   "outputs": [
    {
     "name": "stderr",
     "output_type": "stream",
     "text": [
      "huggingface/tokenizers: The current process just got forked, after parallelism has already been used. Disabling parallelism to avoid deadlocks...\n",
      "To disable this warning, you can either:\n",
      "\t- Avoid using `tokenizers` before the fork if possible\n",
      "\t- Explicitly set the environment variable TOKENIZERS_PARALLELISM=(true | false)\n"
     ]
    },
    {
     "name": "stdout",
     "output_type": "stream",
     "text": [
      "__notebook__.ipynb\r\n"
     ]
    }
   ],
   "source": [
    "!ls"
   ]
  },
  {
   "cell_type": "code",
   "execution_count": 40,
   "id": "2527b441",
   "metadata": {
    "execution": {
     "iopub.execute_input": "2024-02-11T08:04:27.733728Z",
     "iopub.status.busy": "2024-02-11T08:04:27.733317Z",
     "iopub.status.idle": "2024-02-11T08:04:27.738086Z",
     "shell.execute_reply": "2024-02-11T08:04:27.737174Z"
    },
    "papermill": {
     "duration": 2.026479,
     "end_time": "2024-02-11T08:04:27.740029",
     "exception": false,
     "start_time": "2024-02-11T08:04:25.713550",
     "status": "completed"
    },
    "tags": []
   },
   "outputs": [],
   "source": [
    "# from IPython.display import FileLink\n",
    "# FileLink(r'/kaggle/working/mental-health-rand.zip')"
   ]
  },
  {
   "cell_type": "code",
   "execution_count": 41,
   "id": "3cb12420",
   "metadata": {
    "execution": {
     "iopub.execute_input": "2024-02-11T08:04:31.602830Z",
     "iopub.status.busy": "2024-02-11T08:04:31.602433Z",
     "iopub.status.idle": "2024-02-11T08:04:31.606895Z",
     "shell.execute_reply": "2024-02-11T08:04:31.605986Z"
    },
    "id": "6R25zoclH47g",
    "papermill": {
     "duration": 1.890527,
     "end_time": "2024-02-11T08:04:31.608799",
     "exception": false,
     "start_time": "2024-02-11T08:04:29.718272",
     "status": "completed"
    },
    "tags": []
   },
   "outputs": [],
   "source": [
    "# df_cm = pd.DataFrame(cm, index=[\"Anxiety\",\"Bipolar\",\"Borderline Personality\", \"Depression \", \"Schizophernia\",\"Suidal Thought\",\"neutral\",\n",
    "#                                 \"Alcoholism\",\"Addiction\",\"Aspergers\",\"SelfHarm \"],\n",
    "#                      columns=[\"Anxiety\",\"Bipolar\",\"Borderline Personality\", \"Depression \", \"Schizophernia\",\"Suidal Thought\",\"neutral\",\n",
    "#                                 \"Alcoholism\",\"Addiction\",\"Aspergers\",\"SelfHarm \"])\n",
    "# plt.figure(figsize = (10,7))\n",
    "# sns.heatmap(df_cm,annot=True, fmt =\"d\")"
   ]
  },
  {
   "cell_type": "code",
   "execution_count": null,
   "id": "674e504c",
   "metadata": {
    "id": "RjxJrO1JZfNt",
    "papermill": {
     "duration": 1.882201,
     "end_time": "2024-02-11T08:04:35.545409",
     "exception": false,
     "start_time": "2024-02-11T08:04:33.663208",
     "status": "completed"
    },
    "tags": []
   },
   "outputs": [],
   "source": []
  }
 ],
 "metadata": {
  "kaggle": {
   "accelerator": "gpu",
   "dataSources": [
    {
     "datasetId": 4414268,
     "sourceId": 7583062,
     "sourceType": "datasetVersion"
    },
    {
     "datasetId": 4425678,
     "sourceId": 7602184,
     "sourceType": "datasetVersion"
    },
    {
     "datasetId": 4425765,
     "sourceId": 7602328,
     "sourceType": "datasetVersion"
    }
   ],
   "dockerImageVersionId": 30648,
   "isGpuEnabled": true,
   "isInternetEnabled": true,
   "language": "python",
   "sourceType": "notebook"
  },
  "kernelspec": {
   "display_name": "Python 3",
   "language": "python",
   "name": "python3"
  },
  "language_info": {
   "codemirror_mode": {
    "name": "ipython",
    "version": 3
   },
   "file_extension": ".py",
   "mimetype": "text/x-python",
   "name": "python",
   "nbconvert_exporter": "python",
   "pygments_lexer": "ipython3",
   "version": "3.10.13"
  },
  "papermill": {
   "default_parameters": {},
   "duration": 13634.075555,
   "end_time": "2024-02-11T08:04:40.271830",
   "environment_variables": {},
   "exception": null,
   "input_path": "__notebook__.ipynb",
   "output_path": "__notebook__.ipynb",
   "parameters": {},
   "start_time": "2024-02-11T04:17:26.196275",
   "version": "2.5.0"
  },
  "widgets": {
   "application/vnd.jupyter.widget-state+json": {
    "state": {
     "16ece067c7c3409598503b5a6ad07e25": {
      "model_module": "@jupyter-widgets/controls",
      "model_module_version": "1.5.0",
      "model_name": "DescriptionStyleModel",
      "state": {
       "_model_module": "@jupyter-widgets/controls",
       "_model_module_version": "1.5.0",
       "_model_name": "DescriptionStyleModel",
       "_view_count": null,
       "_view_module": "@jupyter-widgets/base",
       "_view_module_version": "1.2.0",
       "_view_name": "StyleView",
       "description_width": ""
      }
     },
     "1ed02b5b1cc34c52bed463b3a95ba8b8": {
      "model_module": "@jupyter-widgets/base",
      "model_module_version": "1.2.0",
      "model_name": "LayoutModel",
      "state": {
       "_model_module": "@jupyter-widgets/base",
       "_model_module_version": "1.2.0",
       "_model_name": "LayoutModel",
       "_view_count": null,
       "_view_module": "@jupyter-widgets/base",
       "_view_module_version": "1.2.0",
       "_view_name": "LayoutView",
       "align_content": null,
       "align_items": null,
       "align_self": null,
       "border": null,
       "bottom": null,
       "display": null,
       "flex": null,
       "flex_flow": null,
       "grid_area": null,
       "grid_auto_columns": null,
       "grid_auto_flow": null,
       "grid_auto_rows": null,
       "grid_column": null,
       "grid_gap": null,
       "grid_row": null,
       "grid_template_areas": null,
       "grid_template_columns": null,
       "grid_template_rows": null,
       "height": null,
       "justify_content": null,
       "justify_items": null,
       "left": null,
       "margin": null,
       "max_height": null,
       "max_width": null,
       "min_height": null,
       "min_width": null,
       "object_fit": null,
       "object_position": null,
       "order": null,
       "overflow": null,
       "overflow_x": null,
       "overflow_y": null,
       "padding": null,
       "right": null,
       "top": null,
       "visibility": null,
       "width": null
      }
     },
     "232d759b01314d62ab24ace5d1d7dff0": {
      "model_module": "@jupyter-widgets/controls",
      "model_module_version": "1.5.0",
      "model_name": "ProgressStyleModel",
      "state": {
       "_model_module": "@jupyter-widgets/controls",
       "_model_module_version": "1.5.0",
       "_model_name": "ProgressStyleModel",
       "_view_count": null,
       "_view_module": "@jupyter-widgets/base",
       "_view_module_version": "1.2.0",
       "_view_name": "StyleView",
       "bar_color": null,
       "description_width": ""
      }
     },
     "26d09c4b29b14f5fa154e4f2db5a1e4f": {
      "model_module": "@jupyter-widgets/controls",
      "model_module_version": "1.5.0",
      "model_name": "HTMLModel",
      "state": {
       "_dom_classes": [],
       "_model_module": "@jupyter-widgets/controls",
       "_model_module_version": "1.5.0",
       "_model_name": "HTMLModel",
       "_view_count": null,
       "_view_module": "@jupyter-widgets/controls",
       "_view_module_version": "1.5.0",
       "_view_name": "HTMLView",
       "description": "",
       "description_tooltip": null,
       "layout": "IPY_MODEL_9fc468fd2f864cada57362becb926e33",
       "placeholder": "​",
       "style": "IPY_MODEL_4df13d870de44dd9acfd4da159faca61",
       "value": " 1.72M/1.72M [00:00&lt;00:00, 5.40MB/s]"
      }
     },
     "2e084e8601b641328b503ce2d207b4c9": {
      "model_module": "@jupyter-widgets/base",
      "model_module_version": "1.2.0",
      "model_name": "LayoutModel",
      "state": {
       "_model_module": "@jupyter-widgets/base",
       "_model_module_version": "1.2.0",
       "_model_name": "LayoutModel",
       "_view_count": null,
       "_view_module": "@jupyter-widgets/base",
       "_view_module_version": "1.2.0",
       "_view_name": "LayoutView",
       "align_content": null,
       "align_items": null,
       "align_self": null,
       "border": null,
       "bottom": null,
       "display": null,
       "flex": null,
       "flex_flow": null,
       "grid_area": null,
       "grid_auto_columns": null,
       "grid_auto_flow": null,
       "grid_auto_rows": null,
       "grid_column": null,
       "grid_gap": null,
       "grid_row": null,
       "grid_template_areas": null,
       "grid_template_columns": null,
       "grid_template_rows": null,
       "height": null,
       "justify_content": null,
       "justify_items": null,
       "left": null,
       "margin": null,
       "max_height": null,
       "max_width": null,
       "min_height": null,
       "min_width": null,
       "object_fit": null,
       "object_position": null,
       "order": null,
       "overflow": null,
       "overflow_x": null,
       "overflow_y": null,
       "padding": null,
       "right": null,
       "top": null,
       "visibility": null,
       "width": null
      }
     },
     "3846006844974b26af787dbaf86925cd": {
      "model_module": "@jupyter-widgets/controls",
      "model_module_version": "1.5.0",
      "model_name": "HBoxModel",
      "state": {
       "_dom_classes": [],
       "_model_module": "@jupyter-widgets/controls",
       "_model_module_version": "1.5.0",
       "_model_name": "HBoxModel",
       "_view_count": null,
       "_view_module": "@jupyter-widgets/controls",
       "_view_module_version": "1.5.0",
       "_view_name": "HBoxView",
       "box_style": "",
       "children": [
        "IPY_MODEL_924f3a35473d4a3f941772d742aea5e5",
        "IPY_MODEL_e208061f105c4b3c80229623dac7a3ae",
        "IPY_MODEL_f53798d6971f44fe961683d8592bb62f"
       ],
       "layout": "IPY_MODEL_ec7822a7a64248b5839edf0dca07dad4"
      }
     },
     "454b1660b55f4ba1862a6ca5d5290e03": {
      "model_module": "@jupyter-widgets/controls",
      "model_module_version": "1.5.0",
      "model_name": "HTMLModel",
      "state": {
       "_dom_classes": [],
       "_model_module": "@jupyter-widgets/controls",
       "_model_module_version": "1.5.0",
       "_model_name": "HTMLModel",
       "_view_count": null,
       "_view_module": "@jupyter-widgets/controls",
       "_view_module_version": "1.5.0",
       "_view_name": "HTMLView",
       "description": "",
       "description_tooltip": null,
       "layout": "IPY_MODEL_53109ab67ede4bcbb7813235cd63fe71",
       "placeholder": "​",
       "style": "IPY_MODEL_6ee7a8ea00ab446db1d7ce9dfa46bab0",
       "value": "model.safetensors: 100%"
      }
     },
     "46e113b026504ef3b06eddd4842f0ad1": {
      "model_module": "@jupyter-widgets/base",
      "model_module_version": "1.2.0",
      "model_name": "LayoutModel",
      "state": {
       "_model_module": "@jupyter-widgets/base",
       "_model_module_version": "1.2.0",
       "_model_name": "LayoutModel",
       "_view_count": null,
       "_view_module": "@jupyter-widgets/base",
       "_view_module_version": "1.2.0",
       "_view_name": "LayoutView",
       "align_content": null,
       "align_items": null,
       "align_self": null,
       "border": null,
       "bottom": null,
       "display": null,
       "flex": null,
       "flex_flow": null,
       "grid_area": null,
       "grid_auto_columns": null,
       "grid_auto_flow": null,
       "grid_auto_rows": null,
       "grid_column": null,
       "grid_gap": null,
       "grid_row": null,
       "grid_template_areas": null,
       "grid_template_columns": null,
       "grid_template_rows": null,
       "height": null,
       "justify_content": null,
       "justify_items": null,
       "left": null,
       "margin": null,
       "max_height": null,
       "max_width": null,
       "min_height": null,
       "min_width": null,
       "object_fit": null,
       "object_position": null,
       "order": null,
       "overflow": null,
       "overflow_x": null,
       "overflow_y": null,
       "padding": null,
       "right": null,
       "top": null,
       "visibility": null,
       "width": null
      }
     },
     "4aab211e28ff42a4a4d054e3f461f8a1": {
      "model_module": "@jupyter-widgets/base",
      "model_module_version": "1.2.0",
      "model_name": "LayoutModel",
      "state": {
       "_model_module": "@jupyter-widgets/base",
       "_model_module_version": "1.2.0",
       "_model_name": "LayoutModel",
       "_view_count": null,
       "_view_module": "@jupyter-widgets/base",
       "_view_module_version": "1.2.0",
       "_view_name": "LayoutView",
       "align_content": null,
       "align_items": null,
       "align_self": null,
       "border": null,
       "bottom": null,
       "display": null,
       "flex": null,
       "flex_flow": null,
       "grid_area": null,
       "grid_auto_columns": null,
       "grid_auto_flow": null,
       "grid_auto_rows": null,
       "grid_column": null,
       "grid_gap": null,
       "grid_row": null,
       "grid_template_areas": null,
       "grid_template_columns": null,
       "grid_template_rows": null,
       "height": null,
       "justify_content": null,
       "justify_items": null,
       "left": null,
       "margin": null,
       "max_height": null,
       "max_width": null,
       "min_height": null,
       "min_width": null,
       "object_fit": null,
       "object_position": null,
       "order": null,
       "overflow": null,
       "overflow_x": null,
       "overflow_y": null,
       "padding": null,
       "right": null,
       "top": null,
       "visibility": null,
       "width": null
      }
     },
     "4abcb4867cef4aa48c33ac9597df4c92": {
      "model_module": "@jupyter-widgets/controls",
      "model_module_version": "1.5.0",
      "model_name": "ProgressStyleModel",
      "state": {
       "_model_module": "@jupyter-widgets/controls",
       "_model_module_version": "1.5.0",
       "_model_name": "ProgressStyleModel",
       "_view_count": null,
       "_view_module": "@jupyter-widgets/base",
       "_view_module_version": "1.2.0",
       "_view_name": "StyleView",
       "bar_color": null,
       "description_width": ""
      }
     },
     "4df13d870de44dd9acfd4da159faca61": {
      "model_module": "@jupyter-widgets/controls",
      "model_module_version": "1.5.0",
      "model_name": "DescriptionStyleModel",
      "state": {
       "_model_module": "@jupyter-widgets/controls",
       "_model_module_version": "1.5.0",
       "_model_name": "DescriptionStyleModel",
       "_view_count": null,
       "_view_module": "@jupyter-widgets/base",
       "_view_module_version": "1.2.0",
       "_view_name": "StyleView",
       "description_width": ""
      }
     },
     "53109ab67ede4bcbb7813235cd63fe71": {
      "model_module": "@jupyter-widgets/base",
      "model_module_version": "1.2.0",
      "model_name": "LayoutModel",
      "state": {
       "_model_module": "@jupyter-widgets/base",
       "_model_module_version": "1.2.0",
       "_model_name": "LayoutModel",
       "_view_count": null,
       "_view_module": "@jupyter-widgets/base",
       "_view_module_version": "1.2.0",
       "_view_name": "LayoutView",
       "align_content": null,
       "align_items": null,
       "align_self": null,
       "border": null,
       "bottom": null,
       "display": null,
       "flex": null,
       "flex_flow": null,
       "grid_area": null,
       "grid_auto_columns": null,
       "grid_auto_flow": null,
       "grid_auto_rows": null,
       "grid_column": null,
       "grid_gap": null,
       "grid_row": null,
       "grid_template_areas": null,
       "grid_template_columns": null,
       "grid_template_rows": null,
       "height": null,
       "justify_content": null,
       "justify_items": null,
       "left": null,
       "margin": null,
       "max_height": null,
       "max_width": null,
       "min_height": null,
       "min_width": null,
       "object_fit": null,
       "object_position": null,
       "order": null,
       "overflow": null,
       "overflow_x": null,
       "overflow_y": null,
       "padding": null,
       "right": null,
       "top": null,
       "visibility": null,
       "width": null
      }
     },
     "53ff161c9dcf47dc9b476bdbf44ccb70": {
      "model_module": "@jupyter-widgets/controls",
      "model_module_version": "1.5.0",
      "model_name": "DescriptionStyleModel",
      "state": {
       "_model_module": "@jupyter-widgets/controls",
       "_model_module_version": "1.5.0",
       "_model_name": "DescriptionStyleModel",
       "_view_count": null,
       "_view_module": "@jupyter-widgets/base",
       "_view_module_version": "1.2.0",
       "_view_name": "StyleView",
       "description_width": ""
      }
     },
     "66379f3f539b4c73a0c6e4f6c8b386f4": {
      "model_module": "@jupyter-widgets/controls",
      "model_module_version": "1.5.0",
      "model_name": "HBoxModel",
      "state": {
       "_dom_classes": [],
       "_model_module": "@jupyter-widgets/controls",
       "_model_module_version": "1.5.0",
       "_model_name": "HBoxModel",
       "_view_count": null,
       "_view_module": "@jupyter-widgets/controls",
       "_view_module_version": "1.5.0",
       "_view_name": "HBoxView",
       "box_style": "",
       "children": [
        "IPY_MODEL_f56d8944a6c2461db740f5c5fa2d7c3b",
        "IPY_MODEL_73800f920e884c2b991521497cb6f143",
        "IPY_MODEL_c01bf94ad310413c9fb1ea345dc66fa2"
       ],
       "layout": "IPY_MODEL_b79710a5259a40c294731684fe49d569"
      }
     },
     "6b1105658a14414fa50445c56968ddcf": {
      "model_module": "@jupyter-widgets/base",
      "model_module_version": "1.2.0",
      "model_name": "LayoutModel",
      "state": {
       "_model_module": "@jupyter-widgets/base",
       "_model_module_version": "1.2.0",
       "_model_name": "LayoutModel",
       "_view_count": null,
       "_view_module": "@jupyter-widgets/base",
       "_view_module_version": "1.2.0",
       "_view_name": "LayoutView",
       "align_content": null,
       "align_items": null,
       "align_self": null,
       "border": null,
       "bottom": null,
       "display": null,
       "flex": null,
       "flex_flow": null,
       "grid_area": null,
       "grid_auto_columns": null,
       "grid_auto_flow": null,
       "grid_auto_rows": null,
       "grid_column": null,
       "grid_gap": null,
       "grid_row": null,
       "grid_template_areas": null,
       "grid_template_columns": null,
       "grid_template_rows": null,
       "height": null,
       "justify_content": null,
       "justify_items": null,
       "left": null,
       "margin": null,
       "max_height": null,
       "max_width": null,
       "min_height": null,
       "min_width": null,
       "object_fit": null,
       "object_position": null,
       "order": null,
       "overflow": null,
       "overflow_x": null,
       "overflow_y": null,
       "padding": null,
       "right": null,
       "top": null,
       "visibility": null,
       "width": null
      }
     },
     "6e79e02d0d694f4b9f56fb2bda7c8191": {
      "model_module": "@jupyter-widgets/controls",
      "model_module_version": "1.5.0",
      "model_name": "DescriptionStyleModel",
      "state": {
       "_model_module": "@jupyter-widgets/controls",
       "_model_module_version": "1.5.0",
       "_model_name": "DescriptionStyleModel",
       "_view_count": null,
       "_view_module": "@jupyter-widgets/base",
       "_view_module_version": "1.2.0",
       "_view_name": "StyleView",
       "description_width": ""
      }
     },
     "6ee7a8ea00ab446db1d7ce9dfa46bab0": {
      "model_module": "@jupyter-widgets/controls",
      "model_module_version": "1.5.0",
      "model_name": "DescriptionStyleModel",
      "state": {
       "_model_module": "@jupyter-widgets/controls",
       "_model_module_version": "1.5.0",
       "_model_name": "DescriptionStyleModel",
       "_view_count": null,
       "_view_module": "@jupyter-widgets/base",
       "_view_module_version": "1.2.0",
       "_view_name": "StyleView",
       "description_width": ""
      }
     },
     "7078a904269f46a4bd9bb80bdb426553": {
      "model_module": "@jupyter-widgets/controls",
      "model_module_version": "1.5.0",
      "model_name": "HBoxModel",
      "state": {
       "_dom_classes": [],
       "_model_module": "@jupyter-widgets/controls",
       "_model_module_version": "1.5.0",
       "_model_name": "HBoxModel",
       "_view_count": null,
       "_view_module": "@jupyter-widgets/controls",
       "_view_module_version": "1.5.0",
       "_view_name": "HBoxView",
       "box_style": "",
       "children": [
        "IPY_MODEL_99cd89f617e64721a3439c87688fcce8",
        "IPY_MODEL_cebef6d932fe4bf5b5bdeaed8931e68e",
        "IPY_MODEL_dd6792eac4aa441687420df307b7b482"
       ],
       "layout": "IPY_MODEL_ea4b6d34a2624f37b7e0b72578721fae"
      }
     },
     "72232d11485a4f56ba1bd4e4e50ab3f5": {
      "model_module": "@jupyter-widgets/controls",
      "model_module_version": "1.5.0",
      "model_name": "DescriptionStyleModel",
      "state": {
       "_model_module": "@jupyter-widgets/controls",
       "_model_module_version": "1.5.0",
       "_model_name": "DescriptionStyleModel",
       "_view_count": null,
       "_view_module": "@jupyter-widgets/base",
       "_view_module_version": "1.2.0",
       "_view_name": "StyleView",
       "description_width": ""
      }
     },
     "7374b051476e43c0bb1a4295ee18f819": {
      "model_module": "@jupyter-widgets/controls",
      "model_module_version": "1.5.0",
      "model_name": "ProgressStyleModel",
      "state": {
       "_model_module": "@jupyter-widgets/controls",
       "_model_module_version": "1.5.0",
       "_model_name": "ProgressStyleModel",
       "_view_count": null,
       "_view_module": "@jupyter-widgets/base",
       "_view_module_version": "1.2.0",
       "_view_name": "StyleView",
       "bar_color": null,
       "description_width": ""
      }
     },
     "73800f920e884c2b991521497cb6f143": {
      "model_module": "@jupyter-widgets/controls",
      "model_module_version": "1.5.0",
      "model_name": "FloatProgressModel",
      "state": {
       "_dom_classes": [],
       "_model_module": "@jupyter-widgets/controls",
       "_model_module_version": "1.5.0",
       "_model_name": "FloatProgressModel",
       "_view_count": null,
       "_view_module": "@jupyter-widgets/controls",
       "_view_module_version": "1.5.0",
       "_view_name": "ProgressView",
       "bar_style": "success",
       "description": "",
       "description_tooltip": null,
       "layout": "IPY_MODEL_db2032700ea9486f9c941eba196328cc",
       "max": 625.0,
       "min": 0.0,
       "orientation": "horizontal",
       "style": "IPY_MODEL_4abcb4867cef4aa48c33ac9597df4c92",
       "value": 625.0
      }
     },
     "89fa51c3fa384ea8a5229fafe49331db": {
      "model_module": "@jupyter-widgets/controls",
      "model_module_version": "1.5.0",
      "model_name": "DescriptionStyleModel",
      "state": {
       "_model_module": "@jupyter-widgets/controls",
       "_model_module_version": "1.5.0",
       "_model_name": "DescriptionStyleModel",
       "_view_count": null,
       "_view_module": "@jupyter-widgets/base",
       "_view_module_version": "1.2.0",
       "_view_name": "StyleView",
       "description_width": ""
      }
     },
     "8ff825e86f2d4d3c937d0ee0b0ef5164": {
      "model_module": "@jupyter-widgets/base",
      "model_module_version": "1.2.0",
      "model_name": "LayoutModel",
      "state": {
       "_model_module": "@jupyter-widgets/base",
       "_model_module_version": "1.2.0",
       "_model_name": "LayoutModel",
       "_view_count": null,
       "_view_module": "@jupyter-widgets/base",
       "_view_module_version": "1.2.0",
       "_view_name": "LayoutView",
       "align_content": null,
       "align_items": null,
       "align_self": null,
       "border": null,
       "bottom": null,
       "display": null,
       "flex": null,
       "flex_flow": null,
       "grid_area": null,
       "grid_auto_columns": null,
       "grid_auto_flow": null,
       "grid_auto_rows": null,
       "grid_column": null,
       "grid_gap": null,
       "grid_row": null,
       "grid_template_areas": null,
       "grid_template_columns": null,
       "grid_template_rows": null,
       "height": null,
       "justify_content": null,
       "justify_items": null,
       "left": null,
       "margin": null,
       "max_height": null,
       "max_width": null,
       "min_height": null,
       "min_width": null,
       "object_fit": null,
       "object_position": null,
       "order": null,
       "overflow": null,
       "overflow_x": null,
       "overflow_y": null,
       "padding": null,
       "right": null,
       "top": null,
       "visibility": null,
       "width": null
      }
     },
     "924f3a35473d4a3f941772d742aea5e5": {
      "model_module": "@jupyter-widgets/controls",
      "model_module_version": "1.5.0",
      "model_name": "HTMLModel",
      "state": {
       "_dom_classes": [],
       "_model_module": "@jupyter-widgets/controls",
       "_model_module_version": "1.5.0",
       "_model_name": "HTMLModel",
       "_view_count": null,
       "_view_module": "@jupyter-widgets/controls",
       "_view_module_version": "1.5.0",
       "_view_name": "HTMLView",
       "description": "",
       "description_tooltip": null,
       "layout": "IPY_MODEL_1ed02b5b1cc34c52bed463b3a95ba8b8",
       "placeholder": "​",
       "style": "IPY_MODEL_16ece067c7c3409598503b5a6ad07e25",
       "value": "tokenizer_config.json: 100%"
      }
     },
     "95c3ccffb9ac49b09535cd378e0a6c64": {
      "model_module": "@jupyter-widgets/controls",
      "model_module_version": "1.5.0",
      "model_name": "HTMLModel",
      "state": {
       "_dom_classes": [],
       "_model_module": "@jupyter-widgets/controls",
       "_model_module_version": "1.5.0",
       "_model_name": "HTMLModel",
       "_view_count": null,
       "_view_module": "@jupyter-widgets/controls",
       "_view_module_version": "1.5.0",
       "_view_name": "HTMLView",
       "description": "",
       "description_tooltip": null,
       "layout": "IPY_MODEL_dce0a6b8417247e1852a868b934a953f",
       "placeholder": "​",
       "style": "IPY_MODEL_53ff161c9dcf47dc9b476bdbf44ccb70",
       "value": " 672M/672M [00:02&lt;00:00, 270MB/s]"
      }
     },
     "99cd89f617e64721a3439c87688fcce8": {
      "model_module": "@jupyter-widgets/controls",
      "model_module_version": "1.5.0",
      "model_name": "HTMLModel",
      "state": {
       "_dom_classes": [],
       "_model_module": "@jupyter-widgets/controls",
       "_model_module_version": "1.5.0",
       "_model_name": "HTMLModel",
       "_view_count": null,
       "_view_module": "@jupyter-widgets/controls",
       "_view_module_version": "1.5.0",
       "_view_name": "HTMLView",
       "description": "",
       "description_tooltip": null,
       "layout": "IPY_MODEL_4aab211e28ff42a4a4d054e3f461f8a1",
       "placeholder": "​",
       "style": "IPY_MODEL_d1bfdabab60346d3935e82f5088a7fc1",
       "value": "vocab.txt: 100%"
      }
     },
     "9fc468fd2f864cada57362becb926e33": {
      "model_module": "@jupyter-widgets/base",
      "model_module_version": "1.2.0",
      "model_name": "LayoutModel",
      "state": {
       "_model_module": "@jupyter-widgets/base",
       "_model_module_version": "1.2.0",
       "_model_name": "LayoutModel",
       "_view_count": null,
       "_view_module": "@jupyter-widgets/base",
       "_view_module_version": "1.2.0",
       "_view_name": "LayoutView",
       "align_content": null,
       "align_items": null,
       "align_self": null,
       "border": null,
       "bottom": null,
       "display": null,
       "flex": null,
       "flex_flow": null,
       "grid_area": null,
       "grid_auto_columns": null,
       "grid_auto_flow": null,
       "grid_auto_rows": null,
       "grid_column": null,
       "grid_gap": null,
       "grid_row": null,
       "grid_template_areas": null,
       "grid_template_columns": null,
       "grid_template_rows": null,
       "height": null,
       "justify_content": null,
       "justify_items": null,
       "left": null,
       "margin": null,
       "max_height": null,
       "max_width": null,
       "min_height": null,
       "min_width": null,
       "object_fit": null,
       "object_position": null,
       "order": null,
       "overflow": null,
       "overflow_x": null,
       "overflow_y": null,
       "padding": null,
       "right": null,
       "top": null,
       "visibility": null,
       "width": null
      }
     },
     "a012a260da904e93a0997cbfaefdb4e9": {
      "model_module": "@jupyter-widgets/controls",
      "model_module_version": "1.5.0",
      "model_name": "ProgressStyleModel",
      "state": {
       "_model_module": "@jupyter-widgets/controls",
       "_model_module_version": "1.5.0",
       "_model_name": "ProgressStyleModel",
       "_view_count": null,
       "_view_module": "@jupyter-widgets/base",
       "_view_module_version": "1.2.0",
       "_view_name": "StyleView",
       "bar_color": null,
       "description_width": ""
      }
     },
     "ad81e0cf499c43d0b133055b5e7a1710": {
      "model_module": "@jupyter-widgets/controls",
      "model_module_version": "1.5.0",
      "model_name": "HBoxModel",
      "state": {
       "_dom_classes": [],
       "_model_module": "@jupyter-widgets/controls",
       "_model_module_version": "1.5.0",
       "_model_name": "HBoxModel",
       "_view_count": null,
       "_view_module": "@jupyter-widgets/controls",
       "_view_module_version": "1.5.0",
       "_view_name": "HBoxView",
       "box_style": "",
       "children": [
        "IPY_MODEL_454b1660b55f4ba1862a6ca5d5290e03",
        "IPY_MODEL_fa5abf70adc54ffbbb9a3026f306ab8f",
        "IPY_MODEL_95c3ccffb9ac49b09535cd378e0a6c64"
       ],
       "layout": "IPY_MODEL_8ff825e86f2d4d3c937d0ee0b0ef5164"
      }
     },
     "b741ce76be1c4a3f81cc0ca55da3f950": {
      "model_module": "@jupyter-widgets/base",
      "model_module_version": "1.2.0",
      "model_name": "LayoutModel",
      "state": {
       "_model_module": "@jupyter-widgets/base",
       "_model_module_version": "1.2.0",
       "_model_name": "LayoutModel",
       "_view_count": null,
       "_view_module": "@jupyter-widgets/base",
       "_view_module_version": "1.2.0",
       "_view_name": "LayoutView",
       "align_content": null,
       "align_items": null,
       "align_self": null,
       "border": null,
       "bottom": null,
       "display": null,
       "flex": null,
       "flex_flow": null,
       "grid_area": null,
       "grid_auto_columns": null,
       "grid_auto_flow": null,
       "grid_auto_rows": null,
       "grid_column": null,
       "grid_gap": null,
       "grid_row": null,
       "grid_template_areas": null,
       "grid_template_columns": null,
       "grid_template_rows": null,
       "height": null,
       "justify_content": null,
       "justify_items": null,
       "left": null,
       "margin": null,
       "max_height": null,
       "max_width": null,
       "min_height": null,
       "min_width": null,
       "object_fit": null,
       "object_position": null,
       "order": null,
       "overflow": null,
       "overflow_x": null,
       "overflow_y": null,
       "padding": null,
       "right": null,
       "top": null,
       "visibility": null,
       "width": null
      }
     },
     "b79710a5259a40c294731684fe49d569": {
      "model_module": "@jupyter-widgets/base",
      "model_module_version": "1.2.0",
      "model_name": "LayoutModel",
      "state": {
       "_model_module": "@jupyter-widgets/base",
       "_model_module_version": "1.2.0",
       "_model_name": "LayoutModel",
       "_view_count": null,
       "_view_module": "@jupyter-widgets/base",
       "_view_module_version": "1.2.0",
       "_view_name": "LayoutView",
       "align_content": null,
       "align_items": null,
       "align_self": null,
       "border": null,
       "bottom": null,
       "display": null,
       "flex": null,
       "flex_flow": null,
       "grid_area": null,
       "grid_auto_columns": null,
       "grid_auto_flow": null,
       "grid_auto_rows": null,
       "grid_column": null,
       "grid_gap": null,
       "grid_row": null,
       "grid_template_areas": null,
       "grid_template_columns": null,
       "grid_template_rows": null,
       "height": null,
       "justify_content": null,
       "justify_items": null,
       "left": null,
       "margin": null,
       "max_height": null,
       "max_width": null,
       "min_height": null,
       "min_width": null,
       "object_fit": null,
       "object_position": null,
       "order": null,
       "overflow": null,
       "overflow_x": null,
       "overflow_y": null,
       "padding": null,
       "right": null,
       "top": null,
       "visibility": null,
       "width": null
      }
     },
     "b989d2622a7748d392d220d4a7dc84ff": {
      "model_module": "@jupyter-widgets/base",
      "model_module_version": "1.2.0",
      "model_name": "LayoutModel",
      "state": {
       "_model_module": "@jupyter-widgets/base",
       "_model_module_version": "1.2.0",
       "_model_name": "LayoutModel",
       "_view_count": null,
       "_view_module": "@jupyter-widgets/base",
       "_view_module_version": "1.2.0",
       "_view_name": "LayoutView",
       "align_content": null,
       "align_items": null,
       "align_self": null,
       "border": null,
       "bottom": null,
       "display": null,
       "flex": null,
       "flex_flow": null,
       "grid_area": null,
       "grid_auto_columns": null,
       "grid_auto_flow": null,
       "grid_auto_rows": null,
       "grid_column": null,
       "grid_gap": null,
       "grid_row": null,
       "grid_template_areas": null,
       "grid_template_columns": null,
       "grid_template_rows": null,
       "height": null,
       "justify_content": null,
       "justify_items": null,
       "left": null,
       "margin": null,
       "max_height": null,
       "max_width": null,
       "min_height": null,
       "min_width": null,
       "object_fit": null,
       "object_position": null,
       "order": null,
       "overflow": null,
       "overflow_x": null,
       "overflow_y": null,
       "padding": null,
       "right": null,
       "top": null,
       "visibility": null,
       "width": null
      }
     },
     "b9e7109b6dfd45e6862e93326beda12c": {
      "model_module": "@jupyter-widgets/base",
      "model_module_version": "1.2.0",
      "model_name": "LayoutModel",
      "state": {
       "_model_module": "@jupyter-widgets/base",
       "_model_module_version": "1.2.0",
       "_model_name": "LayoutModel",
       "_view_count": null,
       "_view_module": "@jupyter-widgets/base",
       "_view_module_version": "1.2.0",
       "_view_name": "LayoutView",
       "align_content": null,
       "align_items": null,
       "align_self": null,
       "border": null,
       "bottom": null,
       "display": null,
       "flex": null,
       "flex_flow": null,
       "grid_area": null,
       "grid_auto_columns": null,
       "grid_auto_flow": null,
       "grid_auto_rows": null,
       "grid_column": null,
       "grid_gap": null,
       "grid_row": null,
       "grid_template_areas": null,
       "grid_template_columns": null,
       "grid_template_rows": null,
       "height": null,
       "justify_content": null,
       "justify_items": null,
       "left": null,
       "margin": null,
       "max_height": null,
       "max_width": null,
       "min_height": null,
       "min_width": null,
       "object_fit": null,
       "object_position": null,
       "order": null,
       "overflow": null,
       "overflow_x": null,
       "overflow_y": null,
       "padding": null,
       "right": null,
       "top": null,
       "visibility": null,
       "width": null
      }
     },
     "be31280673d340ab93c1b9c8236ebba4": {
      "model_module": "@jupyter-widgets/base",
      "model_module_version": "1.2.0",
      "model_name": "LayoutModel",
      "state": {
       "_model_module": "@jupyter-widgets/base",
       "_model_module_version": "1.2.0",
       "_model_name": "LayoutModel",
       "_view_count": null,
       "_view_module": "@jupyter-widgets/base",
       "_view_module_version": "1.2.0",
       "_view_name": "LayoutView",
       "align_content": null,
       "align_items": null,
       "align_self": null,
       "border": null,
       "bottom": null,
       "display": null,
       "flex": null,
       "flex_flow": null,
       "grid_area": null,
       "grid_auto_columns": null,
       "grid_auto_flow": null,
       "grid_auto_rows": null,
       "grid_column": null,
       "grid_gap": null,
       "grid_row": null,
       "grid_template_areas": null,
       "grid_template_columns": null,
       "grid_template_rows": null,
       "height": null,
       "justify_content": null,
       "justify_items": null,
       "left": null,
       "margin": null,
       "max_height": null,
       "max_width": null,
       "min_height": null,
       "min_width": null,
       "object_fit": null,
       "object_position": null,
       "order": null,
       "overflow": null,
       "overflow_x": null,
       "overflow_y": null,
       "padding": null,
       "right": null,
       "top": null,
       "visibility": null,
       "width": null
      }
     },
     "c01bf94ad310413c9fb1ea345dc66fa2": {
      "model_module": "@jupyter-widgets/controls",
      "model_module_version": "1.5.0",
      "model_name": "HTMLModel",
      "state": {
       "_dom_classes": [],
       "_model_module": "@jupyter-widgets/controls",
       "_model_module_version": "1.5.0",
       "_model_name": "HTMLModel",
       "_view_count": null,
       "_view_module": "@jupyter-widgets/controls",
       "_view_module_version": "1.5.0",
       "_view_name": "HTMLView",
       "description": "",
       "description_tooltip": null,
       "layout": "IPY_MODEL_b741ce76be1c4a3f81cc0ca55da3f950",
       "placeholder": "​",
       "style": "IPY_MODEL_d2f6b2eee255463681f4a4c28dde24a8",
       "value": " 625/625 [00:00&lt;00:00, 48.7kB/s]"
      }
     },
     "c55a492dffe34294b6cce835d180b8ad": {
      "model_module": "@jupyter-widgets/controls",
      "model_module_version": "1.5.0",
      "model_name": "HTMLModel",
      "state": {
       "_dom_classes": [],
       "_model_module": "@jupyter-widgets/controls",
       "_model_module_version": "1.5.0",
       "_model_name": "HTMLModel",
       "_view_count": null,
       "_view_module": "@jupyter-widgets/controls",
       "_view_module_version": "1.5.0",
       "_view_name": "HTMLView",
       "description": "",
       "description_tooltip": null,
       "layout": "IPY_MODEL_de146544f8f54efbb5c958e883b2addc",
       "placeholder": "​",
       "style": "IPY_MODEL_ca21257742314f3c931f00ef947a184b",
       "value": "tokenizer.json: 100%"
      }
     },
     "ca21257742314f3c931f00ef947a184b": {
      "model_module": "@jupyter-widgets/controls",
      "model_module_version": "1.5.0",
      "model_name": "DescriptionStyleModel",
      "state": {
       "_model_module": "@jupyter-widgets/controls",
       "_model_module_version": "1.5.0",
       "_model_name": "DescriptionStyleModel",
       "_view_count": null,
       "_view_module": "@jupyter-widgets/base",
       "_view_module_version": "1.2.0",
       "_view_name": "StyleView",
       "description_width": ""
      }
     },
     "cc40baef42c648a5996c2dd062558c02": {
      "model_module": "@jupyter-widgets/controls",
      "model_module_version": "1.5.0",
      "model_name": "HBoxModel",
      "state": {
       "_dom_classes": [],
       "_model_module": "@jupyter-widgets/controls",
       "_model_module_version": "1.5.0",
       "_model_name": "HBoxModel",
       "_view_count": null,
       "_view_module": "@jupyter-widgets/controls",
       "_view_module_version": "1.5.0",
       "_view_name": "HBoxView",
       "box_style": "",
       "children": [
        "IPY_MODEL_c55a492dffe34294b6cce835d180b8ad",
        "IPY_MODEL_d6df95bf912e43ce83088a4c7ff0277b",
        "IPY_MODEL_26d09c4b29b14f5fa154e4f2db5a1e4f"
       ],
       "layout": "IPY_MODEL_2e084e8601b641328b503ce2d207b4c9"
      }
     },
     "cebef6d932fe4bf5b5bdeaed8931e68e": {
      "model_module": "@jupyter-widgets/controls",
      "model_module_version": "1.5.0",
      "model_name": "FloatProgressModel",
      "state": {
       "_dom_classes": [],
       "_model_module": "@jupyter-widgets/controls",
       "_model_module_version": "1.5.0",
       "_model_name": "FloatProgressModel",
       "_view_count": null,
       "_view_module": "@jupyter-widgets/controls",
       "_view_module_version": "1.5.0",
       "_view_name": "ProgressView",
       "bar_style": "success",
       "description": "",
       "description_tooltip": null,
       "layout": "IPY_MODEL_b989d2622a7748d392d220d4a7dc84ff",
       "max": 871891.0,
       "min": 0.0,
       "orientation": "horizontal",
       "style": "IPY_MODEL_a012a260da904e93a0997cbfaefdb4e9",
       "value": 871891.0
      }
     },
     "d1bfdabab60346d3935e82f5088a7fc1": {
      "model_module": "@jupyter-widgets/controls",
      "model_module_version": "1.5.0",
      "model_name": "DescriptionStyleModel",
      "state": {
       "_model_module": "@jupyter-widgets/controls",
       "_model_module_version": "1.5.0",
       "_model_name": "DescriptionStyleModel",
       "_view_count": null,
       "_view_module": "@jupyter-widgets/base",
       "_view_module_version": "1.2.0",
       "_view_name": "StyleView",
       "description_width": ""
      }
     },
     "d2f6b2eee255463681f4a4c28dde24a8": {
      "model_module": "@jupyter-widgets/controls",
      "model_module_version": "1.5.0",
      "model_name": "DescriptionStyleModel",
      "state": {
       "_model_module": "@jupyter-widgets/controls",
       "_model_module_version": "1.5.0",
       "_model_name": "DescriptionStyleModel",
       "_view_count": null,
       "_view_module": "@jupyter-widgets/base",
       "_view_module_version": "1.2.0",
       "_view_name": "StyleView",
       "description_width": ""
      }
     },
     "d4f68aad49134bc890b293be036d1382": {
      "model_module": "@jupyter-widgets/base",
      "model_module_version": "1.2.0",
      "model_name": "LayoutModel",
      "state": {
       "_model_module": "@jupyter-widgets/base",
       "_model_module_version": "1.2.0",
       "_model_name": "LayoutModel",
       "_view_count": null,
       "_view_module": "@jupyter-widgets/base",
       "_view_module_version": "1.2.0",
       "_view_name": "LayoutView",
       "align_content": null,
       "align_items": null,
       "align_self": null,
       "border": null,
       "bottom": null,
       "display": null,
       "flex": null,
       "flex_flow": null,
       "grid_area": null,
       "grid_auto_columns": null,
       "grid_auto_flow": null,
       "grid_auto_rows": null,
       "grid_column": null,
       "grid_gap": null,
       "grid_row": null,
       "grid_template_areas": null,
       "grid_template_columns": null,
       "grid_template_rows": null,
       "height": null,
       "justify_content": null,
       "justify_items": null,
       "left": null,
       "margin": null,
       "max_height": null,
       "max_width": null,
       "min_height": null,
       "min_width": null,
       "object_fit": null,
       "object_position": null,
       "order": null,
       "overflow": null,
       "overflow_x": null,
       "overflow_y": null,
       "padding": null,
       "right": null,
       "top": null,
       "visibility": null,
       "width": null
      }
     },
     "d6df95bf912e43ce83088a4c7ff0277b": {
      "model_module": "@jupyter-widgets/controls",
      "model_module_version": "1.5.0",
      "model_name": "FloatProgressModel",
      "state": {
       "_dom_classes": [],
       "_model_module": "@jupyter-widgets/controls",
       "_model_module_version": "1.5.0",
       "_model_name": "FloatProgressModel",
       "_view_count": null,
       "_view_module": "@jupyter-widgets/controls",
       "_view_module_version": "1.5.0",
       "_view_name": "ProgressView",
       "bar_style": "success",
       "description": "",
       "description_tooltip": null,
       "layout": "IPY_MODEL_b9e7109b6dfd45e6862e93326beda12c",
       "max": 1715180.0,
       "min": 0.0,
       "orientation": "horizontal",
       "style": "IPY_MODEL_7374b051476e43c0bb1a4295ee18f819",
       "value": 1715180.0
      }
     },
     "db2032700ea9486f9c941eba196328cc": {
      "model_module": "@jupyter-widgets/base",
      "model_module_version": "1.2.0",
      "model_name": "LayoutModel",
      "state": {
       "_model_module": "@jupyter-widgets/base",
       "_model_module_version": "1.2.0",
       "_model_name": "LayoutModel",
       "_view_count": null,
       "_view_module": "@jupyter-widgets/base",
       "_view_module_version": "1.2.0",
       "_view_name": "LayoutView",
       "align_content": null,
       "align_items": null,
       "align_self": null,
       "border": null,
       "bottom": null,
       "display": null,
       "flex": null,
       "flex_flow": null,
       "grid_area": null,
       "grid_auto_columns": null,
       "grid_auto_flow": null,
       "grid_auto_rows": null,
       "grid_column": null,
       "grid_gap": null,
       "grid_row": null,
       "grid_template_areas": null,
       "grid_template_columns": null,
       "grid_template_rows": null,
       "height": null,
       "justify_content": null,
       "justify_items": null,
       "left": null,
       "margin": null,
       "max_height": null,
       "max_width": null,
       "min_height": null,
       "min_width": null,
       "object_fit": null,
       "object_position": null,
       "order": null,
       "overflow": null,
       "overflow_x": null,
       "overflow_y": null,
       "padding": null,
       "right": null,
       "top": null,
       "visibility": null,
       "width": null
      }
     },
     "dce0a6b8417247e1852a868b934a953f": {
      "model_module": "@jupyter-widgets/base",
      "model_module_version": "1.2.0",
      "model_name": "LayoutModel",
      "state": {
       "_model_module": "@jupyter-widgets/base",
       "_model_module_version": "1.2.0",
       "_model_name": "LayoutModel",
       "_view_count": null,
       "_view_module": "@jupyter-widgets/base",
       "_view_module_version": "1.2.0",
       "_view_name": "LayoutView",
       "align_content": null,
       "align_items": null,
       "align_self": null,
       "border": null,
       "bottom": null,
       "display": null,
       "flex": null,
       "flex_flow": null,
       "grid_area": null,
       "grid_auto_columns": null,
       "grid_auto_flow": null,
       "grid_auto_rows": null,
       "grid_column": null,
       "grid_gap": null,
       "grid_row": null,
       "grid_template_areas": null,
       "grid_template_columns": null,
       "grid_template_rows": null,
       "height": null,
       "justify_content": null,
       "justify_items": null,
       "left": null,
       "margin": null,
       "max_height": null,
       "max_width": null,
       "min_height": null,
       "min_width": null,
       "object_fit": null,
       "object_position": null,
       "order": null,
       "overflow": null,
       "overflow_x": null,
       "overflow_y": null,
       "padding": null,
       "right": null,
       "top": null,
       "visibility": null,
       "width": null
      }
     },
     "dd6792eac4aa441687420df307b7b482": {
      "model_module": "@jupyter-widgets/controls",
      "model_module_version": "1.5.0",
      "model_name": "HTMLModel",
      "state": {
       "_dom_classes": [],
       "_model_module": "@jupyter-widgets/controls",
       "_model_module_version": "1.5.0",
       "_model_name": "HTMLModel",
       "_view_count": null,
       "_view_module": "@jupyter-widgets/controls",
       "_view_module_version": "1.5.0",
       "_view_name": "HTMLView",
       "description": "",
       "description_tooltip": null,
       "layout": "IPY_MODEL_d4f68aad49134bc890b293be036d1382",
       "placeholder": "​",
       "style": "IPY_MODEL_72232d11485a4f56ba1bd4e4e50ab3f5",
       "value": " 872k/872k [00:00&lt;00:00, 4.53MB/s]"
      }
     },
     "de146544f8f54efbb5c958e883b2addc": {
      "model_module": "@jupyter-widgets/base",
      "model_module_version": "1.2.0",
      "model_name": "LayoutModel",
      "state": {
       "_model_module": "@jupyter-widgets/base",
       "_model_module_version": "1.2.0",
       "_model_name": "LayoutModel",
       "_view_count": null,
       "_view_module": "@jupyter-widgets/base",
       "_view_module_version": "1.2.0",
       "_view_name": "LayoutView",
       "align_content": null,
       "align_items": null,
       "align_self": null,
       "border": null,
       "bottom": null,
       "display": null,
       "flex": null,
       "flex_flow": null,
       "grid_area": null,
       "grid_auto_columns": null,
       "grid_auto_flow": null,
       "grid_auto_rows": null,
       "grid_column": null,
       "grid_gap": null,
       "grid_row": null,
       "grid_template_areas": null,
       "grid_template_columns": null,
       "grid_template_rows": null,
       "height": null,
       "justify_content": null,
       "justify_items": null,
       "left": null,
       "margin": null,
       "max_height": null,
       "max_width": null,
       "min_height": null,
       "min_width": null,
       "object_fit": null,
       "object_position": null,
       "order": null,
       "overflow": null,
       "overflow_x": null,
       "overflow_y": null,
       "padding": null,
       "right": null,
       "top": null,
       "visibility": null,
       "width": null
      }
     },
     "e208061f105c4b3c80229623dac7a3ae": {
      "model_module": "@jupyter-widgets/controls",
      "model_module_version": "1.5.0",
      "model_name": "FloatProgressModel",
      "state": {
       "_dom_classes": [],
       "_model_module": "@jupyter-widgets/controls",
       "_model_module_version": "1.5.0",
       "_model_name": "FloatProgressModel",
       "_view_count": null,
       "_view_module": "@jupyter-widgets/controls",
       "_view_module_version": "1.5.0",
       "_view_name": "ProgressView",
       "bar_style": "success",
       "description": "",
       "description_tooltip": null,
       "layout": "IPY_MODEL_46e113b026504ef3b06eddd4842f0ad1",
       "max": 28.0,
       "min": 0.0,
       "orientation": "horizontal",
       "style": "IPY_MODEL_eb30d947b7a94cde848162c06500354e",
       "value": 28.0
      }
     },
     "ea4b6d34a2624f37b7e0b72578721fae": {
      "model_module": "@jupyter-widgets/base",
      "model_module_version": "1.2.0",
      "model_name": "LayoutModel",
      "state": {
       "_model_module": "@jupyter-widgets/base",
       "_model_module_version": "1.2.0",
       "_model_name": "LayoutModel",
       "_view_count": null,
       "_view_module": "@jupyter-widgets/base",
       "_view_module_version": "1.2.0",
       "_view_name": "LayoutView",
       "align_content": null,
       "align_items": null,
       "align_self": null,
       "border": null,
       "bottom": null,
       "display": null,
       "flex": null,
       "flex_flow": null,
       "grid_area": null,
       "grid_auto_columns": null,
       "grid_auto_flow": null,
       "grid_auto_rows": null,
       "grid_column": null,
       "grid_gap": null,
       "grid_row": null,
       "grid_template_areas": null,
       "grid_template_columns": null,
       "grid_template_rows": null,
       "height": null,
       "justify_content": null,
       "justify_items": null,
       "left": null,
       "margin": null,
       "max_height": null,
       "max_width": null,
       "min_height": null,
       "min_width": null,
       "object_fit": null,
       "object_position": null,
       "order": null,
       "overflow": null,
       "overflow_x": null,
       "overflow_y": null,
       "padding": null,
       "right": null,
       "top": null,
       "visibility": null,
       "width": null
      }
     },
     "eb30d947b7a94cde848162c06500354e": {
      "model_module": "@jupyter-widgets/controls",
      "model_module_version": "1.5.0",
      "model_name": "ProgressStyleModel",
      "state": {
       "_model_module": "@jupyter-widgets/controls",
       "_model_module_version": "1.5.0",
       "_model_name": "ProgressStyleModel",
       "_view_count": null,
       "_view_module": "@jupyter-widgets/base",
       "_view_module_version": "1.2.0",
       "_view_name": "StyleView",
       "bar_color": null,
       "description_width": ""
      }
     },
     "ec7822a7a64248b5839edf0dca07dad4": {
      "model_module": "@jupyter-widgets/base",
      "model_module_version": "1.2.0",
      "model_name": "LayoutModel",
      "state": {
       "_model_module": "@jupyter-widgets/base",
       "_model_module_version": "1.2.0",
       "_model_name": "LayoutModel",
       "_view_count": null,
       "_view_module": "@jupyter-widgets/base",
       "_view_module_version": "1.2.0",
       "_view_name": "LayoutView",
       "align_content": null,
       "align_items": null,
       "align_self": null,
       "border": null,
       "bottom": null,
       "display": null,
       "flex": null,
       "flex_flow": null,
       "grid_area": null,
       "grid_auto_columns": null,
       "grid_auto_flow": null,
       "grid_auto_rows": null,
       "grid_column": null,
       "grid_gap": null,
       "grid_row": null,
       "grid_template_areas": null,
       "grid_template_columns": null,
       "grid_template_rows": null,
       "height": null,
       "justify_content": null,
       "justify_items": null,
       "left": null,
       "margin": null,
       "max_height": null,
       "max_width": null,
       "min_height": null,
       "min_width": null,
       "object_fit": null,
       "object_position": null,
       "order": null,
       "overflow": null,
       "overflow_x": null,
       "overflow_y": null,
       "padding": null,
       "right": null,
       "top": null,
       "visibility": null,
       "width": null
      }
     },
     "f53798d6971f44fe961683d8592bb62f": {
      "model_module": "@jupyter-widgets/controls",
      "model_module_version": "1.5.0",
      "model_name": "HTMLModel",
      "state": {
       "_dom_classes": [],
       "_model_module": "@jupyter-widgets/controls",
       "_model_module_version": "1.5.0",
       "_model_name": "HTMLModel",
       "_view_count": null,
       "_view_module": "@jupyter-widgets/controls",
       "_view_module_version": "1.5.0",
       "_view_name": "HTMLView",
       "description": "",
       "description_tooltip": null,
       "layout": "IPY_MODEL_fa5375a96ea14a108e8fba45b79ea1ea",
       "placeholder": "​",
       "style": "IPY_MODEL_89fa51c3fa384ea8a5229fafe49331db",
       "value": " 28.0/28.0 [00:00&lt;00:00, 2.67kB/s]"
      }
     },
     "f56d8944a6c2461db740f5c5fa2d7c3b": {
      "model_module": "@jupyter-widgets/controls",
      "model_module_version": "1.5.0",
      "model_name": "HTMLModel",
      "state": {
       "_dom_classes": [],
       "_model_module": "@jupyter-widgets/controls",
       "_model_module_version": "1.5.0",
       "_model_name": "HTMLModel",
       "_view_count": null,
       "_view_module": "@jupyter-widgets/controls",
       "_view_module_version": "1.5.0",
       "_view_name": "HTMLView",
       "description": "",
       "description_tooltip": null,
       "layout": "IPY_MODEL_be31280673d340ab93c1b9c8236ebba4",
       "placeholder": "​",
       "style": "IPY_MODEL_6e79e02d0d694f4b9f56fb2bda7c8191",
       "value": "config.json: 100%"
      }
     },
     "fa5375a96ea14a108e8fba45b79ea1ea": {
      "model_module": "@jupyter-widgets/base",
      "model_module_version": "1.2.0",
      "model_name": "LayoutModel",
      "state": {
       "_model_module": "@jupyter-widgets/base",
       "_model_module_version": "1.2.0",
       "_model_name": "LayoutModel",
       "_view_count": null,
       "_view_module": "@jupyter-widgets/base",
       "_view_module_version": "1.2.0",
       "_view_name": "LayoutView",
       "align_content": null,
       "align_items": null,
       "align_self": null,
       "border": null,
       "bottom": null,
       "display": null,
       "flex": null,
       "flex_flow": null,
       "grid_area": null,
       "grid_auto_columns": null,
       "grid_auto_flow": null,
       "grid_auto_rows": null,
       "grid_column": null,
       "grid_gap": null,
       "grid_row": null,
       "grid_template_areas": null,
       "grid_template_columns": null,
       "grid_template_rows": null,
       "height": null,
       "justify_content": null,
       "justify_items": null,
       "left": null,
       "margin": null,
       "max_height": null,
       "max_width": null,
       "min_height": null,
       "min_width": null,
       "object_fit": null,
       "object_position": null,
       "order": null,
       "overflow": null,
       "overflow_x": null,
       "overflow_y": null,
       "padding": null,
       "right": null,
       "top": null,
       "visibility": null,
       "width": null
      }
     },
     "fa5abf70adc54ffbbb9a3026f306ab8f": {
      "model_module": "@jupyter-widgets/controls",
      "model_module_version": "1.5.0",
      "model_name": "FloatProgressModel",
      "state": {
       "_dom_classes": [],
       "_model_module": "@jupyter-widgets/controls",
       "_model_module_version": "1.5.0",
       "_model_name": "FloatProgressModel",
       "_view_count": null,
       "_view_module": "@jupyter-widgets/controls",
       "_view_module_version": "1.5.0",
       "_view_name": "ProgressView",
       "bar_style": "success",
       "description": "",
       "description_tooltip": null,
       "layout": "IPY_MODEL_6b1105658a14414fa50445c56968ddcf",
       "max": 672247920.0,
       "min": 0.0,
       "orientation": "horizontal",
       "style": "IPY_MODEL_232d759b01314d62ab24ace5d1d7dff0",
       "value": 672247920.0
      }
     }
    },
    "version_major": 2,
    "version_minor": 0
   }
  }
 },
 "nbformat": 4,
 "nbformat_minor": 5
}
