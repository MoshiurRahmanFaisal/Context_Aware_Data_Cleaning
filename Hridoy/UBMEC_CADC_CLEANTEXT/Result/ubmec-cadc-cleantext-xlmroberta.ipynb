{
 "cells": [
  {
   "cell_type": "code",
   "execution_count": 1,
   "id": "14ac90c7",
   "metadata": {
    "execution": {
     "iopub.execute_input": "2024-02-17T14:54:59.466087Z",
     "iopub.status.busy": "2024-02-17T14:54:59.465719Z",
     "iopub.status.idle": "2024-02-17T14:55:15.981696Z",
     "shell.execute_reply": "2024-02-17T14:55:15.980749Z"
    },
    "papermill": {
     "duration": 16.538754,
     "end_time": "2024-02-17T14:55:15.984116",
     "exception": false,
     "start_time": "2024-02-17T14:54:59.445362",
     "status": "completed"
    },
    "tags": []
   },
   "outputs": [
    {
     "name": "stdout",
     "output_type": "stream",
     "text": [
      "Collecting bnlp_toolkit\r\n",
      "  Downloading bnlp_toolkit-4.0.0-py3-none-any.whl.metadata (3.3 kB)\r\n",
      "Requirement already satisfied: sentencepiece in /opt/conda/lib/python3.10/site-packages (from bnlp_toolkit) (0.1.99)\r\n",
      "Requirement already satisfied: gensim in /opt/conda/lib/python3.10/site-packages (from bnlp_toolkit) (4.3.2)\r\n",
      "Requirement already satisfied: nltk in /opt/conda/lib/python3.10/site-packages (from bnlp_toolkit) (3.2.4)\r\n",
      "Requirement already satisfied: numpy in /opt/conda/lib/python3.10/site-packages (from bnlp_toolkit) (1.24.4)\r\n",
      "Requirement already satisfied: scipy in /opt/conda/lib/python3.10/site-packages (from bnlp_toolkit) (1.11.4)\r\n",
      "Collecting sklearn-crfsuite (from bnlp_toolkit)\r\n",
      "  Downloading sklearn_crfsuite-0.3.6-py2.py3-none-any.whl (12 kB)\r\n",
      "Requirement already satisfied: tqdm in /opt/conda/lib/python3.10/site-packages (from bnlp_toolkit) (4.66.1)\r\n",
      "Collecting ftfy (from bnlp_toolkit)\r\n",
      "  Downloading ftfy-6.1.3-py3-none-any.whl.metadata (6.2 kB)\r\n",
      "Collecting emoji==1.7.0 (from bnlp_toolkit)\r\n",
      "  Downloading emoji-1.7.0.tar.gz (175 kB)\r\n",
      "\u001b[2K     \u001b[90m━━━━━━━━━━━━━━━━━━━━━━━━━━━━━━━━━━━━━━\u001b[0m \u001b[32m175.4/175.4 kB\u001b[0m \u001b[31m11.2 MB/s\u001b[0m eta \u001b[36m0:00:00\u001b[0m\r\n",
      "\u001b[?25h  Preparing metadata (setup.py) ... \u001b[?25l-\b \bdone\r\n",
      "\u001b[?25hRequirement already satisfied: requests in /opt/conda/lib/python3.10/site-packages (from bnlp_toolkit) (2.31.0)\r\n",
      "Requirement already satisfied: wcwidth<0.3.0,>=0.2.12 in /opt/conda/lib/python3.10/site-packages (from ftfy->bnlp_toolkit) (0.2.13)\r\n",
      "Requirement already satisfied: smart-open>=1.8.1 in /opt/conda/lib/python3.10/site-packages (from gensim->bnlp_toolkit) (6.4.0)\r\n",
      "Requirement already satisfied: six in /opt/conda/lib/python3.10/site-packages (from nltk->bnlp_toolkit) (1.16.0)\r\n",
      "Requirement already satisfied: charset-normalizer<4,>=2 in /opt/conda/lib/python3.10/site-packages (from requests->bnlp_toolkit) (3.3.2)\r\n",
      "Requirement already satisfied: idna<4,>=2.5 in /opt/conda/lib/python3.10/site-packages (from requests->bnlp_toolkit) (3.6)\r\n",
      "Requirement already satisfied: urllib3<3,>=1.21.1 in /opt/conda/lib/python3.10/site-packages (from requests->bnlp_toolkit) (1.26.18)\r\n",
      "Requirement already satisfied: certifi>=2017.4.17 in /opt/conda/lib/python3.10/site-packages (from requests->bnlp_toolkit) (2023.11.17)\r\n",
      "Collecting python-crfsuite>=0.8.3 (from sklearn-crfsuite->bnlp_toolkit)\r\n",
      "  Downloading python_crfsuite-0.9.10-cp310-cp310-manylinux_2_17_x86_64.manylinux2014_x86_64.whl.metadata (4.2 kB)\r\n",
      "Requirement already satisfied: tabulate in /opt/conda/lib/python3.10/site-packages (from sklearn-crfsuite->bnlp_toolkit) (0.9.0)\r\n",
      "Downloading bnlp_toolkit-4.0.0-py3-none-any.whl (22 kB)\r\n",
      "Downloading ftfy-6.1.3-py3-none-any.whl (53 kB)\r\n",
      "\u001b[2K   \u001b[90m━━━━━━━━━━━━━━━━━━━━━━━━━━━━━━━━━━━━━━━━\u001b[0m \u001b[32m53.4/53.4 kB\u001b[0m \u001b[31m3.8 MB/s\u001b[0m eta \u001b[36m0:00:00\u001b[0m\r\n",
      "\u001b[?25hDownloading python_crfsuite-0.9.10-cp310-cp310-manylinux_2_17_x86_64.manylinux2014_x86_64.whl (1.1 MB)\r\n",
      "\u001b[2K   \u001b[90m━━━━━━━━━━━━━━━━━━━━━━━━━━━━━━━━━━━━━━━━\u001b[0m \u001b[32m1.1/1.1 MB\u001b[0m \u001b[31m39.2 MB/s\u001b[0m eta \u001b[36m0:00:00\u001b[0m\r\n",
      "\u001b[?25hBuilding wheels for collected packages: emoji\r\n",
      "  Building wheel for emoji (setup.py) ... \u001b[?25l-\b \bdone\r\n",
      "\u001b[?25h  Created wheel for emoji: filename=emoji-1.7.0-py3-none-any.whl size=171033 sha256=c90f4fa3b755e97ebf948a173cc47339b5516274a85c489568e5037eb0edffd9\r\n",
      "  Stored in directory: /root/.cache/pip/wheels/31/8a/8c/315c9e5d7773f74b33d5ed33f075b49c6eaeb7cedbb86e2cf8\r\n",
      "Successfully built emoji\r\n",
      "Installing collected packages: python-crfsuite, emoji, sklearn-crfsuite, ftfy, bnlp_toolkit\r\n",
      "  Attempting uninstall: emoji\r\n",
      "    Found existing installation: emoji 2.10.0\r\n",
      "    Uninstalling emoji-2.10.0:\r\n",
      "      Successfully uninstalled emoji-2.10.0\r\n",
      "Successfully installed bnlp_toolkit-4.0.0 emoji-1.7.0 ftfy-6.1.3 python-crfsuite-0.9.10 sklearn-crfsuite-0.3.6\r\n"
     ]
    }
   ],
   "source": [
    "!pip install bnlp_toolkit"
   ]
  },
  {
   "cell_type": "code",
   "execution_count": 2,
   "id": "7be3a0d7",
   "metadata": {
    "execution": {
     "iopub.execute_input": "2024-02-17T14:55:16.026996Z",
     "iopub.status.busy": "2024-02-17T14:55:16.026630Z",
     "iopub.status.idle": "2024-02-17T14:55:29.641752Z",
     "shell.execute_reply": "2024-02-17T14:55:29.640738Z"
    },
    "id": "d32533c5",
    "papermill": {
     "duration": 13.639395,
     "end_time": "2024-02-17T14:55:29.644143",
     "exception": false,
     "start_time": "2024-02-17T14:55:16.004748",
     "status": "completed"
    },
    "scrolled": true,
    "tags": []
   },
   "outputs": [],
   "source": [
    "import pandas as pd\n",
    "import numpy as np\n",
    "import matplotlib.pyplot as plt\n",
    "from sklearn.feature_extraction.text import TfidfVectorizer\n",
    "from bnlp import NLTKTokenizer"
   ]
  },
  {
   "cell_type": "code",
   "execution_count": 3,
   "id": "68aa1041",
   "metadata": {
    "execution": {
     "iopub.execute_input": "2024-02-17T14:55:29.687352Z",
     "iopub.status.busy": "2024-02-17T14:55:29.686803Z",
     "iopub.status.idle": "2024-02-17T14:55:31.986410Z",
     "shell.execute_reply": "2024-02-17T14:55:31.985554Z"
    },
    "id": "bba016ba",
    "papermill": {
     "duration": 2.32405,
     "end_time": "2024-02-17T14:55:31.988965",
     "exception": false,
     "start_time": "2024-02-17T14:55:29.664915",
     "status": "completed"
    },
    "scrolled": true,
    "tags": []
   },
   "outputs": [],
   "source": [
    "df_train = pd.read_excel(\"/kaggle/input/ubmec-dataset/UBMEC.xlsx\")"
   ]
  },
  {
   "cell_type": "code",
   "execution_count": 4,
   "id": "55c12036",
   "metadata": {
    "execution": {
     "iopub.execute_input": "2024-02-17T14:55:32.034532Z",
     "iopub.status.busy": "2024-02-17T14:55:32.033473Z",
     "iopub.status.idle": "2024-02-17T14:55:32.050509Z",
     "shell.execute_reply": "2024-02-17T14:55:32.049601Z"
    },
    "id": "3c2ae414",
    "outputId": "e8ef9e85-dda0-4853-f1f3-64fd5ff173a1",
    "papermill": {
     "duration": 0.040382,
     "end_time": "2024-02-17T14:55:32.052593",
     "exception": false,
     "start_time": "2024-02-17T14:55:32.012211",
     "status": "completed"
    },
    "scrolled": true,
    "tags": []
   },
   "outputs": [
    {
     "data": {
      "text/html": [
       "<div>\n",
       "<style scoped>\n",
       "    .dataframe tbody tr th:only-of-type {\n",
       "        vertical-align: middle;\n",
       "    }\n",
       "\n",
       "    .dataframe tbody tr th {\n",
       "        vertical-align: top;\n",
       "    }\n",
       "\n",
       "    .dataframe thead th {\n",
       "        text-align: right;\n",
       "    }\n",
       "</style>\n",
       "<table border=\"1\" class=\"dataframe\">\n",
       "  <thead>\n",
       "    <tr style=\"text-align: right;\">\n",
       "      <th></th>\n",
       "      <th>text</th>\n",
       "      <th>classes</th>\n",
       "    </tr>\n",
       "  </thead>\n",
       "  <tbody>\n",
       "    <tr>\n",
       "      <th>0</th>\n",
       "      <td>এই নাটকটি হচ্ছে ১৯৯৩ সালের। কিন্তু তখন ইউটিউব ...</td>\n",
       "      <td>joy</td>\n",
       "    </tr>\n",
       "    <tr>\n",
       "      <th>1</th>\n",
       "      <td>২০২১ সালে যারা “ কোথাও কেউ নেই ” দেখতে আসে - ত...</td>\n",
       "      <td>surprise</td>\n",
       "    </tr>\n",
       "    <tr>\n",
       "      <th>2</th>\n",
       "      <td>বাংলাদেশের ইতিহাসে সর্বশ্রেষ্ঠ নাটক \"কোথাও কেউ...</td>\n",
       "      <td>joy</td>\n",
       "    </tr>\n",
       "    <tr>\n",
       "      <th>3</th>\n",
       "      <td>এতো সুন্দর নাটক আগে কখনো দেখা হয় নাই,2021 সালে...</td>\n",
       "      <td>joy</td>\n",
       "    </tr>\n",
       "    <tr>\n",
       "      <th>4</th>\n",
       "      <td>কখনো চিন্তাও করিনি জন্মের ৭-৮ বছর আগের নাটক দে...</td>\n",
       "      <td>surprise</td>\n",
       "    </tr>\n",
       "  </tbody>\n",
       "</table>\n",
       "</div>"
      ],
      "text/plain": [
       "                                                text   classes\n",
       "0  এই নাটকটি হচ্ছে ১৯৯৩ সালের। কিন্তু তখন ইউটিউব ...       joy\n",
       "1  ২০২১ সালে যারা “ কোথাও কেউ নেই ” দেখতে আসে - ত...  surprise\n",
       "2  বাংলাদেশের ইতিহাসে সর্বশ্রেষ্ঠ নাটক \"কোথাও কেউ...       joy\n",
       "3  এতো সুন্দর নাটক আগে কখনো দেখা হয় নাই,2021 সালে...       joy\n",
       "4  কখনো চিন্তাও করিনি জন্মের ৭-৮ বছর আগের নাটক দে...  surprise"
      ]
     },
     "execution_count": 4,
     "metadata": {},
     "output_type": "execute_result"
    }
   ],
   "source": [
    "df_train.head()"
   ]
  },
  {
   "cell_type": "code",
   "execution_count": 5,
   "id": "383e2a27",
   "metadata": {
    "execution": {
     "iopub.execute_input": "2024-02-17T14:55:32.095508Z",
     "iopub.status.busy": "2024-02-17T14:55:32.094884Z",
     "iopub.status.idle": "2024-02-17T14:55:32.105395Z",
     "shell.execute_reply": "2024-02-17T14:55:32.104449Z"
    },
    "id": "4d94877e",
    "papermill": {
     "duration": 0.034058,
     "end_time": "2024-02-17T14:55:32.107476",
     "exception": false,
     "start_time": "2024-02-17T14:55:32.073418",
     "status": "completed"
    },
    "tags": []
   },
   "outputs": [],
   "source": [
    "df_train.dropna(inplace=True)"
   ]
  },
  {
   "cell_type": "code",
   "execution_count": 6,
   "id": "13c06f1b",
   "metadata": {
    "execution": {
     "iopub.execute_input": "2024-02-17T14:55:32.150366Z",
     "iopub.status.busy": "2024-02-17T14:55:32.149719Z",
     "iopub.status.idle": "2024-02-17T14:55:32.160226Z",
     "shell.execute_reply": "2024-02-17T14:55:32.159393Z"
    },
    "papermill": {
     "duration": 0.034497,
     "end_time": "2024-02-17T14:55:32.162388",
     "exception": false,
     "start_time": "2024-02-17T14:55:32.127891",
     "status": "completed"
    },
    "tags": []
   },
   "outputs": [
    {
     "name": "stdout",
     "output_type": "stream",
     "text": [
      "3648\n"
     ]
    }
   ],
   "source": [
    "longest_string = max(map(str, df_train[\"text\"]), key=len)\n",
    "print(len(longest_string))"
   ]
  },
  {
   "cell_type": "code",
   "execution_count": 7,
   "id": "e41d023c",
   "metadata": {
    "execution": {
     "iopub.execute_input": "2024-02-17T14:55:32.206866Z",
     "iopub.status.busy": "2024-02-17T14:55:32.206515Z",
     "iopub.status.idle": "2024-02-17T14:55:32.220758Z",
     "shell.execute_reply": "2024-02-17T14:55:32.219865Z"
    },
    "papermill": {
     "duration": 0.0394,
     "end_time": "2024-02-17T14:55:32.222801",
     "exception": false,
     "start_time": "2024-02-17T14:55:32.183401",
     "status": "completed"
    },
    "tags": []
   },
   "outputs": [
    {
     "data": {
      "text/plain": [
       "classes\n",
       "joy         3467\n",
       "sadness     2683\n",
       "anger       2480\n",
       "disgust     2079\n",
       "surprise    1366\n",
       "fear        1361\n",
       "Name: count, dtype: int64"
      ]
     },
     "execution_count": 7,
     "metadata": {},
     "output_type": "execute_result"
    }
   ],
   "source": [
    "df_train['classes'].value_counts()"
   ]
  },
  {
   "cell_type": "code",
   "execution_count": 8,
   "id": "ea4027d1",
   "metadata": {
    "execution": {
     "iopub.execute_input": "2024-02-17T14:55:32.265608Z",
     "iopub.status.busy": "2024-02-17T14:55:32.264994Z",
     "iopub.status.idle": "2024-02-17T14:55:32.270412Z",
     "shell.execute_reply": "2024-02-17T14:55:32.269542Z"
    },
    "papermill": {
     "duration": 0.029029,
     "end_time": "2024-02-17T14:55:32.272374",
     "exception": false,
     "start_time": "2024-02-17T14:55:32.243345",
     "status": "completed"
    },
    "tags": []
   },
   "outputs": [],
   "source": [
    "from bnlp import CleanText\n",
    "\n",
    "clean_text = CleanText(\n",
    "   fix_unicode=True,\n",
    "   unicode_norm=True,\n",
    "   unicode_norm_form=\"NFKC\",\n",
    "   remove_url=True,\n",
    "   remove_email=True,\n",
    "   remove_emoji=False,\n",
    "   remove_number=False,\n",
    "   remove_digits=False,\n",
    "   remove_punct=False,\n",
    "   replace_with_url=\"<URL>\",\n",
    "   replace_with_email=\"<EMAIL>\",\n",
    "   replace_with_number=\"<NUMBER>\",\n",
    "   replace_with_digit=\"<DIGIT>\",\n",
    "   replace_with_punct = \"<PUNC>\"\n",
    ")"
   ]
  },
  {
   "cell_type": "code",
   "execution_count": 9,
   "id": "c8375637",
   "metadata": {
    "execution": {
     "iopub.execute_input": "2024-02-17T14:55:32.315047Z",
     "iopub.status.busy": "2024-02-17T14:55:32.314712Z",
     "iopub.status.idle": "2024-02-17T14:55:37.012761Z",
     "shell.execute_reply": "2024-02-17T14:55:37.011947Z"
    },
    "papermill": {
     "duration": 4.722133,
     "end_time": "2024-02-17T14:55:37.015018",
     "exception": false,
     "start_time": "2024-02-17T14:55:32.292885",
     "status": "completed"
    },
    "tags": []
   },
   "outputs": [],
   "source": [
    "df_train['text'] = df_train['text'].apply(clean_text)"
   ]
  },
  {
   "cell_type": "code",
   "execution_count": 10,
   "id": "69a107a6",
   "metadata": {
    "execution": {
     "iopub.execute_input": "2024-02-17T14:55:37.058715Z",
     "iopub.status.busy": "2024-02-17T14:55:37.058015Z",
     "iopub.status.idle": "2024-02-17T14:55:37.066301Z",
     "shell.execute_reply": "2024-02-17T14:55:37.065383Z"
    },
    "papermill": {
     "duration": 0.032782,
     "end_time": "2024-02-17T14:55:37.068544",
     "exception": false,
     "start_time": "2024-02-17T14:55:37.035762",
     "status": "completed"
    },
    "tags": []
   },
   "outputs": [
    {
     "name": "stdout",
     "output_type": "stream",
     "text": [
      "3539\n"
     ]
    }
   ],
   "source": [
    "longest_string = max(df_train[\"text\"], key=len)\n",
    "print(len(longest_string))"
   ]
  },
  {
   "cell_type": "code",
   "execution_count": 11,
   "id": "cdd50847",
   "metadata": {
    "execution": {
     "iopub.execute_input": "2024-02-17T14:55:37.111558Z",
     "iopub.status.busy": "2024-02-17T14:55:37.110859Z",
     "iopub.status.idle": "2024-02-17T14:55:37.137186Z",
     "shell.execute_reply": "2024-02-17T14:55:37.136337Z"
    },
    "papermill": {
     "duration": 0.050341,
     "end_time": "2024-02-17T14:55:37.139592",
     "exception": false,
     "start_time": "2024-02-17T14:55:37.089251",
     "status": "completed"
    },
    "tags": []
   },
   "outputs": [],
   "source": [
    "from sklearn.model_selection import train_test_split\n",
    "\n",
    "train_df, test_df = train_test_split(df_train, test_size=0.2,stratify=df_train['classes'],random_state=42)"
   ]
  },
  {
   "cell_type": "code",
   "execution_count": 12,
   "id": "0697cf48",
   "metadata": {
    "execution": {
     "iopub.execute_input": "2024-02-17T14:55:37.183081Z",
     "iopub.status.busy": "2024-02-17T14:55:37.182748Z",
     "iopub.status.idle": "2024-02-17T14:55:37.187926Z",
     "shell.execute_reply": "2024-02-17T14:55:37.187060Z"
    },
    "id": "SkHget_6VKIl",
    "papermill": {
     "duration": 0.029106,
     "end_time": "2024-02-17T14:55:37.189860",
     "exception": false,
     "start_time": "2024-02-17T14:55:37.160754",
     "status": "completed"
    },
    "tags": []
   },
   "outputs": [],
   "source": [
    "X_train  =  train_df['text'].values.tolist()\n",
    "y_train = train_df['classes'].tolist()"
   ]
  },
  {
   "cell_type": "code",
   "execution_count": 13,
   "id": "50a5bd5b",
   "metadata": {
    "execution": {
     "iopub.execute_input": "2024-02-17T14:55:37.234034Z",
     "iopub.status.busy": "2024-02-17T14:55:37.233679Z",
     "iopub.status.idle": "2024-02-17T14:55:37.238602Z",
     "shell.execute_reply": "2024-02-17T14:55:37.237701Z"
    },
    "id": "oAFSbfrQVTDr",
    "papermill": {
     "duration": 0.028419,
     "end_time": "2024-02-17T14:55:37.240468",
     "exception": false,
     "start_time": "2024-02-17T14:55:37.212049",
     "status": "completed"
    },
    "tags": []
   },
   "outputs": [],
   "source": [
    "X_test =  test_df['text'].values.tolist()\n",
    "y_test = test_df['classes'].tolist()"
   ]
  },
  {
   "cell_type": "code",
   "execution_count": 14,
   "id": "77c72770",
   "metadata": {
    "execution": {
     "iopub.execute_input": "2024-02-17T14:55:37.283957Z",
     "iopub.status.busy": "2024-02-17T14:55:37.283252Z",
     "iopub.status.idle": "2024-02-17T14:56:19.935546Z",
     "shell.execute_reply": "2024-02-17T14:56:19.934362Z"
    },
    "papermill": {
     "duration": 42.676136,
     "end_time": "2024-02-17T14:56:19.937875",
     "exception": false,
     "start_time": "2024-02-17T14:55:37.261739",
     "status": "completed"
    },
    "tags": []
   },
   "outputs": [
    {
     "name": "stdout",
     "output_type": "stream",
     "text": [
      "Collecting ktrain\r\n",
      "  Downloading ktrain-0.40.0.tar.gz (25.3 MB)\r\n",
      "\u001b[2K     \u001b[90m━━━━━━━━━━━━━━━━━━━━━━━━━━━━━━━━━━━━━━━━\u001b[0m \u001b[32m25.3/25.3 MB\u001b[0m \u001b[31m64.5 MB/s\u001b[0m eta \u001b[36m0:00:00\u001b[0m\r\n",
      "\u001b[?25h  Preparing metadata (setup.py) ... \u001b[?25l-\b \bdone\r\n",
      "\u001b[?25hRequirement already satisfied: scikit-learn in /opt/conda/lib/python3.10/site-packages (from ktrain) (1.2.2)\r\n",
      "Requirement already satisfied: matplotlib>=3.0.0 in /opt/conda/lib/python3.10/site-packages (from ktrain) (3.7.4)\r\n",
      "Requirement already satisfied: pandas>=1.0.1 in /opt/conda/lib/python3.10/site-packages (from ktrain) (2.1.4)\r\n",
      "Requirement already satisfied: fastprogress>=0.1.21 in /opt/conda/lib/python3.10/site-packages (from ktrain) (1.0.3)\r\n",
      "Requirement already satisfied: requests in /opt/conda/lib/python3.10/site-packages (from ktrain) (2.31.0)\r\n",
      "Requirement already satisfied: joblib in /opt/conda/lib/python3.10/site-packages (from ktrain) (1.3.2)\r\n",
      "Requirement already satisfied: packaging in /opt/conda/lib/python3.10/site-packages (from ktrain) (21.3)\r\n",
      "Collecting langdetect (from ktrain)\r\n",
      "  Downloading langdetect-1.0.9.tar.gz (981 kB)\r\n",
      "\u001b[2K     \u001b[90m━━━━━━━━━━━━━━━━━━━━━━━━━━━━━━━━━━━━━━\u001b[0m \u001b[32m981.5/981.5 kB\u001b[0m \u001b[31m46.9 MB/s\u001b[0m eta \u001b[36m0:00:00\u001b[0m\r\n",
      "\u001b[?25h  Preparing metadata (setup.py) ... \u001b[?25l-\b \bdone\r\n",
      "\u001b[?25hRequirement already satisfied: jieba in /opt/conda/lib/python3.10/site-packages (from ktrain) (0.42.1)\r\n",
      "Requirement already satisfied: charset-normalizer in /opt/conda/lib/python3.10/site-packages (from ktrain) (3.3.2)\r\n",
      "Collecting chardet (from ktrain)\r\n",
      "  Downloading chardet-5.2.0-py3-none-any.whl.metadata (3.4 kB)\r\n",
      "Collecting syntok>1.3.3 (from ktrain)\r\n",
      "  Downloading syntok-1.4.4-py3-none-any.whl (24 kB)\r\n",
      "Collecting tika (from ktrain)\r\n",
      "  Downloading tika-2.6.0.tar.gz (27 kB)\r\n",
      "  Preparing metadata (setup.py) ... \u001b[?25l-\b \bdone\r\n",
      "\u001b[?25hRequirement already satisfied: transformers>=4.17.0 in /opt/conda/lib/python3.10/site-packages (from ktrain) (4.37.0)\r\n",
      "Requirement already satisfied: sentencepiece in /opt/conda/lib/python3.10/site-packages (from ktrain) (0.1.99)\r\n",
      "Collecting keras_bert>=0.86.0 (from ktrain)\r\n",
      "  Downloading keras-bert-0.89.0.tar.gz (25 kB)\r\n",
      "  Preparing metadata (setup.py) ... \u001b[?25l-\b \bdone\r\n",
      "\u001b[?25hCollecting whoosh (from ktrain)\r\n",
      "  Downloading Whoosh-2.7.4-py2.py3-none-any.whl (468 kB)\r\n",
      "\u001b[2K     \u001b[90m━━━━━━━━━━━━━━━━━━━━━━━━━━━━━━━━━━━━━━\u001b[0m \u001b[32m468.8/468.8 kB\u001b[0m \u001b[31m28.9 MB/s\u001b[0m eta \u001b[36m0:00:00\u001b[0m\r\n",
      "\u001b[?25hRequirement already satisfied: numpy in /opt/conda/lib/python3.10/site-packages (from keras_bert>=0.86.0->ktrain) (1.24.4)\r\n",
      "Collecting keras-transformer==0.40.0 (from keras_bert>=0.86.0->ktrain)\r\n",
      "  Downloading keras-transformer-0.40.0.tar.gz (9.7 kB)\r\n",
      "  Preparing metadata (setup.py) ... \u001b[?25l-\b \bdone\r\n",
      "\u001b[?25hCollecting keras-pos-embd==0.13.0 (from keras-transformer==0.40.0->keras_bert>=0.86.0->ktrain)\r\n",
      "  Downloading keras-pos-embd-0.13.0.tar.gz (5.6 kB)\r\n",
      "  Preparing metadata (setup.py) ... \u001b[?25l-\b \bdone\r\n",
      "\u001b[?25hCollecting keras-multi-head==0.29.0 (from keras-transformer==0.40.0->keras_bert>=0.86.0->ktrain)\r\n",
      "  Downloading keras-multi-head-0.29.0.tar.gz (13 kB)\r\n",
      "  Preparing metadata (setup.py) ... \u001b[?25l-\b \bdone\r\n",
      "\u001b[?25hCollecting keras-layer-normalization==0.16.0 (from keras-transformer==0.40.0->keras_bert>=0.86.0->ktrain)\r\n",
      "  Downloading keras-layer-normalization-0.16.0.tar.gz (3.9 kB)\r\n",
      "  Preparing metadata (setup.py) ... \u001b[?25l-\b \bdone\r\n",
      "\u001b[?25hCollecting keras-position-wise-feed-forward==0.8.0 (from keras-transformer==0.40.0->keras_bert>=0.86.0->ktrain)\r\n",
      "  Downloading keras-position-wise-feed-forward-0.8.0.tar.gz (4.1 kB)\r\n",
      "  Preparing metadata (setup.py) ... \u001b[?25l-\b \bdone\r\n",
      "\u001b[?25hCollecting keras-embed-sim==0.10.0 (from keras-transformer==0.40.0->keras_bert>=0.86.0->ktrain)\r\n",
      "  Downloading keras-embed-sim-0.10.0.tar.gz (3.6 kB)\r\n",
      "  Preparing metadata (setup.py) ... \u001b[?25l-\b \bdone\r\n",
      "\u001b[?25hCollecting keras-self-attention==0.51.0 (from keras-multi-head==0.29.0->keras-transformer==0.40.0->keras_bert>=0.86.0->ktrain)\r\n",
      "  Downloading keras-self-attention-0.51.0.tar.gz (11 kB)\r\n",
      "  Preparing metadata (setup.py) ... \u001b[?25l-\b \bdone\r\n",
      "\u001b[?25hRequirement already satisfied: contourpy>=1.0.1 in /opt/conda/lib/python3.10/site-packages (from matplotlib>=3.0.0->ktrain) (1.2.0)\r\n",
      "Requirement already satisfied: cycler>=0.10 in /opt/conda/lib/python3.10/site-packages (from matplotlib>=3.0.0->ktrain) (0.12.1)\r\n",
      "Requirement already satisfied: fonttools>=4.22.0 in /opt/conda/lib/python3.10/site-packages (from matplotlib>=3.0.0->ktrain) (4.47.0)\r\n",
      "Requirement already satisfied: kiwisolver>=1.0.1 in /opt/conda/lib/python3.10/site-packages (from matplotlib>=3.0.0->ktrain) (1.4.5)\r\n",
      "Requirement already satisfied: pillow>=6.2.0 in /opt/conda/lib/python3.10/site-packages (from matplotlib>=3.0.0->ktrain) (9.5.0)\r\n",
      "Requirement already satisfied: pyparsing>=2.3.1 in /opt/conda/lib/python3.10/site-packages (from matplotlib>=3.0.0->ktrain) (3.1.1)\r\n",
      "Requirement already satisfied: python-dateutil>=2.7 in /opt/conda/lib/python3.10/site-packages (from matplotlib>=3.0.0->ktrain) (2.8.2)\r\n",
      "Requirement already satisfied: pytz>=2020.1 in /opt/conda/lib/python3.10/site-packages (from pandas>=1.0.1->ktrain) (2023.3.post1)\r\n",
      "Requirement already satisfied: tzdata>=2022.1 in /opt/conda/lib/python3.10/site-packages (from pandas>=1.0.1->ktrain) (2023.4)\r\n",
      "Requirement already satisfied: regex>2016 in /opt/conda/lib/python3.10/site-packages (from syntok>1.3.3->ktrain) (2023.12.25)\r\n",
      "Requirement already satisfied: filelock in /opt/conda/lib/python3.10/site-packages (from transformers>=4.17.0->ktrain) (3.13.1)\r\n",
      "Requirement already satisfied: huggingface-hub<1.0,>=0.19.3 in /opt/conda/lib/python3.10/site-packages (from transformers>=4.17.0->ktrain) (0.20.3)\r\n",
      "Requirement already satisfied: pyyaml>=5.1 in /opt/conda/lib/python3.10/site-packages (from transformers>=4.17.0->ktrain) (6.0.1)\r\n",
      "Requirement already satisfied: tokenizers<0.19,>=0.14 in /opt/conda/lib/python3.10/site-packages (from transformers>=4.17.0->ktrain) (0.15.1)\r\n",
      "Requirement already satisfied: safetensors>=0.3.1 in /opt/conda/lib/python3.10/site-packages (from transformers>=4.17.0->ktrain) (0.4.2)\r\n",
      "Requirement already satisfied: tqdm>=4.27 in /opt/conda/lib/python3.10/site-packages (from transformers>=4.17.0->ktrain) (4.66.1)\r\n",
      "Requirement already satisfied: six in /opt/conda/lib/python3.10/site-packages (from langdetect->ktrain) (1.16.0)\r\n",
      "Requirement already satisfied: idna<4,>=2.5 in /opt/conda/lib/python3.10/site-packages (from requests->ktrain) (3.6)\r\n",
      "Requirement already satisfied: urllib3<3,>=1.21.1 in /opt/conda/lib/python3.10/site-packages (from requests->ktrain) (1.26.18)\r\n",
      "Requirement already satisfied: certifi>=2017.4.17 in /opt/conda/lib/python3.10/site-packages (from requests->ktrain) (2023.11.17)\r\n",
      "Requirement already satisfied: scipy>=1.3.2 in /opt/conda/lib/python3.10/site-packages (from scikit-learn->ktrain) (1.11.4)\r\n",
      "Requirement already satisfied: threadpoolctl>=2.0.0 in /opt/conda/lib/python3.10/site-packages (from scikit-learn->ktrain) (3.2.0)\r\n",
      "Requirement already satisfied: setuptools in /opt/conda/lib/python3.10/site-packages (from tika->ktrain) (69.0.3)\r\n",
      "Requirement already satisfied: fsspec>=2023.5.0 in /opt/conda/lib/python3.10/site-packages (from huggingface-hub<1.0,>=0.19.3->transformers>=4.17.0->ktrain) (2023.12.2)\r\n",
      "Requirement already satisfied: typing-extensions>=3.7.4.3 in /opt/conda/lib/python3.10/site-packages (from huggingface-hub<1.0,>=0.19.3->transformers>=4.17.0->ktrain) (4.9.0)\r\n",
      "Downloading chardet-5.2.0-py3-none-any.whl (199 kB)\r\n",
      "\u001b[2K   \u001b[90m━━━━━━━━━━━━━━━━━━━━━━━━━━━━━━━━━━━━━━━━\u001b[0m \u001b[32m199.4/199.4 kB\u001b[0m \u001b[31m11.9 MB/s\u001b[0m eta \u001b[36m0:00:00\u001b[0m\r\n",
      "\u001b[?25hBuilding wheels for collected packages: ktrain, keras_bert, keras-transformer, keras-embed-sim, keras-layer-normalization, keras-multi-head, keras-pos-embd, keras-position-wise-feed-forward, keras-self-attention, langdetect, tika\r\n",
      "  Building wheel for ktrain (setup.py) ... \u001b[?25l-\b \b\\\b \bdone\r\n",
      "\u001b[?25h  Created wheel for ktrain: filename=ktrain-0.40.0-py3-none-any.whl size=25319454 sha256=f78776069006862542b89da1fbe173fac42b17a1c779122a79d08d9c74a7d42b\r\n",
      "  Stored in directory: /root/.cache/pip/wheels/00/2d/0f/1fcda4d8c9a77b360dc1df7b43458ef5c95fcb85f556a8d211\r\n",
      "  Building wheel for keras_bert (setup.py) ... \u001b[?25l-\b \b\\\b \bdone\r\n",
      "\u001b[?25h  Created wheel for keras_bert: filename=keras_bert-0.89.0-py3-none-any.whl size=33499 sha256=ab0797e93e4419c0a17fda483876c2e58e70abfed3168c6cbc87e2e0f9209105\r\n",
      "  Stored in directory: /root/.cache/pip/wheels/89/0c/04/646b6fdf6375911b42c8d540a8a3fda8d5d77634e5dcbe7b26\r\n",
      "  Building wheel for keras-transformer (setup.py) ... \u001b[?25l-\b \b\\\b \bdone\r\n",
      "\u001b[?25h  Created wheel for keras-transformer: filename=keras_transformer-0.40.0-py3-none-any.whl size=12286 sha256=80dbd6f5c1a7af4f98d21dd621f648d3edc26d3d057e25576e7f91b60bcd100d\r\n",
      "  Stored in directory: /root/.cache/pip/wheels/f2/cb/22/75a0ad376129177f7c95c0d91331a18f5368fd657f4035ba7c\r\n",
      "  Building wheel for keras-embed-sim (setup.py) ... \u001b[?25l-\b \b\\\b \bdone\r\n",
      "\u001b[?25h  Created wheel for keras-embed-sim: filename=keras_embed_sim-0.10.0-py3-none-any.whl size=3943 sha256=2255e5cd58bf49cc22a6243ff337efe92aff5fe980f15a42d47ba99d5c3c5733\r\n",
      "  Stored in directory: /root/.cache/pip/wheels/82/32/c7/fd35d0d1b840a6c7cbd4343f808d10d0f7b87d271a4dbe796f\r\n",
      "  Building wheel for keras-layer-normalization (setup.py) ... \u001b[?25l-\b \b\\\b \bdone\r\n",
      "\u001b[?25h  Created wheel for keras-layer-normalization: filename=keras_layer_normalization-0.16.0-py3-none-any.whl size=4653 sha256=2fd7026d855b82436d92d6d81aaae617a931ef393d7f582ded9a17b805f653ac\r\n",
      "  Stored in directory: /root/.cache/pip/wheels/ed/3a/4b/21db23c0cc56c4b219616e181f258eb7c57d36cc5d056fae9a\r\n",
      "  Building wheel for keras-multi-head (setup.py) ... \u001b[?25l-\b \b\\\b \bdone\r\n",
      "\u001b[?25h  Created wheel for keras-multi-head: filename=keras_multi_head-0.29.0-py3-none-any.whl size=14975 sha256=29d720d786f305d81788e5a31991a08a441392777ee5877e2cd2a2b5cf800958\r\n",
      "  Stored in directory: /root/.cache/pip/wheels/cb/23/4b/06d7ae21714f70fcc25b48f972cc8e5e7f4b6b764a038b509d\r\n",
      "  Building wheel for keras-pos-embd (setup.py) ... \u001b[?25l-\b \b\\\b \bdone\r\n",
      "\u001b[?25h  Created wheel for keras-pos-embd: filename=keras_pos_embd-0.13.0-py3-none-any.whl size=6946 sha256=aeda3d5b2a49410b1c2c4b1c6ae3e4543c3f7b4c53b9049f3f6fa833fa7d09e7\r\n",
      "  Stored in directory: /root/.cache/pip/wheels/78/07/1b/b1ca47b6ac338554b75c8f52c54e6a2bfbe1b07d79579979a4\r\n",
      "  Building wheel for keras-position-wise-feed-forward (setup.py) ... \u001b[?25l-\b \b\\\b \bdone\r\n",
      "\u001b[?25h  Created wheel for keras-position-wise-feed-forward: filename=keras_position_wise_feed_forward-0.8.0-py3-none-any.whl size=4968 sha256=612fda3427e94d7de13aabfe788a012e1ce15f5e9827ae4e245ab24d50105771\r\n",
      "  Stored in directory: /root/.cache/pip/wheels/c1/6a/04/d1706a53b23b2cb5f9a0a76269bf87925daa1bca09eac01b21\r\n",
      "  Building wheel for keras-self-attention (setup.py) ... \u001b[?25l-\b \b\\\b \bdone\r\n",
      "\u001b[?25h  Created wheel for keras-self-attention: filename=keras_self_attention-0.51.0-py3-none-any.whl size=18895 sha256=66b9206b30c82bf379508fe8d1b57adb876ed57bb711138f531053d317f057da\r\n",
      "  Stored in directory: /root/.cache/pip/wheels/b8/f7/24/607b483144fb9c47b4ba2c5fba6b68e54aeee2d5bf6c05302e\r\n",
      "  Building wheel for langdetect (setup.py) ... \u001b[?25l-\b \bdone\r\n",
      "\u001b[?25h  Created wheel for langdetect: filename=langdetect-1.0.9-py3-none-any.whl size=993225 sha256=aeb6d3e8fd4e25a4671619ba443b561e0d4855c36641534d68920f7aba055e92\r\n",
      "  Stored in directory: /root/.cache/pip/wheels/95/03/7d/59ea870c70ce4e5a370638b5462a7711ab78fba2f655d05106\r\n",
      "  Building wheel for tika (setup.py) ... \u001b[?25l-\b \bdone\r\n",
      "\u001b[?25h  Created wheel for tika: filename=tika-2.6.0-py3-none-any.whl size=32622 sha256=9f51032b29fc2ee5e974b101c62bf7da0985401348aa6ccf4d398d90e2ccbd39\r\n",
      "  Stored in directory: /root/.cache/pip/wheels/5f/71/c7/b757709531121b1700cffda5b6b0d4aad095fb507ec84316d0\r\n",
      "Successfully built ktrain keras_bert keras-transformer keras-embed-sim keras-layer-normalization keras-multi-head keras-pos-embd keras-position-wise-feed-forward keras-self-attention langdetect tika\r\n",
      "Installing collected packages: whoosh, syntok, langdetect, keras-self-attention, keras-position-wise-feed-forward, keras-pos-embd, keras-layer-normalization, keras-embed-sim, chardet, tika, keras-multi-head, keras-transformer, keras_bert, ktrain\r\n",
      "Successfully installed chardet-5.2.0 keras-embed-sim-0.10.0 keras-layer-normalization-0.16.0 keras-multi-head-0.29.0 keras-pos-embd-0.13.0 keras-position-wise-feed-forward-0.8.0 keras-self-attention-0.51.0 keras-transformer-0.40.0 keras_bert-0.89.0 ktrain-0.40.0 langdetect-1.0.9 syntok-1.4.4 tika-2.6.0 whoosh-2.7.4\r\n"
     ]
    }
   ],
   "source": [
    "!pip install ktrain"
   ]
  },
  {
   "cell_type": "code",
   "execution_count": 15,
   "id": "3da88733",
   "metadata": {
    "editable": true,
    "execution": {
     "iopub.execute_input": "2024-02-17T14:56:19.993724Z",
     "iopub.status.busy": "2024-02-17T14:56:19.993077Z",
     "iopub.status.idle": "2024-02-17T14:57:10.975083Z",
     "shell.execute_reply": "2024-02-17T14:57:10.974016Z"
    },
    "id": "fe9e61fb",
    "papermill": {
     "duration": 51.012301,
     "end_time": "2024-02-17T14:57:10.977773",
     "exception": false,
     "start_time": "2024-02-17T14:56:19.965472",
     "status": "completed"
    },
    "scrolled": true,
    "slideshow": {
     "slide_type": ""
    },
    "tags": []
   },
   "outputs": [
    {
     "data": {
      "application/vnd.jupyter.widget-view+json": {
       "model_id": "601dc6ec28ac42ab8c08e9b49601e2b2",
       "version_major": 2,
       "version_minor": 0
      },
      "text/plain": [
       "config.json:   0%|          | 0.00/615 [00:00<?, ?B/s]"
      ]
     },
     "metadata": {},
     "output_type": "display_data"
    },
    {
     "data": {
      "application/vnd.jupyter.widget-view+json": {
       "model_id": "e238fc8b50c447b68c318aacd6ffc9d6",
       "version_major": 2,
       "version_minor": 0
      },
      "text/plain": [
       "model.safetensors:   0%|          | 0.00/1.12G [00:00<?, ?B/s]"
      ]
     },
     "metadata": {},
     "output_type": "display_data"
    }
   ],
   "source": [
    "import ktrain\n",
    "from ktrain import text\n",
    "MODEL_NAME = 'FacebookAI/xlm-roberta-base'\n",
    "t = text.Transformer(MODEL_NAME, maxlen=500)"
   ]
  },
  {
   "cell_type": "code",
   "execution_count": 16,
   "id": "4f29aec6",
   "metadata": {
    "execution": {
     "iopub.execute_input": "2024-02-17T14:57:11.033553Z",
     "iopub.status.busy": "2024-02-17T14:57:11.033209Z",
     "iopub.status.idle": "2024-02-17T14:57:23.120721Z",
     "shell.execute_reply": "2024-02-17T14:57:23.119800Z"
    },
    "id": "c269013f",
    "outputId": "cb456b25-48e5-4d5c-958b-2198c5418e05",
    "papermill": {
     "duration": 12.117155,
     "end_time": "2024-02-17T14:57:23.122839",
     "exception": false,
     "start_time": "2024-02-17T14:57:11.005684",
     "status": "completed"
    },
    "tags": []
   },
   "outputs": [
    {
     "name": "stdout",
     "output_type": "stream",
     "text": [
      "preprocessing train...\n",
      "language: bn\n",
      "train sequence lengths:\n",
      "\tmean : 19\n",
      "\t95percentile : 42\n",
      "\t99percentile : 75\n"
     ]
    },
    {
     "data": {
      "application/vnd.jupyter.widget-view+json": {
       "model_id": "c3dd0c87ec1b45cebe1fbbe86ab2f822",
       "version_major": 2,
       "version_minor": 0
      },
      "text/plain": [
       "sentencepiece.bpe.model:   0%|          | 0.00/5.07M [00:00<?, ?B/s]"
      ]
     },
     "metadata": {},
     "output_type": "display_data"
    },
    {
     "data": {
      "application/vnd.jupyter.widget-view+json": {
       "model_id": "9e8845724def41a0b990cdb154306071",
       "version_major": 2,
       "version_minor": 0
      },
      "text/plain": [
       "tokenizer.json:   0%|          | 0.00/9.10M [00:00<?, ?B/s]"
      ]
     },
     "metadata": {},
     "output_type": "display_data"
    },
    {
     "data": {
      "text/html": [
       "\n",
       "<style>\n",
       "    /* Turns off some styling */\n",
       "    progress {\n",
       "        /* gets rid of default border in Firefox and Opera. */\n",
       "        border: none;\n",
       "        /* Needs to be in here for Safari polyfill so background images work as expected. */\n",
       "        background-size: auto;\n",
       "    }\n",
       "    progress:not([value]), progress:not([value])::-webkit-progress-bar {\n",
       "        background: repeating-linear-gradient(45deg, #7e7e7e, #7e7e7e 10px, #5c5c5c 10px, #5c5c5c 20px);\n",
       "    }\n",
       "    .progress-bar-interrupted, .progress-bar-interrupted::-webkit-progress-bar {\n",
       "        background: #F44336;\n",
       "    }\n",
       "</style>\n"
      ],
      "text/plain": [
       "<IPython.core.display.HTML object>"
      ]
     },
     "metadata": {},
     "output_type": "display_data"
    },
    {
     "data": {
      "text/html": [],
      "text/plain": [
       "<IPython.core.display.HTML object>"
      ]
     },
     "metadata": {},
     "output_type": "display_data"
    },
    {
     "name": "stdout",
     "output_type": "stream",
     "text": [
      "Is Multi-Label? False\n",
      "preprocessing test...\n",
      "language: bn\n",
      "test sequence lengths:\n",
      "\tmean : 19\n",
      "\t95percentile : 45\n",
      "\t99percentile : 78\n"
     ]
    },
    {
     "data": {
      "text/html": [
       "\n",
       "<style>\n",
       "    /* Turns off some styling */\n",
       "    progress {\n",
       "        /* gets rid of default border in Firefox and Opera. */\n",
       "        border: none;\n",
       "        /* Needs to be in here for Safari polyfill so background images work as expected. */\n",
       "        background-size: auto;\n",
       "    }\n",
       "    progress:not([value]), progress:not([value])::-webkit-progress-bar {\n",
       "        background: repeating-linear-gradient(45deg, #7e7e7e, #7e7e7e 10px, #5c5c5c 10px, #5c5c5c 20px);\n",
       "    }\n",
       "    .progress-bar-interrupted, .progress-bar-interrupted::-webkit-progress-bar {\n",
       "        background: #F44336;\n",
       "    }\n",
       "</style>\n"
      ],
      "text/plain": [
       "<IPython.core.display.HTML object>"
      ]
     },
     "metadata": {},
     "output_type": "display_data"
    },
    {
     "data": {
      "text/html": [],
      "text/plain": [
       "<IPython.core.display.HTML object>"
      ]
     },
     "metadata": {},
     "output_type": "display_data"
    }
   ],
   "source": [
    "trn = t.preprocess_train(X_train, y_train)\n",
    "val = t.preprocess_test(X_test, y_test)"
   ]
  },
  {
   "cell_type": "code",
   "execution_count": 17,
   "id": "cd541182",
   "metadata": {
    "execution": {
     "iopub.execute_input": "2024-02-17T14:57:23.180937Z",
     "iopub.status.busy": "2024-02-17T14:57:23.180327Z",
     "iopub.status.idle": "2024-02-17T14:57:23.184761Z",
     "shell.execute_reply": "2024-02-17T14:57:23.183913Z"
    },
    "papermill": {
     "duration": 0.035921,
     "end_time": "2024-02-17T14:57:23.187061",
     "exception": false,
     "start_time": "2024-02-17T14:57:23.151140",
     "status": "completed"
    },
    "tags": []
   },
   "outputs": [
    {
     "name": "stdout",
     "output_type": "stream",
     "text": [
      "<ktrain.text.dataset.TransformerDataset object at 0x7aafc2754820>\n"
     ]
    }
   ],
   "source": [
    "print(trn)"
   ]
  },
  {
   "cell_type": "code",
   "execution_count": 18,
   "id": "2303caae",
   "metadata": {
    "execution": {
     "iopub.execute_input": "2024-02-17T14:57:23.244333Z",
     "iopub.status.busy": "2024-02-17T14:57:23.243611Z",
     "iopub.status.idle": "2024-02-17T14:57:23.720743Z",
     "shell.execute_reply": "2024-02-17T14:57:23.719738Z"
    },
    "papermill": {
     "duration": 0.507768,
     "end_time": "2024-02-17T14:57:23.722713",
     "exception": false,
     "start_time": "2024-02-17T14:57:23.214945",
     "status": "completed"
    },
    "tags": []
   },
   "outputs": [
    {
     "data": {
      "image/png": "[encoded data removed]",
      "text/plain": [
       "<Figure size 1000x600 with 1 Axes>"
      ]
     },
     "metadata": {},
     "output_type": "display_data"
    }
   ],
   "source": [
    "import matplotlib.pyplot as plt\n",
    "\n",
    "# Calculate token lengths for train and test datasets\n",
    "train_token_lengths = [len(t.split()) for t in X_train]\n",
    "test_token_lengths = [len(t.split()) for t in X_test]\n",
    "\n",
    "# Plot token length distribution\n",
    "plt.figure(figsize=(10, 6))\n",
    "plt.hist(train_token_lengths, bins=50, alpha=0.5, color='blue', label='Train')\n",
    "plt.hist(test_token_lengths, bins=50, alpha=0.5, color='orange', label='Test')\n",
    "plt.xlabel('Token Length')\n",
    "plt.ylabel('Frequency')\n",
    "plt.title('Token Length Distribution')\n",
    "plt.legend()\n",
    "plt.show()"
   ]
  },
  {
   "cell_type": "code",
   "execution_count": 19,
   "id": "092346a5",
   "metadata": {
    "execution": {
     "iopub.execute_input": "2024-02-17T14:57:23.781332Z",
     "iopub.status.busy": "2024-02-17T14:57:23.780525Z",
     "iopub.status.idle": "2024-02-17T14:57:28.668594Z",
     "shell.execute_reply": "2024-02-17T14:57:28.667811Z"
    },
    "id": "69d54231",
    "papermill": {
     "duration": 4.919688,
     "end_time": "2024-02-17T14:57:28.670946",
     "exception": false,
     "start_time": "2024-02-17T14:57:23.751258",
     "status": "completed"
    },
    "scrolled": true,
    "tags": []
   },
   "outputs": [],
   "source": [
    "model = t.get_classifier()"
   ]
  },
  {
   "cell_type": "code",
   "execution_count": 20,
   "id": "86dee0d7",
   "metadata": {
    "execution": {
     "iopub.execute_input": "2024-02-17T14:57:28.776427Z",
     "iopub.status.busy": "2024-02-17T14:57:28.775717Z",
     "iopub.status.idle": "2024-02-17T14:57:31.001246Z",
     "shell.execute_reply": "2024-02-17T14:57:31.000433Z"
    },
    "id": "7070ffb4",
    "papermill": {
     "duration": 2.303494,
     "end_time": "2024-02-17T14:57:31.003525",
     "exception": false,
     "start_time": "2024-02-17T14:57:28.700031",
     "status": "completed"
    },
    "tags": []
   },
   "outputs": [],
   "source": [
    "learner = ktrain.get_learner(model, train_data=trn, val_data=val, batch_size=8)"
   ]
  },
  {
   "cell_type": "code",
   "execution_count": 21,
   "id": "45e83c3c",
   "metadata": {
    "execution": {
     "iopub.execute_input": "2024-02-17T14:57:31.063227Z",
     "iopub.status.busy": "2024-02-17T14:57:31.062893Z",
     "iopub.status.idle": "2024-02-17T14:57:31.068017Z",
     "shell.execute_reply": "2024-02-17T14:57:31.067277Z"
    },
    "papermill": {
     "duration": 0.036484,
     "end_time": "2024-02-17T14:57:31.069822",
     "exception": false,
     "start_time": "2024-02-17T14:57:31.033338",
     "status": "completed"
    },
    "tags": []
   },
   "outputs": [],
   "source": [
    "# Adding early stopping callback from TensorFlow\n",
    "from tensorflow.keras.callbacks import EarlyStopping\n",
    "early_stopping = EarlyStopping(monitor='accuracy', patience=5, mode='auto')"
   ]
  },
  {
   "cell_type": "code",
   "execution_count": 22,
   "id": "dedd88d3",
   "metadata": {
    "execution": {
     "iopub.execute_input": "2024-02-17T14:57:31.127924Z",
     "iopub.status.busy": "2024-02-17T14:57:31.127369Z",
     "iopub.status.idle": "2024-02-17T17:21:13.857738Z",
     "shell.execute_reply": "2024-02-17T17:21:13.856626Z"
    },
    "id": "e1e76e69",
    "outputId": "cec6ddcd-1ab2-4f18-a9ad-d4cd29195423",
    "papermill": {
     "duration": 8622.762023,
     "end_time": "2024-02-17T17:21:13.860226",
     "exception": false,
     "start_time": "2024-02-17T14:57:31.098203",
     "status": "completed"
    },
    "tags": []
   },
   "outputs": [
    {
     "name": "stdout",
     "output_type": "stream",
     "text": [
      "\n",
      "\n",
      "begin training using onecycle policy with max lr of 2e-05...\n",
      "Epoch 1/10\n",
      "1344/1344 [==============================] - 889s 643ms/step - loss: 1.6491 - accuracy: 0.3117 - val_loss: 1.3716 - val_accuracy: 0.4814\n",
      "Epoch 2/10\n",
      "1344/1344 [==============================] - 859s 639ms/step - loss: 1.3150 - accuracy: 0.5047 - val_loss: 1.1844 - val_accuracy: 0.5424\n",
      "Epoch 3/10\n",
      "1344/1344 [==============================] - 859s 639ms/step - loss: 1.1512 - accuracy: 0.5702 - val_loss: 1.1276 - val_accuracy: 0.5822\n",
      "Epoch 4/10\n",
      "1344/1344 [==============================] - 859s 639ms/step - loss: 1.0373 - accuracy: 0.6146 - val_loss: 1.1832 - val_accuracy: 0.5662\n",
      "Epoch 5/10\n",
      "1344/1344 [==============================] - 859s 639ms/step - loss: 0.9562 - accuracy: 0.6425 - val_loss: 1.1124 - val_accuracy: 0.5911\n",
      "Epoch 6/10\n",
      "1344/1344 [==============================] - 859s 639ms/step - loss: 0.8300 - accuracy: 0.6938 - val_loss: 1.2305 - val_accuracy: 0.5859\n",
      "Epoch 7/10\n",
      "1344/1344 [==============================] - 859s 639ms/step - loss: 0.6513 - accuracy: 0.7648 - val_loss: 1.3761 - val_accuracy: 0.5856\n",
      "Epoch 8/10\n",
      "1344/1344 [==============================] - 859s 639ms/step - loss: 0.4814 - accuracy: 0.8298 - val_loss: 1.4090 - val_accuracy: 0.5926\n",
      "Epoch 9/10\n",
      "1344/1344 [==============================] - 859s 639ms/step - loss: 0.3354 - accuracy: 0.8835 - val_loss: 1.5450 - val_accuracy: 0.6001\n",
      "Epoch 10/10\n",
      "1344/1344 [==============================] - 858s 639ms/step - loss: 0.2205 - accuracy: 0.9295 - val_loss: 1.6949 - val_accuracy: 0.5956\n"
     ]
    }
   ],
   "source": [
    "history = learner.fit_onecycle(2e-5, 10,callbacks=[early_stopping])"
   ]
  },
  {
   "cell_type": "code",
   "execution_count": 23,
   "id": "6922c499",
   "metadata": {
    "execution": {
     "iopub.execute_input": "2024-02-17T17:21:16.164528Z",
     "iopub.status.busy": "2024-02-17T17:21:16.164065Z",
     "iopub.status.idle": "2024-02-17T17:21:19.401319Z",
     "shell.execute_reply": "2024-02-17T17:21:19.400405Z"
    },
    "papermill": {
     "duration": 4.424152,
     "end_time": "2024-02-17T17:21:19.403647",
     "exception": false,
     "start_time": "2024-02-17T17:21:14.979495",
     "status": "completed"
    },
    "tags": []
   },
   "outputs": [],
   "source": [
    "# Save the trained model\n",
    "learner.save_model('/kaggle/output/bemoc.zip')"
   ]
  },
  {
   "cell_type": "code",
   "execution_count": 24,
   "id": "1f1b9c0f",
   "metadata": {
    "execution": {
     "iopub.execute_input": "2024-02-17T17:21:21.677791Z",
     "iopub.status.busy": "2024-02-17T17:21:21.676704Z",
     "iopub.status.idle": "2024-02-17T17:21:21.682994Z",
     "shell.execute_reply": "2024-02-17T17:21:21.681929Z"
    },
    "papermill": {
     "duration": 1.105822,
     "end_time": "2024-02-17T17:21:21.686001",
     "exception": false,
     "start_time": "2024-02-17T17:21:20.580179",
     "status": "completed"
    },
    "tags": []
   },
   "outputs": [],
   "source": [
    "classes=t.get_classes()"
   ]
  },
  {
   "cell_type": "code",
   "execution_count": 25,
   "id": "0c774fd4",
   "metadata": {
    "execution": {
     "iopub.execute_input": "2024-02-17T17:21:23.951977Z",
     "iopub.status.busy": "2024-02-17T17:21:23.951289Z",
     "iopub.status.idle": "2024-02-17T17:22:24.103044Z",
     "shell.execute_reply": "2024-02-17T17:22:24.101980Z"
    },
    "id": "2088a523",
    "papermill": {
     "duration": 61.258332,
     "end_time": "2024-02-17T17:22:24.105289",
     "exception": false,
     "start_time": "2024-02-17T17:21:22.846957",
     "status": "completed"
    },
    "tags": []
   },
   "outputs": [
    {
     "name": "stdout",
     "output_type": "stream",
     "text": [
      "84/84 [==============================] - 60s 676ms/step\n",
      "              precision    recall  f1-score   support\n",
      "\n",
      "       anger       0.57      0.57      0.57       496\n",
      "     disgust       0.45      0.41      0.43       416\n",
      "        fear       0.65      0.63      0.64       272\n",
      "         joy       0.78      0.77      0.77       694\n",
      "     sadness       0.53      0.61      0.57       537\n",
      "    surprise       0.47      0.43      0.45       273\n",
      "\n",
      "    accuracy                           0.60      2688\n",
      "   macro avg       0.57      0.57      0.57      2688\n",
      "weighted avg       0.59      0.60      0.59      2688\n",
      "\n"
     ]
    }
   ],
   "source": [
    "cm = learner.validate(class_names=t.get_classes())"
   ]
  },
  {
   "cell_type": "code",
   "execution_count": 26,
   "id": "89e54ec4",
   "metadata": {
    "execution": {
     "iopub.execute_input": "2024-02-17T17:22:26.404583Z",
     "iopub.status.busy": "2024-02-17T17:22:26.403917Z",
     "iopub.status.idle": "2024-02-17T17:22:26.410545Z",
     "shell.execute_reply": "2024-02-17T17:22:26.409470Z"
    },
    "papermill": {
     "duration": 1.140897,
     "end_time": "2024-02-17T17:22:26.412593",
     "exception": false,
     "start_time": "2024-02-17T17:22:25.271696",
     "status": "completed"
    },
    "tags": []
   },
   "outputs": [],
   "source": [
    "import os\n",
    "import subprocess\n",
    "from IPython.display import FileLink, display\n",
    "\n",
    "def download_file(path, download_file_name):\n",
    "    os.chdir('/kaggle/working/')\n",
    "    zip_name = f\"/kaggle/working/{download_file_name}.zip\"\n",
    "    command = f\"zip {zip_name} {path} -r\"\n",
    "    result = subprocess.run(command, shell=True, capture_output=True, text=True)\n",
    "    if result.returncode != 0:\n",
    "        print(\"Unable to run zip command!\")\n",
    "        print(result.stderr)\n",
    "        return\n",
    "    display(FileLink(f'{download_file_name}.zip'))"
   ]
  },
  {
   "cell_type": "code",
   "execution_count": 27,
   "id": "80bf7ab8",
   "metadata": {
    "execution": {
     "iopub.execute_input": "2024-02-17T17:22:28.715475Z",
     "iopub.status.busy": "2024-02-17T17:22:28.715103Z",
     "iopub.status.idle": "2024-02-17T17:22:29.714449Z",
     "shell.execute_reply": "2024-02-17T17:22:29.713191Z"
    },
    "papermill": {
     "duration": 2.112981,
     "end_time": "2024-02-17T17:22:29.716833",
     "exception": false,
     "start_time": "2024-02-17T17:22:27.603852",
     "status": "completed"
    },
    "tags": []
   },
   "outputs": [
    {
     "name": "stderr",
     "output_type": "stream",
     "text": [
      "huggingface/tokenizers: The current process just got forked, after parallelism has already been used. Disabling parallelism to avoid deadlocks...\n",
      "To disable this warning, you can either:\n",
      "\t- Avoid using `tokenizers` before the fork if possible\n",
      "\t- Explicitly set the environment variable TOKENIZERS_PARALLELISM=(true | false)\n"
     ]
    },
    {
     "name": "stdout",
     "output_type": "stream",
     "text": [
      "\tzip warning: name not matched: /kaggle/output/mental-health-rand\r\n",
      "\r\n",
      "zip error: Nothing to do! (try: zip -r mental.zip . -i /kaggle/output/mental-health-rand)\r\n"
     ]
    }
   ],
   "source": [
    "!zip -r mental.zip /kaggle/output/mental-health-rand"
   ]
  },
  {
   "cell_type": "code",
   "execution_count": 28,
   "id": "137b60f6",
   "metadata": {
    "execution": {
     "iopub.execute_input": "2024-02-17T17:22:31.996530Z",
     "iopub.status.busy": "2024-02-17T17:22:31.995559Z",
     "iopub.status.idle": "2024-02-17T17:22:32.987757Z",
     "shell.execute_reply": "2024-02-17T17:22:32.986543Z"
    },
    "papermill": {
     "duration": 2.098916,
     "end_time": "2024-02-17T17:22:32.990211",
     "exception": false,
     "start_time": "2024-02-17T17:22:30.891295",
     "status": "completed"
    },
    "tags": []
   },
   "outputs": [
    {
     "name": "stderr",
     "output_type": "stream",
     "text": [
      "huggingface/tokenizers: The current process just got forked, after parallelism has already been used. Disabling parallelism to avoid deadlocks...\n",
      "To disable this warning, you can either:\n",
      "\t- Avoid using `tokenizers` before the fork if possible\n",
      "\t- Explicitly set the environment variable TOKENIZERS_PARALLELISM=(true | false)\n"
     ]
    },
    {
     "name": "stdout",
     "output_type": "stream",
     "text": [
      "__notebook__.ipynb\r\n"
     ]
    }
   ],
   "source": [
    "!ls"
   ]
  },
  {
   "cell_type": "code",
   "execution_count": 29,
   "id": "cc7ba89b",
   "metadata": {
    "execution": {
     "iopub.execute_input": "2024-02-17T17:22:35.296476Z",
     "iopub.status.busy": "2024-02-17T17:22:35.295529Z",
     "iopub.status.idle": "2024-02-17T17:22:35.300279Z",
     "shell.execute_reply": "2024-02-17T17:22:35.299359Z"
    },
    "papermill": {
     "duration": 1.120713,
     "end_time": "2024-02-17T17:22:35.302311",
     "exception": false,
     "start_time": "2024-02-17T17:22:34.181598",
     "status": "completed"
    },
    "tags": []
   },
   "outputs": [],
   "source": [
    "# from IPython.display import FileLink\n",
    "# FileLink(r'/kaggle/working/mental-health-rand.zip')"
   ]
  },
  {
   "cell_type": "code",
   "execution_count": 30,
   "id": "4ec6baed",
   "metadata": {
    "execution": {
     "iopub.execute_input": "2024-02-17T17:22:37.634861Z",
     "iopub.status.busy": "2024-02-17T17:22:37.634468Z",
     "iopub.status.idle": "2024-02-17T17:22:37.639000Z",
     "shell.execute_reply": "2024-02-17T17:22:37.638094Z"
    },
    "id": "6R25zoclH47g",
    "papermill": {
     "duration": 1.198764,
     "end_time": "2024-02-17T17:22:37.641120",
     "exception": false,
     "start_time": "2024-02-17T17:22:36.442356",
     "status": "completed"
    },
    "tags": []
   },
   "outputs": [],
   "source": [
    "# df_cm = pd.DataFrame(cm, index=[\"Anxiety\",\"Bipolar\",\"Borderline Personality\", \"Depression \", \"Schizophernia\",\"Suidal Thought\",\"neutral\",\n",
    "#                                 \"Alcoholism\",\"Addiction\",\"Aspergers\",\"SelfHarm \"],\n",
    "#                      columns=[\"Anxiety\",\"Bipolar\",\"Borderline Personality\", \"Depression \", \"Schizophernia\",\"Suidal Thought\",\"neutral\",\n",
    "#                                 \"Alcoholism\",\"Addiction\",\"Aspergers\",\"SelfHarm \"])\n",
    "# plt.figure(figsize = (10,7))\n",
    "# sns.heatmap(df_cm,annot=True, fmt =\"d\")"
   ]
  },
  {
   "cell_type": "code",
   "execution_count": null,
   "id": "abccf54a",
   "metadata": {
    "id": "RjxJrO1JZfNt",
    "papermill": {
     "duration": 1.175454,
     "end_time": "2024-02-17T17:22:39.926338",
     "exception": false,
     "start_time": "2024-02-17T17:22:38.750884",
     "status": "completed"
    },
    "tags": []
   },
   "outputs": [],
   "source": []
  }
 ],
 "metadata": {
  "kaggle": {
   "accelerator": "gpu",
   "dataSources": [
    {
     "datasetId": 4424805,
     "sourceId": 7600948,
     "sourceType": "datasetVersion"
    }
   ],
   "dockerImageVersionId": 30648,
   "isGpuEnabled": true,
   "isInternetEnabled": true,
   "language": "python",
   "sourceType": "notebook"
  },
  "kernelspec": {
   "display_name": "Python 3",
   "language": "python",
   "name": "python3"
  },
  "language_info": {
   "codemirror_mode": {
    "name": "ipython",
    "version": 3
   },
   "file_extension": ".py",
   "mimetype": "text/x-python",
   "name": "python",
   "nbconvert_exporter": "python",
   "pygments_lexer": "ipython3",
   "version": "3.10.13"
  },
  "papermill": {
   "default_parameters": {},
   "duration": 8866.943656,
   "end_time": "2024-02-17T17:22:43.769301",
   "environment_variables": {},
   "exception": null,
   "input_path": "__notebook__.ipynb",
   "output_path": "__notebook__.ipynb",
   "parameters": {},
   "start_time": "2024-02-17T14:54:56.825645",
   "version": "2.5.0"
  },
  "widgets": {
   "application/vnd.jupyter.widget-state+json": {
    "state": {
     "03b45ae5a0fc4afcaf4ff1a559f41a88": {
      "model_module": "@jupyter-widgets/controls",
      "model_module_version": "1.5.0",
      "model_name": "HTMLModel",
      "state": {
       "_dom_classes": [],
       "_model_module": "@jupyter-widgets/controls",
       "_model_module_version": "1.5.0",
       "_model_name": "HTMLModel",
       "_view_count": null,
       "_view_module": "@jupyter-widgets/controls",
       "_view_module_version": "1.5.0",
       "_view_name": "HTMLView",
       "description": "",
       "description_tooltip": null,
       "layout": "IPY_MODEL_2bfc864db22548d4b1efb7e35bc59946",
       "placeholder": "​",
       "style": "IPY_MODEL_540829890ebc42b889254b928bd20266",
       "value": "model.safetensors: 100%"
      }
     },
     "0aa136f1e1414d28a33f91050e4db81c": {
      "model_module": "@jupyter-widgets/controls",
      "model_module_version": "1.5.0",
      "model_name": "DescriptionStyleModel",
      "state": {
       "_model_module": "@jupyter-widgets/controls",
       "_model_module_version": "1.5.0",
       "_model_name": "DescriptionStyleModel",
       "_view_count": null,
       "_view_module": "@jupyter-widgets/base",
       "_view_module_version": "1.2.0",
       "_view_name": "StyleView",
       "description_width": ""
      }
     },
     "15a33bc67fa74566986986e7b24a67a0": {
      "model_module": "@jupyter-widgets/controls",
      "model_module_version": "1.5.0",
      "model_name": "ProgressStyleModel",
      "state": {
       "_model_module": "@jupyter-widgets/controls",
       "_model_module_version": "1.5.0",
       "_model_name": "ProgressStyleModel",
       "_view_count": null,
       "_view_module": "@jupyter-widgets/base",
       "_view_module_version": "1.2.0",
       "_view_name": "StyleView",
       "bar_color": null,
       "description_width": ""
      }
     },
     "1753f637a7ea4b6fb3300bd01732822e": {
      "model_module": "@jupyter-widgets/base",
      "model_module_version": "1.2.0",
      "model_name": "LayoutModel",
      "state": {
       "_model_module": "@jupyter-widgets/base",
       "_model_module_version": "1.2.0",
       "_model_name": "LayoutModel",
       "_view_count": null,
       "_view_module": "@jupyter-widgets/base",
       "_view_module_version": "1.2.0",
       "_view_name": "LayoutView",
       "align_content": null,
       "align_items": null,
       "align_self": null,
       "border": null,
       "bottom": null,
       "display": null,
       "flex": null,
       "flex_flow": null,
       "grid_area": null,
       "grid_auto_columns": null,
       "grid_auto_flow": null,
       "grid_auto_rows": null,
       "grid_column": null,
       "grid_gap": null,
       "grid_row": null,
       "grid_template_areas": null,
       "grid_template_columns": null,
       "grid_template_rows": null,
       "height": null,
       "justify_content": null,
       "justify_items": null,
       "left": null,
       "margin": null,
       "max_height": null,
       "max_width": null,
       "min_height": null,
       "min_width": null,
       "object_fit": null,
       "object_position": null,
       "order": null,
       "overflow": null,
       "overflow_x": null,
       "overflow_y": null,
       "padding": null,
       "right": null,
       "top": null,
       "visibility": null,
       "width": null
      }
     },
     "194a0ce5c9034e17908b4481d56eb090": {
      "model_module": "@jupyter-widgets/controls",
      "model_module_version": "1.5.0",
      "model_name": "HTMLModel",
      "state": {
       "_dom_classes": [],
       "_model_module": "@jupyter-widgets/controls",
       "_model_module_version": "1.5.0",
       "_model_name": "HTMLModel",
       "_view_count": null,
       "_view_module": "@jupyter-widgets/controls",
       "_view_module_version": "1.5.0",
       "_view_name": "HTMLView",
       "description": "",
       "description_tooltip": null,
       "layout": "IPY_MODEL_63bf3a561529487da096ce16f73c0196",
       "placeholder": "​",
       "style": "IPY_MODEL_e11e1e64321343a8b9ccb8463dcf7d97",
       "value": "tokenizer.json: 100%"
      }
     },
     "1ada0809bd844ac89b775c8c633c8bea": {
      "model_module": "@jupyter-widgets/base",
      "model_module_version": "1.2.0",
      "model_name": "LayoutModel",
      "state": {
       "_model_module": "@jupyter-widgets/base",
       "_model_module_version": "1.2.0",
       "_model_name": "LayoutModel",
       "_view_count": null,
       "_view_module": "@jupyter-widgets/base",
       "_view_module_version": "1.2.0",
       "_view_name": "LayoutView",
       "align_content": null,
       "align_items": null,
       "align_self": null,
       "border": null,
       "bottom": null,
       "display": null,
       "flex": null,
       "flex_flow": null,
       "grid_area": null,
       "grid_auto_columns": null,
       "grid_auto_flow": null,
       "grid_auto_rows": null,
       "grid_column": null,
       "grid_gap": null,
       "grid_row": null,
       "grid_template_areas": null,
       "grid_template_columns": null,
       "grid_template_rows": null,
       "height": null,
       "justify_content": null,
       "justify_items": null,
       "left": null,
       "margin": null,
       "max_height": null,
       "max_width": null,
       "min_height": null,
       "min_width": null,
       "object_fit": null,
       "object_position": null,
       "order": null,
       "overflow": null,
       "overflow_x": null,
       "overflow_y": null,
       "padding": null,
       "right": null,
       "top": null,
       "visibility": null,
       "width": null
      }
     },
     "273f7d01a15545c59693f40ed2e7e496": {
      "model_module": "@jupyter-widgets/controls",
      "model_module_version": "1.5.0",
      "model_name": "ProgressStyleModel",
      "state": {
       "_model_module": "@jupyter-widgets/controls",
       "_model_module_version": "1.5.0",
       "_model_name": "ProgressStyleModel",
       "_view_count": null,
       "_view_module": "@jupyter-widgets/base",
       "_view_module_version": "1.2.0",
       "_view_name": "StyleView",
       "bar_color": null,
       "description_width": ""
      }
     },
     "2bfc864db22548d4b1efb7e35bc59946": {
      "model_module": "@jupyter-widgets/base",
      "model_module_version": "1.2.0",
      "model_name": "LayoutModel",
      "state": {
       "_model_module": "@jupyter-widgets/base",
       "_model_module_version": "1.2.0",
       "_model_name": "LayoutModel",
       "_view_count": null,
       "_view_module": "@jupyter-widgets/base",
       "_view_module_version": "1.2.0",
       "_view_name": "LayoutView",
       "align_content": null,
       "align_items": null,
       "align_self": null,
       "border": null,
       "bottom": null,
       "display": null,
       "flex": null,
       "flex_flow": null,
       "grid_area": null,
       "grid_auto_columns": null,
       "grid_auto_flow": null,
       "grid_auto_rows": null,
       "grid_column": null,
       "grid_gap": null,
       "grid_row": null,
       "grid_template_areas": null,
       "grid_template_columns": null,
       "grid_template_rows": null,
       "height": null,
       "justify_content": null,
       "justify_items": null,
       "left": null,
       "margin": null,
       "max_height": null,
       "max_width": null,
       "min_height": null,
       "min_width": null,
       "object_fit": null,
       "object_position": null,
       "order": null,
       "overflow": null,
       "overflow_x": null,
       "overflow_y": null,
       "padding": null,
       "right": null,
       "top": null,
       "visibility": null,
       "width": null
      }
     },
     "4ae9cb4860fa45999137d5a9a0ab27c8": {
      "model_module": "@jupyter-widgets/controls",
      "model_module_version": "1.5.0",
      "model_name": "DescriptionStyleModel",
      "state": {
       "_model_module": "@jupyter-widgets/controls",
       "_model_module_version": "1.5.0",
       "_model_name": "DescriptionStyleModel",
       "_view_count": null,
       "_view_module": "@jupyter-widgets/base",
       "_view_module_version": "1.2.0",
       "_view_name": "StyleView",
       "description_width": ""
      }
     },
     "4de0efecb7e44b68a27159705529d13d": {
      "model_module": "@jupyter-widgets/controls",
      "model_module_version": "1.5.0",
      "model_name": "FloatProgressModel",
      "state": {
       "_dom_classes": [],
       "_model_module": "@jupyter-widgets/controls",
       "_model_module_version": "1.5.0",
       "_model_name": "FloatProgressModel",
       "_view_count": null,
       "_view_module": "@jupyter-widgets/controls",
       "_view_module_version": "1.5.0",
       "_view_name": "ProgressView",
       "bar_style": "success",
       "description": "",
       "description_tooltip": null,
       "layout": "IPY_MODEL_598959cbac2c4d248e9715846043d457",
       "max": 5069051.0,
       "min": 0.0,
       "orientation": "horizontal",
       "style": "IPY_MODEL_93719d0707e04939a402d0cf4f02e0fd",
       "value": 5069051.0
      }
     },
     "540829890ebc42b889254b928bd20266": {
      "model_module": "@jupyter-widgets/controls",
      "model_module_version": "1.5.0",
      "model_name": "DescriptionStyleModel",
      "state": {
       "_model_module": "@jupyter-widgets/controls",
       "_model_module_version": "1.5.0",
       "_model_name": "DescriptionStyleModel",
       "_view_count": null,
       "_view_module": "@jupyter-widgets/base",
       "_view_module_version": "1.2.0",
       "_view_name": "StyleView",
       "description_width": ""
      }
     },
     "559acddc906d4e84b6c4f58d25ee54d1": {
      "model_module": "@jupyter-widgets/base",
      "model_module_version": "1.2.0",
      "model_name": "LayoutModel",
      "state": {
       "_model_module": "@jupyter-widgets/base",
       "_model_module_version": "1.2.0",
       "_model_name": "LayoutModel",
       "_view_count": null,
       "_view_module": "@jupyter-widgets/base",
       "_view_module_version": "1.2.0",
       "_view_name": "LayoutView",
       "align_content": null,
       "align_items": null,
       "align_self": null,
       "border": null,
       "bottom": null,
       "display": null,
       "flex": null,
       "flex_flow": null,
       "grid_area": null,
       "grid_auto_columns": null,
       "grid_auto_flow": null,
       "grid_auto_rows": null,
       "grid_column": null,
       "grid_gap": null,
       "grid_row": null,
       "grid_template_areas": null,
       "grid_template_columns": null,
       "grid_template_rows": null,
       "height": null,
       "justify_content": null,
       "justify_items": null,
       "left": null,
       "margin": null,
       "max_height": null,
       "max_width": null,
       "min_height": null,
       "min_width": null,
       "object_fit": null,
       "object_position": null,
       "order": null,
       "overflow": null,
       "overflow_x": null,
       "overflow_y": null,
       "padding": null,
       "right": null,
       "top": null,
       "visibility": null,
       "width": null
      }
     },
     "58ef422b48c449d6a3b5dfa141aa4948": {
      "model_module": "@jupyter-widgets/controls",
      "model_module_version": "1.5.0",
      "model_name": "HTMLModel",
      "state": {
       "_dom_classes": [],
       "_model_module": "@jupyter-widgets/controls",
       "_model_module_version": "1.5.0",
       "_model_name": "HTMLModel",
       "_view_count": null,
       "_view_module": "@jupyter-widgets/controls",
       "_view_module_version": "1.5.0",
       "_view_name": "HTMLView",
       "description": "",
       "description_tooltip": null,
       "layout": "IPY_MODEL_96230f5f6cc34a7486f57e67fe99f3f6",
       "placeholder": "​",
       "style": "IPY_MODEL_a4669fcd7cac4ee99f9b5a4f425df3e3",
       "value": " 9.10M/9.10M [00:01&lt;00:00, 7.70MB/s]"
      }
     },
     "598959cbac2c4d248e9715846043d457": {
      "model_module": "@jupyter-widgets/base",
      "model_module_version": "1.2.0",
      "model_name": "LayoutModel",
      "state": {
       "_model_module": "@jupyter-widgets/base",
       "_model_module_version": "1.2.0",
       "_model_name": "LayoutModel",
       "_view_count": null,
       "_view_module": "@jupyter-widgets/base",
       "_view_module_version": "1.2.0",
       "_view_name": "LayoutView",
       "align_content": null,
       "align_items": null,
       "align_self": null,
       "border": null,
       "bottom": null,
       "display": null,
       "flex": null,
       "flex_flow": null,
       "grid_area": null,
       "grid_auto_columns": null,
       "grid_auto_flow": null,
       "grid_auto_rows": null,
       "grid_column": null,
       "grid_gap": null,
       "grid_row": null,
       "grid_template_areas": null,
       "grid_template_columns": null,
       "grid_template_rows": null,
       "height": null,
       "justify_content": null,
       "justify_items": null,
       "left": null,
       "margin": null,
       "max_height": null,
       "max_width": null,
       "min_height": null,
       "min_width": null,
       "object_fit": null,
       "object_position": null,
       "order": null,
       "overflow": null,
       "overflow_x": null,
       "overflow_y": null,
       "padding": null,
       "right": null,
       "top": null,
       "visibility": null,
       "width": null
      }
     },
     "601dc6ec28ac42ab8c08e9b49601e2b2": {
      "model_module": "@jupyter-widgets/controls",
      "model_module_version": "1.5.0",
      "model_name": "HBoxModel",
      "state": {
       "_dom_classes": [],
       "_model_module": "@jupyter-widgets/controls",
       "_model_module_version": "1.5.0",
       "_model_name": "HBoxModel",
       "_view_count": null,
       "_view_module": "@jupyter-widgets/controls",
       "_view_module_version": "1.5.0",
       "_view_name": "HBoxView",
       "box_style": "",
       "children": [
        "IPY_MODEL_9edffb03437a4be6b19cffc08318e5e3",
        "IPY_MODEL_d306c3eb440b441ebb73af112bf6b614",
        "IPY_MODEL_a28d915e243943418b9c1402ef79c9ad"
       ],
       "layout": "IPY_MODEL_fd870c3c59614a53b3ed241ab3c7007e"
      }
     },
     "63bf3a561529487da096ce16f73c0196": {
      "model_module": "@jupyter-widgets/base",
      "model_module_version": "1.2.0",
      "model_name": "LayoutModel",
      "state": {
       "_model_module": "@jupyter-widgets/base",
       "_model_module_version": "1.2.0",
       "_model_name": "LayoutModel",
       "_view_count": null,
       "_view_module": "@jupyter-widgets/base",
       "_view_module_version": "1.2.0",
       "_view_name": "LayoutView",
       "align_content": null,
       "align_items": null,
       "align_self": null,
       "border": null,
       "bottom": null,
       "display": null,
       "flex": null,
       "flex_flow": null,
       "grid_area": null,
       "grid_auto_columns": null,
       "grid_auto_flow": null,
       "grid_auto_rows": null,
       "grid_column": null,
       "grid_gap": null,
       "grid_row": null,
       "grid_template_areas": null,
       "grid_template_columns": null,
       "grid_template_rows": null,
       "height": null,
       "justify_content": null,
       "justify_items": null,
       "left": null,
       "margin": null,
       "max_height": null,
       "max_width": null,
       "min_height": null,
       "min_width": null,
       "object_fit": null,
       "object_position": null,
       "order": null,
       "overflow": null,
       "overflow_x": null,
       "overflow_y": null,
       "padding": null,
       "right": null,
       "top": null,
       "visibility": null,
       "width": null
      }
     },
     "6480a00ee11b409e89e5d636b37621b1": {
      "model_module": "@jupyter-widgets/controls",
      "model_module_version": "1.5.0",
      "model_name": "DescriptionStyleModel",
      "state": {
       "_model_module": "@jupyter-widgets/controls",
       "_model_module_version": "1.5.0",
       "_model_name": "DescriptionStyleModel",
       "_view_count": null,
       "_view_module": "@jupyter-widgets/base",
       "_view_module_version": "1.2.0",
       "_view_name": "StyleView",
       "description_width": ""
      }
     },
     "7b736764a3b647ba81c1751becadb5a3": {
      "model_module": "@jupyter-widgets/controls",
      "model_module_version": "1.5.0",
      "model_name": "HTMLModel",
      "state": {
       "_dom_classes": [],
       "_model_module": "@jupyter-widgets/controls",
       "_model_module_version": "1.5.0",
       "_model_name": "HTMLModel",
       "_view_count": null,
       "_view_module": "@jupyter-widgets/controls",
       "_view_module_version": "1.5.0",
       "_view_name": "HTMLView",
       "description": "",
       "description_tooltip": null,
       "layout": "IPY_MODEL_df4e8e0f00154bb3b417b05e4ce6f6e0",
       "placeholder": "​",
       "style": "IPY_MODEL_9cfefd4d3a2b4f9a82e766a319992283",
       "value": " 5.07M/5.07M [00:00&lt;00:00, 6.46MB/s]"
      }
     },
     "8491234a31824f148c319b99799622ec": {
      "model_module": "@jupyter-widgets/controls",
      "model_module_version": "1.5.0",
      "model_name": "HTMLModel",
      "state": {
       "_dom_classes": [],
       "_model_module": "@jupyter-widgets/controls",
       "_model_module_version": "1.5.0",
       "_model_name": "HTMLModel",
       "_view_count": null,
       "_view_module": "@jupyter-widgets/controls",
       "_view_module_version": "1.5.0",
       "_view_name": "HTMLView",
       "description": "",
       "description_tooltip": null,
       "layout": "IPY_MODEL_b7b24f79eeff4e97b15e6213937a976d",
       "placeholder": "​",
       "style": "IPY_MODEL_cb065cb2577c4207bd0d16d7be7ea730",
       "value": " 1.12G/1.12G [00:27&lt;00:00, 31.7MB/s]"
      }
     },
     "8495dcdd07ea49c293a5b1224a73a4c2": {
      "model_module": "@jupyter-widgets/base",
      "model_module_version": "1.2.0",
      "model_name": "LayoutModel",
      "state": {
       "_model_module": "@jupyter-widgets/base",
       "_model_module_version": "1.2.0",
       "_model_name": "LayoutModel",
       "_view_count": null,
       "_view_module": "@jupyter-widgets/base",
       "_view_module_version": "1.2.0",
       "_view_name": "LayoutView",
       "align_content": null,
       "align_items": null,
       "align_self": null,
       "border": null,
       "bottom": null,
       "display": null,
       "flex": null,
       "flex_flow": null,
       "grid_area": null,
       "grid_auto_columns": null,
       "grid_auto_flow": null,
       "grid_auto_rows": null,
       "grid_column": null,
       "grid_gap": null,
       "grid_row": null,
       "grid_template_areas": null,
       "grid_template_columns": null,
       "grid_template_rows": null,
       "height": null,
       "justify_content": null,
       "justify_items": null,
       "left": null,
       "margin": null,
       "max_height": null,
       "max_width": null,
       "min_height": null,
       "min_width": null,
       "object_fit": null,
       "object_position": null,
       "order": null,
       "overflow": null,
       "overflow_x": null,
       "overflow_y": null,
       "padding": null,
       "right": null,
       "top": null,
       "visibility": null,
       "width": null
      }
     },
     "8b206830203049ddbb785b83ac99d392": {
      "model_module": "@jupyter-widgets/base",
      "model_module_version": "1.2.0",
      "model_name": "LayoutModel",
      "state": {
       "_model_module": "@jupyter-widgets/base",
       "_model_module_version": "1.2.0",
       "_model_name": "LayoutModel",
       "_view_count": null,
       "_view_module": "@jupyter-widgets/base",
       "_view_module_version": "1.2.0",
       "_view_name": "LayoutView",
       "align_content": null,
       "align_items": null,
       "align_self": null,
       "border": null,
       "bottom": null,
       "display": null,
       "flex": null,
       "flex_flow": null,
       "grid_area": null,
       "grid_auto_columns": null,
       "grid_auto_flow": null,
       "grid_auto_rows": null,
       "grid_column": null,
       "grid_gap": null,
       "grid_row": null,
       "grid_template_areas": null,
       "grid_template_columns": null,
       "grid_template_rows": null,
       "height": null,
       "justify_content": null,
       "justify_items": null,
       "left": null,
       "margin": null,
       "max_height": null,
       "max_width": null,
       "min_height": null,
       "min_width": null,
       "object_fit": null,
       "object_position": null,
       "order": null,
       "overflow": null,
       "overflow_x": null,
       "overflow_y": null,
       "padding": null,
       "right": null,
       "top": null,
       "visibility": null,
       "width": null
      }
     },
     "8d4c52362c33414ebe15266610300e14": {
      "model_module": "@jupyter-widgets/base",
      "model_module_version": "1.2.0",
      "model_name": "LayoutModel",
      "state": {
       "_model_module": "@jupyter-widgets/base",
       "_model_module_version": "1.2.0",
       "_model_name": "LayoutModel",
       "_view_count": null,
       "_view_module": "@jupyter-widgets/base",
       "_view_module_version": "1.2.0",
       "_view_name": "LayoutView",
       "align_content": null,
       "align_items": null,
       "align_self": null,
       "border": null,
       "bottom": null,
       "display": null,
       "flex": null,
       "flex_flow": null,
       "grid_area": null,
       "grid_auto_columns": null,
       "grid_auto_flow": null,
       "grid_auto_rows": null,
       "grid_column": null,
       "grid_gap": null,
       "grid_row": null,
       "grid_template_areas": null,
       "grid_template_columns": null,
       "grid_template_rows": null,
       "height": null,
       "justify_content": null,
       "justify_items": null,
       "left": null,
       "margin": null,
       "max_height": null,
       "max_width": null,
       "min_height": null,
       "min_width": null,
       "object_fit": null,
       "object_position": null,
       "order": null,
       "overflow": null,
       "overflow_x": null,
       "overflow_y": null,
       "padding": null,
       "right": null,
       "top": null,
       "visibility": null,
       "width": null
      }
     },
     "8e2354bff6d44e2ba9507ff8f9521baa": {
      "model_module": "@jupyter-widgets/controls",
      "model_module_version": "1.5.0",
      "model_name": "ProgressStyleModel",
      "state": {
       "_model_module": "@jupyter-widgets/controls",
       "_model_module_version": "1.5.0",
       "_model_name": "ProgressStyleModel",
       "_view_count": null,
       "_view_module": "@jupyter-widgets/base",
       "_view_module_version": "1.2.0",
       "_view_name": "StyleView",
       "bar_color": null,
       "description_width": ""
      }
     },
     "93719d0707e04939a402d0cf4f02e0fd": {
      "model_module": "@jupyter-widgets/controls",
      "model_module_version": "1.5.0",
      "model_name": "ProgressStyleModel",
      "state": {
       "_model_module": "@jupyter-widgets/controls",
       "_model_module_version": "1.5.0",
       "_model_name": "ProgressStyleModel",
       "_view_count": null,
       "_view_module": "@jupyter-widgets/base",
       "_view_module_version": "1.2.0",
       "_view_name": "StyleView",
       "bar_color": null,
       "description_width": ""
      }
     },
     "96230f5f6cc34a7486f57e67fe99f3f6": {
      "model_module": "@jupyter-widgets/base",
      "model_module_version": "1.2.0",
      "model_name": "LayoutModel",
      "state": {
       "_model_module": "@jupyter-widgets/base",
       "_model_module_version": "1.2.0",
       "_model_name": "LayoutModel",
       "_view_count": null,
       "_view_module": "@jupyter-widgets/base",
       "_view_module_version": "1.2.0",
       "_view_name": "LayoutView",
       "align_content": null,
       "align_items": null,
       "align_self": null,
       "border": null,
       "bottom": null,
       "display": null,
       "flex": null,
       "flex_flow": null,
       "grid_area": null,
       "grid_auto_columns": null,
       "grid_auto_flow": null,
       "grid_auto_rows": null,
       "grid_column": null,
       "grid_gap": null,
       "grid_row": null,
       "grid_template_areas": null,
       "grid_template_columns": null,
       "grid_template_rows": null,
       "height": null,
       "justify_content": null,
       "justify_items": null,
       "left": null,
       "margin": null,
       "max_height": null,
       "max_width": null,
       "min_height": null,
       "min_width": null,
       "object_fit": null,
       "object_position": null,
       "order": null,
       "overflow": null,
       "overflow_x": null,
       "overflow_y": null,
       "padding": null,
       "right": null,
       "top": null,
       "visibility": null,
       "width": null
      }
     },
     "9cfefd4d3a2b4f9a82e766a319992283": {
      "model_module": "@jupyter-widgets/controls",
      "model_module_version": "1.5.0",
      "model_name": "DescriptionStyleModel",
      "state": {
       "_model_module": "@jupyter-widgets/controls",
       "_model_module_version": "1.5.0",
       "_model_name": "DescriptionStyleModel",
       "_view_count": null,
       "_view_module": "@jupyter-widgets/base",
       "_view_module_version": "1.2.0",
       "_view_name": "StyleView",
       "description_width": ""
      }
     },
     "9d159379c06f4ac681593b47c2727f24": {
      "model_module": "@jupyter-widgets/controls",
      "model_module_version": "1.5.0",
      "model_name": "FloatProgressModel",
      "state": {
       "_dom_classes": [],
       "_model_module": "@jupyter-widgets/controls",
       "_model_module_version": "1.5.0",
       "_model_name": "FloatProgressModel",
       "_view_count": null,
       "_view_module": "@jupyter-widgets/controls",
       "_view_module_version": "1.5.0",
       "_view_name": "ProgressView",
       "bar_style": "success",
       "description": "",
       "description_tooltip": null,
       "layout": "IPY_MODEL_cb035e8e80e94b5c83a0cfb0472f85db",
       "max": 9096718.0,
       "min": 0.0,
       "orientation": "horizontal",
       "style": "IPY_MODEL_8e2354bff6d44e2ba9507ff8f9521baa",
       "value": 9096718.0
      }
     },
     "9e8845724def41a0b990cdb154306071": {
      "model_module": "@jupyter-widgets/controls",
      "model_module_version": "1.5.0",
      "model_name": "HBoxModel",
      "state": {
       "_dom_classes": [],
       "_model_module": "@jupyter-widgets/controls",
       "_model_module_version": "1.5.0",
       "_model_name": "HBoxModel",
       "_view_count": null,
       "_view_module": "@jupyter-widgets/controls",
       "_view_module_version": "1.5.0",
       "_view_name": "HBoxView",
       "box_style": "",
       "children": [
        "IPY_MODEL_194a0ce5c9034e17908b4481d56eb090",
        "IPY_MODEL_9d159379c06f4ac681593b47c2727f24",
        "IPY_MODEL_58ef422b48c449d6a3b5dfa141aa4948"
       ],
       "layout": "IPY_MODEL_559acddc906d4e84b6c4f58d25ee54d1"
      }
     },
     "9edffb03437a4be6b19cffc08318e5e3": {
      "model_module": "@jupyter-widgets/controls",
      "model_module_version": "1.5.0",
      "model_name": "HTMLModel",
      "state": {
       "_dom_classes": [],
       "_model_module": "@jupyter-widgets/controls",
       "_model_module_version": "1.5.0",
       "_model_name": "HTMLModel",
       "_view_count": null,
       "_view_module": "@jupyter-widgets/controls",
       "_view_module_version": "1.5.0",
       "_view_name": "HTMLView",
       "description": "",
       "description_tooltip": null,
       "layout": "IPY_MODEL_8495dcdd07ea49c293a5b1224a73a4c2",
       "placeholder": "​",
       "style": "IPY_MODEL_4ae9cb4860fa45999137d5a9a0ab27c8",
       "value": "config.json: 100%"
      }
     },
     "a28d915e243943418b9c1402ef79c9ad": {
      "model_module": "@jupyter-widgets/controls",
      "model_module_version": "1.5.0",
      "model_name": "HTMLModel",
      "state": {
       "_dom_classes": [],
       "_model_module": "@jupyter-widgets/controls",
       "_model_module_version": "1.5.0",
       "_model_name": "HTMLModel",
       "_view_count": null,
       "_view_module": "@jupyter-widgets/controls",
       "_view_module_version": "1.5.0",
       "_view_name": "HTMLView",
       "description": "",
       "description_tooltip": null,
       "layout": "IPY_MODEL_1ada0809bd844ac89b775c8c633c8bea",
       "placeholder": "​",
       "style": "IPY_MODEL_0aa136f1e1414d28a33f91050e4db81c",
       "value": " 615/615 [00:00&lt;00:00, 48.0kB/s]"
      }
     },
     "a4669fcd7cac4ee99f9b5a4f425df3e3": {
      "model_module": "@jupyter-widgets/controls",
      "model_module_version": "1.5.0",
      "model_name": "DescriptionStyleModel",
      "state": {
       "_model_module": "@jupyter-widgets/controls",
       "_model_module_version": "1.5.0",
       "_model_name": "DescriptionStyleModel",
       "_view_count": null,
       "_view_module": "@jupyter-widgets/base",
       "_view_module_version": "1.2.0",
       "_view_name": "StyleView",
       "description_width": ""
      }
     },
     "b7b24f79eeff4e97b15e6213937a976d": {
      "model_module": "@jupyter-widgets/base",
      "model_module_version": "1.2.0",
      "model_name": "LayoutModel",
      "state": {
       "_model_module": "@jupyter-widgets/base",
       "_model_module_version": "1.2.0",
       "_model_name": "LayoutModel",
       "_view_count": null,
       "_view_module": "@jupyter-widgets/base",
       "_view_module_version": "1.2.0",
       "_view_name": "LayoutView",
       "align_content": null,
       "align_items": null,
       "align_self": null,
       "border": null,
       "bottom": null,
       "display": null,
       "flex": null,
       "flex_flow": null,
       "grid_area": null,
       "grid_auto_columns": null,
       "grid_auto_flow": null,
       "grid_auto_rows": null,
       "grid_column": null,
       "grid_gap": null,
       "grid_row": null,
       "grid_template_areas": null,
       "grid_template_columns": null,
       "grid_template_rows": null,
       "height": null,
       "justify_content": null,
       "justify_items": null,
       "left": null,
       "margin": null,
       "max_height": null,
       "max_width": null,
       "min_height": null,
       "min_width": null,
       "object_fit": null,
       "object_position": null,
       "order": null,
       "overflow": null,
       "overflow_x": null,
       "overflow_y": null,
       "padding": null,
       "right": null,
       "top": null,
       "visibility": null,
       "width": null
      }
     },
     "c3dd0c87ec1b45cebe1fbbe86ab2f822": {
      "model_module": "@jupyter-widgets/controls",
      "model_module_version": "1.5.0",
      "model_name": "HBoxModel",
      "state": {
       "_dom_classes": [],
       "_model_module": "@jupyter-widgets/controls",
       "_model_module_version": "1.5.0",
       "_model_name": "HBoxModel",
       "_view_count": null,
       "_view_module": "@jupyter-widgets/controls",
       "_view_module_version": "1.5.0",
       "_view_name": "HBoxView",
       "box_style": "",
       "children": [
        "IPY_MODEL_fa6058e872fa43b79874833c034122fe",
        "IPY_MODEL_4de0efecb7e44b68a27159705529d13d",
        "IPY_MODEL_7b736764a3b647ba81c1751becadb5a3"
       ],
       "layout": "IPY_MODEL_1753f637a7ea4b6fb3300bd01732822e"
      }
     },
     "cb035e8e80e94b5c83a0cfb0472f85db": {
      "model_module": "@jupyter-widgets/base",
      "model_module_version": "1.2.0",
      "model_name": "LayoutModel",
      "state": {
       "_model_module": "@jupyter-widgets/base",
       "_model_module_version": "1.2.0",
       "_model_name": "LayoutModel",
       "_view_count": null,
       "_view_module": "@jupyter-widgets/base",
       "_view_module_version": "1.2.0",
       "_view_name": "LayoutView",
       "align_content": null,
       "align_items": null,
       "align_self": null,
       "border": null,
       "bottom": null,
       "display": null,
       "flex": null,
       "flex_flow": null,
       "grid_area": null,
       "grid_auto_columns": null,
       "grid_auto_flow": null,
       "grid_auto_rows": null,
       "grid_column": null,
       "grid_gap": null,
       "grid_row": null,
       "grid_template_areas": null,
       "grid_template_columns": null,
       "grid_template_rows": null,
       "height": null,
       "justify_content": null,
       "justify_items": null,
       "left": null,
       "margin": null,
       "max_height": null,
       "max_width": null,
       "min_height": null,
       "min_width": null,
       "object_fit": null,
       "object_position": null,
       "order": null,
       "overflow": null,
       "overflow_x": null,
       "overflow_y": null,
       "padding": null,
       "right": null,
       "top": null,
       "visibility": null,
       "width": null
      }
     },
     "cb065cb2577c4207bd0d16d7be7ea730": {
      "model_module": "@jupyter-widgets/controls",
      "model_module_version": "1.5.0",
      "model_name": "DescriptionStyleModel",
      "state": {
       "_model_module": "@jupyter-widgets/controls",
       "_model_module_version": "1.5.0",
       "_model_name": "DescriptionStyleModel",
       "_view_count": null,
       "_view_module": "@jupyter-widgets/base",
       "_view_module_version": "1.2.0",
       "_view_name": "StyleView",
       "description_width": ""
      }
     },
     "d306c3eb440b441ebb73af112bf6b614": {
      "model_module": "@jupyter-widgets/controls",
      "model_module_version": "1.5.0",
      "model_name": "FloatProgressModel",
      "state": {
       "_dom_classes": [],
       "_model_module": "@jupyter-widgets/controls",
       "_model_module_version": "1.5.0",
       "_model_name": "FloatProgressModel",
       "_view_count": null,
       "_view_module": "@jupyter-widgets/controls",
       "_view_module_version": "1.5.0",
       "_view_name": "ProgressView",
       "bar_style": "success",
       "description": "",
       "description_tooltip": null,
       "layout": "IPY_MODEL_8b206830203049ddbb785b83ac99d392",
       "max": 615.0,
       "min": 0.0,
       "orientation": "horizontal",
       "style": "IPY_MODEL_15a33bc67fa74566986986e7b24a67a0",
       "value": 615.0
      }
     },
     "de8f3cccbdff4e70a7ea7da68346f966": {
      "model_module": "@jupyter-widgets/base",
      "model_module_version": "1.2.0",
      "model_name": "LayoutModel",
      "state": {
       "_model_module": "@jupyter-widgets/base",
       "_model_module_version": "1.2.0",
       "_model_name": "LayoutModel",
       "_view_count": null,
       "_view_module": "@jupyter-widgets/base",
       "_view_module_version": "1.2.0",
       "_view_name": "LayoutView",
       "align_content": null,
       "align_items": null,
       "align_self": null,
       "border": null,
       "bottom": null,
       "display": null,
       "flex": null,
       "flex_flow": null,
       "grid_area": null,
       "grid_auto_columns": null,
       "grid_auto_flow": null,
       "grid_auto_rows": null,
       "grid_column": null,
       "grid_gap": null,
       "grid_row": null,
       "grid_template_areas": null,
       "grid_template_columns": null,
       "grid_template_rows": null,
       "height": null,
       "justify_content": null,
       "justify_items": null,
       "left": null,
       "margin": null,
       "max_height": null,
       "max_width": null,
       "min_height": null,
       "min_width": null,
       "object_fit": null,
       "object_position": null,
       "order": null,
       "overflow": null,
       "overflow_x": null,
       "overflow_y": null,
       "padding": null,
       "right": null,
       "top": null,
       "visibility": null,
       "width": null
      }
     },
     "df4e8e0f00154bb3b417b05e4ce6f6e0": {
      "model_module": "@jupyter-widgets/base",
      "model_module_version": "1.2.0",
      "model_name": "LayoutModel",
      "state": {
       "_model_module": "@jupyter-widgets/base",
       "_model_module_version": "1.2.0",
       "_model_name": "LayoutModel",
       "_view_count": null,
       "_view_module": "@jupyter-widgets/base",
       "_view_module_version": "1.2.0",
       "_view_name": "LayoutView",
       "align_content": null,
       "align_items": null,
       "align_self": null,
       "border": null,
       "bottom": null,
       "display": null,
       "flex": null,
       "flex_flow": null,
       "grid_area": null,
       "grid_auto_columns": null,
       "grid_auto_flow": null,
       "grid_auto_rows": null,
       "grid_column": null,
       "grid_gap": null,
       "grid_row": null,
       "grid_template_areas": null,
       "grid_template_columns": null,
       "grid_template_rows": null,
       "height": null,
       "justify_content": null,
       "justify_items": null,
       "left": null,
       "margin": null,
       "max_height": null,
       "max_width": null,
       "min_height": null,
       "min_width": null,
       "object_fit": null,
       "object_position": null,
       "order": null,
       "overflow": null,
       "overflow_x": null,
       "overflow_y": null,
       "padding": null,
       "right": null,
       "top": null,
       "visibility": null,
       "width": null
      }
     },
     "e11e1e64321343a8b9ccb8463dcf7d97": {
      "model_module": "@jupyter-widgets/controls",
      "model_module_version": "1.5.0",
      "model_name": "DescriptionStyleModel",
      "state": {
       "_model_module": "@jupyter-widgets/controls",
       "_model_module_version": "1.5.0",
       "_model_name": "DescriptionStyleModel",
       "_view_count": null,
       "_view_module": "@jupyter-widgets/base",
       "_view_module_version": "1.2.0",
       "_view_name": "StyleView",
       "description_width": ""
      }
     },
     "e238fc8b50c447b68c318aacd6ffc9d6": {
      "model_module": "@jupyter-widgets/controls",
      "model_module_version": "1.5.0",
      "model_name": "HBoxModel",
      "state": {
       "_dom_classes": [],
       "_model_module": "@jupyter-widgets/controls",
       "_model_module_version": "1.5.0",
       "_model_name": "HBoxModel",
       "_view_count": null,
       "_view_module": "@jupyter-widgets/controls",
       "_view_module_version": "1.5.0",
       "_view_name": "HBoxView",
       "box_style": "",
       "children": [
        "IPY_MODEL_03b45ae5a0fc4afcaf4ff1a559f41a88",
        "IPY_MODEL_f03a5affd1fa4d749389a945bf1f94a5",
        "IPY_MODEL_8491234a31824f148c319b99799622ec"
       ],
       "layout": "IPY_MODEL_8d4c52362c33414ebe15266610300e14"
      }
     },
     "f03a5affd1fa4d749389a945bf1f94a5": {
      "model_module": "@jupyter-widgets/controls",
      "model_module_version": "1.5.0",
      "model_name": "FloatProgressModel",
      "state": {
       "_dom_classes": [],
       "_model_module": "@jupyter-widgets/controls",
       "_model_module_version": "1.5.0",
       "_model_name": "FloatProgressModel",
       "_view_count": null,
       "_view_module": "@jupyter-widgets/controls",
       "_view_module_version": "1.5.0",
       "_view_name": "ProgressView",
       "bar_style": "success",
       "description": "",
       "description_tooltip": null,
       "layout": "IPY_MODEL_de8f3cccbdff4e70a7ea7da68346f966",
       "max": 1115567652.0,
       "min": 0.0,
       "orientation": "horizontal",
       "style": "IPY_MODEL_273f7d01a15545c59693f40ed2e7e496",
       "value": 1115567652.0
      }
     },
     "f7a53320d85048129fa00511edf19335": {
      "model_module": "@jupyter-widgets/base",
      "model_module_version": "1.2.0",
      "model_name": "LayoutModel",
      "state": {
       "_model_module": "@jupyter-widgets/base",
       "_model_module_version": "1.2.0",
       "_model_name": "LayoutModel",
       "_view_count": null,
       "_view_module": "@jupyter-widgets/base",
       "_view_module_version": "1.2.0",
       "_view_name": "LayoutView",
       "align_content": null,
       "align_items": null,
       "align_self": null,
       "border": null,
       "bottom": null,
       "display": null,
       "flex": null,
       "flex_flow": null,
       "grid_area": null,
       "grid_auto_columns": null,
       "grid_auto_flow": null,
       "grid_auto_rows": null,
       "grid_column": null,
       "grid_gap": null,
       "grid_row": null,
       "grid_template_areas": null,
       "grid_template_columns": null,
       "grid_template_rows": null,
       "height": null,
       "justify_content": null,
       "justify_items": null,
       "left": null,
       "margin": null,
       "max_height": null,
       "max_width": null,
       "min_height": null,
       "min_width": null,
       "object_fit": null,
       "object_position": null,
       "order": null,
       "overflow": null,
       "overflow_x": null,
       "overflow_y": null,
       "padding": null,
       "right": null,
       "top": null,
       "visibility": null,
       "width": null
      }
     },
     "fa6058e872fa43b79874833c034122fe": {
      "model_module": "@jupyter-widgets/controls",
      "model_module_version": "1.5.0",
      "model_name": "HTMLModel",
      "state": {
       "_dom_classes": [],
       "_model_module": "@jupyter-widgets/controls",
       "_model_module_version": "1.5.0",
       "_model_name": "HTMLModel",
       "_view_count": null,
       "_view_module": "@jupyter-widgets/controls",
       "_view_module_version": "1.5.0",
       "_view_name": "HTMLView",
       "description": "",
       "description_tooltip": null,
       "layout": "IPY_MODEL_f7a53320d85048129fa00511edf19335",
       "placeholder": "​",
       "style": "IPY_MODEL_6480a00ee11b409e89e5d636b37621b1",
       "value": "sentencepiece.bpe.model: 100%"
      }
     },
     "fd870c3c59614a53b3ed241ab3c7007e": {
      "model_module": "@jupyter-widgets/base",
      "model_module_version": "1.2.0",
      "model_name": "LayoutModel",
      "state": {
       "_model_module": "@jupyter-widgets/base",
       "_model_module_version": "1.2.0",
       "_model_name": "LayoutModel",
       "_view_count": null,
       "_view_module": "@jupyter-widgets/base",
       "_view_module_version": "1.2.0",
       "_view_name": "LayoutView",
       "align_content": null,
       "align_items": null,
       "align_self": null,
       "border": null,
       "bottom": null,
       "display": null,
       "flex": null,
       "flex_flow": null,
       "grid_area": null,
       "grid_auto_columns": null,
       "grid_auto_flow": null,
       "grid_auto_rows": null,
       "grid_column": null,
       "grid_gap": null,
       "grid_row": null,
       "grid_template_areas": null,
       "grid_template_columns": null,
       "grid_template_rows": null,
       "height": null,
       "justify_content": null,
       "justify_items": null,
       "left": null,
       "margin": null,
       "max_height": null,
       "max_width": null,
       "min_height": null,
       "min_width": null,
       "object_fit": null,
       "object_position": null,
       "order": null,
       "overflow": null,
       "overflow_x": null,
       "overflow_y": null,
       "padding": null,
       "right": null,
       "top": null,
       "visibility": null,
       "width": null
      }
     }
    },
    "version_major": 2,
    "version_minor": 0
   }
  }
 },
 "nbformat": 4,
 "nbformat_minor": 5
}
