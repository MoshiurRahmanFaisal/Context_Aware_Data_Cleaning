{
 "cells": [
  {
   "cell_type": "code",
   "execution_count": null,
   "id": "3fc62494",
   "metadata": {
    "execution": {
     "iopub.execute_input": "2024-02-08T09:19:55.106630Z",
     "iopub.status.busy": "2024-02-08T09:19:55.106310Z",
     "iopub.status.idle": "2024-02-08T09:20:11.915295Z",
     "shell.execute_reply": "2024-02-08T09:20:11.914308Z"
    },
    "papermill": {
     "duration": 16.823389,
     "end_time": "2024-02-08T09:20:11.917558",
     "exception": false,
     "start_time": "2024-02-08T09:19:55.094169",
     "status": "completed"
    },
    "tags": []
   },
   "outputs": [],
   "source": [
    "!pip install bnlp_toolkit"
   ]
  },
  {
   "cell_type": "code",
   "execution_count": null,
   "id": "0f06a0f3",
   "metadata": {
    "execution": {
     "iopub.execute_input": "2024-02-08T09:20:11.943312Z",
     "iopub.status.busy": "2024-02-08T09:20:11.942959Z",
     "iopub.status.idle": "2024-02-08T09:20:25.533619Z",
     "shell.execute_reply": "2024-02-08T09:20:25.532637Z"
    },
    "id": "d32533c5",
    "papermill": {
     "duration": 13.606716,
     "end_time": "2024-02-08T09:20:25.536334",
     "exception": false,
     "start_time": "2024-02-08T09:20:11.929618",
     "status": "completed"
    },
    "scrolled": true,
    "tags": []
   },
   "outputs": [],
   "source": [
    "import pandas as pd\n",
    "import numpy as np\n",
    "import matplotlib.pyplot as plt\n",
    "from sklearn.feature_extraction.text import TfidfVectorizer\n",
    "from bnlp import NLTKTokenizer"
   ]
  },
  {
   "cell_type": "code",
   "execution_count": null,
   "id": "5a9a21eb",
   "metadata": {
    "execution": {
     "iopub.execute_input": "2024-02-08T09:20:25.561553Z",
     "iopub.status.busy": "2024-02-08T09:20:25.561051Z",
     "iopub.status.idle": "2024-02-08T09:20:26.814387Z",
     "shell.execute_reply": "2024-02-08T09:20:26.813499Z"
    },
    "id": "bba016ba",
    "papermill": {
     "duration": 1.268509,
     "end_time": "2024-02-08T09:20:26.816923",
     "exception": false,
     "start_time": "2024-02-08T09:20:25.548414",
     "status": "completed"
    },
    "scrolled": true,
    "tags": []
   },
   "outputs": [],
   "source": [
    "df_train = pd.read_excel(\"F:/Context_Aware_Data_Cleaning/Hridoy/UBMEC_CADC/Dataset/ubmec_clean.xlsx\")"
   ]
  },
  {
   "cell_type": "code",
   "execution_count": null,
   "id": "1a723421",
   "metadata": {
    "execution": {
     "iopub.execute_input": "2024-02-08T09:20:26.843499Z",
     "iopub.status.busy": "2024-02-08T09:20:26.842702Z",
     "iopub.status.idle": "2024-02-08T09:20:26.857699Z",
     "shell.execute_reply": "2024-02-08T09:20:26.856808Z"
    },
    "id": "3c2ae414",
    "outputId": "e8ef9e85-dda0-4853-f1f3-64fd5ff173a1",
    "papermill": {
     "duration": 0.030558,
     "end_time": "2024-02-08T09:20:26.859741",
     "exception": false,
     "start_time": "2024-02-08T09:20:26.829183",
     "status": "completed"
    },
    "scrolled": true,
    "tags": []
   },
   "outputs": [],
   "source": [
    "df_train.head()"
   ]
  },
  {
   "cell_type": "code",
   "execution_count": null,
   "id": "7b7f841c",
   "metadata": {
    "execution": {
     "iopub.execute_input": "2024-02-08T09:20:26.885594Z",
     "iopub.status.busy": "2024-02-08T09:20:26.885321Z",
     "iopub.status.idle": "2024-02-08T09:20:26.891568Z",
     "shell.execute_reply": "2024-02-08T09:20:26.890806Z"
    },
    "id": "4d94877e",
    "papermill": {
     "duration": 0.020826,
     "end_time": "2024-02-08T09:20:26.893509",
     "exception": false,
     "start_time": "2024-02-08T09:20:26.872683",
     "status": "completed"
    },
    "tags": []
   },
   "outputs": [],
   "source": [
    "df_train.dropna(inplace=True)"
   ]
  },
  {
   "cell_type": "code",
   "execution_count": null,
   "id": "caf5df7b",
   "metadata": {
    "execution": {
     "iopub.execute_input": "2024-02-08T09:20:26.918139Z",
     "iopub.status.busy": "2024-02-08T09:20:26.917856Z",
     "iopub.status.idle": "2024-02-08T09:20:26.925676Z",
     "shell.execute_reply": "2024-02-08T09:20:26.924865Z"
    },
    "papermill": {
     "duration": 0.022533,
     "end_time": "2024-02-08T09:20:26.927744",
     "exception": false,
     "start_time": "2024-02-08T09:20:26.905211",
     "status": "completed"
    },
    "tags": []
   },
   "outputs": [],
   "source": [
    "longest_string = max(df_train[\"text\"], key=len)\n",
    "print(len(longest_string))"
   ]
  },
  {
   "cell_type": "code",
   "execution_count": null,
   "id": "86fe2a5e",
   "metadata": {
    "execution": {
     "iopub.execute_input": "2024-02-08T09:20:26.953475Z",
     "iopub.status.busy": "2024-02-08T09:20:26.953171Z",
     "iopub.status.idle": "2024-02-08T09:20:26.967016Z",
     "shell.execute_reply": "2024-02-08T09:20:26.966172Z"
    },
    "papermill": {
     "duration": 0.029004,
     "end_time": "2024-02-08T09:20:26.968922",
     "exception": false,
     "start_time": "2024-02-08T09:20:26.939918",
     "status": "completed"
    },
    "tags": []
   },
   "outputs": [],
   "source": [
    "df_train['classes'].value_counts()"
   ]
  },
  {
   "cell_type": "code",
   "execution_count": null,
   "id": "c51b5e90",
   "metadata": {
    "execution": {
     "iopub.execute_input": "2024-02-08T09:20:27.454345Z",
     "iopub.status.busy": "2024-02-08T09:20:27.454068Z",
     "iopub.status.idle": "2024-02-08T09:20:27.458955Z",
     "shell.execute_reply": "2024-02-08T09:20:27.458213Z"
    },
    "papermill": {
     "duration": 0.019577,
     "end_time": "2024-02-08T09:20:27.460762",
     "exception": false,
     "start_time": "2024-02-08T09:20:27.441185",
     "status": "completed"
    },
    "tags": []
   },
   "outputs": [],
   "source": [
    "from bnlp import CleanText\n",
    "\n",
    "clean_text = CleanText(\n",
    "   fix_unicode=True,\n",
    "   unicode_norm=True,\n",
    "   unicode_norm_form=\"NFKC\",\n",
    "   remove_url=False,\n",
    "   remove_email=False,\n",
    "   remove_emoji=False,\n",
    "   remove_number=False,\n",
    "   remove_digits=False,\n",
    "   remove_punct=False,\n",
    "   replace_with_url=\"<URL>\",\n",
    "   replace_with_email=\"<EMAIL>\",\n",
    "   replace_with_number=\"<NUMBER>\",\n",
    "   replace_with_digit=\"<DIGIT>\",\n",
    "   replace_with_punct = \"<PUNC>\"\n",
    ")\n"
   ]
  },
  {
   "cell_type": "code",
   "execution_count": null,
   "id": "5e534f6d",
   "metadata": {
    "execution": {
     "iopub.execute_input": "2024-02-08T09:20:27.486297Z",
     "iopub.status.busy": "2024-02-08T09:20:27.486021Z",
     "iopub.status.idle": "2024-02-08T09:20:30.388627Z",
     "shell.execute_reply": "2024-02-08T09:20:30.387828Z"
    },
    "papermill": {
     "duration": 2.917903,
     "end_time": "2024-02-08T09:20:30.390995",
     "exception": false,
     "start_time": "2024-02-08T09:20:27.473092",
     "status": "completed"
    },
    "tags": []
   },
   "outputs": [],
   "source": [
    "df_train['text'] = df_train['text'].apply(clean_text)"
   ]
  },
  {
   "cell_type": "code",
   "execution_count": null,
   "id": "81471bb6",
   "metadata": {
    "execution": {
     "iopub.execute_input": "2024-02-08T09:20:30.453513Z",
     "iopub.status.busy": "2024-02-08T09:20:30.453217Z",
     "iopub.status.idle": "2024-02-08T09:20:31.048670Z",
     "shell.execute_reply": "2024-02-08T09:20:31.047598Z"
    },
    "papermill": {
     "duration": 0.610827,
     "end_time": "2024-02-08T09:20:31.050842",
     "exception": false,
     "start_time": "2024-02-08T09:20:30.440015",
     "status": "completed"
    },
    "tags": []
   },
   "outputs": [],
   "source": [
    "# Initialize TF-IDF Vectorizer\n",
    "tfidf = TfidfVectorizer()\n",
    "\n",
    "# Fit and transform the text data\n",
    "tfidf_matrix = tfidf.fit_transform(df_train['text'])\n",
    "\n",
    "# Get feature names (words)\n",
    "feature_names = tfidf.get_feature_names_out()\n",
    "\n",
    "# Create a DataFrame of TF-IDF scores\n",
    "tfidf_df = pd.DataFrame(tfidf_matrix.toarray(), columns=feature_names)\n",
    "\n",
    "# Find mean TF-IDF score for each word across all documents\n",
    "word_scores = tfidf_df.mean(axis=0)\n",
    "\n",
    "# Set a threshold to identify less important words (adjust threshold as needed)\n",
    "threshold = 0.00004 # For example, you can set a threshold value\n",
    "\n",
    "# Get less important words based on threshold\n",
    "less_important_words = word_scores[word_scores < threshold]\n",
    "\n",
    "# Display words that will be removed\n",
    "print(\"Less important words:\")\n",
    "print(less_important_words)"
   ]
  },
  {
   "cell_type": "code",
   "execution_count": null,
   "id": "3e630a1f",
   "metadata": {
    "execution": {
     "iopub.execute_input": "2024-02-08T09:20:31.079238Z",
     "iopub.status.busy": "2024-02-08T09:20:31.078919Z",
     "iopub.status.idle": "2024-02-08T09:20:31.083599Z",
     "shell.execute_reply": "2024-02-08T09:20:31.082824Z"
    },
    "papermill": {
     "duration": 0.020565,
     "end_time": "2024-02-08T09:20:31.085482",
     "exception": false,
     "start_time": "2024-02-08T09:20:31.064917",
     "status": "completed"
    },
    "tags": []
   },
   "outputs": [],
   "source": [
    "# Function to remove less important words\n",
    "def remove_less_important_words(text):\n",
    "    words = text.split()\n",
    "    filtered_words = [word for word in words if word not in less_important_words]\n",
    "    return ' '.join(filtered_words)\n"
   ]
  },
  {
   "cell_type": "code",
   "execution_count": null,
   "id": "48dfc65f",
   "metadata": {
    "execution": {
     "iopub.execute_input": "2024-02-08T09:20:31.112779Z",
     "iopub.status.busy": "2024-02-08T09:20:31.112482Z",
     "iopub.status.idle": "2024-02-08T09:20:31.809884Z",
     "shell.execute_reply": "2024-02-08T09:20:31.808820Z"
    },
    "papermill": {
     "duration": 0.713207,
     "end_time": "2024-02-08T09:20:31.812469",
     "exception": false,
     "start_time": "2024-02-08T09:20:31.099262",
     "status": "completed"
    },
    "tags": []
   },
   "outputs": [],
   "source": [
    "df_train['text'] = df_train['text'].apply(remove_less_important_words)"
   ]
  },
  {
   "cell_type": "code",
   "execution_count": null,
   "id": "3d0f099d",
   "metadata": {},
   "outputs": [],
   "source": [
    "longest_string = max(df_train[\"text\"], key=len)\n",
    "print(len(longest_string))"
   ]
  },
  {
   "cell_type": "code",
   "execution_count": null,
   "id": "9223142f",
   "metadata": {
    "execution": {
     "iopub.execute_input": "2024-02-08T09:20:31.840862Z",
     "iopub.status.busy": "2024-02-08T09:20:31.840078Z",
     "iopub.status.idle": "2024-02-08T09:20:31.844273Z",
     "shell.execute_reply": "2024-02-08T09:20:31.843220Z"
    },
    "papermill": {
     "duration": 0.020335,
     "end_time": "2024-02-08T09:20:31.846275",
     "exception": false,
     "start_time": "2024-02-08T09:20:31.825940",
     "status": "completed"
    },
    "tags": []
   },
   "outputs": [],
   "source": [
    "from sklearn.model_selection import train_test_split\n",
    "\n",
    "train_df, test_df = train_test_split(df_train, test_size=0.2,stratify=df_train['classes'],random_state=42)"
   ]
  },
  {
   "cell_type": "code",
   "execution_count": null,
   "id": "75772d74",
   "metadata": {
    "execution": {
     "iopub.execute_input": "2024-02-08T09:20:31.873883Z",
     "iopub.status.busy": "2024-02-08T09:20:31.873588Z",
     "iopub.status.idle": "2024-02-08T09:20:31.878702Z",
     "shell.execute_reply": "2024-02-08T09:20:31.877847Z"
    },
    "id": "SkHget_6VKIl",
    "papermill": {
     "duration": 0.020976,
     "end_time": "2024-02-08T09:20:31.880612",
     "exception": false,
     "start_time": "2024-02-08T09:20:31.859636",
     "status": "completed"
    },
    "tags": []
   },
   "outputs": [],
   "source": [
    "X_train  =  train_df['text'].values.tolist()\n",
    "y_train = train_df['classes'].tolist()"
   ]
  },
  {
   "cell_type": "code",
   "execution_count": null,
   "id": "8ef15686",
   "metadata": {
    "execution": {
     "iopub.execute_input": "2024-02-08T09:20:31.908468Z",
     "iopub.status.busy": "2024-02-08T09:20:31.907928Z",
     "iopub.status.idle": "2024-02-08T09:20:31.912569Z",
     "shell.execute_reply": "2024-02-08T09:20:31.911703Z"
    },
    "id": "oAFSbfrQVTDr",
    "papermill": {
     "duration": 0.020801,
     "end_time": "2024-02-08T09:20:31.914655",
     "exception": false,
     "start_time": "2024-02-08T09:20:31.893854",
     "status": "completed"
    },
    "tags": []
   },
   "outputs": [],
   "source": [
    "X_test =  test_df['text'].values.tolist()\n",
    "y_test = test_df['classes'].tolist()"
   ]
  },
  {
   "cell_type": "code",
   "execution_count": null,
   "id": "7fb69698",
   "metadata": {
    "execution": {
     "iopub.execute_input": "2024-02-08T09:20:31.942387Z",
     "iopub.status.busy": "2024-02-08T09:20:31.942059Z",
     "iopub.status.idle": "2024-02-08T09:21:14.659387Z",
     "shell.execute_reply": "2024-02-08T09:21:14.658121Z"
    },
    "papermill": {
     "duration": 42.734002,
     "end_time": "2024-02-08T09:21:14.661884",
     "exception": false,
     "start_time": "2024-02-08T09:20:31.927882",
     "status": "completed"
    },
    "tags": []
   },
   "outputs": [],
   "source": [
    "!pip install ktrain"
   ]
  },
  {
   "cell_type": "code",
   "execution_count": null,
   "id": "0a24ee02",
   "metadata": {
    "editable": true,
    "execution": {
     "iopub.execute_input": "2024-02-08T09:21:14.707247Z",
     "iopub.status.busy": "2024-02-08T09:21:14.706834Z",
     "iopub.status.idle": "2024-02-08T09:21:37.934809Z",
     "shell.execute_reply": "2024-02-08T09:21:37.934011Z"
    },
    "id": "fe9e61fb",
    "papermill": {
     "duration": 23.251317,
     "end_time": "2024-02-08T09:21:37.937042",
     "exception": false,
     "start_time": "2024-02-08T09:21:14.685725",
     "status": "completed"
    },
    "scrolled": true,
    "slideshow": {
     "slide_type": ""
    },
    "tags": []
   },
   "outputs": [],
   "source": [
    "import ktrain\n",
    "from ktrain import text\n",
    "MODEL_NAME = 'bert-base-multilingual-uncased'\n",
    "t = text.Transformer(MODEL_NAME, maxlen=500)"
   ]
  },
  {
   "cell_type": "code",
   "execution_count": null,
   "id": "2aa8de44",
   "metadata": {
    "execution": {
     "iopub.execute_input": "2024-02-08T09:21:37.977911Z",
     "iopub.status.busy": "2024-02-08T09:21:37.977584Z",
     "iopub.status.idle": "2024-02-08T09:21:44.030211Z",
     "shell.execute_reply": "2024-02-08T09:21:44.029316Z"
    },
    "id": "c269013f",
    "outputId": "cb456b25-48e5-4d5c-958b-2198c5418e05",
    "papermill": {
     "duration": 6.075365,
     "end_time": "2024-02-08T09:21:44.032316",
     "exception": false,
     "start_time": "2024-02-08T09:21:37.956951",
     "status": "completed"
    },
    "tags": []
   },
   "outputs": [],
   "source": [
    "trn = t.preprocess_train(X_train, y_train)\n",
    "val = t.preprocess_test(X_test, y_test)"
   ]
  },
  {
   "cell_type": "code",
   "execution_count": null,
   "id": "d3de708f",
   "metadata": {
    "execution": {
     "iopub.execute_input": "2024-02-08T09:21:44.075502Z",
     "iopub.status.busy": "2024-02-08T09:21:44.075165Z",
     "iopub.status.idle": "2024-02-08T09:21:44.079702Z",
     "shell.execute_reply": "2024-02-08T09:21:44.078835Z"
    },
    "papermill": {
     "duration": 0.028307,
     "end_time": "2024-02-08T09:21:44.081693",
     "exception": false,
     "start_time": "2024-02-08T09:21:44.053386",
     "status": "completed"
    },
    "tags": []
   },
   "outputs": [],
   "source": [
    "print(trn)"
   ]
  },
  {
   "cell_type": "code",
   "execution_count": null,
   "id": "d2129fac",
   "metadata": {
    "execution": {
     "iopub.execute_input": "2024-02-08T09:21:44.124653Z",
     "iopub.status.busy": "2024-02-08T09:21:44.124340Z",
     "iopub.status.idle": "2024-02-08T09:21:44.612998Z",
     "shell.execute_reply": "2024-02-08T09:21:44.612138Z"
    },
    "papermill": {
     "duration": 0.512684,
     "end_time": "2024-02-08T09:21:44.615065",
     "exception": false,
     "start_time": "2024-02-08T09:21:44.102381",
     "status": "completed"
    },
    "tags": []
   },
   "outputs": [],
   "source": [
    "import matplotlib.pyplot as plt\n",
    "\n",
    "# Calculate token lengths for train and test datasets\n",
    "train_token_lengths = [len(t.split()) for t in X_train]\n",
    "test_token_lengths = [len(t.split()) for t in X_test]\n",
    "\n",
    "# Plot token length distribution\n",
    "plt.figure(figsize=(10, 6))\n",
    "plt.hist(train_token_lengths, bins=50, alpha=0.5, color='blue', label='Train')\n",
    "plt.hist(test_token_lengths, bins=50, alpha=0.5, color='orange', label='Test')\n",
    "plt.xlabel('Token Length')\n",
    "plt.ylabel('Frequency')\n",
    "plt.title('Token Length Distribution')\n",
    "plt.legend()\n",
    "plt.show()"
   ]
  },
  {
   "cell_type": "code",
   "execution_count": null,
   "id": "d4cc407b",
   "metadata": {
    "execution": {
     "iopub.execute_input": "2024-02-08T09:21:44.659145Z",
     "iopub.status.busy": "2024-02-08T09:21:44.658844Z",
     "iopub.status.idle": "2024-02-08T09:21:46.394602Z",
     "shell.execute_reply": "2024-02-08T09:21:46.393837Z"
    },
    "id": "69d54231",
    "papermill": {
     "duration": 1.760415,
     "end_time": "2024-02-08T09:21:46.397012",
     "exception": false,
     "start_time": "2024-02-08T09:21:44.636597",
     "status": "completed"
    },
    "scrolled": true,
    "tags": []
   },
   "outputs": [],
   "source": [
    "model = t.get_classifier()"
   ]
  },
  {
   "cell_type": "code",
   "execution_count": null,
   "id": "3b03b8c2",
   "metadata": {
    "execution": {
     "iopub.execute_input": "2024-02-08T09:21:46.441851Z",
     "iopub.status.busy": "2024-02-08T09:21:46.441253Z",
     "iopub.status.idle": "2024-02-08T09:21:47.405224Z",
     "shell.execute_reply": "2024-02-08T09:21:47.404375Z"
    },
    "id": "7070ffb4",
    "papermill": {
     "duration": 0.988976,
     "end_time": "2024-02-08T09:21:47.407642",
     "exception": false,
     "start_time": "2024-02-08T09:21:46.418666",
     "status": "completed"
    },
    "tags": []
   },
   "outputs": [],
   "source": [
    "learner = ktrain.get_learner(model, train_data=trn, val_data=val, batch_size=8)"
   ]
  },
  {
   "cell_type": "code",
   "execution_count": null,
   "id": "42b61b46",
   "metadata": {
    "execution": {
     "iopub.execute_input": "2024-02-08T09:21:47.502667Z",
     "iopub.status.busy": "2024-02-08T09:21:47.501702Z",
     "iopub.status.idle": "2024-02-08T09:21:47.507264Z",
     "shell.execute_reply": "2024-02-08T09:21:47.506498Z"
    },
    "papermill": {
     "duration": 0.078907,
     "end_time": "2024-02-08T09:21:47.509065",
     "exception": false,
     "start_time": "2024-02-08T09:21:47.430158",
     "status": "completed"
    },
    "tags": []
   },
   "outputs": [],
   "source": [
    "# Adding early stopping callback from TensorFlow\n",
    "from tensorflow.keras.callbacks import EarlyStopping\n",
    "early_stopping = EarlyStopping(monitor='accuracy', patience=5, mode='auto')"
   ]
  },
  {
   "cell_type": "code",
   "execution_count": null,
   "id": "7fe10d7f",
   "metadata": {
    "execution": {
     "iopub.execute_input": "2024-02-08T09:21:47.553466Z",
     "iopub.status.busy": "2024-02-08T09:21:47.553172Z",
     "iopub.status.idle": "2024-02-08T11:49:40.660607Z",
     "shell.execute_reply": "2024-02-08T11:49:40.659623Z"
    },
    "id": "e1e76e69",
    "outputId": "cec6ddcd-1ab2-4f18-a9ad-d4cd29195423",
    "papermill": {
     "duration": 8873.131731,
     "end_time": "2024-02-08T11:49:40.662745",
     "exception": false,
     "start_time": "2024-02-08T09:21:47.531014",
     "status": "completed"
    },
    "tags": []
   },
   "outputs": [],
   "source": [
    "history = learner.fit_onecycle(2e-5, 10,callbacks=[early_stopping])"
   ]
  },
  {
   "cell_type": "code",
   "execution_count": null,
   "id": "a8c3300a",
   "metadata": {
    "execution": {
     "iopub.execute_input": "2024-02-08T11:49:43.336271Z",
     "iopub.status.busy": "2024-02-08T11:49:43.335515Z",
     "iopub.status.idle": "2024-02-08T11:49:44.481404Z",
     "shell.execute_reply": "2024-02-08T11:49:44.480333Z"
    },
    "papermill": {
     "duration": 2.486887,
     "end_time": "2024-02-08T11:49:44.483750",
     "exception": false,
     "start_time": "2024-02-08T11:49:41.996863",
     "status": "completed"
    },
    "tags": []
   },
   "outputs": [],
   "source": [
    "# Save the trained model\n",
    "learner.save_model('/kaggle/output/bemoc.zip')"
   ]
  },
  {
   "cell_type": "code",
   "execution_count": null,
   "id": "c014ffe7",
   "metadata": {
    "execution": {
     "iopub.execute_input": "2024-02-08T11:49:47.112727Z",
     "iopub.status.busy": "2024-02-08T11:49:47.112357Z",
     "iopub.status.idle": "2024-02-08T11:49:47.116968Z",
     "shell.execute_reply": "2024-02-08T11:49:47.115990Z"
    },
    "papermill": {
     "duration": 1.345648,
     "end_time": "2024-02-08T11:49:47.119055",
     "exception": false,
     "start_time": "2024-02-08T11:49:45.773407",
     "status": "completed"
    },
    "tags": []
   },
   "outputs": [],
   "source": [
    "classes=t.get_classes()"
   ]
  },
  {
   "cell_type": "code",
   "execution_count": null,
   "id": "ceb1ca44",
   "metadata": {
    "execution": {
     "iopub.execute_input": "2024-02-08T11:49:49.712693Z",
     "iopub.status.busy": "2024-02-08T11:49:49.711843Z",
     "iopub.status.idle": "2024-02-08T11:49:58.992862Z",
     "shell.execute_reply": "2024-02-08T11:49:58.991641Z"
    },
    "id": "2088a523",
    "papermill": {
     "duration": 10.546833,
     "end_time": "2024-02-08T11:49:58.994883",
     "exception": false,
     "start_time": "2024-02-08T11:49:48.448050",
     "status": "completed"
    },
    "tags": []
   },
   "outputs": [],
   "source": [
    "cm = learner.validate(class_names=t.get_classes())"
   ]
  },
  {
   "cell_type": "code",
   "execution_count": null,
   "id": "6c0583e9",
   "metadata": {
    "execution": {
     "iopub.execute_input": "2024-02-08T11:50:01.630244Z",
     "iopub.status.busy": "2024-02-08T11:50:01.629861Z",
     "iopub.status.idle": "2024-02-08T11:50:01.636398Z",
     "shell.execute_reply": "2024-02-08T11:50:01.635563Z"
    },
    "papermill": {
     "duration": 1.296145,
     "end_time": "2024-02-08T11:50:01.638206",
     "exception": false,
     "start_time": "2024-02-08T11:50:00.342061",
     "status": "completed"
    },
    "tags": []
   },
   "outputs": [],
   "source": [
    "import os\n",
    "import subprocess\n",
    "from IPython.display import FileLink, display\n",
    "\n",
    "def download_file(path, download_file_name):\n",
    "    os.chdir('/kaggle/working/')\n",
    "    zip_name = f\"/kaggle/working/{download_file_name}.zip\"\n",
    "    command = f\"zip {zip_name} {path} -r\"\n",
    "    result = subprocess.run(command, shell=True, capture_output=True, text=True)\n",
    "    if result.returncode != 0:\n",
    "        print(\"Unable to run zip command!\")\n",
    "        print(result.stderr)\n",
    "        return\n",
    "    display(FileLink(f'{download_file_name}.zip'))"
   ]
  },
  {
   "cell_type": "code",
   "execution_count": null,
   "id": "ef3976f0",
   "metadata": {
    "execution": {
     "iopub.execute_input": "2024-02-08T11:50:04.231984Z",
     "iopub.status.busy": "2024-02-08T11:50:04.231586Z",
     "iopub.status.idle": "2024-02-08T11:50:05.227141Z",
     "shell.execute_reply": "2024-02-08T11:50:05.226021Z"
    },
    "papermill": {
     "duration": 2.259742,
     "end_time": "2024-02-08T11:50:05.229339",
     "exception": false,
     "start_time": "2024-02-08T11:50:02.969597",
     "status": "completed"
    },
    "tags": []
   },
   "outputs": [],
   "source": [
    "!zip -r mental.zip /kaggle/output/mental-health-rand"
   ]
  },
  {
   "cell_type": "code",
   "execution_count": null,
   "id": "8cc4ba5e",
   "metadata": {
    "execution": {
     "iopub.execute_input": "2024-02-08T11:50:07.902836Z",
     "iopub.status.busy": "2024-02-08T11:50:07.901969Z",
     "iopub.status.idle": "2024-02-08T11:50:08.898189Z",
     "shell.execute_reply": "2024-02-08T11:50:08.897026Z"
    },
    "papermill": {
     "duration": 2.341538,
     "end_time": "2024-02-08T11:50:08.900290",
     "exception": false,
     "start_time": "2024-02-08T11:50:06.558752",
     "status": "completed"
    },
    "tags": []
   },
   "outputs": [],
   "source": [
    "!ls"
   ]
  },
  {
   "cell_type": "code",
   "execution_count": null,
   "id": "a646c00b",
   "metadata": {
    "execution": {
     "iopub.execute_input": "2024-02-08T11:50:11.450430Z",
     "iopub.status.busy": "2024-02-08T11:50:11.449564Z",
     "iopub.status.idle": "2024-02-08T11:50:11.454182Z",
     "shell.execute_reply": "2024-02-08T11:50:11.453294Z"
    },
    "papermill": {
     "duration": 1.298548,
     "end_time": "2024-02-08T11:50:11.456139",
     "exception": false,
     "start_time": "2024-02-08T11:50:10.157591",
     "status": "completed"
    },
    "tags": []
   },
   "outputs": [],
   "source": [
    "# from IPython.display import FileLink\n",
    "# FileLink(r'/kaggle/working/mental-health-rand.zip')"
   ]
  },
  {
   "cell_type": "code",
   "execution_count": null,
   "id": "13422873",
   "metadata": {
    "execution": {
     "iopub.execute_input": "2024-02-08T11:50:14.048989Z",
     "iopub.status.busy": "2024-02-08T11:50:14.048223Z",
     "iopub.status.idle": "2024-02-08T11:50:14.052701Z",
     "shell.execute_reply": "2024-02-08T11:50:14.051843Z"
    },
    "id": "6R25zoclH47g",
    "papermill": {
     "duration": 1.265923,
     "end_time": "2024-02-08T11:50:14.054624",
     "exception": false,
     "start_time": "2024-02-08T11:50:12.788701",
     "status": "completed"
    },
    "tags": []
   },
   "outputs": [],
   "source": [
    "# df_cm = pd.DataFrame(cm, index=[\"Anxiety\",\"Bipolar\",\"Borderline Personality\", \"Depression \", \"Schizophernia\",\"Suidal Thought\",\"neutral\",\n",
    "#                                 \"Alcoholism\",\"Addiction\",\"Aspergers\",\"SelfHarm \"],\n",
    "#                      columns=[\"Anxiety\",\"Bipolar\",\"Borderline Personality\", \"Depression \", \"Schizophernia\",\"Suidal Thought\",\"neutral\",\n",
    "#                                 \"Alcoholism\",\"Addiction\",\"Aspergers\",\"SelfHarm \"])\n",
    "# plt.figure(figsize = (10,7))\n",
    "# sns.heatmap(df_cm,annot=True, fmt =\"d\")"
   ]
  },
  {
   "cell_type": "code",
   "execution_count": null,
   "id": "e1df023b",
   "metadata": {
    "id": "RjxJrO1JZfNt",
    "papermill": {
     "duration": 1.332055,
     "end_time": "2024-02-08T11:50:16.716389",
     "exception": false,
     "start_time": "2024-02-08T11:50:15.384334",
     "status": "completed"
    },
    "tags": []
   },
   "outputs": [],
   "source": []
  }
 ],
 "metadata": {
  "kaggle": {
   "accelerator": "gpu",
   "dataSources": [
    {
     "datasetId": 4414268,
     "sourceId": 7583062,
     "sourceType": "datasetVersion"
    }
   ],
   "dockerImageVersionId": 30648,
   "isGpuEnabled": true,
   "isInternetEnabled": true,
   "language": "python",
   "sourceType": "notebook"
  },
  "kernelspec": {
   "display_name": "Python 3",
   "language": "python",
   "name": "python3"
  },
  "language_info": {
   "codemirror_mode": {
    "name": "ipython",
    "version": 3
   },
   "file_extension": ".py",
   "mimetype": "text/x-python",
   "name": "python",
   "nbconvert_exporter": "python",
   "pygments_lexer": "ipython3",
   "version": "3.9.17"
  },
  "papermill": {
   "default_parameters": {},
   "duration": 9028.441752,
   "end_time": "2024-02-08T11:50:20.753648",
   "environment_variables": {},
   "exception": null,
   "input_path": "__notebook__.ipynb",
   "output_path": "__notebook__.ipynb",
   "parameters": {},
   "start_time": "2024-02-08T09:19:52.311896",
   "version": "2.5.0"
  },
  "widgets": {
   "application/vnd.jupyter.widget-state+json": {
    "state": {
     "063515601b25485491cbcd86bb25d304": {
      "model_module": "@jupyter-widgets/controls",
      "model_module_version": "1.5.0",
      "model_name": "ProgressStyleModel",
      "state": {
       "_model_module": "@jupyter-widgets/controls",
       "_model_module_version": "1.5.0",
       "_model_name": "ProgressStyleModel",
       "_view_count": null,
       "_view_module": "@jupyter-widgets/base",
       "_view_module_version": "1.2.0",
       "_view_name": "StyleView",
       "bar_color": null,
       "description_width": ""
      }
     },
     "0f40de7fc33244f19fdd236d1b46d90b": {
      "model_module": "@jupyter-widgets/base",
      "model_module_version": "1.2.0",
      "model_name": "LayoutModel",
      "state": {
       "_model_module": "@jupyter-widgets/base",
       "_model_module_version": "1.2.0",
       "_model_name": "LayoutModel",
       "_view_count": null,
       "_view_module": "@jupyter-widgets/base",
       "_view_module_version": "1.2.0",
       "_view_name": "LayoutView",
       "align_content": null,
       "align_items": null,
       "align_self": null,
       "border": null,
       "bottom": null,
       "display": null,
       "flex": null,
       "flex_flow": null,
       "grid_area": null,
       "grid_auto_columns": null,
       "grid_auto_flow": null,
       "grid_auto_rows": null,
       "grid_column": null,
       "grid_gap": null,
       "grid_row": null,
       "grid_template_areas": null,
       "grid_template_columns": null,
       "grid_template_rows": null,
       "height": null,
       "justify_content": null,
       "justify_items": null,
       "left": null,
       "margin": null,
       "max_height": null,
       "max_width": null,
       "min_height": null,
       "min_width": null,
       "object_fit": null,
       "object_position": null,
       "order": null,
       "overflow": null,
       "overflow_x": null,
       "overflow_y": null,
       "padding": null,
       "right": null,
       "top": null,
       "visibility": null,
       "width": null
      }
     },
     "116505aa2c5c4448b279295e4d5887da": {
      "model_module": "@jupyter-widgets/base",
      "model_module_version": "1.2.0",
      "model_name": "LayoutModel",
      "state": {
       "_model_module": "@jupyter-widgets/base",
       "_model_module_version": "1.2.0",
       "_model_name": "LayoutModel",
       "_view_count": null,
       "_view_module": "@jupyter-widgets/base",
       "_view_module_version": "1.2.0",
       "_view_name": "LayoutView",
       "align_content": null,
       "align_items": null,
       "align_self": null,
       "border": null,
       "bottom": null,
       "display": null,
       "flex": null,
       "flex_flow": null,
       "grid_area": null,
       "grid_auto_columns": null,
       "grid_auto_flow": null,
       "grid_auto_rows": null,
       "grid_column": null,
       "grid_gap": null,
       "grid_row": null,
       "grid_template_areas": null,
       "grid_template_columns": null,
       "grid_template_rows": null,
       "height": null,
       "justify_content": null,
       "justify_items": null,
       "left": null,
       "margin": null,
       "max_height": null,
       "max_width": null,
       "min_height": null,
       "min_width": null,
       "object_fit": null,
       "object_position": null,
       "order": null,
       "overflow": null,
       "overflow_x": null,
       "overflow_y": null,
       "padding": null,
       "right": null,
       "top": null,
       "visibility": null,
       "width": null
      }
     },
     "1a26d04c6c4a4e6aacd4472278510dda": {
      "model_module": "@jupyter-widgets/controls",
      "model_module_version": "1.5.0",
      "model_name": "FloatProgressModel",
      "state": {
       "_dom_classes": [],
       "_model_module": "@jupyter-widgets/controls",
       "_model_module_version": "1.5.0",
       "_model_name": "FloatProgressModel",
       "_view_count": null,
       "_view_module": "@jupyter-widgets/controls",
       "_view_module_version": "1.5.0",
       "_view_name": "ProgressView",
       "bar_style": "success",
       "description": "",
       "description_tooltip": null,
       "layout": "IPY_MODEL_a5cb9349ffb840ac95efa4dc175f64f9",
       "max": 119,
       "min": 0,
       "orientation": "horizontal",
       "style": "IPY_MODEL_063515601b25485491cbcd86bb25d304",
       "value": 119
      }
     },
     "21d22e4c73774623afef08feb1f425f4": {
      "model_module": "@jupyter-widgets/base",
      "model_module_version": "1.2.0",
      "model_name": "LayoutModel",
      "state": {
       "_model_module": "@jupyter-widgets/base",
       "_model_module_version": "1.2.0",
       "_model_name": "LayoutModel",
       "_view_count": null,
       "_view_module": "@jupyter-widgets/base",
       "_view_module_version": "1.2.0",
       "_view_name": "LayoutView",
       "align_content": null,
       "align_items": null,
       "align_self": null,
       "border": null,
       "bottom": null,
       "display": null,
       "flex": null,
       "flex_flow": null,
       "grid_area": null,
       "grid_auto_columns": null,
       "grid_auto_flow": null,
       "grid_auto_rows": null,
       "grid_column": null,
       "grid_gap": null,
       "grid_row": null,
       "grid_template_areas": null,
       "grid_template_columns": null,
       "grid_template_rows": null,
       "height": null,
       "justify_content": null,
       "justify_items": null,
       "left": null,
       "margin": null,
       "max_height": null,
       "max_width": null,
       "min_height": null,
       "min_width": null,
       "object_fit": null,
       "object_position": null,
       "order": null,
       "overflow": null,
       "overflow_x": null,
       "overflow_y": null,
       "padding": null,
       "right": null,
       "top": null,
       "visibility": null,
       "width": null
      }
     },
     "2637584738e64ff19d4c8d82b7918f0e": {
      "model_module": "@jupyter-widgets/base",
      "model_module_version": "1.2.0",
      "model_name": "LayoutModel",
      "state": {
       "_model_module": "@jupyter-widgets/base",
       "_model_module_version": "1.2.0",
       "_model_name": "LayoutModel",
       "_view_count": null,
       "_view_module": "@jupyter-widgets/base",
       "_view_module_version": "1.2.0",
       "_view_name": "LayoutView",
       "align_content": null,
       "align_items": null,
       "align_self": null,
       "border": null,
       "bottom": null,
       "display": null,
       "flex": null,
       "flex_flow": null,
       "grid_area": null,
       "grid_auto_columns": null,
       "grid_auto_flow": null,
       "grid_auto_rows": null,
       "grid_column": null,
       "grid_gap": null,
       "grid_row": null,
       "grid_template_areas": null,
       "grid_template_columns": null,
       "grid_template_rows": null,
       "height": null,
       "justify_content": null,
       "justify_items": null,
       "left": null,
       "margin": null,
       "max_height": null,
       "max_width": null,
       "min_height": null,
       "min_width": null,
       "object_fit": null,
       "object_position": null,
       "order": null,
       "overflow": null,
       "overflow_x": null,
       "overflow_y": null,
       "padding": null,
       "right": null,
       "top": null,
       "visibility": null,
       "width": null
      }
     },
     "26c76cffeb764606bbf0f7783368f6e6": {
      "model_module": "@jupyter-widgets/controls",
      "model_module_version": "1.5.0",
      "model_name": "HTMLModel",
      "state": {
       "_dom_classes": [],
       "_model_module": "@jupyter-widgets/controls",
       "_model_module_version": "1.5.0",
       "_model_name": "HTMLModel",
       "_view_count": null,
       "_view_module": "@jupyter-widgets/controls",
       "_view_module_version": "1.5.0",
       "_view_name": "HTMLView",
       "description": "",
       "description_tooltip": null,
       "layout": "IPY_MODEL_d549e00fe052421ca05e34d0085f9d38",
       "placeholder": "​",
       "style": "IPY_MODEL_ae4d14249474477aa5a3113dc907e28d",
       "value": "tokenizer_config.json: 100%"
      }
     },
     "314110977b4b40fa829c327a00f5b331": {
      "model_module": "@jupyter-widgets/controls",
      "model_module_version": "1.5.0",
      "model_name": "DescriptionStyleModel",
      "state": {
       "_model_module": "@jupyter-widgets/controls",
       "_model_module_version": "1.5.0",
       "_model_name": "DescriptionStyleModel",
       "_view_count": null,
       "_view_module": "@jupyter-widgets/base",
       "_view_module_version": "1.2.0",
       "_view_name": "StyleView",
       "description_width": ""
      }
     },
     "3fabf6b364294432bf06b2c5d4b0ba9b": {
      "model_module": "@jupyter-widgets/base",
      "model_module_version": "1.2.0",
      "model_name": "LayoutModel",
      "state": {
       "_model_module": "@jupyter-widgets/base",
       "_model_module_version": "1.2.0",
       "_model_name": "LayoutModel",
       "_view_count": null,
       "_view_module": "@jupyter-widgets/base",
       "_view_module_version": "1.2.0",
       "_view_name": "LayoutView",
       "align_content": null,
       "align_items": null,
       "align_self": null,
       "border": null,
       "bottom": null,
       "display": null,
       "flex": null,
       "flex_flow": null,
       "grid_area": null,
       "grid_auto_columns": null,
       "grid_auto_flow": null,
       "grid_auto_rows": null,
       "grid_column": null,
       "grid_gap": null,
       "grid_row": null,
       "grid_template_areas": null,
       "grid_template_columns": null,
       "grid_template_rows": null,
       "height": null,
       "justify_content": null,
       "justify_items": null,
       "left": null,
       "margin": null,
       "max_height": null,
       "max_width": null,
       "min_height": null,
       "min_width": null,
       "object_fit": null,
       "object_position": null,
       "order": null,
       "overflow": null,
       "overflow_x": null,
       "overflow_y": null,
       "padding": null,
       "right": null,
       "top": null,
       "visibility": null,
       "width": null
      }
     },
     "48f4fff8047d43a7a46e9f99c54bf227": {
      "model_module": "@jupyter-widgets/controls",
      "model_module_version": "1.5.0",
      "model_name": "HTMLModel",
      "state": {
       "_dom_classes": [],
       "_model_module": "@jupyter-widgets/controls",
       "_model_module_version": "1.5.0",
       "_model_name": "HTMLModel",
       "_view_count": null,
       "_view_module": "@jupyter-widgets/controls",
       "_view_module_version": "1.5.0",
       "_view_name": "HTMLView",
       "description": "",
       "description_tooltip": null,
       "layout": "IPY_MODEL_116505aa2c5c4448b279295e4d5887da",
       "placeholder": "​",
       "style": "IPY_MODEL_93768218180546969a65b26ba4a49a4c",
       "value": "pytorch_model.bin: 100%"
      }
     },
     "48f5d3e524274bb2b369670de1361af7": {
      "model_module": "@jupyter-widgets/base",
      "model_module_version": "1.2.0",
      "model_name": "LayoutModel",
      "state": {
       "_model_module": "@jupyter-widgets/base",
       "_model_module_version": "1.2.0",
       "_model_name": "LayoutModel",
       "_view_count": null,
       "_view_module": "@jupyter-widgets/base",
       "_view_module_version": "1.2.0",
       "_view_name": "LayoutView",
       "align_content": null,
       "align_items": null,
       "align_self": null,
       "border": null,
       "bottom": null,
       "display": null,
       "flex": null,
       "flex_flow": null,
       "grid_area": null,
       "grid_auto_columns": null,
       "grid_auto_flow": null,
       "grid_auto_rows": null,
       "grid_column": null,
       "grid_gap": null,
       "grid_row": null,
       "grid_template_areas": null,
       "grid_template_columns": null,
       "grid_template_rows": null,
       "height": null,
       "justify_content": null,
       "justify_items": null,
       "left": null,
       "margin": null,
       "max_height": null,
       "max_width": null,
       "min_height": null,
       "min_width": null,
       "object_fit": null,
       "object_position": null,
       "order": null,
       "overflow": null,
       "overflow_x": null,
       "overflow_y": null,
       "padding": null,
       "right": null,
       "top": null,
       "visibility": null,
       "width": null
      }
     },
     "499016715570459d9affaa03cae1667f": {
      "model_module": "@jupyter-widgets/controls",
      "model_module_version": "1.5.0",
      "model_name": "HTMLModel",
      "state": {
       "_dom_classes": [],
       "_model_module": "@jupyter-widgets/controls",
       "_model_module_version": "1.5.0",
       "_model_name": "HTMLModel",
       "_view_count": null,
       "_view_module": "@jupyter-widgets/controls",
       "_view_module_version": "1.5.0",
       "_view_name": "HTMLView",
       "description": "",
       "description_tooltip": null,
       "layout": "IPY_MODEL_2637584738e64ff19d4c8d82b7918f0e",
       "placeholder": "​",
       "style": "IPY_MODEL_4d1173ae41554b58a2d2cca57b00db4d",
       "value": " 528k/528k [00:00&lt;00:00, 2.11MB/s]"
      }
     },
     "49e2ec71bc6d4d5a959dd32381fa8823": {
      "model_module": "@jupyter-widgets/controls",
      "model_module_version": "1.5.0",
      "model_name": "ProgressStyleModel",
      "state": {
       "_model_module": "@jupyter-widgets/controls",
       "_model_module_version": "1.5.0",
       "_model_name": "ProgressStyleModel",
       "_view_count": null,
       "_view_module": "@jupyter-widgets/base",
       "_view_module_version": "1.2.0",
       "_view_name": "StyleView",
       "bar_color": null,
       "description_width": ""
      }
     },
     "4a0b50be02b246be9436df7eee38e86c": {
      "model_module": "@jupyter-widgets/controls",
      "model_module_version": "1.5.0",
      "model_name": "HTMLModel",
      "state": {
       "_dom_classes": [],
       "_model_module": "@jupyter-widgets/controls",
       "_model_module_version": "1.5.0",
       "_model_name": "HTMLModel",
       "_view_count": null,
       "_view_module": "@jupyter-widgets/controls",
       "_view_module_version": "1.5.0",
       "_view_name": "HTMLView",
       "description": "",
       "description_tooltip": null,
       "layout": "IPY_MODEL_6e362dff4b86490e9b0443a45cad9ebc",
       "placeholder": "​",
       "style": "IPY_MODEL_5da0816245e947baab0cab662b789771",
       "value": " 586/586 [00:00&lt;00:00, 41.9kB/s]"
      }
     },
     "4a53c21f3ef74e3889fa71335a3588cf": {
      "model_module": "@jupyter-widgets/controls",
      "model_module_version": "1.5.0",
      "model_name": "HBoxModel",
      "state": {
       "_dom_classes": [],
       "_model_module": "@jupyter-widgets/controls",
       "_model_module_version": "1.5.0",
       "_model_name": "HBoxModel",
       "_view_count": null,
       "_view_module": "@jupyter-widgets/controls",
       "_view_module_version": "1.5.0",
       "_view_name": "HBoxView",
       "box_style": "",
       "children": [
        "IPY_MODEL_26c76cffeb764606bbf0f7783368f6e6",
        "IPY_MODEL_1a26d04c6c4a4e6aacd4472278510dda",
        "IPY_MODEL_b18575869c394295910b71dac8002421"
       ],
       "layout": "IPY_MODEL_aae1936b411948d3b71ac293e74c6970"
      }
     },
     "4aecfc9727b240b49dadc8ca7e0a7a1e": {
      "model_module": "@jupyter-widgets/controls",
      "model_module_version": "1.5.0",
      "model_name": "ProgressStyleModel",
      "state": {
       "_model_module": "@jupyter-widgets/controls",
       "_model_module_version": "1.5.0",
       "_model_name": "ProgressStyleModel",
       "_view_count": null,
       "_view_module": "@jupyter-widgets/base",
       "_view_module_version": "1.2.0",
       "_view_name": "StyleView",
       "bar_color": null,
       "description_width": ""
      }
     },
     "4c83e74b3f354a419980c435fd3ec547": {
      "model_module": "@jupyter-widgets/controls",
      "model_module_version": "1.5.0",
      "model_name": "DescriptionStyleModel",
      "state": {
       "_model_module": "@jupyter-widgets/controls",
       "_model_module_version": "1.5.0",
       "_model_name": "DescriptionStyleModel",
       "_view_count": null,
       "_view_module": "@jupyter-widgets/base",
       "_view_module_version": "1.2.0",
       "_view_name": "StyleView",
       "description_width": ""
      }
     },
     "4ce8ab2ae94e4cc48dcee937e9e8ba1f": {
      "model_module": "@jupyter-widgets/controls",
      "model_module_version": "1.5.0",
      "model_name": "DescriptionStyleModel",
      "state": {
       "_model_module": "@jupyter-widgets/controls",
       "_model_module_version": "1.5.0",
       "_model_name": "DescriptionStyleModel",
       "_view_count": null,
       "_view_module": "@jupyter-widgets/base",
       "_view_module_version": "1.2.0",
       "_view_name": "StyleView",
       "description_width": ""
      }
     },
     "4d1173ae41554b58a2d2cca57b00db4d": {
      "model_module": "@jupyter-widgets/controls",
      "model_module_version": "1.5.0",
      "model_name": "DescriptionStyleModel",
      "state": {
       "_model_module": "@jupyter-widgets/controls",
       "_model_module_version": "1.5.0",
       "_model_name": "DescriptionStyleModel",
       "_view_count": null,
       "_view_module": "@jupyter-widgets/base",
       "_view_module_version": "1.2.0",
       "_view_name": "StyleView",
       "description_width": ""
      }
     },
     "525eb45d25c84e0f934f03437fe31764": {
      "model_module": "@jupyter-widgets/base",
      "model_module_version": "1.2.0",
      "model_name": "LayoutModel",
      "state": {
       "_model_module": "@jupyter-widgets/base",
       "_model_module_version": "1.2.0",
       "_model_name": "LayoutModel",
       "_view_count": null,
       "_view_module": "@jupyter-widgets/base",
       "_view_module_version": "1.2.0",
       "_view_name": "LayoutView",
       "align_content": null,
       "align_items": null,
       "align_self": null,
       "border": null,
       "bottom": null,
       "display": null,
       "flex": null,
       "flex_flow": null,
       "grid_area": null,
       "grid_auto_columns": null,
       "grid_auto_flow": null,
       "grid_auto_rows": null,
       "grid_column": null,
       "grid_gap": null,
       "grid_row": null,
       "grid_template_areas": null,
       "grid_template_columns": null,
       "grid_template_rows": null,
       "height": null,
       "justify_content": null,
       "justify_items": null,
       "left": null,
       "margin": null,
       "max_height": null,
       "max_width": null,
       "min_height": null,
       "min_width": null,
       "object_fit": null,
       "object_position": null,
       "order": null,
       "overflow": null,
       "overflow_x": null,
       "overflow_y": null,
       "padding": null,
       "right": null,
       "top": null,
       "visibility": null,
       "width": null
      }
     },
     "5471c73ab67443c1a88845ea3715ee4f": {
      "model_module": "@jupyter-widgets/base",
      "model_module_version": "1.2.0",
      "model_name": "LayoutModel",
      "state": {
       "_model_module": "@jupyter-widgets/base",
       "_model_module_version": "1.2.0",
       "_model_name": "LayoutModel",
       "_view_count": null,
       "_view_module": "@jupyter-widgets/base",
       "_view_module_version": "1.2.0",
       "_view_name": "LayoutView",
       "align_content": null,
       "align_items": null,
       "align_self": null,
       "border": null,
       "bottom": null,
       "display": null,
       "flex": null,
       "flex_flow": null,
       "grid_area": null,
       "grid_auto_columns": null,
       "grid_auto_flow": null,
       "grid_auto_rows": null,
       "grid_column": null,
       "grid_gap": null,
       "grid_row": null,
       "grid_template_areas": null,
       "grid_template_columns": null,
       "grid_template_rows": null,
       "height": null,
       "justify_content": null,
       "justify_items": null,
       "left": null,
       "margin": null,
       "max_height": null,
       "max_width": null,
       "min_height": null,
       "min_width": null,
       "object_fit": null,
       "object_position": null,
       "order": null,
       "overflow": null,
       "overflow_x": null,
       "overflow_y": null,
       "padding": null,
       "right": null,
       "top": null,
       "visibility": null,
       "width": null
      }
     },
     "55b27e2739f84b67afe44f0d97c3c7d6": {
      "model_module": "@jupyter-widgets/base",
      "model_module_version": "1.2.0",
      "model_name": "LayoutModel",
      "state": {
       "_model_module": "@jupyter-widgets/base",
       "_model_module_version": "1.2.0",
       "_model_name": "LayoutModel",
       "_view_count": null,
       "_view_module": "@jupyter-widgets/base",
       "_view_module_version": "1.2.0",
       "_view_name": "LayoutView",
       "align_content": null,
       "align_items": null,
       "align_self": null,
       "border": null,
       "bottom": null,
       "display": null,
       "flex": null,
       "flex_flow": null,
       "grid_area": null,
       "grid_auto_columns": null,
       "grid_auto_flow": null,
       "grid_auto_rows": null,
       "grid_column": null,
       "grid_gap": null,
       "grid_row": null,
       "grid_template_areas": null,
       "grid_template_columns": null,
       "grid_template_rows": null,
       "height": null,
       "justify_content": null,
       "justify_items": null,
       "left": null,
       "margin": null,
       "max_height": null,
       "max_width": null,
       "min_height": null,
       "min_width": null,
       "object_fit": null,
       "object_position": null,
       "order": null,
       "overflow": null,
       "overflow_x": null,
       "overflow_y": null,
       "padding": null,
       "right": null,
       "top": null,
       "visibility": null,
       "width": null
      }
     },
     "5ae61a9e802743a6bbd547620983ed7e": {
      "model_module": "@jupyter-widgets/controls",
      "model_module_version": "1.5.0",
      "model_name": "ProgressStyleModel",
      "state": {
       "_model_module": "@jupyter-widgets/controls",
       "_model_module_version": "1.5.0",
       "_model_name": "ProgressStyleModel",
       "_view_count": null,
       "_view_module": "@jupyter-widgets/base",
       "_view_module_version": "1.2.0",
       "_view_name": "StyleView",
       "bar_color": null,
       "description_width": ""
      }
     },
     "5da0816245e947baab0cab662b789771": {
      "model_module": "@jupyter-widgets/controls",
      "model_module_version": "1.5.0",
      "model_name": "DescriptionStyleModel",
      "state": {
       "_model_module": "@jupyter-widgets/controls",
       "_model_module_version": "1.5.0",
       "_model_name": "DescriptionStyleModel",
       "_view_count": null,
       "_view_module": "@jupyter-widgets/base",
       "_view_module_version": "1.2.0",
       "_view_name": "StyleView",
       "description_width": ""
      }
     },
     "5f4a27d20a324b25bf08c7d5ee6ca258": {
      "model_module": "@jupyter-widgets/controls",
      "model_module_version": "1.5.0",
      "model_name": "HTMLModel",
      "state": {
       "_dom_classes": [],
       "_model_module": "@jupyter-widgets/controls",
       "_model_module_version": "1.5.0",
       "_model_name": "HTMLModel",
       "_view_count": null,
       "_view_module": "@jupyter-widgets/controls",
       "_view_module_version": "1.5.0",
       "_view_name": "HTMLView",
       "description": "",
       "description_tooltip": null,
       "layout": "IPY_MODEL_d898092396c141bb837f9319c175a685",
       "placeholder": "​",
       "style": "IPY_MODEL_314110977b4b40fa829c327a00f5b331",
       "value": "special_tokens_map.json: 100%"
      }
     },
     "62364751a9ae4852b6755801994fe1f8": {
      "model_module": "@jupyter-widgets/controls",
      "model_module_version": "1.5.0",
      "model_name": "HBoxModel",
      "state": {
       "_dom_classes": [],
       "_model_module": "@jupyter-widgets/controls",
       "_model_module_version": "1.5.0",
       "_model_name": "HBoxModel",
       "_view_count": null,
       "_view_module": "@jupyter-widgets/controls",
       "_view_module_version": "1.5.0",
       "_view_name": "HBoxView",
       "box_style": "",
       "children": [
        "IPY_MODEL_5f4a27d20a324b25bf08c7d5ee6ca258",
        "IPY_MODEL_cf1dde84ef7840c4817a98d8ecbbd802",
        "IPY_MODEL_b6372d1be4c74d1780d7280713d60aab"
       ],
       "layout": "IPY_MODEL_55b27e2739f84b67afe44f0d97c3c7d6"
      }
     },
     "678a5700ccbc4ecf886abddb4bb2ccb6": {
      "model_module": "@jupyter-widgets/base",
      "model_module_version": "1.2.0",
      "model_name": "LayoutModel",
      "state": {
       "_model_module": "@jupyter-widgets/base",
       "_model_module_version": "1.2.0",
       "_model_name": "LayoutModel",
       "_view_count": null,
       "_view_module": "@jupyter-widgets/base",
       "_view_module_version": "1.2.0",
       "_view_name": "LayoutView",
       "align_content": null,
       "align_items": null,
       "align_self": null,
       "border": null,
       "bottom": null,
       "display": null,
       "flex": null,
       "flex_flow": null,
       "grid_area": null,
       "grid_auto_columns": null,
       "grid_auto_flow": null,
       "grid_auto_rows": null,
       "grid_column": null,
       "grid_gap": null,
       "grid_row": null,
       "grid_template_areas": null,
       "grid_template_columns": null,
       "grid_template_rows": null,
       "height": null,
       "justify_content": null,
       "justify_items": null,
       "left": null,
       "margin": null,
       "max_height": null,
       "max_width": null,
       "min_height": null,
       "min_width": null,
       "object_fit": null,
       "object_position": null,
       "order": null,
       "overflow": null,
       "overflow_x": null,
       "overflow_y": null,
       "padding": null,
       "right": null,
       "top": null,
       "visibility": null,
       "width": null
      }
     },
     "6a038e1188db4defb6125060f1e3d766": {
      "model_module": "@jupyter-widgets/base",
      "model_module_version": "1.2.0",
      "model_name": "LayoutModel",
      "state": {
       "_model_module": "@jupyter-widgets/base",
       "_model_module_version": "1.2.0",
       "_model_name": "LayoutModel",
       "_view_count": null,
       "_view_module": "@jupyter-widgets/base",
       "_view_module_version": "1.2.0",
       "_view_name": "LayoutView",
       "align_content": null,
       "align_items": null,
       "align_self": null,
       "border": null,
       "bottom": null,
       "display": null,
       "flex": null,
       "flex_flow": null,
       "grid_area": null,
       "grid_auto_columns": null,
       "grid_auto_flow": null,
       "grid_auto_rows": null,
       "grid_column": null,
       "grid_gap": null,
       "grid_row": null,
       "grid_template_areas": null,
       "grid_template_columns": null,
       "grid_template_rows": null,
       "height": null,
       "justify_content": null,
       "justify_items": null,
       "left": null,
       "margin": null,
       "max_height": null,
       "max_width": null,
       "min_height": null,
       "min_width": null,
       "object_fit": null,
       "object_position": null,
       "order": null,
       "overflow": null,
       "overflow_x": null,
       "overflow_y": null,
       "padding": null,
       "right": null,
       "top": null,
       "visibility": null,
       "width": null
      }
     },
     "6a42a603356b461f9ee14914af768176": {
      "model_module": "@jupyter-widgets/controls",
      "model_module_version": "1.5.0",
      "model_name": "HTMLModel",
      "state": {
       "_dom_classes": [],
       "_model_module": "@jupyter-widgets/controls",
       "_model_module_version": "1.5.0",
       "_model_name": "HTMLModel",
       "_view_count": null,
       "_view_module": "@jupyter-widgets/controls",
       "_view_module_version": "1.5.0",
       "_view_name": "HTMLView",
       "description": "",
       "description_tooltip": null,
       "layout": "IPY_MODEL_3fabf6b364294432bf06b2c5d4b0ba9b",
       "placeholder": "​",
       "style": "IPY_MODEL_4ce8ab2ae94e4cc48dcee937e9e8ba1f",
       "value": " 443M/443M [00:01&lt;00:00, 345MB/s]"
      }
     },
     "6e362dff4b86490e9b0443a45cad9ebc": {
      "model_module": "@jupyter-widgets/base",
      "model_module_version": "1.2.0",
      "model_name": "LayoutModel",
      "state": {
       "_model_module": "@jupyter-widgets/base",
       "_model_module_version": "1.2.0",
       "_model_name": "LayoutModel",
       "_view_count": null,
       "_view_module": "@jupyter-widgets/base",
       "_view_module_version": "1.2.0",
       "_view_name": "LayoutView",
       "align_content": null,
       "align_items": null,
       "align_self": null,
       "border": null,
       "bottom": null,
       "display": null,
       "flex": null,
       "flex_flow": null,
       "grid_area": null,
       "grid_auto_columns": null,
       "grid_auto_flow": null,
       "grid_auto_rows": null,
       "grid_column": null,
       "grid_gap": null,
       "grid_row": null,
       "grid_template_areas": null,
       "grid_template_columns": null,
       "grid_template_rows": null,
       "height": null,
       "justify_content": null,
       "justify_items": null,
       "left": null,
       "margin": null,
       "max_height": null,
       "max_width": null,
       "min_height": null,
       "min_width": null,
       "object_fit": null,
       "object_position": null,
       "order": null,
       "overflow": null,
       "overflow_x": null,
       "overflow_y": null,
       "padding": null,
       "right": null,
       "top": null,
       "visibility": null,
       "width": null
      }
     },
     "73a3dba04c7741ff94eebb81dd31ea4b": {
      "model_module": "@jupyter-widgets/controls",
      "model_module_version": "1.5.0",
      "model_name": "FloatProgressModel",
      "state": {
       "_dom_classes": [],
       "_model_module": "@jupyter-widgets/controls",
       "_model_module_version": "1.5.0",
       "_model_name": "FloatProgressModel",
       "_view_count": null,
       "_view_module": "@jupyter-widgets/controls",
       "_view_module_version": "1.5.0",
       "_view_name": "ProgressView",
       "bar_style": "success",
       "description": "",
       "description_tooltip": null,
       "layout": "IPY_MODEL_0f40de7fc33244f19fdd236d1b46d90b",
       "max": 442560329,
       "min": 0,
       "orientation": "horizontal",
       "style": "IPY_MODEL_49e2ec71bc6d4d5a959dd32381fa8823",
       "value": 442560329
      }
     },
     "7d2f4707f03543a1bab406d2dcc9a744": {
      "model_module": "@jupyter-widgets/base",
      "model_module_version": "1.2.0",
      "model_name": "LayoutModel",
      "state": {
       "_model_module": "@jupyter-widgets/base",
       "_model_module_version": "1.2.0",
       "_model_name": "LayoutModel",
       "_view_count": null,
       "_view_module": "@jupyter-widgets/base",
       "_view_module_version": "1.2.0",
       "_view_name": "LayoutView",
       "align_content": null,
       "align_items": null,
       "align_self": null,
       "border": null,
       "bottom": null,
       "display": null,
       "flex": null,
       "flex_flow": null,
       "grid_area": null,
       "grid_auto_columns": null,
       "grid_auto_flow": null,
       "grid_auto_rows": null,
       "grid_column": null,
       "grid_gap": null,
       "grid_row": null,
       "grid_template_areas": null,
       "grid_template_columns": null,
       "grid_template_rows": null,
       "height": null,
       "justify_content": null,
       "justify_items": null,
       "left": null,
       "margin": null,
       "max_height": null,
       "max_width": null,
       "min_height": null,
       "min_width": null,
       "object_fit": null,
       "object_position": null,
       "order": null,
       "overflow": null,
       "overflow_x": null,
       "overflow_y": null,
       "padding": null,
       "right": null,
       "top": null,
       "visibility": null,
       "width": null
      }
     },
     "85fb785d2073484892cd29198e7bd7a6": {
      "model_module": "@jupyter-widgets/controls",
      "model_module_version": "1.5.0",
      "model_name": "ProgressStyleModel",
      "state": {
       "_model_module": "@jupyter-widgets/controls",
       "_model_module_version": "1.5.0",
       "_model_name": "ProgressStyleModel",
       "_view_count": null,
       "_view_module": "@jupyter-widgets/base",
       "_view_module_version": "1.2.0",
       "_view_name": "StyleView",
       "bar_color": null,
       "description_width": ""
      }
     },
     "884b3dbaeb894d6ca4b481c6bec53f5a": {
      "model_module": "@jupyter-widgets/base",
      "model_module_version": "1.2.0",
      "model_name": "LayoutModel",
      "state": {
       "_model_module": "@jupyter-widgets/base",
       "_model_module_version": "1.2.0",
       "_model_name": "LayoutModel",
       "_view_count": null,
       "_view_module": "@jupyter-widgets/base",
       "_view_module_version": "1.2.0",
       "_view_name": "LayoutView",
       "align_content": null,
       "align_items": null,
       "align_self": null,
       "border": null,
       "bottom": null,
       "display": null,
       "flex": null,
       "flex_flow": null,
       "grid_area": null,
       "grid_auto_columns": null,
       "grid_auto_flow": null,
       "grid_auto_rows": null,
       "grid_column": null,
       "grid_gap": null,
       "grid_row": null,
       "grid_template_areas": null,
       "grid_template_columns": null,
       "grid_template_rows": null,
       "height": null,
       "justify_content": null,
       "justify_items": null,
       "left": null,
       "margin": null,
       "max_height": null,
       "max_width": null,
       "min_height": null,
       "min_width": null,
       "object_fit": null,
       "object_position": null,
       "order": null,
       "overflow": null,
       "overflow_x": null,
       "overflow_y": null,
       "padding": null,
       "right": null,
       "top": null,
       "visibility": null,
       "width": null
      }
     },
     "93768218180546969a65b26ba4a49a4c": {
      "model_module": "@jupyter-widgets/controls",
      "model_module_version": "1.5.0",
      "model_name": "DescriptionStyleModel",
      "state": {
       "_model_module": "@jupyter-widgets/controls",
       "_model_module_version": "1.5.0",
       "_model_name": "DescriptionStyleModel",
       "_view_count": null,
       "_view_module": "@jupyter-widgets/base",
       "_view_module_version": "1.2.0",
       "_view_name": "StyleView",
       "description_width": ""
      }
     },
     "95c473172ec34b68bfbd2ffaa5ce2da0": {
      "model_module": "@jupyter-widgets/controls",
      "model_module_version": "1.5.0",
      "model_name": "FloatProgressModel",
      "state": {
       "_dom_classes": [],
       "_model_module": "@jupyter-widgets/controls",
       "_model_module_version": "1.5.0",
       "_model_name": "FloatProgressModel",
       "_view_count": null,
       "_view_module": "@jupyter-widgets/controls",
       "_view_module_version": "1.5.0",
       "_view_name": "ProgressView",
       "bar_style": "success",
       "description": "",
       "description_tooltip": null,
       "layout": "IPY_MODEL_678a5700ccbc4ecf886abddb4bb2ccb6",
       "max": 586,
       "min": 0,
       "orientation": "horizontal",
       "style": "IPY_MODEL_5ae61a9e802743a6bbd547620983ed7e",
       "value": 586
      }
     },
     "9d52f057abdc4cb88a006c2d9866543b": {
      "model_module": "@jupyter-widgets/controls",
      "model_module_version": "1.5.0",
      "model_name": "HTMLModel",
      "state": {
       "_dom_classes": [],
       "_model_module": "@jupyter-widgets/controls",
       "_model_module_version": "1.5.0",
       "_model_name": "HTMLModel",
       "_view_count": null,
       "_view_module": "@jupyter-widgets/controls",
       "_view_module_version": "1.5.0",
       "_view_name": "HTMLView",
       "description": "",
       "description_tooltip": null,
       "layout": "IPY_MODEL_525eb45d25c84e0f934f03437fe31764",
       "placeholder": "​",
       "style": "IPY_MODEL_dd3755f3a35042d2b3d24f7d56ca54bd",
       "value": "vocab.txt: 100%"
      }
     },
     "a5cb9349ffb840ac95efa4dc175f64f9": {
      "model_module": "@jupyter-widgets/base",
      "model_module_version": "1.2.0",
      "model_name": "LayoutModel",
      "state": {
       "_model_module": "@jupyter-widgets/base",
       "_model_module_version": "1.2.0",
       "_model_name": "LayoutModel",
       "_view_count": null,
       "_view_module": "@jupyter-widgets/base",
       "_view_module_version": "1.2.0",
       "_view_name": "LayoutView",
       "align_content": null,
       "align_items": null,
       "align_self": null,
       "border": null,
       "bottom": null,
       "display": null,
       "flex": null,
       "flex_flow": null,
       "grid_area": null,
       "grid_auto_columns": null,
       "grid_auto_flow": null,
       "grid_auto_rows": null,
       "grid_column": null,
       "grid_gap": null,
       "grid_row": null,
       "grid_template_areas": null,
       "grid_template_columns": null,
       "grid_template_rows": null,
       "height": null,
       "justify_content": null,
       "justify_items": null,
       "left": null,
       "margin": null,
       "max_height": null,
       "max_width": null,
       "min_height": null,
       "min_width": null,
       "object_fit": null,
       "object_position": null,
       "order": null,
       "overflow": null,
       "overflow_x": null,
       "overflow_y": null,
       "padding": null,
       "right": null,
       "top": null,
       "visibility": null,
       "width": null
      }
     },
     "aae1936b411948d3b71ac293e74c6970": {
      "model_module": "@jupyter-widgets/base",
      "model_module_version": "1.2.0",
      "model_name": "LayoutModel",
      "state": {
       "_model_module": "@jupyter-widgets/base",
       "_model_module_version": "1.2.0",
       "_model_name": "LayoutModel",
       "_view_count": null,
       "_view_module": "@jupyter-widgets/base",
       "_view_module_version": "1.2.0",
       "_view_name": "LayoutView",
       "align_content": null,
       "align_items": null,
       "align_self": null,
       "border": null,
       "bottom": null,
       "display": null,
       "flex": null,
       "flex_flow": null,
       "grid_area": null,
       "grid_auto_columns": null,
       "grid_auto_flow": null,
       "grid_auto_rows": null,
       "grid_column": null,
       "grid_gap": null,
       "grid_row": null,
       "grid_template_areas": null,
       "grid_template_columns": null,
       "grid_template_rows": null,
       "height": null,
       "justify_content": null,
       "justify_items": null,
       "left": null,
       "margin": null,
       "max_height": null,
       "max_width": null,
       "min_height": null,
       "min_width": null,
       "object_fit": null,
       "object_position": null,
       "order": null,
       "overflow": null,
       "overflow_x": null,
       "overflow_y": null,
       "padding": null,
       "right": null,
       "top": null,
       "visibility": null,
       "width": null
      }
     },
     "ae4d14249474477aa5a3113dc907e28d": {
      "model_module": "@jupyter-widgets/controls",
      "model_module_version": "1.5.0",
      "model_name": "DescriptionStyleModel",
      "state": {
       "_model_module": "@jupyter-widgets/controls",
       "_model_module_version": "1.5.0",
       "_model_name": "DescriptionStyleModel",
       "_view_count": null,
       "_view_module": "@jupyter-widgets/base",
       "_view_module_version": "1.2.0",
       "_view_name": "StyleView",
       "description_width": ""
      }
     },
     "b18575869c394295910b71dac8002421": {
      "model_module": "@jupyter-widgets/controls",
      "model_module_version": "1.5.0",
      "model_name": "HTMLModel",
      "state": {
       "_dom_classes": [],
       "_model_module": "@jupyter-widgets/controls",
       "_model_module_version": "1.5.0",
       "_model_name": "HTMLModel",
       "_view_count": null,
       "_view_module": "@jupyter-widgets/controls",
       "_view_module_version": "1.5.0",
       "_view_name": "HTMLView",
       "description": "",
       "description_tooltip": null,
       "layout": "IPY_MODEL_21d22e4c73774623afef08feb1f425f4",
       "placeholder": "​",
       "style": "IPY_MODEL_edc7d6cb4aa54a13b581cbba81a4b518",
       "value": " 119/119 [00:00&lt;00:00, 10.2kB/s]"
      }
     },
     "b6372d1be4c74d1780d7280713d60aab": {
      "model_module": "@jupyter-widgets/controls",
      "model_module_version": "1.5.0",
      "model_name": "HTMLModel",
      "state": {
       "_dom_classes": [],
       "_model_module": "@jupyter-widgets/controls",
       "_model_module_version": "1.5.0",
       "_model_name": "HTMLModel",
       "_view_count": null,
       "_view_module": "@jupyter-widgets/controls",
       "_view_module_version": "1.5.0",
       "_view_name": "HTMLView",
       "description": "",
       "description_tooltip": null,
       "layout": "IPY_MODEL_884b3dbaeb894d6ca4b481c6bec53f5a",
       "placeholder": "​",
       "style": "IPY_MODEL_e10c0f7f87a04d04a94f16e8cb49677f",
       "value": " 112/112 [00:00&lt;00:00, 10.0kB/s]"
      }
     },
     "c79a8fb95589431f9ca5a79662b81da4": {
      "model_module": "@jupyter-widgets/controls",
      "model_module_version": "1.5.0",
      "model_name": "HBoxModel",
      "state": {
       "_dom_classes": [],
       "_model_module": "@jupyter-widgets/controls",
       "_model_module_version": "1.5.0",
       "_model_name": "HBoxModel",
       "_view_count": null,
       "_view_module": "@jupyter-widgets/controls",
       "_view_module_version": "1.5.0",
       "_view_name": "HBoxView",
       "box_style": "",
       "children": [
        "IPY_MODEL_9d52f057abdc4cb88a006c2d9866543b",
        "IPY_MODEL_d70213bf75914d4a986a28f77b6f1c00",
        "IPY_MODEL_499016715570459d9affaa03cae1667f"
       ],
       "layout": "IPY_MODEL_f32789bef6a2436e8b3328c62db9f0cd"
      }
     },
     "cd358668fcec40ba8d3804bb79ee60e6": {
      "model_module": "@jupyter-widgets/controls",
      "model_module_version": "1.5.0",
      "model_name": "HBoxModel",
      "state": {
       "_dom_classes": [],
       "_model_module": "@jupyter-widgets/controls",
       "_model_module_version": "1.5.0",
       "_model_name": "HBoxModel",
       "_view_count": null,
       "_view_module": "@jupyter-widgets/controls",
       "_view_module_version": "1.5.0",
       "_view_name": "HBoxView",
       "box_style": "",
       "children": [
        "IPY_MODEL_48f4fff8047d43a7a46e9f99c54bf227",
        "IPY_MODEL_73a3dba04c7741ff94eebb81dd31ea4b",
        "IPY_MODEL_6a42a603356b461f9ee14914af768176"
       ],
       "layout": "IPY_MODEL_6a038e1188db4defb6125060f1e3d766"
      }
     },
     "ce914fda7b72414eba57077d6a98feaa": {
      "model_module": "@jupyter-widgets/controls",
      "model_module_version": "1.5.0",
      "model_name": "HTMLModel",
      "state": {
       "_dom_classes": [],
       "_model_module": "@jupyter-widgets/controls",
       "_model_module_version": "1.5.0",
       "_model_name": "HTMLModel",
       "_view_count": null,
       "_view_module": "@jupyter-widgets/controls",
       "_view_module_version": "1.5.0",
       "_view_name": "HTMLView",
       "description": "",
       "description_tooltip": null,
       "layout": "IPY_MODEL_7d2f4707f03543a1bab406d2dcc9a744",
       "placeholder": "​",
       "style": "IPY_MODEL_4c83e74b3f354a419980c435fd3ec547",
       "value": "config.json: 100%"
      }
     },
     "cf1dde84ef7840c4817a98d8ecbbd802": {
      "model_module": "@jupyter-widgets/controls",
      "model_module_version": "1.5.0",
      "model_name": "FloatProgressModel",
      "state": {
       "_dom_classes": [],
       "_model_module": "@jupyter-widgets/controls",
       "_model_module_version": "1.5.0",
       "_model_name": "FloatProgressModel",
       "_view_count": null,
       "_view_module": "@jupyter-widgets/controls",
       "_view_module_version": "1.5.0",
       "_view_name": "ProgressView",
       "bar_style": "success",
       "description": "",
       "description_tooltip": null,
       "layout": "IPY_MODEL_48f5d3e524274bb2b369670de1361af7",
       "max": 112,
       "min": 0,
       "orientation": "horizontal",
       "style": "IPY_MODEL_4aecfc9727b240b49dadc8ca7e0a7a1e",
       "value": 112
      }
     },
     "d549e00fe052421ca05e34d0085f9d38": {
      "model_module": "@jupyter-widgets/base",
      "model_module_version": "1.2.0",
      "model_name": "LayoutModel",
      "state": {
       "_model_module": "@jupyter-widgets/base",
       "_model_module_version": "1.2.0",
       "_model_name": "LayoutModel",
       "_view_count": null,
       "_view_module": "@jupyter-widgets/base",
       "_view_module_version": "1.2.0",
       "_view_name": "LayoutView",
       "align_content": null,
       "align_items": null,
       "align_self": null,
       "border": null,
       "bottom": null,
       "display": null,
       "flex": null,
       "flex_flow": null,
       "grid_area": null,
       "grid_auto_columns": null,
       "grid_auto_flow": null,
       "grid_auto_rows": null,
       "grid_column": null,
       "grid_gap": null,
       "grid_row": null,
       "grid_template_areas": null,
       "grid_template_columns": null,
       "grid_template_rows": null,
       "height": null,
       "justify_content": null,
       "justify_items": null,
       "left": null,
       "margin": null,
       "max_height": null,
       "max_width": null,
       "min_height": null,
       "min_width": null,
       "object_fit": null,
       "object_position": null,
       "order": null,
       "overflow": null,
       "overflow_x": null,
       "overflow_y": null,
       "padding": null,
       "right": null,
       "top": null,
       "visibility": null,
       "width": null
      }
     },
     "d70213bf75914d4a986a28f77b6f1c00": {
      "model_module": "@jupyter-widgets/controls",
      "model_module_version": "1.5.0",
      "model_name": "FloatProgressModel",
      "state": {
       "_dom_classes": [],
       "_model_module": "@jupyter-widgets/controls",
       "_model_module_version": "1.5.0",
       "_model_name": "FloatProgressModel",
       "_view_count": null,
       "_view_module": "@jupyter-widgets/controls",
       "_view_module_version": "1.5.0",
       "_view_name": "ProgressView",
       "bar_style": "success",
       "description": "",
       "description_tooltip": null,
       "layout": "IPY_MODEL_da15d47528d54aa887c4ddf6f2b4d3d1",
       "max": 528316,
       "min": 0,
       "orientation": "horizontal",
       "style": "IPY_MODEL_85fb785d2073484892cd29198e7bd7a6",
       "value": 528316
      }
     },
     "d898092396c141bb837f9319c175a685": {
      "model_module": "@jupyter-widgets/base",
      "model_module_version": "1.2.0",
      "model_name": "LayoutModel",
      "state": {
       "_model_module": "@jupyter-widgets/base",
       "_model_module_version": "1.2.0",
       "_model_name": "LayoutModel",
       "_view_count": null,
       "_view_module": "@jupyter-widgets/base",
       "_view_module_version": "1.2.0",
       "_view_name": "LayoutView",
       "align_content": null,
       "align_items": null,
       "align_self": null,
       "border": null,
       "bottom": null,
       "display": null,
       "flex": null,
       "flex_flow": null,
       "grid_area": null,
       "grid_auto_columns": null,
       "grid_auto_flow": null,
       "grid_auto_rows": null,
       "grid_column": null,
       "grid_gap": null,
       "grid_row": null,
       "grid_template_areas": null,
       "grid_template_columns": null,
       "grid_template_rows": null,
       "height": null,
       "justify_content": null,
       "justify_items": null,
       "left": null,
       "margin": null,
       "max_height": null,
       "max_width": null,
       "min_height": null,
       "min_width": null,
       "object_fit": null,
       "object_position": null,
       "order": null,
       "overflow": null,
       "overflow_x": null,
       "overflow_y": null,
       "padding": null,
       "right": null,
       "top": null,
       "visibility": null,
       "width": null
      }
     },
     "da15d47528d54aa887c4ddf6f2b4d3d1": {
      "model_module": "@jupyter-widgets/base",
      "model_module_version": "1.2.0",
      "model_name": "LayoutModel",
      "state": {
       "_model_module": "@jupyter-widgets/base",
       "_model_module_version": "1.2.0",
       "_model_name": "LayoutModel",
       "_view_count": null,
       "_view_module": "@jupyter-widgets/base",
       "_view_module_version": "1.2.0",
       "_view_name": "LayoutView",
       "align_content": null,
       "align_items": null,
       "align_self": null,
       "border": null,
       "bottom": null,
       "display": null,
       "flex": null,
       "flex_flow": null,
       "grid_area": null,
       "grid_auto_columns": null,
       "grid_auto_flow": null,
       "grid_auto_rows": null,
       "grid_column": null,
       "grid_gap": null,
       "grid_row": null,
       "grid_template_areas": null,
       "grid_template_columns": null,
       "grid_template_rows": null,
       "height": null,
       "justify_content": null,
       "justify_items": null,
       "left": null,
       "margin": null,
       "max_height": null,
       "max_width": null,
       "min_height": null,
       "min_width": null,
       "object_fit": null,
       "object_position": null,
       "order": null,
       "overflow": null,
       "overflow_x": null,
       "overflow_y": null,
       "padding": null,
       "right": null,
       "top": null,
       "visibility": null,
       "width": null
      }
     },
     "dd3755f3a35042d2b3d24f7d56ca54bd": {
      "model_module": "@jupyter-widgets/controls",
      "model_module_version": "1.5.0",
      "model_name": "DescriptionStyleModel",
      "state": {
       "_model_module": "@jupyter-widgets/controls",
       "_model_module_version": "1.5.0",
       "_model_name": "DescriptionStyleModel",
       "_view_count": null,
       "_view_module": "@jupyter-widgets/base",
       "_view_module_version": "1.2.0",
       "_view_name": "StyleView",
       "description_width": ""
      }
     },
     "e10c0f7f87a04d04a94f16e8cb49677f": {
      "model_module": "@jupyter-widgets/controls",
      "model_module_version": "1.5.0",
      "model_name": "DescriptionStyleModel",
      "state": {
       "_model_module": "@jupyter-widgets/controls",
       "_model_module_version": "1.5.0",
       "_model_name": "DescriptionStyleModel",
       "_view_count": null,
       "_view_module": "@jupyter-widgets/base",
       "_view_module_version": "1.2.0",
       "_view_name": "StyleView",
       "description_width": ""
      }
     },
     "e1e5ab538b9345e291664fa436f292ec": {
      "model_module": "@jupyter-widgets/controls",
      "model_module_version": "1.5.0",
      "model_name": "HBoxModel",
      "state": {
       "_dom_classes": [],
       "_model_module": "@jupyter-widgets/controls",
       "_model_module_version": "1.5.0",
       "_model_name": "HBoxModel",
       "_view_count": null,
       "_view_module": "@jupyter-widgets/controls",
       "_view_module_version": "1.5.0",
       "_view_name": "HBoxView",
       "box_style": "",
       "children": [
        "IPY_MODEL_ce914fda7b72414eba57077d6a98feaa",
        "IPY_MODEL_95c473172ec34b68bfbd2ffaa5ce2da0",
        "IPY_MODEL_4a0b50be02b246be9436df7eee38e86c"
       ],
       "layout": "IPY_MODEL_5471c73ab67443c1a88845ea3715ee4f"
      }
     },
     "edc7d6cb4aa54a13b581cbba81a4b518": {
      "model_module": "@jupyter-widgets/controls",
      "model_module_version": "1.5.0",
      "model_name": "DescriptionStyleModel",
      "state": {
       "_model_module": "@jupyter-widgets/controls",
       "_model_module_version": "1.5.0",
       "_model_name": "DescriptionStyleModel",
       "_view_count": null,
       "_view_module": "@jupyter-widgets/base",
       "_view_module_version": "1.2.0",
       "_view_name": "StyleView",
       "description_width": ""
      }
     },
     "f32789bef6a2436e8b3328c62db9f0cd": {
      "model_module": "@jupyter-widgets/base",
      "model_module_version": "1.2.0",
      "model_name": "LayoutModel",
      "state": {
       "_model_module": "@jupyter-widgets/base",
       "_model_module_version": "1.2.0",
       "_model_name": "LayoutModel",
       "_view_count": null,
       "_view_module": "@jupyter-widgets/base",
       "_view_module_version": "1.2.0",
       "_view_name": "LayoutView",
       "align_content": null,
       "align_items": null,
       "align_self": null,
       "border": null,
       "bottom": null,
       "display": null,
       "flex": null,
       "flex_flow": null,
       "grid_area": null,
       "grid_auto_columns": null,
       "grid_auto_flow": null,
       "grid_auto_rows": null,
       "grid_column": null,
       "grid_gap": null,
       "grid_row": null,
       "grid_template_areas": null,
       "grid_template_columns": null,
       "grid_template_rows": null,
       "height": null,
       "justify_content": null,
       "justify_items": null,
       "left": null,
       "margin": null,
       "max_height": null,
       "max_width": null,
       "min_height": null,
       "min_width": null,
       "object_fit": null,
       "object_position": null,
       "order": null,
       "overflow": null,
       "overflow_x": null,
       "overflow_y": null,
       "padding": null,
       "right": null,
       "top": null,
       "visibility": null,
       "width": null
      }
     }
    },
    "version_major": 2,
    "version_minor": 0
   }
  }
 },
 "nbformat": 4,
 "nbformat_minor": 5
}
