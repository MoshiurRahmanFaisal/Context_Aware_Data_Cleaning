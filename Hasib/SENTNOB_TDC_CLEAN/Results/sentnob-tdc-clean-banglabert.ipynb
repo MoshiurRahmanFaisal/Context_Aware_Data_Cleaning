{
 "cells": [
  {
   "cell_type": "code",
   "execution_count": 1,
   "id": "538cdc8a",
   "metadata": {
    "execution": {
     "iopub.execute_input": "2024-02-18T13:41:27.182244Z",
     "iopub.status.busy": "2024-02-18T13:41:27.181441Z",
     "iopub.status.idle": "2024-02-18T13:41:43.675898Z",
     "shell.execute_reply": "2024-02-18T13:41:43.674904Z"
    },
    "papermill": {
     "duration": 16.521382,
     "end_time": "2024-02-18T13:41:43.678455",
     "exception": false,
     "start_time": "2024-02-18T13:41:27.157073",
     "status": "completed"
    },
    "tags": []
   },
   "outputs": [
    {
     "name": "stdout",
     "output_type": "stream",
     "text": [
      "Collecting bnlp_toolkit\r\n",
      "  Downloading bnlp_toolkit-4.0.0-py3-none-any.whl.metadata (3.3 kB)\r\n",
      "Requirement already satisfied: sentencepiece in /opt/conda/lib/python3.10/site-packages (from bnlp_toolkit) (0.1.99)\r\n",
      "Requirement already satisfied: gensim in /opt/conda/lib/python3.10/site-packages (from bnlp_toolkit) (4.3.2)\r\n",
      "Requirement already satisfied: nltk in /opt/conda/lib/python3.10/site-packages (from bnlp_toolkit) (3.2.4)\r\n",
      "Requirement already satisfied: numpy in /opt/conda/lib/python3.10/site-packages (from bnlp_toolkit) (1.24.4)\r\n",
      "Requirement already satisfied: scipy in /opt/conda/lib/python3.10/site-packages (from bnlp_toolkit) (1.11.4)\r\n",
      "Collecting sklearn-crfsuite (from bnlp_toolkit)\r\n",
      "  Downloading sklearn_crfsuite-0.3.6-py2.py3-none-any.whl (12 kB)\r\n",
      "Requirement already satisfied: tqdm in /opt/conda/lib/python3.10/site-packages (from bnlp_toolkit) (4.66.1)\r\n",
      "Collecting ftfy (from bnlp_toolkit)\r\n",
      "  Downloading ftfy-6.1.3-py3-none-any.whl.metadata (6.2 kB)\r\n",
      "Collecting emoji==1.7.0 (from bnlp_toolkit)\r\n",
      "  Downloading emoji-1.7.0.tar.gz (175 kB)\r\n",
      "\u001b[2K     \u001b[90m━━━━━━━━━━━━━━━━━━━━━━━━━━━━━━━━━━━━━━━\u001b[0m \u001b[32m175.4/175.4 kB\u001b[0m \u001b[31m9.9 MB/s\u001b[0m eta \u001b[36m0:00:00\u001b[0m\r\n",
      "\u001b[?25h  Preparing metadata (setup.py) ... \u001b[?25l-\b \bdone\r\n",
      "\u001b[?25hRequirement already satisfied: requests in /opt/conda/lib/python3.10/site-packages (from bnlp_toolkit) (2.31.0)\r\n",
      "Requirement already satisfied: wcwidth<0.3.0,>=0.2.12 in /opt/conda/lib/python3.10/site-packages (from ftfy->bnlp_toolkit) (0.2.13)\r\n",
      "Requirement already satisfied: smart-open>=1.8.1 in /opt/conda/lib/python3.10/site-packages (from gensim->bnlp_toolkit) (6.4.0)\r\n",
      "Requirement already satisfied: six in /opt/conda/lib/python3.10/site-packages (from nltk->bnlp_toolkit) (1.16.0)\r\n",
      "Requirement already satisfied: charset-normalizer<4,>=2 in /opt/conda/lib/python3.10/site-packages (from requests->bnlp_toolkit) (3.3.2)\r\n",
      "Requirement already satisfied: idna<4,>=2.5 in /opt/conda/lib/python3.10/site-packages (from requests->bnlp_toolkit) (3.6)\r\n",
      "Requirement already satisfied: urllib3<3,>=1.21.1 in /opt/conda/lib/python3.10/site-packages (from requests->bnlp_toolkit) (1.26.18)\r\n",
      "Requirement already satisfied: certifi>=2017.4.17 in /opt/conda/lib/python3.10/site-packages (from requests->bnlp_toolkit) (2023.11.17)\r\n",
      "Collecting python-crfsuite>=0.8.3 (from sklearn-crfsuite->bnlp_toolkit)\r\n",
      "  Downloading python_crfsuite-0.9.10-cp310-cp310-manylinux_2_17_x86_64.manylinux2014_x86_64.whl.metadata (4.2 kB)\r\n",
      "Requirement already satisfied: tabulate in /opt/conda/lib/python3.10/site-packages (from sklearn-crfsuite->bnlp_toolkit) (0.9.0)\r\n",
      "Downloading bnlp_toolkit-4.0.0-py3-none-any.whl (22 kB)\r\n",
      "Downloading ftfy-6.1.3-py3-none-any.whl (53 kB)\r\n",
      "\u001b[2K   \u001b[90m━━━━━━━━━━━━━━━━━━━━━━━━━━━━━━━━━━━━━━━━\u001b[0m \u001b[32m53.4/53.4 kB\u001b[0m \u001b[31m3.8 MB/s\u001b[0m eta \u001b[36m0:00:00\u001b[0m\r\n",
      "\u001b[?25hDownloading python_crfsuite-0.9.10-cp310-cp310-manylinux_2_17_x86_64.manylinux2014_x86_64.whl (1.1 MB)\r\n",
      "\u001b[2K   \u001b[90m━━━━━━━━━━━━━━━━━━━━━━━━━━━━━━━━━━━━━━━━\u001b[0m \u001b[32m1.1/1.1 MB\u001b[0m \u001b[31m50.5 MB/s\u001b[0m eta \u001b[36m0:00:00\u001b[0m\r\n",
      "\u001b[?25hBuilding wheels for collected packages: emoji\r\n",
      "  Building wheel for emoji (setup.py) ... \u001b[?25l-\b \bdone\r\n",
      "\u001b[?25h  Created wheel for emoji: filename=emoji-1.7.0-py3-none-any.whl size=171033 sha256=06e54a8d2dbc0d03ec60fb8075dcaab96aa1b3bc13133f846709c152f85c17a2\r\n",
      "  Stored in directory: /root/.cache/pip/wheels/31/8a/8c/315c9e5d7773f74b33d5ed33f075b49c6eaeb7cedbb86e2cf8\r\n",
      "Successfully built emoji\r\n",
      "Installing collected packages: python-crfsuite, emoji, sklearn-crfsuite, ftfy, bnlp_toolkit\r\n",
      "  Attempting uninstall: emoji\r\n",
      "    Found existing installation: emoji 2.10.0\r\n",
      "    Uninstalling emoji-2.10.0:\r\n",
      "      Successfully uninstalled emoji-2.10.0\r\n",
      "Successfully installed bnlp_toolkit-4.0.0 emoji-1.7.0 ftfy-6.1.3 python-crfsuite-0.9.10 sklearn-crfsuite-0.3.6\r\n"
     ]
    }
   ],
   "source": [
    "\n",
    "!pip install bnlp_toolkit"
   ]
  },
  {
   "cell_type": "code",
   "execution_count": 2,
   "id": "85bc7160",
   "metadata": {
    "execution": {
     "iopub.execute_input": "2024-02-18T13:41:43.725930Z",
     "iopub.status.busy": "2024-02-18T13:41:43.725602Z",
     "iopub.status.idle": "2024-02-18T13:41:57.290359Z",
     "shell.execute_reply": "2024-02-18T13:41:57.289237Z"
    },
    "id": "d32533c5",
    "papermill": {
     "duration": 13.590751,
     "end_time": "2024-02-18T13:41:57.293150",
     "exception": false,
     "start_time": "2024-02-18T13:41:43.702399",
     "status": "completed"
    },
    "scrolled": true,
    "tags": []
   },
   "outputs": [],
   "source": [
    "import pandas as pd\n",
    "import numpy as np\n",
    "import matplotlib.pyplot as plt\n",
    "from bnlp import NLTKTokenizer\n",
    "from bs4 import BeautifulSoup\n",
    "from bnlp import BengaliCorpus as corpus\n",
    "import re\n",
    "#from bangla_stemmer.stemmer import stemmer"
   ]
  },
  {
   "cell_type": "code",
   "execution_count": 3,
   "id": "3786f9d0",
   "metadata": {
    "execution": {
     "iopub.execute_input": "2024-02-18T13:41:57.347364Z",
     "iopub.status.busy": "2024-02-18T13:41:57.346035Z",
     "iopub.status.idle": "2024-02-18T13:41:58.681345Z",
     "shell.execute_reply": "2024-02-18T13:41:58.680574Z"
    },
    "id": "bba016ba",
    "papermill": {
     "duration": 1.363953,
     "end_time": "2024-02-18T13:41:58.683750",
     "exception": false,
     "start_time": "2024-02-18T13:41:57.319797",
     "status": "completed"
    },
    "scrolled": true,
    "tags": []
   },
   "outputs": [],
   "source": [
    "df_train = pd.read_excel(\"/kaggle/input/sentnob-tdc-clean/sentnob_train.xlsx\")"
   ]
  },
  {
   "cell_type": "code",
   "execution_count": 4,
   "id": "507c284b",
   "metadata": {
    "execution": {
     "iopub.execute_input": "2024-02-18T13:41:58.731079Z",
     "iopub.status.busy": "2024-02-18T13:41:58.730293Z",
     "iopub.status.idle": "2024-02-18T13:41:58.736768Z",
     "shell.execute_reply": "2024-02-18T13:41:58.735888Z"
    },
    "papermill": {
     "duration": 0.032338,
     "end_time": "2024-02-18T13:41:58.738600",
     "exception": false,
     "start_time": "2024-02-18T13:41:58.706262",
     "status": "completed"
    },
    "tags": []
   },
   "outputs": [],
   "source": [
    "df_train.rename(columns = {'Text':'Data'}, inplace = True)"
   ]
  },
  {
   "cell_type": "code",
   "execution_count": 5,
   "id": "5db4cd11",
   "metadata": {
    "execution": {
     "iopub.execute_input": "2024-02-18T13:41:58.783208Z",
     "iopub.status.busy": "2024-02-18T13:41:58.782509Z",
     "iopub.status.idle": "2024-02-18T13:41:58.789438Z",
     "shell.execute_reply": "2024-02-18T13:41:58.788565Z"
    },
    "id": "4d94877e",
    "papermill": {
     "duration": 0.031273,
     "end_time": "2024-02-18T13:41:58.791418",
     "exception": false,
     "start_time": "2024-02-18T13:41:58.760145",
     "status": "completed"
    },
    "tags": []
   },
   "outputs": [],
   "source": [
    "df_train.dropna(inplace=True)"
   ]
  },
  {
   "cell_type": "code",
   "execution_count": 6,
   "id": "4403ab5a",
   "metadata": {
    "execution": {
     "iopub.execute_input": "2024-02-18T13:41:58.836005Z",
     "iopub.status.busy": "2024-02-18T13:41:58.835709Z",
     "iopub.status.idle": "2024-02-18T13:41:58.849203Z",
     "shell.execute_reply": "2024-02-18T13:41:58.848362Z"
    },
    "id": "3c2ae414",
    "outputId": "e8ef9e85-dda0-4853-f1f3-64fd5ff173a1",
    "papermill": {
     "duration": 0.038161,
     "end_time": "2024-02-18T13:41:58.851203",
     "exception": false,
     "start_time": "2024-02-18T13:41:58.813042",
     "status": "completed"
    },
    "scrolled": true,
    "tags": []
   },
   "outputs": [
    {
     "data": {
      "text/html": [
       "<div>\n",
       "<style scoped>\n",
       "    .dataframe tbody tr th:only-of-type {\n",
       "        vertical-align: middle;\n",
       "    }\n",
       "\n",
       "    .dataframe tbody tr th {\n",
       "        vertical-align: top;\n",
       "    }\n",
       "\n",
       "    .dataframe thead th {\n",
       "        text-align: right;\n",
       "    }\n",
       "</style>\n",
       "<table border=\"1\" class=\"dataframe\">\n",
       "  <thead>\n",
       "    <tr style=\"text-align: right;\">\n",
       "      <th></th>\n",
       "      <th>Data</th>\n",
       "      <th>Label</th>\n",
       "    </tr>\n",
       "  </thead>\n",
       "  <tbody>\n",
       "    <tr>\n",
       "      <th>0</th>\n",
       "      <td>মুগ্ধ হয়ে গেলাম মামু. আর তোমায় কি কমু. বলো তোম...</td>\n",
       "      <td>1</td>\n",
       "    </tr>\n",
       "    <tr>\n",
       "      <th>1</th>\n",
       "      <td>এই কুত্তার বাচ্চাদের জন্য দেশটা আজ এমন অবস্তা...</td>\n",
       "      <td>2</td>\n",
       "    </tr>\n",
       "    <tr>\n",
       "      <th>2</th>\n",
       "      <td>ভাই আপনার কথাই যাদু রয়েছে</td>\n",
       "      <td>1</td>\n",
       "    </tr>\n",
       "    <tr>\n",
       "      <th>3</th>\n",
       "      <td>উওরটা আমার অনেক ভালো লেগেছে</td>\n",
       "      <td>1</td>\n",
       "    </tr>\n",
       "    <tr>\n",
       "      <th>4</th>\n",
       "      <td>আমার নিজের আমার নিয়ে কি সাজেক যেতে অনেক না? প...</td>\n",
       "      <td>0</td>\n",
       "    </tr>\n",
       "  </tbody>\n",
       "</table>\n",
       "</div>"
      ],
      "text/plain": [
       "                                                Data  Label\n",
       "0  মুগ্ধ হয়ে গেলাম মামু. আর তোমায় কি কমু. বলো তোম...      1\n",
       "1   এই কুত্তার বাচ্চাদের জন্য দেশটা আজ এমন অবস্তা...      2\n",
       "2                         ভাই আপনার কথাই যাদু রয়েছে       1\n",
       "3                       উওরটা আমার অনেক ভালো লেগেছে       1\n",
       "4   আমার নিজের আমার নিয়ে কি সাজেক যেতে অনেক না? প...      0"
      ]
     },
     "execution_count": 6,
     "metadata": {},
     "output_type": "execute_result"
    }
   ],
   "source": [
    "df_train.head()"
   ]
  },
  {
   "cell_type": "code",
   "execution_count": 7,
   "id": "d64855f4",
   "metadata": {
    "execution": {
     "iopub.execute_input": "2024-02-18T13:41:58.895836Z",
     "iopub.status.busy": "2024-02-18T13:41:58.895580Z",
     "iopub.status.idle": "2024-02-18T13:41:58.903239Z",
     "shell.execute_reply": "2024-02-18T13:41:58.902309Z"
    },
    "papermill": {
     "duration": 0.03254,
     "end_time": "2024-02-18T13:41:58.905508",
     "exception": false,
     "start_time": "2024-02-18T13:41:58.872968",
     "status": "completed"
    },
    "tags": []
   },
   "outputs": [
    {
     "name": "stdout",
     "output_type": "stream",
     "text": [
      "374\n"
     ]
    }
   ],
   "source": [
    "longest_string = max(df_train[\"Data\"], key=len)\n",
    "print(len(longest_string))"
   ]
  },
  {
   "cell_type": "code",
   "execution_count": 8,
   "id": "d42e2a76",
   "metadata": {
    "execution": {
     "iopub.execute_input": "2024-02-18T13:41:58.950242Z",
     "iopub.status.busy": "2024-02-18T13:41:58.949682Z",
     "iopub.status.idle": "2024-02-18T13:41:58.961268Z",
     "shell.execute_reply": "2024-02-18T13:41:58.960499Z"
    },
    "papermill": {
     "duration": 0.03602,
     "end_time": "2024-02-18T13:41:58.963205",
     "exception": false,
     "start_time": "2024-02-18T13:41:58.927185",
     "status": "completed"
    },
    "tags": []
   },
   "outputs": [
    {
     "data": {
      "text/plain": [
       "Label\n",
       "1    5133\n",
       "2    4548\n",
       "0    2894\n",
       "Name: count, dtype: int64"
      ]
     },
     "execution_count": 8,
     "metadata": {},
     "output_type": "execute_result"
    }
   ],
   "source": [
    "df_train['Label'].value_counts()"
   ]
  },
  {
   "cell_type": "code",
   "execution_count": 9,
   "id": "94e8432a",
   "metadata": {
    "execution": {
     "iopub.execute_input": "2024-02-18T13:41:59.008212Z",
     "iopub.status.busy": "2024-02-18T13:41:59.007943Z",
     "iopub.status.idle": "2024-02-18T13:41:59.015854Z",
     "shell.execute_reply": "2024-02-18T13:41:59.015188Z"
    },
    "papermill": {
     "duration": 0.032608,
     "end_time": "2024-02-18T13:41:59.017651",
     "exception": false,
     "start_time": "2024-02-18T13:41:58.985043",
     "status": "completed"
    },
    "tags": []
   },
   "outputs": [],
   "source": [
    "df_train['Label'] = df_train['Label'].replace({0: 'Neutral', 1: 'Positive', 2: 'Negative'})"
   ]
  },
  {
   "cell_type": "code",
   "execution_count": 10,
   "id": "082803b2",
   "metadata": {
    "execution": {
     "iopub.execute_input": "2024-02-18T13:41:59.062639Z",
     "iopub.status.busy": "2024-02-18T13:41:59.062326Z",
     "iopub.status.idle": "2024-02-18T13:41:59.204579Z",
     "shell.execute_reply": "2024-02-18T13:41:59.203777Z"
    },
    "papermill": {
     "duration": 0.167212,
     "end_time": "2024-02-18T13:41:59.206780",
     "exception": false,
     "start_time": "2024-02-18T13:41:59.039568",
     "status": "completed"
    },
    "tags": []
   },
   "outputs": [],
   "source": [
    "df_val = pd.read_excel(\"/kaggle/input/sentnob-tdc-clean/sentnob_val.xlsx\")\n",
    "df_val.rename(columns = {'Text':'Data'}, inplace = True)"
   ]
  },
  {
   "cell_type": "code",
   "execution_count": 11,
   "id": "7eaa9e9b",
   "metadata": {
    "execution": {
     "iopub.execute_input": "2024-02-18T13:41:59.253117Z",
     "iopub.status.busy": "2024-02-18T13:41:59.252812Z",
     "iopub.status.idle": "2024-02-18T13:41:59.257883Z",
     "shell.execute_reply": "2024-02-18T13:41:59.257091Z"
    },
    "papermill": {
     "duration": 0.030459,
     "end_time": "2024-02-18T13:41:59.259810",
     "exception": false,
     "start_time": "2024-02-18T13:41:59.229351",
     "status": "completed"
    },
    "tags": []
   },
   "outputs": [],
   "source": [
    "df_val.dropna(inplace=True)"
   ]
  },
  {
   "cell_type": "code",
   "execution_count": 12,
   "id": "a78900a3",
   "metadata": {
    "execution": {
     "iopub.execute_input": "2024-02-18T13:41:59.305521Z",
     "iopub.status.busy": "2024-02-18T13:41:59.305201Z",
     "iopub.status.idle": "2024-02-18T13:41:59.312066Z",
     "shell.execute_reply": "2024-02-18T13:41:59.311217Z"
    },
    "papermill": {
     "duration": 0.031983,
     "end_time": "2024-02-18T13:41:59.314105",
     "exception": false,
     "start_time": "2024-02-18T13:41:59.282122",
     "status": "completed"
    },
    "tags": []
   },
   "outputs": [
    {
     "data": {
      "text/plain": [
       "Label\n",
       "1    623\n",
       "2    590\n",
       "0    354\n",
       "Name: count, dtype: int64"
      ]
     },
     "execution_count": 12,
     "metadata": {},
     "output_type": "execute_result"
    }
   ],
   "source": [
    "df_val['Label'].value_counts()"
   ]
  },
  {
   "cell_type": "code",
   "execution_count": 13,
   "id": "6827d62c",
   "metadata": {
    "execution": {
     "iopub.execute_input": "2024-02-18T13:41:59.360055Z",
     "iopub.status.busy": "2024-02-18T13:41:59.359526Z",
     "iopub.status.idle": "2024-02-18T13:41:59.365848Z",
     "shell.execute_reply": "2024-02-18T13:41:59.364991Z"
    },
    "papermill": {
     "duration": 0.031413,
     "end_time": "2024-02-18T13:41:59.367738",
     "exception": false,
     "start_time": "2024-02-18T13:41:59.336325",
     "status": "completed"
    },
    "tags": []
   },
   "outputs": [],
   "source": [
    "df_val['Label'] = df_val['Label'].replace({0: 'Neutral', 1: 'Positive', 2: 'Negative'})"
   ]
  },
  {
   "cell_type": "code",
   "execution_count": 14,
   "id": "f9beb25d",
   "metadata": {
    "execution": {
     "iopub.execute_input": "2024-02-18T13:41:59.413061Z",
     "iopub.status.busy": "2024-02-18T13:41:59.412778Z",
     "iopub.status.idle": "2024-02-18T13:41:59.420167Z",
     "shell.execute_reply": "2024-02-18T13:41:59.419339Z"
    },
    "papermill": {
     "duration": 0.032669,
     "end_time": "2024-02-18T13:41:59.422450",
     "exception": false,
     "start_time": "2024-02-18T13:41:59.389781",
     "status": "completed"
    },
    "tags": []
   },
   "outputs": [
    {
     "data": {
      "text/plain": [
       "Label\n",
       "Positive    623\n",
       "Negative    590\n",
       "Neutral     354\n",
       "Name: count, dtype: int64"
      ]
     },
     "execution_count": 14,
     "metadata": {},
     "output_type": "execute_result"
    }
   ],
   "source": [
    "df_val['Label'].value_counts()"
   ]
  },
  {
   "cell_type": "code",
   "execution_count": 15,
   "id": "6ebfbfb7",
   "metadata": {
    "execution": {
     "iopub.execute_input": "2024-02-18T13:41:59.469358Z",
     "iopub.status.busy": "2024-02-18T13:41:59.469086Z",
     "iopub.status.idle": "2024-02-18T13:41:59.477190Z",
     "shell.execute_reply": "2024-02-18T13:41:59.476359Z"
    },
    "papermill": {
     "duration": 0.033297,
     "end_time": "2024-02-18T13:41:59.479178",
     "exception": false,
     "start_time": "2024-02-18T13:41:59.445881",
     "status": "completed"
    },
    "tags": []
   },
   "outputs": [],
   "source": [
    "def rem_symbol_punct(text):\n",
    "    pattern = re.compile('[!@#$%^&*()_+-={}\\[\\];:\\'\\\"\\|<>,.///?`~।]', flags=re.I)\n",
    "    return pattern.sub(r'', text)\n",
    "\n",
    "\n",
    "def remove_html_and_urls(text):\n",
    "    # Remove HTML tags\n",
    "    soup = BeautifulSoup(text, \"html.parser\")\n",
    "    text_without_html = soup.get_text()\n",
    "\n",
    "    # Remove URLs\n",
    "    text_without_urls = re.sub(r'http[s]?://(?:[a-zA-Z]|[0-9]|[$-_@.&+]|[!*\\\\(\\\\),]|(?:%[0-9a-fA-F][0-9a-fA-F]))+', '', text_without_html)\n",
    "\n",
    "    return text_without_urls\n",
    "\n",
    "\n",
    "def remove_emojis(text):\n",
    "    # Emoji patterns for different Unicode ranges\n",
    "    emoji_pattern = re.compile(\n",
    "        \"[\"\n",
    "        \"\\U0001F600-\\U0001F64F\"  # Emoticons\n",
    "        \"\\U0001F300-\\U0001F5FF\"  # Symbols & Pictographs\n",
    "        \"\\U0001F680-\\U0001F6FF\"  # Transport & Map Symbols\n",
    "        \"\\U0001F700-\\U0001F77F\"  # Alphanumeric Supplement\n",
    "        \"\\U0001F780-\\U0001F7FF\"  # Geometric Shapes Extended\n",
    "        \"\\U0001F800-\\U0001F8FF\"  # Supplemental Arrows-C\n",
    "        \"\\U0001F900-\\U0001F9FF\"  # Supplemental Symbols and Pictographs\n",
    "        \"\\U0001FA00-\\U0001FA6F\"  # Chess Symbols\n",
    "        \"\\U0001FA70-\\U0001FAFF\"  # Symbols and Pictographs Extended-A\n",
    "        \"\\U00002702-\\U000027B0\"  # Dingbat symbols\n",
    "        \"\\U000024C2-\\U0001F251\" \n",
    "        \"]+\",\n",
    "        flags=re.UNICODE,\n",
    "    )\n",
    "    return emoji_pattern.sub(r'', text)\n",
    "\n",
    "\n",
    "#remove noise\n",
    "def Remove_text(text):\n",
    "    text = rem_symbol_punct(text)\n",
    "    text = remove_html_and_urls(text)\n",
    "    text = remove_emojis(text)\n",
    "    return text"
   ]
  },
  {
   "cell_type": "code",
   "execution_count": 16,
   "id": "384b6fce",
   "metadata": {
    "execution": {
     "iopub.execute_input": "2024-02-18T13:41:59.524972Z",
     "iopub.status.busy": "2024-02-18T13:41:59.524712Z",
     "iopub.status.idle": "2024-02-18T13:42:00.403174Z",
     "shell.execute_reply": "2024-02-18T13:42:00.402406Z"
    },
    "papermill": {
     "duration": 0.904081,
     "end_time": "2024-02-18T13:42:00.405474",
     "exception": false,
     "start_time": "2024-02-18T13:41:59.501393",
     "status": "completed"
    },
    "tags": []
   },
   "outputs": [],
   "source": [
    "df_train['Data'] = df_train['Data'].apply(Remove_text)\n",
    "df_val['Data'] = df_val['Data'].apply(Remove_text)"
   ]
  },
  {
   "cell_type": "code",
   "execution_count": 17,
   "id": "09f12771",
   "metadata": {
    "execution": {
     "iopub.execute_input": "2024-02-18T13:42:00.452446Z",
     "iopub.status.busy": "2024-02-18T13:42:00.451693Z",
     "iopub.status.idle": "2024-02-18T13:42:00.459682Z",
     "shell.execute_reply": "2024-02-18T13:42:00.458818Z"
    },
    "papermill": {
     "duration": 0.033605,
     "end_time": "2024-02-18T13:42:00.461946",
     "exception": false,
     "start_time": "2024-02-18T13:42:00.428341",
     "status": "completed"
    },
    "tags": []
   },
   "outputs": [
    {
     "name": "stdout",
     "output_type": "stream",
     "text": [
      "372\n"
     ]
    }
   ],
   "source": [
    "longest_string = max(df_train[\"Data\"], key=len)\n",
    "print(len(longest_string))"
   ]
  },
  {
   "cell_type": "code",
   "execution_count": 18,
   "id": "2cffcbbf",
   "metadata": {
    "execution": {
     "iopub.execute_input": "2024-02-18T13:42:00.508079Z",
     "iopub.status.busy": "2024-02-18T13:42:00.507422Z",
     "iopub.status.idle": "2024-02-18T13:42:00.519515Z",
     "shell.execute_reply": "2024-02-18T13:42:00.518719Z"
    },
    "papermill": {
     "duration": 0.037218,
     "end_time": "2024-02-18T13:42:00.521567",
     "exception": false,
     "start_time": "2024-02-18T13:42:00.484349",
     "status": "completed"
    },
    "tags": []
   },
   "outputs": [
    {
     "data": {
      "text/html": [
       "<div>\n",
       "<style scoped>\n",
       "    .dataframe tbody tr th:only-of-type {\n",
       "        vertical-align: middle;\n",
       "    }\n",
       "\n",
       "    .dataframe tbody tr th {\n",
       "        vertical-align: top;\n",
       "    }\n",
       "\n",
       "    .dataframe thead th {\n",
       "        text-align: right;\n",
       "    }\n",
       "</style>\n",
       "<table border=\"1\" class=\"dataframe\">\n",
       "  <thead>\n",
       "    <tr style=\"text-align: right;\">\n",
       "      <th></th>\n",
       "      <th>Data</th>\n",
       "      <th>Label</th>\n",
       "    </tr>\n",
       "  </thead>\n",
       "  <tbody>\n",
       "    <tr>\n",
       "      <th>0</th>\n",
       "      <td>মুগ্ধ হয়ে গেলাম মামু আর তোমায় কি কমু বলো তোমায়...</td>\n",
       "      <td>Positive</td>\n",
       "    </tr>\n",
       "    <tr>\n",
       "      <th>1</th>\n",
       "      <td>এই কুত্তার বাচ্চাদের জন্য দেশটা আজ এমন অবস্তা...</td>\n",
       "      <td>Negative</td>\n",
       "    </tr>\n",
       "    <tr>\n",
       "      <th>2</th>\n",
       "      <td>ভাই আপনার কথাই যাদু রয়েছে</td>\n",
       "      <td>Positive</td>\n",
       "    </tr>\n",
       "    <tr>\n",
       "      <th>3</th>\n",
       "      <td>উওরটা আমার অনেক ভালো লেগেছে</td>\n",
       "      <td>Positive</td>\n",
       "    </tr>\n",
       "    <tr>\n",
       "      <th>4</th>\n",
       "      <td>আমার নিজের আমার নিয়ে কি সাজেক যেতে অনেক না প্...</td>\n",
       "      <td>Neutral</td>\n",
       "    </tr>\n",
       "    <tr>\n",
       "      <th>...</th>\n",
       "      <td>...</td>\n",
       "      <td>...</td>\n",
       "    </tr>\n",
       "    <tr>\n",
       "      <th>12570</th>\n",
       "      <td>বর্ডারে অনেক লেট হয়ে যাওয়াতে আমরা জিপে করে চল...</td>\n",
       "      <td>Positive</td>\n",
       "    </tr>\n",
       "    <tr>\n",
       "      <th>12571</th>\n",
       "      <td>আমার সোনার বাংলা এমন রক্ষক নামের পৌঁছানো কোনো...</td>\n",
       "      <td>Negative</td>\n",
       "    </tr>\n",
       "    <tr>\n",
       "      <th>12572</th>\n",
       "      <td>ওনারা এত এত ও এত সুন্দর পরিবেশে রান্না করে এ...</td>\n",
       "      <td>Positive</td>\n",
       "    </tr>\n",
       "    <tr>\n",
       "      <th>12573</th>\n",
       "      <td>বাংলাদেশ আমরা পুলিশ চাই না এই ধরনে পুলিশ দরকা...</td>\n",
       "      <td>Negative</td>\n",
       "    </tr>\n",
       "    <tr>\n",
       "      <th>12574</th>\n",
       "      <td>বসুন্ধরা শাখার হাজি বিরিয়ানি একবারেই ফালতু</td>\n",
       "      <td>Negative</td>\n",
       "    </tr>\n",
       "  </tbody>\n",
       "</table>\n",
       "<p>12575 rows × 2 columns</p>\n",
       "</div>"
      ],
      "text/plain": [
       "                                                    Data     Label\n",
       "0      মুগ্ধ হয়ে গেলাম মামু আর তোমায় কি কমু বলো তোমায়...  Positive\n",
       "1       এই কুত্তার বাচ্চাদের জন্য দেশটা আজ এমন অবস্তা...  Negative\n",
       "2                             ভাই আপনার কথাই যাদু রয়েছে   Positive\n",
       "3                           উওরটা আমার অনেক ভালো লেগেছে   Positive\n",
       "4       আমার নিজের আমার নিয়ে কি সাজেক যেতে অনেক না প্...   Neutral\n",
       "...                                                  ...       ...\n",
       "12570   বর্ডারে অনেক লেট হয়ে যাওয়াতে আমরা জিপে করে চল...  Positive\n",
       "12571   আমার সোনার বাংলা এমন রক্ষক নামের পৌঁছানো কোনো...  Negative\n",
       "12572    ওনারা এত এত ও এত সুন্দর পরিবেশে রান্না করে এ...  Positive\n",
       "12573   বাংলাদেশ আমরা পুলিশ চাই না এই ধরনে পুলিশ দরকা...  Negative\n",
       "12574        বসুন্ধরা শাখার হাজি বিরিয়ানি একবারেই ফালতু   Negative\n",
       "\n",
       "[12575 rows x 2 columns]"
      ]
     },
     "execution_count": 18,
     "metadata": {},
     "output_type": "execute_result"
    }
   ],
   "source": [
    "df_train"
   ]
  },
  {
   "cell_type": "code",
   "execution_count": 19,
   "id": "75a2c73c",
   "metadata": {
    "execution": {
     "iopub.execute_input": "2024-02-18T13:42:00.567923Z",
     "iopub.status.busy": "2024-02-18T13:42:00.567667Z",
     "iopub.status.idle": "2024-02-18T13:42:00.574777Z",
     "shell.execute_reply": "2024-02-18T13:42:00.573861Z"
    },
    "papermill": {
     "duration": 0.032696,
     "end_time": "2024-02-18T13:42:00.576797",
     "exception": false,
     "start_time": "2024-02-18T13:42:00.544101",
     "status": "completed"
    },
    "tags": []
   },
   "outputs": [
    {
     "data": {
      "text/plain": [
       "0        মুগ্ধ হয়ে গেলাম মামু আর তোমায় কি কমু বলো তোমায়...\n",
       "1         এই কুত্তার বাচ্চাদের জন্য দেশটা আজ এমন অবস্তা...\n",
       "2                               ভাই আপনার কথাই যাদু রয়েছে \n",
       "3                             উওরটা আমার অনেক ভালো লেগেছে \n",
       "4         আমার নিজের আমার নিয়ে কি সাজেক যেতে অনেক না প্...\n",
       "                               ...                        \n",
       "12570     বর্ডারে অনেক লেট হয়ে যাওয়াতে আমরা জিপে করে চল...\n",
       "12571     আমার সোনার বাংলা এমন রক্ষক নামের পৌঁছানো কোনো...\n",
       "12572      ওনারা এত এত ও এত সুন্দর পরিবেশে রান্না করে এ...\n",
       "12573     বাংলাদেশ আমরা পুলিশ চাই না এই ধরনে পুলিশ দরকা...\n",
       "12574          বসুন্ধরা শাখার হাজি বিরিয়ানি একবারেই ফালতু \n",
       "Name: Data, Length: 12575, dtype: object"
      ]
     },
     "execution_count": 19,
     "metadata": {},
     "output_type": "execute_result"
    }
   ],
   "source": [
    "df_train['Data']"
   ]
  },
  {
   "cell_type": "code",
   "execution_count": 20,
   "id": "a0e10b9b",
   "metadata": {
    "execution": {
     "iopub.execute_input": "2024-02-18T13:42:00.623767Z",
     "iopub.status.busy": "2024-02-18T13:42:00.623480Z",
     "iopub.status.idle": "2024-02-18T13:42:00.631522Z",
     "shell.execute_reply": "2024-02-18T13:42:00.630678Z"
    },
    "papermill": {
     "duration": 0.033712,
     "end_time": "2024-02-18T13:42:00.633502",
     "exception": false,
     "start_time": "2024-02-18T13:42:00.599790",
     "status": "completed"
    },
    "tags": []
   },
   "outputs": [
    {
     "name": "stdout",
     "output_type": "stream",
     "text": [
      "372\n"
     ]
    }
   ],
   "source": [
    "longest_string = max(df_train[\"Data\"], key=len)\n",
    "print(len(longest_string))"
   ]
  },
  {
   "cell_type": "code",
   "execution_count": 21,
   "id": "abb44830",
   "metadata": {
    "execution": {
     "iopub.execute_input": "2024-02-18T13:42:00.720583Z",
     "iopub.status.busy": "2024-02-18T13:42:00.719882Z",
     "iopub.status.idle": "2024-02-18T13:42:00.727386Z",
     "shell.execute_reply": "2024-02-18T13:42:00.726367Z"
    },
    "papermill": {
     "duration": 0.073048,
     "end_time": "2024-02-18T13:42:00.729369",
     "exception": false,
     "start_time": "2024-02-18T13:42:00.656321",
     "status": "completed"
    },
    "tags": []
   },
   "outputs": [
    {
     "data": {
      "text/plain": [
       "0        মুগ্ধ হয়ে গেলাম মামু আর তোমায় কি কমু বলো তোমায়...\n",
       "1         এই কুত্তার বাচ্চাদের জন্য দেশটা আজ এমন অবস্তা...\n",
       "2                               ভাই আপনার কথাই যাদু রয়েছে \n",
       "3                             উওরটা আমার অনেক ভালো লেগেছে \n",
       "4         আমার নিজের আমার নিয়ে কি সাজেক যেতে অনেক না প্...\n",
       "                               ...                        \n",
       "12570     বর্ডারে অনেক লেট হয়ে যাওয়াতে আমরা জিপে করে চল...\n",
       "12571     আমার সোনার বাংলা এমন রক্ষক নামের পৌঁছানো কোনো...\n",
       "12572      ওনারা এত এত ও এত সুন্দর পরিবেশে রান্না করে এ...\n",
       "12573     বাংলাদেশ আমরা পুলিশ চাই না এই ধরনে পুলিশ দরকা...\n",
       "12574          বসুন্ধরা শাখার হাজি বিরিয়ানি একবারেই ফালতু \n",
       "Name: Data, Length: 12575, dtype: object"
      ]
     },
     "execution_count": 21,
     "metadata": {},
     "output_type": "execute_result"
    }
   ],
   "source": [
    "df_train['Data'] "
   ]
  },
  {
   "cell_type": "code",
   "execution_count": 22,
   "id": "77db3be6",
   "metadata": {
    "execution": {
     "iopub.execute_input": "2024-02-18T13:42:00.777776Z",
     "iopub.status.busy": "2024-02-18T13:42:00.777497Z",
     "iopub.status.idle": "2024-02-18T13:42:00.782212Z",
     "shell.execute_reply": "2024-02-18T13:42:00.781420Z"
    },
    "id": "SkHget_6VKIl",
    "papermill": {
     "duration": 0.030408,
     "end_time": "2024-02-18T13:42:00.784057",
     "exception": false,
     "start_time": "2024-02-18T13:42:00.753649",
     "status": "completed"
    },
    "tags": []
   },
   "outputs": [],
   "source": [
    "X_train  =  df_train['Data'].values.tolist()\n",
    "y_train = df_train['Label'].tolist()"
   ]
  },
  {
   "cell_type": "code",
   "execution_count": 23,
   "id": "54db0322",
   "metadata": {
    "execution": {
     "iopub.execute_input": "2024-02-18T13:42:00.830987Z",
     "iopub.status.busy": "2024-02-18T13:42:00.830741Z",
     "iopub.status.idle": "2024-02-18T13:42:00.835080Z",
     "shell.execute_reply": "2024-02-18T13:42:00.834292Z"
    },
    "id": "oAFSbfrQVTDr",
    "papermill": {
     "duration": 0.029839,
     "end_time": "2024-02-18T13:42:00.836941",
     "exception": false,
     "start_time": "2024-02-18T13:42:00.807102",
     "status": "completed"
    },
    "tags": []
   },
   "outputs": [],
   "source": [
    "X_test =  df_val['Data'].values.tolist()\n",
    "y_test = df_val['Label'].tolist()"
   ]
  },
  {
   "cell_type": "code",
   "execution_count": 24,
   "id": "6fd649ce",
   "metadata": {
    "execution": {
     "iopub.execute_input": "2024-02-18T13:42:00.884322Z",
     "iopub.status.busy": "2024-02-18T13:42:00.883748Z",
     "iopub.status.idle": "2024-02-18T13:42:43.938184Z",
     "shell.execute_reply": "2024-02-18T13:42:43.936962Z"
    },
    "papermill": {
     "duration": 43.080492,
     "end_time": "2024-02-18T13:42:43.940522",
     "exception": false,
     "start_time": "2024-02-18T13:42:00.860030",
     "status": "completed"
    },
    "tags": []
   },
   "outputs": [
    {
     "name": "stdout",
     "output_type": "stream",
     "text": [
      "Collecting ktrain\r\n",
      "  Downloading ktrain-0.40.0.tar.gz (25.3 MB)\r\n",
      "\u001b[2K     \u001b[90m━━━━━━━━━━━━━━━━━━━━━━━━━━━━━━━━━━━━━━━━\u001b[0m \u001b[32m25.3/25.3 MB\u001b[0m \u001b[31m36.7 MB/s\u001b[0m eta \u001b[36m0:00:00\u001b[0m\r\n",
      "\u001b[?25h  Preparing metadata (setup.py) ... \u001b[?25l-\b \bdone\r\n",
      "\u001b[?25hRequirement already satisfied: scikit-learn in /opt/conda/lib/python3.10/site-packages (from ktrain) (1.2.2)\r\n",
      "Requirement already satisfied: matplotlib>=3.0.0 in /opt/conda/lib/python3.10/site-packages (from ktrain) (3.7.4)\r\n",
      "Requirement already satisfied: pandas>=1.0.1 in /opt/conda/lib/python3.10/site-packages (from ktrain) (2.1.4)\r\n",
      "Requirement already satisfied: fastprogress>=0.1.21 in /opt/conda/lib/python3.10/site-packages (from ktrain) (1.0.3)\r\n",
      "Requirement already satisfied: requests in /opt/conda/lib/python3.10/site-packages (from ktrain) (2.31.0)\r\n",
      "Requirement already satisfied: joblib in /opt/conda/lib/python3.10/site-packages (from ktrain) (1.3.2)\r\n",
      "Requirement already satisfied: packaging in /opt/conda/lib/python3.10/site-packages (from ktrain) (21.3)\r\n",
      "Collecting langdetect (from ktrain)\r\n",
      "  Downloading langdetect-1.0.9.tar.gz (981 kB)\r\n",
      "\u001b[2K     \u001b[90m━━━━━━━━━━━━━━━━━━━━━━━━━━━━━━━━━━━━━━\u001b[0m \u001b[32m981.5/981.5 kB\u001b[0m \u001b[31m47.1 MB/s\u001b[0m eta \u001b[36m0:00:00\u001b[0m\r\n",
      "\u001b[?25h  Preparing metadata (setup.py) ... \u001b[?25l-\b \bdone\r\n",
      "\u001b[?25hRequirement already satisfied: jieba in /opt/conda/lib/python3.10/site-packages (from ktrain) (0.42.1)\r\n",
      "Requirement already satisfied: charset-normalizer in /opt/conda/lib/python3.10/site-packages (from ktrain) (3.3.2)\r\n",
      "Collecting chardet (from ktrain)\r\n",
      "  Downloading chardet-5.2.0-py3-none-any.whl.metadata (3.4 kB)\r\n",
      "Collecting syntok>1.3.3 (from ktrain)\r\n",
      "  Downloading syntok-1.4.4-py3-none-any.whl (24 kB)\r\n",
      "Collecting tika (from ktrain)\r\n",
      "  Downloading tika-2.6.0.tar.gz (27 kB)\r\n",
      "  Preparing metadata (setup.py) ... \u001b[?25l-\b \bdone\r\n",
      "\u001b[?25hRequirement already satisfied: transformers>=4.17.0 in /opt/conda/lib/python3.10/site-packages (from ktrain) (4.37.0)\r\n",
      "Requirement already satisfied: sentencepiece in /opt/conda/lib/python3.10/site-packages (from ktrain) (0.1.99)\r\n",
      "Collecting keras_bert>=0.86.0 (from ktrain)\r\n",
      "  Downloading keras-bert-0.89.0.tar.gz (25 kB)\r\n",
      "  Preparing metadata (setup.py) ... \u001b[?25l-\b \bdone\r\n",
      "\u001b[?25hCollecting whoosh (from ktrain)\r\n",
      "  Downloading Whoosh-2.7.4-py2.py3-none-any.whl (468 kB)\r\n",
      "\u001b[2K     \u001b[90m━━━━━━━━━━━━━━━━━━━━━━━━━━━━━━━━━━━━━━\u001b[0m \u001b[32m468.8/468.8 kB\u001b[0m \u001b[31m30.1 MB/s\u001b[0m eta \u001b[36m0:00:00\u001b[0m\r\n",
      "\u001b[?25hRequirement already satisfied: numpy in /opt/conda/lib/python3.10/site-packages (from keras_bert>=0.86.0->ktrain) (1.24.4)\r\n",
      "Collecting keras-transformer==0.40.0 (from keras_bert>=0.86.0->ktrain)\r\n",
      "  Downloading keras-transformer-0.40.0.tar.gz (9.7 kB)\r\n",
      "  Preparing metadata (setup.py) ... \u001b[?25l-\b \bdone\r\n",
      "\u001b[?25hCollecting keras-pos-embd==0.13.0 (from keras-transformer==0.40.0->keras_bert>=0.86.0->ktrain)\r\n",
      "  Downloading keras-pos-embd-0.13.0.tar.gz (5.6 kB)\r\n",
      "  Preparing metadata (setup.py) ... \u001b[?25l-\b \bdone\r\n",
      "\u001b[?25hCollecting keras-multi-head==0.29.0 (from keras-transformer==0.40.0->keras_bert>=0.86.0->ktrain)\r\n",
      "  Downloading keras-multi-head-0.29.0.tar.gz (13 kB)\r\n",
      "  Preparing metadata (setup.py) ... \u001b[?25l-\b \bdone\r\n",
      "\u001b[?25hCollecting keras-layer-normalization==0.16.0 (from keras-transformer==0.40.0->keras_bert>=0.86.0->ktrain)\r\n",
      "  Downloading keras-layer-normalization-0.16.0.tar.gz (3.9 kB)\r\n",
      "  Preparing metadata (setup.py) ... \u001b[?25l-\b \bdone\r\n",
      "\u001b[?25hCollecting keras-position-wise-feed-forward==0.8.0 (from keras-transformer==0.40.0->keras_bert>=0.86.0->ktrain)\r\n",
      "  Downloading keras-position-wise-feed-forward-0.8.0.tar.gz (4.1 kB)\r\n",
      "  Preparing metadata (setup.py) ... \u001b[?25l-\b \bdone\r\n",
      "\u001b[?25hCollecting keras-embed-sim==0.10.0 (from keras-transformer==0.40.0->keras_bert>=0.86.0->ktrain)\r\n",
      "  Downloading keras-embed-sim-0.10.0.tar.gz (3.6 kB)\r\n",
      "  Preparing metadata (setup.py) ... \u001b[?25l-\b \bdone\r\n",
      "\u001b[?25hCollecting keras-self-attention==0.51.0 (from keras-multi-head==0.29.0->keras-transformer==0.40.0->keras_bert>=0.86.0->ktrain)\r\n",
      "  Downloading keras-self-attention-0.51.0.tar.gz (11 kB)\r\n",
      "  Preparing metadata (setup.py) ... \u001b[?25l-\b \bdone\r\n",
      "\u001b[?25hRequirement already satisfied: contourpy>=1.0.1 in /opt/conda/lib/python3.10/site-packages (from matplotlib>=3.0.0->ktrain) (1.2.0)\r\n",
      "Requirement already satisfied: cycler>=0.10 in /opt/conda/lib/python3.10/site-packages (from matplotlib>=3.0.0->ktrain) (0.12.1)\r\n",
      "Requirement already satisfied: fonttools>=4.22.0 in /opt/conda/lib/python3.10/site-packages (from matplotlib>=3.0.0->ktrain) (4.47.0)\r\n",
      "Requirement already satisfied: kiwisolver>=1.0.1 in /opt/conda/lib/python3.10/site-packages (from matplotlib>=3.0.0->ktrain) (1.4.5)\r\n",
      "Requirement already satisfied: pillow>=6.2.0 in /opt/conda/lib/python3.10/site-packages (from matplotlib>=3.0.0->ktrain) (9.5.0)\r\n",
      "Requirement already satisfied: pyparsing>=2.3.1 in /opt/conda/lib/python3.10/site-packages (from matplotlib>=3.0.0->ktrain) (3.1.1)\r\n",
      "Requirement already satisfied: python-dateutil>=2.7 in /opt/conda/lib/python3.10/site-packages (from matplotlib>=3.0.0->ktrain) (2.8.2)\r\n",
      "Requirement already satisfied: pytz>=2020.1 in /opt/conda/lib/python3.10/site-packages (from pandas>=1.0.1->ktrain) (2023.3.post1)\r\n",
      "Requirement already satisfied: tzdata>=2022.1 in /opt/conda/lib/python3.10/site-packages (from pandas>=1.0.1->ktrain) (2023.4)\r\n",
      "Requirement already satisfied: regex>2016 in /opt/conda/lib/python3.10/site-packages (from syntok>1.3.3->ktrain) (2023.12.25)\r\n",
      "Requirement already satisfied: filelock in /opt/conda/lib/python3.10/site-packages (from transformers>=4.17.0->ktrain) (3.13.1)\r\n",
      "Requirement already satisfied: huggingface-hub<1.0,>=0.19.3 in /opt/conda/lib/python3.10/site-packages (from transformers>=4.17.0->ktrain) (0.20.3)\r\n",
      "Requirement already satisfied: pyyaml>=5.1 in /opt/conda/lib/python3.10/site-packages (from transformers>=4.17.0->ktrain) (6.0.1)\r\n",
      "Requirement already satisfied: tokenizers<0.19,>=0.14 in /opt/conda/lib/python3.10/site-packages (from transformers>=4.17.0->ktrain) (0.15.1)\r\n",
      "Requirement already satisfied: safetensors>=0.3.1 in /opt/conda/lib/python3.10/site-packages (from transformers>=4.17.0->ktrain) (0.4.2)\r\n",
      "Requirement already satisfied: tqdm>=4.27 in /opt/conda/lib/python3.10/site-packages (from transformers>=4.17.0->ktrain) (4.66.1)\r\n",
      "Requirement already satisfied: six in /opt/conda/lib/python3.10/site-packages (from langdetect->ktrain) (1.16.0)\r\n",
      "Requirement already satisfied: idna<4,>=2.5 in /opt/conda/lib/python3.10/site-packages (from requests->ktrain) (3.6)\r\n",
      "Requirement already satisfied: urllib3<3,>=1.21.1 in /opt/conda/lib/python3.10/site-packages (from requests->ktrain) (1.26.18)\r\n",
      "Requirement already satisfied: certifi>=2017.4.17 in /opt/conda/lib/python3.10/site-packages (from requests->ktrain) (2023.11.17)\r\n",
      "Requirement already satisfied: scipy>=1.3.2 in /opt/conda/lib/python3.10/site-packages (from scikit-learn->ktrain) (1.11.4)\r\n",
      "Requirement already satisfied: threadpoolctl>=2.0.0 in /opt/conda/lib/python3.10/site-packages (from scikit-learn->ktrain) (3.2.0)\r\n",
      "Requirement already satisfied: setuptools in /opt/conda/lib/python3.10/site-packages (from tika->ktrain) (69.0.3)\r\n",
      "Requirement already satisfied: fsspec>=2023.5.0 in /opt/conda/lib/python3.10/site-packages (from huggingface-hub<1.0,>=0.19.3->transformers>=4.17.0->ktrain) (2023.12.2)\r\n",
      "Requirement already satisfied: typing-extensions>=3.7.4.3 in /opt/conda/lib/python3.10/site-packages (from huggingface-hub<1.0,>=0.19.3->transformers>=4.17.0->ktrain) (4.9.0)\r\n",
      "Downloading chardet-5.2.0-py3-none-any.whl (199 kB)\r\n",
      "\u001b[2K   \u001b[90m━━━━━━━━━━━━━━━━━━━━━━━━━━━━━━━━━━━━━━━━\u001b[0m \u001b[32m199.4/199.4 kB\u001b[0m \u001b[31m13.4 MB/s\u001b[0m eta \u001b[36m0:00:00\u001b[0m\r\n",
      "\u001b[?25hBuilding wheels for collected packages: ktrain, keras_bert, keras-transformer, keras-embed-sim, keras-layer-normalization, keras-multi-head, keras-pos-embd, keras-position-wise-feed-forward, keras-self-attention, langdetect, tika\r\n",
      "  Building wheel for ktrain (setup.py) ... \u001b[?25l-\b \b\\\b \bdone\r\n",
      "\u001b[?25h  Created wheel for ktrain: filename=ktrain-0.40.0-py3-none-any.whl size=25319454 sha256=f470ef99e7c5c5405f9a4ce3466a9ef5acf511d0f250324f88aad0ec5eb274fa\r\n",
      "  Stored in directory: /root/.cache/pip/wheels/00/2d/0f/1fcda4d8c9a77b360dc1df7b43458ef5c95fcb85f556a8d211\r\n",
      "  Building wheel for keras_bert (setup.py) ... \u001b[?25l-\b \b\\\b \bdone\r\n",
      "\u001b[?25h  Created wheel for keras_bert: filename=keras_bert-0.89.0-py3-none-any.whl size=33499 sha256=bf50d1bcd27824ad55e587083e92a788b4a603c529157b5ffc0f82d386f83141\r\n",
      "  Stored in directory: /root/.cache/pip/wheels/89/0c/04/646b6fdf6375911b42c8d540a8a3fda8d5d77634e5dcbe7b26\r\n",
      "  Building wheel for keras-transformer (setup.py) ... \u001b[?25l-\b \b\\\b \bdone\r\n",
      "\u001b[?25h  Created wheel for keras-transformer: filename=keras_transformer-0.40.0-py3-none-any.whl size=12286 sha256=41e609dbd4e9df6d091a5eb9ccedef9872660f7539ec7371bda0b4c53ab10755\r\n",
      "  Stored in directory: /root/.cache/pip/wheels/f2/cb/22/75a0ad376129177f7c95c0d91331a18f5368fd657f4035ba7c\r\n",
      "  Building wheel for keras-embed-sim (setup.py) ... \u001b[?25l-\b \b\\\b \bdone\r\n",
      "\u001b[?25h  Created wheel for keras-embed-sim: filename=keras_embed_sim-0.10.0-py3-none-any.whl size=3943 sha256=67b6a67ecabf012ea386536c1ac7a52e79b114f136b7427bd5e7849909de9926\r\n",
      "  Stored in directory: /root/.cache/pip/wheels/82/32/c7/fd35d0d1b840a6c7cbd4343f808d10d0f7b87d271a4dbe796f\r\n",
      "  Building wheel for keras-layer-normalization (setup.py) ... \u001b[?25l-\b \b\\\b \bdone\r\n",
      "\u001b[?25h  Created wheel for keras-layer-normalization: filename=keras_layer_normalization-0.16.0-py3-none-any.whl size=4653 sha256=fddace34e43b16a8769ee47b7d576dffa2655ffbb4ecd89951cd2bcc29a8b86b\r\n",
      "  Stored in directory: /root/.cache/pip/wheels/ed/3a/4b/21db23c0cc56c4b219616e181f258eb7c57d36cc5d056fae9a\r\n",
      "  Building wheel for keras-multi-head (setup.py) ... \u001b[?25l-\b \b\\\b \bdone\r\n",
      "\u001b[?25h  Created wheel for keras-multi-head: filename=keras_multi_head-0.29.0-py3-none-any.whl size=14975 sha256=a2363b06b235b42c7e1539aa3d017b9dfcd9a3718a6ebd6d4b9aacda08de4325\r\n",
      "  Stored in directory: /root/.cache/pip/wheels/cb/23/4b/06d7ae21714f70fcc25b48f972cc8e5e7f4b6b764a038b509d\r\n",
      "  Building wheel for keras-pos-embd (setup.py) ... \u001b[?25l-\b \b\\\b \bdone\r\n",
      "\u001b[?25h  Created wheel for keras-pos-embd: filename=keras_pos_embd-0.13.0-py3-none-any.whl size=6946 sha256=fe3346b32bfc21adbd17aae67804e61b2edf84970bd111eaa5d79686b80f90b1\r\n",
      "  Stored in directory: /root/.cache/pip/wheels/78/07/1b/b1ca47b6ac338554b75c8f52c54e6a2bfbe1b07d79579979a4\r\n",
      "  Building wheel for keras-position-wise-feed-forward (setup.py) ... \u001b[?25l-\b \b\\\b \bdone\r\n",
      "\u001b[?25h  Created wheel for keras-position-wise-feed-forward: filename=keras_position_wise_feed_forward-0.8.0-py3-none-any.whl size=4968 sha256=c4aba7b80600c6a3e23e0353f0afda65c2659b4fcfbc48f7ec1afc9b772640be\r\n",
      "  Stored in directory: /root/.cache/pip/wheels/c1/6a/04/d1706a53b23b2cb5f9a0a76269bf87925daa1bca09eac01b21\r\n",
      "  Building wheel for keras-self-attention (setup.py) ... \u001b[?25l-\b \b\\\b \bdone\r\n",
      "\u001b[?25h  Created wheel for keras-self-attention: filename=keras_self_attention-0.51.0-py3-none-any.whl size=18895 sha256=3ba0bcdb7eaeba956720ccedcaa5b71e9090d2a1be589c48614bae07f3d5a348\r\n",
      "  Stored in directory: /root/.cache/pip/wheels/b8/f7/24/607b483144fb9c47b4ba2c5fba6b68e54aeee2d5bf6c05302e\r\n",
      "  Building wheel for langdetect (setup.py) ... \u001b[?25l-\b \bdone\r\n",
      "\u001b[?25h  Created wheel for langdetect: filename=langdetect-1.0.9-py3-none-any.whl size=993225 sha256=1df2804e41552d707025cf5aa722a791e7896cd3538d9523a413df46c0c7d592\r\n",
      "  Stored in directory: /root/.cache/pip/wheels/95/03/7d/59ea870c70ce4e5a370638b5462a7711ab78fba2f655d05106\r\n",
      "  Building wheel for tika (setup.py) ... \u001b[?25l-\b \bdone\r\n",
      "\u001b[?25h  Created wheel for tika: filename=tika-2.6.0-py3-none-any.whl size=32622 sha256=fab4b5f4f4f657eecfde5fb4909d6b9000d1c55ad557034196d1edcc1723d5db\r\n",
      "  Stored in directory: /root/.cache/pip/wheels/5f/71/c7/b757709531121b1700cffda5b6b0d4aad095fb507ec84316d0\r\n",
      "Successfully built ktrain keras_bert keras-transformer keras-embed-sim keras-layer-normalization keras-multi-head keras-pos-embd keras-position-wise-feed-forward keras-self-attention langdetect tika\r\n",
      "Installing collected packages: whoosh, syntok, langdetect, keras-self-attention, keras-position-wise-feed-forward, keras-pos-embd, keras-layer-normalization, keras-embed-sim, chardet, tika, keras-multi-head, keras-transformer, keras_bert, ktrain\r\n",
      "Successfully installed chardet-5.2.0 keras-embed-sim-0.10.0 keras-layer-normalization-0.16.0 keras-multi-head-0.29.0 keras-pos-embd-0.13.0 keras-position-wise-feed-forward-0.8.0 keras-self-attention-0.51.0 keras-transformer-0.40.0 keras_bert-0.89.0 ktrain-0.40.0 langdetect-1.0.9 syntok-1.4.4 tika-2.6.0 whoosh-2.7.4\r\n",
      "Note: you may need to restart the kernel to use updated packages.\n"
     ]
    }
   ],
   "source": [
    "pip install ktrain"
   ]
  },
  {
   "cell_type": "code",
   "execution_count": 25,
   "id": "7980bcd0",
   "metadata": {
    "editable": true,
    "execution": {
     "iopub.execute_input": "2024-02-18T13:42:44.003896Z",
     "iopub.status.busy": "2024-02-18T13:42:44.003498Z",
     "iopub.status.idle": "2024-02-18T13:43:07.266721Z",
     "shell.execute_reply": "2024-02-18T13:43:07.265709Z"
    },
    "id": "fe9e61fb",
    "papermill": {
     "duration": 23.297966,
     "end_time": "2024-02-18T13:43:07.269309",
     "exception": false,
     "start_time": "2024-02-18T13:42:43.971343",
     "status": "completed"
    },
    "scrolled": true,
    "slideshow": {
     "slide_type": ""
    },
    "tags": []
   },
   "outputs": [
    {
     "data": {
      "application/vnd.jupyter.widget-view+json": {
       "model_id": "1755b34f48c84d188369c069ff4c5e5c",
       "version_major": 2,
       "version_minor": 0
      },
      "text/plain": [
       "config.json:   0%|          | 0.00/586 [00:00<?, ?B/s]"
      ]
     },
     "metadata": {},
     "output_type": "display_data"
    },
    {
     "data": {
      "application/vnd.jupyter.widget-view+json": {
       "model_id": "20a39332cb6d4eefbf12c9c42ad3b844",
       "version_major": 2,
       "version_minor": 0
      },
      "text/plain": [
       "pytorch_model.bin:   0%|          | 0.00/443M [00:00<?, ?B/s]"
      ]
     },
     "metadata": {},
     "output_type": "display_data"
    }
   ],
   "source": [
    "import ktrain\n",
    "from ktrain import text\n",
    "MODEL_NAME = 'csebuetnlp/banglabert'\n",
    "t = text.Transformer(MODEL_NAME, maxlen=500)"
   ]
  },
  {
   "cell_type": "code",
   "execution_count": 26,
   "id": "c2ad5d1e",
   "metadata": {
    "execution": {
     "iopub.execute_input": "2024-02-18T13:43:07.333699Z",
     "iopub.status.busy": "2024-02-18T13:43:07.332914Z",
     "iopub.status.idle": "2024-02-18T13:43:14.173488Z",
     "shell.execute_reply": "2024-02-18T13:43:14.172558Z"
    },
    "id": "c269013f",
    "outputId": "cb456b25-48e5-4d5c-958b-2198c5418e05",
    "papermill": {
     "duration": 6.874646,
     "end_time": "2024-02-18T13:43:14.175620",
     "exception": false,
     "start_time": "2024-02-18T13:43:07.300974",
     "status": "completed"
    },
    "tags": []
   },
   "outputs": [
    {
     "name": "stdout",
     "output_type": "stream",
     "text": [
      "preprocessing train...\n",
      "language: bn\n",
      "train sequence lengths:\n",
      "\tmean : 14\n",
      "\t95percentile : 33\n",
      "\t99percentile : 42\n"
     ]
    },
    {
     "data": {
      "application/vnd.jupyter.widget-view+json": {
       "model_id": "0cd9a939069940319356541264cf66dd",
       "version_major": 2,
       "version_minor": 0
      },
      "text/plain": [
       "tokenizer_config.json:   0%|          | 0.00/119 [00:00<?, ?B/s]"
      ]
     },
     "metadata": {},
     "output_type": "display_data"
    },
    {
     "data": {
      "application/vnd.jupyter.widget-view+json": {
       "model_id": "21ff1a6a56e84ef88237497d84514791",
       "version_major": 2,
       "version_minor": 0
      },
      "text/plain": [
       "vocab.txt:   0%|          | 0.00/528k [00:00<?, ?B/s]"
      ]
     },
     "metadata": {},
     "output_type": "display_data"
    },
    {
     "data": {
      "application/vnd.jupyter.widget-view+json": {
       "model_id": "7ef4c4e72d6649e181536a42835daa08",
       "version_major": 2,
       "version_minor": 0
      },
      "text/plain": [
       "special_tokens_map.json:   0%|          | 0.00/112 [00:00<?, ?B/s]"
      ]
     },
     "metadata": {},
     "output_type": "display_data"
    },
    {
     "data": {
      "text/html": [
       "\n",
       "<style>\n",
       "    /* Turns off some styling */\n",
       "    progress {\n",
       "        /* gets rid of default border in Firefox and Opera. */\n",
       "        border: none;\n",
       "        /* Needs to be in here for Safari polyfill so background images work as expected. */\n",
       "        background-size: auto;\n",
       "    }\n",
       "    progress:not([value]), progress:not([value])::-webkit-progress-bar {\n",
       "        background: repeating-linear-gradient(45deg, #7e7e7e, #7e7e7e 10px, #5c5c5c 10px, #5c5c5c 20px);\n",
       "    }\n",
       "    .progress-bar-interrupted, .progress-bar-interrupted::-webkit-progress-bar {\n",
       "        background: #F44336;\n",
       "    }\n",
       "</style>\n"
      ],
      "text/plain": [
       "<IPython.core.display.HTML object>"
      ]
     },
     "metadata": {},
     "output_type": "display_data"
    },
    {
     "data": {
      "text/html": [],
      "text/plain": [
       "<IPython.core.display.HTML object>"
      ]
     },
     "metadata": {},
     "output_type": "display_data"
    },
    {
     "name": "stdout",
     "output_type": "stream",
     "text": [
      "Is Multi-Label? False\n",
      "preprocessing test...\n",
      "language: bn\n",
      "test sequence lengths:\n",
      "\tmean : 15\n",
      "\t95percentile : 33\n",
      "\t99percentile : 42\n"
     ]
    },
    {
     "data": {
      "text/html": [
       "\n",
       "<style>\n",
       "    /* Turns off some styling */\n",
       "    progress {\n",
       "        /* gets rid of default border in Firefox and Opera. */\n",
       "        border: none;\n",
       "        /* Needs to be in here for Safari polyfill so background images work as expected. */\n",
       "        background-size: auto;\n",
       "    }\n",
       "    progress:not([value]), progress:not([value])::-webkit-progress-bar {\n",
       "        background: repeating-linear-gradient(45deg, #7e7e7e, #7e7e7e 10px, #5c5c5c 10px, #5c5c5c 20px);\n",
       "    }\n",
       "    .progress-bar-interrupted, .progress-bar-interrupted::-webkit-progress-bar {\n",
       "        background: #F44336;\n",
       "    }\n",
       "</style>\n"
      ],
      "text/plain": [
       "<IPython.core.display.HTML object>"
      ]
     },
     "metadata": {},
     "output_type": "display_data"
    },
    {
     "data": {
      "text/html": [],
      "text/plain": [
       "<IPython.core.display.HTML object>"
      ]
     },
     "metadata": {},
     "output_type": "display_data"
    }
   ],
   "source": [
    "trn = t.preprocess_train(X_train, y_train)\n",
    "val = t.preprocess_test(X_test, y_test)"
   ]
  },
  {
   "cell_type": "code",
   "execution_count": 27,
   "id": "0537ee83",
   "metadata": {
    "execution": {
     "iopub.execute_input": "2024-02-18T13:43:14.242849Z",
     "iopub.status.busy": "2024-02-18T13:43:14.242521Z",
     "iopub.status.idle": "2024-02-18T13:43:14.247448Z",
     "shell.execute_reply": "2024-02-18T13:43:14.246494Z"
    },
    "papermill": {
     "duration": 0.040544,
     "end_time": "2024-02-18T13:43:14.249495",
     "exception": false,
     "start_time": "2024-02-18T13:43:14.208951",
     "status": "completed"
    },
    "tags": []
   },
   "outputs": [
    {
     "name": "stdout",
     "output_type": "stream",
     "text": [
      "<ktrain.text.dataset.TransformerDataset object at 0x7b79092d96c0>\n"
     ]
    }
   ],
   "source": [
    "print(trn)"
   ]
  },
  {
   "cell_type": "code",
   "execution_count": 28,
   "id": "87808bc9",
   "metadata": {
    "execution": {
     "iopub.execute_input": "2024-02-18T13:43:14.314800Z",
     "iopub.status.busy": "2024-02-18T13:43:14.314505Z",
     "iopub.status.idle": "2024-02-18T13:43:14.792116Z",
     "shell.execute_reply": "2024-02-18T13:43:14.791249Z"
    },
    "papermill": {
     "duration": 0.513438,
     "end_time": "2024-02-18T13:43:14.794725",
     "exception": false,
     "start_time": "2024-02-18T13:43:14.281287",
     "status": "completed"
    },
    "tags": []
   },
   "outputs": [
    {
     "data": {
      "image/png": "[encoded data removed]",
      "text/plain": [
       "<Figure size 1000x600 with 1 Axes>"
      ]
     },
     "metadata": {},
     "output_type": "display_data"
    }
   ],
   "source": [
    "import matplotlib.pyplot as plt\n",
    "\n",
    "# Calculate token lengths for train and test datasets\n",
    "train_token_lengths = [len(t.split()) for t in X_train]\n",
    "test_token_lengths = [len(t.split()) for t in X_test]\n",
    "\n",
    "# Plot token length distribution\n",
    "plt.figure(figsize=(10, 6))\n",
    "plt.hist(train_token_lengths, bins=50, alpha=0.5, color='blue', label='Train')\n",
    "plt.hist(test_token_lengths, bins=50, alpha=0.5, color='orange', label='Test')\n",
    "plt.xlabel('Token Length')\n",
    "plt.ylabel('Frequency')\n",
    "plt.title('Token Length Distribution')\n",
    "plt.legend()\n",
    "plt.show()"
   ]
  },
  {
   "cell_type": "code",
   "execution_count": 29,
   "id": "e38798d5",
   "metadata": {
    "execution": {
     "iopub.execute_input": "2024-02-18T13:43:14.862993Z",
     "iopub.status.busy": "2024-02-18T13:43:14.862646Z",
     "iopub.status.idle": "2024-02-18T13:43:16.670728Z",
     "shell.execute_reply": "2024-02-18T13:43:16.669917Z"
    },
    "id": "69d54231",
    "papermill": {
     "duration": 1.844011,
     "end_time": "2024-02-18T13:43:16.673036",
     "exception": false,
     "start_time": "2024-02-18T13:43:14.829025",
     "status": "completed"
    },
    "scrolled": true,
    "tags": []
   },
   "outputs": [],
   "source": [
    "model = t.get_classifier()"
   ]
  },
  {
   "cell_type": "code",
   "execution_count": 30,
   "id": "ca951c2f",
   "metadata": {
    "execution": {
     "iopub.execute_input": "2024-02-18T13:43:16.741023Z",
     "iopub.status.busy": "2024-02-18T13:43:16.740672Z",
     "iopub.status.idle": "2024-02-18T13:43:17.582905Z",
     "shell.execute_reply": "2024-02-18T13:43:17.582092Z"
    },
    "id": "7070ffb4",
    "papermill": {
     "duration": 0.878493,
     "end_time": "2024-02-18T13:43:17.585222",
     "exception": false,
     "start_time": "2024-02-18T13:43:16.706729",
     "status": "completed"
    },
    "tags": []
   },
   "outputs": [],
   "source": [
    "learner = ktrain.get_learner(model, train_data=trn, val_data=val, batch_size=8)"
   ]
  },
  {
   "cell_type": "code",
   "execution_count": 31,
   "id": "1fbdc264",
   "metadata": {
    "execution": {
     "iopub.execute_input": "2024-02-18T13:43:17.653507Z",
     "iopub.status.busy": "2024-02-18T13:43:17.653184Z",
     "iopub.status.idle": "2024-02-18T13:43:17.658153Z",
     "shell.execute_reply": "2024-02-18T13:43:17.657430Z"
    },
    "papermill": {
     "duration": 0.04036,
     "end_time": "2024-02-18T13:43:17.660067",
     "exception": false,
     "start_time": "2024-02-18T13:43:17.619707",
     "status": "completed"
    },
    "tags": []
   },
   "outputs": [],
   "source": [
    "# Adding early stopping callback from TensorFlow\n",
    "from tensorflow.keras.callbacks import EarlyStopping\n",
    "early_stopping = EarlyStopping(monitor='accuracy', patience=5, mode='auto')"
   ]
  },
  {
   "cell_type": "code",
   "execution_count": 32,
   "id": "d2198c70",
   "metadata": {
    "execution": {
     "iopub.execute_input": "2024-02-18T13:43:17.726272Z",
     "iopub.status.busy": "2024-02-18T13:43:17.726012Z",
     "iopub.status.idle": "2024-02-18T16:12:00.515080Z",
     "shell.execute_reply": "2024-02-18T16:12:00.513948Z"
    },
    "id": "e1e76e69",
    "outputId": "cec6ddcd-1ab2-4f18-a9ad-d4cd29195423",
    "papermill": {
     "duration": 8922.825253,
     "end_time": "2024-02-18T16:12:00.517670",
     "exception": false,
     "start_time": "2024-02-18T13:43:17.692417",
     "status": "completed"
    },
    "tags": []
   },
   "outputs": [
    {
     "name": "stdout",
     "output_type": "stream",
     "text": [
      "\n",
      "\n",
      "begin training using onecycle policy with max lr of 2e-05...\n",
      "Epoch 1/10\n",
      "1572/1572 [==============================] - 914s 565ms/step - loss: 0.8797 - accuracy: 0.6030 - val_loss: 0.7516 - val_accuracy: 0.6752\n",
      "Epoch 2/10\n",
      "1572/1572 [==============================] - 884s 563ms/step - loss: 0.6840 - accuracy: 0.7140 - val_loss: 0.6986 - val_accuracy: 0.7167\n",
      "Epoch 3/10\n",
      "1572/1572 [==============================] - 884s 562ms/step - loss: 0.5649 - accuracy: 0.7717 - val_loss: 0.6877 - val_accuracy: 0.7269\n",
      "Epoch 4/10\n",
      "1572/1572 [==============================] - 883s 562ms/step - loss: 0.4305 - accuracy: 0.8367 - val_loss: 0.7224 - val_accuracy: 0.7294\n",
      "Epoch 5/10\n",
      "1572/1572 [==============================] - 883s 562ms/step - loss: 0.3206 - accuracy: 0.8835 - val_loss: 0.9248 - val_accuracy: 0.7141\n",
      "Epoch 6/10\n",
      "1572/1572 [==============================] - 883s 562ms/step - loss: 0.2266 - accuracy: 0.9219 - val_loss: 0.8959 - val_accuracy: 0.7307\n",
      "Epoch 7/10\n",
      "1572/1572 [==============================] - 884s 563ms/step - loss: 0.1379 - accuracy: 0.9575 - val_loss: 1.0821 - val_accuracy: 0.7230\n",
      "Epoch 8/10\n",
      "1572/1572 [==============================] - 884s 563ms/step - loss: 0.0826 - accuracy: 0.9738 - val_loss: 1.1212 - val_accuracy: 0.7269\n",
      "Epoch 9/10\n",
      "1572/1572 [==============================] - 883s 561ms/step - loss: 0.0519 - accuracy: 0.9845 - val_loss: 1.2995 - val_accuracy: 0.7269\n",
      "Epoch 10/10\n",
      "1572/1572 [==============================] - 882s 561ms/step - loss: 0.0345 - accuracy: 0.9880 - val_loss: 1.3494 - val_accuracy: 0.7218\n"
     ]
    }
   ],
   "source": [
    "history = learner.fit_onecycle(2e-5, 10,callbacks=[early_stopping])"
   ]
  },
  {
   "cell_type": "code",
   "execution_count": 33,
   "id": "8e40dfde",
   "metadata": {
    "execution": {
     "iopub.execute_input": "2024-02-18T16:12:03.097043Z",
     "iopub.status.busy": "2024-02-18T16:12:03.096682Z",
     "iopub.status.idle": "2024-02-18T16:12:04.166585Z",
     "shell.execute_reply": "2024-02-18T16:12:04.165536Z"
    },
    "papermill": {
     "duration": 2.367963,
     "end_time": "2024-02-18T16:12:04.168912",
     "exception": false,
     "start_time": "2024-02-18T16:12:01.800949",
     "status": "completed"
    },
    "tags": []
   },
   "outputs": [],
   "source": [
    "# Save the trained model\n",
    "learner.save_model('/kaggle/output/model.zip')"
   ]
  },
  {
   "cell_type": "code",
   "execution_count": 34,
   "id": "c75bd175",
   "metadata": {
    "execution": {
     "iopub.execute_input": "2024-02-18T16:12:06.862250Z",
     "iopub.status.busy": "2024-02-18T16:12:06.861894Z",
     "iopub.status.idle": "2024-02-18T16:12:06.866136Z",
     "shell.execute_reply": "2024-02-18T16:12:06.865250Z"
    },
    "papermill": {
     "duration": 1.361786,
     "end_time": "2024-02-18T16:12:06.868037",
     "exception": false,
     "start_time": "2024-02-18T16:12:05.506251",
     "status": "completed"
    },
    "tags": []
   },
   "outputs": [],
   "source": [
    "classes=t.get_classes()"
   ]
  },
  {
   "cell_type": "code",
   "execution_count": 35,
   "id": "d6c3f765",
   "metadata": {
    "execution": {
     "iopub.execute_input": "2024-02-18T16:12:09.449828Z",
     "iopub.status.busy": "2024-02-18T16:12:09.449477Z",
     "iopub.status.idle": "2024-02-18T16:12:16.934502Z",
     "shell.execute_reply": "2024-02-18T16:12:16.933438Z"
    },
    "id": "2088a523",
    "papermill": {
     "duration": 8.762693,
     "end_time": "2024-02-18T16:12:16.936409",
     "exception": false,
     "start_time": "2024-02-18T16:12:08.173716",
     "status": "completed"
    },
    "tags": []
   },
   "outputs": [
    {
     "name": "stdout",
     "output_type": "stream",
     "text": [
      "49/49 [==============================] - 7s 89ms/step\n",
      "              precision    recall  f1-score   support\n",
      "\n",
      "    Negative       0.80      0.76      0.78       590\n",
      "     Neutral       0.52      0.54      0.53       354\n",
      "    Positive       0.76      0.79      0.78       623\n",
      "\n",
      "    accuracy                           0.72      1567\n",
      "   macro avg       0.70      0.70      0.70      1567\n",
      "weighted avg       0.72      0.72      0.72      1567\n",
      "\n"
     ]
    }
   ],
   "source": [
    "cm = learner.validate(class_names=t.get_classes())"
   ]
  },
  {
   "cell_type": "code",
   "execution_count": 36,
   "id": "c952e039",
   "metadata": {
    "execution": {
     "iopub.execute_input": "2024-02-18T16:12:19.544922Z",
     "iopub.status.busy": "2024-02-18T16:12:19.544086Z",
     "iopub.status.idle": "2024-02-18T16:12:19.550400Z",
     "shell.execute_reply": "2024-02-18T16:12:19.549547Z"
    },
    "papermill": {
     "duration": 1.283492,
     "end_time": "2024-02-18T16:12:19.552272",
     "exception": false,
     "start_time": "2024-02-18T16:12:18.268780",
     "status": "completed"
    },
    "tags": []
   },
   "outputs": [],
   "source": [
    "import os\n",
    "import subprocess\n",
    "from IPython.display import FileLink, display\n",
    "\n",
    "def download_file(path, download_file_name):\n",
    "    os.chdir('/kaggle/working/')\n",
    "    zip_name = f\"/kaggle/working/{download_file_name}.zip\"\n",
    "    command = f\"zip {zip_name} {path} -r\"\n",
    "    result = subprocess.run(command, shell=True, capture_output=True, text=True)\n",
    "    if result.returncode != 0:\n",
    "        print(\"Unable to run zip command!\")\n",
    "        print(result.stderr)\n",
    "        return\n",
    "    display(FileLink(f'{download_file_name}.zip'))"
   ]
  },
  {
   "cell_type": "code",
   "execution_count": 37,
   "id": "7e1f8691",
   "metadata": {
    "execution": {
     "iopub.execute_input": "2024-02-18T16:12:22.148818Z",
     "iopub.status.busy": "2024-02-18T16:12:22.147960Z",
     "iopub.status.idle": "2024-02-18T16:12:23.166959Z",
     "shell.execute_reply": "2024-02-18T16:12:23.165807Z"
    },
    "papermill": {
     "duration": 2.288423,
     "end_time": "2024-02-18T16:12:23.169151",
     "exception": false,
     "start_time": "2024-02-18T16:12:20.880728",
     "status": "completed"
    },
    "tags": []
   },
   "outputs": [
    {
     "name": "stderr",
     "output_type": "stream",
     "text": [
      "huggingface/tokenizers: The current process just got forked, after parallelism has already been used. Disabling parallelism to avoid deadlocks...\n",
      "To disable this warning, you can either:\n",
      "\t- Avoid using `tokenizers` before the fork if possible\n",
      "\t- Explicitly set the environment variable TOKENIZERS_PARALLELISM=(true | false)\n"
     ]
    },
    {
     "name": "stdout",
     "output_type": "stream",
     "text": [
      "\tzip warning: name not matched: /kaggle/output/model\r\n",
      "\r\n",
      "zip error: Nothing to do! (try: zip -r mental.zip . -i /kaggle/output/model)\r\n"
     ]
    }
   ],
   "source": [
    "!zip -r mental.zip /kaggle/output/model"
   ]
  },
  {
   "cell_type": "code",
   "execution_count": 38,
   "id": "f7693363",
   "metadata": {
    "execution": {
     "iopub.execute_input": "2024-02-18T16:12:25.863519Z",
     "iopub.status.busy": "2024-02-18T16:12:25.863064Z",
     "iopub.status.idle": "2024-02-18T16:12:26.933250Z",
     "shell.execute_reply": "2024-02-18T16:12:26.932259Z"
    },
    "papermill": {
     "duration": 2.431982,
     "end_time": "2024-02-18T16:12:26.935609",
     "exception": false,
     "start_time": "2024-02-18T16:12:24.503627",
     "status": "completed"
    },
    "tags": []
   },
   "outputs": [
    {
     "name": "stderr",
     "output_type": "stream",
     "text": [
      "huggingface/tokenizers: The current process just got forked, after parallelism has already been used. Disabling parallelism to avoid deadlocks...\n",
      "To disable this warning, you can either:\n",
      "\t- Avoid using `tokenizers` before the fork if possible\n",
      "\t- Explicitly set the environment variable TOKENIZERS_PARALLELISM=(true | false)\n"
     ]
    },
    {
     "name": "stdout",
     "output_type": "stream",
     "text": [
      "__notebook__.ipynb\r\n"
     ]
    }
   ],
   "source": [
    "!ls"
   ]
  },
  {
   "cell_type": "code",
   "execution_count": 39,
   "id": "4ec8559c",
   "metadata": {
    "execution": {
     "iopub.execute_input": "2024-02-18T16:12:29.547744Z",
     "iopub.status.busy": "2024-02-18T16:12:29.546800Z",
     "iopub.status.idle": "2024-02-18T16:12:29.551491Z",
     "shell.execute_reply": "2024-02-18T16:12:29.550603Z"
    },
    "papermill": {
     "duration": 1.348068,
     "end_time": "2024-02-18T16:12:29.553343",
     "exception": false,
     "start_time": "2024-02-18T16:12:28.205275",
     "status": "completed"
    },
    "tags": []
   },
   "outputs": [],
   "source": [
    "# from IPython.display import FileLink\n",
    "# FileLink(r'/kaggle/working/mental-health-rand.zip')"
   ]
  },
  {
   "cell_type": "code",
   "execution_count": 40,
   "id": "b016d99f",
   "metadata": {
    "execution": {
     "iopub.execute_input": "2024-02-18T16:12:32.103159Z",
     "iopub.status.busy": "2024-02-18T16:12:32.102789Z",
     "iopub.status.idle": "2024-02-18T16:12:32.107362Z",
     "shell.execute_reply": "2024-02-18T16:12:32.106436Z"
    },
    "id": "6R25zoclH47g",
    "papermill": {
     "duration": 1.278637,
     "end_time": "2024-02-18T16:12:32.109314",
     "exception": false,
     "start_time": "2024-02-18T16:12:30.830677",
     "status": "completed"
    },
    "tags": []
   },
   "outputs": [],
   "source": [
    "# df_cm = pd.DataFrame(cm, index=[\"Anxiety\",\"Bipolar\",\"Borderline Personality\", \"Depression \", \"Schizophernia\",\"Suidal Thought\",\"neutral\",\n",
    "#                                 \"Alcoholism\",\"Addiction\",\"Aspergers\",\"SelfHarm \"],\n",
    "#                      columns=[\"Anxiety\",\"Bipolar\",\"Borderline Personality\", \"Depression \", \"Schizophernia\",\"Suidal Thought\",\"neutral\",\n",
    "#                                 \"Alcoholism\",\"Addiction\",\"Aspergers\",\"SelfHarm \"])\n",
    "# plt.figure(figsize = (10,7))\n",
    "# sns.heatmap(df_cm,annot=True, fmt =\"d\")"
   ]
  },
  {
   "cell_type": "code",
   "execution_count": null,
   "id": "016912bc",
   "metadata": {
    "id": "RjxJrO1JZfNt",
    "papermill": {
     "duration": 1.351089,
     "end_time": "2024-02-18T16:12:34.827995",
     "exception": false,
     "start_time": "2024-02-18T16:12:33.476906",
     "status": "completed"
    },
    "tags": []
   },
   "outputs": [],
   "source": []
  }
 ],
 "metadata": {
  "kaggle": {
   "accelerator": "gpu",
   "dataSources": [
    {
     "datasetId": 4459106,
     "sourceId": 7649324,
     "sourceType": "datasetVersion"
    }
   ],
   "dockerImageVersionId": 30648,
   "isGpuEnabled": true,
   "isInternetEnabled": true,
   "language": "python",
   "sourceType": "notebook"
  },
  "kernelspec": {
   "display_name": "Python 3",
   "language": "python",
   "name": "python3"
  },
  "language_info": {
   "codemirror_mode": {
    "name": "ipython",
    "version": 3
   },
   "file_extension": ".py",
   "mimetype": "text/x-python",
   "name": "python",
   "nbconvert_exporter": "python",
   "pygments_lexer": "ipython3",
   "version": "3.10.13"
  },
  "papermill": {
   "default_parameters": {},
   "duration": 9074.478898,
   "end_time": "2024-02-18T16:12:38.833915",
   "environment_variables": {},
   "exception": null,
   "input_path": "__notebook__.ipynb",
   "output_path": "__notebook__.ipynb",
   "parameters": {},
   "start_time": "2024-02-18T13:41:24.355017",
   "version": "2.5.0"
  },
  "widgets": {
   "application/vnd.jupyter.widget-state+json": {
    "state": {
     "0cd9a939069940319356541264cf66dd": {
      "model_module": "@jupyter-widgets/controls",
      "model_module_version": "1.5.0",
      "model_name": "HBoxModel",
      "state": {
       "_dom_classes": [],
       "_model_module": "@jupyter-widgets/controls",
       "_model_module_version": "1.5.0",
       "_model_name": "HBoxModel",
       "_view_count": null,
       "_view_module": "@jupyter-widgets/controls",
       "_view_module_version": "1.5.0",
       "_view_name": "HBoxView",
       "box_style": "",
       "children": [
        "IPY_MODEL_c3228db696b346d9b8a1048a6bd4f9c8",
        "IPY_MODEL_dcc02b7e41f54b5fa17e06a5df9e0440",
        "IPY_MODEL_956025f1f9374601a45b9632a870d31e"
       ],
       "layout": "IPY_MODEL_32212878f62b472a9cbdd7af46a01eb8"
      }
     },
     "0d05a51a23674b81a044a1f83a4adceb": {
      "model_module": "@jupyter-widgets/base",
      "model_module_version": "1.2.0",
      "model_name": "LayoutModel",
      "state": {
       "_model_module": "@jupyter-widgets/base",
       "_model_module_version": "1.2.0",
       "_model_name": "LayoutModel",
       "_view_count": null,
       "_view_module": "@jupyter-widgets/base",
       "_view_module_version": "1.2.0",
       "_view_name": "LayoutView",
       "align_content": null,
       "align_items": null,
       "align_self": null,
       "border": null,
       "bottom": null,
       "display": null,
       "flex": null,
       "flex_flow": null,
       "grid_area": null,
       "grid_auto_columns": null,
       "grid_auto_flow": null,
       "grid_auto_rows": null,
       "grid_column": null,
       "grid_gap": null,
       "grid_row": null,
       "grid_template_areas": null,
       "grid_template_columns": null,
       "grid_template_rows": null,
       "height": null,
       "justify_content": null,
       "justify_items": null,
       "left": null,
       "margin": null,
       "max_height": null,
       "max_width": null,
       "min_height": null,
       "min_width": null,
       "object_fit": null,
       "object_position": null,
       "order": null,
       "overflow": null,
       "overflow_x": null,
       "overflow_y": null,
       "padding": null,
       "right": null,
       "top": null,
       "visibility": null,
       "width": null
      }
     },
     "0dad11e785ae46dab51444f5181812e3": {
      "model_module": "@jupyter-widgets/base",
      "model_module_version": "1.2.0",
      "model_name": "LayoutModel",
      "state": {
       "_model_module": "@jupyter-widgets/base",
       "_model_module_version": "1.2.0",
       "_model_name": "LayoutModel",
       "_view_count": null,
       "_view_module": "@jupyter-widgets/base",
       "_view_module_version": "1.2.0",
       "_view_name": "LayoutView",
       "align_content": null,
       "align_items": null,
       "align_self": null,
       "border": null,
       "bottom": null,
       "display": null,
       "flex": null,
       "flex_flow": null,
       "grid_area": null,
       "grid_auto_columns": null,
       "grid_auto_flow": null,
       "grid_auto_rows": null,
       "grid_column": null,
       "grid_gap": null,
       "grid_row": null,
       "grid_template_areas": null,
       "grid_template_columns": null,
       "grid_template_rows": null,
       "height": null,
       "justify_content": null,
       "justify_items": null,
       "left": null,
       "margin": null,
       "max_height": null,
       "max_width": null,
       "min_height": null,
       "min_width": null,
       "object_fit": null,
       "object_position": null,
       "order": null,
       "overflow": null,
       "overflow_x": null,
       "overflow_y": null,
       "padding": null,
       "right": null,
       "top": null,
       "visibility": null,
       "width": null
      }
     },
     "0eaf40400712401997ff7bae64421344": {
      "model_module": "@jupyter-widgets/base",
      "model_module_version": "1.2.0",
      "model_name": "LayoutModel",
      "state": {
       "_model_module": "@jupyter-widgets/base",
       "_model_module_version": "1.2.0",
       "_model_name": "LayoutModel",
       "_view_count": null,
       "_view_module": "@jupyter-widgets/base",
       "_view_module_version": "1.2.0",
       "_view_name": "LayoutView",
       "align_content": null,
       "align_items": null,
       "align_self": null,
       "border": null,
       "bottom": null,
       "display": null,
       "flex": null,
       "flex_flow": null,
       "grid_area": null,
       "grid_auto_columns": null,
       "grid_auto_flow": null,
       "grid_auto_rows": null,
       "grid_column": null,
       "grid_gap": null,
       "grid_row": null,
       "grid_template_areas": null,
       "grid_template_columns": null,
       "grid_template_rows": null,
       "height": null,
       "justify_content": null,
       "justify_items": null,
       "left": null,
       "margin": null,
       "max_height": null,
       "max_width": null,
       "min_height": null,
       "min_width": null,
       "object_fit": null,
       "object_position": null,
       "order": null,
       "overflow": null,
       "overflow_x": null,
       "overflow_y": null,
       "padding": null,
       "right": null,
       "top": null,
       "visibility": null,
       "width": null
      }
     },
     "0fed824e719a41cba8dc244a19da10b1": {
      "model_module": "@jupyter-widgets/controls",
      "model_module_version": "1.5.0",
      "model_name": "HTMLModel",
      "state": {
       "_dom_classes": [],
       "_model_module": "@jupyter-widgets/controls",
       "_model_module_version": "1.5.0",
       "_model_name": "HTMLModel",
       "_view_count": null,
       "_view_module": "@jupyter-widgets/controls",
       "_view_module_version": "1.5.0",
       "_view_name": "HTMLView",
       "description": "",
       "description_tooltip": null,
       "layout": "IPY_MODEL_0dad11e785ae46dab51444f5181812e3",
       "placeholder": "​",
       "style": "IPY_MODEL_d44243ff624c4f87bdf52ee610d8107d",
       "value": "vocab.txt: 100%"
      }
     },
     "12446afebf19467bb494fe333e872add": {
      "model_module": "@jupyter-widgets/base",
      "model_module_version": "1.2.0",
      "model_name": "LayoutModel",
      "state": {
       "_model_module": "@jupyter-widgets/base",
       "_model_module_version": "1.2.0",
       "_model_name": "LayoutModel",
       "_view_count": null,
       "_view_module": "@jupyter-widgets/base",
       "_view_module_version": "1.2.0",
       "_view_name": "LayoutView",
       "align_content": null,
       "align_items": null,
       "align_self": null,
       "border": null,
       "bottom": null,
       "display": null,
       "flex": null,
       "flex_flow": null,
       "grid_area": null,
       "grid_auto_columns": null,
       "grid_auto_flow": null,
       "grid_auto_rows": null,
       "grid_column": null,
       "grid_gap": null,
       "grid_row": null,
       "grid_template_areas": null,
       "grid_template_columns": null,
       "grid_template_rows": null,
       "height": null,
       "justify_content": null,
       "justify_items": null,
       "left": null,
       "margin": null,
       "max_height": null,
       "max_width": null,
       "min_height": null,
       "min_width": null,
       "object_fit": null,
       "object_position": null,
       "order": null,
       "overflow": null,
       "overflow_x": null,
       "overflow_y": null,
       "padding": null,
       "right": null,
       "top": null,
       "visibility": null,
       "width": null
      }
     },
     "162ed95228be4618998c5e090a5a642f": {
      "model_module": "@jupyter-widgets/base",
      "model_module_version": "1.2.0",
      "model_name": "LayoutModel",
      "state": {
       "_model_module": "@jupyter-widgets/base",
       "_model_module_version": "1.2.0",
       "_model_name": "LayoutModel",
       "_view_count": null,
       "_view_module": "@jupyter-widgets/base",
       "_view_module_version": "1.2.0",
       "_view_name": "LayoutView",
       "align_content": null,
       "align_items": null,
       "align_self": null,
       "border": null,
       "bottom": null,
       "display": null,
       "flex": null,
       "flex_flow": null,
       "grid_area": null,
       "grid_auto_columns": null,
       "grid_auto_flow": null,
       "grid_auto_rows": null,
       "grid_column": null,
       "grid_gap": null,
       "grid_row": null,
       "grid_template_areas": null,
       "grid_template_columns": null,
       "grid_template_rows": null,
       "height": null,
       "justify_content": null,
       "justify_items": null,
       "left": null,
       "margin": null,
       "max_height": null,
       "max_width": null,
       "min_height": null,
       "min_width": null,
       "object_fit": null,
       "object_position": null,
       "order": null,
       "overflow": null,
       "overflow_x": null,
       "overflow_y": null,
       "padding": null,
       "right": null,
       "top": null,
       "visibility": null,
       "width": null
      }
     },
     "1755b34f48c84d188369c069ff4c5e5c": {
      "model_module": "@jupyter-widgets/controls",
      "model_module_version": "1.5.0",
      "model_name": "HBoxModel",
      "state": {
       "_dom_classes": [],
       "_model_module": "@jupyter-widgets/controls",
       "_model_module_version": "1.5.0",
       "_model_name": "HBoxModel",
       "_view_count": null,
       "_view_module": "@jupyter-widgets/controls",
       "_view_module_version": "1.5.0",
       "_view_name": "HBoxView",
       "box_style": "",
       "children": [
        "IPY_MODEL_df5d6fa394e34f5fb1a89609a0c5a83d",
        "IPY_MODEL_fde1b22485404f1c84158161ab481597",
        "IPY_MODEL_7757df8473ce4835bab09959348e23ce"
       ],
       "layout": "IPY_MODEL_9c54be2ee8a54636bce6fa182904d7c1"
      }
     },
     "20a39332cb6d4eefbf12c9c42ad3b844": {
      "model_module": "@jupyter-widgets/controls",
      "model_module_version": "1.5.0",
      "model_name": "HBoxModel",
      "state": {
       "_dom_classes": [],
       "_model_module": "@jupyter-widgets/controls",
       "_model_module_version": "1.5.0",
       "_model_name": "HBoxModel",
       "_view_count": null,
       "_view_module": "@jupyter-widgets/controls",
       "_view_module_version": "1.5.0",
       "_view_name": "HBoxView",
       "box_style": "",
       "children": [
        "IPY_MODEL_5b722b4499f540d9bf9387da35d4c2a1",
        "IPY_MODEL_e536d78570d44be7b742226847104bdf",
        "IPY_MODEL_907f9f08ea984a7a9a42ae2321b4de63"
       ],
       "layout": "IPY_MODEL_0eaf40400712401997ff7bae64421344"
      }
     },
     "21ff1a6a56e84ef88237497d84514791": {
      "model_module": "@jupyter-widgets/controls",
      "model_module_version": "1.5.0",
      "model_name": "HBoxModel",
      "state": {
       "_dom_classes": [],
       "_model_module": "@jupyter-widgets/controls",
       "_model_module_version": "1.5.0",
       "_model_name": "HBoxModel",
       "_view_count": null,
       "_view_module": "@jupyter-widgets/controls",
       "_view_module_version": "1.5.0",
       "_view_name": "HBoxView",
       "box_style": "",
       "children": [
        "IPY_MODEL_0fed824e719a41cba8dc244a19da10b1",
        "IPY_MODEL_df91b938dffb4e2aadbb9ae4d4b2e046",
        "IPY_MODEL_7bcf673dce4944bb8cda8a20f2d21833"
       ],
       "layout": "IPY_MODEL_0d05a51a23674b81a044a1f83a4adceb"
      }
     },
     "23610d9f0e0540c3bbfb1b98b3d32d3d": {
      "model_module": "@jupyter-widgets/base",
      "model_module_version": "1.2.0",
      "model_name": "LayoutModel",
      "state": {
       "_model_module": "@jupyter-widgets/base",
       "_model_module_version": "1.2.0",
       "_model_name": "LayoutModel",
       "_view_count": null,
       "_view_module": "@jupyter-widgets/base",
       "_view_module_version": "1.2.0",
       "_view_name": "LayoutView",
       "align_content": null,
       "align_items": null,
       "align_self": null,
       "border": null,
       "bottom": null,
       "display": null,
       "flex": null,
       "flex_flow": null,
       "grid_area": null,
       "grid_auto_columns": null,
       "grid_auto_flow": null,
       "grid_auto_rows": null,
       "grid_column": null,
       "grid_gap": null,
       "grid_row": null,
       "grid_template_areas": null,
       "grid_template_columns": null,
       "grid_template_rows": null,
       "height": null,
       "justify_content": null,
       "justify_items": null,
       "left": null,
       "margin": null,
       "max_height": null,
       "max_width": null,
       "min_height": null,
       "min_width": null,
       "object_fit": null,
       "object_position": null,
       "order": null,
       "overflow": null,
       "overflow_x": null,
       "overflow_y": null,
       "padding": null,
       "right": null,
       "top": null,
       "visibility": null,
       "width": null
      }
     },
     "264e4133610740778adc3562f757769d": {
      "model_module": "@jupyter-widgets/base",
      "model_module_version": "1.2.0",
      "model_name": "LayoutModel",
      "state": {
       "_model_module": "@jupyter-widgets/base",
       "_model_module_version": "1.2.0",
       "_model_name": "LayoutModel",
       "_view_count": null,
       "_view_module": "@jupyter-widgets/base",
       "_view_module_version": "1.2.0",
       "_view_name": "LayoutView",
       "align_content": null,
       "align_items": null,
       "align_self": null,
       "border": null,
       "bottom": null,
       "display": null,
       "flex": null,
       "flex_flow": null,
       "grid_area": null,
       "grid_auto_columns": null,
       "grid_auto_flow": null,
       "grid_auto_rows": null,
       "grid_column": null,
       "grid_gap": null,
       "grid_row": null,
       "grid_template_areas": null,
       "grid_template_columns": null,
       "grid_template_rows": null,
       "height": null,
       "justify_content": null,
       "justify_items": null,
       "left": null,
       "margin": null,
       "max_height": null,
       "max_width": null,
       "min_height": null,
       "min_width": null,
       "object_fit": null,
       "object_position": null,
       "order": null,
       "overflow": null,
       "overflow_x": null,
       "overflow_y": null,
       "padding": null,
       "right": null,
       "top": null,
       "visibility": null,
       "width": null
      }
     },
     "32212878f62b472a9cbdd7af46a01eb8": {
      "model_module": "@jupyter-widgets/base",
      "model_module_version": "1.2.0",
      "model_name": "LayoutModel",
      "state": {
       "_model_module": "@jupyter-widgets/base",
       "_model_module_version": "1.2.0",
       "_model_name": "LayoutModel",
       "_view_count": null,
       "_view_module": "@jupyter-widgets/base",
       "_view_module_version": "1.2.0",
       "_view_name": "LayoutView",
       "align_content": null,
       "align_items": null,
       "align_self": null,
       "border": null,
       "bottom": null,
       "display": null,
       "flex": null,
       "flex_flow": null,
       "grid_area": null,
       "grid_auto_columns": null,
       "grid_auto_flow": null,
       "grid_auto_rows": null,
       "grid_column": null,
       "grid_gap": null,
       "grid_row": null,
       "grid_template_areas": null,
       "grid_template_columns": null,
       "grid_template_rows": null,
       "height": null,
       "justify_content": null,
       "justify_items": null,
       "left": null,
       "margin": null,
       "max_height": null,
       "max_width": null,
       "min_height": null,
       "min_width": null,
       "object_fit": null,
       "object_position": null,
       "order": null,
       "overflow": null,
       "overflow_x": null,
       "overflow_y": null,
       "padding": null,
       "right": null,
       "top": null,
       "visibility": null,
       "width": null
      }
     },
     "32de71558e5947aba5bbb8a01d800031": {
      "model_module": "@jupyter-widgets/base",
      "model_module_version": "1.2.0",
      "model_name": "LayoutModel",
      "state": {
       "_model_module": "@jupyter-widgets/base",
       "_model_module_version": "1.2.0",
       "_model_name": "LayoutModel",
       "_view_count": null,
       "_view_module": "@jupyter-widgets/base",
       "_view_module_version": "1.2.0",
       "_view_name": "LayoutView",
       "align_content": null,
       "align_items": null,
       "align_self": null,
       "border": null,
       "bottom": null,
       "display": null,
       "flex": null,
       "flex_flow": null,
       "grid_area": null,
       "grid_auto_columns": null,
       "grid_auto_flow": null,
       "grid_auto_rows": null,
       "grid_column": null,
       "grid_gap": null,
       "grid_row": null,
       "grid_template_areas": null,
       "grid_template_columns": null,
       "grid_template_rows": null,
       "height": null,
       "justify_content": null,
       "justify_items": null,
       "left": null,
       "margin": null,
       "max_height": null,
       "max_width": null,
       "min_height": null,
       "min_width": null,
       "object_fit": null,
       "object_position": null,
       "order": null,
       "overflow": null,
       "overflow_x": null,
       "overflow_y": null,
       "padding": null,
       "right": null,
       "top": null,
       "visibility": null,
       "width": null
      }
     },
     "32e3f0876e45441bad50c35324a8a37f": {
      "model_module": "@jupyter-widgets/controls",
      "model_module_version": "1.5.0",
      "model_name": "ProgressStyleModel",
      "state": {
       "_model_module": "@jupyter-widgets/controls",
       "_model_module_version": "1.5.0",
       "_model_name": "ProgressStyleModel",
       "_view_count": null,
       "_view_module": "@jupyter-widgets/base",
       "_view_module_version": "1.2.0",
       "_view_name": "StyleView",
       "bar_color": null,
       "description_width": ""
      }
     },
     "355998405fc7449ba0db290ddb78dc68": {
      "model_module": "@jupyter-widgets/controls",
      "model_module_version": "1.5.0",
      "model_name": "ProgressStyleModel",
      "state": {
       "_model_module": "@jupyter-widgets/controls",
       "_model_module_version": "1.5.0",
       "_model_name": "ProgressStyleModel",
       "_view_count": null,
       "_view_module": "@jupyter-widgets/base",
       "_view_module_version": "1.2.0",
       "_view_name": "StyleView",
       "bar_color": null,
       "description_width": ""
      }
     },
     "35fec7ef894a469eaef12d59cc81c167": {
      "model_module": "@jupyter-widgets/base",
      "model_module_version": "1.2.0",
      "model_name": "LayoutModel",
      "state": {
       "_model_module": "@jupyter-widgets/base",
       "_model_module_version": "1.2.0",
       "_model_name": "LayoutModel",
       "_view_count": null,
       "_view_module": "@jupyter-widgets/base",
       "_view_module_version": "1.2.0",
       "_view_name": "LayoutView",
       "align_content": null,
       "align_items": null,
       "align_self": null,
       "border": null,
       "bottom": null,
       "display": null,
       "flex": null,
       "flex_flow": null,
       "grid_area": null,
       "grid_auto_columns": null,
       "grid_auto_flow": null,
       "grid_auto_rows": null,
       "grid_column": null,
       "grid_gap": null,
       "grid_row": null,
       "grid_template_areas": null,
       "grid_template_columns": null,
       "grid_template_rows": null,
       "height": null,
       "justify_content": null,
       "justify_items": null,
       "left": null,
       "margin": null,
       "max_height": null,
       "max_width": null,
       "min_height": null,
       "min_width": null,
       "object_fit": null,
       "object_position": null,
       "order": null,
       "overflow": null,
       "overflow_x": null,
       "overflow_y": null,
       "padding": null,
       "right": null,
       "top": null,
       "visibility": null,
       "width": null
      }
     },
     "449ea6b3f7dc4d69853d424250738aad": {
      "model_module": "@jupyter-widgets/controls",
      "model_module_version": "1.5.0",
      "model_name": "DescriptionStyleModel",
      "state": {
       "_model_module": "@jupyter-widgets/controls",
       "_model_module_version": "1.5.0",
       "_model_name": "DescriptionStyleModel",
       "_view_count": null,
       "_view_module": "@jupyter-widgets/base",
       "_view_module_version": "1.2.0",
       "_view_name": "StyleView",
       "description_width": ""
      }
     },
     "470cfbe26a0b4e40ad5545496e7ee40f": {
      "model_module": "@jupyter-widgets/controls",
      "model_module_version": "1.5.0",
      "model_name": "ProgressStyleModel",
      "state": {
       "_model_module": "@jupyter-widgets/controls",
       "_model_module_version": "1.5.0",
       "_model_name": "ProgressStyleModel",
       "_view_count": null,
       "_view_module": "@jupyter-widgets/base",
       "_view_module_version": "1.2.0",
       "_view_name": "StyleView",
       "bar_color": null,
       "description_width": ""
      }
     },
     "4fcb6318d4354590a447d87c0bb623aa": {
      "model_module": "@jupyter-widgets/controls",
      "model_module_version": "1.5.0",
      "model_name": "DescriptionStyleModel",
      "state": {
       "_model_module": "@jupyter-widgets/controls",
       "_model_module_version": "1.5.0",
       "_model_name": "DescriptionStyleModel",
       "_view_count": null,
       "_view_module": "@jupyter-widgets/base",
       "_view_module_version": "1.2.0",
       "_view_name": "StyleView",
       "description_width": ""
      }
     },
     "5546752ddf5c41699fc70ac2a9b73df8": {
      "model_module": "@jupyter-widgets/controls",
      "model_module_version": "1.5.0",
      "model_name": "HTMLModel",
      "state": {
       "_dom_classes": [],
       "_model_module": "@jupyter-widgets/controls",
       "_model_module_version": "1.5.0",
       "_model_name": "HTMLModel",
       "_view_count": null,
       "_view_module": "@jupyter-widgets/controls",
       "_view_module_version": "1.5.0",
       "_view_name": "HTMLView",
       "description": "",
       "description_tooltip": null,
       "layout": "IPY_MODEL_d3f436c5846f4039a238f8b23a75be24",
       "placeholder": "​",
       "style": "IPY_MODEL_fd124933e95f4595802b1505c45167a5",
       "value": " 112/112 [00:00&lt;00:00, 9.65kB/s]"
      }
     },
     "57ee77955d134f8ca934021ec21524b3": {
      "model_module": "@jupyter-widgets/base",
      "model_module_version": "1.2.0",
      "model_name": "LayoutModel",
      "state": {
       "_model_module": "@jupyter-widgets/base",
       "_model_module_version": "1.2.0",
       "_model_name": "LayoutModel",
       "_view_count": null,
       "_view_module": "@jupyter-widgets/base",
       "_view_module_version": "1.2.0",
       "_view_name": "LayoutView",
       "align_content": null,
       "align_items": null,
       "align_self": null,
       "border": null,
       "bottom": null,
       "display": null,
       "flex": null,
       "flex_flow": null,
       "grid_area": null,
       "grid_auto_columns": null,
       "grid_auto_flow": null,
       "grid_auto_rows": null,
       "grid_column": null,
       "grid_gap": null,
       "grid_row": null,
       "grid_template_areas": null,
       "grid_template_columns": null,
       "grid_template_rows": null,
       "height": null,
       "justify_content": null,
       "justify_items": null,
       "left": null,
       "margin": null,
       "max_height": null,
       "max_width": null,
       "min_height": null,
       "min_width": null,
       "object_fit": null,
       "object_position": null,
       "order": null,
       "overflow": null,
       "overflow_x": null,
       "overflow_y": null,
       "padding": null,
       "right": null,
       "top": null,
       "visibility": null,
       "width": null
      }
     },
     "5b722b4499f540d9bf9387da35d4c2a1": {
      "model_module": "@jupyter-widgets/controls",
      "model_module_version": "1.5.0",
      "model_name": "HTMLModel",
      "state": {
       "_dom_classes": [],
       "_model_module": "@jupyter-widgets/controls",
       "_model_module_version": "1.5.0",
       "_model_name": "HTMLModel",
       "_view_count": null,
       "_view_module": "@jupyter-widgets/controls",
       "_view_module_version": "1.5.0",
       "_view_name": "HTMLView",
       "description": "",
       "description_tooltip": null,
       "layout": "IPY_MODEL_d5e6da3e62994ed187a4cf428d096ef3",
       "placeholder": "​",
       "style": "IPY_MODEL_a05bd9f8b54a4c989d7394c1fe3dc13e",
       "value": "pytorch_model.bin: 100%"
      }
     },
     "5d25b1a66ed04e8d9103fb4de1da86ac": {
      "model_module": "@jupyter-widgets/controls",
      "model_module_version": "1.5.0",
      "model_name": "DescriptionStyleModel",
      "state": {
       "_model_module": "@jupyter-widgets/controls",
       "_model_module_version": "1.5.0",
       "_model_name": "DescriptionStyleModel",
       "_view_count": null,
       "_view_module": "@jupyter-widgets/base",
       "_view_module_version": "1.2.0",
       "_view_name": "StyleView",
       "description_width": ""
      }
     },
     "7107608516d04d7783e66c170f52f27e": {
      "model_module": "@jupyter-widgets/controls",
      "model_module_version": "1.5.0",
      "model_name": "DescriptionStyleModel",
      "state": {
       "_model_module": "@jupyter-widgets/controls",
       "_model_module_version": "1.5.0",
       "_model_name": "DescriptionStyleModel",
       "_view_count": null,
       "_view_module": "@jupyter-widgets/base",
       "_view_module_version": "1.2.0",
       "_view_name": "StyleView",
       "description_width": ""
      }
     },
     "74a6e9790ac34574a99a94c58b613344": {
      "model_module": "@jupyter-widgets/controls",
      "model_module_version": "1.5.0",
      "model_name": "ProgressStyleModel",
      "state": {
       "_model_module": "@jupyter-widgets/controls",
       "_model_module_version": "1.5.0",
       "_model_name": "ProgressStyleModel",
       "_view_count": null,
       "_view_module": "@jupyter-widgets/base",
       "_view_module_version": "1.2.0",
       "_view_name": "StyleView",
       "bar_color": null,
       "description_width": ""
      }
     },
     "7757df8473ce4835bab09959348e23ce": {
      "model_module": "@jupyter-widgets/controls",
      "model_module_version": "1.5.0",
      "model_name": "HTMLModel",
      "state": {
       "_dom_classes": [],
       "_model_module": "@jupyter-widgets/controls",
       "_model_module_version": "1.5.0",
       "_model_name": "HTMLModel",
       "_view_count": null,
       "_view_module": "@jupyter-widgets/controls",
       "_view_module_version": "1.5.0",
       "_view_name": "HTMLView",
       "description": "",
       "description_tooltip": null,
       "layout": "IPY_MODEL_ba2f7bded29041fdb0523fea900d36c0",
       "placeholder": "​",
       "style": "IPY_MODEL_449ea6b3f7dc4d69853d424250738aad",
       "value": " 586/586 [00:00&lt;00:00, 35.5kB/s]"
      }
     },
     "7bcf673dce4944bb8cda8a20f2d21833": {
      "model_module": "@jupyter-widgets/controls",
      "model_module_version": "1.5.0",
      "model_name": "HTMLModel",
      "state": {
       "_dom_classes": [],
       "_model_module": "@jupyter-widgets/controls",
       "_model_module_version": "1.5.0",
       "_model_name": "HTMLModel",
       "_view_count": null,
       "_view_module": "@jupyter-widgets/controls",
       "_view_module_version": "1.5.0",
       "_view_name": "HTMLView",
       "description": "",
       "description_tooltip": null,
       "layout": "IPY_MODEL_23610d9f0e0540c3bbfb1b98b3d32d3d",
       "placeholder": "​",
       "style": "IPY_MODEL_4fcb6318d4354590a447d87c0bb623aa",
       "value": " 528k/528k [00:00&lt;00:00, 1.62MB/s]"
      }
     },
     "7ef4c4e72d6649e181536a42835daa08": {
      "model_module": "@jupyter-widgets/controls",
      "model_module_version": "1.5.0",
      "model_name": "HBoxModel",
      "state": {
       "_dom_classes": [],
       "_model_module": "@jupyter-widgets/controls",
       "_model_module_version": "1.5.0",
       "_model_name": "HBoxModel",
       "_view_count": null,
       "_view_module": "@jupyter-widgets/controls",
       "_view_module_version": "1.5.0",
       "_view_name": "HBoxView",
       "box_style": "",
       "children": [
        "IPY_MODEL_b89417921d174d94ad0d2f627d18e789",
        "IPY_MODEL_9b0876a2ca224694b93b6dd10f7b910f",
        "IPY_MODEL_5546752ddf5c41699fc70ac2a9b73df8"
       ],
       "layout": "IPY_MODEL_162ed95228be4618998c5e090a5a642f"
      }
     },
     "8ae565d2d5884c75ae1ebcacaa5fb238": {
      "model_module": "@jupyter-widgets/controls",
      "model_module_version": "1.5.0",
      "model_name": "ProgressStyleModel",
      "state": {
       "_model_module": "@jupyter-widgets/controls",
       "_model_module_version": "1.5.0",
       "_model_name": "ProgressStyleModel",
       "_view_count": null,
       "_view_module": "@jupyter-widgets/base",
       "_view_module_version": "1.2.0",
       "_view_name": "StyleView",
       "bar_color": null,
       "description_width": ""
      }
     },
     "907f9f08ea984a7a9a42ae2321b4de63": {
      "model_module": "@jupyter-widgets/controls",
      "model_module_version": "1.5.0",
      "model_name": "HTMLModel",
      "state": {
       "_dom_classes": [],
       "_model_module": "@jupyter-widgets/controls",
       "_model_module_version": "1.5.0",
       "_model_name": "HTMLModel",
       "_view_count": null,
       "_view_module": "@jupyter-widgets/controls",
       "_view_module_version": "1.5.0",
       "_view_name": "HTMLView",
       "description": "",
       "description_tooltip": null,
       "layout": "IPY_MODEL_a427dc9a76e040918de4722a1e1e7af0",
       "placeholder": "​",
       "style": "IPY_MODEL_7107608516d04d7783e66c170f52f27e",
       "value": " 443M/443M [00:01&lt;00:00, 297MB/s]"
      }
     },
     "956025f1f9374601a45b9632a870d31e": {
      "model_module": "@jupyter-widgets/controls",
      "model_module_version": "1.5.0",
      "model_name": "HTMLModel",
      "state": {
       "_dom_classes": [],
       "_model_module": "@jupyter-widgets/controls",
       "_model_module_version": "1.5.0",
       "_model_name": "HTMLModel",
       "_view_count": null,
       "_view_module": "@jupyter-widgets/controls",
       "_view_module_version": "1.5.0",
       "_view_name": "HTMLView",
       "description": "",
       "description_tooltip": null,
       "layout": "IPY_MODEL_57ee77955d134f8ca934021ec21524b3",
       "placeholder": "​",
       "style": "IPY_MODEL_d25b568b5e3b46119fab82c76ac74146",
       "value": " 119/119 [00:00&lt;00:00, 11.4kB/s]"
      }
     },
     "98c04a9035d6483eb567162ced98ee53": {
      "model_module": "@jupyter-widgets/base",
      "model_module_version": "1.2.0",
      "model_name": "LayoutModel",
      "state": {
       "_model_module": "@jupyter-widgets/base",
       "_model_module_version": "1.2.0",
       "_model_name": "LayoutModel",
       "_view_count": null,
       "_view_module": "@jupyter-widgets/base",
       "_view_module_version": "1.2.0",
       "_view_name": "LayoutView",
       "align_content": null,
       "align_items": null,
       "align_self": null,
       "border": null,
       "bottom": null,
       "display": null,
       "flex": null,
       "flex_flow": null,
       "grid_area": null,
       "grid_auto_columns": null,
       "grid_auto_flow": null,
       "grid_auto_rows": null,
       "grid_column": null,
       "grid_gap": null,
       "grid_row": null,
       "grid_template_areas": null,
       "grid_template_columns": null,
       "grid_template_rows": null,
       "height": null,
       "justify_content": null,
       "justify_items": null,
       "left": null,
       "margin": null,
       "max_height": null,
       "max_width": null,
       "min_height": null,
       "min_width": null,
       "object_fit": null,
       "object_position": null,
       "order": null,
       "overflow": null,
       "overflow_x": null,
       "overflow_y": null,
       "padding": null,
       "right": null,
       "top": null,
       "visibility": null,
       "width": null
      }
     },
     "9b0876a2ca224694b93b6dd10f7b910f": {
      "model_module": "@jupyter-widgets/controls",
      "model_module_version": "1.5.0",
      "model_name": "FloatProgressModel",
      "state": {
       "_dom_classes": [],
       "_model_module": "@jupyter-widgets/controls",
       "_model_module_version": "1.5.0",
       "_model_name": "FloatProgressModel",
       "_view_count": null,
       "_view_module": "@jupyter-widgets/controls",
       "_view_module_version": "1.5.0",
       "_view_name": "ProgressView",
       "bar_style": "success",
       "description": "",
       "description_tooltip": null,
       "layout": "IPY_MODEL_98c04a9035d6483eb567162ced98ee53",
       "max": 112.0,
       "min": 0.0,
       "orientation": "horizontal",
       "style": "IPY_MODEL_74a6e9790ac34574a99a94c58b613344",
       "value": 112.0
      }
     },
     "9c54be2ee8a54636bce6fa182904d7c1": {
      "model_module": "@jupyter-widgets/base",
      "model_module_version": "1.2.0",
      "model_name": "LayoutModel",
      "state": {
       "_model_module": "@jupyter-widgets/base",
       "_model_module_version": "1.2.0",
       "_model_name": "LayoutModel",
       "_view_count": null,
       "_view_module": "@jupyter-widgets/base",
       "_view_module_version": "1.2.0",
       "_view_name": "LayoutView",
       "align_content": null,
       "align_items": null,
       "align_self": null,
       "border": null,
       "bottom": null,
       "display": null,
       "flex": null,
       "flex_flow": null,
       "grid_area": null,
       "grid_auto_columns": null,
       "grid_auto_flow": null,
       "grid_auto_rows": null,
       "grid_column": null,
       "grid_gap": null,
       "grid_row": null,
       "grid_template_areas": null,
       "grid_template_columns": null,
       "grid_template_rows": null,
       "height": null,
       "justify_content": null,
       "justify_items": null,
       "left": null,
       "margin": null,
       "max_height": null,
       "max_width": null,
       "min_height": null,
       "min_width": null,
       "object_fit": null,
       "object_position": null,
       "order": null,
       "overflow": null,
       "overflow_x": null,
       "overflow_y": null,
       "padding": null,
       "right": null,
       "top": null,
       "visibility": null,
       "width": null
      }
     },
     "a05bd9f8b54a4c989d7394c1fe3dc13e": {
      "model_module": "@jupyter-widgets/controls",
      "model_module_version": "1.5.0",
      "model_name": "DescriptionStyleModel",
      "state": {
       "_model_module": "@jupyter-widgets/controls",
       "_model_module_version": "1.5.0",
       "_model_name": "DescriptionStyleModel",
       "_view_count": null,
       "_view_module": "@jupyter-widgets/base",
       "_view_module_version": "1.2.0",
       "_view_name": "StyleView",
       "description_width": ""
      }
     },
     "a427dc9a76e040918de4722a1e1e7af0": {
      "model_module": "@jupyter-widgets/base",
      "model_module_version": "1.2.0",
      "model_name": "LayoutModel",
      "state": {
       "_model_module": "@jupyter-widgets/base",
       "_model_module_version": "1.2.0",
       "_model_name": "LayoutModel",
       "_view_count": null,
       "_view_module": "@jupyter-widgets/base",
       "_view_module_version": "1.2.0",
       "_view_name": "LayoutView",
       "align_content": null,
       "align_items": null,
       "align_self": null,
       "border": null,
       "bottom": null,
       "display": null,
       "flex": null,
       "flex_flow": null,
       "grid_area": null,
       "grid_auto_columns": null,
       "grid_auto_flow": null,
       "grid_auto_rows": null,
       "grid_column": null,
       "grid_gap": null,
       "grid_row": null,
       "grid_template_areas": null,
       "grid_template_columns": null,
       "grid_template_rows": null,
       "height": null,
       "justify_content": null,
       "justify_items": null,
       "left": null,
       "margin": null,
       "max_height": null,
       "max_width": null,
       "min_height": null,
       "min_width": null,
       "object_fit": null,
       "object_position": null,
       "order": null,
       "overflow": null,
       "overflow_x": null,
       "overflow_y": null,
       "padding": null,
       "right": null,
       "top": null,
       "visibility": null,
       "width": null
      }
     },
     "b89417921d174d94ad0d2f627d18e789": {
      "model_module": "@jupyter-widgets/controls",
      "model_module_version": "1.5.0",
      "model_name": "HTMLModel",
      "state": {
       "_dom_classes": [],
       "_model_module": "@jupyter-widgets/controls",
       "_model_module_version": "1.5.0",
       "_model_name": "HTMLModel",
       "_view_count": null,
       "_view_module": "@jupyter-widgets/controls",
       "_view_module_version": "1.5.0",
       "_view_name": "HTMLView",
       "description": "",
       "description_tooltip": null,
       "layout": "IPY_MODEL_c3d423746a664df78fcdbaa3f4766aea",
       "placeholder": "​",
       "style": "IPY_MODEL_5d25b1a66ed04e8d9103fb4de1da86ac",
       "value": "special_tokens_map.json: 100%"
      }
     },
     "ba2f7bded29041fdb0523fea900d36c0": {
      "model_module": "@jupyter-widgets/base",
      "model_module_version": "1.2.0",
      "model_name": "LayoutModel",
      "state": {
       "_model_module": "@jupyter-widgets/base",
       "_model_module_version": "1.2.0",
       "_model_name": "LayoutModel",
       "_view_count": null,
       "_view_module": "@jupyter-widgets/base",
       "_view_module_version": "1.2.0",
       "_view_name": "LayoutView",
       "align_content": null,
       "align_items": null,
       "align_self": null,
       "border": null,
       "bottom": null,
       "display": null,
       "flex": null,
       "flex_flow": null,
       "grid_area": null,
       "grid_auto_columns": null,
       "grid_auto_flow": null,
       "grid_auto_rows": null,
       "grid_column": null,
       "grid_gap": null,
       "grid_row": null,
       "grid_template_areas": null,
       "grid_template_columns": null,
       "grid_template_rows": null,
       "height": null,
       "justify_content": null,
       "justify_items": null,
       "left": null,
       "margin": null,
       "max_height": null,
       "max_width": null,
       "min_height": null,
       "min_width": null,
       "object_fit": null,
       "object_position": null,
       "order": null,
       "overflow": null,
       "overflow_x": null,
       "overflow_y": null,
       "padding": null,
       "right": null,
       "top": null,
       "visibility": null,
       "width": null
      }
     },
     "bd8cc3b322b64b9399093c97752fa234": {
      "model_module": "@jupyter-widgets/controls",
      "model_module_version": "1.5.0",
      "model_name": "DescriptionStyleModel",
      "state": {
       "_model_module": "@jupyter-widgets/controls",
       "_model_module_version": "1.5.0",
       "_model_name": "DescriptionStyleModel",
       "_view_count": null,
       "_view_module": "@jupyter-widgets/base",
       "_view_module_version": "1.2.0",
       "_view_name": "StyleView",
       "description_width": ""
      }
     },
     "c3228db696b346d9b8a1048a6bd4f9c8": {
      "model_module": "@jupyter-widgets/controls",
      "model_module_version": "1.5.0",
      "model_name": "HTMLModel",
      "state": {
       "_dom_classes": [],
       "_model_module": "@jupyter-widgets/controls",
       "_model_module_version": "1.5.0",
       "_model_name": "HTMLModel",
       "_view_count": null,
       "_view_module": "@jupyter-widgets/controls",
       "_view_module_version": "1.5.0",
       "_view_name": "HTMLView",
       "description": "",
       "description_tooltip": null,
       "layout": "IPY_MODEL_cfad890d91614bb2b03c01bff2b61df9",
       "placeholder": "​",
       "style": "IPY_MODEL_bd8cc3b322b64b9399093c97752fa234",
       "value": "tokenizer_config.json: 100%"
      }
     },
     "c3d423746a664df78fcdbaa3f4766aea": {
      "model_module": "@jupyter-widgets/base",
      "model_module_version": "1.2.0",
      "model_name": "LayoutModel",
      "state": {
       "_model_module": "@jupyter-widgets/base",
       "_model_module_version": "1.2.0",
       "_model_name": "LayoutModel",
       "_view_count": null,
       "_view_module": "@jupyter-widgets/base",
       "_view_module_version": "1.2.0",
       "_view_name": "LayoutView",
       "align_content": null,
       "align_items": null,
       "align_self": null,
       "border": null,
       "bottom": null,
       "display": null,
       "flex": null,
       "flex_flow": null,
       "grid_area": null,
       "grid_auto_columns": null,
       "grid_auto_flow": null,
       "grid_auto_rows": null,
       "grid_column": null,
       "grid_gap": null,
       "grid_row": null,
       "grid_template_areas": null,
       "grid_template_columns": null,
       "grid_template_rows": null,
       "height": null,
       "justify_content": null,
       "justify_items": null,
       "left": null,
       "margin": null,
       "max_height": null,
       "max_width": null,
       "min_height": null,
       "min_width": null,
       "object_fit": null,
       "object_position": null,
       "order": null,
       "overflow": null,
       "overflow_x": null,
       "overflow_y": null,
       "padding": null,
       "right": null,
       "top": null,
       "visibility": null,
       "width": null
      }
     },
     "c3f3fbc4b65c4b7d869dad159af18c14": {
      "model_module": "@jupyter-widgets/controls",
      "model_module_version": "1.5.0",
      "model_name": "DescriptionStyleModel",
      "state": {
       "_model_module": "@jupyter-widgets/controls",
       "_model_module_version": "1.5.0",
       "_model_name": "DescriptionStyleModel",
       "_view_count": null,
       "_view_module": "@jupyter-widgets/base",
       "_view_module_version": "1.2.0",
       "_view_name": "StyleView",
       "description_width": ""
      }
     },
     "cfad890d91614bb2b03c01bff2b61df9": {
      "model_module": "@jupyter-widgets/base",
      "model_module_version": "1.2.0",
      "model_name": "LayoutModel",
      "state": {
       "_model_module": "@jupyter-widgets/base",
       "_model_module_version": "1.2.0",
       "_model_name": "LayoutModel",
       "_view_count": null,
       "_view_module": "@jupyter-widgets/base",
       "_view_module_version": "1.2.0",
       "_view_name": "LayoutView",
       "align_content": null,
       "align_items": null,
       "align_self": null,
       "border": null,
       "bottom": null,
       "display": null,
       "flex": null,
       "flex_flow": null,
       "grid_area": null,
       "grid_auto_columns": null,
       "grid_auto_flow": null,
       "grid_auto_rows": null,
       "grid_column": null,
       "grid_gap": null,
       "grid_row": null,
       "grid_template_areas": null,
       "grid_template_columns": null,
       "grid_template_rows": null,
       "height": null,
       "justify_content": null,
       "justify_items": null,
       "left": null,
       "margin": null,
       "max_height": null,
       "max_width": null,
       "min_height": null,
       "min_width": null,
       "object_fit": null,
       "object_position": null,
       "order": null,
       "overflow": null,
       "overflow_x": null,
       "overflow_y": null,
       "padding": null,
       "right": null,
       "top": null,
       "visibility": null,
       "width": null
      }
     },
     "d25b568b5e3b46119fab82c76ac74146": {
      "model_module": "@jupyter-widgets/controls",
      "model_module_version": "1.5.0",
      "model_name": "DescriptionStyleModel",
      "state": {
       "_model_module": "@jupyter-widgets/controls",
       "_model_module_version": "1.5.0",
       "_model_name": "DescriptionStyleModel",
       "_view_count": null,
       "_view_module": "@jupyter-widgets/base",
       "_view_module_version": "1.2.0",
       "_view_name": "StyleView",
       "description_width": ""
      }
     },
     "d3f436c5846f4039a238f8b23a75be24": {
      "model_module": "@jupyter-widgets/base",
      "model_module_version": "1.2.0",
      "model_name": "LayoutModel",
      "state": {
       "_model_module": "@jupyter-widgets/base",
       "_model_module_version": "1.2.0",
       "_model_name": "LayoutModel",
       "_view_count": null,
       "_view_module": "@jupyter-widgets/base",
       "_view_module_version": "1.2.0",
       "_view_name": "LayoutView",
       "align_content": null,
       "align_items": null,
       "align_self": null,
       "border": null,
       "bottom": null,
       "display": null,
       "flex": null,
       "flex_flow": null,
       "grid_area": null,
       "grid_auto_columns": null,
       "grid_auto_flow": null,
       "grid_auto_rows": null,
       "grid_column": null,
       "grid_gap": null,
       "grid_row": null,
       "grid_template_areas": null,
       "grid_template_columns": null,
       "grid_template_rows": null,
       "height": null,
       "justify_content": null,
       "justify_items": null,
       "left": null,
       "margin": null,
       "max_height": null,
       "max_width": null,
       "min_height": null,
       "min_width": null,
       "object_fit": null,
       "object_position": null,
       "order": null,
       "overflow": null,
       "overflow_x": null,
       "overflow_y": null,
       "padding": null,
       "right": null,
       "top": null,
       "visibility": null,
       "width": null
      }
     },
     "d44243ff624c4f87bdf52ee610d8107d": {
      "model_module": "@jupyter-widgets/controls",
      "model_module_version": "1.5.0",
      "model_name": "DescriptionStyleModel",
      "state": {
       "_model_module": "@jupyter-widgets/controls",
       "_model_module_version": "1.5.0",
       "_model_name": "DescriptionStyleModel",
       "_view_count": null,
       "_view_module": "@jupyter-widgets/base",
       "_view_module_version": "1.2.0",
       "_view_name": "StyleView",
       "description_width": ""
      }
     },
     "d5e6da3e62994ed187a4cf428d096ef3": {
      "model_module": "@jupyter-widgets/base",
      "model_module_version": "1.2.0",
      "model_name": "LayoutModel",
      "state": {
       "_model_module": "@jupyter-widgets/base",
       "_model_module_version": "1.2.0",
       "_model_name": "LayoutModel",
       "_view_count": null,
       "_view_module": "@jupyter-widgets/base",
       "_view_module_version": "1.2.0",
       "_view_name": "LayoutView",
       "align_content": null,
       "align_items": null,
       "align_self": null,
       "border": null,
       "bottom": null,
       "display": null,
       "flex": null,
       "flex_flow": null,
       "grid_area": null,
       "grid_auto_columns": null,
       "grid_auto_flow": null,
       "grid_auto_rows": null,
       "grid_column": null,
       "grid_gap": null,
       "grid_row": null,
       "grid_template_areas": null,
       "grid_template_columns": null,
       "grid_template_rows": null,
       "height": null,
       "justify_content": null,
       "justify_items": null,
       "left": null,
       "margin": null,
       "max_height": null,
       "max_width": null,
       "min_height": null,
       "min_width": null,
       "object_fit": null,
       "object_position": null,
       "order": null,
       "overflow": null,
       "overflow_x": null,
       "overflow_y": null,
       "padding": null,
       "right": null,
       "top": null,
       "visibility": null,
       "width": null
      }
     },
     "dcc02b7e41f54b5fa17e06a5df9e0440": {
      "model_module": "@jupyter-widgets/controls",
      "model_module_version": "1.5.0",
      "model_name": "FloatProgressModel",
      "state": {
       "_dom_classes": [],
       "_model_module": "@jupyter-widgets/controls",
       "_model_module_version": "1.5.0",
       "_model_name": "FloatProgressModel",
       "_view_count": null,
       "_view_module": "@jupyter-widgets/controls",
       "_view_module_version": "1.5.0",
       "_view_name": "ProgressView",
       "bar_style": "success",
       "description": "",
       "description_tooltip": null,
       "layout": "IPY_MODEL_264e4133610740778adc3562f757769d",
       "max": 119.0,
       "min": 0.0,
       "orientation": "horizontal",
       "style": "IPY_MODEL_355998405fc7449ba0db290ddb78dc68",
       "value": 119.0
      }
     },
     "df5d6fa394e34f5fb1a89609a0c5a83d": {
      "model_module": "@jupyter-widgets/controls",
      "model_module_version": "1.5.0",
      "model_name": "HTMLModel",
      "state": {
       "_dom_classes": [],
       "_model_module": "@jupyter-widgets/controls",
       "_model_module_version": "1.5.0",
       "_model_name": "HTMLModel",
       "_view_count": null,
       "_view_module": "@jupyter-widgets/controls",
       "_view_module_version": "1.5.0",
       "_view_name": "HTMLView",
       "description": "",
       "description_tooltip": null,
       "layout": "IPY_MODEL_35fec7ef894a469eaef12d59cc81c167",
       "placeholder": "​",
       "style": "IPY_MODEL_c3f3fbc4b65c4b7d869dad159af18c14",
       "value": "config.json: 100%"
      }
     },
     "df91b938dffb4e2aadbb9ae4d4b2e046": {
      "model_module": "@jupyter-widgets/controls",
      "model_module_version": "1.5.0",
      "model_name": "FloatProgressModel",
      "state": {
       "_dom_classes": [],
       "_model_module": "@jupyter-widgets/controls",
       "_model_module_version": "1.5.0",
       "_model_name": "FloatProgressModel",
       "_view_count": null,
       "_view_module": "@jupyter-widgets/controls",
       "_view_module_version": "1.5.0",
       "_view_name": "ProgressView",
       "bar_style": "success",
       "description": "",
       "description_tooltip": null,
       "layout": "IPY_MODEL_32de71558e5947aba5bbb8a01d800031",
       "max": 528316.0,
       "min": 0.0,
       "orientation": "horizontal",
       "style": "IPY_MODEL_470cfbe26a0b4e40ad5545496e7ee40f",
       "value": 528316.0
      }
     },
     "e536d78570d44be7b742226847104bdf": {
      "model_module": "@jupyter-widgets/controls",
      "model_module_version": "1.5.0",
      "model_name": "FloatProgressModel",
      "state": {
       "_dom_classes": [],
       "_model_module": "@jupyter-widgets/controls",
       "_model_module_version": "1.5.0",
       "_model_name": "FloatProgressModel",
       "_view_count": null,
       "_view_module": "@jupyter-widgets/controls",
       "_view_module_version": "1.5.0",
       "_view_name": "ProgressView",
       "bar_style": "success",
       "description": "",
       "description_tooltip": null,
       "layout": "IPY_MODEL_fbf6d4fe794e4ce58d663eed91178687",
       "max": 442560329.0,
       "min": 0.0,
       "orientation": "horizontal",
       "style": "IPY_MODEL_8ae565d2d5884c75ae1ebcacaa5fb238",
       "value": 442560329.0
      }
     },
     "fbf6d4fe794e4ce58d663eed91178687": {
      "model_module": "@jupyter-widgets/base",
      "model_module_version": "1.2.0",
      "model_name": "LayoutModel",
      "state": {
       "_model_module": "@jupyter-widgets/base",
       "_model_module_version": "1.2.0",
       "_model_name": "LayoutModel",
       "_view_count": null,
       "_view_module": "@jupyter-widgets/base",
       "_view_module_version": "1.2.0",
       "_view_name": "LayoutView",
       "align_content": null,
       "align_items": null,
       "align_self": null,
       "border": null,
       "bottom": null,
       "display": null,
       "flex": null,
       "flex_flow": null,
       "grid_area": null,
       "grid_auto_columns": null,
       "grid_auto_flow": null,
       "grid_auto_rows": null,
       "grid_column": null,
       "grid_gap": null,
       "grid_row": null,
       "grid_template_areas": null,
       "grid_template_columns": null,
       "grid_template_rows": null,
       "height": null,
       "justify_content": null,
       "justify_items": null,
       "left": null,
       "margin": null,
       "max_height": null,
       "max_width": null,
       "min_height": null,
       "min_width": null,
       "object_fit": null,
       "object_position": null,
       "order": null,
       "overflow": null,
       "overflow_x": null,
       "overflow_y": null,
       "padding": null,
       "right": null,
       "top": null,
       "visibility": null,
       "width": null
      }
     },
     "fd124933e95f4595802b1505c45167a5": {
      "model_module": "@jupyter-widgets/controls",
      "model_module_version": "1.5.0",
      "model_name": "DescriptionStyleModel",
      "state": {
       "_model_module": "@jupyter-widgets/controls",
       "_model_module_version": "1.5.0",
       "_model_name": "DescriptionStyleModel",
       "_view_count": null,
       "_view_module": "@jupyter-widgets/base",
       "_view_module_version": "1.2.0",
       "_view_name": "StyleView",
       "description_width": ""
      }
     },
     "fde1b22485404f1c84158161ab481597": {
      "model_module": "@jupyter-widgets/controls",
      "model_module_version": "1.5.0",
      "model_name": "FloatProgressModel",
      "state": {
       "_dom_classes": [],
       "_model_module": "@jupyter-widgets/controls",
       "_model_module_version": "1.5.0",
       "_model_name": "FloatProgressModel",
       "_view_count": null,
       "_view_module": "@jupyter-widgets/controls",
       "_view_module_version": "1.5.0",
       "_view_name": "ProgressView",
       "bar_style": "success",
       "description": "",
       "description_tooltip": null,
       "layout": "IPY_MODEL_12446afebf19467bb494fe333e872add",
       "max": 586.0,
       "min": 0.0,
       "orientation": "horizontal",
       "style": "IPY_MODEL_32e3f0876e45441bad50c35324a8a37f",
       "value": 586.0
      }
     }
    },
    "version_major": 2,
    "version_minor": 0
   }
  }
 },
 "nbformat": 4,
 "nbformat_minor": 5
}
